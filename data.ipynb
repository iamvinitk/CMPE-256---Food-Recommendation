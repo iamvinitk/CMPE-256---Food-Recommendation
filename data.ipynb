{
 "cells": [
  {
   "cell_type": "code",
   "execution_count": 27,
   "metadata": {},
   "outputs": [],
   "source": [
    "import pandas as pd\n",
    "import numpy as np\n",
    "import matplotlib.pyplot as plt\n",
    "from sklearn.preprocessing import MinMaxScaler\n",
    "from sklearn.preprocessing import LabelEncoder\n",
    "from sklearn.feature_extraction.text import TfidfVectorizer"
   ]
  },
  {
   "cell_type": "code",
   "execution_count": 28,
   "metadata": {},
   "outputs": [
    {
     "data": {
      "text/html": [
       "<div>\n",
       "<style scoped>\n",
       "    .dataframe tbody tr th:only-of-type {\n",
       "        vertical-align: middle;\n",
       "    }\n",
       "\n",
       "    .dataframe tbody tr th {\n",
       "        vertical-align: top;\n",
       "    }\n",
       "\n",
       "    .dataframe thead th {\n",
       "        text-align: right;\n",
       "    }\n",
       "</style>\n",
       "<table border=\"1\" class=\"dataframe\">\n",
       "  <thead>\n",
       "    <tr style=\"text-align: right;\">\n",
       "      <th></th>\n",
       "      <th>user_id</th>\n",
       "      <th>recipe_id</th>\n",
       "      <th>date</th>\n",
       "      <th>rating</th>\n",
       "      <th>review</th>\n",
       "      <th>name</th>\n",
       "      <th>minutes</th>\n",
       "      <th>contributor_id</th>\n",
       "      <th>submitted</th>\n",
       "      <th>tags</th>\n",
       "      <th>...</th>\n",
       "      <th>sugar</th>\n",
       "      <th>sodium</th>\n",
       "      <th>protein</th>\n",
       "      <th>saturated_fat</th>\n",
       "      <th>carbohydrates</th>\n",
       "      <th>food_types</th>\n",
       "      <th>negative</th>\n",
       "      <th>neutral</th>\n",
       "      <th>positive</th>\n",
       "      <th>compound</th>\n",
       "    </tr>\n",
       "  </thead>\n",
       "  <tbody>\n",
       "    <tr>\n",
       "      <th>0</th>\n",
       "      <td>7708</td>\n",
       "      <td>60599</td>\n",
       "      <td>2005-09-02</td>\n",
       "      <td>4</td>\n",
       "      <td>very good</td>\n",
       "      <td>kfc honey bbq strips</td>\n",
       "      <td>40</td>\n",
       "      <td>166019</td>\n",
       "      <td>2005-08-24</td>\n",
       "      <td>60-minutes-or-less, time-to-make, main-ingredi...</td>\n",
       "      <td>...</td>\n",
       "      <td>40.0</td>\n",
       "      <td>37.0</td>\n",
       "      <td>78.0</td>\n",
       "      <td>4.0</td>\n",
       "      <td>10.0</td>\n",
       "      <td>Non-veg</td>\n",
       "      <td>0.0</td>\n",
       "      <td>0.238</td>\n",
       "      <td>0.762</td>\n",
       "      <td>0.4927</td>\n",
       "    </tr>\n",
       "    <tr>\n",
       "      <th>1</th>\n",
       "      <td>27707</td>\n",
       "      <td>60599</td>\n",
       "      <td>2005-12-22</td>\n",
       "      <td>5</td>\n",
       "      <td>better than the real</td>\n",
       "      <td>kfc honey bbq strips</td>\n",
       "      <td>40</td>\n",
       "      <td>166019</td>\n",
       "      <td>2005-08-24</td>\n",
       "      <td>60-minutes-or-less, time-to-make, main-ingredi...</td>\n",
       "      <td>...</td>\n",
       "      <td>40.0</td>\n",
       "      <td>37.0</td>\n",
       "      <td>78.0</td>\n",
       "      <td>4.0</td>\n",
       "      <td>10.0</td>\n",
       "      <td>Non-veg</td>\n",
       "      <td>0.0</td>\n",
       "      <td>0.508</td>\n",
       "      <td>0.492</td>\n",
       "      <td>0.4404</td>\n",
       "    </tr>\n",
       "    <tr>\n",
       "      <th>2</th>\n",
       "      <td>35308</td>\n",
       "      <td>60599</td>\n",
       "      <td>2006-09-26</td>\n",
       "      <td>5</td>\n",
       "      <td>absolutely awesome i was speechless when i tri...</td>\n",
       "      <td>kfc honey bbq strips</td>\n",
       "      <td>40</td>\n",
       "      <td>166019</td>\n",
       "      <td>2005-08-24</td>\n",
       "      <td>60-minutes-or-less, time-to-make, main-ingredi...</td>\n",
       "      <td>...</td>\n",
       "      <td>40.0</td>\n",
       "      <td>37.0</td>\n",
       "      <td>78.0</td>\n",
       "      <td>4.0</td>\n",
       "      <td>10.0</td>\n",
       "      <td>Non-veg</td>\n",
       "      <td>0.0</td>\n",
       "      <td>0.883</td>\n",
       "      <td>0.117</td>\n",
       "      <td>0.6590</td>\n",
       "    </tr>\n",
       "    <tr>\n",
       "      <th>3</th>\n",
       "      <td>19399</td>\n",
       "      <td>60599</td>\n",
       "      <td>2007-03-09</td>\n",
       "      <td>5</td>\n",
       "      <td>these taste absolutely wonderful my son in law...</td>\n",
       "      <td>kfc honey bbq strips</td>\n",
       "      <td>40</td>\n",
       "      <td>166019</td>\n",
       "      <td>2005-08-24</td>\n",
       "      <td>60-minutes-or-less, time-to-make, main-ingredi...</td>\n",
       "      <td>...</td>\n",
       "      <td>40.0</td>\n",
       "      <td>37.0</td>\n",
       "      <td>78.0</td>\n",
       "      <td>4.0</td>\n",
       "      <td>10.0</td>\n",
       "      <td>Non-veg</td>\n",
       "      <td>0.0</td>\n",
       "      <td>0.675</td>\n",
       "      <td>0.325</td>\n",
       "      <td>0.8908</td>\n",
       "    </tr>\n",
       "    <tr>\n",
       "      <th>4</th>\n",
       "      <td>43887</td>\n",
       "      <td>60599</td>\n",
       "      <td>2008-02-20</td>\n",
       "      <td>0</td>\n",
       "      <td>made my own buttermilk w vinegar and milk. use...</td>\n",
       "      <td>kfc honey bbq strips</td>\n",
       "      <td>40</td>\n",
       "      <td>166019</td>\n",
       "      <td>2005-08-24</td>\n",
       "      <td>60-minutes-or-less, time-to-make, main-ingredi...</td>\n",
       "      <td>...</td>\n",
       "      <td>40.0</td>\n",
       "      <td>37.0</td>\n",
       "      <td>78.0</td>\n",
       "      <td>4.0</td>\n",
       "      <td>10.0</td>\n",
       "      <td>Non-veg</td>\n",
       "      <td>0.0</td>\n",
       "      <td>0.929</td>\n",
       "      <td>0.071</td>\n",
       "      <td>0.4588</td>\n",
       "    </tr>\n",
       "  </tbody>\n",
       "</table>\n",
       "<p>5 rows × 27 columns</p>\n",
       "</div>"
      ],
      "text/plain": [
       "   user_id  recipe_id        date  rating   \n",
       "0     7708      60599  2005-09-02       4  \\\n",
       "1    27707      60599  2005-12-22       5   \n",
       "2    35308      60599  2006-09-26       5   \n",
       "3    19399      60599  2007-03-09       5   \n",
       "4    43887      60599  2008-02-20       0   \n",
       "\n",
       "                                              review                  name   \n",
       "0                                          very good  kfc honey bbq strips  \\\n",
       "1                               better than the real  kfc honey bbq strips   \n",
       "2  absolutely awesome i was speechless when i tri...  kfc honey bbq strips   \n",
       "3  these taste absolutely wonderful my son in law...  kfc honey bbq strips   \n",
       "4  made my own buttermilk w vinegar and milk. use...  kfc honey bbq strips   \n",
       "\n",
       "   minutes  contributor_id   submitted   \n",
       "0       40          166019  2005-08-24  \\\n",
       "1       40          166019  2005-08-24   \n",
       "2       40          166019  2005-08-24   \n",
       "3       40          166019  2005-08-24   \n",
       "4       40          166019  2005-08-24   \n",
       "\n",
       "                                                tags  ...  sugar sodium   \n",
       "0  60-minutes-or-less, time-to-make, main-ingredi...  ...   40.0   37.0  \\\n",
       "1  60-minutes-or-less, time-to-make, main-ingredi...  ...   40.0   37.0   \n",
       "2  60-minutes-or-less, time-to-make, main-ingredi...  ...   40.0   37.0   \n",
       "3  60-minutes-or-less, time-to-make, main-ingredi...  ...   40.0   37.0   \n",
       "4  60-minutes-or-less, time-to-make, main-ingredi...  ...   40.0   37.0   \n",
       "\n",
       "  protein saturated_fat  carbohydrates  food_types  negative  neutral   \n",
       "0    78.0           4.0           10.0     Non-veg       0.0    0.238  \\\n",
       "1    78.0           4.0           10.0     Non-veg       0.0    0.508   \n",
       "2    78.0           4.0           10.0     Non-veg       0.0    0.883   \n",
       "3    78.0           4.0           10.0     Non-veg       0.0    0.675   \n",
       "4    78.0           4.0           10.0     Non-veg       0.0    0.929   \n",
       "\n",
       "   positive  compound  \n",
       "0     0.762    0.4927  \n",
       "1     0.492    0.4404  \n",
       "2     0.117    0.6590  \n",
       "3     0.325    0.8908  \n",
       "4     0.071    0.4588  \n",
       "\n",
       "[5 rows x 27 columns]"
      ]
     },
     "execution_count": 28,
     "metadata": {},
     "output_type": "execute_result"
    }
   ],
   "source": [
    "df = pd.read_csv('dataset/preprocessed_data.csv')\n",
    "df.head()"
   ]
  },
  {
   "cell_type": "code",
   "execution_count": 29,
   "metadata": {},
   "outputs": [],
   "source": [
    "df = df[['minutes', 'n_steps', 'ingredients', 'n_ingredients', 'calories', 'total_fat', 'sugar', 'sodium', 'protein', 'saturated_fat', 'carbohydrates', 'food_types', 'name', 'tags', 'steps', 'description', 'compound', 'recipe_id']]"
   ]
  },
  {
   "cell_type": "code",
   "execution_count": 30,
   "metadata": {},
   "outputs": [
    {
     "data": {
      "text/plain": [
       "43623"
      ]
     },
     "execution_count": 30,
     "metadata": {},
     "output_type": "execute_result"
    }
   ],
   "source": [
    "df.duplicated().sum()"
   ]
  },
  {
   "cell_type": "code",
   "execution_count": 31,
   "metadata": {},
   "outputs": [],
   "source": [
    "df = df.drop_duplicates()"
   ]
  },
  {
   "cell_type": "code",
   "execution_count": 32,
   "metadata": {},
   "outputs": [],
   "source": [
    "numerical_columns = ['minutes', 'n_steps', 'n_ingredients', 'calories', 'total_fat', 'sugar', 'sodium', 'protein', 'saturated_fat', 'carbohydrates', 'compound']\n",
    "category_columns = ['food_types']\n",
    "text_columns = ['ingredients', 'name', 'tags', 'steps', 'description']"
   ]
  },
  {
   "cell_type": "code",
   "execution_count": 33,
   "metadata": {},
   "outputs": [],
   "source": [
    "label_encoder = LabelEncoder()\n",
    "df['food_types'] = label_encoder.fit_transform(df['food_types'])"
   ]
  },
  {
   "cell_type": "code",
   "execution_count": 34,
   "metadata": {},
   "outputs": [],
   "source": [
    "# vectorize the text columns\n",
    "ingredient_vectorizer = TfidfVectorizer(max_features=20)\n",
    "ingredients = ingredient_vectorizer.fit_transform(df['ingredients'])"
   ]
  },
  {
   "cell_type": "code",
   "execution_count": 35,
   "metadata": {},
   "outputs": [
    {
     "data": {
      "text/plain": [
       "<898745x20 sparse matrix of type '<class 'numpy.float64'>'\n",
       "\twith 4643489 stored elements in Compressed Sparse Row format>"
      ]
     },
     "execution_count": 35,
     "metadata": {},
     "output_type": "execute_result"
    }
   ],
   "source": [
    "ingredients"
   ]
  },
  {
   "cell_type": "code",
   "execution_count": 36,
   "metadata": {},
   "outputs": [
    {
     "data": {
      "text/plain": [
       "<898745x20 sparse matrix of type '<class 'numpy.float64'>'\n",
       "\twith 800442 stored elements in Compressed Sparse Row format>"
      ]
     },
     "execution_count": 36,
     "metadata": {},
     "output_type": "execute_result"
    }
   ],
   "source": [
    "name_vectorizer = TfidfVectorizer(max_features=20)\n",
    "names = name_vectorizer.fit_transform(df['name'])\n",
    "names"
   ]
  },
  {
   "cell_type": "code",
   "execution_count": 37,
   "metadata": {},
   "outputs": [
    {
     "data": {
      "text/plain": [
       "<898745x20 sparse matrix of type '<class 'numpy.float64'>'\n",
       "\twith 12422082 stored elements in Compressed Sparse Row format>"
      ]
     },
     "execution_count": 37,
     "metadata": {},
     "output_type": "execute_result"
    }
   ],
   "source": [
    "tags_vectorizer = TfidfVectorizer(max_features=20)\n",
    "df['tags'] = df['tags'].astype(str)\n",
    "tags = tags_vectorizer.fit_transform(df['tags'])\n",
    "tags"
   ]
  },
  {
   "cell_type": "code",
   "execution_count": 38,
   "metadata": {},
   "outputs": [
    {
     "data": {
      "text/plain": [
       "<898745x30 sparse matrix of type '<class 'numpy.float64'>'\n",
       "\twith 13410042 stored elements in Compressed Sparse Row format>"
      ]
     },
     "execution_count": 38,
     "metadata": {},
     "output_type": "execute_result"
    }
   ],
   "source": [
    "steps_vectorizer = TfidfVectorizer(max_features=30)\n",
    "df['steps'] = df['steps'].astype(str)\n",
    "steps = steps_vectorizer.fit_transform(df['steps'])\n",
    "steps"
   ]
  },
  {
   "cell_type": "code",
   "execution_count": 39,
   "metadata": {},
   "outputs": [
    {
     "data": {
      "text/plain": [
       "0         these are so yummy and they do taste just like...\n",
       "1         these are so yummy and they do taste just like...\n",
       "2         these are so yummy and they do taste just like...\n",
       "3         these are so yummy and they do taste just like...\n",
       "4         these are so yummy and they do taste just like...\n",
       "                                ...                        \n",
       "942363    garlic and chicken what could be better, the c...\n",
       "942364    my friend stacey significantly modified a reci...\n",
       "942365    this is a recipe from the frugal gourmet cooki...\n",
       "942366    this is a recipe from the frugal gourmet cooki...\n",
       "942367    this is a recipe from the frugal gourmet cooki...\n",
       "Name: description, Length: 898745, dtype: object"
      ]
     },
     "execution_count": 39,
     "metadata": {},
     "output_type": "execute_result"
    }
   ],
   "source": [
    "df['description']"
   ]
  },
  {
   "cell_type": "code",
   "execution_count": 40,
   "metadata": {},
   "outputs": [
    {
     "data": {
      "text/plain": [
       "<898745x10 sparse matrix of type '<class 'numpy.float64'>'\n",
       "\twith 4435394 stored elements in Compressed Sparse Row format>"
      ]
     },
     "execution_count": 40,
     "metadata": {},
     "output_type": "execute_result"
    }
   ],
   "source": [
    "description_vectorizer = TfidfVectorizer(max_features=10)\n",
    "df['description'] = df['description'].astype(str)\n",
    "description = description_vectorizer.fit_transform(df['description'])\n",
    "description"
   ]
  },
  {
   "cell_type": "code",
   "execution_count": 41,
   "metadata": {},
   "outputs": [
    {
     "data": {
      "text/plain": [
       "scipy.sparse._csr.csr_matrix"
      ]
     },
     "execution_count": 41,
     "metadata": {},
     "output_type": "execute_result"
    }
   ],
   "source": [
    "type(description)"
   ]
  },
  {
   "cell_type": "code",
   "execution_count": 42,
   "metadata": {},
   "outputs": [],
   "source": [
    "# scale the numerical columns\n",
    "scaler = MinMaxScaler()\n",
    "all_columns = numerical_columns + category_columns\n",
    "df[all_columns] = scaler.fit_transform(df[all_columns])"
   ]
  },
  {
   "cell_type": "code",
   "execution_count": 43,
   "metadata": {},
   "outputs": [
    {
     "data": {
      "text/html": [
       "<div>\n",
       "<style scoped>\n",
       "    .dataframe tbody tr th:only-of-type {\n",
       "        vertical-align: middle;\n",
       "    }\n",
       "\n",
       "    .dataframe tbody tr th {\n",
       "        vertical-align: top;\n",
       "    }\n",
       "\n",
       "    .dataframe thead th {\n",
       "        text-align: right;\n",
       "    }\n",
       "</style>\n",
       "<table border=\"1\" class=\"dataframe\">\n",
       "  <thead>\n",
       "    <tr style=\"text-align: right;\">\n",
       "      <th></th>\n",
       "      <th>minutes</th>\n",
       "      <th>n_steps</th>\n",
       "      <th>ingredients</th>\n",
       "      <th>n_ingredients</th>\n",
       "      <th>calories</th>\n",
       "      <th>total_fat</th>\n",
       "      <th>sugar</th>\n",
       "      <th>sodium</th>\n",
       "      <th>protein</th>\n",
       "      <th>saturated_fat</th>\n",
       "      <th>carbohydrates</th>\n",
       "      <th>food_types</th>\n",
       "      <th>name</th>\n",
       "      <th>tags</th>\n",
       "      <th>steps</th>\n",
       "      <th>description</th>\n",
       "      <th>compound</th>\n",
       "      <th>recipe_id</th>\n",
       "    </tr>\n",
       "  </thead>\n",
       "  <tbody>\n",
       "    <tr>\n",
       "      <th>0</th>\n",
       "      <td>0.170213</td>\n",
       "      <td>0.103093</td>\n",
       "      <td>chicken tenders, flour, garlic powder, salt, g...</td>\n",
       "      <td>0.261905</td>\n",
       "      <td>0.078838</td>\n",
       "      <td>0.024845</td>\n",
       "      <td>0.08658</td>\n",
       "      <td>0.127148</td>\n",
       "      <td>0.590909</td>\n",
       "      <td>0.027211</td>\n",
       "      <td>0.227273</td>\n",
       "      <td>0.5</td>\n",
       "      <td>kfc honey bbq strips</td>\n",
       "      <td>60-minutes-or-less, time-to-make, main-ingredi...</td>\n",
       "      <td>mix flour, salt and pepper in bowl\\nset aside\\...</td>\n",
       "      <td>these are so yummy and they do taste just like...</td>\n",
       "      <td>0.745452</td>\n",
       "      <td>60599</td>\n",
       "    </tr>\n",
       "    <tr>\n",
       "      <th>1</th>\n",
       "      <td>0.170213</td>\n",
       "      <td>0.103093</td>\n",
       "      <td>chicken tenders, flour, garlic powder, salt, g...</td>\n",
       "      <td>0.261905</td>\n",
       "      <td>0.078838</td>\n",
       "      <td>0.024845</td>\n",
       "      <td>0.08658</td>\n",
       "      <td>0.127148</td>\n",
       "      <td>0.590909</td>\n",
       "      <td>0.027211</td>\n",
       "      <td>0.227273</td>\n",
       "      <td>0.5</td>\n",
       "      <td>kfc honey bbq strips</td>\n",
       "      <td>60-minutes-or-less, time-to-make, main-ingredi...</td>\n",
       "      <td>mix flour, salt and pepper in bowl\\nset aside\\...</td>\n",
       "      <td>these are so yummy and they do taste just like...</td>\n",
       "      <td>0.719168</td>\n",
       "      <td>60599</td>\n",
       "    </tr>\n",
       "    <tr>\n",
       "      <th>2</th>\n",
       "      <td>0.170213</td>\n",
       "      <td>0.103093</td>\n",
       "      <td>chicken tenders, flour, garlic powder, salt, g...</td>\n",
       "      <td>0.261905</td>\n",
       "      <td>0.078838</td>\n",
       "      <td>0.024845</td>\n",
       "      <td>0.08658</td>\n",
       "      <td>0.127148</td>\n",
       "      <td>0.590909</td>\n",
       "      <td>0.027211</td>\n",
       "      <td>0.227273</td>\n",
       "      <td>0.5</td>\n",
       "      <td>kfc honey bbq strips</td>\n",
       "      <td>60-minutes-or-less, time-to-make, main-ingredi...</td>\n",
       "      <td>mix flour, salt and pepper in bowl\\nset aside\\...</td>\n",
       "      <td>these are so yummy and they do taste just like...</td>\n",
       "      <td>0.829028</td>\n",
       "      <td>60599</td>\n",
       "    </tr>\n",
       "    <tr>\n",
       "      <th>3</th>\n",
       "      <td>0.170213</td>\n",
       "      <td>0.103093</td>\n",
       "      <td>chicken tenders, flour, garlic powder, salt, g...</td>\n",
       "      <td>0.261905</td>\n",
       "      <td>0.078838</td>\n",
       "      <td>0.024845</td>\n",
       "      <td>0.08658</td>\n",
       "      <td>0.127148</td>\n",
       "      <td>0.590909</td>\n",
       "      <td>0.027211</td>\n",
       "      <td>0.227273</td>\n",
       "      <td>0.5</td>\n",
       "      <td>kfc honey bbq strips</td>\n",
       "      <td>60-minutes-or-less, time-to-make, main-ingredi...</td>\n",
       "      <td>mix flour, salt and pepper in bowl\\nset aside\\...</td>\n",
       "      <td>these are so yummy and they do taste just like...</td>\n",
       "      <td>0.945522</td>\n",
       "      <td>60599</td>\n",
       "    </tr>\n",
       "    <tr>\n",
       "      <th>4</th>\n",
       "      <td>0.170213</td>\n",
       "      <td>0.103093</td>\n",
       "      <td>chicken tenders, flour, garlic powder, salt, g...</td>\n",
       "      <td>0.261905</td>\n",
       "      <td>0.078838</td>\n",
       "      <td>0.024845</td>\n",
       "      <td>0.08658</td>\n",
       "      <td>0.127148</td>\n",
       "      <td>0.590909</td>\n",
       "      <td>0.027211</td>\n",
       "      <td>0.227273</td>\n",
       "      <td>0.5</td>\n",
       "      <td>kfc honey bbq strips</td>\n",
       "      <td>60-minutes-or-less, time-to-make, main-ingredi...</td>\n",
       "      <td>mix flour, salt and pepper in bowl\\nset aside\\...</td>\n",
       "      <td>these are so yummy and they do taste just like...</td>\n",
       "      <td>0.728415</td>\n",
       "      <td>60599</td>\n",
       "    </tr>\n",
       "  </tbody>\n",
       "</table>\n",
       "</div>"
      ],
      "text/plain": [
       "    minutes   n_steps                                        ingredients   \n",
       "0  0.170213  0.103093  chicken tenders, flour, garlic powder, salt, g...  \\\n",
       "1  0.170213  0.103093  chicken tenders, flour, garlic powder, salt, g...   \n",
       "2  0.170213  0.103093  chicken tenders, flour, garlic powder, salt, g...   \n",
       "3  0.170213  0.103093  chicken tenders, flour, garlic powder, salt, g...   \n",
       "4  0.170213  0.103093  chicken tenders, flour, garlic powder, salt, g...   \n",
       "\n",
       "   n_ingredients  calories  total_fat    sugar    sodium   protein   \n",
       "0       0.261905  0.078838   0.024845  0.08658  0.127148  0.590909  \\\n",
       "1       0.261905  0.078838   0.024845  0.08658  0.127148  0.590909   \n",
       "2       0.261905  0.078838   0.024845  0.08658  0.127148  0.590909   \n",
       "3       0.261905  0.078838   0.024845  0.08658  0.127148  0.590909   \n",
       "4       0.261905  0.078838   0.024845  0.08658  0.127148  0.590909   \n",
       "\n",
       "   saturated_fat  carbohydrates  food_types                  name   \n",
       "0       0.027211       0.227273         0.5  kfc honey bbq strips  \\\n",
       "1       0.027211       0.227273         0.5  kfc honey bbq strips   \n",
       "2       0.027211       0.227273         0.5  kfc honey bbq strips   \n",
       "3       0.027211       0.227273         0.5  kfc honey bbq strips   \n",
       "4       0.027211       0.227273         0.5  kfc honey bbq strips   \n",
       "\n",
       "                                                tags   \n",
       "0  60-minutes-or-less, time-to-make, main-ingredi...  \\\n",
       "1  60-minutes-or-less, time-to-make, main-ingredi...   \n",
       "2  60-minutes-or-less, time-to-make, main-ingredi...   \n",
       "3  60-minutes-or-less, time-to-make, main-ingredi...   \n",
       "4  60-minutes-or-less, time-to-make, main-ingredi...   \n",
       "\n",
       "                                               steps   \n",
       "0  mix flour, salt and pepper in bowl\\nset aside\\...  \\\n",
       "1  mix flour, salt and pepper in bowl\\nset aside\\...   \n",
       "2  mix flour, salt and pepper in bowl\\nset aside\\...   \n",
       "3  mix flour, salt and pepper in bowl\\nset aside\\...   \n",
       "4  mix flour, salt and pepper in bowl\\nset aside\\...   \n",
       "\n",
       "                                         description  compound  recipe_id  \n",
       "0  these are so yummy and they do taste just like...  0.745452      60599  \n",
       "1  these are so yummy and they do taste just like...  0.719168      60599  \n",
       "2  these are so yummy and they do taste just like...  0.829028      60599  \n",
       "3  these are so yummy and they do taste just like...  0.945522      60599  \n",
       "4  these are so yummy and they do taste just like...  0.728415      60599  "
      ]
     },
     "execution_count": 43,
     "metadata": {},
     "output_type": "execute_result"
    }
   ],
   "source": [
    "df.head()"
   ]
  },
  {
   "cell_type": "code",
   "execution_count": 47,
   "metadata": {},
   "outputs": [],
   "source": [
    "# drop the text columns\n",
    "df = df.drop(text_columns, axis=1)"
   ]
  },
  {
   "cell_type": "code",
   "execution_count": 48,
   "metadata": {},
   "outputs": [
    {
     "data": {
      "text/html": [
       "<div>\n",
       "<style scoped>\n",
       "    .dataframe tbody tr th:only-of-type {\n",
       "        vertical-align: middle;\n",
       "    }\n",
       "\n",
       "    .dataframe tbody tr th {\n",
       "        vertical-align: top;\n",
       "    }\n",
       "\n",
       "    .dataframe thead th {\n",
       "        text-align: right;\n",
       "    }\n",
       "</style>\n",
       "<table border=\"1\" class=\"dataframe\">\n",
       "  <thead>\n",
       "    <tr style=\"text-align: right;\">\n",
       "      <th></th>\n",
       "      <th>minutes</th>\n",
       "      <th>n_steps</th>\n",
       "      <th>n_ingredients</th>\n",
       "      <th>calories</th>\n",
       "      <th>total_fat</th>\n",
       "      <th>sugar</th>\n",
       "      <th>sodium</th>\n",
       "      <th>protein</th>\n",
       "      <th>saturated_fat</th>\n",
       "      <th>carbohydrates</th>\n",
       "      <th>food_types</th>\n",
       "      <th>compound</th>\n",
       "      <th>recipe_id</th>\n",
       "    </tr>\n",
       "  </thead>\n",
       "  <tbody>\n",
       "    <tr>\n",
       "      <th>0</th>\n",
       "      <td>0.170213</td>\n",
       "      <td>0.103093</td>\n",
       "      <td>0.261905</td>\n",
       "      <td>0.078838</td>\n",
       "      <td>0.024845</td>\n",
       "      <td>0.08658</td>\n",
       "      <td>0.127148</td>\n",
       "      <td>0.590909</td>\n",
       "      <td>0.027211</td>\n",
       "      <td>0.227273</td>\n",
       "      <td>0.5</td>\n",
       "      <td>0.745452</td>\n",
       "      <td>60599</td>\n",
       "    </tr>\n",
       "    <tr>\n",
       "      <th>1</th>\n",
       "      <td>0.170213</td>\n",
       "      <td>0.103093</td>\n",
       "      <td>0.261905</td>\n",
       "      <td>0.078838</td>\n",
       "      <td>0.024845</td>\n",
       "      <td>0.08658</td>\n",
       "      <td>0.127148</td>\n",
       "      <td>0.590909</td>\n",
       "      <td>0.027211</td>\n",
       "      <td>0.227273</td>\n",
       "      <td>0.5</td>\n",
       "      <td>0.719168</td>\n",
       "      <td>60599</td>\n",
       "    </tr>\n",
       "    <tr>\n",
       "      <th>2</th>\n",
       "      <td>0.170213</td>\n",
       "      <td>0.103093</td>\n",
       "      <td>0.261905</td>\n",
       "      <td>0.078838</td>\n",
       "      <td>0.024845</td>\n",
       "      <td>0.08658</td>\n",
       "      <td>0.127148</td>\n",
       "      <td>0.590909</td>\n",
       "      <td>0.027211</td>\n",
       "      <td>0.227273</td>\n",
       "      <td>0.5</td>\n",
       "      <td>0.829028</td>\n",
       "      <td>60599</td>\n",
       "    </tr>\n",
       "    <tr>\n",
       "      <th>3</th>\n",
       "      <td>0.170213</td>\n",
       "      <td>0.103093</td>\n",
       "      <td>0.261905</td>\n",
       "      <td>0.078838</td>\n",
       "      <td>0.024845</td>\n",
       "      <td>0.08658</td>\n",
       "      <td>0.127148</td>\n",
       "      <td>0.590909</td>\n",
       "      <td>0.027211</td>\n",
       "      <td>0.227273</td>\n",
       "      <td>0.5</td>\n",
       "      <td>0.945522</td>\n",
       "      <td>60599</td>\n",
       "    </tr>\n",
       "    <tr>\n",
       "      <th>4</th>\n",
       "      <td>0.170213</td>\n",
       "      <td>0.103093</td>\n",
       "      <td>0.261905</td>\n",
       "      <td>0.078838</td>\n",
       "      <td>0.024845</td>\n",
       "      <td>0.08658</td>\n",
       "      <td>0.127148</td>\n",
       "      <td>0.590909</td>\n",
       "      <td>0.027211</td>\n",
       "      <td>0.227273</td>\n",
       "      <td>0.5</td>\n",
       "      <td>0.728415</td>\n",
       "      <td>60599</td>\n",
       "    </tr>\n",
       "  </tbody>\n",
       "</table>\n",
       "</div>"
      ],
      "text/plain": [
       "    minutes   n_steps  n_ingredients  calories  total_fat    sugar    sodium   \n",
       "0  0.170213  0.103093       0.261905  0.078838   0.024845  0.08658  0.127148  \\\n",
       "1  0.170213  0.103093       0.261905  0.078838   0.024845  0.08658  0.127148   \n",
       "2  0.170213  0.103093       0.261905  0.078838   0.024845  0.08658  0.127148   \n",
       "3  0.170213  0.103093       0.261905  0.078838   0.024845  0.08658  0.127148   \n",
       "4  0.170213  0.103093       0.261905  0.078838   0.024845  0.08658  0.127148   \n",
       "\n",
       "    protein  saturated_fat  carbohydrates  food_types  compound  recipe_id  \n",
       "0  0.590909       0.027211       0.227273         0.5  0.745452      60599  \n",
       "1  0.590909       0.027211       0.227273         0.5  0.719168      60599  \n",
       "2  0.590909       0.027211       0.227273         0.5  0.829028      60599  \n",
       "3  0.590909       0.027211       0.227273         0.5  0.945522      60599  \n",
       "4  0.590909       0.027211       0.227273         0.5  0.728415      60599  "
      ]
     },
     "execution_count": 48,
     "metadata": {},
     "output_type": "execute_result"
    }
   ],
   "source": [
    "df.head()"
   ]
  },
  {
   "cell_type": "code",
   "execution_count": 49,
   "metadata": {},
   "outputs": [],
   "source": [
    "df.to_csv('dataset/scaled_data.csv', index=False)"
   ]
  },
  {
   "cell_type": "code",
   "execution_count": 50,
   "metadata": {},
   "outputs": [],
   "source": [
    "# merge the text columns and the numerical columns into a numpy array\n",
    "from scipy.sparse import hstack\n",
    "X = hstack((ingredients, names, tags, steps, description, df.values))"
   ]
  },
  {
   "cell_type": "code",
   "execution_count": 51,
   "metadata": {},
   "outputs": [
    {
     "data": {
      "text/plain": [
       "(898745, 113)"
      ]
     },
     "execution_count": 51,
     "metadata": {},
     "output_type": "execute_result"
    }
   ],
   "source": [
    "X.shape"
   ]
  },
  {
   "cell_type": "code",
   "execution_count": 52,
   "metadata": {},
   "outputs": [
    {
     "data": {
      "text/plain": [
       "array([0.00000000e+00, 0.00000000e+00, 0.00000000e+00, 3.73442795e-01,\n",
       "       0.00000000e+00, 3.08137755e-01, 0.00000000e+00, 2.88280333e-01,\n",
       "       3.35748837e-01, 0.00000000e+00, 0.00000000e+00, 2.79801995e-01,\n",
       "       0.00000000e+00, 0.00000000e+00, 2.50950438e-01, 3.40473067e-01,\n",
       "       2.10191594e-01, 3.75090955e-01, 0.00000000e+00, 3.57348363e-01,\n",
       "       0.00000000e+00, 0.00000000e+00, 0.00000000e+00, 0.00000000e+00,\n",
       "       0.00000000e+00, 0.00000000e+00, 0.00000000e+00, 0.00000000e+00,\n",
       "       0.00000000e+00, 0.00000000e+00, 0.00000000e+00, 0.00000000e+00,\n",
       "       0.00000000e+00, 0.00000000e+00, 0.00000000e+00, 0.00000000e+00,\n",
       "       0.00000000e+00, 0.00000000e+00, 0.00000000e+00, 0.00000000e+00,\n",
       "       0.00000000e+00, 0.00000000e+00, 0.00000000e+00, 1.43637533e-01,\n",
       "       0.00000000e+00, 0.00000000e+00, 0.00000000e+00, 4.40206401e-01,\n",
       "       1.47695147e-01, 1.16770788e-01, 6.78079437e-01, 1.45069522e-01,\n",
       "       1.16770529e-01, 1.45563758e-01, 0.00000000e+00, 1.16770659e-01,\n",
       "       1.16738181e-01, 4.24197378e-01, 1.16770659e-01, 1.16765851e-01,\n",
       "       0.00000000e+00, 0.00000000e+00, 4.19758253e-01, 9.51821336e-02,\n",
       "       1.91110207e-01, 0.00000000e+00, 0.00000000e+00, 2.09211562e-01,\n",
       "       9.20473615e-02, 5.50156200e-01, 0.00000000e+00, 0.00000000e+00,\n",
       "       0.00000000e+00, 1.34811777e-01, 9.53242503e-02, 0.00000000e+00,\n",
       "       0.00000000e+00, 2.16228339e-01, 8.74037826e-02, 0.00000000e+00,\n",
       "       1.02653306e-01, 0.00000000e+00, 2.13366984e-01, 5.17933429e-01,\n",
       "       9.28184643e-02, 0.00000000e+00, 0.00000000e+00, 0.00000000e+00,\n",
       "       6.56146969e-02, 6.64259934e-02, 1.00000000e+00, 0.00000000e+00,\n",
       "       0.00000000e+00, 0.00000000e+00, 0.00000000e+00, 0.00000000e+00,\n",
       "       0.00000000e+00, 0.00000000e+00, 0.00000000e+00, 0.00000000e+00,\n",
       "       1.70212766e-01, 1.03092784e-01, 2.61904762e-01, 7.88383813e-02,\n",
       "       2.48447205e-02, 8.65800866e-02, 1.27147766e-01, 5.90909091e-01,\n",
       "       2.72108844e-02, 2.27272727e-01, 5.00000000e-01, 7.45451804e-01,\n",
       "       6.05990000e+04])"
      ]
     },
     "execution_count": 52,
     "metadata": {},
     "output_type": "execute_result"
    }
   ],
   "source": [
    "X.toarray()[0]"
   ]
  },
  {
   "cell_type": "code",
   "execution_count": 53,
   "metadata": {},
   "outputs": [],
   "source": [
    "# Save X to a file\n",
    "from scipy.sparse import save_npz\n",
    "save_npz('dataset/sparse_data.npz', X)"
   ]
  },
  {
   "cell_type": "code",
   "execution_count": 104,
   "metadata": {},
   "outputs": [],
   "source": [
    "# Load X from a file\n",
    "from scipy.sparse import load_npz\n",
    "X = load_npz('dataset/sparse_data.npz')"
   ]
  },
  {
   "cell_type": "code",
   "execution_count": 105,
   "metadata": {},
   "outputs": [],
   "source": [
    "X = X.toarray()\n",
    "y = X[:, -1]\n",
    "X = X[:, :-1]"
   ]
  },
  {
   "cell_type": "code",
   "execution_count": 106,
   "metadata": {},
   "outputs": [
    {
     "name": "stdout",
     "output_type": "stream",
     "text": [
      "X shape:  (898745, 112)\n",
      "y shape:  (898745,)\n"
     ]
    }
   ],
   "source": [
    "print(\"X shape: \", X.shape)\n",
    "print(\"y shape: \", y.shape)"
   ]
  },
  {
   "cell_type": "code",
   "execution_count": 107,
   "metadata": {},
   "outputs": [
    {
     "data": {
      "text/plain": "array([0.        , 0.        , 0.        , 0.37344279, 0.        ,\n       0.30813776, 0.        , 0.28828033, 0.33574884, 0.        ,\n       0.        , 0.279802  , 0.        , 0.        , 0.25095044,\n       0.34047307, 0.21019159, 0.37509095, 0.        , 0.35734836,\n       0.        , 0.        , 0.        , 0.        , 0.        ,\n       0.        , 0.        , 0.        , 0.        , 0.        ,\n       0.        , 0.        , 0.        , 0.        , 0.        ,\n       0.        , 0.        , 0.        , 0.        , 0.        ,\n       0.        , 0.        , 0.        , 0.14363753, 0.        ,\n       0.        , 0.        , 0.4402064 , 0.14769515, 0.11677079,\n       0.67807944, 0.14506952, 0.11677053, 0.14556376, 0.        ,\n       0.11677066, 0.11673818, 0.42419738, 0.11677066, 0.11676585,\n       0.        , 0.        , 0.41975825, 0.09518213, 0.19111021,\n       0.        , 0.        , 0.20921156, 0.09204736, 0.5501562 ,\n       0.        , 0.        , 0.        , 0.13481178, 0.09532425,\n       0.        , 0.        , 0.21622834, 0.08740378, 0.        ,\n       0.10265331, 0.        , 0.21336698, 0.51793343, 0.09281846,\n       0.        , 0.        , 0.        , 0.0656147 , 0.06642599,\n       1.        , 0.        , 0.        , 0.        , 0.        ,\n       0.        , 0.        , 0.        , 0.        , 0.        ,\n       0.17021277, 0.10309278, 0.26190476, 0.07883838, 0.02484472,\n       0.08658009, 0.12714777, 0.59090909, 0.02721088, 0.22727273,\n       0.5       , 0.7454518 ])"
     },
     "execution_count": 107,
     "metadata": {},
     "output_type": "execute_result"
    }
   ],
   "source": [
    "X[0]"
   ]
  },
  {
   "cell_type": "code",
   "execution_count": 108,
   "metadata": {},
   "outputs": [
    {
     "data": {
      "text/plain": "60599.0"
     },
     "execution_count": 108,
     "metadata": {},
     "output_type": "execute_result"
    }
   ],
   "source": [
    "y[0]"
   ]
  },
  {
   "cell_type": "code",
   "execution_count": 76,
   "metadata": {},
   "outputs": [],
   "source": [
    "# convert y to a int array\n",
    "y = y.astype(int)"
   ]
  },
  {
   "cell_type": "code",
   "execution_count": 77,
   "outputs": [
    {
     "data": {
      "text/plain": "60599"
     },
     "execution_count": 77,
     "metadata": {},
     "output_type": "execute_result"
    }
   ],
   "source": [
    "y[0]"
   ],
   "metadata": {
    "collapsed": false
   }
  },
  {
   "cell_type": "code",
   "execution_count": 78,
   "outputs": [],
   "source": [
    "import faiss"
   ],
   "metadata": {
    "collapsed": false
   }
  },
  {
   "cell_type": "code",
   "execution_count": 79,
   "outputs": [],
   "source": [
    "# build the index\n",
    "index = faiss.IndexFlatL2(X.shape[1])"
   ],
   "metadata": {
    "collapsed": false
   }
  },
  {
   "cell_type": "code",
   "execution_count": 80,
   "outputs": [
    {
     "data": {
      "text/plain": "True"
     },
     "execution_count": 80,
     "metadata": {},
     "output_type": "execute_result"
    }
   ],
   "source": [
    "index.is_trained"
   ],
   "metadata": {
    "collapsed": false
   }
  },
  {
   "cell_type": "code",
   "execution_count": 81,
   "outputs": [],
   "source": [
    "index.add(X)"
   ],
   "metadata": {
    "collapsed": false
   }
  },
  {
   "cell_type": "code",
   "execution_count": 82,
   "outputs": [
    {
     "data": {
      "text/plain": "898745"
     },
     "execution_count": 82,
     "metadata": {},
     "output_type": "execute_result"
    }
   ],
   "source": [
    "index.ntotal"
   ],
   "metadata": {
    "collapsed": false
   }
  },
  {
   "cell_type": "code",
   "execution_count": 83,
   "outputs": [],
   "source": [
    "# search for the nearest neighbors\n",
    "recipe_id = 60599\n",
    "# find the index of the recipe_id from the y array\n",
    "recipe_index = np.where(y == recipe_id)[0][0]"
   ],
   "metadata": {
    "collapsed": false
   }
  },
  {
   "cell_type": "code",
   "execution_count": 84,
   "outputs": [
    {
     "data": {
      "text/plain": "0"
     },
     "execution_count": 84,
     "metadata": {},
     "output_type": "execute_result"
    }
   ],
   "source": [
    "recipe_index"
   ],
   "metadata": {
    "collapsed": false
   }
  },
  {
   "cell_type": "code",
   "execution_count": 85,
   "outputs": [],
   "source": [
    "# get the vector of the recipe\n",
    "recipe_vector = X[recipe_index]"
   ],
   "metadata": {
    "collapsed": false
   }
  },
  {
   "cell_type": "code",
   "execution_count": 86,
   "outputs": [
    {
     "data": {
      "text/plain": "array([0.        , 0.        , 0.        , 0.37344279, 0.        ,\n       0.30813776, 0.        , 0.28828033, 0.33574884, 0.        ,\n       0.        , 0.279802  , 0.        , 0.        , 0.25095044,\n       0.34047307, 0.21019159, 0.37509095, 0.        , 0.35734836,\n       0.        , 0.        , 0.        , 0.        , 0.        ,\n       0.        , 0.        , 0.        , 0.        , 0.        ,\n       0.        , 0.        , 0.        , 0.        , 0.        ,\n       0.        , 0.        , 0.        , 0.        , 0.        ,\n       0.        , 0.        , 0.        , 0.14363753, 0.        ,\n       0.        , 0.        , 0.4402064 , 0.14769515, 0.11677079,\n       0.67807944, 0.14506952, 0.11677053, 0.14556376, 0.        ,\n       0.11677066, 0.11673818, 0.42419738, 0.11677066, 0.11676585,\n       0.        , 0.        , 0.41975825, 0.09518213, 0.19111021,\n       0.        , 0.        , 0.20921156, 0.09204736, 0.5501562 ,\n       0.        , 0.        , 0.        , 0.13481178, 0.09532425,\n       0.        , 0.        , 0.21622834, 0.08740378, 0.        ,\n       0.10265331, 0.        , 0.21336698, 0.51793343, 0.09281846,\n       0.        , 0.        , 0.        , 0.0656147 , 0.06642599,\n       1.        , 0.        , 0.        , 0.        , 0.        ,\n       0.        , 0.        , 0.        , 0.        , 0.        ,\n       0.17021277, 0.10309278, 0.26190476, 0.07883838, 0.02484472,\n       0.08658009, 0.12714777, 0.59090909, 0.02721088, 0.22727273,\n       0.5       , 0.7454518 ])"
     },
     "execution_count": 86,
     "metadata": {},
     "output_type": "execute_result"
    }
   ],
   "source": [
    "recipe_vector"
   ],
   "metadata": {
    "collapsed": false
   }
  },
  {
   "cell_type": "code",
   "execution_count": 92,
   "outputs": [],
   "source": [
    "# search for the nearest neighbors\n",
    "k = 100\n",
    "D, I = index.search(np.array([recipe_vector]), k)"
   ],
   "metadata": {
    "collapsed": false
   }
  },
  {
   "cell_type": "code",
   "execution_count": 93,
   "outputs": [
    {
     "data": {
      "text/plain": "array([[0.0000000e+00, 2.9025646e-04, 6.9085072e-04, 6.9849915e-03,\n        1.0885185e-02, 4.0028159e-02, 4.8853047e-02, 1.8840958e+00,\n        1.9026941e+00, 1.9123696e+00, 1.9588933e+00, 1.9727566e+00,\n        2.0061276e+00, 2.0770907e+00, 2.1062837e+00, 2.1114635e+00,\n        2.1400244e+00, 2.1481516e+00, 2.1632843e+00, 2.1749322e+00,\n        2.1801038e+00, 2.1880136e+00, 2.1928024e+00, 2.2117958e+00,\n        2.2205505e+00, 2.2259893e+00, 2.2267394e+00, 2.2484381e+00,\n        2.2489760e+00, 2.2494195e+00, 2.2508240e+00, 2.2515721e+00,\n        2.2557635e+00, 2.2577789e+00, 2.2701278e+00, 2.2701890e+00,\n        2.2709625e+00, 2.2755778e+00, 2.2801380e+00, 2.2804685e+00,\n        2.2808008e+00, 2.2811487e+00, 2.2820523e+00, 2.2826390e+00,\n        2.2854476e+00, 2.2859623e+00, 2.2860670e+00, 2.2908549e+00,\n        2.2941165e+00, 2.2957468e+00, 2.2997351e+00, 2.3018348e+00,\n        2.3020234e+00, 2.3026862e+00, 2.3031383e+00, 2.3060596e+00,\n        2.3091927e+00, 2.3093123e+00, 2.3094072e+00, 2.3098078e+00,\n        2.3103974e+00, 2.3106301e+00, 2.3107014e+00, 2.3107095e+00,\n        2.3110313e+00, 2.3113108e+00, 2.3114886e+00, 2.3123364e+00,\n        2.3126817e+00, 2.3134580e+00, 2.3135312e+00, 2.3135848e+00,\n        2.3143687e+00, 2.3151302e+00, 2.3170297e+00, 2.3171015e+00,\n        2.3175755e+00, 2.3180532e+00, 2.3200021e+00, 2.3209994e+00,\n        2.3224778e+00, 2.3229113e+00, 2.3229704e+00, 2.3236771e+00,\n        2.3239574e+00, 2.3240924e+00, 2.3249407e+00, 2.3270822e+00,\n        2.3276386e+00, 2.3278444e+00, 2.3287773e+00, 2.3296175e+00,\n        2.3305638e+00, 2.3306670e+00, 2.3314710e+00, 2.3315310e+00,\n        2.3324125e+00, 2.3329215e+00, 2.3331547e+00, 2.3340669e+00]],\n      dtype=float32)"
     },
     "execution_count": 93,
     "metadata": {},
     "output_type": "execute_result"
    }
   ],
   "source": [
    "D"
   ],
   "metadata": {
    "collapsed": false
   }
  },
  {
   "cell_type": "code",
   "execution_count": 94,
   "outputs": [
    {
     "data": {
      "text/plain": "array([[     0,      4,      1,      2,      5,      3,      6, 292989,\n        292988, 575387, 575386, 458064, 458065, 805298, 805299, 805300,\n        560360, 220467, 220464, 220468, 482610, 220466, 220465, 220463,\n        624575, 711064, 521604,  14645,  14662,  14647, 482611,  14650,\n         14642,  14661,  14663,  14665,  14667,  14644,  14651,  14653,\n         14656, 796858,  14658,  14660,  14666,  14668, 585577,  14655,\n         14652,  14646,  14649,  14643,  14659,  14657,  14654,  14648,\n        611934, 612510, 612442, 611938, 612577, 612526, 612491, 612474,\n        585576, 612538, 612496, 612436, 612569, 612535, 612563, 612513,\n        612425, 612530, 612450, 612516, 612485, 612453, 612427, 612583,\n        612446, 612422, 612503, 612437, 612463, 612554, 612571, 612459,\n        612465, 612511, 612452, 612423, 612509, 612467, 612548, 612523,\n        612559, 612581, 612514, 612536]])"
     },
     "execution_count": 94,
     "metadata": {},
     "output_type": "execute_result"
    }
   ],
   "source": [
    "I"
   ],
   "metadata": {
    "collapsed": false
   }
  },
  {
   "cell_type": "code",
   "execution_count": 95,
   "outputs": [],
   "source": [
    "# get the recipe ids of the nearest neighbors\n",
    "recipe_ids = y[I[0]]"
   ],
   "metadata": {
    "collapsed": false
   }
  },
  {
   "cell_type": "code",
   "execution_count": 96,
   "outputs": [
    {
     "data": {
      "text/plain": "array([ 60599,  60599,  60599,  60599,  60599,  60599,  60599, 121160,\n       121160, 180929, 180929, 127852, 127852, 149885, 149885, 149885,\n        91350,  45455,  45455,  45455, 168485,  45455,  45455,  45455,\n        30797,  74466, 154524,   6431,   6431,   6431, 168485,   6431,\n         6431,   6431,   6431,   6431,   6431,   6431,   6431,   6431,\n         6431, 178266,   6431,   6431,   6431,   6431,  70899,   6431,\n         6431,   6431,   6431,   6431,   6431,   6431,   6431,   6431,\n         3563,   3563,   3563,   3563,   3563,   3563,   3563,   3563,\n        70899,   3563,   3563,   3563,   3563,   3563,   3563,   3563,\n         3563,   3563,   3563,   3563,   3563,   3563,   3563,   3563,\n         3563,   3563,   3563,   3563,   3563,   3563,   3563,   3563,\n         3563,   3563,   3563,   3563,   3563,   3563,   3563,   3563,\n         3563,   3563,   3563,   3563])"
     },
     "execution_count": 96,
     "metadata": {},
     "output_type": "execute_result"
    }
   ],
   "source": [
    "recipe_ids"
   ],
   "metadata": {
    "collapsed": false
   }
  },
  {
   "cell_type": "code",
   "execution_count": 97,
   "outputs": [],
   "source": [
    "# find the unique recipe ids excluding the recipe_id\n",
    "unique_recipe_ids = np.unique(recipe_ids)"
   ],
   "metadata": {
    "collapsed": false
   }
  },
  {
   "cell_type": "code",
   "execution_count": 98,
   "outputs": [
    {
     "data": {
      "text/plain": "array([  3563,   6431,  30797,  45455,  60599,  70899,  74466,  91350,\n       121160, 127852, 149885, 154524, 168485, 178266, 180929])"
     },
     "execution_count": 98,
     "metadata": {},
     "output_type": "execute_result"
    }
   ],
   "source": [
    "unique_recipe_ids"
   ],
   "metadata": {
    "collapsed": false
   }
  },
  {
   "cell_type": "code",
   "execution_count": null,
   "outputs": [],
   "source": [],
   "metadata": {
    "collapsed": false
   }
  }
 ],
 "metadata": {
  "kernelspec": {
   "display_name": "Python 3 (ipykernel)",
   "language": "python",
   "name": "python3"
  },
  "language_info": {
   "codemirror_mode": {
    "name": "ipython",
    "version": 3
   },
   "file_extension": ".py",
   "mimetype": "text/x-python",
   "name": "python",
   "nbconvert_exporter": "python",
   "pygments_lexer": "ipython3",
   "version": "3.9.6"
  },
  "vscode": {
   "interpreter": {
    "hash": "949777d72b0d2535278d3dc13498b2535136f6dfe0678499012e853ee9abcab1"
   }
  }
 },
 "nbformat": 4,
 "nbformat_minor": 1
}
