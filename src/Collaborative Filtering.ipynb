{
 "cells": [
  {
   "cell_type": "code",
   "execution_count": 1,
   "metadata": {
    "collapsed": true
   },
   "outputs": [],
   "source": [
    "import pandas as pd\n",
    "import pickle\n",
    "from surprise import Reader, Dataset, SVD"
   ]
  },
  {
   "cell_type": "code",
   "execution_count": 12,
   "metadata": {
    "collapsed": false
   },
   "outputs": [],
   "source": [
    "df = pd.read_csv('../dataset/preprocessed_data.csv')"
   ]
  },
  {
   "cell_type": "code",
   "execution_count": 13,
   "metadata": {
    "collapsed": false
   },
   "outputs": [
    {
     "data": {
      "text/plain": "   user_id  recipe_id        date  rating   \n0     7708      60599  2005-09-02       4  \\\n1    27707      60599  2005-12-22       5   \n2    35308      60599  2006-09-26       5   \n3    19399      60599  2007-03-09       5   \n4    43887      60599  2008-02-20       0   \n\n                                              review                  name   \n0                                          very good  kfc honey bbq strips  \\\n1                               better than the real  kfc honey bbq strips   \n2  absolutely awesome i was speechless when i tri...  kfc honey bbq strips   \n3  these taste absolutely wonderful my son in law...  kfc honey bbq strips   \n4  made my own buttermilk w vinegar and milk. use...  kfc honey bbq strips   \n\n   minutes  contributor_id   submitted   \n0       40          166019  2005-08-24  \\\n1       40          166019  2005-08-24   \n2       40          166019  2005-08-24   \n3       40          166019  2005-08-24   \n4       40          166019  2005-08-24   \n\n                                                tags  ...  sugar sodium   \n0  60-minutes-or-less, time-to-make, main-ingredi...  ...   40.0   37.0  \\\n1  60-minutes-or-less, time-to-make, main-ingredi...  ...   40.0   37.0   \n2  60-minutes-or-less, time-to-make, main-ingredi...  ...   40.0   37.0   \n3  60-minutes-or-less, time-to-make, main-ingredi...  ...   40.0   37.0   \n4  60-minutes-or-less, time-to-make, main-ingredi...  ...   40.0   37.0   \n\n  protein saturated_fat  carbohydrates  food_types  negative  neutral   \n0    78.0           4.0           10.0     Non-veg       0.0    0.238  \\\n1    78.0           4.0           10.0     Non-veg       0.0    0.508   \n2    78.0           4.0           10.0     Non-veg       0.0    0.883   \n3    78.0           4.0           10.0     Non-veg       0.0    0.675   \n4    78.0           4.0           10.0     Non-veg       0.0    0.929   \n\n   positive  compound  \n0     0.762    0.4927  \n1     0.492    0.4404  \n2     0.117    0.6590  \n3     0.325    0.8908  \n4     0.071    0.4588  \n\n[5 rows x 27 columns]",
      "text/html": "<div>\n<style scoped>\n    .dataframe tbody tr th:only-of-type {\n        vertical-align: middle;\n    }\n\n    .dataframe tbody tr th {\n        vertical-align: top;\n    }\n\n    .dataframe thead th {\n        text-align: right;\n    }\n</style>\n<table border=\"1\" class=\"dataframe\">\n  <thead>\n    <tr style=\"text-align: right;\">\n      <th></th>\n      <th>user_id</th>\n      <th>recipe_id</th>\n      <th>date</th>\n      <th>rating</th>\n      <th>review</th>\n      <th>name</th>\n      <th>minutes</th>\n      <th>contributor_id</th>\n      <th>submitted</th>\n      <th>tags</th>\n      <th>...</th>\n      <th>sugar</th>\n      <th>sodium</th>\n      <th>protein</th>\n      <th>saturated_fat</th>\n      <th>carbohydrates</th>\n      <th>food_types</th>\n      <th>negative</th>\n      <th>neutral</th>\n      <th>positive</th>\n      <th>compound</th>\n    </tr>\n  </thead>\n  <tbody>\n    <tr>\n      <th>0</th>\n      <td>7708</td>\n      <td>60599</td>\n      <td>2005-09-02</td>\n      <td>4</td>\n      <td>very good</td>\n      <td>kfc honey bbq strips</td>\n      <td>40</td>\n      <td>166019</td>\n      <td>2005-08-24</td>\n      <td>60-minutes-or-less, time-to-make, main-ingredi...</td>\n      <td>...</td>\n      <td>40.0</td>\n      <td>37.0</td>\n      <td>78.0</td>\n      <td>4.0</td>\n      <td>10.0</td>\n      <td>Non-veg</td>\n      <td>0.0</td>\n      <td>0.238</td>\n      <td>0.762</td>\n      <td>0.4927</td>\n    </tr>\n    <tr>\n      <th>1</th>\n      <td>27707</td>\n      <td>60599</td>\n      <td>2005-12-22</td>\n      <td>5</td>\n      <td>better than the real</td>\n      <td>kfc honey bbq strips</td>\n      <td>40</td>\n      <td>166019</td>\n      <td>2005-08-24</td>\n      <td>60-minutes-or-less, time-to-make, main-ingredi...</td>\n      <td>...</td>\n      <td>40.0</td>\n      <td>37.0</td>\n      <td>78.0</td>\n      <td>4.0</td>\n      <td>10.0</td>\n      <td>Non-veg</td>\n      <td>0.0</td>\n      <td>0.508</td>\n      <td>0.492</td>\n      <td>0.4404</td>\n    </tr>\n    <tr>\n      <th>2</th>\n      <td>35308</td>\n      <td>60599</td>\n      <td>2006-09-26</td>\n      <td>5</td>\n      <td>absolutely awesome i was speechless when i tri...</td>\n      <td>kfc honey bbq strips</td>\n      <td>40</td>\n      <td>166019</td>\n      <td>2005-08-24</td>\n      <td>60-minutes-or-less, time-to-make, main-ingredi...</td>\n      <td>...</td>\n      <td>40.0</td>\n      <td>37.0</td>\n      <td>78.0</td>\n      <td>4.0</td>\n      <td>10.0</td>\n      <td>Non-veg</td>\n      <td>0.0</td>\n      <td>0.883</td>\n      <td>0.117</td>\n      <td>0.6590</td>\n    </tr>\n    <tr>\n      <th>3</th>\n      <td>19399</td>\n      <td>60599</td>\n      <td>2007-03-09</td>\n      <td>5</td>\n      <td>these taste absolutely wonderful my son in law...</td>\n      <td>kfc honey bbq strips</td>\n      <td>40</td>\n      <td>166019</td>\n      <td>2005-08-24</td>\n      <td>60-minutes-or-less, time-to-make, main-ingredi...</td>\n      <td>...</td>\n      <td>40.0</td>\n      <td>37.0</td>\n      <td>78.0</td>\n      <td>4.0</td>\n      <td>10.0</td>\n      <td>Non-veg</td>\n      <td>0.0</td>\n      <td>0.675</td>\n      <td>0.325</td>\n      <td>0.8908</td>\n    </tr>\n    <tr>\n      <th>4</th>\n      <td>43887</td>\n      <td>60599</td>\n      <td>2008-02-20</td>\n      <td>0</td>\n      <td>made my own buttermilk w vinegar and milk. use...</td>\n      <td>kfc honey bbq strips</td>\n      <td>40</td>\n      <td>166019</td>\n      <td>2005-08-24</td>\n      <td>60-minutes-or-less, time-to-make, main-ingredi...</td>\n      <td>...</td>\n      <td>40.0</td>\n      <td>37.0</td>\n      <td>78.0</td>\n      <td>4.0</td>\n      <td>10.0</td>\n      <td>Non-veg</td>\n      <td>0.0</td>\n      <td>0.929</td>\n      <td>0.071</td>\n      <td>0.4588</td>\n    </tr>\n  </tbody>\n</table>\n<p>5 rows × 27 columns</p>\n</div>"
     },
     "execution_count": 13,
     "metadata": {},
     "output_type": "execute_result"
    }
   ],
   "source": [
    "df.head()"
   ]
  },
  {
   "cell_type": "code",
   "execution_count": 14,
   "metadata": {
    "collapsed": false
   },
   "outputs": [],
   "source": [
    "reader = Reader()\n",
    "data = Dataset.load_from_df(df[['user_id', 'recipe_id', 'rating']], reader)"
   ]
  },
  {
   "cell_type": "code",
   "execution_count": 15,
   "metadata": {
    "collapsed": false
   },
   "outputs": [],
   "source": [
    "train_set = data.build_full_trainset()"
   ]
  },
  {
   "cell_type": "code",
   "execution_count": 16,
   "metadata": {
    "collapsed": false
   },
   "outputs": [],
   "source": [
    "algo = SVD()"
   ]
  },
  {
   "cell_type": "code",
   "execution_count": 17,
   "metadata": {
    "collapsed": false
   },
   "outputs": [
    {
     "data": {
      "text/plain": "<surprise.prediction_algorithms.matrix_factorization.SVD at 0x2f9ca2190>"
     },
     "execution_count": 17,
     "metadata": {},
     "output_type": "execute_result"
    }
   ],
   "source": [
    "algo.fit(train_set)"
   ]
  },
  {
   "cell_type": "code",
   "execution_count": 18,
   "metadata": {
    "collapsed": false
   },
   "outputs": [],
   "source": [
    "# save the model to disk\n",
    "filename = 'svd_model.sav'\n",
    "pickle.dump(algo, open(filename, 'wb'))"
   ]
  },
  {
   "cell_type": "code",
   "execution_count": 19,
   "metadata": {
    "collapsed": false
   },
   "outputs": [],
   "source": [
    "# load the model from disk\n",
    "algo = pickle.load(open(filename, 'rb'))"
   ]
  },
  {
   "cell_type": "code",
   "execution_count": 26,
   "metadata": {
    "collapsed": false
   },
   "outputs": [],
   "source": [
    "def get_recommendations(user_id, n=10):\n",
    "    user_ratings = df[df.user_id == user_id]\n",
    "    rated_recipes = user_ratings.recipe_id.unique().tolist()\n",
    "    unrated_recipes = df[~df.recipe_id.isin(rated_recipes)].recipe_id.unique().tolist()\n",
    "\n",
    "    test_set = [[user_id, recipe_id, 0] for recipe_id in unrated_recipes]\n",
    "    predictions = algo.test(test_set)\n",
    "\n",
    "    # sort predictions by estimated rating\n",
    "    predictions.sort(key=lambda x: x.est, reverse=True)\n",
    "\n",
    "    top_n = predictions[:n]\n",
    "    top_n_recipes = [recipe_id for user_id, recipe_id, _, _, _ in top_n]\n",
    "    # return the recipe_id from df that match the top_n_recipes\n",
    "    return df[df.recipe_id.isin(top_n_recipes)].drop_duplicates(subset=['recipe_id'])"
   ]
  },
  {
   "cell_type": "code",
   "execution_count": 28,
   "metadata": {
    "collapsed": false
   },
   "outputs": [
    {
     "name": "stdout",
     "output_type": "stream",
     "text": [
      "[Prediction(uid=7708, iid=15023, r_ui=0, est=5, details={'was_impossible': False}), Prediction(uid=7708, iid=13030, r_ui=0, est=4.899395498443079, details={'was_impossible': False}), Prediction(uid=7708, iid=34852, r_ui=0, est=4.892222152872712, details={'was_impossible': False}), Prediction(uid=7708, iid=34894, r_ui=0, est=4.8635280731904835, details={'was_impossible': False}), Prediction(uid=7708, iid=6747, r_ui=0, est=4.837831932717456, details={'was_impossible': False}), Prediction(uid=7708, iid=28731, r_ui=0, est=4.831488943937534, details={'was_impossible': False}), Prediction(uid=7708, iid=16707, r_ui=0, est=4.815866335871606, details={'was_impossible': False}), Prediction(uid=7708, iid=37575, r_ui=0, est=4.806183659223117, details={'was_impossible': False}), Prediction(uid=7708, iid=1268, r_ui=0, est=4.798007922154066, details={'was_impossible': False}), Prediction(uid=7708, iid=192839, r_ui=0, est=4.790228706915278, details={'was_impossible': False})]\n",
      "[15023, 13030, 34852, 34894, 6747, 28731, 16707, 37575, 1268, 192839]\n"
     ]
    },
    {
     "data": {
      "text/plain": "[192839, 28731, 34894, 16707, 37575, 13030, 15023, 1268, 34852, 6747]"
     },
     "execution_count": 28,
     "metadata": {},
     "output_type": "execute_result"
    }
   ],
   "source": [
    "get_recommendations(7708).recipe_id.tolist()"
   ]
  },
  {
   "cell_type": "code",
   "execution_count": 29,
   "metadata": {
    "collapsed": false
   },
   "outputs": [
    {
     "name": "stdout",
     "output_type": "stream",
     "text": [
      "[Prediction(uid=353911, iid=188078, r_ui=0, est=4.9538680475658055, details={'was_impossible': False}), Prediction(uid=353911, iid=188348, r_ui=0, est=4.903862190980938, details={'was_impossible': False}), Prediction(uid=353911, iid=192839, r_ui=0, est=4.902673067705568, details={'was_impossible': False}), Prediction(uid=353911, iid=189581, r_ui=0, est=4.898042108468786, details={'was_impossible': False}), Prediction(uid=353911, iid=27195, r_ui=0, est=4.891106262802855, details={'was_impossible': False}), Prediction(uid=353911, iid=13074, r_ui=0, est=4.886201494805394, details={'was_impossible': False}), Prediction(uid=353911, iid=193503, r_ui=0, est=4.879933560381735, details={'was_impossible': False}), Prediction(uid=353911, iid=188079, r_ui=0, est=4.871373950294299, details={'was_impossible': False}), Prediction(uid=353911, iid=31419, r_ui=0, est=4.858661785924539, details={'was_impossible': False}), Prediction(uid=353911, iid=73728, r_ui=0, est=4.8570946526885725, details={'was_impossible': False})]\n",
      "[188078, 188348, 192839, 189581, 27195, 13074, 193503, 188079, 31419, 73728]\n"
     ]
    },
    {
     "data": {
      "text/plain": "[192839, 193503, 73728, 189581, 31419, 188078, 188348, 27195, 13074, 188079]"
     },
     "execution_count": 29,
     "metadata": {},
     "output_type": "execute_result"
    }
   ],
   "source": [
    "get_recommendations(353911).recipe_id.tolist()"
   ]
  },
  {
   "cell_type": "code",
   "execution_count": null,
   "metadata": {
    "collapsed": false
   },
   "outputs": [],
   "source": []
  }
 ],
 "metadata": {
  "kernelspec": {
   "display_name": "Python 3.10.6 64-bit",
   "language": "python",
   "name": "python3"
  },
  "language_info": {
   "codemirror_mode": {
    "name": "ipython",
    "version": 2
   },
   "file_extension": ".py",
   "mimetype": "text/x-python",
   "name": "python",
   "nbconvert_exporter": "python",
   "pygments_lexer": "ipython2",
   "version": "3.10.6"
  },
  "vscode": {
   "interpreter": {
    "hash": "949777d72b0d2535278d3dc13498b2535136f6dfe0678499012e853ee9abcab1"
   }
  }
 },
 "nbformat": 4,
 "nbformat_minor": 0
}
