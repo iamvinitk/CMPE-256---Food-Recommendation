{
 "cells": [
  {
   "cell_type": "code",
   "execution_count": 1,
   "metadata": {
    "collapsed": true
   },
   "outputs": [],
   "source": [
    "import pandas as pd\n",
    "import pickle\n",
    "from surprise import Reader, Dataset, SVD"
   ]
  },
  {
   "cell_type": "code",
   "execution_count": 2,
   "outputs": [],
   "source": [
    "df = pd.read_csv('../dataset/preprocessed_interactions.csv')"
   ],
   "metadata": {
    "collapsed": false
   }
  },
  {
   "cell_type": "code",
   "execution_count": 3,
   "outputs": [
    {
     "data": {
      "text/plain": "   user_id  recipe_id        date  rating  \\\n0     8937      44394  2002-12-01       4   \n1    76535     134728  2005-09-02       4   \n2   273745     134728  2005-12-22       5   \n3   353911     134728  2006-09-26       5   \n4   190375     134728  2007-03-09       5   \n\n                                              review  minutes  contributor_id  \\\n0  This worked very well and is EASY.  I used not...       20           56824   \n1                                         Very good!       40          166019   \n2                             Better than the real!!       40          166019   \n3  Absolutely AWESOME! I was speechless when I tr...       40          166019   \n4  These taste absolutely wonderful!!  My son-in-...       40          166019   \n\n    submitted                                               tags  n_steps  \\\n0  2002-10-27  ['30-minutes-or-less', 'time-to-make', 'course...        5   \n1  2005-08-24  ['60-minutes-or-less', 'time-to-make', 'main-i...       10   \n2  2005-08-24  ['60-minutes-or-less', 'time-to-make', 'main-i...       10   \n3  2005-08-24  ['60-minutes-or-less', 'time-to-make', 'main-i...       10   \n4  2005-08-24  ['60-minutes-or-less', 'time-to-make', 'main-i...       10   \n\n                                               steps  \\\n0  ['blend together cake mix , oil and eggs', 'ad...   \n1  ['mix flour , salt and pepper in bowl', 'set a...   \n2  ['mix flour , salt and pepper in bowl', 'set a...   \n3  ['mix flour , salt and pepper in bowl', 'set a...   \n4  ['mix flour , salt and pepper in bowl', 'set a...   \n\n                                         ingredients  n_ingredients  calories  \\\n0  [\"devil's food cake mix\", 'vegetable oil', 'eg...              4     132.3   \n1  ['chicken tenders', 'flour', 'garlic powder', ...             12     316.0   \n2  ['chicken tenders', 'flour', 'garlic powder', ...             12     316.0   \n3  ['chicken tenders', 'flour', 'garlic powder', ...             12     316.0   \n4  ['chicken tenders', 'flour', 'garlic powder', ...             12     316.0   \n\n   total_fat  sugar  sodium  protein  saturated_fat  \n0       11.0   39.0     5.0      4.0           11.0  \n1        4.0   40.0    37.0     78.0            4.0  \n2        4.0   40.0    37.0     78.0            4.0  \n3        4.0   40.0    37.0     78.0            4.0  \n4        4.0   40.0    37.0     78.0            4.0  ",
      "text/html": "<div>\n<style scoped>\n    .dataframe tbody tr th:only-of-type {\n        vertical-align: middle;\n    }\n\n    .dataframe tbody tr th {\n        vertical-align: top;\n    }\n\n    .dataframe thead th {\n        text-align: right;\n    }\n</style>\n<table border=\"1\" class=\"dataframe\">\n  <thead>\n    <tr style=\"text-align: right;\">\n      <th></th>\n      <th>user_id</th>\n      <th>recipe_id</th>\n      <th>date</th>\n      <th>rating</th>\n      <th>review</th>\n      <th>minutes</th>\n      <th>contributor_id</th>\n      <th>submitted</th>\n      <th>tags</th>\n      <th>n_steps</th>\n      <th>steps</th>\n      <th>ingredients</th>\n      <th>n_ingredients</th>\n      <th>calories</th>\n      <th>total_fat</th>\n      <th>sugar</th>\n      <th>sodium</th>\n      <th>protein</th>\n      <th>saturated_fat</th>\n    </tr>\n  </thead>\n  <tbody>\n    <tr>\n      <th>0</th>\n      <td>8937</td>\n      <td>44394</td>\n      <td>2002-12-01</td>\n      <td>4</td>\n      <td>This worked very well and is EASY.  I used not...</td>\n      <td>20</td>\n      <td>56824</td>\n      <td>2002-10-27</td>\n      <td>['30-minutes-or-less', 'time-to-make', 'course...</td>\n      <td>5</td>\n      <td>['blend together cake mix , oil and eggs', 'ad...</td>\n      <td>[\"devil's food cake mix\", 'vegetable oil', 'eg...</td>\n      <td>4</td>\n      <td>132.3</td>\n      <td>11.0</td>\n      <td>39.0</td>\n      <td>5.0</td>\n      <td>4.0</td>\n      <td>11.0</td>\n    </tr>\n    <tr>\n      <th>1</th>\n      <td>76535</td>\n      <td>134728</td>\n      <td>2005-09-02</td>\n      <td>4</td>\n      <td>Very good!</td>\n      <td>40</td>\n      <td>166019</td>\n      <td>2005-08-24</td>\n      <td>['60-minutes-or-less', 'time-to-make', 'main-i...</td>\n      <td>10</td>\n      <td>['mix flour , salt and pepper in bowl', 'set a...</td>\n      <td>['chicken tenders', 'flour', 'garlic powder', ...</td>\n      <td>12</td>\n      <td>316.0</td>\n      <td>4.0</td>\n      <td>40.0</td>\n      <td>37.0</td>\n      <td>78.0</td>\n      <td>4.0</td>\n    </tr>\n    <tr>\n      <th>2</th>\n      <td>273745</td>\n      <td>134728</td>\n      <td>2005-12-22</td>\n      <td>5</td>\n      <td>Better than the real!!</td>\n      <td>40</td>\n      <td>166019</td>\n      <td>2005-08-24</td>\n      <td>['60-minutes-or-less', 'time-to-make', 'main-i...</td>\n      <td>10</td>\n      <td>['mix flour , salt and pepper in bowl', 'set a...</td>\n      <td>['chicken tenders', 'flour', 'garlic powder', ...</td>\n      <td>12</td>\n      <td>316.0</td>\n      <td>4.0</td>\n      <td>40.0</td>\n      <td>37.0</td>\n      <td>78.0</td>\n      <td>4.0</td>\n    </tr>\n    <tr>\n      <th>3</th>\n      <td>353911</td>\n      <td>134728</td>\n      <td>2006-09-26</td>\n      <td>5</td>\n      <td>Absolutely AWESOME! I was speechless when I tr...</td>\n      <td>40</td>\n      <td>166019</td>\n      <td>2005-08-24</td>\n      <td>['60-minutes-or-less', 'time-to-make', 'main-i...</td>\n      <td>10</td>\n      <td>['mix flour , salt and pepper in bowl', 'set a...</td>\n      <td>['chicken tenders', 'flour', 'garlic powder', ...</td>\n      <td>12</td>\n      <td>316.0</td>\n      <td>4.0</td>\n      <td>40.0</td>\n      <td>37.0</td>\n      <td>78.0</td>\n      <td>4.0</td>\n    </tr>\n    <tr>\n      <th>4</th>\n      <td>190375</td>\n      <td>134728</td>\n      <td>2007-03-09</td>\n      <td>5</td>\n      <td>These taste absolutely wonderful!!  My son-in-...</td>\n      <td>40</td>\n      <td>166019</td>\n      <td>2005-08-24</td>\n      <td>['60-minutes-or-less', 'time-to-make', 'main-i...</td>\n      <td>10</td>\n      <td>['mix flour , salt and pepper in bowl', 'set a...</td>\n      <td>['chicken tenders', 'flour', 'garlic powder', ...</td>\n      <td>12</td>\n      <td>316.0</td>\n      <td>4.0</td>\n      <td>40.0</td>\n      <td>37.0</td>\n      <td>78.0</td>\n      <td>4.0</td>\n    </tr>\n  </tbody>\n</table>\n</div>"
     },
     "execution_count": 3,
     "metadata": {},
     "output_type": "execute_result"
    }
   ],
   "source": [
    "df.head()"
   ],
   "metadata": {
    "collapsed": false
   }
  },
  {
   "cell_type": "code",
   "execution_count": 4,
   "outputs": [],
   "source": [
    "reader = Reader()\n",
    "data = Dataset.load_from_df(df[['user_id', 'recipe_id', 'rating']], reader)"
   ],
   "metadata": {
    "collapsed": false
   }
  },
  {
   "cell_type": "code",
   "execution_count": 5,
   "outputs": [],
   "source": [
    "trainset = data.build_full_trainset()"
   ],
   "metadata": {
    "collapsed": false
   }
  },
  {
   "cell_type": "code",
   "execution_count": 6,
   "outputs": [],
   "source": [
    "algo = SVD()"
   ],
   "metadata": {
    "collapsed": false
   }
  },
  {
   "cell_type": "code",
   "execution_count": 7,
   "outputs": [
    {
     "data": {
      "text/plain": "<surprise.prediction_algorithms.matrix_factorization.SVD at 0x2b33c28b0>"
     },
     "execution_count": 7,
     "metadata": {},
     "output_type": "execute_result"
    }
   ],
   "source": [
    "algo.fit(trainset)"
   ],
   "metadata": {
    "collapsed": false
   }
  },
  {
   "cell_type": "code",
   "execution_count": 8,
   "outputs": [],
   "source": [
    "# save the model to disk\n",
    "filename = 'svd_model.sav'\n",
    "pickle.dump(algo, open(filename, 'wb'))"
   ],
   "metadata": {
    "collapsed": false
   }
  },
  {
   "cell_type": "code",
   "execution_count": 9,
   "outputs": [],
   "source": [
    "def get_recommendations(user_id, n=10):\n",
    "    user_ratings = df[df.user_id == user_id]\n",
    "    rated_recipes = user_ratings.recipe_id.unique().tolist()\n",
    "    unrated_recipes = df[~df.recipe_id.isin(rated_recipes)].recipe_id.unique().tolist()\n",
    "\n",
    "    testset = [[user_id, recipe_id, 0] for recipe_id in unrated_recipes]\n",
    "    predictions = algo.test(testset)\n",
    "\n",
    "    # sort predictions by estimated rating\n",
    "    predictions.sort(key=lambda x: x.est, reverse=True)\n",
    "\n",
    "    top_n = predictions[:n]\n",
    "\n",
    "    top_n_recipes = [recipe_id for user_id, recipe_id, _, _, _ in top_n]\n",
    "\n",
    "    # return the recipe_id from df that match the top_n_recipes\n",
    "    return df[df.recipe_id.isin(top_n_recipes)].drop_duplicates(subset=['recipe_id'])"
   ],
   "metadata": {
    "collapsed": false
   }
  },
  {
   "cell_type": "code",
   "execution_count": 10,
   "outputs": [
    {
     "data": {
      "text/plain": "           user_id  recipe_id        date  rating  \\\n45096         6357     114956  2005-04-04       5   \n66267        58439      31287  2009-11-29       5   \n116539       32772      58687  2003-04-08       5   \n217691      146629     246166  2007-10-25       5   \n348031  2001534007      60350  2017-05-12       5   \n534194       37036      45107  2004-02-15       5   \n677851        5060     124192  2006-10-04       5   \n885456       67656     146325  2006-05-14       5   \n907009     2409366     486496  2012-09-18       5   \n944738      225261      90674  2009-12-28       5   \n\n                                                   review  minutes  \\\n45096   This is a wonderful salsa and one I enjoyed ma...       10   \n66267   Don't think this really needs another review!\\...      187   \n116539  I had leftover chocolate chips from another St...       30   \n217691  Yum, Yum, Yum!!!!!  This was the most popular ...       45   \n348031                    dont put flour in pasta frineds       30   \n534194  This was fantastic!  I made this cheese ring f...      190   \n677851  Oh my goodness!!! How have I missed this one!!...       40   \n885456  Almost any dish with thyme and balsamic vinega...       35   \n907009  Not only does my family love these but the guy...       60   \n944738  Lovew this French Toast!!!  Easy to make and f...       22   \n\n        contributor_id   submitted  \\\n45096            67656  2005-04-01   \n66267            29450  2002-06-14   \n116539           64934  2003-04-07   \n217691          141293  2007-08-13   \n348031           24386  2003-04-21   \n534194           31499  2002-10-31   \n677851           83400  2005-05-31   \n885456          248292  2005-11-25   \n907009         2390546  2012-09-06   \n944738           86072  2004-05-04   \n\n                                                     tags  n_steps  \\\n45096   ['15-minutes-or-less', 'time-to-make', 'course...        3   \n66267   ['weeknight', 'time-to-make', 'course', 'cuisi...        6   \n116539  ['30-minutes-or-less', 'time-to-make', 'course...        4   \n217691  ['60-minutes-or-less', 'time-to-make', 'course...        6   \n348031  ['30-minutes-or-less', 'time-to-make', 'course...       10   \n534194  ['weeknight', 'time-to-make', 'course', 'main-...        6   \n677851  ['60-minutes-or-less', 'time-to-make', 'course...       12   \n885456  ['60-minutes-or-less', 'time-to-make', 'course...       14   \n907009  ['weeknight', '60-minutes-or-less', 'time-to-m...       20   \n944738  ['30-minutes-or-less', 'time-to-make', 'course...       11   \n\n                                                    steps  \\\n45096   ['in a medium bowl mix together the tomatoes ,...   \n66267   ['make 8 vanilla ice cream balls and freeze on...   \n116539  ['insert toothpicks into the tops of the straw...   \n217691  ['heat chicken and buffalo wing sauce in a ski...   \n348031  ['cook macaroni according to package direction...   \n534194  ['combine all the ingrdients except preserves ...   \n677851  ['prepare the vegetables: peel and roughly cho...   \n885456  ['combine first four ingredients in a shallow ...   \n907009  ['preheat oven to 400f line a rimmed baking sh...   \n944738  ['mix together the eggs , milk , flour , sugar...   \n\n                                              ingredients  n_ingredients  \\\n45096   ['diced tomatoes', 'jalapeno', 'red onion', 'l...              8   \n66267   ['vanilla ice cream', 'corn flakes cereal', 'b...              5   \n116539  ['milk chocolate chips', 'shortening', 'strawb...              3   \n217691  ['canned chicken', 'buffalo wing sauce', 'crea...              7   \n348031  ['elbow macaroni', 'butter', 'all-purpose flou...              7   \n534194  ['sharp cheddar cheese', 'cream cheese', 'mayo...              8   \n677851  ['potatoes', 'butternut squash', 'sweet potato...             13   \n885456  ['all-purpose flour', 'dried thyme', 'salt', '...             11   \n907009  ['reynolds wrap foil', 'bacon', 'flakey biscui...             11   \n944738  ['eggs', 'whole milk', 'flour', 'sugar', 'vani...             11   \n\n        calories  total_fat  sugar  sodium  protein  saturated_fat  \n45096       45.8        0.0    7.0     2.0      4.0            0.0  \n66267      125.6        7.0   44.0     4.0      3.0           15.0  \n116539     116.6       10.0   42.0     0.0      3.0           18.0  \n217691     277.9       33.0    9.0    21.0     21.0           42.0  \n348031     590.7       37.0    9.0    22.0     46.0           74.0  \n534194     189.9       19.0   33.0     6.0     13.0           29.0  \n677851     742.1       74.0   41.0    53.0     41.0          104.0  \n885456     336.5        9.0   37.0    23.0     82.0            6.0  \n907009     664.3       71.0   42.0    68.0     37.0          101.0  \n944738     264.3       16.0   55.0    15.0     16.0           27.0  ",
      "text/html": "<div>\n<style scoped>\n    .dataframe tbody tr th:only-of-type {\n        vertical-align: middle;\n    }\n\n    .dataframe tbody tr th {\n        vertical-align: top;\n    }\n\n    .dataframe thead th {\n        text-align: right;\n    }\n</style>\n<table border=\"1\" class=\"dataframe\">\n  <thead>\n    <tr style=\"text-align: right;\">\n      <th></th>\n      <th>user_id</th>\n      <th>recipe_id</th>\n      <th>date</th>\n      <th>rating</th>\n      <th>review</th>\n      <th>minutes</th>\n      <th>contributor_id</th>\n      <th>submitted</th>\n      <th>tags</th>\n      <th>n_steps</th>\n      <th>steps</th>\n      <th>ingredients</th>\n      <th>n_ingredients</th>\n      <th>calories</th>\n      <th>total_fat</th>\n      <th>sugar</th>\n      <th>sodium</th>\n      <th>protein</th>\n      <th>saturated_fat</th>\n    </tr>\n  </thead>\n  <tbody>\n    <tr>\n      <th>45096</th>\n      <td>6357</td>\n      <td>114956</td>\n      <td>2005-04-04</td>\n      <td>5</td>\n      <td>This is a wonderful salsa and one I enjoyed ma...</td>\n      <td>10</td>\n      <td>67656</td>\n      <td>2005-04-01</td>\n      <td>['15-minutes-or-less', 'time-to-make', 'course...</td>\n      <td>3</td>\n      <td>['in a medium bowl mix together the tomatoes ,...</td>\n      <td>['diced tomatoes', 'jalapeno', 'red onion', 'l...</td>\n      <td>8</td>\n      <td>45.8</td>\n      <td>0.0</td>\n      <td>7.0</td>\n      <td>2.0</td>\n      <td>4.0</td>\n      <td>0.0</td>\n    </tr>\n    <tr>\n      <th>66267</th>\n      <td>58439</td>\n      <td>31287</td>\n      <td>2009-11-29</td>\n      <td>5</td>\n      <td>Don't think this really needs another review!\\...</td>\n      <td>187</td>\n      <td>29450</td>\n      <td>2002-06-14</td>\n      <td>['weeknight', 'time-to-make', 'course', 'cuisi...</td>\n      <td>6</td>\n      <td>['make 8 vanilla ice cream balls and freeze on...</td>\n      <td>['vanilla ice cream', 'corn flakes cereal', 'b...</td>\n      <td>5</td>\n      <td>125.6</td>\n      <td>7.0</td>\n      <td>44.0</td>\n      <td>4.0</td>\n      <td>3.0</td>\n      <td>15.0</td>\n    </tr>\n    <tr>\n      <th>116539</th>\n      <td>32772</td>\n      <td>58687</td>\n      <td>2003-04-08</td>\n      <td>5</td>\n      <td>I had leftover chocolate chips from another St...</td>\n      <td>30</td>\n      <td>64934</td>\n      <td>2003-04-07</td>\n      <td>['30-minutes-or-less', 'time-to-make', 'course...</td>\n      <td>4</td>\n      <td>['insert toothpicks into the tops of the straw...</td>\n      <td>['milk chocolate chips', 'shortening', 'strawb...</td>\n      <td>3</td>\n      <td>116.6</td>\n      <td>10.0</td>\n      <td>42.0</td>\n      <td>0.0</td>\n      <td>3.0</td>\n      <td>18.0</td>\n    </tr>\n    <tr>\n      <th>217691</th>\n      <td>146629</td>\n      <td>246166</td>\n      <td>2007-10-25</td>\n      <td>5</td>\n      <td>Yum, Yum, Yum!!!!!  This was the most popular ...</td>\n      <td>45</td>\n      <td>141293</td>\n      <td>2007-08-13</td>\n      <td>['60-minutes-or-less', 'time-to-make', 'course...</td>\n      <td>6</td>\n      <td>['heat chicken and buffalo wing sauce in a ski...</td>\n      <td>['canned chicken', 'buffalo wing sauce', 'crea...</td>\n      <td>7</td>\n      <td>277.9</td>\n      <td>33.0</td>\n      <td>9.0</td>\n      <td>21.0</td>\n      <td>21.0</td>\n      <td>42.0</td>\n    </tr>\n    <tr>\n      <th>348031</th>\n      <td>2001534007</td>\n      <td>60350</td>\n      <td>2017-05-12</td>\n      <td>5</td>\n      <td>dont put flour in pasta frineds</td>\n      <td>30</td>\n      <td>24386</td>\n      <td>2003-04-21</td>\n      <td>['30-minutes-or-less', 'time-to-make', 'course...</td>\n      <td>10</td>\n      <td>['cook macaroni according to package direction...</td>\n      <td>['elbow macaroni', 'butter', 'all-purpose flou...</td>\n      <td>7</td>\n      <td>590.7</td>\n      <td>37.0</td>\n      <td>9.0</td>\n      <td>22.0</td>\n      <td>46.0</td>\n      <td>74.0</td>\n    </tr>\n    <tr>\n      <th>534194</th>\n      <td>37036</td>\n      <td>45107</td>\n      <td>2004-02-15</td>\n      <td>5</td>\n      <td>This was fantastic!  I made this cheese ring f...</td>\n      <td>190</td>\n      <td>31499</td>\n      <td>2002-10-31</td>\n      <td>['weeknight', 'time-to-make', 'course', 'main-...</td>\n      <td>6</td>\n      <td>['combine all the ingrdients except preserves ...</td>\n      <td>['sharp cheddar cheese', 'cream cheese', 'mayo...</td>\n      <td>8</td>\n      <td>189.9</td>\n      <td>19.0</td>\n      <td>33.0</td>\n      <td>6.0</td>\n      <td>13.0</td>\n      <td>29.0</td>\n    </tr>\n    <tr>\n      <th>677851</th>\n      <td>5060</td>\n      <td>124192</td>\n      <td>2006-10-04</td>\n      <td>5</td>\n      <td>Oh my goodness!!! How have I missed this one!!...</td>\n      <td>40</td>\n      <td>83400</td>\n      <td>2005-05-31</td>\n      <td>['60-minutes-or-less', 'time-to-make', 'course...</td>\n      <td>12</td>\n      <td>['prepare the vegetables: peel and roughly cho...</td>\n      <td>['potatoes', 'butternut squash', 'sweet potato...</td>\n      <td>13</td>\n      <td>742.1</td>\n      <td>74.0</td>\n      <td>41.0</td>\n      <td>53.0</td>\n      <td>41.0</td>\n      <td>104.0</td>\n    </tr>\n    <tr>\n      <th>885456</th>\n      <td>67656</td>\n      <td>146325</td>\n      <td>2006-05-14</td>\n      <td>5</td>\n      <td>Almost any dish with thyme and balsamic vinega...</td>\n      <td>35</td>\n      <td>248292</td>\n      <td>2005-11-25</td>\n      <td>['60-minutes-or-less', 'time-to-make', 'course...</td>\n      <td>14</td>\n      <td>['combine first four ingredients in a shallow ...</td>\n      <td>['all-purpose flour', 'dried thyme', 'salt', '...</td>\n      <td>11</td>\n      <td>336.5</td>\n      <td>9.0</td>\n      <td>37.0</td>\n      <td>23.0</td>\n      <td>82.0</td>\n      <td>6.0</td>\n    </tr>\n    <tr>\n      <th>907009</th>\n      <td>2409366</td>\n      <td>486496</td>\n      <td>2012-09-18</td>\n      <td>5</td>\n      <td>Not only does my family love these but the guy...</td>\n      <td>60</td>\n      <td>2390546</td>\n      <td>2012-09-06</td>\n      <td>['weeknight', '60-minutes-or-less', 'time-to-m...</td>\n      <td>20</td>\n      <td>['preheat oven to 400f line a rimmed baking sh...</td>\n      <td>['reynolds wrap foil', 'bacon', 'flakey biscui...</td>\n      <td>11</td>\n      <td>664.3</td>\n      <td>71.0</td>\n      <td>42.0</td>\n      <td>68.0</td>\n      <td>37.0</td>\n      <td>101.0</td>\n    </tr>\n    <tr>\n      <th>944738</th>\n      <td>225261</td>\n      <td>90674</td>\n      <td>2009-12-28</td>\n      <td>5</td>\n      <td>Lovew this French Toast!!!  Easy to make and f...</td>\n      <td>22</td>\n      <td>86072</td>\n      <td>2004-05-04</td>\n      <td>['30-minutes-or-less', 'time-to-make', 'course...</td>\n      <td>11</td>\n      <td>['mix together the eggs , milk , flour , sugar...</td>\n      <td>['eggs', 'whole milk', 'flour', 'sugar', 'vani...</td>\n      <td>11</td>\n      <td>264.3</td>\n      <td>16.0</td>\n      <td>55.0</td>\n      <td>15.0</td>\n      <td>16.0</td>\n      <td>27.0</td>\n    </tr>\n  </tbody>\n</table>\n</div>"
     },
     "execution_count": 10,
     "metadata": {},
     "output_type": "execute_result"
    }
   ],
   "source": [
    "get_recommendations(8937)"
   ],
   "metadata": {
    "collapsed": false
   }
  },
  {
   "cell_type": "code",
   "execution_count": 11,
   "outputs": [
    {
     "data": {
      "text/plain": "          user_id  recipe_id        date  rating  \\\n419         28649      33096  2002-07-29       5   \n1916         4005       8507  2001-04-22       5   \n5839   1802640303     515167  2014-04-03       5   \n10625      950262     319562  2008-09-09       5   \n15129       88378      56704  2003-09-22       5   \n15614      305531     241750  2007-08-07       5   \n16858       66246      72654  2003-10-15       5   \n26421      329769     361649  2009-10-31       5   \n27445       12790       9767  2001-07-18       5   \n29112       22015     102853  2004-11-29       5   \n\n                                                  review  minutes  \\\n419    This was very simple and very refreshing.  Thi...       10   \n1916   This is a delicious, healthy and beautiful sal...        5   \n5839                         perfect amount of sweetness       13   \n10625  This is an incredibly good, easy, and beautifu...       30   \n15129  This was just about perfect!  I used a pack of...       20   \n15614  Wonderful! This is so simple and the vanilla '...       60   \n16858  This was a great accompaniment to the baked ha...       15   \n26421  *Reviewed for Aussie Forum recip Swap Nov 09* ...        5   \n27445  Alright - I'm notoriously a bad cook.  My prev...       55   \n29112  We LOVED these.   I am definitely making them ...       28   \n\n       contributor_id   submitted  \\\n419             41578  2002-07-03   \n1916             3288  2000-11-11   \n5839       1802633456  2014-03-31   \n10625          895975  2008-08-14   \n15129           11176  2003-03-20   \n15614          107583  2007-07-21   \n16858           32360  2003-10-06   \n26421          461724  2009-03-19   \n27445            6675  2001-06-29   \n29112          165841  2004-10-28   \n\n                                                    tags  n_steps  \\\n419    ['15-minutes-or-less', 'time-to-make', 'course...        4   \n1916   ['15-minutes-or-less', 'time-to-make', 'course...        4   \n5839   ['15-minutes-or-less', 'time-to-make', 'course...        5   \n10625  ['30-minutes-or-less', 'time-to-make', 'course...        5   \n15129  ['30-minutes-or-less', 'time-to-make', 'course...       14   \n15614  ['60-minutes-or-less', 'time-to-make', 'course...        6   \n16858  ['15-minutes-or-less', 'time-to-make', 'course...        6   \n26421  ['15-minutes-or-less', 'time-to-make', 'course...        2   \n27445  ['60-minutes-or-less', 'time-to-make', 'course...       21   \n29112  ['30-minutes-or-less', 'time-to-make', 'course...        7   \n\n                                                   steps  \\\n419    ['stir the lemonade mix with the water until d...   \n1916   ['slice tomatoes and mozzarella cheese same th...   \n5839   ['first microwave simply potatoes traditional ...   \n10625  ['combine the mango , red pepper , scallions ,...   \n15129  ['season flattened cutlets with a thin coat of...   \n15614  ['allow the butter to soften at room temperatu...   \n16858  ['place all ingredients in a small saucepan in...   \n26421  ['whisk oil , honey , lemon juice , mayonnaise...   \n27445  ['preheat oven to 250f', 'in a medium , nonsti...   \n29112  ['soak the all bran cereal in the water for 5 ...   \n\n                                             ingredients  n_ingredients  \\\n419    ['country time lemonade mix', 'water', 'vanill...              5   \n1916   ['tomatoes', 'mozzarella cheese', 'fresh basil...              6   \n5839   ['simply potatoes traditional mashed potatoes'...              5   \n10625  ['mango', 'red pepper', 'scallion', 'fresh cil...              9   \n15129  ['chicken cutlets', 'salt and pepper', 'flour'...             12   \n15614  ['unsalted butter', 'vanilla bean', 'splenda s...              4   \n16858  ['brown sugar', 'crushed pineapple', 'lemon ju...              6   \n26421  ['olive oil', 'honey', 'lemon juice', 'mayonna...              5   \n27445  ['olive oil', 'red bell pepper', 'yellow bell ...             18   \n29112  ['all-bran cereal', 'water', 'baking powder', ...              4   \n\n       calories  total_fat  sugar  sodium  protein  saturated_fat  \n419       230.5       21.0   75.0     6.0      4.0           39.0  \n1916      320.3       40.0   21.0    15.0     28.0           46.0  \n5839      398.6       45.0   35.0    50.0     22.0           26.0  \n10625     237.2       10.0   38.0     4.0     16.0            3.0  \n15129     280.8       39.0    4.0    22.0      4.0           46.0  \n15614     103.0       17.0    0.0     0.0      0.0           36.0  \n16858     268.8        1.0  255.0     6.0      1.0            0.0  \n26421    1106.1      140.0  304.0    14.0      2.0           62.0  \n27445     794.1       97.0   22.0    35.0     54.0          100.0  \n29112      21.4        0.0    5.0     1.0      2.0            0.0  ",
      "text/html": "<div>\n<style scoped>\n    .dataframe tbody tr th:only-of-type {\n        vertical-align: middle;\n    }\n\n    .dataframe tbody tr th {\n        vertical-align: top;\n    }\n\n    .dataframe thead th {\n        text-align: right;\n    }\n</style>\n<table border=\"1\" class=\"dataframe\">\n  <thead>\n    <tr style=\"text-align: right;\">\n      <th></th>\n      <th>user_id</th>\n      <th>recipe_id</th>\n      <th>date</th>\n      <th>rating</th>\n      <th>review</th>\n      <th>minutes</th>\n      <th>contributor_id</th>\n      <th>submitted</th>\n      <th>tags</th>\n      <th>n_steps</th>\n      <th>steps</th>\n      <th>ingredients</th>\n      <th>n_ingredients</th>\n      <th>calories</th>\n      <th>total_fat</th>\n      <th>sugar</th>\n      <th>sodium</th>\n      <th>protein</th>\n      <th>saturated_fat</th>\n    </tr>\n  </thead>\n  <tbody>\n    <tr>\n      <th>419</th>\n      <td>28649</td>\n      <td>33096</td>\n      <td>2002-07-29</td>\n      <td>5</td>\n      <td>This was very simple and very refreshing.  Thi...</td>\n      <td>10</td>\n      <td>41578</td>\n      <td>2002-07-03</td>\n      <td>['15-minutes-or-less', 'time-to-make', 'course...</td>\n      <td>4</td>\n      <td>['stir the lemonade mix with the water until d...</td>\n      <td>['country time lemonade mix', 'water', 'vanill...</td>\n      <td>5</td>\n      <td>230.5</td>\n      <td>21.0</td>\n      <td>75.0</td>\n      <td>6.0</td>\n      <td>4.0</td>\n      <td>39.0</td>\n    </tr>\n    <tr>\n      <th>1916</th>\n      <td>4005</td>\n      <td>8507</td>\n      <td>2001-04-22</td>\n      <td>5</td>\n      <td>This is a delicious, healthy and beautiful sal...</td>\n      <td>5</td>\n      <td>3288</td>\n      <td>2000-11-11</td>\n      <td>['15-minutes-or-less', 'time-to-make', 'course...</td>\n      <td>4</td>\n      <td>['slice tomatoes and mozzarella cheese same th...</td>\n      <td>['tomatoes', 'mozzarella cheese', 'fresh basil...</td>\n      <td>6</td>\n      <td>320.3</td>\n      <td>40.0</td>\n      <td>21.0</td>\n      <td>15.0</td>\n      <td>28.0</td>\n      <td>46.0</td>\n    </tr>\n    <tr>\n      <th>5839</th>\n      <td>1802640303</td>\n      <td>515167</td>\n      <td>2014-04-03</td>\n      <td>5</td>\n      <td>perfect amount of sweetness</td>\n      <td>13</td>\n      <td>1802633456</td>\n      <td>2014-03-31</td>\n      <td>['15-minutes-or-less', 'time-to-make', 'course...</td>\n      <td>5</td>\n      <td>['first microwave simply potatoes traditional ...</td>\n      <td>['simply potatoes traditional mashed potatoes'...</td>\n      <td>5</td>\n      <td>398.6</td>\n      <td>45.0</td>\n      <td>35.0</td>\n      <td>50.0</td>\n      <td>22.0</td>\n      <td>26.0</td>\n    </tr>\n    <tr>\n      <th>10625</th>\n      <td>950262</td>\n      <td>319562</td>\n      <td>2008-09-09</td>\n      <td>5</td>\n      <td>This is an incredibly good, easy, and beautifu...</td>\n      <td>30</td>\n      <td>895975</td>\n      <td>2008-08-14</td>\n      <td>['30-minutes-or-less', 'time-to-make', 'course...</td>\n      <td>5</td>\n      <td>['combine the mango , red pepper , scallions ,...</td>\n      <td>['mango', 'red pepper', 'scallion', 'fresh cil...</td>\n      <td>9</td>\n      <td>237.2</td>\n      <td>10.0</td>\n      <td>38.0</td>\n      <td>4.0</td>\n      <td>16.0</td>\n      <td>3.0</td>\n    </tr>\n    <tr>\n      <th>15129</th>\n      <td>88378</td>\n      <td>56704</td>\n      <td>2003-09-22</td>\n      <td>5</td>\n      <td>This was just about perfect!  I used a pack of...</td>\n      <td>20</td>\n      <td>11176</td>\n      <td>2003-03-20</td>\n      <td>['30-minutes-or-less', 'time-to-make', 'course...</td>\n      <td>14</td>\n      <td>['season flattened cutlets with a thin coat of...</td>\n      <td>['chicken cutlets', 'salt and pepper', 'flour'...</td>\n      <td>12</td>\n      <td>280.8</td>\n      <td>39.0</td>\n      <td>4.0</td>\n      <td>22.0</td>\n      <td>4.0</td>\n      <td>46.0</td>\n    </tr>\n    <tr>\n      <th>15614</th>\n      <td>305531</td>\n      <td>241750</td>\n      <td>2007-08-07</td>\n      <td>5</td>\n      <td>Wonderful! This is so simple and the vanilla '...</td>\n      <td>60</td>\n      <td>107583</td>\n      <td>2007-07-21</td>\n      <td>['60-minutes-or-less', 'time-to-make', 'course...</td>\n      <td>6</td>\n      <td>['allow the butter to soften at room temperatu...</td>\n      <td>['unsalted butter', 'vanilla bean', 'splenda s...</td>\n      <td>4</td>\n      <td>103.0</td>\n      <td>17.0</td>\n      <td>0.0</td>\n      <td>0.0</td>\n      <td>0.0</td>\n      <td>36.0</td>\n    </tr>\n    <tr>\n      <th>16858</th>\n      <td>66246</td>\n      <td>72654</td>\n      <td>2003-10-15</td>\n      <td>5</td>\n      <td>This was a great accompaniment to the baked ha...</td>\n      <td>15</td>\n      <td>32360</td>\n      <td>2003-10-06</td>\n      <td>['15-minutes-or-less', 'time-to-make', 'course...</td>\n      <td>6</td>\n      <td>['place all ingredients in a small saucepan in...</td>\n      <td>['brown sugar', 'crushed pineapple', 'lemon ju...</td>\n      <td>6</td>\n      <td>268.8</td>\n      <td>1.0</td>\n      <td>255.0</td>\n      <td>6.0</td>\n      <td>1.0</td>\n      <td>0.0</td>\n    </tr>\n    <tr>\n      <th>26421</th>\n      <td>329769</td>\n      <td>361649</td>\n      <td>2009-10-31</td>\n      <td>5</td>\n      <td>*Reviewed for Aussie Forum recip Swap Nov 09* ...</td>\n      <td>5</td>\n      <td>461724</td>\n      <td>2009-03-19</td>\n      <td>['15-minutes-or-less', 'time-to-make', 'course...</td>\n      <td>2</td>\n      <td>['whisk oil , honey , lemon juice , mayonnaise...</td>\n      <td>['olive oil', 'honey', 'lemon juice', 'mayonna...</td>\n      <td>5</td>\n      <td>1106.1</td>\n      <td>140.0</td>\n      <td>304.0</td>\n      <td>14.0</td>\n      <td>2.0</td>\n      <td>62.0</td>\n    </tr>\n    <tr>\n      <th>27445</th>\n      <td>12790</td>\n      <td>9767</td>\n      <td>2001-07-18</td>\n      <td>5</td>\n      <td>Alright - I'm notoriously a bad cook.  My prev...</td>\n      <td>55</td>\n      <td>6675</td>\n      <td>2001-06-29</td>\n      <td>['60-minutes-or-less', 'time-to-make', 'course...</td>\n      <td>21</td>\n      <td>['preheat oven to 250f', 'in a medium , nonsti...</td>\n      <td>['olive oil', 'red bell pepper', 'yellow bell ...</td>\n      <td>18</td>\n      <td>794.1</td>\n      <td>97.0</td>\n      <td>22.0</td>\n      <td>35.0</td>\n      <td>54.0</td>\n      <td>100.0</td>\n    </tr>\n    <tr>\n      <th>29112</th>\n      <td>22015</td>\n      <td>102853</td>\n      <td>2004-11-29</td>\n      <td>5</td>\n      <td>We LOVED these.   I am definitely making them ...</td>\n      <td>28</td>\n      <td>165841</td>\n      <td>2004-10-28</td>\n      <td>['30-minutes-or-less', 'time-to-make', 'course...</td>\n      <td>7</td>\n      <td>['soak the all bran cereal in the water for 5 ...</td>\n      <td>['all-bran cereal', 'water', 'baking powder', ...</td>\n      <td>4</td>\n      <td>21.4</td>\n      <td>0.0</td>\n      <td>5.0</td>\n      <td>1.0</td>\n      <td>2.0</td>\n      <td>0.0</td>\n    </tr>\n  </tbody>\n</table>\n</div>"
     },
     "execution_count": 11,
     "metadata": {},
     "output_type": "execute_result"
    }
   ],
   "source": [
    "get_recommendations(353911)"
   ],
   "metadata": {
    "collapsed": false
   }
  }
 ],
 "metadata": {
  "kernelspec": {
   "display_name": "Python 3",
   "language": "python",
   "name": "python3"
  },
  "language_info": {
   "codemirror_mode": {
    "name": "ipython",
    "version": 2
   },
   "file_extension": ".py",
   "mimetype": "text/x-python",
   "name": "python",
   "nbconvert_exporter": "python",
   "pygments_lexer": "ipython2",
   "version": "2.7.6"
  }
 },
 "nbformat": 4,
 "nbformat_minor": 0
}
