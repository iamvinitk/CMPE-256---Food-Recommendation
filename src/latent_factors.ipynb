{
 "cells": [
  {
   "cell_type": "code",
   "execution_count": 1,
   "metadata": {
    "collapsed": true
   },
   "outputs": [],
   "source": [
    "from tensorflow import keras"
   ]
  },
  {
   "cell_type": "code",
   "execution_count": 2,
   "outputs": [
    {
     "name": "stdout",
     "output_type": "stream",
     "text": [
      "Metal device set to: Apple M1 Pro\n"
     ]
    },
    {
     "name": "stderr",
     "output_type": "stream",
     "text": [
      "WARNING:absl:At this time, the v2.11+ optimizer `tf.keras.optimizers.RestoredOptimizer` runs slowly on M1/M2 Macs, please use the legacy Keras optimizer instead, located at `tf.keras.optimizers.legacy.RestoredOptimizer`.\n",
      "WARNING:absl:At this time, the v2.11+ optimizer `tf.keras.optimizers.Adam` runs slowly on M1/M2 Macs, please use the legacy Keras optimizer instead, located at `tf.keras.optimizers.legacy.Adam`.\n",
      "WARNING:absl:There is a known slowdown when using v2.11+ Keras optimizers on M1/M2 Macs. Falling back to the legacy Keras optimizer, i.e., `tf.keras.optimizers.legacy.Adam`.\n"
     ]
    }
   ],
   "source": [
    "model = keras.models.load_model('recommendation')"
   ],
   "metadata": {
    "collapsed": false
   }
  },
  {
   "cell_type": "code",
   "execution_count": 3,
   "outputs": [
    {
     "name": "stdout",
     "output_type": "stream",
     "text": [
      "Model: \"recommender_net_2\"\n",
      "_________________________________________________________________\n",
      " Layer (type)                Output Shape              Param #   \n",
      "=================================================================\n",
      " embedding_8 (Embedding)     multiple                  401216    \n",
      "                                                                 \n",
      " embedding_9 (Embedding)     multiple                  25076     \n",
      "                                                                 \n",
      " embedding_10 (Embedding)    multiple                  2574416   \n",
      "                                                                 \n",
      " embedding_11 (Embedding)    multiple                  160901    \n",
      "                                                                 \n",
      "=================================================================\n",
      "Total params: 3,161,609\n",
      "Trainable params: 3,161,609\n",
      "Non-trainable params: 0\n",
      "_________________________________________________________________\n"
     ]
    }
   ],
   "source": [
    "model.summary()"
   ],
   "metadata": {
    "collapsed": false
   }
  },
  {
   "cell_type": "code",
   "execution_count": 9,
   "outputs": [
    {
     "data": {
      "text/plain": "array([[-1.2482734e-11, -4.6113757e-10,  3.1781793e-13, ...,\n        -8.7456362e-12, -1.6083565e-08,  6.1290621e-13],\n       [-4.3149123e-11, -1.4943202e-08, -7.3642532e-09, ...,\n        -4.0835452e-08, -7.6951139e-09,  9.3008694e-08],\n       [-3.8467115e-07,  8.0289976e-11,  4.7422271e-09, ...,\n         2.5930722e-08, -1.3445818e-09,  9.4443453e-10],\n       ...,\n       [ 5.3582189e-38, -2.4231987e-38, -2.0584793e-38, ...,\n        -2.2189303e-38,  6.1500187e-41,  3.4746160e-38],\n       [-2.1060462e-38,  4.0677094e-38, -2.5700492e-38, ...,\n        -3.2733127e-38,  5.4699865e-38,  4.0983300e-38],\n       [ 1.3790607e-38,  4.9799210e-38,  6.6246217e-39, ...,\n        -3.4803080e-38,  5.2322725e-38, -4.2692127e-38]], dtype=float32)"
     },
     "execution_count": 9,
     "metadata": {},
     "output_type": "execute_result"
    }
   ],
   "source": [
    "user_embedding = model.user_embedding.get_weights()[0]\n",
    "user_embedding"
   ],
   "metadata": {
    "collapsed": false
   }
  },
  {
   "cell_type": "code",
   "execution_count": 11,
   "outputs": [
    {
     "data": {
      "text/plain": "array([[-1.5226881e-08, -6.0803904e-07, -1.3793978e-11, ...,\n         4.0509622e-07,  1.4212110e-06,  9.1095603e-12],\n       [-7.2413052e-08,  1.2832966e-05, -6.6393477e-07, ...,\n        -6.5502409e-06,  6.5237191e-07, -4.9938762e-08],\n       [-4.9312803e-09, -1.3144530e-07, -3.6259542e-09, ...,\n         9.7115276e-08,  1.1160339e-07,  1.3875087e-11],\n       ...,\n       [ 3.2154151e-11, -3.2611539e-38,  4.5145313e-38, ...,\n         5.4980618e-38, -1.4651231e-38,  3.7171247e-38],\n       [-5.3037359e-38,  3.8472722e-38,  1.5764159e-39, ...,\n        -5.5844137e-38, -4.0527194e-38,  3.8043788e-38],\n       [-1.8484399e-38,  2.8322736e-38, -4.0138911e-38, ...,\n         4.5773807e-38,  2.3441818e-38, -1.0859095e-38]], dtype=float32)"
     },
     "execution_count": 11,
     "metadata": {},
     "output_type": "execute_result"
    }
   ],
   "source": [
    "recipe_embedding = model.book_embedding.get_weights()[0]\n",
    "recipe_embedding"
   ],
   "metadata": {
    "collapsed": false
   }
  },
  {
   "cell_type": "code",
   "execution_count": 12,
   "outputs": [
    {
     "data": {
      "text/plain": "   user_id  recipe_id        date  rating      u       i\n0     2046       4684  2000-02-25     5.0  22095   44367\n1     2046        517  2000-02-25     5.0  22095   87844\n2     1773       7435  2000-03-13     5.0  24732  138181\n3     1773        278  2000-03-13     4.0  24732   93054\n4     2046       3431  2000-04-07     5.0  22095  101723",
      "text/html": "<div>\n<style scoped>\n    .dataframe tbody tr th:only-of-type {\n        vertical-align: middle;\n    }\n\n    .dataframe tbody tr th {\n        vertical-align: top;\n    }\n\n    .dataframe thead th {\n        text-align: right;\n    }\n</style>\n<table border=\"1\" class=\"dataframe\">\n  <thead>\n    <tr style=\"text-align: right;\">\n      <th></th>\n      <th>user_id</th>\n      <th>recipe_id</th>\n      <th>date</th>\n      <th>rating</th>\n      <th>u</th>\n      <th>i</th>\n    </tr>\n  </thead>\n  <tbody>\n    <tr>\n      <th>0</th>\n      <td>2046</td>\n      <td>4684</td>\n      <td>2000-02-25</td>\n      <td>5.0</td>\n      <td>22095</td>\n      <td>44367</td>\n    </tr>\n    <tr>\n      <th>1</th>\n      <td>2046</td>\n      <td>517</td>\n      <td>2000-02-25</td>\n      <td>5.0</td>\n      <td>22095</td>\n      <td>87844</td>\n    </tr>\n    <tr>\n      <th>2</th>\n      <td>1773</td>\n      <td>7435</td>\n      <td>2000-03-13</td>\n      <td>5.0</td>\n      <td>24732</td>\n      <td>138181</td>\n    </tr>\n    <tr>\n      <th>3</th>\n      <td>1773</td>\n      <td>278</td>\n      <td>2000-03-13</td>\n      <td>4.0</td>\n      <td>24732</td>\n      <td>93054</td>\n    </tr>\n    <tr>\n      <th>4</th>\n      <td>2046</td>\n      <td>3431</td>\n      <td>2000-04-07</td>\n      <td>5.0</td>\n      <td>22095</td>\n      <td>101723</td>\n    </tr>\n  </tbody>\n</table>\n</div>"
     },
     "execution_count": 12,
     "metadata": {},
     "output_type": "execute_result"
    }
   ],
   "source": [
    "import pandas as pd\n",
    "\n",
    "data = pd.read_csv('../dataset/interactions_train.csv')\n",
    "data.head()"
   ],
   "metadata": {
    "collapsed": false
   }
  },
  {
   "cell_type": "code",
   "execution_count": 14,
   "outputs": [],
   "source": [
    "# suggest recipes for user_id 2046\n",
    "user_id = 2046"
   ],
   "metadata": {
    "collapsed": false
   }
  },
  {
   "cell_type": "code",
   "execution_count": 15,
   "outputs": [
    {
     "data": {
      "text/plain": "0"
     },
     "execution_count": 15,
     "metadata": {},
     "output_type": "execute_result"
    }
   ],
   "source": [
    "import numpy as np\n",
    "\n",
    "# get the user embedding\n",
    "index = np.where(data['user_id'] == user_id)[0][0]\n",
    "index"
   ],
   "metadata": {
    "collapsed": false
   }
  },
  {
   "cell_type": "code",
   "execution_count": 16,
   "outputs": [
    {
     "data": {
      "text/plain": "array([-1.24827336e-11, -4.61137573e-10,  3.17817929e-13,  2.40696565e-08,\n       -4.49480240e-06,  1.24178055e-11, -3.36472100e-10, -2.37490183e-09,\n        3.01764343e-11,  3.15780824e-09,  1.44995960e-10, -6.40612008e-10,\n        5.52481971e-09, -8.74563616e-12, -1.60835647e-08,  6.12906210e-13],\n      dtype=float32)"
     },
     "execution_count": 16,
     "metadata": {},
     "output_type": "execute_result"
    }
   ],
   "source": [
    "user_embedding[index]"
   ],
   "metadata": {
    "collapsed": false
   }
  },
  {
   "cell_type": "code",
   "execution_count": 17,
   "outputs": [],
   "source": [
    "# calculate the cosine similarity between the user embedding and all recipe embeddings\n",
    "from sklearn.metrics.pairwise import cosine_similarity\n",
    "\n",
    "similarity = cosine_similarity(user_embedding[index].reshape(1, -1), recipe_embedding)"
   ],
   "metadata": {
    "collapsed": false
   }
  },
  {
   "cell_type": "code",
   "execution_count": 18,
   "outputs": [
    {
     "data": {
      "text/plain": "array([[ 4.3215930e-01,  2.8955659e-02,  6.5072961e-03, ...,\n        -8.9294895e-17, -1.3206626e-13, -3.0907588e-38]], dtype=float32)"
     },
     "execution_count": 18,
     "metadata": {},
     "output_type": "execute_result"
    }
   ],
   "source": [
    "similarity"
   ],
   "metadata": {
    "collapsed": false
   }
  },
  {
   "cell_type": "code",
   "execution_count": 19,
   "outputs": [],
   "source": [
    "# get the top 10 most similar recipes\n",
    "top10 = np.argsort(similarity[0])[-10:]"
   ],
   "metadata": {
    "collapsed": false
   }
  },
  {
   "cell_type": "code",
   "execution_count": 20,
   "outputs": [
    {
     "data": {
      "text/plain": "array([ 81306, 129363,  64120, 109725,  76737,  36311, 135682,  44196,\n        14692, 117191])"
     },
     "execution_count": 20,
     "metadata": {},
     "output_type": "execute_result"
    }
   ],
   "source": [
    "top10"
   ],
   "metadata": {
    "collapsed": false
   }
  },
  {
   "cell_type": "code",
   "execution_count": 21,
   "outputs": [],
   "source": [
    "# get the recipe ids of the top 10 most similar recipes\n",
    "recipe_ids = data['recipe_id'].unique()[top10]"
   ],
   "metadata": {
    "collapsed": false
   }
  },
  {
   "cell_type": "code",
   "execution_count": 22,
   "outputs": [
    {
     "data": {
      "text/plain": "array([ 74683, 189308, 173472, 359558, 239160, 130795, 437046,  94696,\n        68970, 112137])"
     },
     "execution_count": 22,
     "metadata": {},
     "output_type": "execute_result"
    }
   ],
   "source": [
    "recipe_ids"
   ],
   "metadata": {
    "collapsed": false
   }
  },
  {
   "cell_type": "code",
   "execution_count": 25,
   "outputs": [],
   "source": [
    "# get the recipe names of the top 10 most similar recipes\n",
    "metadata = pd.read_csv('../dataset/RAW_recipes.csv')"
   ],
   "metadata": {
    "collapsed": false
   }
  },
  {
   "cell_type": "code",
   "execution_count": 26,
   "outputs": [
    {
     "data": {
      "text/plain": "                                         name      id  minutes   \n0  arriba   baked winter squash mexican style  137739       55  \\\n1            a bit different  breakfast pizza   31490       30   \n2                   all in the kitchen  chili  112140      130   \n3                          alouette  potatoes   59389       45   \n4          amish  tomato ketchup  for canning   44061      190   \n\n   contributor_id   submitted   \n0           47892  2005-09-16  \\\n1           26278  2002-06-17   \n2          196586  2005-02-25   \n3           68585  2003-04-14   \n4           41706  2002-10-25   \n\n                                                tags   \n0  ['60-minutes-or-less', 'time-to-make', 'course...  \\\n1  ['30-minutes-or-less', 'time-to-make', 'course...   \n2  ['time-to-make', 'course', 'preparation', 'mai...   \n3  ['60-minutes-or-less', 'time-to-make', 'course...   \n4  ['weeknight', 'time-to-make', 'course', 'main-...   \n\n                                    nutrition  n_steps   \n0       [51.5, 0.0, 13.0, 0.0, 2.0, 0.0, 4.0]       11  \\\n1   [173.4, 18.0, 0.0, 17.0, 22.0, 35.0, 1.0]        9   \n2  [269.8, 22.0, 32.0, 48.0, 39.0, 27.0, 5.0]        6   \n3   [368.1, 17.0, 10.0, 2.0, 14.0, 8.0, 20.0]       11   \n4   [352.9, 1.0, 337.0, 23.0, 3.0, 0.0, 28.0]        5   \n\n                                               steps   \n0  ['make a choice and proceed with recipe', 'dep...  \\\n1  ['preheat oven to 425 degrees f', 'press dough...   \n2  ['brown ground beef in large pot', 'add choppe...   \n3  ['place potatoes in a large pot of lightly sal...   \n4  ['mix all ingredients& boil for 2 1 / 2 hours ...   \n\n                                         description   \n0  autumn is my favorite time of year to cook! th...  \\\n1  this recipe calls for the crust to be prebaked...   \n2  this modified version of 'mom's' chili was a h...   \n3  this is a super easy, great tasting, make ahea...   \n4  my dh's amish mother raised him on this recipe...   \n\n                                         ingredients  n_ingredients  \n0  ['winter squash', 'mexican seasoning', 'mixed ...              7  \n1  ['prepared pizza crust', 'sausage patty', 'egg...              6  \n2  ['ground beef', 'yellow onions', 'diced tomato...             13  \n3  ['spreadable cheese with garlic and herbs', 'n...             11  \n4  ['tomato juice', 'apple cider vinegar', 'sugar...              8  ",
      "text/html": "<div>\n<style scoped>\n    .dataframe tbody tr th:only-of-type {\n        vertical-align: middle;\n    }\n\n    .dataframe tbody tr th {\n        vertical-align: top;\n    }\n\n    .dataframe thead th {\n        text-align: right;\n    }\n</style>\n<table border=\"1\" class=\"dataframe\">\n  <thead>\n    <tr style=\"text-align: right;\">\n      <th></th>\n      <th>name</th>\n      <th>id</th>\n      <th>minutes</th>\n      <th>contributor_id</th>\n      <th>submitted</th>\n      <th>tags</th>\n      <th>nutrition</th>\n      <th>n_steps</th>\n      <th>steps</th>\n      <th>description</th>\n      <th>ingredients</th>\n      <th>n_ingredients</th>\n    </tr>\n  </thead>\n  <tbody>\n    <tr>\n      <th>0</th>\n      <td>arriba   baked winter squash mexican style</td>\n      <td>137739</td>\n      <td>55</td>\n      <td>47892</td>\n      <td>2005-09-16</td>\n      <td>['60-minutes-or-less', 'time-to-make', 'course...</td>\n      <td>[51.5, 0.0, 13.0, 0.0, 2.0, 0.0, 4.0]</td>\n      <td>11</td>\n      <td>['make a choice and proceed with recipe', 'dep...</td>\n      <td>autumn is my favorite time of year to cook! th...</td>\n      <td>['winter squash', 'mexican seasoning', 'mixed ...</td>\n      <td>7</td>\n    </tr>\n    <tr>\n      <th>1</th>\n      <td>a bit different  breakfast pizza</td>\n      <td>31490</td>\n      <td>30</td>\n      <td>26278</td>\n      <td>2002-06-17</td>\n      <td>['30-minutes-or-less', 'time-to-make', 'course...</td>\n      <td>[173.4, 18.0, 0.0, 17.0, 22.0, 35.0, 1.0]</td>\n      <td>9</td>\n      <td>['preheat oven to 425 degrees f', 'press dough...</td>\n      <td>this recipe calls for the crust to be prebaked...</td>\n      <td>['prepared pizza crust', 'sausage patty', 'egg...</td>\n      <td>6</td>\n    </tr>\n    <tr>\n      <th>2</th>\n      <td>all in the kitchen  chili</td>\n      <td>112140</td>\n      <td>130</td>\n      <td>196586</td>\n      <td>2005-02-25</td>\n      <td>['time-to-make', 'course', 'preparation', 'mai...</td>\n      <td>[269.8, 22.0, 32.0, 48.0, 39.0, 27.0, 5.0]</td>\n      <td>6</td>\n      <td>['brown ground beef in large pot', 'add choppe...</td>\n      <td>this modified version of 'mom's' chili was a h...</td>\n      <td>['ground beef', 'yellow onions', 'diced tomato...</td>\n      <td>13</td>\n    </tr>\n    <tr>\n      <th>3</th>\n      <td>alouette  potatoes</td>\n      <td>59389</td>\n      <td>45</td>\n      <td>68585</td>\n      <td>2003-04-14</td>\n      <td>['60-minutes-or-less', 'time-to-make', 'course...</td>\n      <td>[368.1, 17.0, 10.0, 2.0, 14.0, 8.0, 20.0]</td>\n      <td>11</td>\n      <td>['place potatoes in a large pot of lightly sal...</td>\n      <td>this is a super easy, great tasting, make ahea...</td>\n      <td>['spreadable cheese with garlic and herbs', 'n...</td>\n      <td>11</td>\n    </tr>\n    <tr>\n      <th>4</th>\n      <td>amish  tomato ketchup  for canning</td>\n      <td>44061</td>\n      <td>190</td>\n      <td>41706</td>\n      <td>2002-10-25</td>\n      <td>['weeknight', 'time-to-make', 'course', 'main-...</td>\n      <td>[352.9, 1.0, 337.0, 23.0, 3.0, 0.0, 28.0]</td>\n      <td>5</td>\n      <td>['mix all ingredients&amp; boil for 2 1 / 2 hours ...</td>\n      <td>my dh's amish mother raised him on this recipe...</td>\n      <td>['tomato juice', 'apple cider vinegar', 'sugar...</td>\n      <td>8</td>\n    </tr>\n  </tbody>\n</table>\n</div>"
     },
     "execution_count": 26,
     "metadata": {},
     "output_type": "execute_result"
    }
   ],
   "source": [
    "metadata.head()"
   ],
   "metadata": {
    "collapsed": false
   }
  },
  {
   "cell_type": "code",
   "execution_count": 27,
   "outputs": [
    {
     "data": {
      "text/plain": "34479                    camping   meal in one packages\n40315                     cheesy creamy garlic potatoes\n66666                                crock pot chai tea\n107112                    honey   spice crinkle cookies\n145102                          northwest chicken salad\n149412                            orange soymilk frappe\n157427                      penne with chorizo and kale\n196298                               spicy mustard eggs\n226113    white chocolate and peppermint cookie brittle\n229953                       yummy garlicky green beans\nName: name, dtype: object"
     },
     "execution_count": 27,
     "metadata": {},
     "output_type": "execute_result"
    }
   ],
   "source": [
    "metadata[metadata['id'].isin(recipe_ids)]['name']"
   ],
   "metadata": {
    "collapsed": false
   }
  },
  {
   "cell_type": "code",
   "execution_count": 32,
   "outputs": [],
   "source": [
    "# suggest similar recipes for recipe_id 107112\n",
    "recipe_id = 4684"
   ],
   "metadata": {
    "collapsed": false
   }
  },
  {
   "cell_type": "code",
   "execution_count": 33,
   "outputs": [],
   "source": [
    "# get the recipe embedding\n",
    "index = np.where(data['recipe_id'] == recipe_id)[0][0]"
   ],
   "metadata": {
    "collapsed": false
   }
  },
  {
   "cell_type": "code",
   "execution_count": 34,
   "outputs": [
    {
     "data": {
      "text/plain": "array([-1.5226881e-08, -6.0803904e-07, -1.3793978e-11,  4.2111384e-12,\n       -8.6829112e-07,  3.3826217e-07,  6.8160533e-11,  3.3575768e-07,\n        3.7193485e-07,  3.0458804e-09,  5.6160104e-07, -2.7985760e-11,\n        6.4248162e-09,  4.0509622e-07,  1.4212110e-06,  9.1095603e-12],\n      dtype=float32)"
     },
     "execution_count": 34,
     "metadata": {},
     "output_type": "execute_result"
    }
   ],
   "source": [
    "recipe_embedding[index]"
   ],
   "metadata": {
    "collapsed": false
   }
  },
  {
   "cell_type": "code",
   "execution_count": 35,
   "outputs": [],
   "source": [
    "# calculate the cosine similarity between the recipe embedding and all recipe embeddings\n",
    "similarity = cosine_similarity(recipe_embedding[index].reshape(1, -1), recipe_embedding)"
   ],
   "metadata": {
    "collapsed": false
   }
  },
  {
   "cell_type": "code",
   "execution_count": 36,
   "outputs": [
    {
     "data": {
      "text/plain": "array([[ 9.9999994e-01, -3.4556323e-01,  3.6990246e-01, ...,\n        -2.4514863e-13, -2.8669526e-13, -2.3327402e-38]], dtype=float32)"
     },
     "execution_count": 36,
     "metadata": {},
     "output_type": "execute_result"
    }
   ],
   "source": [
    "similarity"
   ],
   "metadata": {
    "collapsed": false
   }
  },
  {
   "cell_type": "code",
   "execution_count": 37,
   "outputs": [],
   "source": [
    "# get the top 10 most similar recipes\n",
    "top10 = np.argsort(similarity[0])[-10:]"
   ],
   "metadata": {
    "collapsed": false
   }
  },
  {
   "cell_type": "code",
   "execution_count": 38,
   "outputs": [
    {
     "data": {
      "text/plain": "array([114680,  43818,  35800, 108202,  26433, 122827,  12194,  17617,\n        67273,      0])"
     },
     "execution_count": 38,
     "metadata": {},
     "output_type": "execute_result"
    }
   ],
   "source": [
    "top10"
   ],
   "metadata": {
    "collapsed": false
   }
  },
  {
   "cell_type": "code",
   "execution_count": 39,
   "outputs": [],
   "source": [
    "# get the recipe ids of the top 10 most similar recipes\n",
    "recipe_ids = data['recipe_id'].unique()[top10]"
   ],
   "metadata": {
    "collapsed": false
   }
  },
  {
   "cell_type": "code",
   "execution_count": 40,
   "outputs": [
    {
     "data": {
      "text/plain": "array([372353, 123414, 127624,  44555, 101771, 185628,  49073,  78347,\n       199179,   4684])"
     },
     "execution_count": 40,
     "metadata": {},
     "output_type": "execute_result"
    }
   ],
   "source": [
    "recipe_ids"
   ],
   "metadata": {
    "collapsed": false
   }
  },
  {
   "cell_type": "code",
   "execution_count": 43,
   "outputs": [
    {
     "data": {
      "text/plain": "                                                     name      id  minutes   \n6826                         apple graham cracker dessert  199179       60  \\\n34430                          campbells chicken zucchini   78347       45   \n35010                        cantaloupe red wine surprise  123414       20   \n84749                flank steak with lime chipotle sauce    4684       75   \n106419  homemade chicken noodle soup with garlic chili...  101771       60   \n123298        lentils with mushrooms in a pressure cooker  185628       35   \n153162                   parmesan mustard mashed potatoes   49073       38   \n160213                                      pineapple jam  127624       55   \n188963                           slow cooker hot crab dip   44555       80   \n204925                   swedish cabbage and orange salad  372353        8   \n\n        contributor_id   submitted   \n6826             22015  2006-12-04  \\\n34430            43083  2003-12-09   \n35010            67899  2005-05-23   \n84749             1533  1999-11-18   \n106419           37449  2004-10-12   \n123298          346475  2006-09-11   \n153162           27416  2002-12-17   \n160213           54271  2005-06-27   \n188963           29300  2002-10-29   \n204925          424680  2009-05-17   \n\n                                                     tags   \n6826    ['60-minutes-or-less', 'time-to-make', 'course...  \\\n34430   ['60-minutes-or-less', 'time-to-make', 'course...   \n35010   ['lactose', '30-minutes-or-less', 'time-to-mak...   \n84749   ['time-to-make', 'course', 'main-ingredient', ...   \n106419  ['60-minutes-or-less', 'time-to-make', 'course...   \n123298  ['60-minutes-or-less', 'time-to-make', 'course...   \n153162  ['60-minutes-or-less', 'time-to-make', 'course...   \n160213  ['60-minutes-or-less', 'time-to-make', 'course...   \n188963  ['weeknight', 'time-to-make', 'course', 'main-...   \n204925  ['15-minutes-or-less', 'time-to-make', 'course...   \n\n                                           nutrition  n_steps   \n6826       [141.8, 12.0, 23.0, 15.0, 7.0, 13.0, 4.0]       12  \\\n34430      [243.3, 20.0, 9.0, 27.0, 42.0, 27.0, 3.0]        8   \n35010         [186.5, 0.0, 84.0, 1.0, 2.0, 0.0, 8.0]       12   \n84749   [487.8, 16.0, 283.0, 13.0, 52.0, 20.0, 26.0]        6   \n106419  [915.2, 69.0, 66.0, 35.0, 135.0, 58.0, 19.0]       26   \n123298    [281.9, 16.0, 12.0, 1.0, 27.0, 15.0, 11.0]        9   \n153162   [274.8, 13.0, 18.0, 20.0, 21.0, 26.0, 12.0]       19   \n160213      [555.7, 0.0, 537.0, 0.0, 0.0, 0.0, 48.0]       17   \n188963     [115.0, 14.0, 6.0, 10.0, 11.0, 24.0, 0.0]        9   \n204925         [96.9, 5.0, 47.0, 0.0, 2.0, 2.0, 5.0]        3   \n\n                                                    steps   \n6826    ['preheat oven to 350 degrees', 'spray a 9x9-i...  \\\n34430   ['mix soup , milk , onion , cheese& sour cream...   \n35010   ['warm wine in a shallow saucepan over low hea...   \n84749   ['mix honey with chilies , mustard , lime juic...   \n106419  ['to make stock , rinse chicken parts in cold ...   \n123298  ['chop the onion , celery , carrot , and mushr...   \n153162  ['if using red potatoes , scrub skins off: do ...   \n160213  ['add enough water to undrained pineapple to m...   \n188963  ['preheat oven to 350 degrees', 'spray a slow ...   \n204925  ['in a covered container , combine cabbage , o...   \n\n                                              description   \n6826    a new twist - almost a combination of pie and ...  \\\n34430   i got this off the back of a campbells soup ca...   \n35010   now this is the way to eat fruit! the recipe i...   \n84749                                                 yum   \n106419  chicken soup is not only good for a cold, it m...   \n123298  any mushrooms will do, but i recommend using c...   \n153162  a very tasty and easy to make mashed potato re...   \n160213                            found on kraftfoods.com   \n188963                                                NaN   \n204925  this recipe was found in the 1973 cookbook, sc...   \n\n                                              ingredients  n_ingredients  \n6826    ['light apple pie filling', 'butter', 'splenda...             10  \n34430   ['cream of mushroom soup', 'milk', 'onion', 'p...              8  \n35010   ['red wine', 'sugar', 'cantaloupe', 'lemon', '...              5  \n84749   ['flank steaks', 'honey', 'chipotle chiles in ...             10  \n106419  ['chicken', 'celery', 'carrots', 'onions', 'bl...             18  \n123298  ['celery', 'carrot', 'onion', 'mushrooms', 'ga...             11  \n153162  ['red potatoes', 'whole milk', 'low-fat sour c...              8  \n160213  ['crushed pineapple in syrup', 'sure-jell', 'b...              4  \n188963  ['butter-flavored cooking spray', 'cream chees...             11  \n204925  ['cabbage', 'navel oranges', 'golden raisin', ...              5  ",
      "text/html": "<div>\n<style scoped>\n    .dataframe tbody tr th:only-of-type {\n        vertical-align: middle;\n    }\n\n    .dataframe tbody tr th {\n        vertical-align: top;\n    }\n\n    .dataframe thead th {\n        text-align: right;\n    }\n</style>\n<table border=\"1\" class=\"dataframe\">\n  <thead>\n    <tr style=\"text-align: right;\">\n      <th></th>\n      <th>name</th>\n      <th>id</th>\n      <th>minutes</th>\n      <th>contributor_id</th>\n      <th>submitted</th>\n      <th>tags</th>\n      <th>nutrition</th>\n      <th>n_steps</th>\n      <th>steps</th>\n      <th>description</th>\n      <th>ingredients</th>\n      <th>n_ingredients</th>\n    </tr>\n  </thead>\n  <tbody>\n    <tr>\n      <th>6826</th>\n      <td>apple graham cracker dessert</td>\n      <td>199179</td>\n      <td>60</td>\n      <td>22015</td>\n      <td>2006-12-04</td>\n      <td>['60-minutes-or-less', 'time-to-make', 'course...</td>\n      <td>[141.8, 12.0, 23.0, 15.0, 7.0, 13.0, 4.0]</td>\n      <td>12</td>\n      <td>['preheat oven to 350 degrees', 'spray a 9x9-i...</td>\n      <td>a new twist - almost a combination of pie and ...</td>\n      <td>['light apple pie filling', 'butter', 'splenda...</td>\n      <td>10</td>\n    </tr>\n    <tr>\n      <th>34430</th>\n      <td>campbells chicken zucchini</td>\n      <td>78347</td>\n      <td>45</td>\n      <td>43083</td>\n      <td>2003-12-09</td>\n      <td>['60-minutes-or-less', 'time-to-make', 'course...</td>\n      <td>[243.3, 20.0, 9.0, 27.0, 42.0, 27.0, 3.0]</td>\n      <td>8</td>\n      <td>['mix soup , milk , onion , cheese&amp; sour cream...</td>\n      <td>i got this off the back of a campbells soup ca...</td>\n      <td>['cream of mushroom soup', 'milk', 'onion', 'p...</td>\n      <td>8</td>\n    </tr>\n    <tr>\n      <th>35010</th>\n      <td>cantaloupe red wine surprise</td>\n      <td>123414</td>\n      <td>20</td>\n      <td>67899</td>\n      <td>2005-05-23</td>\n      <td>['lactose', '30-minutes-or-less', 'time-to-mak...</td>\n      <td>[186.5, 0.0, 84.0, 1.0, 2.0, 0.0, 8.0]</td>\n      <td>12</td>\n      <td>['warm wine in a shallow saucepan over low hea...</td>\n      <td>now this is the way to eat fruit! the recipe i...</td>\n      <td>['red wine', 'sugar', 'cantaloupe', 'lemon', '...</td>\n      <td>5</td>\n    </tr>\n    <tr>\n      <th>84749</th>\n      <td>flank steak with lime chipotle sauce</td>\n      <td>4684</td>\n      <td>75</td>\n      <td>1533</td>\n      <td>1999-11-18</td>\n      <td>['time-to-make', 'course', 'main-ingredient', ...</td>\n      <td>[487.8, 16.0, 283.0, 13.0, 52.0, 20.0, 26.0]</td>\n      <td>6</td>\n      <td>['mix honey with chilies , mustard , lime juic...</td>\n      <td>yum</td>\n      <td>['flank steaks', 'honey', 'chipotle chiles in ...</td>\n      <td>10</td>\n    </tr>\n    <tr>\n      <th>106419</th>\n      <td>homemade chicken noodle soup with garlic chili...</td>\n      <td>101771</td>\n      <td>60</td>\n      <td>37449</td>\n      <td>2004-10-12</td>\n      <td>['60-minutes-or-less', 'time-to-make', 'course...</td>\n      <td>[915.2, 69.0, 66.0, 35.0, 135.0, 58.0, 19.0]</td>\n      <td>26</td>\n      <td>['to make stock , rinse chicken parts in cold ...</td>\n      <td>chicken soup is not only good for a cold, it m...</td>\n      <td>['chicken', 'celery', 'carrots', 'onions', 'bl...</td>\n      <td>18</td>\n    </tr>\n    <tr>\n      <th>123298</th>\n      <td>lentils with mushrooms in a pressure cooker</td>\n      <td>185628</td>\n      <td>35</td>\n      <td>346475</td>\n      <td>2006-09-11</td>\n      <td>['60-minutes-or-less', 'time-to-make', 'course...</td>\n      <td>[281.9, 16.0, 12.0, 1.0, 27.0, 15.0, 11.0]</td>\n      <td>9</td>\n      <td>['chop the onion , celery , carrot , and mushr...</td>\n      <td>any mushrooms will do, but i recommend using c...</td>\n      <td>['celery', 'carrot', 'onion', 'mushrooms', 'ga...</td>\n      <td>11</td>\n    </tr>\n    <tr>\n      <th>153162</th>\n      <td>parmesan mustard mashed potatoes</td>\n      <td>49073</td>\n      <td>38</td>\n      <td>27416</td>\n      <td>2002-12-17</td>\n      <td>['60-minutes-or-less', 'time-to-make', 'course...</td>\n      <td>[274.8, 13.0, 18.0, 20.0, 21.0, 26.0, 12.0]</td>\n      <td>19</td>\n      <td>['if using red potatoes , scrub skins off: do ...</td>\n      <td>a very tasty and easy to make mashed potato re...</td>\n      <td>['red potatoes', 'whole milk', 'low-fat sour c...</td>\n      <td>8</td>\n    </tr>\n    <tr>\n      <th>160213</th>\n      <td>pineapple jam</td>\n      <td>127624</td>\n      <td>55</td>\n      <td>54271</td>\n      <td>2005-06-27</td>\n      <td>['60-minutes-or-less', 'time-to-make', 'course...</td>\n      <td>[555.7, 0.0, 537.0, 0.0, 0.0, 0.0, 48.0]</td>\n      <td>17</td>\n      <td>['add enough water to undrained pineapple to m...</td>\n      <td>found on kraftfoods.com</td>\n      <td>['crushed pineapple in syrup', 'sure-jell', 'b...</td>\n      <td>4</td>\n    </tr>\n    <tr>\n      <th>188963</th>\n      <td>slow cooker hot crab dip</td>\n      <td>44555</td>\n      <td>80</td>\n      <td>29300</td>\n      <td>2002-10-29</td>\n      <td>['weeknight', 'time-to-make', 'course', 'main-...</td>\n      <td>[115.0, 14.0, 6.0, 10.0, 11.0, 24.0, 0.0]</td>\n      <td>9</td>\n      <td>['preheat oven to 350 degrees', 'spray a slow ...</td>\n      <td>NaN</td>\n      <td>['butter-flavored cooking spray', 'cream chees...</td>\n      <td>11</td>\n    </tr>\n    <tr>\n      <th>204925</th>\n      <td>swedish cabbage and orange salad</td>\n      <td>372353</td>\n      <td>8</td>\n      <td>424680</td>\n      <td>2009-05-17</td>\n      <td>['15-minutes-or-less', 'time-to-make', 'course...</td>\n      <td>[96.9, 5.0, 47.0, 0.0, 2.0, 2.0, 5.0]</td>\n      <td>3</td>\n      <td>['in a covered container , combine cabbage , o...</td>\n      <td>this recipe was found in the 1973 cookbook, sc...</td>\n      <td>['cabbage', 'navel oranges', 'golden raisin', ...</td>\n      <td>5</td>\n    </tr>\n  </tbody>\n</table>\n</div>"
     },
     "execution_count": 43,
     "metadata": {},
     "output_type": "execute_result"
    }
   ],
   "source": [
    "# get the recipe names of the top 10 most similar recipes\n",
    "metadata[metadata['id'].isin(recipe_ids)]"
   ],
   "metadata": {
    "collapsed": false
   }
  },
  {
   "cell_type": "code",
   "execution_count": 44,
   "outputs": [
    {
     "data": {
      "text/plain": "                                       name    id  minutes  contributor_id   \n84749  flank steak with lime chipotle sauce  4684       75            1533  \\\n\n        submitted                                               tags   \n84749  1999-11-18  ['time-to-make', 'course', 'main-ingredient', ...  \\\n\n                                          nutrition  n_steps   \n84749  [487.8, 16.0, 283.0, 13.0, 52.0, 20.0, 26.0]        6  \\\n\n                                                   steps description   \n84749  ['mix honey with chilies , mustard , lime juic...         yum  \\\n\n                                             ingredients  n_ingredients  \n84749  ['flank steaks', 'honey', 'chipotle chiles in ...             10  ",
      "text/html": "<div>\n<style scoped>\n    .dataframe tbody tr th:only-of-type {\n        vertical-align: middle;\n    }\n\n    .dataframe tbody tr th {\n        vertical-align: top;\n    }\n\n    .dataframe thead th {\n        text-align: right;\n    }\n</style>\n<table border=\"1\" class=\"dataframe\">\n  <thead>\n    <tr style=\"text-align: right;\">\n      <th></th>\n      <th>name</th>\n      <th>id</th>\n      <th>minutes</th>\n      <th>contributor_id</th>\n      <th>submitted</th>\n      <th>tags</th>\n      <th>nutrition</th>\n      <th>n_steps</th>\n      <th>steps</th>\n      <th>description</th>\n      <th>ingredients</th>\n      <th>n_ingredients</th>\n    </tr>\n  </thead>\n  <tbody>\n    <tr>\n      <th>84749</th>\n      <td>flank steak with lime chipotle sauce</td>\n      <td>4684</td>\n      <td>75</td>\n      <td>1533</td>\n      <td>1999-11-18</td>\n      <td>['time-to-make', 'course', 'main-ingredient', ...</td>\n      <td>[487.8, 16.0, 283.0, 13.0, 52.0, 20.0, 26.0]</td>\n      <td>6</td>\n      <td>['mix honey with chilies , mustard , lime juic...</td>\n      <td>yum</td>\n      <td>['flank steaks', 'honey', 'chipotle chiles in ...</td>\n      <td>10</td>\n    </tr>\n  </tbody>\n</table>\n</div>"
     },
     "execution_count": 44,
     "metadata": {},
     "output_type": "execute_result"
    }
   ],
   "source": [
    "# get the recipe names of the original recipe\n",
    "metadata[metadata['id'] == recipe_id]"
   ],
   "metadata": {
    "collapsed": false
   }
  },
  {
   "cell_type": "code",
   "execution_count": 45,
   "outputs": [],
   "source": [
    "recipe_ids = np.arange(len(recipe_embedding))"
   ],
   "metadata": {
    "collapsed": false
   }
  },
  {
   "cell_type": "code",
   "execution_count": 46,
   "outputs": [
    {
     "data": {
      "text/plain": "array([     0,      1,      2, ..., 160898, 160899, 160900])"
     },
     "execution_count": 46,
     "metadata": {},
     "output_type": "execute_result"
    }
   ],
   "source": [
    "recipe_ids"
   ],
   "metadata": {
    "collapsed": false
   }
  },
  {
   "cell_type": "code",
   "execution_count": 47,
   "outputs": [],
   "source": [
    "# calculate similarity scores for each recipe\n",
    "similarity_scores = np.dot(user_embedding, recipe_embedding.T)"
   ],
   "metadata": {
    "collapsed": false
   }
  },
  {
   "cell_type": "code",
   "execution_count": 48,
   "outputs": [
    {
     "data": {
      "text/plain": "array([[ 3.8795607e-12,  2.9956261e-12,  1.1537303e-13, ...,\n        -4.0137170e-22, -5.9362477e-19, -1.3872855e-43],\n       [-4.0591350e-13, -5.5439849e-13, -7.3628300e-13, ...,\n        -1.3874234e-21,  1.9092851e-17,  2.2420775e-44],\n       [ 9.9668822e-14, -2.5891294e-12,  2.8330463e-13, ...,\n        -1.2368775e-17, -7.8645210e-19,  1.4012985e-45],\n       ...,\n       [ 6.1657132e-44, -1.1098284e-42, -4.4841551e-44, ...,\n         0.0000000e+00,  0.0000000e+00,  0.0000000e+00],\n       [ 7.7071416e-44,  1.5162049e-42,  2.4382593e-43, ...,\n         0.0000000e+00,  0.0000000e+00,  0.0000000e+00],\n       [-5.1848043e-44,  1.8286945e-42, -4.0637655e-44, ...,\n         0.0000000e+00,  0.0000000e+00,  0.0000000e+00]], dtype=float32)"
     },
     "execution_count": 48,
     "metadata": {},
     "output_type": "execute_result"
    }
   ],
   "source": [
    "similarity_scores"
   ],
   "metadata": {
    "collapsed": false
   }
  },
  {
   "cell_type": "code",
   "execution_count": 49,
   "outputs": [],
   "source": [
    "sorted_recipe_ids = np.argsort(similarity_scores)[::-1]"
   ],
   "metadata": {
    "collapsed": false
   }
  },
  {
   "cell_type": "code",
   "execution_count": 50,
   "outputs": [
    {
     "data": {
      "text/plain": "array([[ 56166,  90502,  53415, ...,  88185, 132000, 118356],\n       [122887, 113047,  88870, ..., 118213,  88185,  77424],\n       [ 88185, 139442,  84140, ...,  51304, 105332, 138465],\n       ...,\n       [130692, 138465,  85469, ...,  74399,  39748,  90043],\n       [ 42382, 110823,  93550, ..., 130471,  67521, 132000],\n       [132638, 122296,  65128, ...,  39748, 110823,  69053]])"
     },
     "execution_count": 50,
     "metadata": {},
     "output_type": "execute_result"
    }
   ],
   "source": [
    "sorted_recipe_ids"
   ],
   "metadata": {
    "collapsed": false
   }
  },
  {
   "cell_type": "code",
   "execution_count": 51,
   "outputs": [],
   "source": [
    "def get_already_interacted_recipe_ids(user_id):\n",
    "    return data[data['user_id'] == user_id]['recipe_id'].unique()"
   ],
   "metadata": {
    "collapsed": false
   }
  },
  {
   "cell_type": "code",
   "execution_count": null,
   "outputs": [],
   "source": [
    "# exclude recipes that user has already interacted with\n",
    "already_interacted_recipe_ids = get_already_interacted_recipe_ids(user_id)\n",
    "sorted_recipe_ids = np.setdiff1d(sorted_recipe_ids, already_interacted_recipe_ids)"
   ],
   "metadata": {
    "collapsed": false
   }
  },
  {
   "cell_type": "code",
   "execution_count": null,
   "outputs": [],
   "source": [
    "sorted_recipe_ids"
   ],
   "metadata": {
    "collapsed": false
   }
  },
  {
   "cell_type": "code",
   "execution_count": null,
   "outputs": [],
   "source": [
    "n = 10\n",
    "top_n_recipe_ids = sorted_recipe_ids[:n]\n",
    "top_n_recipe_latent_factors = recipe_embedding[top_n_recipe_ids]"
   ],
   "metadata": {
    "collapsed": false
   }
  },
  {
   "cell_type": "code",
   "execution_count": null,
   "outputs": [],
   "source": [],
   "metadata": {
    "collapsed": false
   }
  },
  {
   "cell_type": "code",
   "execution_count": null,
   "outputs": [],
   "source": [
    "import numpy as np\n",
    "\n",
    "# recipe_id and recipe_latent_factors are assumed to be given\n",
    "recipe_ids = np.arange(len(recipe_embedding))\n",
    "\n",
    "# calculate similarity scores for each recipe\n",
    "similarity_scores = np.dot(recipe_embedding, recipe_embedding.T)\n",
    "\n",
    "# sort recipes by similarity score\n",
    "sorted_recipe_ids = np.argsort(similarity_scores[recipe_id])[::-1]\n",
    "\n",
    "# exclude the recipe itself\n",
    "sorted_recipe_ids = np.setdiff1d(sorted_recipe_ids, recipe_id)\n",
    "\n",
    "# return top N recommendations\n",
    "n = 10\n",
    "top_n_recipe_ids = sorted_recipe_ids[:n]\n",
    "top_n_recipe_latent_factors = recipe_latent_factors[top_n_recipe_ids]"
   ],
   "metadata": {
    "collapsed": false
   }
  }
 ],
 "metadata": {
  "kernelspec": {
   "display_name": "Python 3",
   "language": "python",
   "name": "python3"
  },
  "language_info": {
   "codemirror_mode": {
    "name": "ipython",
    "version": 2
   },
   "file_extension": ".py",
   "mimetype": "text/x-python",
   "name": "python",
   "nbconvert_exporter": "python",
   "pygments_lexer": "ipython2",
   "version": "2.7.6"
  }
 },
 "nbformat": 4,
 "nbformat_minor": 0
}
