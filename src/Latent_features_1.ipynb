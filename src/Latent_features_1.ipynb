{
 "cells": [
  {
   "cell_type": "code",
   "execution_count": 3,
   "metadata": {},
   "outputs": [],
   "source": [
    "# Import required libraries\n",
    "import numpy as np\n",
    "import pandas as pd\n",
    "from sklearn.decomposition import NMF\n",
    "from sklearn.metrics.pairwise import cosine_similarity"
   ]
  },
  {
   "cell_type": "code",
   "execution_count": 4,
   "metadata": {},
   "outputs": [],
   "source": [
    "# Load data\n",
    "data = pd.read_csv('../dataset/preprocessed_data.csv')"
   ]
  },
  {
   "cell_type": "code",
   "execution_count": 6,
   "metadata": {},
   "outputs": [],
   "source": [
    "# Define numerical columns\n",
    "num_cols = ['minutes', 'n_steps', 'n_ingredients', 'calories', 'total_fat', 'sugar', 'sodium', 'protein', 'saturated_fat', 'carbohydrates']\n",
    "\n",
    "# Create user-item matrix\n",
    "n_users = data['user_id'].nunique()\n",
    "n_items = data['recipe_id'].nunique()\n",
    "user_item_matrix = np.zeros((n_users, n_items))\n",
    "for row in data.itertuples():    \n",
    "    user_item_matrix[int(row[1]-1), int(row[14]-1)] = row[15]"
   ]
  },
  {
   "cell_type": "code",
   "execution_count": 7,
   "metadata": {},
   "outputs": [
    {
     "ename": "",
     "evalue": "",
     "output_type": "error",
     "traceback": [
      "The Kernel crashed while executing code in the the current cell or a previous cell. Please review the code in the cell(s) to identify a possible cause of the failure. Click <a href='https://aka.ms/vscodeJupyterKernelCrash'>here</a> for more info. View Jupyter <a href='command:jupyter.viewOutput'>log</a> for further details."
     ]
    },
    {
     "ename": "",
     "evalue": "",
     "output_type": "error",
     "traceback": [
      "\u001b[1;31mCanceled future for execute_request message before replies were done"
     ]
    }
   ],
   "source": [
    "# Perform matrix factorization using NMF\n",
    "k = 10  # Number of latent features to extract\n",
    "model = NMF(n_components=k, max_iter=100)\n",
    "W = model.fit_transform(user_item_matrix)\n",
    "H = model.components_"
   ]
  },
  {
   "cell_type": "code",
   "execution_count": null,
   "metadata": {},
   "outputs": [],
   "source": [
    "# Compute item-item similarity using cosine similarity\n",
    "item_item_similarity = cosine_similarity(H.T)"
   ]
  },
  {
   "cell_type": "code",
   "execution_count": null,
   "metadata": {},
   "outputs": [],
   "source": [
    "# Define function to get similar recipe_ids based on user-item interactions and other features\n",
    "def recommend_similar_recipes(user_id, recipe_id, top_n=5):\n",
    "    user_idx = user_id - 1\n",
    "    recipe_idx = recipe_id - 1\n",
    "    \n",
    "    # Get latent features for user\n",
    "    user_latent_features = W[user_idx, :]\n",
    "    \n",
    "    # Get latent features for recipe\n",
    "    recipe_latent_features = H[:, recipe_idx]\n",
    "    \n",
    "    # Combine latent features with other features\n",
    "    recipe_features = np.concatenate((recipe_latent_features, data.loc[recipe_idx, num_cols].values))\n",
    "    \n",
    "    # Compute similarity between recipe and other recipes\n",
    "    similarities = cosine_similarity([recipe_features], np.concatenate((H.T, data[num_cols]), axis=1))[0]\n",
    "    \n",
    "    # Get top n most similar recipe_ids\n",
    "    similar_recipe_ids = np.argsort(-similarities)[:top_n]\n",
    "    \n",
    "    return similar_recipe_ids + 1  # Add 1 to convert back to 1-indexing\n"
   ]
  },
  {
   "cell_type": "code",
   "execution_count": null,
   "metadata": {},
   "outputs": [],
   "source": [
    "\n",
    "# Example usage\n",
    "user_id = 492\n",
    "recipe_id = 20636\n",
    "similar_recipe_ids = recommend_similar_recipes(user_id, recipe_id, top_n=5)\n",
    "print(similar_recipe_ids)"
   ]
  }
 ],
 "metadata": {
  "kernelspec": {
   "display_name": "Python 3.10.6 64-bit",
   "language": "python",
   "name": "python3"
  },
  "language_info": {
   "codemirror_mode": {
    "name": "ipython",
    "version": 3
   },
   "file_extension": ".py",
   "mimetype": "text/x-python",
   "name": "python",
   "nbconvert_exporter": "python",
   "pygments_lexer": "ipython3",
   "version": "3.10.6"
  },
  "orig_nbformat": 4,
  "vscode": {
   "interpreter": {
    "hash": "949777d72b0d2535278d3dc13498b2535136f6dfe0678499012e853ee9abcab1"
   }
  }
 },
 "nbformat": 4,
 "nbformat_minor": 2
}
