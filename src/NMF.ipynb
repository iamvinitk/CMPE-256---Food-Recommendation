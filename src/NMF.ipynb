{
 "cells": [
  {
   "cell_type": "code",
   "execution_count": 34,
   "metadata": {},
   "outputs": [],
   "source": [
    "import pandas as pd\n",
    "import numpy as np"
   ]
  },
  {
   "cell_type": "code",
   "execution_count": 35,
   "metadata": {},
   "outputs": [],
   "source": [
    "dataset = pd.read_csv('../dataset/preprocessed_data.csv')"
   ]
  },
  {
   "cell_type": "code",
   "execution_count": 36,
   "metadata": {},
   "outputs": [
    {
     "data": {
      "text/html": [
       "<div>\n",
       "<style scoped>\n",
       "    .dataframe tbody tr th:only-of-type {\n",
       "        vertical-align: middle;\n",
       "    }\n",
       "\n",
       "    .dataframe tbody tr th {\n",
       "        vertical-align: top;\n",
       "    }\n",
       "\n",
       "    .dataframe thead th {\n",
       "        text-align: right;\n",
       "    }\n",
       "</style>\n",
       "<table border=\"1\" class=\"dataframe\">\n",
       "  <thead>\n",
       "    <tr style=\"text-align: right;\">\n",
       "      <th></th>\n",
       "      <th>user_id</th>\n",
       "      <th>recipe_id</th>\n",
       "      <th>date</th>\n",
       "      <th>rating</th>\n",
       "      <th>review</th>\n",
       "      <th>name</th>\n",
       "      <th>minutes</th>\n",
       "      <th>contributor_id</th>\n",
       "      <th>submitted</th>\n",
       "      <th>tags</th>\n",
       "      <th>...</th>\n",
       "      <th>sugar</th>\n",
       "      <th>sodium</th>\n",
       "      <th>protein</th>\n",
       "      <th>saturated_fat</th>\n",
       "      <th>carbohydrates</th>\n",
       "      <th>food_types</th>\n",
       "      <th>negative</th>\n",
       "      <th>neutral</th>\n",
       "      <th>positive</th>\n",
       "      <th>compound</th>\n",
       "    </tr>\n",
       "  </thead>\n",
       "  <tbody>\n",
       "    <tr>\n",
       "      <th>0</th>\n",
       "      <td>7708</td>\n",
       "      <td>60599</td>\n",
       "      <td>2005-09-02</td>\n",
       "      <td>4</td>\n",
       "      <td>very good</td>\n",
       "      <td>kfc honey bbq strips</td>\n",
       "      <td>40</td>\n",
       "      <td>166019</td>\n",
       "      <td>2005-08-24</td>\n",
       "      <td>60-minutes-or-less, time-to-make, main-ingredi...</td>\n",
       "      <td>...</td>\n",
       "      <td>40.0</td>\n",
       "      <td>37.0</td>\n",
       "      <td>78.0</td>\n",
       "      <td>4.0</td>\n",
       "      <td>10.0</td>\n",
       "      <td>Non-veg</td>\n",
       "      <td>0.0</td>\n",
       "      <td>0.238</td>\n",
       "      <td>0.762</td>\n",
       "      <td>0.4927</td>\n",
       "    </tr>\n",
       "    <tr>\n",
       "      <th>1</th>\n",
       "      <td>27707</td>\n",
       "      <td>60599</td>\n",
       "      <td>2005-12-22</td>\n",
       "      <td>5</td>\n",
       "      <td>better than the real</td>\n",
       "      <td>kfc honey bbq strips</td>\n",
       "      <td>40</td>\n",
       "      <td>166019</td>\n",
       "      <td>2005-08-24</td>\n",
       "      <td>60-minutes-or-less, time-to-make, main-ingredi...</td>\n",
       "      <td>...</td>\n",
       "      <td>40.0</td>\n",
       "      <td>37.0</td>\n",
       "      <td>78.0</td>\n",
       "      <td>4.0</td>\n",
       "      <td>10.0</td>\n",
       "      <td>Non-veg</td>\n",
       "      <td>0.0</td>\n",
       "      <td>0.508</td>\n",
       "      <td>0.492</td>\n",
       "      <td>0.4404</td>\n",
       "    </tr>\n",
       "    <tr>\n",
       "      <th>2</th>\n",
       "      <td>35308</td>\n",
       "      <td>60599</td>\n",
       "      <td>2006-09-26</td>\n",
       "      <td>5</td>\n",
       "      <td>absolutely awesome i was speechless when i tri...</td>\n",
       "      <td>kfc honey bbq strips</td>\n",
       "      <td>40</td>\n",
       "      <td>166019</td>\n",
       "      <td>2005-08-24</td>\n",
       "      <td>60-minutes-or-less, time-to-make, main-ingredi...</td>\n",
       "      <td>...</td>\n",
       "      <td>40.0</td>\n",
       "      <td>37.0</td>\n",
       "      <td>78.0</td>\n",
       "      <td>4.0</td>\n",
       "      <td>10.0</td>\n",
       "      <td>Non-veg</td>\n",
       "      <td>0.0</td>\n",
       "      <td>0.883</td>\n",
       "      <td>0.117</td>\n",
       "      <td>0.6590</td>\n",
       "    </tr>\n",
       "    <tr>\n",
       "      <th>3</th>\n",
       "      <td>19399</td>\n",
       "      <td>60599</td>\n",
       "      <td>2007-03-09</td>\n",
       "      <td>5</td>\n",
       "      <td>these taste absolutely wonderful my son in law...</td>\n",
       "      <td>kfc honey bbq strips</td>\n",
       "      <td>40</td>\n",
       "      <td>166019</td>\n",
       "      <td>2005-08-24</td>\n",
       "      <td>60-minutes-or-less, time-to-make, main-ingredi...</td>\n",
       "      <td>...</td>\n",
       "      <td>40.0</td>\n",
       "      <td>37.0</td>\n",
       "      <td>78.0</td>\n",
       "      <td>4.0</td>\n",
       "      <td>10.0</td>\n",
       "      <td>Non-veg</td>\n",
       "      <td>0.0</td>\n",
       "      <td>0.675</td>\n",
       "      <td>0.325</td>\n",
       "      <td>0.8908</td>\n",
       "    </tr>\n",
       "    <tr>\n",
       "      <th>4</th>\n",
       "      <td>43887</td>\n",
       "      <td>60599</td>\n",
       "      <td>2008-02-20</td>\n",
       "      <td>0</td>\n",
       "      <td>made my own buttermilk w vinegar and milk. use...</td>\n",
       "      <td>kfc honey bbq strips</td>\n",
       "      <td>40</td>\n",
       "      <td>166019</td>\n",
       "      <td>2005-08-24</td>\n",
       "      <td>60-minutes-or-less, time-to-make, main-ingredi...</td>\n",
       "      <td>...</td>\n",
       "      <td>40.0</td>\n",
       "      <td>37.0</td>\n",
       "      <td>78.0</td>\n",
       "      <td>4.0</td>\n",
       "      <td>10.0</td>\n",
       "      <td>Non-veg</td>\n",
       "      <td>0.0</td>\n",
       "      <td>0.929</td>\n",
       "      <td>0.071</td>\n",
       "      <td>0.4588</td>\n",
       "    </tr>\n",
       "  </tbody>\n",
       "</table>\n",
       "<p>5 rows × 27 columns</p>\n",
       "</div>"
      ],
      "text/plain": [
       "   user_id  recipe_id        date  rating   \n",
       "0     7708      60599  2005-09-02       4  \\\n",
       "1    27707      60599  2005-12-22       5   \n",
       "2    35308      60599  2006-09-26       5   \n",
       "3    19399      60599  2007-03-09       5   \n",
       "4    43887      60599  2008-02-20       0   \n",
       "\n",
       "                                              review                  name   \n",
       "0                                          very good  kfc honey bbq strips  \\\n",
       "1                               better than the real  kfc honey bbq strips   \n",
       "2  absolutely awesome i was speechless when i tri...  kfc honey bbq strips   \n",
       "3  these taste absolutely wonderful my son in law...  kfc honey bbq strips   \n",
       "4  made my own buttermilk w vinegar and milk. use...  kfc honey bbq strips   \n",
       "\n",
       "   minutes  contributor_id   submitted   \n",
       "0       40          166019  2005-08-24  \\\n",
       "1       40          166019  2005-08-24   \n",
       "2       40          166019  2005-08-24   \n",
       "3       40          166019  2005-08-24   \n",
       "4       40          166019  2005-08-24   \n",
       "\n",
       "                                                tags  ...  sugar sodium   \n",
       "0  60-minutes-or-less, time-to-make, main-ingredi...  ...   40.0   37.0  \\\n",
       "1  60-minutes-or-less, time-to-make, main-ingredi...  ...   40.0   37.0   \n",
       "2  60-minutes-or-less, time-to-make, main-ingredi...  ...   40.0   37.0   \n",
       "3  60-minutes-or-less, time-to-make, main-ingredi...  ...   40.0   37.0   \n",
       "4  60-minutes-or-less, time-to-make, main-ingredi...  ...   40.0   37.0   \n",
       "\n",
       "  protein saturated_fat  carbohydrates  food_types  negative  neutral   \n",
       "0    78.0           4.0           10.0     Non-veg       0.0    0.238  \\\n",
       "1    78.0           4.0           10.0     Non-veg       0.0    0.508   \n",
       "2    78.0           4.0           10.0     Non-veg       0.0    0.883   \n",
       "3    78.0           4.0           10.0     Non-veg       0.0    0.675   \n",
       "4    78.0           4.0           10.0     Non-veg       0.0    0.929   \n",
       "\n",
       "   positive  compound  \n",
       "0     0.762    0.4927  \n",
       "1     0.492    0.4404  \n",
       "2     0.117    0.6590  \n",
       "3     0.325    0.8908  \n",
       "4     0.071    0.4588  \n",
       "\n",
       "[5 rows x 27 columns]"
      ]
     },
     "execution_count": 36,
     "metadata": {},
     "output_type": "execute_result"
    }
   ],
   "source": [
    "dataset.head()"
   ]
  },
  {
   "cell_type": "code",
   "execution_count": 37,
   "metadata": {},
   "outputs": [],
   "source": [
    "text_columns = ['name', 'review', 'tags', 'steps', 'description', 'ingredients']"
   ]
  },
  {
   "cell_type": "code",
   "execution_count": 38,
   "metadata": {},
   "outputs": [],
   "source": [
    "# create a new dataframe with only text columns\n",
    "text_data = dataset[text_columns]"
   ]
  },
  {
   "cell_type": "code",
   "execution_count": 39,
   "metadata": {},
   "outputs": [],
   "source": [
    "# convert all text to str\n",
    "text_data = text_data.astype(str)"
   ]
  },
  {
   "cell_type": "code",
   "execution_count": 40,
   "metadata": {},
   "outputs": [],
   "source": [
    "# merge all text columns into one column\n",
    "text_data['text'] = text_data[text_columns].apply(lambda x: ' '.join(x), axis=1)"
   ]
  },
  {
   "cell_type": "code",
   "execution_count": 41,
   "metadata": {},
   "outputs": [
    {
     "data": {
      "text/plain": [
       "\"kfc honey bbq strips very good 60-minutes-or-less, time-to-make, main-ingredient, preparation, healthy, poultry, low-fat, chicken, dietary, low-saturated-fat, high-protein, high-in-something, low-in-something, meat mix flour, salt and pepper in bowl\\nset aside\\nplace buttermilk in seperate bowl\\nheat oil for frying and dips chicken strips in flour then in buttermilk and then in flour again\\nplace in hot oil and fry until lightly golden brown\\nremove strips and drain\\nplace all bbq sauce ingredients in a small sauce pan and simmer on low stirring frequently for 20 minutes\\nlet sauce cool\\ndip one chicken strip in sauce at a time and place in a baking pan that has been sprayed lightly with a non stick spray\\nplace in a preheated oven at 350 and bake for 20 minutes these are so yummy and they do taste just like kfc's honey bbq strips. enjoy!! chicken tenders, flour, garlic powder, salt, ground pepper, buttermilk, vegetable oil, hickory flavored barbecue sauce, water, honey, ketchup, liquid smoke\""
      ]
     },
     "execution_count": 41,
     "metadata": {},
     "output_type": "execute_result"
    }
   ],
   "source": [
    "text_data['text'][0]"
   ]
  },
  {
   "cell_type": "code",
   "execution_count": 42,
   "metadata": {},
   "outputs": [],
   "source": [
    "# remove everything except alphanumeric and spaces\n",
    "text_data['text'] = text_data['text'].str.replace('[^A-Za-z0-9\\s]+', '')"
   ]
  },
  {
   "cell_type": "code",
   "execution_count": 43,
   "metadata": {},
   "outputs": [
    {
     "data": {
      "text/plain": [
       "\"kfc honey bbq strips very good 60-minutes-or-less, time-to-make, main-ingredient, preparation, healthy, poultry, low-fat, chicken, dietary, low-saturated-fat, high-protein, high-in-something, low-in-something, meat mix flour, salt and pepper in bowl\\nset aside\\nplace buttermilk in seperate bowl\\nheat oil for frying and dips chicken strips in flour then in buttermilk and then in flour again\\nplace in hot oil and fry until lightly golden brown\\nremove strips and drain\\nplace all bbq sauce ingredients in a small sauce pan and simmer on low stirring frequently for 20 minutes\\nlet sauce cool\\ndip one chicken strip in sauce at a time and place in a baking pan that has been sprayed lightly with a non stick spray\\nplace in a preheated oven at 350 and bake for 20 minutes these are so yummy and they do taste just like kfc's honey bbq strips. enjoy!! chicken tenders, flour, garlic powder, salt, ground pepper, buttermilk, vegetable oil, hickory flavored barbecue sauce, water, honey, ketchup, liquid smoke\""
      ]
     },
     "execution_count": 43,
     "metadata": {},
     "output_type": "execute_result"
    }
   ],
   "source": [
    "text_data['text'][0]"
   ]
  },
  {
   "cell_type": "code",
   "execution_count": 44,
   "metadata": {},
   "outputs": [],
   "source": [
    "from sklearn.feature_extraction.text import TfidfVectorizer\n",
    "\n",
    "max_features = 200\n",
    "# create a TF-IDF vectorizer\n",
    "vectorizer = TfidfVectorizer(stop_words='english', max_features=max_features)"
   ]
  },
  {
   "cell_type": "code",
   "execution_count": 45,
   "metadata": {},
   "outputs": [
    {
     "data": {
      "text/html": [
       "<style>#sk-container-id-5 {color: black;background-color: white;}#sk-container-id-5 pre{padding: 0;}#sk-container-id-5 div.sk-toggleable {background-color: white;}#sk-container-id-5 label.sk-toggleable__label {cursor: pointer;display: block;width: 100%;margin-bottom: 0;padding: 0.3em;box-sizing: border-box;text-align: center;}#sk-container-id-5 label.sk-toggleable__label-arrow:before {content: \"▸\";float: left;margin-right: 0.25em;color: #696969;}#sk-container-id-5 label.sk-toggleable__label-arrow:hover:before {color: black;}#sk-container-id-5 div.sk-estimator:hover label.sk-toggleable__label-arrow:before {color: black;}#sk-container-id-5 div.sk-toggleable__content {max-height: 0;max-width: 0;overflow: hidden;text-align: left;background-color: #f0f8ff;}#sk-container-id-5 div.sk-toggleable__content pre {margin: 0.2em;color: black;border-radius: 0.25em;background-color: #f0f8ff;}#sk-container-id-5 input.sk-toggleable__control:checked~div.sk-toggleable__content {max-height: 200px;max-width: 100%;overflow: auto;}#sk-container-id-5 input.sk-toggleable__control:checked~label.sk-toggleable__label-arrow:before {content: \"▾\";}#sk-container-id-5 div.sk-estimator input.sk-toggleable__control:checked~label.sk-toggleable__label {background-color: #d4ebff;}#sk-container-id-5 div.sk-label input.sk-toggleable__control:checked~label.sk-toggleable__label {background-color: #d4ebff;}#sk-container-id-5 input.sk-hidden--visually {border: 0;clip: rect(1px 1px 1px 1px);clip: rect(1px, 1px, 1px, 1px);height: 1px;margin: -1px;overflow: hidden;padding: 0;position: absolute;width: 1px;}#sk-container-id-5 div.sk-estimator {font-family: monospace;background-color: #f0f8ff;border: 1px dotted black;border-radius: 0.25em;box-sizing: border-box;margin-bottom: 0.5em;}#sk-container-id-5 div.sk-estimator:hover {background-color: #d4ebff;}#sk-container-id-5 div.sk-parallel-item::after {content: \"\";width: 100%;border-bottom: 1px solid gray;flex-grow: 1;}#sk-container-id-5 div.sk-label:hover label.sk-toggleable__label {background-color: #d4ebff;}#sk-container-id-5 div.sk-serial::before {content: \"\";position: absolute;border-left: 1px solid gray;box-sizing: border-box;top: 0;bottom: 0;left: 50%;z-index: 0;}#sk-container-id-5 div.sk-serial {display: flex;flex-direction: column;align-items: center;background-color: white;padding-right: 0.2em;padding-left: 0.2em;position: relative;}#sk-container-id-5 div.sk-item {position: relative;z-index: 1;}#sk-container-id-5 div.sk-parallel {display: flex;align-items: stretch;justify-content: center;background-color: white;position: relative;}#sk-container-id-5 div.sk-item::before, #sk-container-id-5 div.sk-parallel-item::before {content: \"\";position: absolute;border-left: 1px solid gray;box-sizing: border-box;top: 0;bottom: 0;left: 50%;z-index: -1;}#sk-container-id-5 div.sk-parallel-item {display: flex;flex-direction: column;z-index: 1;position: relative;background-color: white;}#sk-container-id-5 div.sk-parallel-item:first-child::after {align-self: flex-end;width: 50%;}#sk-container-id-5 div.sk-parallel-item:last-child::after {align-self: flex-start;width: 50%;}#sk-container-id-5 div.sk-parallel-item:only-child::after {width: 0;}#sk-container-id-5 div.sk-dashed-wrapped {border: 1px dashed gray;margin: 0 0.4em 0.5em 0.4em;box-sizing: border-box;padding-bottom: 0.4em;background-color: white;}#sk-container-id-5 div.sk-label label {font-family: monospace;font-weight: bold;display: inline-block;line-height: 1.2em;}#sk-container-id-5 div.sk-label-container {text-align: center;}#sk-container-id-5 div.sk-container {/* jupyter's `normalize.less` sets `[hidden] { display: none; }` but bootstrap.min.css set `[hidden] { display: none !important; }` so we also need the `!important` here to be able to override the default hidden behavior on the sphinx rendered scikit-learn.org. See: https://github.com/scikit-learn/scikit-learn/issues/21755 */display: inline-block !important;position: relative;}#sk-container-id-5 div.sk-text-repr-fallback {display: none;}</style><div id=\"sk-container-id-5\" class=\"sk-top-container\"><div class=\"sk-text-repr-fallback\"><pre>TfidfVectorizer(max_features=200, stop_words=&#x27;english&#x27;)</pre><b>In a Jupyter environment, please rerun this cell to show the HTML representation or trust the notebook. <br />On GitHub, the HTML representation is unable to render, please try loading this page with nbviewer.org.</b></div><div class=\"sk-container\" hidden><div class=\"sk-item\"><div class=\"sk-estimator sk-toggleable\"><input class=\"sk-toggleable__control sk-hidden--visually\" id=\"sk-estimator-id-5\" type=\"checkbox\" checked><label for=\"sk-estimator-id-5\" class=\"sk-toggleable__label sk-toggleable__label-arrow\">TfidfVectorizer</label><div class=\"sk-toggleable__content\"><pre>TfidfVectorizer(max_features=200, stop_words=&#x27;english&#x27;)</pre></div></div></div></div></div>"
      ],
      "text/plain": [
       "TfidfVectorizer(max_features=200, stop_words='english')"
      ]
     },
     "execution_count": 45,
     "metadata": {},
     "output_type": "execute_result"
    }
   ],
   "source": [
    "# fit the vectorizer to text data\n",
    "vectorizer.fit(text_data['text'])"
   ]
  },
  {
   "cell_type": "code",
   "execution_count": 46,
   "metadata": {},
   "outputs": [],
   "source": [
    "# transform the text data using TF-IDF vectorizer\n",
    "text_data_transformed = vectorizer.transform(text_data['text'])"
   ]
  },
  {
   "cell_type": "code",
   "execution_count": 47,
   "metadata": {},
   "outputs": [],
   "source": [
    "# convert the transformed text data into an array\n",
    "text_array = text_data_transformed.toarray()"
   ]
  },
  {
   "cell_type": "code",
   "execution_count": 48,
   "metadata": {},
   "outputs": [
    {
     "data": {
      "text/plain": [
       "(942368, 200)"
      ]
     },
     "execution_count": 48,
     "metadata": {},
     "output_type": "execute_result"
    }
   ],
   "source": [
    "text_array.shape"
   ]
  },
  {
   "cell_type": "code",
   "execution_count": 49,
   "metadata": {},
   "outputs": [
    {
     "data": {
      "text/plain": [
       "(942368, 27)"
      ]
     },
     "execution_count": 49,
     "metadata": {},
     "output_type": "execute_result"
    }
   ],
   "source": [
    "dataset.shape"
   ]
  },
  {
   "cell_type": "code",
   "execution_count": 50,
   "metadata": {},
   "outputs": [
    {
     "data": {
      "text/html": [
       "<style>#sk-container-id-6 {color: black;background-color: white;}#sk-container-id-6 pre{padding: 0;}#sk-container-id-6 div.sk-toggleable {background-color: white;}#sk-container-id-6 label.sk-toggleable__label {cursor: pointer;display: block;width: 100%;margin-bottom: 0;padding: 0.3em;box-sizing: border-box;text-align: center;}#sk-container-id-6 label.sk-toggleable__label-arrow:before {content: \"▸\";float: left;margin-right: 0.25em;color: #696969;}#sk-container-id-6 label.sk-toggleable__label-arrow:hover:before {color: black;}#sk-container-id-6 div.sk-estimator:hover label.sk-toggleable__label-arrow:before {color: black;}#sk-container-id-6 div.sk-toggleable__content {max-height: 0;max-width: 0;overflow: hidden;text-align: left;background-color: #f0f8ff;}#sk-container-id-6 div.sk-toggleable__content pre {margin: 0.2em;color: black;border-radius: 0.25em;background-color: #f0f8ff;}#sk-container-id-6 input.sk-toggleable__control:checked~div.sk-toggleable__content {max-height: 200px;max-width: 100%;overflow: auto;}#sk-container-id-6 input.sk-toggleable__control:checked~label.sk-toggleable__label-arrow:before {content: \"▾\";}#sk-container-id-6 div.sk-estimator input.sk-toggleable__control:checked~label.sk-toggleable__label {background-color: #d4ebff;}#sk-container-id-6 div.sk-label input.sk-toggleable__control:checked~label.sk-toggleable__label {background-color: #d4ebff;}#sk-container-id-6 input.sk-hidden--visually {border: 0;clip: rect(1px 1px 1px 1px);clip: rect(1px, 1px, 1px, 1px);height: 1px;margin: -1px;overflow: hidden;padding: 0;position: absolute;width: 1px;}#sk-container-id-6 div.sk-estimator {font-family: monospace;background-color: #f0f8ff;border: 1px dotted black;border-radius: 0.25em;box-sizing: border-box;margin-bottom: 0.5em;}#sk-container-id-6 div.sk-estimator:hover {background-color: #d4ebff;}#sk-container-id-6 div.sk-parallel-item::after {content: \"\";width: 100%;border-bottom: 1px solid gray;flex-grow: 1;}#sk-container-id-6 div.sk-label:hover label.sk-toggleable__label {background-color: #d4ebff;}#sk-container-id-6 div.sk-serial::before {content: \"\";position: absolute;border-left: 1px solid gray;box-sizing: border-box;top: 0;bottom: 0;left: 50%;z-index: 0;}#sk-container-id-6 div.sk-serial {display: flex;flex-direction: column;align-items: center;background-color: white;padding-right: 0.2em;padding-left: 0.2em;position: relative;}#sk-container-id-6 div.sk-item {position: relative;z-index: 1;}#sk-container-id-6 div.sk-parallel {display: flex;align-items: stretch;justify-content: center;background-color: white;position: relative;}#sk-container-id-6 div.sk-item::before, #sk-container-id-6 div.sk-parallel-item::before {content: \"\";position: absolute;border-left: 1px solid gray;box-sizing: border-box;top: 0;bottom: 0;left: 50%;z-index: -1;}#sk-container-id-6 div.sk-parallel-item {display: flex;flex-direction: column;z-index: 1;position: relative;background-color: white;}#sk-container-id-6 div.sk-parallel-item:first-child::after {align-self: flex-end;width: 50%;}#sk-container-id-6 div.sk-parallel-item:last-child::after {align-self: flex-start;width: 50%;}#sk-container-id-6 div.sk-parallel-item:only-child::after {width: 0;}#sk-container-id-6 div.sk-dashed-wrapped {border: 1px dashed gray;margin: 0 0.4em 0.5em 0.4em;box-sizing: border-box;padding-bottom: 0.4em;background-color: white;}#sk-container-id-6 div.sk-label label {font-family: monospace;font-weight: bold;display: inline-block;line-height: 1.2em;}#sk-container-id-6 div.sk-label-container {text-align: center;}#sk-container-id-6 div.sk-container {/* jupyter's `normalize.less` sets `[hidden] { display: none; }` but bootstrap.min.css set `[hidden] { display: none !important; }` so we also need the `!important` here to be able to override the default hidden behavior on the sphinx rendered scikit-learn.org. See: https://github.com/scikit-learn/scikit-learn/issues/21755 */display: inline-block !important;position: relative;}#sk-container-id-6 div.sk-text-repr-fallback {display: none;}</style><div id=\"sk-container-id-6\" class=\"sk-top-container\"><div class=\"sk-text-repr-fallback\"><pre>NMF(n_components=50, solver=&#x27;mu&#x27;)</pre><b>In a Jupyter environment, please rerun this cell to show the HTML representation or trust the notebook. <br />On GitHub, the HTML representation is unable to render, please try loading this page with nbviewer.org.</b></div><div class=\"sk-container\" hidden><div class=\"sk-item\"><div class=\"sk-estimator sk-toggleable\"><input class=\"sk-toggleable__control sk-hidden--visually\" id=\"sk-estimator-id-6\" type=\"checkbox\" checked><label for=\"sk-estimator-id-6\" class=\"sk-toggleable__label sk-toggleable__label-arrow\">NMF</label><div class=\"sk-toggleable__content\"><pre>NMF(n_components=50, solver=&#x27;mu&#x27;)</pre></div></div></div></div></div>"
      ],
      "text/plain": [
       "NMF(n_components=50, solver='mu')"
      ]
     },
     "execution_count": 50,
     "metadata": {},
     "output_type": "execute_result"
    }
   ],
   "source": [
    "from sklearn.decomposition import NMF\n",
    "\n",
    "# create an instance of the NMF model\n",
    "nmf_model = NMF(n_components=50, max_iter=200, solver='mu')\n",
    "nmf_model"
   ]
  },
  {
   "cell_type": "code",
   "execution_count": 51,
   "metadata": {},
   "outputs": [
    {
     "data": {
      "text/html": [
       "<style>#sk-container-id-7 {color: black;background-color: white;}#sk-container-id-7 pre{padding: 0;}#sk-container-id-7 div.sk-toggleable {background-color: white;}#sk-container-id-7 label.sk-toggleable__label {cursor: pointer;display: block;width: 100%;margin-bottom: 0;padding: 0.3em;box-sizing: border-box;text-align: center;}#sk-container-id-7 label.sk-toggleable__label-arrow:before {content: \"▸\";float: left;margin-right: 0.25em;color: #696969;}#sk-container-id-7 label.sk-toggleable__label-arrow:hover:before {color: black;}#sk-container-id-7 div.sk-estimator:hover label.sk-toggleable__label-arrow:before {color: black;}#sk-container-id-7 div.sk-toggleable__content {max-height: 0;max-width: 0;overflow: hidden;text-align: left;background-color: #f0f8ff;}#sk-container-id-7 div.sk-toggleable__content pre {margin: 0.2em;color: black;border-radius: 0.25em;background-color: #f0f8ff;}#sk-container-id-7 input.sk-toggleable__control:checked~div.sk-toggleable__content {max-height: 200px;max-width: 100%;overflow: auto;}#sk-container-id-7 input.sk-toggleable__control:checked~label.sk-toggleable__label-arrow:before {content: \"▾\";}#sk-container-id-7 div.sk-estimator input.sk-toggleable__control:checked~label.sk-toggleable__label {background-color: #d4ebff;}#sk-container-id-7 div.sk-label input.sk-toggleable__control:checked~label.sk-toggleable__label {background-color: #d4ebff;}#sk-container-id-7 input.sk-hidden--visually {border: 0;clip: rect(1px 1px 1px 1px);clip: rect(1px, 1px, 1px, 1px);height: 1px;margin: -1px;overflow: hidden;padding: 0;position: absolute;width: 1px;}#sk-container-id-7 div.sk-estimator {font-family: monospace;background-color: #f0f8ff;border: 1px dotted black;border-radius: 0.25em;box-sizing: border-box;margin-bottom: 0.5em;}#sk-container-id-7 div.sk-estimator:hover {background-color: #d4ebff;}#sk-container-id-7 div.sk-parallel-item::after {content: \"\";width: 100%;border-bottom: 1px solid gray;flex-grow: 1;}#sk-container-id-7 div.sk-label:hover label.sk-toggleable__label {background-color: #d4ebff;}#sk-container-id-7 div.sk-serial::before {content: \"\";position: absolute;border-left: 1px solid gray;box-sizing: border-box;top: 0;bottom: 0;left: 50%;z-index: 0;}#sk-container-id-7 div.sk-serial {display: flex;flex-direction: column;align-items: center;background-color: white;padding-right: 0.2em;padding-left: 0.2em;position: relative;}#sk-container-id-7 div.sk-item {position: relative;z-index: 1;}#sk-container-id-7 div.sk-parallel {display: flex;align-items: stretch;justify-content: center;background-color: white;position: relative;}#sk-container-id-7 div.sk-item::before, #sk-container-id-7 div.sk-parallel-item::before {content: \"\";position: absolute;border-left: 1px solid gray;box-sizing: border-box;top: 0;bottom: 0;left: 50%;z-index: -1;}#sk-container-id-7 div.sk-parallel-item {display: flex;flex-direction: column;z-index: 1;position: relative;background-color: white;}#sk-container-id-7 div.sk-parallel-item:first-child::after {align-self: flex-end;width: 50%;}#sk-container-id-7 div.sk-parallel-item:last-child::after {align-self: flex-start;width: 50%;}#sk-container-id-7 div.sk-parallel-item:only-child::after {width: 0;}#sk-container-id-7 div.sk-dashed-wrapped {border: 1px dashed gray;margin: 0 0.4em 0.5em 0.4em;box-sizing: border-box;padding-bottom: 0.4em;background-color: white;}#sk-container-id-7 div.sk-label label {font-family: monospace;font-weight: bold;display: inline-block;line-height: 1.2em;}#sk-container-id-7 div.sk-label-container {text-align: center;}#sk-container-id-7 div.sk-container {/* jupyter's `normalize.less` sets `[hidden] { display: none; }` but bootstrap.min.css set `[hidden] { display: none !important; }` so we also need the `!important` here to be able to override the default hidden behavior on the sphinx rendered scikit-learn.org. See: https://github.com/scikit-learn/scikit-learn/issues/21755 */display: inline-block !important;position: relative;}#sk-container-id-7 div.sk-text-repr-fallback {display: none;}</style><div id=\"sk-container-id-7\" class=\"sk-top-container\"><div class=\"sk-text-repr-fallback\"><pre>NMF(n_components=50, solver=&#x27;mu&#x27;)</pre><b>In a Jupyter environment, please rerun this cell to show the HTML representation or trust the notebook. <br />On GitHub, the HTML representation is unable to render, please try loading this page with nbviewer.org.</b></div><div class=\"sk-container\" hidden><div class=\"sk-item\"><div class=\"sk-estimator sk-toggleable\"><input class=\"sk-toggleable__control sk-hidden--visually\" id=\"sk-estimator-id-7\" type=\"checkbox\" checked><label for=\"sk-estimator-id-7\" class=\"sk-toggleable__label sk-toggleable__label-arrow\">NMF</label><div class=\"sk-toggleable__content\"><pre>NMF(n_components=50, solver=&#x27;mu&#x27;)</pre></div></div></div></div></div>"
      ],
      "text/plain": [
       "NMF(n_components=50, solver='mu')"
      ]
     },
     "execution_count": 51,
     "metadata": {},
     "output_type": "execute_result"
    }
   ],
   "source": [
    "# fit the NMF model to the text data\n",
    "nmf_model.fit(text_array)"
   ]
  },
  {
   "cell_type": "code",
   "execution_count": 52,
   "metadata": {},
   "outputs": [],
   "source": [
    "# extract the factor matrices from the NMF model\n",
    "W = nmf_model.transform(text_array)\n",
    "H = nmf_model.components_"
   ]
  },
  {
   "cell_type": "code",
   "execution_count": 53,
   "metadata": {},
   "outputs": [
    {
     "name": "stdout",
     "output_type": "stream",
     "text": [
      "Shape of W matrix:  (942368, 50)\n",
      "Shape of H matrix:  (50, 200)\n"
     ]
    }
   ],
   "source": [
    "# print the shapes of the factor matrices\n",
    "print(\"Shape of W matrix: \", W.shape)\n",
    "print(\"Shape of H matrix: \", H.shape)"
   ]
  },
  {
   "cell_type": "code",
   "execution_count": 54,
   "metadata": {},
   "outputs": [
    {
     "name": "stdout",
     "output_type": "stream",
     "text": [
      "MSE:  0.00145695224551483\n",
      "MAE:  0.022880258083344783\n",
      "R2:  0.39836355190812367\n"
     ]
    }
   ],
   "source": [
    "# Evaluate the score of NMF\n",
    "from sklearn.metrics import mean_absolute_error, mean_squared_error\n",
    "from sklearn.metrics import r2_score\n",
    "\n",
    "print(\"MSE: \", mean_squared_error(text_array, np.dot(W, H)))\n",
    "print(\"MAE: \", mean_absolute_error(text_array, np.dot(W, H)))\n",
    "print(\"R2: \", r2_score(text_array, np.dot(W, H)))"
   ]
  },
  {
   "cell_type": "code",
   "execution_count": 57,
   "metadata": {},
   "outputs": [
    {
     "data": {
      "text/plain": "'[{\"user_id\":132284,\"recipe_id\":178297,\"date\":\"2013-06-17\",\"rating\":0,\"review\":\"this. is soooooo good didn039t have any buttermilk around so i just add a tbsp. of white vinegar to for each cup of milk wait10mins. amp voila you have butter milk. \",\"name\":\"kentucky fried chicken honey bbq chicken strips\",\"minutes\":30,\"contributor_id\":1761123,\"submitted\":\"2011-01-07\",\"tags\":\"weeknight, 30-minutes-or-less, time-to-make, course, main-ingredient, cuisine, preparation, occasion, north-american, healthy, main-dish, poultry, american, southern-united-states, low-fat, chicken, dietary, copycat, low-saturated-fat, low-in-something, meat\",\"n_steps\":11,\"steps\":\"mix flour, salt, and pepper in a bowl\\\\nplace buttermilk in a seperate bowl\\\\nheat oil for frying\\\\ndip chicken into flour, then buttermilk, then flour again\\\\nfry until golden brown\\\\nfor sauce\\\\nplace all sauce ingredients in a small sauce pan\\\\nmix thouroughly and simmer on low heat, stirring frequently for about 20 minutes\\\\nlet cool slightly\\\\ndip chicken strips into sauce one at a time and place on a baking dish that has been sprayed with non stick spray\\\\nplace in preheated oven at 350 degrees and bake for 15-20 minutes\",\"description\":\"like the bbq chicken strips you can get at kfc!\",\"ingredients\":\"chicken strips, flour, pepper, buttermilk, barbecue sauce, water, honey, ketchup, liquid smoke\",\"n_ingredients\":9,\"calories\":296.1,\"total_fat\":5.0,\"sugar\":46.0,\"sodium\":13.0,\"protein\":47.0,\"saturated_fat\":4.0,\"carbohydrates\":13.0,\"food_types\":\"Healthy\",\"negative\":0.0,\"neutral\":0.906,\"positive\":0.094,\"compound\":0.4404},{\"user_id\":2834,\"recipe_id\":3488,\"date\":\"2002-03-24\",\"rating\":5,\"review\":\"this was positively delicious. i used chicken breasts and i think next time i will score them to make sure the sauce goes all throughout the meat. everthing came out so tender and tasted so good i might add that this sauce is exactly what i have been looking for as a loompia dipping sauce. and the teriyaki sauce is interchangeable with soy sauce. absolutely a find thank you\",\"name\":\"june s chicken\",\"minutes\":130,\"contributor_id\":21656,\"submitted\":\"2001-11-06\",\"tags\":\"weeknight, time-to-make, course, main-ingredient, cuisine, preparation, occasion, north-american, main-dish, poultry, american, oven, easy, dinner-party, chicken, dietary, meat, equipment, 4-hours-or-less\",\"n_steps\":6,\"steps\":\"preheat oven to 350f degrees\\\\nrinse chicken pieces with cold water and flour lightly\\\\nplace chicken into a greased roaster, add a tiny bit of water and bake for 1 hour\\\\nwhile chicken bakes, combine the ingredients to make the sauce\\\\nafter the hour is up, pour sauce over chicken and place back into the oven\\\\ncontinue to bake for about 1 hour\",\"description\":\"this recipe has been in my family forever it seems. the sauce is simular to a sweet and sour sauce and when the chicken is finished cooking it is literally falling off the bone. i make it often in the summer and serve it with potato salad. it\\'s sooo yummy!\",\"ingredients\":\"chicken pieces, flour, water, cider vinegar, ketchup, brown sugar, mustard, worcestershire sauce, teriyaki sauce, salt  pepper\",\"n_ingredients\":10,\"calories\":175.8,\"total_fat\":0.0,\"sugar\":132.0,\"sodium\":17.0,\"protein\":3.0,\"saturated_fat\":0.0,\"carbohydrates\":14.0,\"food_types\":\"Healthy\",\"negative\":0.0,\"neutral\":0.782,\"positive\":0.218,\"compound\":0.9425},{\"user_id\":160531,\"recipe_id\":174641,\"date\":\"2016-10-22\",\"rating\":5,\"review\":\"lol someone does not like honey\",\"name\":\"honey seared chicken  pf chang s copycat\",\"minutes\":55,\"contributor_id\":93911,\"submitted\":\"2010-06-12\",\"tags\":\"60-minutes-or-less, time-to-make, main-ingredient, cuisine, preparation, poultry, asian, chinese, chicken, meat, chicken-breasts\",\"n_steps\":8,\"steps\":\"mix the ingredients for the batter together thoroughly and let sit in the refrigerator for a couple of hours\\\\ncoat chicken with seasonings and marinate in the refrigerator for 20 minutes\\\\ncoat chicken with batter and fry in oil\\\\nmix ingredients for the sauce together\\\\nwhen ready to eat, mix 1  4 cup water with 1  4 cup cornstarch\\\\nbring the ingredients for the sauce to a boil and add the cornstarch mixture slowly, boil 1-2 minutes\\\\nit should be like loose honey\\\\ncoat the cooked chicken with the sauce\",\"description\":\"found this on recipelink from mary jo in minneapolis. she writes: i copied this recipe down when i saw it. as i remember, it is from a chef at pf changs restaurant for a news show.\",\"ingredients\":\"flour, cornstarch, egg, water, baking soda, baking powder, boneless chicken breast, light soy sauce, white pepper, kosher salt, sake, honey, rice vinegar, sugar\",\"n_ingredients\":14,\"calories\":643.5,\"total_fat\":18.0,\"sugar\":216.0,\"sodium\":54.0,\"protein\":60.0,\"saturated_fat\":17.0,\"carbohydrates\":32.0,\"food_types\":\"Non-veg\",\"negative\":0.237,\"neutral\":0.449,\"positive\":0.314,\"compound\":0.1754},{\"user_id\":6544,\"recipe_id\":19415,\"date\":\"2003-06-04\",\"rating\":5,\"review\":\"woo hoo....best chicken ever. we had friends for dinner and we all sat there staring at the empty platter. very moist and tender and the sauce was super. i was out of dijon mustard so used spicey brown but the sauce was still excellent. served with a side of stir fried bok choy rather than the cabbage. watch the temperature of the oil it may be too high depending on the thickness of the chicken. i cannot wait to try this recipe using shrimp. thanks for the clear instructions using panko.\",\"name\":\"crisp panko chicken cutlets w tonkatsu sauce\",\"minutes\":37,\"contributor_id\":52595,\"submitted\":\"2002-12-12\",\"tags\":\"60-minutes-or-less, time-to-make, course, main-ingredient, cuisine, preparation, main-dish, poultry, asian, japanese, chicken, dietary, meat\",\"n_steps\":15,\"steps\":\"with a sharp knife, lightly score both sides of the chicken breasts in a checkerboard pattern\\\\nlay a sheet of plastic wrap over the breasts and pound until they are about inch thick\\\\nseason with salt and pepper\\\\ndredge the chicken in the flour and then dip it in the beaten eggs, shaking to remove excess\\\\ndip each piece in the flour and egg again an then coat the chicken in the panko\\\\nin a deep, straight sided saut pan, heat about inch vegetable oil over medium high heat until the oil ripples and simmers in the pan and instantly erupts into lots of bubbles when you dip a corner of the chicken breast into it\\\\nimmediately reduce the heat to medium low and fry the chicken in batches until cooked through and golden on both sides, 4 to 6 minutes per side\\\\nif the oil seems to cool down to much during frying, increase the heat a little to maintain a steady bubbling action\\\\ndrain the chicken on paper towels and serve it with abundant shredded cabbage and tonkatsu sauce\\\\ntonkatsu sauce in a small saucepan, whisk together the worcestershire, sugar, soy sauce and ketchup\\\\nbring to a simmer over medium low heat\\\\nreduce the heat to gentle simmer and whisk often until reduced to 1 cup, about 10 minutes\\\\nwhisk in mustard and allspice\\\\ncool to room temperature\\\\nthe sauce will keep for 1 week in the refrigerator\",\"description\":\"we just tried this recipe last week from fine cooking magazine. i love the crispness the panko bread crumbs give the chicken and the tonkatsu sauce is a nice tangy sauce that goes great with the chicken.\",\"ingredients\":\"boneless skinless chicken breast halves, kosher salt, black pepper, flour, eggs, water, panko breadcrumbs, cabbage, worcestershire sauce, granulated sugar, soy sauce, tomato ketchup, dijon mustard, ground allspice\",\"n_ingredients\":14,\"calories\":588.4,\"total_fat\":15.0,\"sugar\":107.0,\"sodium\":88.0,\"protein\":84.0,\"saturated_fat\":12.0,\"carbohydrates\":27.0,\"food_types\":\"Non-veg\",\"negative\":0.014,\"neutral\":0.8,\"positive\":0.186,\"compound\":0.9549},{\"user_id\":3587,\"recipe_id\":10554,\"date\":\"2002-06-08\",\"rating\":4,\"review\":\"very tasty i set up the chicken to marinate the night before and also added about 1 tbs of sesame oil to the sauce. letting the oil get very hot before adding each batch of chicken cubes helps them cook faster which really cuts down on the greasy taste you might otherwise taste. very easy to make too.\",\"name\":\"awesome sesame chicken\",\"minutes\":50,\"contributor_id\":31499,\"submitted\":\"2002-05-18\",\"tags\":\"60-minutes-or-less, time-to-make, main-ingredient, cuisine, preparation, poultry, asian, chinese, chicken, dietary, low-calorie, low-carb, low-in-something, meat, chicken-breasts\",\"n_steps\":16,\"steps\":\"cut the chicken into small, approximately 1-inch cubes\\\\nadd the marinade ingredients and marinate the chicken for at least 20 minutes\\\\nwhile the chicken is marinating, prepare the sauce\\\\nmix together all of the sauce ingredients except for the green onion\\\\npour them into a small pot and bring to a boil\\\\nturn the heat down to a low and keep warm while you are deep-frying the chicken\\\\nheat oil for deep-frying\\\\nwhen the oil is ready, add the marinated chicken a few pieces at a time, sliding them into oil carefully, and not to overcrowd\\\\ndeepfry until golden brown\\\\nremove the cooked chicken pieces from the oil and drain on paper towels\\\\nrepeat with the remainder of the chicken\\\\njust before you are finished deep-frying, bring the sauce back up to a boil\\\\nmix in the green onion\\\\nplace the chicken on a large platter and pour sauce over\\\\nsprinkle with the sesame seeds\\\\nserve over rice\",\"description\":\"people love this sesame chicken. it tastes as close to the restaurant version as i think you can get. it is from about.com i found this a couple of years ago on that site, and bf requests it a tleast 2-3 times a month. it really is great, and although there are a lot of ingredients, it\\'s basically simple to prepare.\",\"ingredients\":\"whole boneless chicken breasts, light soy sauce, cooking wine, sesame oil, flour, cornstarch, water, baking powder, baking soda, brown sugar, vegetable oil, hoisin sauce, dark soy sauce, garlic cloves, green onion, toasted sesame seeds, peanut oil\",\"n_ingredients\":17,\"calories\":784.0,\"total_fat\":61.0,\"sugar\":64.0,\"sodium\":71.0,\"protein\":131.0,\"saturated_fat\":47.0,\"carbohydrates\":12.0,\"food_types\":\"Non-veg\",\"negative\":0.041,\"neutral\":0.865,\"positive\":0.095,\"compound\":0.5106},{\"user_id\":185275,\"recipe_id\":60137,\"date\":\"2018-03-02\",\"rating\":5,\"review\":\"this was really good i followed every step and marinated my boneless chicken thighs for 30 minutes or so. simmered my chicken in the sauce for 10 minutes then cooked them in some oil and garlic on low for another 10 minutes. yum keeping this sauce recipe\",\"name\":\"restaurant teriyaki sauce\",\"minutes\":6,\"contributor_id\":234491,\"submitted\":\"2005-08-16\",\"tags\":\"15-minutes-or-less, time-to-make, course, preparation, low-protein, healthy, sauces, condiments-etc, easy, low-fat, dietary, low-cholesterol, low-saturated-fat, low-calorie, sweet-sauces, low-in-something\",\"n_steps\":5,\"steps\":\"mix all but cornstarch and 1  4c water in a sauce pan and begin heating\\\\nmix cornstarch and cold water in a cup and dissolve\\\\nafter sauce is simmering, add cornstarch and water mixture, whisking well until sauce thickens\\\\nheat until sauce thickens to desired thickness\\\\nadd water to thin if you over-thick it \",\"description\":\"you know the nice, sweet, thick teriyaki sauce you get from your favorite takeout joint? now you can have it at home.\",\"ingredients\":\"soy sauce, water, ground ginger, garlic powder, brown sugar, honey, cornstarch, cold water\",\"n_ingredients\":8,\"calories\":290.5,\"total_fat\":0.0,\"sugar\":227.0,\"sodium\":112.0,\"protein\":10.0,\"saturated_fat\":0.0,\"carbohydrates\":23.0,\"food_types\":\"Healthy\",\"negative\":0.043,\"neutral\":0.893,\"positive\":0.065,\"compound\":0.2716},{\"user_id\":42711,\"recipe_id\":20574,\"date\":\"2011-06-04\",\"rating\":5,\"review\":\"oooh delish beside quick and easy the sauce made the dish i only had 6 thighs but used the full sauce recipe. the amount of sauce was perfect. i did add 2 cloves of minced garlic to the sauce. we are garlic lovers. this is good enough for company and i will use the recipe. maybe it is just me but when i use 12 thighs i intend to double the sauce. i do not think the amount of sauce as listed is enough. thanks for a winner\",\"name\":\"the thigh who loved me\",\"minutes\":50,\"contributor_id\":37508,\"submitted\":\"2003-01-14\",\"tags\":\"60-minutes-or-less, time-to-make, course, main-ingredient, preparation, healthy, main-dish, poultry, oven, low-fat, chicken, dietary, low-saturated-fat, low-calorie, low-in-something, meat, chicken-thighs-legs, equipment\",\"n_steps\":5,\"steps\":\"arrange chicken thighs in a single layer in a 9 x 13 inch baking dish\\\\nwhisk together in a separate bowl the ketchup, salsa, honey, dijon mustard, chili powder and cumin until well blended\\\\npour sauce over chicken\\\\nturn pieces to coat both sides with the sauce\\\\nbake uncovered at 400f for 45 minutes\",\"description\":\"another take on one of those great low fat recipes from the podleski sisters. this one gives you extra-tasty oven barbecued chicken thighs.\",\"ingredients\":\"boneless skinless chicken thighs, ketchup, salsa, honey, dijon mustard, chili powder, ground cumin\",\"n_ingredients\":7,\"calories\":245.7,\"total_fat\":8.0,\"sugar\":76.0,\"sodium\":25.0,\"protein\":56.0,\"saturated_fat\":7.0,\"carbohydrates\":6.0,\"food_types\":\"Healthy\",\"negative\":0.0,\"neutral\":0.749,\"positive\":0.251,\"compound\":0.9788},{\"user_id\":8711,\"recipe_id\":79080,\"date\":\"2007-06-26\",\"rating\":5,\"review\":\"outstanding recipe here. i felt this recipe was all about the sauce. a huge storm came up just as i was getting ready to grill my chicken. so this converted into a stir fry chicken dish with red peppers and onions. there are all kind of possibilities with this recipe. i can see kabobs and all kinds of stir fry dishes. i do not think it matters how you cook the chicken the marinade and the teriyaki suace make this recipe a 5 star for me. at first tast i thought it might be too salty but when put with chicken was great. thanks gw for another great one.\",\"name\":\"chicken and teriyaki  sauce\",\"minutes\":60,\"contributor_id\":269521,\"submitted\":\"2006-06-27\",\"tags\":\"60-minutes-or-less, time-to-make, course, main-ingredient, cuisine, preparation, main-dish, poultry, asian, chinese, chicken, stir-fry, meat, technique\",\"n_steps\":13,\"steps\":\"mix marinade ingredients\\\\nsoy sauce, water, sugar and mirin\\\\nadd chcken and marinade in refrigerator for 30 minutes\\\\nmix 4 teaspoons cornstarch with 2 tablespoons water and set aside\\\\nin small sauce pan mix together teriyaki sauce ingredients\\\\nsoy sauce, water, sugar, mirin, ginger and garlic powder\\\\nbring to a boil\\\\nadd cornstarch mixture\\\\nstir until thickened\\\\nbrush sauce on chicken and grill or roast f until done\\\\nkeep sauce warm while chicken cooks\\\\ncut chicken in bite size pieces\\\\narrange on top of bowl of rice with additional teriyaki sauce and sprinkle with sesame seeds\",\"description\":\"posted for asia - zwt 2006.  recipe came from a \\'favorite restaurant dishes\\' chinese cooking class i took in phoenix many many years ago.  it includes making your own teriyaki sauce, which is excellent, so don\\'t go for the store bought stuff . . .make your own, it\\'s worth it!\",\"ingredients\":\"boneless chicken breasts, sesame seeds, marinade, soy sauce, water, sugar, mirin, ground ginger, garlic powder, cornstarch\",\"n_ingredients\":10,\"calories\":421.7,\"total_fat\":22.0,\"sugar\":116.0,\"sodium\":123.0,\"protein\":71.0,\"saturated_fat\":20.0,\"carbohydrates\":11.0,\"food_types\":\"Non-veg\",\"negative\":0.009,\"neutral\":0.808,\"positive\":0.183,\"compound\":0.9683},{\"user_id\":18167,\"recipe_id\":137969,\"date\":\"2013-06-11\",\"rating\":5,\"review\":\"the peanut sauce was the definite highlight of this recipe it was sooooooo yummy the chicken was good by itself too but i039m not convinced the seasoning in the coating paired with the sauce. i didn039t have any rosemary so left it out. next time i will also leave out the thyme i like thyme but the flavor of it was incongruous with the peanut sauce. i also used garlic powder instead of garlic salt. the technique for the chicken was great love the way the coating snap crackle popped lol but i only baked for 15 minutes which was plenty of time to cook the chicken and get the coating crispy 30 minutes would have been way too long. i used 2lbs. of chicken tenders and the amounts of everything else were perfect for that quantity. thanks for the recipe and good luck in the contest august 22 2008 update i had to come back to say that i have made just the peanut dipping sauce many times but instead of a dipping sauce i use it as a sauce for buckwheat noodles with about half the water. love it my favorite peanut sauce i039ve had to date. thanks again\",\"name\":\"crispy chicken with peanut dipping sauce\",\"minutes\":35,\"contributor_id\":131674,\"submitted\":\"2008-08-06\",\"tags\":\"60-minutes-or-less, time-to-make, course, preparation, main-dish, easy, 3-steps-or-less\",\"n_steps\":10,\"steps\":\"spray 2 baking sheets with pam\\\\nbeat egg whites with water in one pan\\\\nmix flour, seasoning salt, pepper, garlic, salt and crushed rice cereal in another pan\\\\ndip chicken strips in egg white, roll in cereal mixture and place on baking sheet\\\\nspray with additional pam to lightly coat chicken\\\\nbake at 400 degrees for 20 minutes or until crispy\\\\nmeanwhile prepare peanut dipping sauce\\\\ninto a small jar, add peanut butter and the next 7 ingredients\\\\nshake until smooth\\\\nserve chicken with peanut dipping sauce\",\"description\":\"this recipe has chicken breasts, dipped in egg whites and rolled in a \\\\r\\\\nherb-crispy rice cereal flakes and baked, then served with a peanut \\\\r\\\\ndipping sauce.  made for rsc12.  changes have been made due to feedback from reviews...thank you for all your comments!!!\",\"ingredients\":\"boneless skinless chicken breasts, whole wheat flour, seasoning salt, fresh ground pepper, garlic powder, crispy rice cereal, egg whites, water, smooth peanut butter, splenda granular, hoisin sauce, lime juice, soy sauce, chili-garlic sauce, sesame oil\",\"n_ingredients\":15,\"calories\":420.6,\"total_fat\":32.0,\"sugar\":26.0,\"sodium\":30.0,\"protein\":65.0,\"saturated_fat\":21.0,\"carbohydrates\":9.0,\"food_types\":\"Non-veg\",\"negative\":0.018,\"neutral\":0.734,\"positive\":0.248,\"compound\":0.9953},{\"user_id\":144225,\"recipe_id\":168925,\"date\":\"2016-03-09\",\"rating\":0,\"review\":\"thai is great easy i don039t have soy sauce at home i used oyster sauce yummmyy\",\"name\":\"caramelized baked chicken party wings\",\"minutes\":75,\"contributor_id\":560491,\"submitted\":\"2010-01-26\",\"tags\":\"time-to-make, course, main-ingredient, preparation, appetizers, poultry, chicken, meat, wings, 4-hours-or-less\",\"n_steps\":4,\"steps\":\"preheat oven to 375 degrees f\\\\nplace chicken in a 9x13 inch baking dish\\\\nmix together the oil, soy sauce, ketchup, honey, garlic, salt and pepper pour over the chicken\\\\nbake in preheated oven for one hour, or until sauce is caramelized\",\"description\":\"sounds good for an appetizer; recieved in an email *10\\\\/24\\\\/13- made with white rice.  i reserved 1\\\\/3 of the sauce and in the last 15 minutes i drained all the sauce\\\\/juices from the pan and poured the reserved sauce over the wings and continued cooking; next time i will add some cornstarch and cook to reduce down and then add (per gailanng review) to get a nice glaze.*\",\"ingredients\":\"chicken wings, olive oil, soy sauce, ketchup, honey, garlic clove, salt and pepper\",\"n_ingredients\":7,\"calories\":735.5,\"total_fat\":62.0,\"sugar\":191.0,\"sodium\":65.0,\"protein\":88.0,\"saturated_fat\":54.0,\"carbohydrates\":16.0,\"food_types\":\"Non-veg\",\"negative\":0.0,\"neutral\":0.632,\"positive\":0.368,\"compound\":0.7906},{\"user_id\":22062,\"recipe_id\":9329,\"date\":\"2005-05-23\",\"rating\":5,\"review\":\"i can only comment on the sauce because i paired it up with the marinated chicken from 11422. it was great sauce...just perfect. the meal was grilled chicken marinated with recipe 11422 the sauce from above steamed broccoli and steamed rice. yummy thanks for sharing this recipe...and i will have to try this entire recipe when i have got time.\",\"name\":\"lemon chicken\",\"minutes\":60,\"contributor_id\":29229,\"submitted\":\"2002-04-24\",\"tags\":\"60-minutes-or-less, time-to-make, course, main-ingredient, cuisine, preparation, for-1-or-2, healthy, main-dish, poultry, asian, chinese, chicken, dietary, low-cholesterol, low-saturated-fat, low-calorie, low-in-something, meat, number-of-servings\",\"n_steps\":13,\"steps\":\"the batter should be about as thick as pancake batter, or just a little thicker\\\\ndip chicken in batter and refrigerate for 10- 15 minutes\\\\ndouble deep fry the chicken, allowing at least 20 minutes between steps\\\\nblot on paper towels to remove excess grease\\\\nwhen ready to add sauce, slice and put chicken on a serving platter lined with lettuce leaves and garnished with some cherry tomatoes\\\\nfor the sauce heat about a teaspoon of vegetable oil in a skillet\\\\nstir in scallion until it sizzles, about 30 seconds\\\\nadd lemon slices  stir 1 minute until sizzling\\\\nadd chicken stock, salt, and sugar\\\\nstir in cornstarch\\\\ncook 5 minutes to thicken\\\\npour over sliced chicken\\\\nbe careful not to burn or overcook the lemon or it will turn very bitter\",\"description\":\"the all time most popular entree in my restaurant and cooking classes!\",\"ingredients\":\"chicken breast halves, salt, light soy sauce, flour, cornstarch, baking soda, baking powder, sugar, water, vegetable oil, oil, chicken stock, lemons, scallion\",\"n_ingredients\":14,\"calories\":492.4,\"total_fat\":24.0,\"sugar\":86.0,\"sodium\":144.0,\"protein\":47.0,\"saturated_fat\":16.0,\"carbohydrates\":23.0,\"food_types\":\"Non-veg\",\"negative\":0.0,\"neutral\":0.751,\"positive\":0.249,\"compound\":0.9509},{\"user_id\":8862,\"recipe_id\":173547,\"date\":\"2013-01-17\",\"rating\":4,\"review\":\"this was a very good sauce. i did not make the chicken part. even though the sauce was good it did not remind me of the pf changs sauce. my rice wine may have been too strong or the vinegar. will try again.\",\"name\":\"pf changs crispy honey chicken  copycat\",\"minutes\":140,\"contributor_id\":779699,\"submitted\":\"2010-05-17\",\"tags\":\"time-to-make, course, cuisine, preparation, main-dish, asian, one-dish-meal, 4-hours-or-less\",\"n_steps\":25,\"steps\":\"to make batter mix ingredients till just combined\\\\nlet rest in refrigerator for a couple of hours\\\\ncoat chicken well with seasonings and marinate in the refrigerator for 20 minutes\\\\ncombine sauce ingredients, mix thoroughly and reserve for serving\\\\npour vegetable oil into fryer or heavy bottomed sauce pot\\\\nheat slowly to 340-350 degrees\\\\nput 1  4 of the marinated chicken in a clean bowl and pour enough better over to coat\\\\nremove a few pieces at a time from the batter, using slotted spoon or large fork\\\\nshake off excess batter\\\\ncarefully lower chicken into the hot oil\\\\nsuspend the chicken until the batter sets,  20-30 seconds\\\\nchicken is done when golden to light brown and crisp\\\\nremove to platter with paper towels to drain\\\\nrepeat for all the chicken\\\\nremember to check the oil temperature, it must remain hot\\\\nto finish the sauce, heat it in sauce pan, bring to a boil\\\\nmix cornstarch and water to make a slurry\\\\nadd cornstarch slurry, a little at a time\\\\nthe sauce will thicken, let it come to a thickness of loose honey\\\\n let cook for a minute or two\\\\nheat 2 more tablespoons of oil in a wok and add some minced garlic, red bell pepper and scallions and stir-fry briefly\\\\nadd 1  3 to 1  2 of the chicken and stir-fry briefly\\\\nadd enough sauce to just coat chicken\\\\nstir-fry again briefly\\\\nserve over noodles or rice\",\"description\":\"this recipe is all over the web, and it is usually touted as the pf chang\\'s recipe. i don\\'t know if it the same, as the waiter told me the chicken was lightly breaded in potato flour. so i might try it that way too. also, i have not tried this yet, but i am obsessed with their lunch bowl of crispy honey chicken, so i had to go searching for a recipe! serve over brown rice, white rice or crispy noodles! we like brown rice best!!! cook time is my best guess!\",\"ingredients\":\"chicken breast, garlic, vegetable oil, green onions, all-purpose flour, cornstarch, egg, water, baking powder, baking soda, light soy sauce, white pepper, kosher salt, sake, honey, rice vinegar, sugar\",\"n_ingredients\":17,\"calories\":680.3,\"total_fat\":18.0,\"sugar\":217.0,\"sodium\":54.0,\"protein\":61.0,\"saturated_fat\":17.0,\"carbohydrates\":34.0,\"food_types\":\"Non-veg\",\"negative\":0.0,\"neutral\":0.797,\"positive\":0.203,\"compound\":0.8653},{\"user_id\":28871,\"recipe_id\":176832,\"date\":\"2011-06-16\",\"rating\":5,\"review\":\"i scaled this back for 4 serves but 3 of us ate up the lot i had 6 boneless skinless thigh fillets and after trimming fat had about 500 grams of flesh and the only change i made was towards the end i added a 13 cup of a light home made chicken stock before i added the cornflour mix as i wanted more sauce but the fact that the dm was asking for seconds the ds and her ate up the 4th serve i was chokos on what i had and thoroughly enjoyed what i really enjoyed is that i think the ginger and garlic took away a lot of the saltiness from the soy sauces i usually find most soy sauce recipes too salty for me but the dm a salt fiend loved the dish so satisfying us both though i did use a low sodium soy for the light soy. i served with steamed baby bok choy and carrots and chef flowers recipe 221217 thank you david04 for a great recipe.\",\"name\":\"too easy oriental chicken\",\"minutes\":25,\"contributor_id\":1685802,\"submitted\":\"2010-10-12\",\"tags\":\"30-minutes-or-less, time-to-make, course, main-ingredient, cuisine, preparation, healthy, very-low-carbs, main-dish, poultry, asian, low-fat, chicken, dietary, low-saturated-fat, low-calorie, low-carb, low-in-something, meat, chicken-thighs-legs\",\"n_steps\":9,\"steps\":\"marinate chicken thighs in the dark soy sauce for at least 1 hour\\\\nheat oil in a large frying pan over medium heat\\\\nadd in garlic and ginger\\\\nsaute long enough to allow the ginger and garlic to release their aroma\\\\nadd in the chicken and saute until golden brown\\\\nadd in green onions, chicken broth, oyster sauce, rice wine, light soy sauce and splenda\\\\nstir well\\\\nonce the sauce starts to boil, about 3-5 minutes, mix in the cornstarch to thicken the sauce\\\\nserve and enjoy\",\"description\":\"good served over rice or your favorite oriental side dishes. this is really simple and quick to make.\",\"ingredients\":\"boneless skinless chicken thighs, garlic, green onions, ginger powder, soy sauce, chicken broth, oyster sauce, rice wine, light soy sauce, splenda sugar substitute, cornstarch\",\"n_ingredients\":11,\"calories\":169.0,\"total_fat\":7.0,\"sugar\":2.0,\"sodium\":39.0,\"protein\":48.0,\"saturated_fat\":6.0,\"carbohydrates\":1.0,\"food_types\":\"Healthy\",\"negative\":0.015,\"neutral\":0.819,\"positive\":0.166,\"compound\":0.9844},{\"user_id\":136217,\"recipe_id\":193313,\"date\":\"2016-02-18\",\"rating\":4,\"review\":\"i used to order this at our favorite chinese restaurant. when i came across this recipe i was very excited. i039ve tried it once and it was good but the chicken seemed a little bland. i039m making it again but this time i039m going to marinate the chicken in some low sodium soy sauce ginger and garlic. can039t wait to try it.\",\"name\":\"chicken cabbage stir fry\",\"minutes\":30,\"contributor_id\":1984992,\"submitted\":\"2015-01-27\",\"tags\":\"30-minutes-or-less, time-to-make, preparation, easy, dietary, low-calorie, low-carb, low-in-something\",\"n_steps\":9,\"steps\":\"cut chicken breasts into strips\\\\nheat oil in a frying pan\\\\nadd chicken strips and stir fry over medium-high heat, turning constantly until done\\\\nadd cabbage and saut 2 minutes until cabbage is crisp-tender\\\\nmix cornstarch and seasonings\\\\nadd water and soy sauce, and mix until smooth\\\\nstir sauce into chicken  cabbage mixture\\\\ncook until sauce has thickened and chicken is coated, about 1 minute\\\\nrefrigerate leftovers within 2 hours\",\"description\":\"for more awesome recipes and weight loss motivation please come join my facebook group getting healthy with louise\",\"ingredients\":\"chicken breast halves, vegetable oil, green cabbage, cornstarch, ground ginger, garlic powder, water, soy sauce\",\"n_ingredients\":8,\"calories\":128.3,\"total_fat\":9.0,\"sugar\":7.0,\"sodium\":12.0,\"protein\":25.0,\"saturated_fat\":8.0,\"carbohydrates\":1.0,\"food_types\":\"Healthy\",\"negative\":0.042,\"neutral\":0.865,\"positive\":0.093,\"compound\":0.2838},{\"user_id\":94012,\"recipe_id\":57254,\"date\":\"2010-06-27\",\"rating\":5,\"review\":\"took this for a test drive just last night and was not disappointed. of course there were a few changes for personal taste but only a few such as substituting sriracha sauce for the tabasco and adding a couple tablespoons of fresh lemon juice and i used it on leg quarters instead of wings. i also used it as a marinade first and after putting the chicken on the grill i boiled the remainder of the sauce for 10 minutes and used it to baste the chicken the last half hour or so. ended up with great tasting chicken that had nice reddish black bark built up as well. looked darn near professional i feel confident this would be a good sauce with modifications for pork as well and plan on finding out soon.\",\"name\":\"yummy sticky chicken wings\",\"minutes\":40,\"contributor_id\":38364,\"submitted\":\"2005-06-25\",\"tags\":\"60-minutes-or-less, time-to-make, course, main-ingredient, preparation, appetizers, poultry, chicken, dietary, meat, wings\",\"n_steps\":5,\"steps\":\"preheat oven to 200c  400f  gas mark 6\\\\nheat oil in small pan and cook onion and garlic for 3-4 minutes\\\\nstir in honey, ketchup, soy sauce, mustard and tabasco and simmer very gently for a few minutes on low\\\\ndip chicken in flour and brush liberally with the sauce\\\\nplace on a baking tray and roast for 30 mins until well brown and cooked through\",\"description\":\"this is a variation of a recipe a friend gave me.  people who don\\'t like spicy food can leave out the tabasco sauce and it\\'s still yummy.\",\"ingredients\":\"vegetable oil, onion, garlic cloves, clear honey, ketchup, soy sauce, english mustard, tabasco sauce, chicken wings, flour\",\"n_ingredients\":10,\"calories\":354.9,\"total_fat\":32.0,\"sugar\":54.0,\"sodium\":51.0,\"protein\":44.0,\"saturated_fat\":24.0,\"carbohydrates\":6.0,\"food_types\":\"Non-veg\",\"negative\":0.0,\"neutral\":0.808,\"positive\":0.192,\"compound\":0.9809},{\"user_id\":10908,\"recipe_id\":146730,\"date\":\"2009-01-21\",\"rating\":4,\"review\":\"very tasty i pan fried the chicken rather than deep frying and it came out very nice. next time i will add a can of pineapple chunks and maybe a green or red pepper.\",\"name\":\"sweet and sour  chicken\",\"minutes\":65,\"contributor_id\":841895,\"submitted\":\"2008-12-09\",\"tags\":\"time-to-make, course, main-ingredient, cuisine, preparation, main-dish, poultry, asian, chinese, oven, chicken, deep-fry, dietary, low-sodium, low-carb, low-in-something, meat, equipment, technique, 4-hours-or-less\",\"n_steps\":10,\"steps\":\"preheat oven to 350f\\\\ncut chicken breasts into strips or chunks\\\\nbeat egg and milk in a bowl big enough to dip chicken pieces\\\\nmix cornstarch, salt, pepper, msg, and  or any desired seasonings in a bowl to coat chicken\\\\ndip chicken pieces in egg mixture and coat with flour mixture\\\\ndeep fry chicken until breading is crisp\\\\nmix sauce ingredients in a medium-sized baking dish\\\\nplace chicken in baking dish with sauce and bake for about 45 minutes, turning occasionally\\\\nfor dipping sauce, mix 2 teaspoons water and 2 teaspoons cornstarch and add to sauce\\\\nheat in a saucepan, stirring, until sauce is thickened\",\"description\":\"this chicken reminds me of sesame chicken from the local chinese restaurant, only made with a sweet and sour sauce instead of sesame sauce. you may want to double the sauce for extra sauce for dipping or to put on rice.\",\"ingredients\":\"boneless chicken breasts, egg, milk, cornstarch, salt, pepper, msg, oil, brown sugar, ketchup, soy sauce, white vinegar, water\",\"n_ingredients\":13,\"calories\":361.3,\"total_fat\":24.0,\"sugar\":74.0,\"sodium\":11.0,\"protein\":66.0,\"saturated_fat\":23.0,\"carbohydrates\":6.0,\"food_types\":\"Non-veg\",\"negative\":0.0,\"neutral\":0.904,\"positive\":0.096,\"compound\":0.4754},{\"user_id\":68401,\"recipe_id\":93177,\"date\":\"2012-06-12\",\"rating\":4,\"review\":\"this was really good. i left it in the marinade overnight accidentally and also left the ginger in the sauce all night so mine was quite pleasantly spicy. i recommend it i only used half a chicken breast portioning so sliced the chicken extremely thin. i plated the chicken slices on top of the sauce and served it with couscous. made for my three chefs event.\",\"name\":\"grilled chicken with sesame ginger sauce\",\"minutes\":160,\"contributor_id\":27366,\"submitted\":\"2007-01-23\",\"tags\":\"time-to-make, course, main-ingredient, cuisine, preparation, very-low-carbs, main-dish, poultry, asian, easy, chicken, dietary, low-saturated-fat, low-calorie, high-protein, low-carb, high-in-something, low-in-something, meat, chicken-breasts, 4-hours-or-less\",\"n_steps\":11,\"steps\":\"to make marinade combine soy sauce, lemon juice, oil, garlic, jalapeno, ginger and cumin in a plastic zipper bag\\\\nadd chicken and seal bag\\\\nrefrigerate a minimum of 2 hours or overnight\\\\nto make sesame ginger sauce heat oil in a small saucepan over medium heat\\\\nadd ginger and sugar and a small amount of the water\\\\ncook until softened\\\\nremove from heat, add remaining ingredients\\\\ncover and refrigerate for a minimum of 2 hours or overnight\\\\nprior to serving, strain sauce and reheat\\\\nremove chicken from marinade and grill until no longer pink in center, about 5 min per side\\\\nthinly slice chicken and top with 1 tablespoon sesame ginger sauce\",\"description\":\"delicious but low-calorie chicken recipe, this originated from eating well.  sesame ginger sauce can also be used to top fish, tofu, or vegetables.\",\"ingredients\":\"soy sauce, lemon juice, canola oil, garlic clove, jalapeno pepper, fresh ginger, ground cumin, boneless skinless chicken breasts, sugar, water, rice vinegar, sesame oil\",\"n_ingredients\":12,\"calories\":211.8,\"total_fat\":13.0,\"sugar\":8.0,\"sodium\":61.0,\"protein\":55.0,\"saturated_fat\":6.0,\"carbohydrates\":1.0,\"food_types\":\"Healthy\",\"negative\":0.035,\"neutral\":0.805,\"positive\":0.16,\"compound\":0.8294},{\"user_id\":56170,\"recipe_id\":73315,\"date\":\"2007-12-26\",\"rating\":5,\"review\":\"wow what a surprise. i was expecting something sweeter but was pleasantly surprised by the flavor. omited the 5 spice powder and peanut oil then added 1 teaspoon of sesame oil to the sauce.\",\"name\":\"weight watchers sesame chicken\",\"minutes\":31,\"contributor_id\":142559,\"submitted\":\"2006-03-31\",\"tags\":\"60-minutes-or-less, time-to-make, main-ingredient, preparation, poultry, chicken, meat\",\"n_steps\":13,\"steps\":\"place a large nonstick skillet over medium-high heat\\\\nadd sesame seeds and cook until lightly toasted, shaking pan frequently, about 2 to 3 minutes\\\\ntransfer seeds to a shallow dish and set aside\\\\nwhisk water, soy sauce, maple syrup, sherry, ginger and five-spice powder together in a small bowl\\\\nset aside\\\\ncombine flour, salt and pepper together in a shallow dish\\\\nadd chicken and turn to coat\\\\nshake chicken pieces to remove excess flour\\\\nheat oil in a large nonstick skillet over medium-high heat\\\\nadd chicken and saut until browned on all sides, about 5 minutes\\\\nadd soy sauce mixture to chicken and cook until sauce thickens and is almost evaporated, about 2 to 3 minutes more\\\\ndip chicken pieces in toasted sesame seeds and serve, drizzled with any additional soy sauce mixture\\\\nyields about 4 strips per serving\",\"description\":\"the restaurant version of this dish is loaded with fat, thanks to deep frying. ww has coated the chicken with flour and then pan-seared it to lighten it up. 4 points per serving.\",\"ingredients\":\"sesame seeds, water, low sodium soy sauce, maple syrup, dry sherry, gingerroot, five-spice powder, all-purpose flour, table salt, black pepper, boneless skinless chicken breast, peanut oil\",\"n_ingredients\":12,\"calories\":215.9,\"total_fat\":9.0,\"sugar\":12.0,\"sodium\":21.0,\"protein\":55.0,\"saturated_fat\":5.0,\"carbohydrates\":2.0,\"food_types\":\"Healthy\",\"negative\":0.0,\"neutral\":0.68,\"positive\":0.32,\"compound\":0.8674},{\"user_id\":36237,\"recipe_id\":113660,\"date\":\"2008-04-28\",\"rating\":5,\"review\":\"so tasty and easy. it took about 50 minutes for the chicken to finish but the sauce was still really thin almost like water. next time i would probably remove the chicken and give the sauce more time to thicken or just use a cornstarchwater mixture to help with that. i forgot the sesame seeds too but i will just have to remember to add that next time everyone enjoyed it and loved the sauce. thanks\",\"name\":\"ww 4 points   chinese chicken legs\",\"minutes\":50,\"contributor_id\":120566,\"submitted\":\"2007-09-29\",\"tags\":\"60-minutes-or-less, time-to-make, preparation, dietary, low-carb, low-in-something\",\"n_steps\":9,\"steps\":\"preheat oven to 400f\\\\nline bottom of large baking pan with foil\\\\ncombine scallions, bbq sauce, soy sauce, oyster sauce, honey, sugar, ginger, chili paste, and garlic in large bowl\\\\nadd chicken legs and toss until well coated\\\\nplace chicken in baking pan\\\\nspoon remaining sauce over chicken\\\\ncover loosely with aluminum foil and bake 20 minute\\\\nremove foil, continue baking until chicken is browned and cooked through and sauce is thickened, about 20 more minute\\\\nsprinkle with sesame seeds\",\"description\":\"from ww simply delicious\",\"ingredients\":\"scallions, barbecue sauce, reduced sodium soy sauce, oyster sauce, honey, fresh ginger, chili paste, garlic clove, chicken drumsticks, sesame seeds\",\"n_ingredients\":10,\"calories\":326.0,\"total_fat\":24.0,\"sugar\":27.0,\"sodium\":25.0,\"protein\":68.0,\"saturated_fat\":21.0,\"carbohydrates\":3.0,\"food_types\":\"Non-veg\",\"negative\":0.0,\"neutral\":0.746,\"positive\":0.254,\"compound\":0.9735},{\"user_id\":28973,\"recipe_id\":97110,\"date\":\"2011-11-10\",\"rating\":0,\"review\":\"this was really good. i did not have any hoisin sauce so i ended up adding extra garlic apple cider vinegar and about 1 t. of peanut butter. that seemed to help to thicken the sauce up a bit so it would stick to the chicken. i think you could use less soy sauce even. i loved the simplicity of the recipe though.\",\"name\":\"sticky sesame chicken tenders\",\"minutes\":30,\"contributor_id\":57162,\"submitted\":\"2007-03-12\",\"tags\":\"30-minutes-or-less, time-to-make, course, cuisine, preparation, healthy, main-dish, asian, dietary, low-saturated-fat, high-protein, low-carb, high-in-something, low-in-something\",\"n_steps\":6,\"steps\":\"preheat oven to 425 degrees\\\\nline a large shallow baking pan with foil and spray with cooking spray\\\\nin a medium bowl, add the garlic, salt, soy sauce, hoisin, honey, oil and a pinch of cayenne\\\\nadd the chicken tenders to the sauce and turn to coat\\\\narrange the tenders in a single layer on the baking pan, turning over once, until cooked through, about 20 minutes\\\\nsprinkle the chicken with the toasted sesame seeds and onions and serve\",\"description\":\"quick alternative to sesame chicken cooked in the oven!  from relish!relish!\",\"ingredients\":\"chicken tenders, garlic, coarse salt, low sodium soy sauce, hoisin sauce, honey, sesame oil, cayenne pepper, toasted sesame seeds, green onion, cooking spray\",\"n_ingredients\":11,\"calories\":300.2,\"total_fat\":14.0,\"sugar\":44.0,\"sodium\":42.0,\"protein\":76.0,\"saturated_fat\":8.0,\"carbohydrates\":5.0,\"food_types\":\"Non-veg\",\"negative\":0.0,\"neutral\":0.846,\"positive\":0.154,\"compound\":0.8687},{\"user_id\":3272,\"recipe_id\":34539,\"date\":\"2006-07-30\",\"rating\":5,\"review\":\"these were fantastic kitten they were not as crunchy as i had hoped but i think that was my fault during the frying process not the fault of the recipe. but they had a wonderful flavor and were easy enough to make. thanks for posting such a yummy recipe\",\"name\":\"honey barbecue chicken strips\",\"minutes\":55,\"contributor_id\":89831,\"submitted\":\"2004-01-18\",\"tags\":\"60-minutes-or-less, time-to-make, course, main-ingredient, preparation, healthy, lunch, snacks, poultry, low-fat, chicken, dietary, low-saturated-fat, low-in-something, meat\",\"n_steps\":15,\"steps\":\"for chicken strips mix flour, salt and pepper in a bowl\\\\nset aside\\\\nplace buttermilk in a separate bowl\\\\nheat the oil for frying\\\\ndip chicken strips in flour, then in buttermilk, and then again in flour\\\\nplace in hot oil\\\\nnever crowd the chicken strips in the oil, fry only a few at a time until lightly golden brown remove strips from oil\\\\ndrain on paper towel\\\\nto make sauce place all sauce ingredients in a small saucepan, mix thoroughly, and simmer on low heat for about 20 minutes\\\\ncool slightly\\\\ndip one chicken strip in sauce at a time\\\\nplace on baking sheet that has been sprayed with non-stick spray\\\\nplace the chicken strips on a 350 degree oven\\\\nbake for 20 minutes\\\\nserve with french fries\",\"description\":\"these are just like the ones served at restaurants and there great to serve at a get together although you will need to increase the amounts if you are feeding a crowd, i use heinz hickory-flavor bbq sauce but any brand will do as long as it is hickory flavor, if you like some heat then add in 1\\\\/4 to 1\\\\/2 teaspoon cayenne pepper to the flour mixture, serve with fries and coleslaw :)---- these are *very* good, i have made them many times.\",\"ingredients\":\"boneless skinless chicken, flour, salt, black pepper, buttermilk, vegetable oil, hickory flavored barbecue sauce, water, honey, ketchup, liquid smoke\",\"n_ingredients\":11,\"calories\":726.0,\"total_fat\":11.0,\"sugar\":115.0,\"sodium\":61.0,\"protein\":118.0,\"saturated_fat\":8.0,\"carbohydrates\":33.0,\"food_types\":\"Non-veg\",\"negative\":0.108,\"neutral\":0.564,\"positive\":0.327,\"compound\":0.9366},{\"user_id\":44475,\"recipe_id\":20788,\"date\":\"2008-06-08\",\"rating\":5,\"review\":\"i used about 4 tbsp orange juice cooked it up with a load of peppers onions onions and served it over brown rice. i used a can of water chestnut. minced some for the sauce and used more with the peppers onions and mushrooms. i did not have arrowroot so i just used a touch more cornstarch. my boyfriend chowed down on this he said that the batter chicken was a little lighter then panda express but in a better way. i suppose if you wanted it lighter you could use rice flour instead to make more of a light tempura like batter. the only thing he says is missing is that panda express garnishes with sesame seeds... i really enjoyed this. a little more labor intensive then i would want to take on for the work week but a wonder weekend meal.\",\"name\":\"orange chicken   copycat recipe\",\"minutes\":140,\"contributor_id\":22015,\"submitted\":\"2003-01-16\",\"tags\":\"time-to-make, course, main-ingredient, cuisine, preparation, occasion, healthy, main-dish, poultry, asian, chinese, low-fat, chicken, deep-fry, stove-top, dietary, copycat, low-saturated-fat, low-calorie, low-in-something, meat, novelty, equipment, technique, 4-hours-or-less\",\"n_steps\":27,\"steps\":\"for the sauce, in a small saucepan over high heat, combine everything listed except for the cornstarch, arrowroot, and 3 tablespoons of water\\\\nstirring frequently bring the sauce mixture to a boil\\\\nwhen it starts to boil, remove the pan from the heat and allow it to cool just a tad, uncovered\\\\nremove exactly 1 cup of the sauce mixture and pour it over the chicken in a large resealable plastic bag or other container which allows the chicken to be completely covered\\\\nthe chicken should marinate for at least a couple hours\\\\nset aside the remaining sauce until the chicken is ready\\\\nwhen chicken has marinated, preheat 2 inches of vegetable oil in a wok or skillet to 350 degrees\\\\ncombine cornstarch with arrowroot in a small bowl, then add 3 tablespoons of water\\\\nstir until cornstarch and arrowroot have dissolved\\\\npour this mixture into the sauce and set the pan over high heat\\\\nwhen sauce begins to bubble and thicken, cover and remove it from heat\\\\nbeat together the ice water and egg in a medium bowl\\\\nadd baking soda and salt\\\\nadd 3  4 cup of the flour and stir with a fork just until the flour in blended into the mixture\\\\nthe batter will still be lumpy\\\\nsprinkle another 1  4 cup of flour on top of the batter and mix with only one or two strokes\\\\nmost of the new flour will still floating on top of the mixture\\\\nput the remaining 1  2 cup of flour into a separate medium bowl or baggie\\\\ndip each piece of chicken first into the flour, then into the batter\\\\nlet some of the batter drip off and then slide the chicken into the oil\\\\nfry up to 1  2 of the chicken pieces at a time for 3 to 4 minutes, or until golden brown\\\\nturn the chicken over halfway through the cooking time\\\\nremove the chicken to a rack or paper towels to drain\\\\nas the chicken cooks, reheat the sauce left covered on the stove stirring occasionally\\\\nwhen all of the chicken is done, pour it into a large bowl, and cover with the thickened sauce\\\\nstir gently until all of the pieces are well coated\\\\nserve with steamed rice and garnish with orange slices\",\"description\":\"this is in response to a request from the boards. you could also use thin slices of sirloin steak instead of chicken for orange beef. this originally came from top secret recipes. note that there is 2 hours marinade time that is listed under prep.\",\"ingredients\":\"water, orange juice, dark brown sugar, rice vinegar, soy sauce, lemon juice, water chestnut, fresh ginger, garlic, green onions, crushed red pepper flakes, cornstarch, arrowroot, boneless skinless chicken breasts, ice water, egg, baking soda, salt, cake flour, vegetable oil\",\"n_ingredients\":20,\"calories\":574.4,\"total_fat\":4.0,\"sugar\":217.0,\"sodium\":40.0,\"protein\":68.0,\"saturated_fat\":4.0,\"carbohydrates\":33.0,\"food_types\":\"Non-veg\",\"negative\":0.02,\"neutral\":0.883,\"positive\":0.097,\"compound\":0.8919},{\"user_id\":37206,\"recipe_id\":33147,\"date\":\"2007-12-09\",\"rating\":4,\"review\":\"these chicken dumplings were scrumptious. my boyfriend said yummo i was surprised at the quantity of sesame oil but it worked very well with the ginger. the only reason that i am giving it 4 stars instead of five is because i had a little trouble with the tare sauce. first off there was about five times the amount of sauce than i needed. i thought that the sauce would reduce more but it remained very thin. i would recommend making only about 14 12 of the sauce. its flavor was wonderful though thanks chia\",\"name\":\"broiled golden chicken dumplings\",\"minutes\":50,\"contributor_id\":52282,\"submitted\":\"2003-12-07\",\"tags\":\"60-minutes-or-less, time-to-make, course, main-ingredient, cuisine, preparation, healthy, appetizers, poultry, asian, japanese, oven, kosher, broil, chicken, stove-top, dietary, low-cholesterol, low-saturated-fat, low-calorie, low-carb, low-in-something, meat, equipment\",\"n_steps\":10,\"steps\":\"make tare sauce add all ingredients to a saucepan, bring to boil, cover and simmer for 30 minutes, cool to room temperature for the dumplings chop chicken to a paste in a processor, or by hand\\\\ntransfer to a bowl and add salt pepper, squeezing the mixture with your hands\\\\nadd scallions, ginger, egg white, sesame oil, and mix grease a broiler pan, and your hands\\\\nform into 12 balls, making a depression with your thumbs\\\\nadd oil to a skillet and cook the dumplings 1-2 minutes to brown the outsides\\\\nremove and drain on a paper towel heat broiler to high\\\\nthread 2 dumplings on each skewer, broil about 2-4 minutes, turning once\\\\nput a few spoonfuls of tare sauce into a small dish dip the dumplings into the tare sauce and return to broiler for 2 minutes, until dry\\\\nrepeat one more time\\\\nserve with sauce on the side\",\"description\":\"this was in intermezzo this month, and is posted by request. i haven\\'t tried this one yet.\",\"ingredients\":\"boneless skinless chicken thighs, boneless skinless chicken breasts, salt, scallions, fresh ginger, egg white, sesame oil, vegetable oil, skewers, sake, mirin, sugar, soy sauce, chicken stock\",\"n_ingredients\":14,\"calories\":269.6,\"total_fat\":12.0,\"sugar\":34.0,\"sodium\":166.0,\"protein\":45.0,\"saturated_fat\":6.0,\"carbohydrates\":5.0,\"food_types\":\"Healthy\",\"negative\":0.041,\"neutral\":0.746,\"positive\":0.213,\"compound\":0.9582},{\"user_id\":4847,\"recipe_id\":24383,\"date\":\"2003-04-29\",\"rating\":4,\"review\":\"another very nice teriyaki recipe the orange and ginger come through in the sauce. it took a good 20 minutes to reduce the sauce and it concentrated the flavors. i would recommend to marinate the chicken for 30 minutes in part of the sauce because just basting the chicken was not enough to let the flavors of the lovely sauce come through.\",\"name\":\"tangerine teriyaki chicken\",\"minutes\":35,\"contributor_id\":52282,\"submitted\":\"2003-04-12\",\"tags\":\"60-minutes-or-less, time-to-make, main-ingredient, cuisine, preparation, poultry, asian, oven, kosher, broil, chicken, dietary, low-carb, low-in-something, meat, equipment\",\"n_steps\":11,\"steps\":\"line a broiler pan with foil and set the broiler to high\\\\ncombine tangerine juice, mirin, soy sauce, the 2 sugars, ginger, garlic in a saucepan and bring to a simmer, cook until sauce reduces by half\\\\nmix cornstarch and water in a small bowl, add to sauce, cook stirring until thickened\\\\npour 1  3 of the sauce in a bowl and set aside\\\\ncut chicken breasts lengthwise into quarters\\\\nthread each piece onto a skewer\\\\nbrush with oil\\\\nplace in broiler pan\\\\nseason with salt and pepper\\\\nbroil for 3 minutes, baste with sauce, broil, turn over, baste with more sauce, keep turning and basting until chicken is cooked through, 5-10 minutes\\\\nserve with reserved sauce\",\"description\":\"this recipe is great on the grill as well as in the broiler.\",\"ingredients\":\"bamboo skewers, tangerine zest, tangerine juice, mirin, soy sauce, brown sugar, sugar, gingerroot, garlic cloves, cornstarch, water, chicken breasts, salt  pepper, oil\",\"n_ingredients\":14,\"calories\":318.9,\"total_fat\":20.0,\"sugar\":42.0,\"sodium\":53.0,\"protein\":64.0,\"saturated_fat\":19.0,\"carbohydrates\":4.0,\"food_types\":\"Non-veg\",\"negative\":0.0,\"neutral\":0.82,\"positive\":0.18,\"compound\":0.9061},{\"user_id\":117,\"recipe_id\":38602,\"date\":\"2004-05-12\",\"rating\":4,\"review\":\"if i could just rate this on flavor it is at least a 6 however the instructions leave a bit to be reviewed. i followed the recipe exactly and wanted to bake the lollipops but without the flour it was very liquid and definately ran off the wings so i added the flour to thicken and it was still not thick but it coated the wings.i coated them and turned them at half time baking but they have a bit of a flat bottom as you can see by the picture. the flavor is fabulous the appearance is great ant the recipe is great just needs a little tweeking in the instructions and perhaps a review of the flour for baking if you do this send a note to me on messages and i will rewrite this review and give it the 5 stars it deserves thanks fay i loved them\",\"name\":\"chinese chicken lollipops  drums of heaven\",\"minutes\":45,\"contributor_id\":101275,\"submitted\":\"2004-04-23\",\"tags\":\"60-minutes-or-less, time-to-make, course, main-ingredient, cuisine, preparation, for-1-or-2, appetizers, poultry, asian, chicken, dietary, low-calorie, low-carb, low-in-something, meat, wings, number-of-servings\",\"n_steps\":10,\"steps\":\"cook the lollipops in salted water for 5 minutes\\\\ntake them out of the water dry them thoroughly\\\\nsaute in just the worcestershire sauce for another 5 minutes\\\\ntill they are completely dry\\\\nmix the rest of the ingredients to make a thick batter as for pancakes\\\\ndip each lollipop into this batter and deep fry\\\\nvariation the other option is to bake these after sauteing them in the worcestershire sauce\\\\nminus the eggs and the flour from the rest of the ingredients so that it forms a sauce rather than batter\\\\nbake or grill at 180c till they are cooked and browned\\\\nserve with schezwan sauce\",\"description\":\"eyes popped out right out of their sockets when i served these at a party for dh\\'s friends. they propmptly shifted allegiance. ;)lollipops are actually made with chicken wings. you get them readymade too in packs. flesh in each half of the wing is scraped back to expose the bone so that the top looks like a lollipop. you can use whole wings too i guess as long as you can taste the sauce ;) they are traditionally fried but i do not fry stuff too much so tried baking them and preferred that option.\",\"ingredients\":\"chicken wings, eggs, green chilies, black pepper, garam masala, chili sauce, soya sauce, worcestershire sauce, all-purpose flour, ginger paste, garlic paste, red food coloring, water, oil, salt\",\"n_ingredients\":15,\"calories\":442.9,\"total_fat\":32.0,\"sugar\":30.0,\"sodium\":35.0,\"protein\":59.0,\"saturated_fat\":30.0,\"carbohydrates\":11.0,\"food_types\":\"Non-veg\",\"negative\":0.007,\"neutral\":0.833,\"positive\":0.16,\"compound\":0.9818},{\"user_id\":1944,\"recipe_id\":105891,\"date\":\"2008-09-24\",\"rating\":5,\"review\":\"the sauce in this dish was divine i think sauce lover really lives up to her name from the first bite dh ds were saying they would eat this one again in a heartbeat. i did not make any changes in the recipe i used jim beam bourbon whiskey. thanks for sharing sauce lover made enjoyed reviewed for fall 2008 pick a chef.\",\"name\":\"the home ranch s honey pecan chicken\",\"minutes\":35,\"contributor_id\":245429,\"submitted\":\"2007-06-25\",\"tags\":\"60-minutes-or-less, time-to-make, course, main-ingredient, preparation, main-dish, poultry, chicken, dietary, low-sodium, low-carb, low-in-something, meat, chicken-breasts\",\"n_steps\":13,\"steps\":\"to make sauce, heat butter in medium saucepan\\\\nadd shallots and cook over low heat 3 minutes or until tender, but not brown\\\\nadd orange juice and bourbon, increase heat and continue cooking until liquid is reduced to 1  2 cup\\\\nadd cream and reduce until slightly thickened\\\\nadd honey, vinegar and season with salt and pepper\\\\nif sauce is too thin, make a small amount of cornstarch and cold water slurry\\\\nadd it to sauce to thicken\\\\nto make chicken, mix flour, thyme, pecans, salt and pepper\\\\ndredge chicken in flour mixture\\\\nheat small amount of olive oil in a large saute pan\\\\nadd chicken and saute until golden brown\\\\npour sauce onto each plate and place chicken breast in center\\\\nserve addition sauce separately\",\"description\":\"very tasty chicken, rolled in crushed pecans with a delicious, creamy honey bourbon sauce.  definitely company worthy!  from l.a. times food section many years ago.\",\"ingredients\":\"butter, shallot, fresh orange juice, bourbon, whipping cream, honey, cider vinegar, salt and pepper, flour, fresh thyme, pecans, boneless skinless chicken breast halves, olive oil\",\"n_ingredients\":13,\"calories\":451.4,\"total_fat\":41.0,\"sugar\":38.0,\"sodium\":5.0,\"protein\":59.0,\"saturated_fat\":62.0,\"carbohydrates\":5.0,\"food_types\":\"Non-veg\",\"negative\":0.0,\"neutral\":0.72,\"positive\":0.28,\"compound\":0.9648},{\"user_id\":141653,\"recipe_id\":171593,\"date\":\"2014-08-21\",\"rating\":4,\"review\":\"followed this recipe almost exact and it came out really good it was an easy dinner to prepare but it tasted like a fancy sauce husband said\",\"name\":\"pineapple bbq chicken quarters\",\"minutes\":120,\"contributor_id\":1238332,\"submitted\":\"2010-04-12\",\"tags\":\"time-to-make, course, preparation, main-dish, 4-hours-or-less\",\"n_steps\":19,\"steps\":\"wash chicken pieces and pat dry\\\\nsprinkle with salt\\\\nand pepper\\\\nheat oil in a large skillet over medium-\\\\nhigh heat\\\\nadd chicken pieces and cook, turning to\\\\nbrown on all sides\\\\narrange the browned chicken inches\\\\na greased 9x13 baking dish\\\\ncombine pineapple and\\\\nbbq sauce in a bowl\\\\ncombine flour and water in a cup\\\\nand stir to form a smooth paste\\\\nstir into bbq sauce\\\\nmixture until thickened\\\\nbaste chicken pieces with bbq\\\\nsauce and cook at 325 for 1 1  2 hours\\\\nbasting with\\\\nsauce occasionally\",\"description\":\"i\\'m from kansas city so bbq is in my blood..need i say more\",\"ingredients\":\"chicken leg quarters, salt, pepper, vegetable oil, crushed pineapple, barbecue sauce, flour, cold water\",\"n_ingredients\":8,\"calories\":469.2,\"total_fat\":43.0,\"sugar\":50.0,\"sodium\":32.0,\"protein\":63.0,\"saturated_fat\":33.0,\"carbohydrates\":6.0,\"food_types\":\"Non-veg\",\"negative\":0.0,\"neutral\":0.759,\"positive\":0.241,\"compound\":0.7428},{\"user_id\":40609,\"recipe_id\":107957,\"date\":\"2007-09-30\",\"rating\":5,\"review\":\"omg this is awesome stuff the flavor was so wonderful the sauce did get a little too thick probably because of the cornstarch in both the batter and the sauce. next time i will add a little less cornstarch to the sauce and see if it is thick enough i can always add a little more with some water thanks for a great easy cheap asian meal\",\"name\":\"flavorful sesame chicken\",\"minutes\":35,\"contributor_id\":222696,\"submitted\":\"2007-07-23\",\"tags\":\"60-minutes-or-less, time-to-make, course, main-ingredient, cuisine, preparation, healthy, main-dish, poultry, asian, easy, low-fat, chicken, dietary, low-saturated-fat, low-calorie, low-in-something, meat, chicken-breasts\",\"n_steps\":11,\"steps\":\"whisk together sauce ingredients in a bowl\\\\nset aside\\\\ncut chicken breasts into bite-sized pieces\\\\nin a bowl, combine batter ingredients and coat chicken pieces with batter\\\\nheat oil in a skillet or wok\\\\nadd coated chicken pieces and fry until golden brown and cooked all the way through\\\\noil should be used up\\\\npour sauce over the chicken pieces in the skillet or wok\\\\nsimmer until sauce bubbles and thickens a bit\\\\nstir in 1-2 tablespoons sesame seeds\\\\nserve over rice and enjoy \",\"description\":\"this is an absolutely delicious, super easy chicken dish with asian flair. i have used the same recipe for anywhere between 3 and 7 chicken breasts. it makes a good deal of batter, so if you\\'re using fewer breasts you may want to reduce that quantity. however, you can never really have too much sauce! if there\\'s extra, let it flavor the rice. :)\",\"ingredients\":\"boneless skinless chicken breasts, vegetable oil, sesame seeds, soy sauce, teriyaki sauce, water, brown sugar, honey, cornstarch, red pepper flakes, garlic clove, ground ginger, garlic salt, flour, baking powder\",\"n_ingredients\":15,\"calories\":496.6,\"total_fat\":6.0,\"sugar\":119.0,\"sodium\":87.0,\"protein\":89.0,\"saturated_fat\":4.0,\"carbohydrates\":23.0,\"food_types\":\"Non-veg\",\"negative\":0.0,\"neutral\":0.749,\"positive\":0.251,\"compound\":0.9625},{\"user_id\":150512,\"recipe_id\":190764,\"date\":\"2015-05-13\",\"rating\":5,\"review\":\"i signed up so i can log in and write a review saying that the sauce was the most amazing sauce i have ever made. i finished eating this only 30 minutes ago and was compelled to write this. i didn039t have worcestershire sauce and that was for the best because the sauce turned out absolutely delicious...even my husband said we should keep this recipe and use it for bbq sauce. one substitute i made in the sauce was using brown sugar instead of white sugar.\",\"name\":\"baked chicken katsu\",\"minutes\":30,\"contributor_id\":2878252,\"submitted\":\"2013-06-26\",\"tags\":\"30-minutes-or-less, time-to-make, course, main-ingredient, cuisine, preparation, healthy, main-dish, poultry, asian, japanese, low-fat, chicken, dietary, low-saturated-fat, low-in-something, meat, chicken-breasts\",\"n_steps\":13,\"steps\":\"chicken\\\\npound thin each chicken cutlet\\\\nsalt and pepper both sides\\\\nplace panko bread crumbs in a dry pan and toast until golden brown\\\\nadd only enough olive oil to bread crumbs so that they start to stick together\\\\nprepare beaten eggs in one pan, and flour in another pan for dredging\\\\ncoat the chicken in flour, then the egg, then finally coat completely in toasted bread crumbs\\\\nspray a grill pan or regular baking sheet with oil\\\\nbake at 400 degrees for 25 minutes\\\\nsauce\\\\ncombine worcestershire sauce, ketchup, sugar, soy sauce, paprika, white pepper, and garlic powder in a pot and bring to boil for a few minutes, then let cool\\\\nif a thicker sauce is desired you can combine 1  4 cup of cold water with approximately 2 teaspoons of cornstarch and add it to the boiling pot\\\\nserve the chicken with the katsu sauce and enjoy \",\"description\":\"japanese breaded crispy chicken that you would find in hawaiian restaurants. great healthy take out alternative. please note the nutrition facts for this recipe are not accurate.\",\"ingredients\":\"chicken cutlet, panko breadcrumbs, olive oil, flour, eggs, salt, pepper, worcestershire sauce, ketchup, sugar, soy sauce, paprika, white pepper, garlic powder\",\"n_ingredients\":14,\"calories\":417.2,\"total_fat\":10.0,\"sugar\":141.0,\"sodium\":57.0,\"protein\":64.0,\"saturated_fat\":8.0,\"carbohydrates\":18.0,\"food_types\":\"Non-veg\",\"negative\":0.0,\"neutral\":0.889,\"positive\":0.111,\"compound\":0.8588}]'"
     },
     "execution_count": 57,
     "metadata": {},
     "output_type": "execute_result"
    }
   ],
   "source": [
    "# recommend similar recipes given a recipe id\n",
    "recipe_id = 60599\n",
    "\n",
    "# get the index of the recipe id\n",
    "recipe_index = dataset[dataset['recipe_id'] == recipe_id].index[0]\n",
    "\n",
    "# get the factor values of the recipe\n",
    "recipe_factors = W[recipe_index]\n",
    "\n",
    "# calculate the similarity of this recipe with others\n",
    "similarity = np.dot(W, recipe_factors)\n",
    "\n",
    "# get the indices of the top 10 most similar recipes (excluding itself)\n",
    "top10_indices = np.argsort(similarity)[-101:-1]\n",
    "\n",
    "# print the top 10 most similar recipes\n",
    "x = dataset.iloc[top10_indices]\n",
    "\n",
    "# remove the recipe itself and repeated recipe_ids\n",
    "x = x[x['recipe_id'] != recipe_id]\n",
    "x = x.drop_duplicates(subset=['recipe_id'])\n",
    "\n",
    "# print the top 10 most similar recipes\n",
    "x.head(10)\n",
    "# print json format\n",
    "x.to_json(orient='records')"
   ]
  },
  {
   "cell_type": "code",
   "execution_count": 56,
   "metadata": {},
   "outputs": [
    {
     "data": {
      "text/html": [
       "<div>\n",
       "<style scoped>\n",
       "    .dataframe tbody tr th:only-of-type {\n",
       "        vertical-align: middle;\n",
       "    }\n",
       "\n",
       "    .dataframe tbody tr th {\n",
       "        vertical-align: top;\n",
       "    }\n",
       "\n",
       "    .dataframe thead th {\n",
       "        text-align: right;\n",
       "    }\n",
       "</style>\n",
       "<table border=\"1\" class=\"dataframe\">\n",
       "  <thead>\n",
       "    <tr style=\"text-align: right;\">\n",
       "      <th></th>\n",
       "      <th>user_id</th>\n",
       "      <th>recipe_id</th>\n",
       "      <th>date</th>\n",
       "      <th>rating</th>\n",
       "      <th>review</th>\n",
       "      <th>name</th>\n",
       "      <th>minutes</th>\n",
       "      <th>contributor_id</th>\n",
       "      <th>submitted</th>\n",
       "      <th>tags</th>\n",
       "      <th>...</th>\n",
       "      <th>sugar</th>\n",
       "      <th>sodium</th>\n",
       "      <th>protein</th>\n",
       "      <th>saturated_fat</th>\n",
       "      <th>carbohydrates</th>\n",
       "      <th>food_types</th>\n",
       "      <th>negative</th>\n",
       "      <th>neutral</th>\n",
       "      <th>positive</th>\n",
       "      <th>compound</th>\n",
       "    </tr>\n",
       "  </thead>\n",
       "  <tbody>\n",
       "    <tr>\n",
       "      <th>0</th>\n",
       "      <td>7708</td>\n",
       "      <td>60599</td>\n",
       "      <td>2005-09-02</td>\n",
       "      <td>4</td>\n",
       "      <td>very good</td>\n",
       "      <td>kfc honey bbq strips</td>\n",
       "      <td>40</td>\n",
       "      <td>166019</td>\n",
       "      <td>2005-08-24</td>\n",
       "      <td>60-minutes-or-less, time-to-make, main-ingredi...</td>\n",
       "      <td>...</td>\n",
       "      <td>40.0</td>\n",
       "      <td>37.0</td>\n",
       "      <td>78.0</td>\n",
       "      <td>4.0</td>\n",
       "      <td>10.0</td>\n",
       "      <td>Non-veg</td>\n",
       "      <td>0.0</td>\n",
       "      <td>0.238</td>\n",
       "      <td>0.762</td>\n",
       "      <td>0.4927</td>\n",
       "    </tr>\n",
       "    <tr>\n",
       "      <th>1</th>\n",
       "      <td>27707</td>\n",
       "      <td>60599</td>\n",
       "      <td>2005-12-22</td>\n",
       "      <td>5</td>\n",
       "      <td>better than the real</td>\n",
       "      <td>kfc honey bbq strips</td>\n",
       "      <td>40</td>\n",
       "      <td>166019</td>\n",
       "      <td>2005-08-24</td>\n",
       "      <td>60-minutes-or-less, time-to-make, main-ingredi...</td>\n",
       "      <td>...</td>\n",
       "      <td>40.0</td>\n",
       "      <td>37.0</td>\n",
       "      <td>78.0</td>\n",
       "      <td>4.0</td>\n",
       "      <td>10.0</td>\n",
       "      <td>Non-veg</td>\n",
       "      <td>0.0</td>\n",
       "      <td>0.508</td>\n",
       "      <td>0.492</td>\n",
       "      <td>0.4404</td>\n",
       "    </tr>\n",
       "    <tr>\n",
       "      <th>2</th>\n",
       "      <td>35308</td>\n",
       "      <td>60599</td>\n",
       "      <td>2006-09-26</td>\n",
       "      <td>5</td>\n",
       "      <td>absolutely awesome i was speechless when i tri...</td>\n",
       "      <td>kfc honey bbq strips</td>\n",
       "      <td>40</td>\n",
       "      <td>166019</td>\n",
       "      <td>2005-08-24</td>\n",
       "      <td>60-minutes-or-less, time-to-make, main-ingredi...</td>\n",
       "      <td>...</td>\n",
       "      <td>40.0</td>\n",
       "      <td>37.0</td>\n",
       "      <td>78.0</td>\n",
       "      <td>4.0</td>\n",
       "      <td>10.0</td>\n",
       "      <td>Non-veg</td>\n",
       "      <td>0.0</td>\n",
       "      <td>0.883</td>\n",
       "      <td>0.117</td>\n",
       "      <td>0.6590</td>\n",
       "    </tr>\n",
       "  </tbody>\n",
       "</table>\n",
       "<p>3 rows × 27 columns</p>\n",
       "</div>"
      ],
      "text/plain": [
       "   user_id  recipe_id        date  rating   \n",
       "0     7708      60599  2005-09-02       4  \\\n",
       "1    27707      60599  2005-12-22       5   \n",
       "2    35308      60599  2006-09-26       5   \n",
       "\n",
       "                                              review                  name   \n",
       "0                                          very good  kfc honey bbq strips  \\\n",
       "1                               better than the real  kfc honey bbq strips   \n",
       "2  absolutely awesome i was speechless when i tri...  kfc honey bbq strips   \n",
       "\n",
       "   minutes  contributor_id   submitted   \n",
       "0       40          166019  2005-08-24  \\\n",
       "1       40          166019  2005-08-24   \n",
       "2       40          166019  2005-08-24   \n",
       "\n",
       "                                                tags  ...  sugar sodium   \n",
       "0  60-minutes-or-less, time-to-make, main-ingredi...  ...   40.0   37.0  \\\n",
       "1  60-minutes-or-less, time-to-make, main-ingredi...  ...   40.0   37.0   \n",
       "2  60-minutes-or-less, time-to-make, main-ingredi...  ...   40.0   37.0   \n",
       "\n",
       "  protein saturated_fat  carbohydrates  food_types  negative  neutral   \n",
       "0    78.0           4.0           10.0     Non-veg       0.0    0.238  \\\n",
       "1    78.0           4.0           10.0     Non-veg       0.0    0.508   \n",
       "2    78.0           4.0           10.0     Non-veg       0.0    0.883   \n",
       "\n",
       "   positive  compound  \n",
       "0     0.762    0.4927  \n",
       "1     0.492    0.4404  \n",
       "2     0.117    0.6590  \n",
       "\n",
       "[3 rows x 27 columns]"
      ]
     },
     "execution_count": 56,
     "metadata": {},
     "output_type": "execute_result"
    }
   ],
   "source": []
  },
  {
   "cell_type": "code",
   "execution_count": 58,
   "metadata": {},
   "outputs": [],
   "source": [
    "# save the model\n",
    "import pickle\n",
    "\n",
    "with open('../backend/saved_models/nmf_model.pkl', 'wb') as f:\n",
    "    pickle.dump(nmf_model, f)"
   ]
  },
  {
   "cell_type": "code",
   "execution_count": 59,
   "outputs": [],
   "source": [
    "# save the weights\n",
    "np.save('../backend/saved_models/nmf_W.npy', W)\n",
    "np.save('../backend/saved_models/nmf_H.npy', H)"
   ],
   "metadata": {
    "collapsed": false
   }
  },
  {
   "cell_type": "code",
   "execution_count": null,
   "outputs": [],
   "source": [
    "W = np.load('../backend/saved_models/nmf_W.npy')"
   ],
   "metadata": {
    "collapsed": false
   }
  }
 ],
 "metadata": {
  "kernelspec": {
   "display_name": "Python 3 (ipykernel)",
   "language": "python",
   "name": "python3"
  },
  "language_info": {
   "codemirror_mode": {
    "name": "ipython",
    "version": 3
   },
   "file_extension": ".py",
   "mimetype": "text/x-python",
   "name": "python",
   "nbconvert_exporter": "python",
   "pygments_lexer": "ipython3",
   "version": "3.9.6"
  },
  "vscode": {
   "interpreter": {
    "hash": "949777d72b0d2535278d3dc13498b2535136f6dfe0678499012e853ee9abcab1"
   }
  }
 },
 "nbformat": 4,
 "nbformat_minor": 2
}
