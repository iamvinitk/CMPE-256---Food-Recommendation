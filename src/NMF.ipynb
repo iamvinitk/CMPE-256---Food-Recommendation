{
 "cells": [
  {
   "cell_type": "code",
   "execution_count": 37,
   "metadata": {
    "collapsed": true
   },
   "outputs": [],
   "source": [
    "import pandas as pd\n",
    "import numpy as np\n",
    "import matplotlib.pyplot as plt"
   ]
  },
  {
   "cell_type": "code",
   "execution_count": 98,
   "outputs": [
    {
     "data": {
      "text/plain": "   user_id  recipe_id        date  rating   \n0      492      20636  2002-12-01       4  \\\n1     8204      64566  2005-09-02       4   \n2    28657      64566  2005-12-22       5   \n3    36365      64566  2006-09-26       5   \n4    20197      64566  2007-03-09       5   \n\n                                              review  minutes  contributor_id   \n0  this worked very well and is easy. i used not ...       20           56824  \\\n1                                          very good       40          166019   \n2                               better than the real       40          166019   \n3  absolutely awesome i was speechless when i tri...       40          166019   \n4  these taste absolutely wonderful my son in law...       40          166019   \n\n    submitted                                               tags  n_steps   \n0  2002-10-27  30-minutes-or-less, time-to-make, course, main...        5  \\\n1  2005-08-24  60-minutes-or-less, time-to-make, main-ingredi...       10   \n2  2005-08-24  60-minutes-or-less, time-to-make, main-ingredi...       10   \n3  2005-08-24  60-minutes-or-less, time-to-make, main-ingredi...       10   \n4  2005-08-24  60-minutes-or-less, time-to-make, main-ingredi...       10   \n\n   ... sugar sodium  protein  saturated_fat  carbohydrates  food_types   \n0  ...  39.0    5.0      4.0           11.0            5.0     Healthy  \\\n1  ...  40.0   37.0     78.0            4.0           10.0     Non-veg   \n2  ...  40.0   37.0     78.0            4.0           10.0     Non-veg   \n3  ...  40.0   37.0     78.0            4.0           10.0     Non-veg   \n4  ...  40.0   37.0     78.0            4.0           10.0     Non-veg   \n\n   negative  neutral  positive  compound  \n0       0.0    0.598     0.402    0.8553  \n1       0.0    0.238     0.762    0.4927  \n2       0.0    0.508     0.492    0.4404  \n3       0.0    0.883     0.117    0.6590  \n4       0.0    0.675     0.325    0.8908  \n\n[5 rows x 25 columns]",
      "text/html": "<div>\n<style scoped>\n    .dataframe tbody tr th:only-of-type {\n        vertical-align: middle;\n    }\n\n    .dataframe tbody tr th {\n        vertical-align: top;\n    }\n\n    .dataframe thead th {\n        text-align: right;\n    }\n</style>\n<table border=\"1\" class=\"dataframe\">\n  <thead>\n    <tr style=\"text-align: right;\">\n      <th></th>\n      <th>user_id</th>\n      <th>recipe_id</th>\n      <th>date</th>\n      <th>rating</th>\n      <th>review</th>\n      <th>minutes</th>\n      <th>contributor_id</th>\n      <th>submitted</th>\n      <th>tags</th>\n      <th>n_steps</th>\n      <th>...</th>\n      <th>sugar</th>\n      <th>sodium</th>\n      <th>protein</th>\n      <th>saturated_fat</th>\n      <th>carbohydrates</th>\n      <th>food_types</th>\n      <th>negative</th>\n      <th>neutral</th>\n      <th>positive</th>\n      <th>compound</th>\n    </tr>\n  </thead>\n  <tbody>\n    <tr>\n      <th>0</th>\n      <td>492</td>\n      <td>20636</td>\n      <td>2002-12-01</td>\n      <td>4</td>\n      <td>this worked very well and is easy. i used not ...</td>\n      <td>20</td>\n      <td>56824</td>\n      <td>2002-10-27</td>\n      <td>30-minutes-or-less, time-to-make, course, main...</td>\n      <td>5</td>\n      <td>...</td>\n      <td>39.0</td>\n      <td>5.0</td>\n      <td>4.0</td>\n      <td>11.0</td>\n      <td>5.0</td>\n      <td>Healthy</td>\n      <td>0.0</td>\n      <td>0.598</td>\n      <td>0.402</td>\n      <td>0.8553</td>\n    </tr>\n    <tr>\n      <th>1</th>\n      <td>8204</td>\n      <td>64566</td>\n      <td>2005-09-02</td>\n      <td>4</td>\n      <td>very good</td>\n      <td>40</td>\n      <td>166019</td>\n      <td>2005-08-24</td>\n      <td>60-minutes-or-less, time-to-make, main-ingredi...</td>\n      <td>10</td>\n      <td>...</td>\n      <td>40.0</td>\n      <td>37.0</td>\n      <td>78.0</td>\n      <td>4.0</td>\n      <td>10.0</td>\n      <td>Non-veg</td>\n      <td>0.0</td>\n      <td>0.238</td>\n      <td>0.762</td>\n      <td>0.4927</td>\n    </tr>\n    <tr>\n      <th>2</th>\n      <td>28657</td>\n      <td>64566</td>\n      <td>2005-12-22</td>\n      <td>5</td>\n      <td>better than the real</td>\n      <td>40</td>\n      <td>166019</td>\n      <td>2005-08-24</td>\n      <td>60-minutes-or-less, time-to-make, main-ingredi...</td>\n      <td>10</td>\n      <td>...</td>\n      <td>40.0</td>\n      <td>37.0</td>\n      <td>78.0</td>\n      <td>4.0</td>\n      <td>10.0</td>\n      <td>Non-veg</td>\n      <td>0.0</td>\n      <td>0.508</td>\n      <td>0.492</td>\n      <td>0.4404</td>\n    </tr>\n    <tr>\n      <th>3</th>\n      <td>36365</td>\n      <td>64566</td>\n      <td>2006-09-26</td>\n      <td>5</td>\n      <td>absolutely awesome i was speechless when i tri...</td>\n      <td>40</td>\n      <td>166019</td>\n      <td>2005-08-24</td>\n      <td>60-minutes-or-less, time-to-make, main-ingredi...</td>\n      <td>10</td>\n      <td>...</td>\n      <td>40.0</td>\n      <td>37.0</td>\n      <td>78.0</td>\n      <td>4.0</td>\n      <td>10.0</td>\n      <td>Non-veg</td>\n      <td>0.0</td>\n      <td>0.883</td>\n      <td>0.117</td>\n      <td>0.6590</td>\n    </tr>\n    <tr>\n      <th>4</th>\n      <td>20197</td>\n      <td>64566</td>\n      <td>2007-03-09</td>\n      <td>5</td>\n      <td>these taste absolutely wonderful my son in law...</td>\n      <td>40</td>\n      <td>166019</td>\n      <td>2005-08-24</td>\n      <td>60-minutes-or-less, time-to-make, main-ingredi...</td>\n      <td>10</td>\n      <td>...</td>\n      <td>40.0</td>\n      <td>37.0</td>\n      <td>78.0</td>\n      <td>4.0</td>\n      <td>10.0</td>\n      <td>Non-veg</td>\n      <td>0.0</td>\n      <td>0.675</td>\n      <td>0.325</td>\n      <td>0.8908</td>\n    </tr>\n  </tbody>\n</table>\n<p>5 rows × 25 columns</p>\n</div>"
     },
     "execution_count": 98,
     "metadata": {},
     "output_type": "execute_result"
    }
   ],
   "source": [
    "df = pd.read_csv('../dataset/preprocessed_data.csv')\n",
    "df.head()"
   ],
   "metadata": {
    "collapsed": false
   }
  },
  {
   "cell_type": "code",
   "execution_count": 99,
   "outputs": [],
   "source": [
    "df = df[['minutes', 'n_steps', 'ingredients', 'n_ingredients', 'calories', 'total_fat', 'sugar', 'sodium', 'protein', 'saturated_fat', 'carbohydrates', 'food_types', 'recipe_id']]"
   ],
   "metadata": {
    "collapsed": false
   }
  },
  {
   "cell_type": "code",
   "execution_count": 100,
   "outputs": [
    {
     "data": {
      "text/plain": "763871"
     },
     "execution_count": 100,
     "metadata": {},
     "output_type": "execute_result"
    }
   ],
   "source": [
    "df.duplicated().sum()"
   ],
   "metadata": {
    "collapsed": false
   }
  },
  {
   "cell_type": "code",
   "execution_count": 101,
   "outputs": [],
   "source": [
    "df = df.drop_duplicates()"
   ],
   "metadata": {
    "collapsed": false
   }
  },
  {
   "cell_type": "code",
   "execution_count": 102,
   "outputs": [],
   "source": [
    "numerical_columns = ['minutes', 'n_steps', 'n_ingredients', 'calories', 'total_fat', 'sugar', 'sodium', 'protein', 'saturated_fat', 'carbohydrates']\n",
    "category_columns = ['food_types']\n",
    "text_columns = ['ingredients']"
   ],
   "metadata": {
    "collapsed": false
   }
  },
  {
   "cell_type": "code",
   "execution_count": 103,
   "outputs": [],
   "source": [
    "from sklearn.preprocessing import MinMaxScaler\n",
    "scaler = MinMaxScaler()\n",
    "df[numerical_columns] = scaler.fit_transform(df[numerical_columns])"
   ],
   "metadata": {
    "collapsed": false
   }
  },
  {
   "cell_type": "code",
   "execution_count": 104,
   "outputs": [],
   "source": [
    "from sklearn.preprocessing import LabelEncoder\n",
    "encoder = LabelEncoder()\n",
    "df[category_columns] = df[category_columns].apply(encoder.fit_transform)"
   ],
   "metadata": {
    "collapsed": false
   }
  },
  {
   "cell_type": "code",
   "execution_count": 105,
   "outputs": [],
   "source": [
    "from sklearn.feature_extraction.text import TfidfVectorizer\n",
    "vectorizer = TfidfVectorizer(max_features=10)\n",
    "ingredients = vectorizer.fit_transform(df['ingredients'])"
   ],
   "metadata": {
    "collapsed": false
   }
  },
  {
   "cell_type": "code",
   "execution_count": 106,
   "outputs": [
    {
     "data": {
      "text/plain": "<198249x10 sparse matrix of type '<class 'numpy.float64'>'\n\twith 633321 stored elements in Compressed Sparse Row format>"
     },
     "execution_count": 106,
     "metadata": {},
     "output_type": "execute_result"
    }
   ],
   "source": [
    "ingredients"
   ],
   "metadata": {
    "collapsed": false
   }
  },
  {
   "cell_type": "code",
   "execution_count": 73,
   "outputs": [
    {
     "data": {
      "text/plain": "     minutes   n_steps                                        ingredients   \n0   0.085106  0.051546  devils food cake mix, vegetable oil, eggs, ree...  \\\n1   0.170213  0.103093  chicken tenders, flour, garlic powder, salt, g...   \n8   0.085106  0.020619  hamburger, breadcrumbs, egg, salt, black peppe...   \n9   0.638298  0.144330  lamb shoulder, salt, ground black pepper, vege...   \n13  0.191489  0.175258  cooking spray, onion, green peppers, garlic cl...   \n\n    n_ingredients  calories  total_fat     sugar    sodium   protein   \n0        0.071429  0.033007   0.068323  0.082979  0.017007  0.030075  \\\n1        0.261905  0.078838   0.024845  0.085106  0.125850  0.586466   \n8        0.214286  0.076842   0.142857  0.023404  0.068027  0.406015   \n9        0.357143  0.151315   0.403727  0.025532  0.115646  0.488722   \n13       0.357143  0.061873   0.024845  0.059574  0.071429  0.330827   \n\n    saturated_fat  carbohydrates  food_types  recipe_id  \n0        0.074830       0.113636           0      20636  \n1        0.027211       0.227273           2      64566  \n8        0.183673       0.090909           2      92891  \n9        0.564626       0.159091           2      94130  \n13       0.020408       0.250000           0     105129  ",
      "text/html": "<div>\n<style scoped>\n    .dataframe tbody tr th:only-of-type {\n        vertical-align: middle;\n    }\n\n    .dataframe tbody tr th {\n        vertical-align: top;\n    }\n\n    .dataframe thead th {\n        text-align: right;\n    }\n</style>\n<table border=\"1\" class=\"dataframe\">\n  <thead>\n    <tr style=\"text-align: right;\">\n      <th></th>\n      <th>minutes</th>\n      <th>n_steps</th>\n      <th>ingredients</th>\n      <th>n_ingredients</th>\n      <th>calories</th>\n      <th>total_fat</th>\n      <th>sugar</th>\n      <th>sodium</th>\n      <th>protein</th>\n      <th>saturated_fat</th>\n      <th>carbohydrates</th>\n      <th>food_types</th>\n      <th>recipe_id</th>\n    </tr>\n  </thead>\n  <tbody>\n    <tr>\n      <th>0</th>\n      <td>0.085106</td>\n      <td>0.051546</td>\n      <td>devils food cake mix, vegetable oil, eggs, ree...</td>\n      <td>0.071429</td>\n      <td>0.033007</td>\n      <td>0.068323</td>\n      <td>0.082979</td>\n      <td>0.017007</td>\n      <td>0.030075</td>\n      <td>0.074830</td>\n      <td>0.113636</td>\n      <td>0</td>\n      <td>20636</td>\n    </tr>\n    <tr>\n      <th>1</th>\n      <td>0.170213</td>\n      <td>0.103093</td>\n      <td>chicken tenders, flour, garlic powder, salt, g...</td>\n      <td>0.261905</td>\n      <td>0.078838</td>\n      <td>0.024845</td>\n      <td>0.085106</td>\n      <td>0.125850</td>\n      <td>0.586466</td>\n      <td>0.027211</td>\n      <td>0.227273</td>\n      <td>2</td>\n      <td>64566</td>\n    </tr>\n    <tr>\n      <th>8</th>\n      <td>0.085106</td>\n      <td>0.020619</td>\n      <td>hamburger, breadcrumbs, egg, salt, black peppe...</td>\n      <td>0.214286</td>\n      <td>0.076842</td>\n      <td>0.142857</td>\n      <td>0.023404</td>\n      <td>0.068027</td>\n      <td>0.406015</td>\n      <td>0.183673</td>\n      <td>0.090909</td>\n      <td>2</td>\n      <td>92891</td>\n    </tr>\n    <tr>\n      <th>9</th>\n      <td>0.638298</td>\n      <td>0.144330</td>\n      <td>lamb shoulder, salt, ground black pepper, vege...</td>\n      <td>0.357143</td>\n      <td>0.151315</td>\n      <td>0.403727</td>\n      <td>0.025532</td>\n      <td>0.115646</td>\n      <td>0.488722</td>\n      <td>0.564626</td>\n      <td>0.159091</td>\n      <td>2</td>\n      <td>94130</td>\n    </tr>\n    <tr>\n      <th>13</th>\n      <td>0.191489</td>\n      <td>0.175258</td>\n      <td>cooking spray, onion, green peppers, garlic cl...</td>\n      <td>0.357143</td>\n      <td>0.061873</td>\n      <td>0.024845</td>\n      <td>0.059574</td>\n      <td>0.071429</td>\n      <td>0.330827</td>\n      <td>0.020408</td>\n      <td>0.250000</td>\n      <td>0</td>\n      <td>105129</td>\n    </tr>\n  </tbody>\n</table>\n</div>"
     },
     "execution_count": 73,
     "metadata": {},
     "output_type": "execute_result"
    }
   ],
   "source": [
    "df.head()"
   ],
   "metadata": {
    "collapsed": false
   }
  },
  {
   "cell_type": "code",
   "execution_count": 108,
   "outputs": [],
   "source": [
    "df = df.drop('ingredients', axis=1)"
   ],
   "metadata": {
    "collapsed": false
   }
  },
  {
   "cell_type": "code",
   "execution_count": 88,
   "outputs": [],
   "source": [
    "# drop recipe_id column and food_types column\n",
    "temp = df.drop(['food_types'], axis=1)\n",
    "# save to a file\n",
    "temp.to_csv('../dataset/temp.csv', index=False)"
   ],
   "metadata": {
    "collapsed": false
   }
  },
  {
   "cell_type": "code",
   "execution_count": 87,
   "outputs": [
    {
     "data": {
      "text/plain": "     minutes   n_steps  n_ingredients  calories  total_fat     sugar   \n0   0.085106  0.051546       0.071429  0.033007   0.068323  0.082979  \\\n1   0.170213  0.103093       0.261905  0.078838   0.024845  0.085106   \n8   0.085106  0.020619       0.214286  0.076842   0.142857  0.023404   \n9   0.638298  0.144330       0.357143  0.151315   0.403727  0.025532   \n13  0.191489  0.175258       0.357143  0.061873   0.024845  0.059574   \n\n      sodium   protein  saturated_fat  carbohydrates  \n0   0.017007  0.030075       0.074830       0.113636  \n1   0.125850  0.586466       0.027211       0.227273  \n8   0.068027  0.406015       0.183673       0.090909  \n9   0.115646  0.488722       0.564626       0.159091  \n13  0.071429  0.330827       0.020408       0.250000  ",
      "text/html": "<div>\n<style scoped>\n    .dataframe tbody tr th:only-of-type {\n        vertical-align: middle;\n    }\n\n    .dataframe tbody tr th {\n        vertical-align: top;\n    }\n\n    .dataframe thead th {\n        text-align: right;\n    }\n</style>\n<table border=\"1\" class=\"dataframe\">\n  <thead>\n    <tr style=\"text-align: right;\">\n      <th></th>\n      <th>minutes</th>\n      <th>n_steps</th>\n      <th>n_ingredients</th>\n      <th>calories</th>\n      <th>total_fat</th>\n      <th>sugar</th>\n      <th>sodium</th>\n      <th>protein</th>\n      <th>saturated_fat</th>\n      <th>carbohydrates</th>\n    </tr>\n  </thead>\n  <tbody>\n    <tr>\n      <th>0</th>\n      <td>0.085106</td>\n      <td>0.051546</td>\n      <td>0.071429</td>\n      <td>0.033007</td>\n      <td>0.068323</td>\n      <td>0.082979</td>\n      <td>0.017007</td>\n      <td>0.030075</td>\n      <td>0.074830</td>\n      <td>0.113636</td>\n    </tr>\n    <tr>\n      <th>1</th>\n      <td>0.170213</td>\n      <td>0.103093</td>\n      <td>0.261905</td>\n      <td>0.078838</td>\n      <td>0.024845</td>\n      <td>0.085106</td>\n      <td>0.125850</td>\n      <td>0.586466</td>\n      <td>0.027211</td>\n      <td>0.227273</td>\n    </tr>\n    <tr>\n      <th>8</th>\n      <td>0.085106</td>\n      <td>0.020619</td>\n      <td>0.214286</td>\n      <td>0.076842</td>\n      <td>0.142857</td>\n      <td>0.023404</td>\n      <td>0.068027</td>\n      <td>0.406015</td>\n      <td>0.183673</td>\n      <td>0.090909</td>\n    </tr>\n    <tr>\n      <th>9</th>\n      <td>0.638298</td>\n      <td>0.144330</td>\n      <td>0.357143</td>\n      <td>0.151315</td>\n      <td>0.403727</td>\n      <td>0.025532</td>\n      <td>0.115646</td>\n      <td>0.488722</td>\n      <td>0.564626</td>\n      <td>0.159091</td>\n    </tr>\n    <tr>\n      <th>13</th>\n      <td>0.191489</td>\n      <td>0.175258</td>\n      <td>0.357143</td>\n      <td>0.061873</td>\n      <td>0.024845</td>\n      <td>0.059574</td>\n      <td>0.071429</td>\n      <td>0.330827</td>\n      <td>0.020408</td>\n      <td>0.250000</td>\n    </tr>\n  </tbody>\n</table>\n</div>"
     },
     "execution_count": 87,
     "metadata": {},
     "output_type": "execute_result"
    }
   ],
   "source": [
    "temp.head()"
   ],
   "metadata": {
    "collapsed": false
   }
  },
  {
   "cell_type": "code",
   "execution_count": 75,
   "outputs": [
    {
     "data": {
      "text/plain": "<198249x4071 sparse matrix of type '<class 'numpy.float64'>'\n\twith 3082309 stored elements in Compressed Sparse Row format>"
     },
     "execution_count": 75,
     "metadata": {},
     "output_type": "execute_result"
    }
   ],
   "source": [
    "ingredients"
   ],
   "metadata": {
    "collapsed": false
   }
  },
  {
   "cell_type": "code",
   "execution_count": 109,
   "outputs": [],
   "source": [
    "# merge the ingredients and the dataframe into a numpy array\n",
    "from scipy.sparse import hstack\n",
    "X = hstack((df.values, ingredients))"
   ],
   "metadata": {
    "collapsed": false
   }
  },
  {
   "cell_type": "code",
   "execution_count": 110,
   "outputs": [
    {
     "data": {
      "text/plain": "(198249, 22)"
     },
     "execution_count": 110,
     "metadata": {},
     "output_type": "execute_result"
    }
   ],
   "source": [
    "X.shape"
   ],
   "metadata": {
    "collapsed": false
   }
  },
  {
   "cell_type": "code",
   "execution_count": 84,
   "outputs": [
    {
     "data": {
      "text/plain": "array([[0.08510638, 0.05154639, 0.07142857, ..., 0.        , 0.        ,\n        0.        ],\n       [0.17021277, 0.10309278, 0.26190476, ..., 0.        , 0.        ,\n        0.        ],\n       [0.08510638, 0.02061856, 0.21428571, ..., 0.        , 0.        ,\n        0.        ],\n       ...,\n       [0.29787234, 0.09278351, 0.0952381 , ..., 0.        , 0.        ,\n        0.        ],\n       [0.03404255, 0.25773196, 0.04761905, ..., 0.        , 0.        ,\n        0.        ],\n       [0.0893617 , 0.09278351, 0.16666667, ..., 0.        , 0.        ,\n        0.        ]])"
     },
     "execution_count": 84,
     "metadata": {},
     "output_type": "execute_result"
    }
   ],
   "source": [
    "X.toarray()\n",
    "\n",
    "# drop the recipe_id column from X which is the 11th column\n",
    "X = np.delete(X.toarray(), 11, axis=1)"
   ],
   "metadata": {
    "collapsed": false
   }
  },
  {
   "cell_type": "code",
   "execution_count": 83,
   "outputs": [
    {
     "data": {
      "text/plain": "         minutes   n_steps  n_ingredients  calories  total_fat     sugar   \n0       0.085106  0.051546       0.071429  0.033007   0.068323  0.082979  \\\n1       0.170213  0.103093       0.261905  0.078838   0.024845  0.085106   \n8       0.085106  0.020619       0.214286  0.076842   0.142857  0.023404   \n9       0.638298  0.144330       0.357143  0.151315   0.403727  0.025532   \n13      0.191489  0.175258       0.357143  0.061873   0.024845  0.059574   \n...          ...       ...            ...       ...        ...       ...   \n962097  0.055319  0.134021       0.071429  0.004067   0.000000  0.000000   \n962099  0.255319  0.185567       0.452381  0.066638   0.037267  0.051064   \n962102  0.297872  0.092784       0.095238  0.126216   0.273292  0.040426   \n962107  0.034043  0.257732       0.047619  0.099047   0.385093  0.000000   \n962116  0.089362  0.092784       0.166667  0.031111   0.006211  0.023404   \n\n          sodium   protein  saturated_fat  carbohydrates  food_types   \n0       0.017007  0.030075       0.074830       0.113636           0  \\\n1       0.125850  0.586466       0.027211       0.227273           2   \n8       0.068027  0.406015       0.183673       0.090909           2   \n9       0.115646  0.488722       0.564626       0.159091           2   \n13      0.071429  0.330827       0.020408       0.250000           0   \n...          ...       ...            ...            ...         ...   \n962097  0.000000  0.000000       0.000000       0.022727           3   \n962099  0.085034  0.097744       0.020408       0.409091           0   \n962102  0.061224  0.473684       0.265306       0.181818           2   \n962107  0.027211  0.075188       0.190476       0.022727           3   \n962116  0.081633  0.075188       0.000000       0.181818           0   \n\n        recipe_id  \n0           20636  \n1           64566  \n8           92891  \n9           94130  \n13         105129  \n...           ...  \n962097     193314  \n962099     124429  \n962102     115134  \n962107     188792  \n962116     165993  \n\n[198249 rows x 12 columns]",
      "text/html": "<div>\n<style scoped>\n    .dataframe tbody tr th:only-of-type {\n        vertical-align: middle;\n    }\n\n    .dataframe tbody tr th {\n        vertical-align: top;\n    }\n\n    .dataframe thead th {\n        text-align: right;\n    }\n</style>\n<table border=\"1\" class=\"dataframe\">\n  <thead>\n    <tr style=\"text-align: right;\">\n      <th></th>\n      <th>minutes</th>\n      <th>n_steps</th>\n      <th>n_ingredients</th>\n      <th>calories</th>\n      <th>total_fat</th>\n      <th>sugar</th>\n      <th>sodium</th>\n      <th>protein</th>\n      <th>saturated_fat</th>\n      <th>carbohydrates</th>\n      <th>food_types</th>\n      <th>recipe_id</th>\n    </tr>\n  </thead>\n  <tbody>\n    <tr>\n      <th>0</th>\n      <td>0.085106</td>\n      <td>0.051546</td>\n      <td>0.071429</td>\n      <td>0.033007</td>\n      <td>0.068323</td>\n      <td>0.082979</td>\n      <td>0.017007</td>\n      <td>0.030075</td>\n      <td>0.074830</td>\n      <td>0.113636</td>\n      <td>0</td>\n      <td>20636</td>\n    </tr>\n    <tr>\n      <th>1</th>\n      <td>0.170213</td>\n      <td>0.103093</td>\n      <td>0.261905</td>\n      <td>0.078838</td>\n      <td>0.024845</td>\n      <td>0.085106</td>\n      <td>0.125850</td>\n      <td>0.586466</td>\n      <td>0.027211</td>\n      <td>0.227273</td>\n      <td>2</td>\n      <td>64566</td>\n    </tr>\n    <tr>\n      <th>8</th>\n      <td>0.085106</td>\n      <td>0.020619</td>\n      <td>0.214286</td>\n      <td>0.076842</td>\n      <td>0.142857</td>\n      <td>0.023404</td>\n      <td>0.068027</td>\n      <td>0.406015</td>\n      <td>0.183673</td>\n      <td>0.090909</td>\n      <td>2</td>\n      <td>92891</td>\n    </tr>\n    <tr>\n      <th>9</th>\n      <td>0.638298</td>\n      <td>0.144330</td>\n      <td>0.357143</td>\n      <td>0.151315</td>\n      <td>0.403727</td>\n      <td>0.025532</td>\n      <td>0.115646</td>\n      <td>0.488722</td>\n      <td>0.564626</td>\n      <td>0.159091</td>\n      <td>2</td>\n      <td>94130</td>\n    </tr>\n    <tr>\n      <th>13</th>\n      <td>0.191489</td>\n      <td>0.175258</td>\n      <td>0.357143</td>\n      <td>0.061873</td>\n      <td>0.024845</td>\n      <td>0.059574</td>\n      <td>0.071429</td>\n      <td>0.330827</td>\n      <td>0.020408</td>\n      <td>0.250000</td>\n      <td>0</td>\n      <td>105129</td>\n    </tr>\n    <tr>\n      <th>...</th>\n      <td>...</td>\n      <td>...</td>\n      <td>...</td>\n      <td>...</td>\n      <td>...</td>\n      <td>...</td>\n      <td>...</td>\n      <td>...</td>\n      <td>...</td>\n      <td>...</td>\n      <td>...</td>\n      <td>...</td>\n    </tr>\n    <tr>\n      <th>962097</th>\n      <td>0.055319</td>\n      <td>0.134021</td>\n      <td>0.071429</td>\n      <td>0.004067</td>\n      <td>0.000000</td>\n      <td>0.000000</td>\n      <td>0.000000</td>\n      <td>0.000000</td>\n      <td>0.000000</td>\n      <td>0.022727</td>\n      <td>3</td>\n      <td>193314</td>\n    </tr>\n    <tr>\n      <th>962099</th>\n      <td>0.255319</td>\n      <td>0.185567</td>\n      <td>0.452381</td>\n      <td>0.066638</td>\n      <td>0.037267</td>\n      <td>0.051064</td>\n      <td>0.085034</td>\n      <td>0.097744</td>\n      <td>0.020408</td>\n      <td>0.409091</td>\n      <td>0</td>\n      <td>124429</td>\n    </tr>\n    <tr>\n      <th>962102</th>\n      <td>0.297872</td>\n      <td>0.092784</td>\n      <td>0.095238</td>\n      <td>0.126216</td>\n      <td>0.273292</td>\n      <td>0.040426</td>\n      <td>0.061224</td>\n      <td>0.473684</td>\n      <td>0.265306</td>\n      <td>0.181818</td>\n      <td>2</td>\n      <td>115134</td>\n    </tr>\n    <tr>\n      <th>962107</th>\n      <td>0.034043</td>\n      <td>0.257732</td>\n      <td>0.047619</td>\n      <td>0.099047</td>\n      <td>0.385093</td>\n      <td>0.000000</td>\n      <td>0.027211</td>\n      <td>0.075188</td>\n      <td>0.190476</td>\n      <td>0.022727</td>\n      <td>3</td>\n      <td>188792</td>\n    </tr>\n    <tr>\n      <th>962116</th>\n      <td>0.089362</td>\n      <td>0.092784</td>\n      <td>0.166667</td>\n      <td>0.031111</td>\n      <td>0.006211</td>\n      <td>0.023404</td>\n      <td>0.081633</td>\n      <td>0.075188</td>\n      <td>0.000000</td>\n      <td>0.181818</td>\n      <td>0</td>\n      <td>165993</td>\n    </tr>\n  </tbody>\n</table>\n<p>198249 rows × 12 columns</p>\n</div>"
     },
     "execution_count": 83,
     "metadata": {},
     "output_type": "execute_result"
    }
   ],
   "source": [
    "df"
   ],
   "metadata": {
    "collapsed": false
   }
  },
  {
   "cell_type": "code",
   "execution_count": 81,
   "outputs": [],
   "source": [
    "# Save X to a file\n",
    "from scipy.sparse import save_npz\n",
    "save_npz('../dataset/X.npz', X)"
   ],
   "metadata": {
    "collapsed": false
   }
  },
  {
   "cell_type": "code",
   "execution_count": 80,
   "outputs": [
    {
     "name": "stdout",
     "output_type": "stream",
     "text": [
      "Epoch 10 reached after 1.190 seconds, error: 832.952580\n",
      "Epoch 20 reached after 2.278 seconds, error: 830.336077\n"
     ]
    },
    {
     "data": {
      "text/plain": "array([[5.45293529e-01, 1.61059598e-02, 1.03740316e-01, ...,\n        4.39226529e-01, 2.19028475e+00, 3.74169385e-01],\n       [2.25579544e+00, 1.64887975e+00, 1.47846514e-01, ...,\n        3.16066477e+00, 2.57140414e+00, 7.81000233e-02],\n       [3.81587212e+00, 2.30527029e+00, 8.55829351e-01, ...,\n        2.50566999e+00, 1.13939248e+01, 1.18780225e+00],\n       ...,\n       [3.03137388e+00, 4.23270042e+00, 4.58001520e-01, ...,\n        4.99773255e+00, 3.32886290e+00, 3.73006803e-01],\n       [8.44307137e+00, 3.47026011e+00, 4.02414928e-01, ...,\n        2.30482003e-01, 2.45017831e+01, 2.81374513e+00],\n       [8.30009995e+00, 2.90378511e+00, 8.02449707e-01, ...,\n        7.73255968e+00, 1.39341443e+01, 2.42486204e+00]])"
     },
     "execution_count": 80,
     "metadata": {},
     "output_type": "execute_result"
    }
   ],
   "source": [
    "# NMF\n",
    "from sklearn.decomposition import NMF\n",
    "nmf = NMF(n_components=10, init='random', random_state=0, max_iter=100, solver='mu', l1_ratio=0.5, verbose=3)\n",
    "nmf.fit(X)"
   ],
   "metadata": {
    "collapsed": false
   }
  },
  {
   "cell_type": "code",
   "execution_count": 119,
   "outputs": [
    {
     "ename": "AxisError",
     "evalue": "axis 1 is out of bounds for array of dimension 0",
     "output_type": "error",
     "traceback": [
      "\u001B[0;31m---------------------------------------------------------------------------\u001B[0m",
      "\u001B[0;31mAxisError\u001B[0m                                 Traceback (most recent call last)",
      "Cell \u001B[0;32mIn[119], line 5\u001B[0m\n\u001B[1;32m      2\u001B[0m \u001B[38;5;28;01mfrom\u001B[39;00m \u001B[38;5;21;01msklearn\u001B[39;00m\u001B[38;5;21;01m.\u001B[39;00m\u001B[38;5;21;01mmetrics\u001B[39;00m\u001B[38;5;21;01m.\u001B[39;00m\u001B[38;5;21;01mpairwise\u001B[39;00m \u001B[38;5;28;01mimport\u001B[39;00m cosine_similarity\n\u001B[1;32m      4\u001B[0m \u001B[38;5;66;03m# remove 11th column from X and create a new array\u001B[39;00m\n\u001B[0;32m----> 5\u001B[0m d \u001B[38;5;241m=\u001B[39m \u001B[43mnp\u001B[49m\u001B[38;5;241;43m.\u001B[39;49m\u001B[43mdelete\u001B[49m\u001B[43m(\u001B[49m\u001B[43mX\u001B[49m\u001B[43m,\u001B[49m\u001B[43m \u001B[49m\u001B[38;5;241;43m11\u001B[39;49m\u001B[43m,\u001B[49m\u001B[43m \u001B[49m\u001B[43maxis\u001B[49m\u001B[38;5;241;43m=\u001B[39;49m\u001B[38;5;241;43m1\u001B[39;49m\u001B[43m)\u001B[49m\n\u001B[1;32m      6\u001B[0m d\n",
      "File \u001B[0;32m<__array_function__ internals>:180\u001B[0m, in \u001B[0;36mdelete\u001B[0;34m(*args, **kwargs)\u001B[0m\n",
      "File \u001B[0;32m~/git/personal/kaggle/kaggle/food-recommendation-venv/lib/python3.9/site-packages/numpy/lib/function_base.py:5081\u001B[0m, in \u001B[0;36mdelete\u001B[0;34m(arr, obj, axis)\u001B[0m\n\u001B[1;32m   5079\u001B[0m     axis \u001B[38;5;241m=\u001B[39m ndim \u001B[38;5;241m-\u001B[39m \u001B[38;5;241m1\u001B[39m\n\u001B[1;32m   5080\u001B[0m \u001B[38;5;28;01melse\u001B[39;00m:\n\u001B[0;32m-> 5081\u001B[0m     axis \u001B[38;5;241m=\u001B[39m \u001B[43mnormalize_axis_index\u001B[49m\u001B[43m(\u001B[49m\u001B[43maxis\u001B[49m\u001B[43m,\u001B[49m\u001B[43m \u001B[49m\u001B[43mndim\u001B[49m\u001B[43m)\u001B[49m\n\u001B[1;32m   5083\u001B[0m slobj \u001B[38;5;241m=\u001B[39m [\u001B[38;5;28mslice\u001B[39m(\u001B[38;5;28;01mNone\u001B[39;00m)]\u001B[38;5;241m*\u001B[39mndim\n\u001B[1;32m   5084\u001B[0m N \u001B[38;5;241m=\u001B[39m arr\u001B[38;5;241m.\u001B[39mshape[axis]\n",
      "\u001B[0;31mAxisError\u001B[0m: axis 1 is out of bounds for array of dimension 0"
     ]
    }
   ],
   "source": [
    "# cosine similarity\n",
    "from sklearn.metrics.pairwise import cosine_similarity\n",
    "\n",
    "# remove 11th column from X and create a new array\n",
    "d = np.delete(X, 11, axis=1)\n",
    "d"
   ],
   "metadata": {
    "collapsed": false
   }
  },
  {
   "cell_type": "code",
   "execution_count": 117,
   "outputs": [
    {
     "data": {
      "text/plain": "array([ 20636.,  64566.,  92891., ..., 115134., 188792., 165993.])"
     },
     "execution_count": 117,
     "metadata": {},
     "output_type": "execute_result"
    }
   ],
   "source": [
    "recipes = X.toarray()[:, 11]\n",
    "recipes"
   ],
   "metadata": {
    "collapsed": false
   }
  },
  {
   "cell_type": "code",
   "execution_count": 114,
   "outputs": [
    {
     "data": {
      "text/plain": "array([[0.08510638, 0.05154639, 0.07142857, ..., 0.        , 0.        ,\n        0.        ],\n       [0.17021277, 0.10309278, 0.26190476, ..., 0.40339532, 0.35194097,\n        0.        ],\n       [0.08510638, 0.02061856, 0.21428571, ..., 0.83049982, 0.24152231,\n        0.        ],\n       ...,\n       [0.29787234, 0.09278351, 0.0952381 , ..., 1.        , 0.        ,\n        0.        ],\n       [0.03404255, 0.25773196, 0.04761905, ..., 0.        , 0.        ,\n        0.        ],\n       [0.0893617 , 0.09278351, 0.16666667, ..., 0.54220061, 0.4730412 ,\n        0.        ]])"
     },
     "execution_count": 114,
     "metadata": {},
     "output_type": "execute_result"
    }
   ],
   "source": [
    "d"
   ],
   "metadata": {
    "collapsed": false
   }
  },
  {
   "cell_type": "code",
   "execution_count": 112,
   "outputs": [
    {
     "data": {
      "text/plain": "array([1., 1., 1., ..., 1., 1., 1.])"
     },
     "execution_count": 112,
     "metadata": {},
     "output_type": "execute_result"
    }
   ],
   "source": [
    "cosine_similarities"
   ],
   "metadata": {
    "collapsed": false
   }
  },
  {
   "cell_type": "code",
   "execution_count": 92,
   "outputs": [
    {
     "data": {
      "text/plain": "array([     0,  41919,  32690, 157960,  16766,  73882, 183458,  48214,\n        16827,  55076])"
     },
     "execution_count": 92,
     "metadata": {},
     "output_type": "execute_result"
    }
   ],
   "source": [
    "# top 10 similar recipes\n",
    "related_docs_indices = cosine_similarities.argsort()[:-11:-1]\n",
    "related_docs_indices"
   ],
   "metadata": {
    "collapsed": false
   }
  },
  {
   "cell_type": "code",
   "execution_count": 94,
   "outputs": [
    {
     "data": {
      "text/plain": "array([[0.08510638, 0.05154639, 0.07142857, ..., 0.        , 0.        ,\n        0.        ],\n       [0.17021277, 0.10309278, 0.26190476, ..., 0.        , 0.        ,\n        0.        ],\n       [0.08510638, 0.02061856, 0.21428571, ..., 0.        , 0.        ,\n        0.        ],\n       ...,\n       [0.29787234, 0.09278351, 0.0952381 , ..., 0.        , 0.        ,\n        0.        ],\n       [0.03404255, 0.25773196, 0.04761905, ..., 0.        , 0.        ,\n        0.        ],\n       [0.0893617 , 0.09278351, 0.16666667, ..., 0.        , 0.        ,\n        0.        ]])"
     },
     "execution_count": 94,
     "metadata": {},
     "output_type": "execute_result"
    }
   ],
   "source": [
    "d"
   ],
   "metadata": {
    "collapsed": false
   }
  },
  {
   "cell_type": "code",
   "execution_count": null,
   "outputs": [],
   "source": [],
   "metadata": {
    "collapsed": false
   }
  }
 ],
 "metadata": {
  "kernelspec": {
   "display_name": "Python 3",
   "language": "python",
   "name": "python3"
  },
  "language_info": {
   "codemirror_mode": {
    "name": "ipython",
    "version": 2
   },
   "file_extension": ".py",
   "mimetype": "text/x-python",
   "name": "python",
   "nbconvert_exporter": "python",
   "pygments_lexer": "ipython2",
   "version": "2.7.6"
  }
 },
 "nbformat": 4,
 "nbformat_minor": 0
}
