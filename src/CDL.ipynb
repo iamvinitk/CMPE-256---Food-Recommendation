{
 "cells": [
  {
   "cell_type": "code",
   "execution_count": 2,
   "metadata": {
    "pycharm": {
     "is_executing": true
    }
   },
   "outputs": [],
   "source": [
    "import pandas as pd\n",
    "import tensorflow as tf\n",
    "import numpy as np\n",
    "from tensorflow import keras\n",
    "from keras.layers import Input, Dense, Dropout\n",
    "from keras.models import Model\n",
    "from keras.optimizers import Adam\n",
    "from sklearn.model_selection import train_test_split\n",
    "from sklearn.preprocessing import LabelEncoder"
   ]
  },
  {
   "cell_type": "code",
   "execution_count": 3,
   "metadata": {},
   "outputs": [],
   "source": [
    "data = pd.read_csv('../dataset/preprocessed_data.csv')"
   ]
  },
  {
   "cell_type": "code",
   "execution_count": 4,
   "metadata": {},
   "outputs": [
    {
     "data": {
      "text/html": [
       "<div>\n",
       "<style scoped>\n",
       "    .dataframe tbody tr th:only-of-type {\n",
       "        vertical-align: middle;\n",
       "    }\n",
       "\n",
       "    .dataframe tbody tr th {\n",
       "        vertical-align: top;\n",
       "    }\n",
       "\n",
       "    .dataframe thead th {\n",
       "        text-align: right;\n",
       "    }\n",
       "</style>\n",
       "<table border=\"1\" class=\"dataframe\">\n",
       "  <thead>\n",
       "    <tr style=\"text-align: right;\">\n",
       "      <th></th>\n",
       "      <th>user_id</th>\n",
       "      <th>recipe_id</th>\n",
       "      <th>date</th>\n",
       "      <th>rating</th>\n",
       "      <th>review</th>\n",
       "      <th>minutes</th>\n",
       "      <th>contributor_id</th>\n",
       "      <th>submitted</th>\n",
       "      <th>tags</th>\n",
       "      <th>n_steps</th>\n",
       "      <th>...</th>\n",
       "      <th>sugar</th>\n",
       "      <th>sodium</th>\n",
       "      <th>protein</th>\n",
       "      <th>saturated_fat</th>\n",
       "      <th>carbohydrates</th>\n",
       "      <th>food_types</th>\n",
       "      <th>negative</th>\n",
       "      <th>neutral</th>\n",
       "      <th>positive</th>\n",
       "      <th>compound</th>\n",
       "    </tr>\n",
       "  </thead>\n",
       "  <tbody>\n",
       "    <tr>\n",
       "      <th>0</th>\n",
       "      <td>492</td>\n",
       "      <td>20636</td>\n",
       "      <td>2002-12-01</td>\n",
       "      <td>4</td>\n",
       "      <td>this worked very well and is easy. i used not ...</td>\n",
       "      <td>20</td>\n",
       "      <td>56824</td>\n",
       "      <td>2002-10-27</td>\n",
       "      <td>30-minutes-or-less, time-to-make, course, main...</td>\n",
       "      <td>5</td>\n",
       "      <td>...</td>\n",
       "      <td>39.0</td>\n",
       "      <td>5.0</td>\n",
       "      <td>4.0</td>\n",
       "      <td>11.0</td>\n",
       "      <td>5.0</td>\n",
       "      <td>Healthy</td>\n",
       "      <td>0.0</td>\n",
       "      <td>0.598</td>\n",
       "      <td>0.402</td>\n",
       "      <td>0.8553</td>\n",
       "    </tr>\n",
       "    <tr>\n",
       "      <th>1</th>\n",
       "      <td>8204</td>\n",
       "      <td>64566</td>\n",
       "      <td>2005-09-02</td>\n",
       "      <td>4</td>\n",
       "      <td>very good</td>\n",
       "      <td>40</td>\n",
       "      <td>166019</td>\n",
       "      <td>2005-08-24</td>\n",
       "      <td>60-minutes-or-less, time-to-make, main-ingredi...</td>\n",
       "      <td>10</td>\n",
       "      <td>...</td>\n",
       "      <td>40.0</td>\n",
       "      <td>37.0</td>\n",
       "      <td>78.0</td>\n",
       "      <td>4.0</td>\n",
       "      <td>10.0</td>\n",
       "      <td>Non-veg</td>\n",
       "      <td>0.0</td>\n",
       "      <td>0.238</td>\n",
       "      <td>0.762</td>\n",
       "      <td>0.4927</td>\n",
       "    </tr>\n",
       "    <tr>\n",
       "      <th>2</th>\n",
       "      <td>28657</td>\n",
       "      <td>64566</td>\n",
       "      <td>2005-12-22</td>\n",
       "      <td>5</td>\n",
       "      <td>better than the real</td>\n",
       "      <td>40</td>\n",
       "      <td>166019</td>\n",
       "      <td>2005-08-24</td>\n",
       "      <td>60-minutes-or-less, time-to-make, main-ingredi...</td>\n",
       "      <td>10</td>\n",
       "      <td>...</td>\n",
       "      <td>40.0</td>\n",
       "      <td>37.0</td>\n",
       "      <td>78.0</td>\n",
       "      <td>4.0</td>\n",
       "      <td>10.0</td>\n",
       "      <td>Non-veg</td>\n",
       "      <td>0.0</td>\n",
       "      <td>0.508</td>\n",
       "      <td>0.492</td>\n",
       "      <td>0.4404</td>\n",
       "    </tr>\n",
       "    <tr>\n",
       "      <th>3</th>\n",
       "      <td>36365</td>\n",
       "      <td>64566</td>\n",
       "      <td>2006-09-26</td>\n",
       "      <td>5</td>\n",
       "      <td>absolutely awesome i was speechless when i tri...</td>\n",
       "      <td>40</td>\n",
       "      <td>166019</td>\n",
       "      <td>2005-08-24</td>\n",
       "      <td>60-minutes-or-less, time-to-make, main-ingredi...</td>\n",
       "      <td>10</td>\n",
       "      <td>...</td>\n",
       "      <td>40.0</td>\n",
       "      <td>37.0</td>\n",
       "      <td>78.0</td>\n",
       "      <td>4.0</td>\n",
       "      <td>10.0</td>\n",
       "      <td>Non-veg</td>\n",
       "      <td>0.0</td>\n",
       "      <td>0.883</td>\n",
       "      <td>0.117</td>\n",
       "      <td>0.6590</td>\n",
       "    </tr>\n",
       "    <tr>\n",
       "      <th>4</th>\n",
       "      <td>20197</td>\n",
       "      <td>64566</td>\n",
       "      <td>2007-03-09</td>\n",
       "      <td>5</td>\n",
       "      <td>these taste absolutely wonderful my son in law...</td>\n",
       "      <td>40</td>\n",
       "      <td>166019</td>\n",
       "      <td>2005-08-24</td>\n",
       "      <td>60-minutes-or-less, time-to-make, main-ingredi...</td>\n",
       "      <td>10</td>\n",
       "      <td>...</td>\n",
       "      <td>40.0</td>\n",
       "      <td>37.0</td>\n",
       "      <td>78.0</td>\n",
       "      <td>4.0</td>\n",
       "      <td>10.0</td>\n",
       "      <td>Non-veg</td>\n",
       "      <td>0.0</td>\n",
       "      <td>0.675</td>\n",
       "      <td>0.325</td>\n",
       "      <td>0.8908</td>\n",
       "    </tr>\n",
       "  </tbody>\n",
       "</table>\n",
       "<p>5 rows × 25 columns</p>\n",
       "</div>"
      ],
      "text/plain": [
       "   user_id  recipe_id        date  rating   \n",
       "0      492      20636  2002-12-01       4  \\\n",
       "1     8204      64566  2005-09-02       4   \n",
       "2    28657      64566  2005-12-22       5   \n",
       "3    36365      64566  2006-09-26       5   \n",
       "4    20197      64566  2007-03-09       5   \n",
       "\n",
       "                                              review  minutes  contributor_id   \n",
       "0  this worked very well and is easy. i used not ...       20           56824  \\\n",
       "1                                          very good       40          166019   \n",
       "2                               better than the real       40          166019   \n",
       "3  absolutely awesome i was speechless when i tri...       40          166019   \n",
       "4  these taste absolutely wonderful my son in law...       40          166019   \n",
       "\n",
       "    submitted                                               tags  n_steps   \n",
       "0  2002-10-27  30-minutes-or-less, time-to-make, course, main...        5  \\\n",
       "1  2005-08-24  60-minutes-or-less, time-to-make, main-ingredi...       10   \n",
       "2  2005-08-24  60-minutes-or-less, time-to-make, main-ingredi...       10   \n",
       "3  2005-08-24  60-minutes-or-less, time-to-make, main-ingredi...       10   \n",
       "4  2005-08-24  60-minutes-or-less, time-to-make, main-ingredi...       10   \n",
       "\n",
       "   ... sugar sodium  protein  saturated_fat  carbohydrates  food_types   \n",
       "0  ...  39.0    5.0      4.0           11.0            5.0     Healthy  \\\n",
       "1  ...  40.0   37.0     78.0            4.0           10.0     Non-veg   \n",
       "2  ...  40.0   37.0     78.0            4.0           10.0     Non-veg   \n",
       "3  ...  40.0   37.0     78.0            4.0           10.0     Non-veg   \n",
       "4  ...  40.0   37.0     78.0            4.0           10.0     Non-veg   \n",
       "\n",
       "   negative  neutral  positive  compound  \n",
       "0       0.0    0.598     0.402    0.8553  \n",
       "1       0.0    0.238     0.762    0.4927  \n",
       "2       0.0    0.508     0.492    0.4404  \n",
       "3       0.0    0.883     0.117    0.6590  \n",
       "4       0.0    0.675     0.325    0.8908  \n",
       "\n",
       "[5 rows x 25 columns]"
      ]
     },
     "execution_count": 4,
     "metadata": {},
     "output_type": "execute_result"
    }
   ],
   "source": [
    "data.head()"
   ]
  },
  {
   "cell_type": "code",
   "execution_count": 5,
   "metadata": {},
   "outputs": [],
   "source": [
    "data = data[['user_id', 'minutes', 'n_steps', 'ingredients', 'n_ingredients', 'calories', 'total_fat', 'sugar', 'sodium', 'protein', 'saturated_fat', 'carbohydrates', 'food_types', 'recipe_id']]"
   ]
  },
  {
   "cell_type": "code",
   "execution_count": 6,
   "metadata": {},
   "outputs": [
    {
     "data": {
      "text/html": [
       "<div>\n",
       "<style scoped>\n",
       "    .dataframe tbody tr th:only-of-type {\n",
       "        vertical-align: middle;\n",
       "    }\n",
       "\n",
       "    .dataframe tbody tr th {\n",
       "        vertical-align: top;\n",
       "    }\n",
       "\n",
       "    .dataframe thead th {\n",
       "        text-align: right;\n",
       "    }\n",
       "</style>\n",
       "<table border=\"1\" class=\"dataframe\">\n",
       "  <thead>\n",
       "    <tr style=\"text-align: right;\">\n",
       "      <th></th>\n",
       "      <th>user_id</th>\n",
       "      <th>minutes</th>\n",
       "      <th>n_steps</th>\n",
       "      <th>ingredients</th>\n",
       "      <th>n_ingredients</th>\n",
       "      <th>calories</th>\n",
       "      <th>total_fat</th>\n",
       "      <th>sugar</th>\n",
       "      <th>sodium</th>\n",
       "      <th>protein</th>\n",
       "      <th>saturated_fat</th>\n",
       "      <th>carbohydrates</th>\n",
       "      <th>food_types</th>\n",
       "      <th>recipe_id</th>\n",
       "    </tr>\n",
       "  </thead>\n",
       "  <tbody>\n",
       "    <tr>\n",
       "      <th>0</th>\n",
       "      <td>492</td>\n",
       "      <td>20</td>\n",
       "      <td>5</td>\n",
       "      <td>devils food cake mix, vegetable oil, eggs, ree...</td>\n",
       "      <td>4</td>\n",
       "      <td>132.3</td>\n",
       "      <td>11.0</td>\n",
       "      <td>39.0</td>\n",
       "      <td>5.0</td>\n",
       "      <td>4.0</td>\n",
       "      <td>11.0</td>\n",
       "      <td>5.0</td>\n",
       "      <td>Healthy</td>\n",
       "      <td>20636</td>\n",
       "    </tr>\n",
       "    <tr>\n",
       "      <th>1</th>\n",
       "      <td>8204</td>\n",
       "      <td>40</td>\n",
       "      <td>10</td>\n",
       "      <td>chicken tenders, flour, garlic powder, salt, g...</td>\n",
       "      <td>12</td>\n",
       "      <td>316.0</td>\n",
       "      <td>4.0</td>\n",
       "      <td>40.0</td>\n",
       "      <td>37.0</td>\n",
       "      <td>78.0</td>\n",
       "      <td>4.0</td>\n",
       "      <td>10.0</td>\n",
       "      <td>Non-veg</td>\n",
       "      <td>64566</td>\n",
       "    </tr>\n",
       "    <tr>\n",
       "      <th>2</th>\n",
       "      <td>28657</td>\n",
       "      <td>40</td>\n",
       "      <td>10</td>\n",
       "      <td>chicken tenders, flour, garlic powder, salt, g...</td>\n",
       "      <td>12</td>\n",
       "      <td>316.0</td>\n",
       "      <td>4.0</td>\n",
       "      <td>40.0</td>\n",
       "      <td>37.0</td>\n",
       "      <td>78.0</td>\n",
       "      <td>4.0</td>\n",
       "      <td>10.0</td>\n",
       "      <td>Non-veg</td>\n",
       "      <td>64566</td>\n",
       "    </tr>\n",
       "    <tr>\n",
       "      <th>3</th>\n",
       "      <td>36365</td>\n",
       "      <td>40</td>\n",
       "      <td>10</td>\n",
       "      <td>chicken tenders, flour, garlic powder, salt, g...</td>\n",
       "      <td>12</td>\n",
       "      <td>316.0</td>\n",
       "      <td>4.0</td>\n",
       "      <td>40.0</td>\n",
       "      <td>37.0</td>\n",
       "      <td>78.0</td>\n",
       "      <td>4.0</td>\n",
       "      <td>10.0</td>\n",
       "      <td>Non-veg</td>\n",
       "      <td>64566</td>\n",
       "    </tr>\n",
       "    <tr>\n",
       "      <th>4</th>\n",
       "      <td>20197</td>\n",
       "      <td>40</td>\n",
       "      <td>10</td>\n",
       "      <td>chicken tenders, flour, garlic powder, salt, g...</td>\n",
       "      <td>12</td>\n",
       "      <td>316.0</td>\n",
       "      <td>4.0</td>\n",
       "      <td>40.0</td>\n",
       "      <td>37.0</td>\n",
       "      <td>78.0</td>\n",
       "      <td>4.0</td>\n",
       "      <td>10.0</td>\n",
       "      <td>Non-veg</td>\n",
       "      <td>64566</td>\n",
       "    </tr>\n",
       "  </tbody>\n",
       "</table>\n",
       "</div>"
      ],
      "text/plain": [
       "   user_id  minutes  n_steps   \n",
       "0      492       20        5  \\\n",
       "1     8204       40       10   \n",
       "2    28657       40       10   \n",
       "3    36365       40       10   \n",
       "4    20197       40       10   \n",
       "\n",
       "                                         ingredients  n_ingredients  calories   \n",
       "0  devils food cake mix, vegetable oil, eggs, ree...              4     132.3  \\\n",
       "1  chicken tenders, flour, garlic powder, salt, g...             12     316.0   \n",
       "2  chicken tenders, flour, garlic powder, salt, g...             12     316.0   \n",
       "3  chicken tenders, flour, garlic powder, salt, g...             12     316.0   \n",
       "4  chicken tenders, flour, garlic powder, salt, g...             12     316.0   \n",
       "\n",
       "   total_fat  sugar  sodium  protein  saturated_fat  carbohydrates food_types   \n",
       "0       11.0   39.0     5.0      4.0           11.0            5.0    Healthy  \\\n",
       "1        4.0   40.0    37.0     78.0            4.0           10.0    Non-veg   \n",
       "2        4.0   40.0    37.0     78.0            4.0           10.0    Non-veg   \n",
       "3        4.0   40.0    37.0     78.0            4.0           10.0    Non-veg   \n",
       "4        4.0   40.0    37.0     78.0            4.0           10.0    Non-veg   \n",
       "\n",
       "   recipe_id  \n",
       "0      20636  \n",
       "1      64566  \n",
       "2      64566  \n",
       "3      64566  \n",
       "4      64566  "
      ]
     },
     "execution_count": 6,
     "metadata": {},
     "output_type": "execute_result"
    }
   ],
   "source": [
    "data.head()"
   ]
  },
  {
   "cell_type": "code",
   "execution_count": null,
   "metadata": {},
   "outputs": [],
   "source": []
  },
  {
   "cell_type": "code",
   "execution_count": 7,
   "metadata": {},
   "outputs": [
    {
     "data": {
      "text/html": [
       "<div>\n",
       "<style scoped>\n",
       "    .dataframe tbody tr th:only-of-type {\n",
       "        vertical-align: middle;\n",
       "    }\n",
       "\n",
       "    .dataframe tbody tr th {\n",
       "        vertical-align: top;\n",
       "    }\n",
       "\n",
       "    .dataframe thead th {\n",
       "        text-align: right;\n",
       "    }\n",
       "</style>\n",
       "<table border=\"1\" class=\"dataframe\">\n",
       "  <thead>\n",
       "    <tr style=\"text-align: right;\">\n",
       "      <th></th>\n",
       "      <th>ingredients</th>\n",
       "      <th>recipe_id</th>\n",
       "    </tr>\n",
       "  </thead>\n",
       "  <tbody>\n",
       "    <tr>\n",
       "      <th>0</th>\n",
       "      <td>devils food cake mix, vegetable oil, eggs, ree...</td>\n",
       "      <td>20636</td>\n",
       "    </tr>\n",
       "    <tr>\n",
       "      <th>1</th>\n",
       "      <td>chicken tenders, flour, garlic powder, salt, g...</td>\n",
       "      <td>64566</td>\n",
       "    </tr>\n",
       "    <tr>\n",
       "      <th>2</th>\n",
       "      <td>chicken tenders, flour, garlic powder, salt, g...</td>\n",
       "      <td>64566</td>\n",
       "    </tr>\n",
       "  </tbody>\n",
       "</table>\n",
       "</div>"
      ],
      "text/plain": [
       "                                         ingredients  recipe_id\n",
       "0  devils food cake mix, vegetable oil, eggs, ree...      20636\n",
       "1  chicken tenders, flour, garlic powder, salt, g...      64566\n",
       "2  chicken tenders, flour, garlic powder, salt, g...      64566"
      ]
     },
     "execution_count": 7,
     "metadata": {},
     "output_type": "execute_result"
    }
   ],
   "source": [
    "# print 3 rows consisting of ingredients and recipe_id\n",
    "df = data[['ingredients', 'recipe_id']]\n",
    "df.head(3)"
   ]
  },
  {
   "cell_type": "code",
   "execution_count": 8,
   "metadata": {},
   "outputs": [
    {
     "data": {
      "text/plain": [
       "763871"
      ]
     },
     "execution_count": 8,
     "metadata": {},
     "output_type": "execute_result"
    }
   ],
   "source": [
    "# find the count of duplicate rows\n",
    "df.duplicated().sum()"
   ]
  },
  {
   "cell_type": "code",
   "execution_count": 9,
   "metadata": {},
   "outputs": [
    {
     "name": "stderr",
     "output_type": "stream",
     "text": [
      "/var/folders/3z/s0qdvzzd2kgc2kdxkfvxy9ym0000gn/T/ipykernel_15588/2547945980.py:2: SettingWithCopyWarning: \n",
      "A value is trying to be set on a copy of a slice from a DataFrame\n",
      "\n",
      "See the caveats in the documentation: https://pandas.pydata.org/pandas-docs/stable/user_guide/indexing.html#returning-a-view-versus-a-copy\n",
      "  df.drop_duplicates(inplace=True)\n"
     ]
    }
   ],
   "source": [
    "# drop duplicate rows\n",
    "df.drop_duplicates(inplace=True)"
   ]
  },
  {
   "cell_type": "code",
   "execution_count": 10,
   "metadata": {},
   "outputs": [
    {
     "name": "stderr",
     "output_type": "stream",
     "text": [
      "/var/folders/3z/s0qdvzzd2kgc2kdxkfvxy9ym0000gn/T/ipykernel_15588/31536878.py:1: SettingWithCopyWarning: \n",
      "A value is trying to be set on a copy of a slice from a DataFrame.\n",
      "Try using .loc[row_indexer,col_indexer] = value instead\n",
      "\n",
      "See the caveats in the documentation: https://pandas.pydata.org/pandas-docs/stable/user_guide/indexing.html#returning-a-view-versus-a-copy\n",
      "  df['ingredients'] = df['ingredients'].apply(lambda x: x.replace(', ', ' '))\n"
     ]
    },
    {
     "data": {
      "text/html": [
       "<div>\n",
       "<style scoped>\n",
       "    .dataframe tbody tr th:only-of-type {\n",
       "        vertical-align: middle;\n",
       "    }\n",
       "\n",
       "    .dataframe tbody tr th {\n",
       "        vertical-align: top;\n",
       "    }\n",
       "\n",
       "    .dataframe thead th {\n",
       "        text-align: right;\n",
       "    }\n",
       "</style>\n",
       "<table border=\"1\" class=\"dataframe\">\n",
       "  <thead>\n",
       "    <tr style=\"text-align: right;\">\n",
       "      <th></th>\n",
       "      <th>ingredients</th>\n",
       "      <th>recipe_id</th>\n",
       "    </tr>\n",
       "  </thead>\n",
       "  <tbody>\n",
       "    <tr>\n",
       "      <th>0</th>\n",
       "      <td>devils food cake mix vegetable oil eggs reeses...</td>\n",
       "      <td>20636</td>\n",
       "    </tr>\n",
       "    <tr>\n",
       "      <th>1</th>\n",
       "      <td>chicken tenders flour garlic powder salt groun...</td>\n",
       "      <td>64566</td>\n",
       "    </tr>\n",
       "    <tr>\n",
       "      <th>8</th>\n",
       "      <td>hamburger breadcrumbs egg salt black pepper on...</td>\n",
       "      <td>92891</td>\n",
       "    </tr>\n",
       "  </tbody>\n",
       "</table>\n",
       "</div>"
      ],
      "text/plain": [
       "                                         ingredients  recipe_id\n",
       "0  devils food cake mix vegetable oil eggs reeses...      20636\n",
       "1  chicken tenders flour garlic powder salt groun...      64566\n",
       "8  hamburger breadcrumbs egg salt black pepper on...      92891"
      ]
     },
     "execution_count": 10,
     "metadata": {},
     "output_type": "execute_result"
    }
   ],
   "source": [
    "df['ingredients'] = df['ingredients'].apply(lambda x: x.replace(', ', ' '))\n",
    "df.head(3)"
   ]
  },
  {
   "cell_type": "code",
   "execution_count": 11,
   "metadata": {},
   "outputs": [],
   "source": [
    "# Convert ingredients to numerical vectors\n",
    "tokenizer = tf.keras.preprocessing.text.Tokenizer()\n",
    "tokenizer.fit_on_texts(df['ingredients'])"
   ]
  },
  {
   "cell_type": "code",
   "execution_count": 12,
   "metadata": {},
   "outputs": [
    {
     "data": {
      "text/plain": [
       "78"
      ]
     },
     "execution_count": 12,
     "metadata": {},
     "output_type": "execute_result"
    }
   ],
   "source": [
    "ingredients = tokenizer.texts_to_sequences(df['ingredients'])\n",
    "max_length = max([len(seq) for seq in ingredients])\n",
    "max_length"
   ]
  },
  {
   "cell_type": "code",
   "execution_count": 13,
   "metadata": {},
   "outputs": [
    {
     "data": {
      "text/plain": [
       "(198249, 78)"
      ]
     },
     "execution_count": 13,
     "metadata": {},
     "output_type": "execute_result"
    }
   ],
   "source": [
    "# Pad the sequences to the max length\n",
    "ingredients = tf.keras.preprocessing.sequence.pad_sequences(ingredients, maxlen=max_length)\n",
    "ingredients.shape"
   ]
  },
  {
   "cell_type": "code",
   "execution_count": 14,
   "metadata": {},
   "outputs": [],
   "source": [
    "# Convert recipe_id to numerical vectors\n",
    "label_encoder = LabelEncoder()\n",
    "recipe_ids = label_encoder.fit_transform(df['recipe_id'])"
   ]
  },
  {
   "cell_type": "code",
   "execution_count": 15,
   "metadata": {},
   "outputs": [],
   "source": [
    "train_ingredients, test_ingredients, train_recipe_ids, test_recipe_ids = train_test_split(ingredients, recipe_ids, test_size=0.2)"
   ]
  },
  {
   "cell_type": "code",
   "execution_count": 16,
   "metadata": {},
   "outputs": [
    {
     "name": "stdout",
     "output_type": "stream",
     "text": [
      "Train ingredients shape:  (158599, 78)\n",
      "Train recipe_ids shape:  (158599,)\n",
      "Test ingredients shape:  (39650, 78)\n",
      "Test recipe_ids shape:  (39650,)\n"
     ]
    }
   ],
   "source": [
    "print(\"Train ingredients shape: \", train_ingredients.shape)\n",
    "print(\"Train recipe_ids shape: \", train_recipe_ids.shape)\n",
    "print(\"Test ingredients shape: \", test_ingredients.shape)\n",
    "print(\"Test recipe_ids shape: \", test_recipe_ids.shape)"
   ]
  },
  {
   "cell_type": "code",
   "execution_count": 17,
   "metadata": {},
   "outputs": [
    {
     "name": "stdout",
     "output_type": "stream",
     "text": [
      "Metal device set to: Apple M1 Pro\n"
     ]
    }
   ],
   "source": [
    "# Define the stacked de-noising autoencoder\n",
    "input_layer = Input(shape=(max_length,))\n",
    "# x = Dense(2048, activation='relu')(input_layer)\n",
    "# x = Dense(1024, activation='relu')(x)\n",
    "# x = Dense(512, activation='relu')(x)\n",
    "# x = Dense(256, activation='relu')(x)\n",
    "x = Dense(256, activation='relu')(input_layer)\n",
    "x = Dense(128, activation='relu')(x)\n",
    "x = Dense(64, activation='relu')(x)\n",
    "x = Dense(32, activation='relu')(x)\n",
    "encoded = Dense(16, activation='relu')(x)\n",
    "x = Dense(32, activation='relu')(encoded)\n",
    "x = Dense(64, activation='relu')(x)\n",
    "x = Dense(128, activation='relu')(x)\n",
    "x = Dense(256, activation='relu')(x)\n",
    "# x = Dense(512, activation='relu')(x)\n",
    "# x = Dense(1024, activation='relu')(x)\n",
    "# x = Dense(2048, activation='relu')(x)\n",
    "decoded = Dense(max_length, activation='linear')(x)"
   ]
  },
  {
   "cell_type": "code",
   "execution_count": 18,
   "metadata": {},
   "outputs": [],
   "source": [
    "autoencoder = Model(inputs=input_layer, outputs=decoded)\n",
    "autoencoder.compile(optimizer=tf.keras.optimizers.legacy.Adam(learning_rate=0.001), loss='mse')"
   ]
  },
  {
   "cell_type": "code",
   "execution_count": 19,
   "metadata": {},
   "outputs": [
    {
     "name": "stderr",
     "output_type": "stream",
     "text": [
      "2023-04-29 15:00:35.672074: W tensorflow/tsl/platform/profile_utils/cpu_utils.cc:128] Failed to get CPU frequency: 0 Hz\n"
     ]
    },
    {
     "name": "stdout",
     "output_type": "stream",
     "text": [
      "4957/4957 [==============================] - 53s 11ms/step - loss: 3836.0188 - val_loss: 2622.9792\n"
     ]
    },
    {
     "data": {
      "text/plain": [
       "<keras.callbacks.History at 0x30b4dae80>"
      ]
     },
     "execution_count": 19,
     "metadata": {},
     "output_type": "execute_result"
    }
   ],
   "source": [
    "# Train the stacked de-noising autoencoder\n",
    "autoencoder.fit(train_ingredients, train_ingredients, epochs=1, batch_size=32, validation_data=(test_ingredients, test_ingredients))"
   ]
  },
  {
   "cell_type": "code",
   "execution_count": 20,
   "metadata": {},
   "outputs": [
    {
     "data": {
      "text/plain": [
       "[<keras.engine.input_layer.InputLayer at 0x308962640>,\n",
       " <keras.layers.core.dense.Dense at 0x308962610>,\n",
       " <keras.layers.core.dense.Dense at 0x308963fa0>,\n",
       " <keras.layers.core.dense.Dense at 0x2e7824c10>,\n",
       " <keras.layers.core.dense.Dense at 0x30b525c10>,\n",
       " <keras.layers.core.dense.Dense at 0x30b5258e0>,\n",
       " <keras.layers.core.dense.Dense at 0x30b55f760>,\n",
       " <keras.layers.core.dense.Dense at 0x308a6ffa0>,\n",
       " <keras.layers.core.dense.Dense at 0x308a6fc70>,\n",
       " <keras.layers.core.dense.Dense at 0x308a6c8e0>,\n",
       " <keras.layers.core.dense.Dense at 0x308a80fd0>]"
      ]
     },
     "execution_count": 20,
     "metadata": {},
     "output_type": "execute_result"
    }
   ],
   "source": [
    "# Fine-tune the autoencoder with a supervised learning model\n",
    "autoencoder.layers"
   ]
  },
  {
   "cell_type": "code",
   "execution_count": 21,
   "metadata": {},
   "outputs": [
    {
     "data": {
      "text/plain": [
       "[<keras.engine.input_layer.InputLayer at 0x308962640>,\n",
       " <keras.layers.core.dense.Dense at 0x308962610>,\n",
       " <keras.layers.core.dense.Dense at 0x308963fa0>,\n",
       " <keras.layers.core.dense.Dense at 0x2e7824c10>,\n",
       " <keras.layers.core.dense.Dense at 0x30b525c10>]"
      ]
     },
     "execution_count": 21,
     "metadata": {},
     "output_type": "execute_result"
    }
   ],
   "source": [
    "# Get the encoder layers from the autoencoder\n",
    "encoder_layers = autoencoder.layers[:5]\n",
    "encoder_layers"
   ]
  },
  {
   "cell_type": "code",
   "execution_count": 22,
   "metadata": {},
   "outputs": [],
   "source": [
    "# Define the classifier on top of the encoder layers\n",
    "input_layer = encoder_layers[0].input\n",
    "x = encoder_layers[-1].output\n",
    "x = Dense(64, activation='relu')(x)\n",
    "x = Dropout(0.5)(x)\n",
    "output_layer = Dense(1, activation='sigmoid')(x)"
   ]
  },
  {
   "cell_type": "code",
   "execution_count": 23,
   "metadata": {},
   "outputs": [],
   "source": [
    "# Create a new model with the encoder layers and the classifier\n",
    "model = Model(inputs=input_layer, outputs=output_layer)"
   ]
  },
  {
   "cell_type": "code",
   "execution_count": 24,
   "metadata": {},
   "outputs": [],
   "source": [
    "# Compile the model with binary_crossentropy loss and accuracy metric\n",
    "model.compile(optimizer=tf.keras.optimizers.legacy.Adam(learning_rate=0.001), loss='binary_crossentropy', metrics=['accuracy'])"
   ]
  },
  {
   "cell_type": "code",
   "execution_count": null,
   "metadata": {},
   "outputs": [
    {
     "name": "stdout",
     "output_type": "stream",
     "text": [
      "Epoch 1/100\n",
      "1746/4957 [=========>....................] - ETA: 29s - loss: -136775736854218539008.0000 - accuracy: 0.0000e+00"
     ]
    }
   ],
   "source": [
    "model.fit(train_ingredients, train_recipe_ids, epochs=100, batch_size=32, validation_data=(test_ingredients, test_recipe_ids))"
   ]
  },
  {
   "cell_type": "code",
   "execution_count": 6,
   "metadata": {},
   "outputs": [
    {
     "data": {
      "text/html": [
       "<div>\n",
       "<style scoped>\n",
       "    .dataframe tbody tr th:only-of-type {\n",
       "        vertical-align: middle;\n",
       "    }\n",
       "\n",
       "    .dataframe tbody tr th {\n",
       "        vertical-align: top;\n",
       "    }\n",
       "\n",
       "    .dataframe thead th {\n",
       "        text-align: right;\n",
       "    }\n",
       "</style>\n",
       "<table border=\"1\" class=\"dataframe\">\n",
       "  <thead>\n",
       "    <tr style=\"text-align: right;\">\n",
       "      <th></th>\n",
       "      <th>ingredients</th>\n",
       "      <th>recipe_id</th>\n",
       "    </tr>\n",
       "  </thead>\n",
       "  <tbody>\n",
       "    <tr>\n",
       "      <th>0</th>\n",
       "      <td>devils food cake mix, vegetable oil, eggs, ree...</td>\n",
       "      <td>20636</td>\n",
       "    </tr>\n",
       "    <tr>\n",
       "      <th>1</th>\n",
       "      <td>chicken tenders, flour, garlic powder, salt, g...</td>\n",
       "      <td>64566</td>\n",
       "    </tr>\n",
       "    <tr>\n",
       "      <th>8</th>\n",
       "      <td>hamburger, breadcrumbs, egg, salt, black peppe...</td>\n",
       "      <td>92891</td>\n",
       "    </tr>\n",
       "  </tbody>\n",
       "</table>\n",
       "</div>"
      ],
      "text/plain": [
       "                                         ingredients  recipe_id\n",
       "0  devils food cake mix, vegetable oil, eggs, ree...      20636\n",
       "1  chicken tenders, flour, garlic powder, salt, g...      64566\n",
       "8  hamburger, breadcrumbs, egg, salt, black peppe...      92891"
      ]
     },
     "execution_count": 6,
     "metadata": {},
     "output_type": "execute_result"
    }
   ],
   "source": [
    "df.head(3)"
   ]
  },
  {
   "cell_type": "code",
   "execution_count": 10,
   "metadata": {},
   "outputs": [],
   "source": [
    "# take first 200 rows\n",
    "df = df[:10]"
   ]
  },
  {
   "cell_type": "code",
   "execution_count": 15,
   "metadata": {},
   "outputs": [
    {
     "name": "stdout",
     "output_type": "stream",
     "text": [
      "Epoch 1/100\n",
      "1/1 [==============================] - 0s 479ms/step - loss: 0.6964 - val_loss: 0.6913\n",
      "Epoch 2/100\n",
      "1/1 [==============================] - 0s 36ms/step - loss: 0.6906 - val_loss: 0.6890\n",
      "Epoch 3/100\n",
      "1/1 [==============================] - 0s 36ms/step - loss: 0.6863 - val_loss: 0.6861\n",
      "Epoch 4/100\n",
      "1/1 [==============================] - 0s 39ms/step - loss: 0.6817 - val_loss: 0.6825\n",
      "Epoch 5/100\n",
      "1/1 [==============================] - 0s 34ms/step - loss: 0.6763 - val_loss: 0.6781\n",
      "Epoch 6/100\n",
      "1/1 [==============================] - 0s 31ms/step - loss: 0.6696 - val_loss: 0.6727\n",
      "Epoch 7/100\n",
      "1/1 [==============================] - 0s 34ms/step - loss: 0.6615 - val_loss: 0.6661\n",
      "Epoch 8/100\n",
      "1/1 [==============================] - 0s 32ms/step - loss: 0.6516 - val_loss: 0.6578\n",
      "Epoch 9/100\n",
      "1/1 [==============================] - 0s 33ms/step - loss: 0.6395 - val_loss: 0.6474\n",
      "Epoch 10/100\n",
      "1/1 [==============================] - 0s 33ms/step - loss: 0.6249 - val_loss: 0.6347\n",
      "Epoch 11/100\n",
      "1/1 [==============================] - 0s 32ms/step - loss: 0.6072 - val_loss: 0.6191\n",
      "Epoch 12/100\n",
      "1/1 [==============================] - 0s 30ms/step - loss: 0.5858 - val_loss: 0.6000\n",
      "Epoch 13/100\n",
      "1/1 [==============================] - 0s 30ms/step - loss: 0.5604 - val_loss: 0.5768\n",
      "Epoch 14/100\n",
      "1/1 [==============================] - 0s 31ms/step - loss: 0.5303 - val_loss: 0.5490\n",
      "Epoch 15/100\n",
      "1/1 [==============================] - 0s 31ms/step - loss: 0.4950 - val_loss: 0.5159\n",
      "Epoch 16/100\n",
      "1/1 [==============================] - 0s 29ms/step - loss: 0.4544 - val_loss: 0.4771\n",
      "Epoch 17/100\n",
      "1/1 [==============================] - 0s 31ms/step - loss: 0.4083 - val_loss: 0.4326\n",
      "Epoch 18/100\n",
      "1/1 [==============================] - 0s 32ms/step - loss: 0.3574 - val_loss: 0.3826\n",
      "Epoch 19/100\n",
      "1/1 [==============================] - 0s 31ms/step - loss: 0.3029 - val_loss: 0.3278\n",
      "Epoch 20/100\n",
      "1/1 [==============================] - 0s 30ms/step - loss: 0.2465 - val_loss: 0.2701\n",
      "Epoch 21/100\n",
      "1/1 [==============================] - 0s 30ms/step - loss: 0.1911 - val_loss: 0.2125\n",
      "Epoch 22/100\n",
      "1/1 [==============================] - 0s 31ms/step - loss: 0.1398 - val_loss: 0.1583\n",
      "Epoch 23/100\n",
      "1/1 [==============================] - 0s 31ms/step - loss: 0.0958 - val_loss: 0.1110\n",
      "Epoch 24/100\n",
      "1/1 [==============================] - 0s 31ms/step - loss: 0.0612 - val_loss: 0.0731\n",
      "Epoch 25/100\n",
      "1/1 [==============================] - 0s 31ms/step - loss: 0.0364 - val_loss: 0.0453\n",
      "Epoch 26/100\n",
      "1/1 [==============================] - 0s 30ms/step - loss: 0.0202 - val_loss: 0.0266\n",
      "Epoch 27/100\n",
      "1/1 [==============================] - 0s 33ms/step - loss: 0.0106 - val_loss: 0.0150\n",
      "Epoch 28/100\n",
      "1/1 [==============================] - 0s 31ms/step - loss: 0.0054 - val_loss: 0.0082\n",
      "Epoch 29/100\n",
      "1/1 [==============================] - 0s 31ms/step - loss: 0.0026 - val_loss: 0.0044\n",
      "Epoch 30/100\n",
      "1/1 [==============================] - 0s 32ms/step - loss: 0.0013 - val_loss: 0.0023\n",
      "Epoch 31/100\n",
      "1/1 [==============================] - 0s 30ms/step - loss: 6.0888e-04 - val_loss: 0.0012\n",
      "Epoch 32/100\n",
      "1/1 [==============================] - 0s 31ms/step - loss: 2.9508e-04 - val_loss: 6.5492e-04\n",
      "Epoch 33/100\n",
      "1/1 [==============================] - 0s 31ms/step - loss: 1.4496e-04 - val_loss: 3.5368e-04\n",
      "Epoch 34/100\n",
      "1/1 [==============================] - 0s 30ms/step - loss: 7.2643e-05 - val_loss: 1.9422e-04\n",
      "Epoch 35/100\n",
      "1/1 [==============================] - 0s 32ms/step - loss: 3.7299e-05 - val_loss: 1.0885e-04\n",
      "Epoch 36/100\n",
      "1/1 [==============================] - 0s 31ms/step - loss: 1.9684e-05 - val_loss: 6.2498e-05\n",
      "Epoch 37/100\n",
      "1/1 [==============================] - 0s 32ms/step - loss: 1.0711e-05 - val_loss: 3.6763e-05\n",
      "Epoch 38/100\n",
      "1/1 [==============================] - 0s 29ms/step - loss: 6.0041e-06 - val_loss: 2.2220e-05\n",
      "Epoch 39/100\n",
      "1/1 [==============================] - 0s 29ms/step - loss: 3.4789e-06 - val_loss: 1.3780e-05\n",
      "Epoch 40/100\n",
      "1/1 [==============================] - 0s 42ms/step - loss: 2.0802e-06 - val_loss: 8.7976e-06\n",
      "Epoch 41/100\n",
      "1/1 [==============================] - 0s 30ms/step - loss: 1.2795e-06 - val_loss: 5.7578e-06\n",
      "Epoch 42/100\n",
      "1/1 [==============================] - 0s 30ms/step - loss: 8.1459e-07 - val_loss: 3.8743e-06\n",
      "Epoch 43/100\n",
      "1/1 [==============================] - 0s 30ms/step - loss: 5.2651e-07 - val_loss: 2.6822e-06\n",
      "Epoch 44/100\n",
      "1/1 [==============================] - 0s 31ms/step - loss: 3.5763e-07 - val_loss: 1.9193e-06\n",
      "Epoch 45/100\n",
      "1/1 [==============================] - 0s 30ms/step - loss: 2.4835e-07 - val_loss: 1.3947e-06\n",
      "Epoch 46/100\n",
      "1/1 [==============================] - 0s 33ms/step - loss: 1.7484e-07 - val_loss: 1.0371e-06\n",
      "Epoch 47/100\n",
      "1/1 [==============================] - 0s 33ms/step - loss: 1.2318e-07 - val_loss: 7.9870e-07\n",
      "Epoch 48/100\n",
      "1/1 [==============================] - 0s 31ms/step - loss: 9.1394e-08 - val_loss: 6.0797e-07\n",
      "Epoch 49/100\n",
      "1/1 [==============================] - 0s 32ms/step - loss: 7.1526e-08 - val_loss: 4.7684e-07\n",
      "Epoch 50/100\n",
      "1/1 [==============================] - 0s 32ms/step - loss: 5.3644e-08 - val_loss: 3.8147e-07\n",
      "Epoch 51/100\n",
      "1/1 [==============================] - 0s 32ms/step - loss: 3.9736e-08 - val_loss: 3.2187e-07\n",
      "Epoch 52/100\n",
      "1/1 [==============================] - 0s 30ms/step - loss: 2.9802e-08 - val_loss: 2.6226e-07\n",
      "Epoch 53/100\n",
      "1/1 [==============================] - 0s 30ms/step - loss: 2.7815e-08 - val_loss: 2.3842e-07\n",
      "Epoch 54/100\n",
      "1/1 [==============================] - 0s 30ms/step - loss: 2.3842e-08 - val_loss: 1.7881e-07\n",
      "Epoch 55/100\n",
      "1/1 [==============================] - 0s 30ms/step - loss: 1.9868e-08 - val_loss: 1.6689e-07\n",
      "Epoch 56/100\n",
      "1/1 [==============================] - 0s 30ms/step - loss: 1.5895e-08 - val_loss: 1.4305e-07\n",
      "Epoch 57/100\n",
      "1/1 [==============================] - 0s 29ms/step - loss: 1.3908e-08 - val_loss: 1.1921e-07\n",
      "Epoch 58/100\n",
      "1/1 [==============================] - 0s 30ms/step - loss: 1.1921e-08 - val_loss: 1.1921e-07\n",
      "Epoch 59/100\n",
      "1/1 [==============================] - 0s 31ms/step - loss: 1.1921e-08 - val_loss: 9.5367e-08\n",
      "Epoch 60/100\n",
      "1/1 [==============================] - 0s 31ms/step - loss: 9.9341e-09 - val_loss: 9.5367e-08\n",
      "Epoch 61/100\n",
      "1/1 [==============================] - 0s 30ms/step - loss: 7.9473e-09 - val_loss: 7.1526e-08\n",
      "Epoch 62/100\n",
      "1/1 [==============================] - 0s 30ms/step - loss: 5.9605e-09 - val_loss: 7.1526e-08\n",
      "Epoch 63/100\n",
      "1/1 [==============================] - 0s 31ms/step - loss: 5.9605e-09 - val_loss: 7.1526e-08\n",
      "Epoch 64/100\n",
      "1/1 [==============================] - 0s 30ms/step - loss: 5.9605e-09 - val_loss: 7.1526e-08\n",
      "Epoch 64: early stopping\n"
     ]
    },
    {
     "data": {
      "text/plain": [
       "<keras.callbacks.History at 0x31105bdf0>"
      ]
     },
     "execution_count": 15,
     "metadata": {},
     "output_type": "execute_result"
    }
   ],
   "source": [
    "import pandas as pd\n",
    "import numpy as np\n",
    "from keras.layers import Input, Dense\n",
    "from keras.models import Model\n",
    "from keras.callbacks import EarlyStopping\n",
    "from keras.layers.noise import GaussianNoise\n",
    "from sklearn.metrics.pairwise import cosine_similarity\n",
    "\n",
    "# Load the data\n",
    "recipes = df['recipe_id'].unique()\n",
    "ingredients = np.unique(df['ingredients'].str.split(', ').values.flatten())\n",
    "\n",
    "# Convert the ingredients to a one-hot encoding\n",
    "one_hot_ingredients = np.zeros((len(recipes), len(ingredients)))\n",
    "for i in range(len(recipes)):\n",
    "    recipe_ingredients = data[data['recipe_id'] == recipes[i]]['ingredients'].values[0].split(', ')\n",
    "    for ingredient in recipe_ingredients:\n",
    "        one_hot_ingredients[i, np.where(ingredients == ingredient)] = 1\n",
    "\n",
    "# Create train and test datasets\n",
    "train_size = int(0.8 * one_hot_ingredients.shape[0])\n",
    "train_recipes = one_hot_ingredients[:train_size, :]\n",
    "test_recipes = one_hot_ingredients[train_size:, :]\n",
    "\n",
    "# Define the model architecture\n",
    "input_dim = train_recipes.shape[1]\n",
    "hidden_dim1 = 256\n",
    "hidden_dim2 = 128\n",
    "\n",
    "input_layer = Input(shape=(input_dim,))\n",
    "noise_layer = GaussianNoise(0.1)(input_layer)\n",
    "hidden_layer1 = Dense(hidden_dim1, activation='relu')(noise_layer)\n",
    "hidden_layer2 = Dense(hidden_dim2, activation='relu')(hidden_layer1)\n",
    "encoding_layer = Dense(hidden_dim2, activation='relu')(hidden_layer2)\n",
    "hidden_layer3 = Dense(hidden_dim1, activation='relu')(encoding_layer)\n",
    "output_layer = Dense(input_dim, activation='sigmoid')(hidden_layer3)\n",
    "\n",
    "model = Model(input_layer, output_layer)\n",
    "model.compile(optimizer='adam', loss='binary_crossentropy')\n",
    "\n",
    "# Train the model\n",
    "early_stop = EarlyStopping(monitor='val_loss', patience=3, verbose=1)\n",
    "model.fit(train_recipes, train_recipes, epochs=100, batch_size=32, validation_split=0.2, callbacks=[early_stop])"
   ]
  },
  {
   "cell_type": "code",
   "execution_count": 16,
   "metadata": {},
   "outputs": [],
   "source": [
    "# Extract the encoder part of the model\n",
    "encoder = Model(input_layer, encoding_layer)"
   ]
  },
  {
   "cell_type": "code",
   "execution_count": 17,
   "metadata": {},
   "outputs": [],
   "source": [
    "# Use the encoder to predict recipes based on ingredients\n",
    "new_ingredients = ['devils food cake mix', 'vegetable oil', 'eggs', 'reeses pieces']\n",
    "input_vec = np.zeros((1, len(ingredients)))"
   ]
  },
  {
   "cell_type": "code",
   "execution_count": 18,
   "metadata": {},
   "outputs": [
    {
     "name": "stdout",
     "output_type": "stream",
     "text": [
      "1/1 [==============================] - 0s 41ms/step\n"
     ]
    }
   ],
   "source": [
    "for i in range(len(ingredients)):\n",
    "    if ingredients[i] in new_ingredients:\n",
    "        input_vec[0, i] = 1\n",
    "test_pred = encoder.predict(input_vec)"
   ]
  },
  {
   "cell_type": "code",
   "execution_count": 22,
   "metadata": {},
   "outputs": [
    {
     "name": "stdout",
     "output_type": "stream",
     "text": [
      "[[0. 0. 0. 0. 0. 0. 0. 0. 0. 0.]]\n",
      "1/1 [==============================] - 0s 10ms/step\n"
     ]
    },
    {
     "ename": "ValueError",
     "evalue": "Incompatible dimension for X and Y matrices: X.shape[1] == 128 while Y.shape[1] == 10",
     "output_type": "error",
     "traceback": [
      "\u001B[0;31m---------------------------------------------------------------------------\u001B[0m",
      "\u001B[0;31mValueError\u001B[0m                                Traceback (most recent call last)",
      "Cell \u001B[0;32mIn[22], line 22\u001B[0m\n\u001B[1;32m     19\u001B[0m     \u001B[38;5;28;01mreturn\u001B[39;00m data[data[\u001B[38;5;124m'\u001B[39m\u001B[38;5;124mrecipe_id\u001B[39m\u001B[38;5;124m'\u001B[39m] \u001B[38;5;241m==\u001B[39m recipes[closest_recipe_idx]][\u001B[38;5;124m'\u001B[39m\u001B[38;5;124mrecipe_id\u001B[39m\u001B[38;5;124m'\u001B[39m]\u001B[38;5;241m.\u001B[39mvalues[\u001B[38;5;241m0\u001B[39m]\n\u001B[1;32m     21\u001B[0m \u001B[38;5;66;03m# Test the model by finding the closest recipe to the new ingredients\u001B[39;00m\n\u001B[0;32m---> 22\u001B[0m closest_recipe_id \u001B[38;5;241m=\u001B[39m \u001B[43mfind_closest_recipe\u001B[49m\u001B[43m(\u001B[49m\u001B[43mnew_ingredients\u001B[49m\u001B[43m,\u001B[49m\u001B[43m \u001B[49m\u001B[43mencoder\u001B[49m\u001B[38;5;241;43m=\u001B[39;49m\u001B[43mencoder\u001B[49m\u001B[43m,\u001B[49m\u001B[43m \u001B[49m\u001B[43mrecipes\u001B[49m\u001B[38;5;241;43m=\u001B[39;49m\u001B[43mtest_recipes\u001B[49m\u001B[43m)\u001B[49m\n\u001B[1;32m     23\u001B[0m \u001B[38;5;28mprint\u001B[39m(\u001B[38;5;124m'\u001B[39m\u001B[38;5;124mClosest recipe ID:\u001B[39m\u001B[38;5;124m'\u001B[39m, closest_recipe_id)\n",
      "Cell \u001B[0;32mIn[22], line 13\u001B[0m, in \u001B[0;36mfind_closest_recipe\u001B[0;34m(_ingredients, recipes, encoder)\u001B[0m\n\u001B[1;32m     10\u001B[0m encoding \u001B[38;5;241m=\u001B[39m encoder\u001B[38;5;241m.\u001B[39mpredict(input_vec)\n\u001B[1;32m     12\u001B[0m \u001B[38;5;66;03m# Compute the distances between the encoding and the recipe encodings\u001B[39;00m\n\u001B[0;32m---> 13\u001B[0m similarities \u001B[38;5;241m=\u001B[39m \u001B[43mcosine_similarity\u001B[49m\u001B[43m(\u001B[49m\u001B[43mencoding\u001B[49m\u001B[43m,\u001B[49m\u001B[43m \u001B[49m\u001B[43mrecipes\u001B[49m\u001B[43m)\u001B[49m\n\u001B[1;32m     15\u001B[0m \u001B[38;5;66;03m# Find the index of the closest recipe\u001B[39;00m\n\u001B[1;32m     16\u001B[0m closest_recipe_idx \u001B[38;5;241m=\u001B[39m np\u001B[38;5;241m.\u001B[39margmax(similarities)\n",
      "File \u001B[0;32m~/git/personal/kaggle/kaggle/food-recommendation-venv/lib/python3.9/site-packages/sklearn/metrics/pairwise.py:1393\u001B[0m, in \u001B[0;36mcosine_similarity\u001B[0;34m(X, Y, dense_output)\u001B[0m\n\u001B[1;32m   1358\u001B[0m \u001B[38;5;250m\u001B[39m\u001B[38;5;124;03m\"\"\"Compute cosine similarity between samples in X and Y.\u001B[39;00m\n\u001B[1;32m   1359\u001B[0m \n\u001B[1;32m   1360\u001B[0m \u001B[38;5;124;03mCosine similarity, or the cosine kernel, computes similarity as the\u001B[39;00m\n\u001B[0;32m   (...)\u001B[0m\n\u001B[1;32m   1389\u001B[0m \u001B[38;5;124;03m    Returns the cosine similarity between samples in X and Y.\u001B[39;00m\n\u001B[1;32m   1390\u001B[0m \u001B[38;5;124;03m\"\"\"\u001B[39;00m\n\u001B[1;32m   1391\u001B[0m \u001B[38;5;66;03m# to avoid recursive import\u001B[39;00m\n\u001B[0;32m-> 1393\u001B[0m X, Y \u001B[38;5;241m=\u001B[39m \u001B[43mcheck_pairwise_arrays\u001B[49m\u001B[43m(\u001B[49m\u001B[43mX\u001B[49m\u001B[43m,\u001B[49m\u001B[43m \u001B[49m\u001B[43mY\u001B[49m\u001B[43m)\u001B[49m\n\u001B[1;32m   1395\u001B[0m X_normalized \u001B[38;5;241m=\u001B[39m normalize(X, copy\u001B[38;5;241m=\u001B[39m\u001B[38;5;28;01mTrue\u001B[39;00m)\n\u001B[1;32m   1396\u001B[0m \u001B[38;5;28;01mif\u001B[39;00m X \u001B[38;5;129;01mis\u001B[39;00m Y:\n",
      "File \u001B[0;32m~/git/personal/kaggle/kaggle/food-recommendation-venv/lib/python3.9/site-packages/sklearn/metrics/pairwise.py:180\u001B[0m, in \u001B[0;36mcheck_pairwise_arrays\u001B[0;34m(X, Y, precomputed, dtype, accept_sparse, force_all_finite, copy)\u001B[0m\n\u001B[1;32m    174\u001B[0m         \u001B[38;5;28;01mraise\u001B[39;00m \u001B[38;5;167;01mValueError\u001B[39;00m(\n\u001B[1;32m    175\u001B[0m             \u001B[38;5;124m\"\u001B[39m\u001B[38;5;124mPrecomputed metric requires shape \u001B[39m\u001B[38;5;124m\"\u001B[39m\n\u001B[1;32m    176\u001B[0m             \u001B[38;5;124m\"\u001B[39m\u001B[38;5;124m(n_queries, n_indexed). Got (\u001B[39m\u001B[38;5;132;01m%d\u001B[39;00m\u001B[38;5;124m, \u001B[39m\u001B[38;5;132;01m%d\u001B[39;00m\u001B[38;5;124m) \u001B[39m\u001B[38;5;124m\"\u001B[39m\n\u001B[1;32m    177\u001B[0m             \u001B[38;5;124m\"\u001B[39m\u001B[38;5;124mfor \u001B[39m\u001B[38;5;132;01m%d\u001B[39;00m\u001B[38;5;124m indexed.\u001B[39m\u001B[38;5;124m\"\u001B[39m \u001B[38;5;241m%\u001B[39m (X\u001B[38;5;241m.\u001B[39mshape[\u001B[38;5;241m0\u001B[39m], X\u001B[38;5;241m.\u001B[39mshape[\u001B[38;5;241m1\u001B[39m], Y\u001B[38;5;241m.\u001B[39mshape[\u001B[38;5;241m0\u001B[39m])\n\u001B[1;32m    178\u001B[0m         )\n\u001B[1;32m    179\u001B[0m \u001B[38;5;28;01melif\u001B[39;00m X\u001B[38;5;241m.\u001B[39mshape[\u001B[38;5;241m1\u001B[39m] \u001B[38;5;241m!=\u001B[39m Y\u001B[38;5;241m.\u001B[39mshape[\u001B[38;5;241m1\u001B[39m]:\n\u001B[0;32m--> 180\u001B[0m     \u001B[38;5;28;01mraise\u001B[39;00m \u001B[38;5;167;01mValueError\u001B[39;00m(\n\u001B[1;32m    181\u001B[0m         \u001B[38;5;124m\"\u001B[39m\u001B[38;5;124mIncompatible dimension for X and Y matrices: \u001B[39m\u001B[38;5;124m\"\u001B[39m\n\u001B[1;32m    182\u001B[0m         \u001B[38;5;124m\"\u001B[39m\u001B[38;5;124mX.shape[1] == \u001B[39m\u001B[38;5;132;01m%d\u001B[39;00m\u001B[38;5;124m while Y.shape[1] == \u001B[39m\u001B[38;5;132;01m%d\u001B[39;00m\u001B[38;5;124m\"\u001B[39m \u001B[38;5;241m%\u001B[39m (X\u001B[38;5;241m.\u001B[39mshape[\u001B[38;5;241m1\u001B[39m], Y\u001B[38;5;241m.\u001B[39mshape[\u001B[38;5;241m1\u001B[39m])\n\u001B[1;32m    183\u001B[0m     )\n\u001B[1;32m    185\u001B[0m \u001B[38;5;28;01mreturn\u001B[39;00m X, Y\n",
      "\u001B[0;31mValueError\u001B[0m: Incompatible dimension for X and Y matrices: X.shape[1] == 128 while Y.shape[1] == 10"
     ]
    }
   ],
   "source": [
    "# Find the closest recipe to a given set of ingredients\n",
    "def find_closest_recipe(_ingredients, recipes, encoder):\n",
    "    # Encode the ingredients\n",
    "    input_vec = np.zeros((1, len(ingredients)))\n",
    "    for i in range(len(ingredients)):\n",
    "        if ingredients[i] in _ingredients:\n",
    "            input_vec[0, i] = 1\n",
    "\n",
    "    print(input_vec)\n",
    "    encoding = encoder.predict(input_vec)\n",
    "\n",
    "    # Compute the distances between the encoding and the recipe encodings\n",
    "    similarities = cosine_similarity(encoding, recipes)\n",
    "\n",
    "    # Find the index of the closest recipe\n",
    "    closest_recipe_idx = np.argmax(similarities)\n",
    "\n",
    "    # Return the ID of the closest recipe\n",
    "    return data[data['recipe_id'] == recipes[closest_recipe_idx]]['recipe_id'].values[0]\n",
    "\n",
    "# Test the model by finding the closest recipe to the new ingredients\n",
    "closest_recipe_id = find_closest_recipe(new_ingredients, encoder=encoder, recipes=test_recipes)\n",
    "print('Closest recipe ID:', closest_recipe_id)"
   ]
  },
  {
   "cell_type": "code",
   "execution_count": null,
   "metadata": {},
   "outputs": [],
   "source": []
  }
 ],
 "metadata": {
  "kernelspec": {
   "display_name": "Python 3 (ipykernel)",
   "language": "python",
   "name": "python3"
  },
  "language_info": {
   "codemirror_mode": {
    "name": "ipython",
    "version": 3
   },
   "file_extension": ".py",
   "mimetype": "text/x-python",
   "name": "python",
   "nbconvert_exporter": "python",
   "pygments_lexer": "ipython3",
   "version": "3.9.6"
  }
 },
 "nbformat": 4,
 "nbformat_minor": 1
}
