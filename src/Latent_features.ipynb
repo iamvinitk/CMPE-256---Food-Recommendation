{
 "cells": [
  {
   "cell_type": "code",
   "execution_count": 1,
   "metadata": {},
   "outputs": [],
   "source": [
    "import pandas as pd\n",
    "import numpy as np\n",
    "from sklearn.preprocessing import LabelEncoder, StandardScaler\n",
    "from keras.layers import Input, Embedding, Flatten, Dense, Concatenate, Dropout\n",
    "from keras.models import Model\n",
    "from keras.optimizers import Adam"
   ]
  },
  {
   "cell_type": "code",
   "execution_count": 2,
   "metadata": {},
   "outputs": [],
   "source": [
    "# Load the dataset\n",
    "data = pd.read_csv('../dataset/preprocessed_data.csv')"
   ]
  },
  {
   "cell_type": "code",
   "execution_count": 3,
   "metadata": {},
   "outputs": [],
   "source": [
    "# Encode the categorical features\n",
    "encoder = LabelEncoder()\n",
    "data['food_types'] = encoder.fit_transform(data['food_types'])"
   ]
  },
  {
   "cell_type": "code",
   "execution_count": 4,
   "metadata": {},
   "outputs": [],
   "source": [
    "# Standardize the numerical features\n",
    "scaler = StandardScaler()\n",
    "num_cols = ['minutes', 'n_steps', 'n_ingredients', 'calories', 'total_fat', 'sugar', 'sodium', 'protein', 'saturated_fat', 'carbohydrates']\n",
    "data[num_cols] = scaler.fit_transform(data[num_cols])"
   ]
  },
  {
   "cell_type": "code",
   "execution_count": 5,
   "metadata": {},
   "outputs": [
    {
     "ename": "IndexError",
     "evalue": "only integers, slices (`:`), ellipsis (`...`), numpy.newaxis (`None`) and integer or boolean arrays are valid indices",
     "output_type": "error",
     "traceback": [
      "\u001b[0;31m---------------------------------------------------------------------------\u001b[0m",
      "\u001b[0;31mIndexError\u001b[0m                                Traceback (most recent call last)",
      "Cell \u001b[0;32mIn [5], line 6\u001b[0m\n\u001b[1;32m      4\u001b[0m user_item_matrix \u001b[38;5;241m=\u001b[39m np\u001b[38;5;241m.\u001b[39mzeros((n_users, n_items))\n\u001b[1;32m      5\u001b[0m \u001b[38;5;28;01mfor\u001b[39;00m row \u001b[38;5;129;01min\u001b[39;00m data\u001b[38;5;241m.\u001b[39mitertuples():\n\u001b[0;32m----> 6\u001b[0m     user_item_matrix[row[\u001b[38;5;241m1\u001b[39m]\u001b[38;5;241m-\u001b[39m\u001b[38;5;241m1\u001b[39m, row[\u001b[38;5;241m14\u001b[39m]\u001b[38;5;241m-\u001b[39m\u001b[38;5;241m1\u001b[39m] \u001b[38;5;241m=\u001b[39m row[\u001b[38;5;241m15\u001b[39m]\n",
      "\u001b[0;31mIndexError\u001b[0m: only integers, slices (`:`), ellipsis (`...`), numpy.newaxis (`None`) and integer or boolean arrays are valid indices"
     ]
    }
   ],
   "source": [
    "# Create the user-item interaction matrix\n",
    "n_users = data['user_id'].nunique()\n",
    "n_items = data['recipe_id'].nunique()\n",
    "user_item_matrix = np.zeros((n_users, n_items))\n",
    "for row in data.itertuples():\n",
    "    user_item_matrix[row[1]-1, row[14]-1] = row[15]"
   ]
  },
  {
   "cell_type": "code",
   "execution_count": null,
   "metadata": {},
   "outputs": [],
   "source": [
    "# Define the MLP model architecture\n",
    "user_input = Input(shape=(1,))\n",
    "user_embedding = Embedding(n_users, 64, input_length=1)(user_input)\n",
    "user_embedding = Flatten()(user_embedding)\n",
    "\n",
    "item_input = Input(shape=(1,))\n",
    "item_embedding = Embedding(n_items, 64, input_length=1)(item_input)\n",
    "item_embedding = Flatten()(item_embedding)\n",
    "\n",
    "numeric_input = Input(shape=(10,))\n",
    "dense_1 = Dense(128, activation='relu')(numeric_input)\n",
    "dense_1 = Dropout(0.5)(dense_1)\n",
    "\n",
    "concat = Concatenate()([user_embedding, item_embedding, dense_1])\n",
    "dense_2 = Dense(64, activation='relu')(concat)\n",
    "dense_2 = Dropout(0.5)(dense_2)\n",
    "\n",
    "output = Dense(1)(dense_2)\n",
    "\n",
    "model = Model(inputs=[user_input, item_input, numeric_input], outputs=output)\n",
    "model.compile(loss='mse', optimizer=Adam(lr=0.001))\n",
    "\n",
    "# Train the MLP model\n",
    "model.fit(x=[user_item_matrix[:, 0], user_item_matrix[:, 1], data[num_cols]], y=user_item_matrix[:, 14], batch_size=64, epochs=10, validation_split=0.1)"
   ]
  },
  {
   "cell_type": "code",
   "execution_count": null,
   "metadata": {},
   "outputs": [],
   "source": [
    "# Use the MLP model to suggest similar recipe_ids\n",
    "def suggest_similar_recipes(recipe_id, n=5):\n",
    "    item_idx = recipe_id - 1\n",
    "    item_vec = np.zeros((1, 1))\n",
    "    item_vec[0, 0] = item_idx\n",
    "\n",
    "    user_ratings = model.predict([np.arange(n_users), np.repeat(item_idx, n_users), np.tile(data.loc[item_idx, num_cols].values, (n_users, 1))])\n",
    "    user_ratings = user_ratings.flatten()\n",
    "\n",
    "    top_users = user_ratings.argsort()[-n-1:-1]\n",
    "    top_recipes = []\n",
    "    for user in top_users:\n",
    "        top_recipe_idx = np.argmax(user_item_matrix[user, :])\n",
    "        top_recipes.append(top_recipe_idx+1)\n",
    "    return top_recipes"
   ]
  }
 ],
 "metadata": {
  "kernelspec": {
   "display_name": "Python 3.10.6 64-bit",
   "language": "python",
   "name": "python3"
  },
  "language_info": {
   "codemirror_mode": {
    "name": "ipython",
    "version": 3
   },
   "file_extension": ".py",
   "mimetype": "text/x-python",
   "name": "python",
   "nbconvert_exporter": "python",
   "pygments_lexer": "ipython3",
   "version": "3.10.6"
  },
  "orig_nbformat": 4,
  "vscode": {
   "interpreter": {
    "hash": "949777d72b0d2535278d3dc13498b2535136f6dfe0678499012e853ee9abcab1"
   }
  }
 },
 "nbformat": 4,
 "nbformat_minor": 2
}
