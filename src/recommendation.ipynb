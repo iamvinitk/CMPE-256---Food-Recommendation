{
 "cells": [
  {
   "cell_type": "code",
   "execution_count": 4,
   "metadata": {
    "_cell_guid": "b1076dfc-b9ad-4769-8c92-a6c4dae69d19",
    "_uuid": "8f2839f25d086af736a60e9eeb907d3b93b6e0e5",
    "execution": {
     "iopub.execute_input": "2023-04-30T04:55:59.401326Z",
     "iopub.status.busy": "2023-04-30T04:55:59.400796Z",
     "iopub.status.idle": "2023-04-30T04:56:07.349267Z",
     "shell.execute_reply": "2023-04-30T04:56:07.348116Z",
     "shell.execute_reply.started": "2023-04-30T04:55:59.401297Z"
    }
   },
   "outputs": [],
   "source": [
    "import matplotlib.pyplot as plt\n",
    "import numpy as np\n",
    "import pandas as pd\n",
    "import tensorflow as tf\n",
    "from keras import layers\n",
    "from tensorflow import keras"
   ]
  },
  {
   "cell_type": "code",
   "execution_count": 5,
   "metadata": {
    "execution": {
     "iopub.execute_input": "2023-04-30T04:56:07.352072Z",
     "iopub.status.busy": "2023-04-30T04:56:07.351255Z",
     "iopub.status.idle": "2023-04-30T04:56:08.053614Z",
     "shell.execute_reply": "2023-04-30T04:56:08.052670Z",
     "shell.execute_reply.started": "2023-04-30T04:56:07.352032Z"
    }
   },
   "outputs": [
    {
     "data": {
      "text/plain": "        user_id  recipe_id        date  rating   \n0          7708      60599  2005-09-02       4  \\\n1         27707      60599  2005-12-22       5   \n2         35308      60599  2006-09-26       5   \n3         19399      60599  2007-03-09       5   \n4         43887      60599  2008-02-20       0   \n...         ...        ...         ...     ...   \n942363    10188      22092  2007-04-26       0   \n942364    51769     161871  2009-09-29       5   \n942365    15786      33054  2008-06-23       5   \n942366     5051      33054  2009-01-11       4   \n942367   181745      33054  2017-12-18       5   \n\n                                                   review   \n0                                               very good  \\\n1                                    better than the real   \n2       absolutely awesome i was speechless when i tri...   \n3       these taste absolutely wonderful my son in law...   \n4       made my own buttermilk w vinegar and milk. use...   \n...                                                   ...   \n942363  i am not going to rate this because i did have...   \n942364  these were so delicious my husband and i truly...   \n942365  wow sometimes i do not take the time to rate r...   \n942366  very good i used regular port as well. the gra...   \n942367  i am so glad i googled and found this here. th...   \n\n                                   name  minutes  contributor_id   submitted   \n0                  kfc honey bbq strips       40          166019  2005-08-24  \\\n1                  kfc honey bbq strips       40          166019  2005-08-24   \n2                  kfc honey bbq strips       40          166019  2005-08-24   \n3                  kfc honey bbq strips       40          166019  2005-08-24   \n4                  kfc honey bbq strips       40          166019  2005-08-24   \n...                                 ...      ...             ...         ...   \n942363             garlic clove chicken       65           49304  2003-02-21   \n942364  stacey e s yummy veggie burgers       21          742029  2009-08-24   \n942365   pot roast with port  stove top      115          108291  2003-12-05   \n942366   pot roast with port  stove top      115          108291  2003-12-05   \n942367   pot roast with port  stove top      115          108291  2003-12-05   \n\n                                                     tags  ...  sugar sodium   \n0       60-minutes-or-less, time-to-make, main-ingredi...  ...   40.0   37.0  \\\n1       60-minutes-or-less, time-to-make, main-ingredi...  ...   40.0   37.0   \n2       60-minutes-or-less, time-to-make, main-ingredi...  ...   40.0   37.0   \n3       60-minutes-or-less, time-to-make, main-ingredi...  ...   40.0   37.0   \n4       60-minutes-or-less, time-to-make, main-ingredi...  ...   40.0   37.0   \n...                                                   ...  ...    ...    ...   \n942363  weeknight, time-to-make, course, main-ingredie...  ...    1.0    7.0   \n942364  30-minutes-or-less, time-to-make, course, main...  ...   11.0   24.0   \n942365  weeknight, time-to-make, course, preparation, ...  ...   22.0   20.0   \n942366  weeknight, time-to-make, course, preparation, ...  ...   22.0   20.0   \n942367  weeknight, time-to-make, course, preparation, ...  ...   22.0   20.0   \n\n       protein saturated_fat  carbohydrates  food_types  negative  neutral   \n0         78.0           4.0           10.0     Non-veg     0.000    0.238  \\\n1         78.0           4.0           10.0     Non-veg     0.000    0.508   \n2         78.0           4.0           10.0     Non-veg     0.000    0.883   \n3         78.0           4.0           10.0     Non-veg     0.000    0.675   \n4         78.0           4.0           10.0     Non-veg     0.000    0.929   \n...        ...           ...            ...         ...       ...      ...   \n942363    53.0          29.0            2.0     Non-veg     0.071    0.929   \n942364    10.0           0.0            8.0     Healthy     0.000    0.752   \n942365    93.0         112.0            4.0         Veg     0.063    0.749   \n942366    93.0         112.0            4.0         Veg     0.000    0.584   \n942367    93.0         112.0            4.0         Veg     0.010    0.799   \n\n        positive  compound  \n0          0.762    0.4927  \n1          0.492    0.4404  \n2          0.117    0.6590  \n3          0.325    0.8908  \n4          0.071    0.4588  \n...          ...       ...  \n942363     0.000   -0.5075  \n942364     0.248    0.9609  \n942365     0.188    0.9520  \n942366     0.416    0.8856  \n942367     0.190    0.9824  \n\n[942368 rows x 27 columns]",
      "text/html": "<div>\n<style scoped>\n    .dataframe tbody tr th:only-of-type {\n        vertical-align: middle;\n    }\n\n    .dataframe tbody tr th {\n        vertical-align: top;\n    }\n\n    .dataframe thead th {\n        text-align: right;\n    }\n</style>\n<table border=\"1\" class=\"dataframe\">\n  <thead>\n    <tr style=\"text-align: right;\">\n      <th></th>\n      <th>user_id</th>\n      <th>recipe_id</th>\n      <th>date</th>\n      <th>rating</th>\n      <th>review</th>\n      <th>name</th>\n      <th>minutes</th>\n      <th>contributor_id</th>\n      <th>submitted</th>\n      <th>tags</th>\n      <th>...</th>\n      <th>sugar</th>\n      <th>sodium</th>\n      <th>protein</th>\n      <th>saturated_fat</th>\n      <th>carbohydrates</th>\n      <th>food_types</th>\n      <th>negative</th>\n      <th>neutral</th>\n      <th>positive</th>\n      <th>compound</th>\n    </tr>\n  </thead>\n  <tbody>\n    <tr>\n      <th>0</th>\n      <td>7708</td>\n      <td>60599</td>\n      <td>2005-09-02</td>\n      <td>4</td>\n      <td>very good</td>\n      <td>kfc honey bbq strips</td>\n      <td>40</td>\n      <td>166019</td>\n      <td>2005-08-24</td>\n      <td>60-minutes-or-less, time-to-make, main-ingredi...</td>\n      <td>...</td>\n      <td>40.0</td>\n      <td>37.0</td>\n      <td>78.0</td>\n      <td>4.0</td>\n      <td>10.0</td>\n      <td>Non-veg</td>\n      <td>0.000</td>\n      <td>0.238</td>\n      <td>0.762</td>\n      <td>0.4927</td>\n    </tr>\n    <tr>\n      <th>1</th>\n      <td>27707</td>\n      <td>60599</td>\n      <td>2005-12-22</td>\n      <td>5</td>\n      <td>better than the real</td>\n      <td>kfc honey bbq strips</td>\n      <td>40</td>\n      <td>166019</td>\n      <td>2005-08-24</td>\n      <td>60-minutes-or-less, time-to-make, main-ingredi...</td>\n      <td>...</td>\n      <td>40.0</td>\n      <td>37.0</td>\n      <td>78.0</td>\n      <td>4.0</td>\n      <td>10.0</td>\n      <td>Non-veg</td>\n      <td>0.000</td>\n      <td>0.508</td>\n      <td>0.492</td>\n      <td>0.4404</td>\n    </tr>\n    <tr>\n      <th>2</th>\n      <td>35308</td>\n      <td>60599</td>\n      <td>2006-09-26</td>\n      <td>5</td>\n      <td>absolutely awesome i was speechless when i tri...</td>\n      <td>kfc honey bbq strips</td>\n      <td>40</td>\n      <td>166019</td>\n      <td>2005-08-24</td>\n      <td>60-minutes-or-less, time-to-make, main-ingredi...</td>\n      <td>...</td>\n      <td>40.0</td>\n      <td>37.0</td>\n      <td>78.0</td>\n      <td>4.0</td>\n      <td>10.0</td>\n      <td>Non-veg</td>\n      <td>0.000</td>\n      <td>0.883</td>\n      <td>0.117</td>\n      <td>0.6590</td>\n    </tr>\n    <tr>\n      <th>3</th>\n      <td>19399</td>\n      <td>60599</td>\n      <td>2007-03-09</td>\n      <td>5</td>\n      <td>these taste absolutely wonderful my son in law...</td>\n      <td>kfc honey bbq strips</td>\n      <td>40</td>\n      <td>166019</td>\n      <td>2005-08-24</td>\n      <td>60-minutes-or-less, time-to-make, main-ingredi...</td>\n      <td>...</td>\n      <td>40.0</td>\n      <td>37.0</td>\n      <td>78.0</td>\n      <td>4.0</td>\n      <td>10.0</td>\n      <td>Non-veg</td>\n      <td>0.000</td>\n      <td>0.675</td>\n      <td>0.325</td>\n      <td>0.8908</td>\n    </tr>\n    <tr>\n      <th>4</th>\n      <td>43887</td>\n      <td>60599</td>\n      <td>2008-02-20</td>\n      <td>0</td>\n      <td>made my own buttermilk w vinegar and milk. use...</td>\n      <td>kfc honey bbq strips</td>\n      <td>40</td>\n      <td>166019</td>\n      <td>2005-08-24</td>\n      <td>60-minutes-or-less, time-to-make, main-ingredi...</td>\n      <td>...</td>\n      <td>40.0</td>\n      <td>37.0</td>\n      <td>78.0</td>\n      <td>4.0</td>\n      <td>10.0</td>\n      <td>Non-veg</td>\n      <td>0.000</td>\n      <td>0.929</td>\n      <td>0.071</td>\n      <td>0.4588</td>\n    </tr>\n    <tr>\n      <th>...</th>\n      <td>...</td>\n      <td>...</td>\n      <td>...</td>\n      <td>...</td>\n      <td>...</td>\n      <td>...</td>\n      <td>...</td>\n      <td>...</td>\n      <td>...</td>\n      <td>...</td>\n      <td>...</td>\n      <td>...</td>\n      <td>...</td>\n      <td>...</td>\n      <td>...</td>\n      <td>...</td>\n      <td>...</td>\n      <td>...</td>\n      <td>...</td>\n      <td>...</td>\n      <td>...</td>\n    </tr>\n    <tr>\n      <th>942363</th>\n      <td>10188</td>\n      <td>22092</td>\n      <td>2007-04-26</td>\n      <td>0</td>\n      <td>i am not going to rate this because i did have...</td>\n      <td>garlic clove chicken</td>\n      <td>65</td>\n      <td>49304</td>\n      <td>2003-02-21</td>\n      <td>weeknight, time-to-make, course, main-ingredie...</td>\n      <td>...</td>\n      <td>1.0</td>\n      <td>7.0</td>\n      <td>53.0</td>\n      <td>29.0</td>\n      <td>2.0</td>\n      <td>Non-veg</td>\n      <td>0.071</td>\n      <td>0.929</td>\n      <td>0.000</td>\n      <td>-0.5075</td>\n    </tr>\n    <tr>\n      <th>942364</th>\n      <td>51769</td>\n      <td>161871</td>\n      <td>2009-09-29</td>\n      <td>5</td>\n      <td>these were so delicious my husband and i truly...</td>\n      <td>stacey e s yummy veggie burgers</td>\n      <td>21</td>\n      <td>742029</td>\n      <td>2009-08-24</td>\n      <td>30-minutes-or-less, time-to-make, course, main...</td>\n      <td>...</td>\n      <td>11.0</td>\n      <td>24.0</td>\n      <td>10.0</td>\n      <td>0.0</td>\n      <td>8.0</td>\n      <td>Healthy</td>\n      <td>0.000</td>\n      <td>0.752</td>\n      <td>0.248</td>\n      <td>0.9609</td>\n    </tr>\n    <tr>\n      <th>942365</th>\n      <td>15786</td>\n      <td>33054</td>\n      <td>2008-06-23</td>\n      <td>5</td>\n      <td>wow sometimes i do not take the time to rate r...</td>\n      <td>pot roast with port  stove top</td>\n      <td>115</td>\n      <td>108291</td>\n      <td>2003-12-05</td>\n      <td>weeknight, time-to-make, course, preparation, ...</td>\n      <td>...</td>\n      <td>22.0</td>\n      <td>20.0</td>\n      <td>93.0</td>\n      <td>112.0</td>\n      <td>4.0</td>\n      <td>Veg</td>\n      <td>0.063</td>\n      <td>0.749</td>\n      <td>0.188</td>\n      <td>0.9520</td>\n    </tr>\n    <tr>\n      <th>942366</th>\n      <td>5051</td>\n      <td>33054</td>\n      <td>2009-01-11</td>\n      <td>4</td>\n      <td>very good i used regular port as well. the gra...</td>\n      <td>pot roast with port  stove top</td>\n      <td>115</td>\n      <td>108291</td>\n      <td>2003-12-05</td>\n      <td>weeknight, time-to-make, course, preparation, ...</td>\n      <td>...</td>\n      <td>22.0</td>\n      <td>20.0</td>\n      <td>93.0</td>\n      <td>112.0</td>\n      <td>4.0</td>\n      <td>Veg</td>\n      <td>0.000</td>\n      <td>0.584</td>\n      <td>0.416</td>\n      <td>0.8856</td>\n    </tr>\n    <tr>\n      <th>942367</th>\n      <td>181745</td>\n      <td>33054</td>\n      <td>2017-12-18</td>\n      <td>5</td>\n      <td>i am so glad i googled and found this here. th...</td>\n      <td>pot roast with port  stove top</td>\n      <td>115</td>\n      <td>108291</td>\n      <td>2003-12-05</td>\n      <td>weeknight, time-to-make, course, preparation, ...</td>\n      <td>...</td>\n      <td>22.0</td>\n      <td>20.0</td>\n      <td>93.0</td>\n      <td>112.0</td>\n      <td>4.0</td>\n      <td>Veg</td>\n      <td>0.010</td>\n      <td>0.799</td>\n      <td>0.190</td>\n      <td>0.9824</td>\n    </tr>\n  </tbody>\n</table>\n<p>942368 rows × 27 columns</p>\n</div>"
     },
     "execution_count": 5,
     "metadata": {},
     "output_type": "execute_result"
    }
   ],
   "source": [
    "df = pd.read_csv(\"../dataset/preprocessed_data.csv\")\n",
    "df"
   ]
  },
  {
   "cell_type": "code",
   "execution_count": 7,
   "metadata": {
    "execution": {
     "iopub.execute_input": "2023-04-30T04:56:21.838696Z",
     "iopub.status.busy": "2023-04-30T04:56:21.838112Z",
     "iopub.status.idle": "2023-04-30T04:56:22.501307Z",
     "shell.execute_reply": "2023-04-30T04:56:22.500318Z",
     "shell.execute_reply.started": "2023-04-30T04:56:21.838650Z"
    }
   },
   "outputs": [
    {
     "name": "stdout",
     "output_type": "stream",
     "text": [
      "Number of users: 192751, Number of Recipes: 194084, Min rating: 0.0, Max rating: 5.0\n"
     ]
    }
   ],
   "source": [
    "df = df.sample(frac=1, random_state=42)\n",
    "\n",
    "user_ids = df[\"user_id\"].unique().tolist()\n",
    "user2user_encoded = {x: i for i, x in enumerate(user_ids)}\n",
    "userencoded2user = {i: x for i, x in enumerate(user_ids)}\n",
    "recipe_ids = df[\"recipe_id\"].unique().tolist()\n",
    "recipe2recipe_encoded = {x: i for i, x in enumerate(recipe_ids)}\n",
    "recipe_encoded2recipe = {i: x for i, x in enumerate(recipe_ids)}\n",
    "df[\"user\"] = df[\"user_id\"].map(user2user_encoded)\n",
    "df[\"recipe\"] = df[\"recipe_id\"].map(recipe2recipe_encoded)\n",
    "\n",
    "num_users = len(user2user_encoded)\n",
    "num_recipes = len(recipe_encoded2recipe)\n",
    "df[\"rating\"] = df[\"rating\"].values.astype(np.float32)\n",
    "\n",
    "# min and max ratings will be used to normalize the ratings later\n",
    "min_rating = min(df[\"rating\"])\n",
    "max_rating = max(df[\"rating\"])\n",
    "\n",
    "print(\n",
    "    \"Number of users: {}, Number of Recipes: {}, Min rating: {}, Max rating: {}\".format(\n",
    "        num_users, num_recipes, min_rating, max_rating\n",
    "    )\n",
    ")"
   ]
  },
  {
   "cell_type": "code",
   "execution_count": 8,
   "metadata": {
    "execution": {
     "iopub.execute_input": "2023-04-30T04:56:24.457773Z",
     "iopub.status.busy": "2023-04-30T04:56:24.457185Z",
     "iopub.status.idle": "2023-04-30T04:56:24.499991Z",
     "shell.execute_reply": "2023-04-30T04:56:24.498802Z",
     "shell.execute_reply.started": "2023-04-30T04:56:24.457729Z"
    }
   },
   "outputs": [],
   "source": [
    "x = df[[\"user\", \"recipe\"]].values\n",
    "# Normalize the targets between 0 and 1. Makes it easy to train.\n",
    "y = df[\"rating\"] / 5\n",
    "# Assuming training on 90% of the data and validating on 10%.\n",
    "train_indices = int(0.8 * df.shape[0])\n",
    "x_train, x_val, y_train, y_val = (\n",
    "    x[:train_indices],\n",
    "    x[train_indices:],\n",
    "    y[:train_indices],\n",
    "    y[train_indices:],\n",
    ")"
   ]
  },
  {
   "cell_type": "code",
   "execution_count": 10,
   "metadata": {
    "execution": {
     "iopub.execute_input": "2023-04-30T04:56:25.891440Z",
     "iopub.status.busy": "2023-04-30T04:56:25.890846Z",
     "iopub.status.idle": "2023-04-30T04:56:28.907719Z",
     "shell.execute_reply": "2023-04-30T04:56:28.906645Z",
     "shell.execute_reply.started": "2023-04-30T04:56:25.891391Z"
    }
   },
   "outputs": [
    {
     "name": "stdout",
     "output_type": "stream",
     "text": [
      "Metal device set to: Apple M1 Pro\n",
      "INFO:tensorflow:Using MirroredStrategy with devices ('/job:localhost/replica:0/task:0/device:GPU:0',)\n",
      "Number of devices: 1\n"
     ]
    }
   ],
   "source": [
    "strategy = tf.distribute.MirroredStrategy()\n",
    "print('Number of devices: {}'.format(strategy.num_replicas_in_sync))"
   ]
  },
  {
   "cell_type": "code",
   "execution_count": 11,
   "metadata": {
    "execution": {
     "iopub.execute_input": "2023-04-30T04:56:45.145564Z",
     "iopub.status.busy": "2023-04-30T04:56:45.144554Z",
     "iopub.status.idle": "2023-04-30T04:56:45.192742Z",
     "shell.execute_reply": "2023-04-30T04:56:45.191734Z",
     "shell.execute_reply.started": "2023-04-30T04:56:45.145529Z"
    }
   },
   "outputs": [
    {
     "name": "stderr",
     "output_type": "stream",
     "text": [
      "WARNING:absl:At this time, the v2.11+ optimizer `tf.keras.optimizers.Adam` runs slowly on M1/M2 Macs, please use the legacy Keras optimizer instead, located at `tf.keras.optimizers.legacy.Adam`.\n",
      "WARNING:absl:There is a known slowdown when using v2.11+ Keras optimizers on M1/M2 Macs. Falling back to the legacy Keras optimizer, i.e., `tf.keras.optimizers.legacy.Adam`.\n"
     ]
    }
   ],
   "source": [
    "from keras.callbacks import EarlyStopping, ReduceLROnPlateau\n",
    "\n",
    "EMBEDDING_SIZE = 32\n",
    "\n",
    "\n",
    "class RecommenderNet(keras.Model):\n",
    "    def __init__(self, num_users, num_recipes, embedding_size, **kwargs):\n",
    "        super().__init__(**kwargs)\n",
    "        self.num_users = num_users\n",
    "        self.num_recipes = num_recipes\n",
    "        self.embedding_size = embedding_size\n",
    "        self.user_embedding = layers.Embedding(\n",
    "            num_users,\n",
    "            embedding_size,\n",
    "            embeddings_initializer=\"he_normal\",\n",
    "            embeddings_regularizer=keras.regularizers.l2(1e-1),\n",
    "        )\n",
    "        self.user_bias = layers.Embedding(num_users, 1)\n",
    "        self.recipe_embedding = layers.Embedding(\n",
    "            num_recipes,\n",
    "            embedding_size,\n",
    "            embeddings_initializer=\"he_normal\",\n",
    "            embeddings_regularizer=keras.regularizers.l2(1e-1),\n",
    "        )\n",
    "        self.recipe_bias = layers.Embedding(num_recipes, 1)\n",
    "\n",
    "    def call(self, inputs):\n",
    "        user_vector = self.user_embedding(inputs[:, 0])\n",
    "        user_bias = self.user_bias(inputs[:, 0])\n",
    "        recipe_vector = self.recipe_embedding(inputs[:, 1])\n",
    "        recipe_bias = self.recipe_bias(inputs[:, 1])\n",
    "        dot_user_recipe = tf.tensordot(user_vector, recipe_vector, 2)\n",
    "        # Add all the components (including bias)\n",
    "        x = dot_user_recipe + user_bias + recipe_bias\n",
    "        # The sigmoid activation forces the rating to between 0 and 1\n",
    "        return tf.nn.sigmoid(x)\n",
    "\n",
    "\n",
    "# with strategy.scope():\n",
    "model = RecommenderNet(num_users, num_recipes, EMBEDDING_SIZE)\n",
    "\n",
    "early_stopping = EarlyStopping(monitor='val_loss', patience=5, restore_best_weights=True)\n",
    "reduce_lr_on_plateau = ReduceLROnPlateau(monitor='val_loss', factor=0.2, patience=3, min_lr=1e-8, verbose=1)\n",
    "\n",
    "model.compile(\n",
    "    optimizer=keras.optimizers.Adam(learning_rate=0.001),\n",
    "    loss='mean_squared_error', metrics=['mse']\n",
    ")"
   ]
  },
  {
   "cell_type": "code",
   "execution_count": null,
   "metadata": {
    "execution": {
     "iopub.execute_input": "2023-04-30T04:56:46.753661Z",
     "iopub.status.busy": "2023-04-30T04:56:46.753268Z",
     "iopub.status.idle": "2023-04-30T05:05:59.056458Z",
     "shell.execute_reply": "2023-04-30T05:05:59.055381Z",
     "shell.execute_reply.started": "2023-04-30T04:56:46.753608Z"
    },
    "pycharm": {
     "is_executing": true
    }
   },
   "outputs": [
    {
     "name": "stdout",
     "output_type": "stream",
     "text": [
      "Epoch 1/50\n"
     ]
    },
    {
     "name": "stderr",
     "output_type": "stream",
     "text": [
      "2023-04-29 23:05:20.838241: W tensorflow/tsl/platform/profile_utils/cpu_utils.cc:128] Failed to get CPU frequency: 0 Hz\n"
     ]
    },
    {
     "name": "stdout",
     "output_type": "stream",
     "text": [
      "5890/5890 [==============================] - 185s 31ms/step - loss: 0.1520 - mse: 0.1433 - val_loss: 0.1063 - val_mse: 0.1045 - lr: 0.0010\n",
      "Epoch 2/50\n",
      "5890/5890 [==============================] - 178s 30ms/step - loss: 0.0887 - mse: 0.0871 - val_loss: 0.0819 - val_mse: 0.0801 - lr: 0.0010\n",
      "Epoch 3/50\n",
      "5890/5890 [==============================] - 179s 30ms/step - loss: 0.0707 - mse: 0.0695 - val_loss: 0.0724 - val_mse: 0.0708 - lr: 0.0010\n",
      "Epoch 4/50\n",
      "5890/5890 [==============================] - 180s 31ms/step - loss: 0.0620 - mse: 0.0609 - val_loss: 0.0676 - val_mse: 0.0662 - lr: 0.0010\n",
      "Epoch 5/50\n",
      "5890/5890 [==============================] - 186s 32ms/step - loss: 0.0566 - mse: 0.0556 - val_loss: 0.0647 - val_mse: 0.0634 - lr: 0.0010\n",
      "Epoch 6/50\n",
      "5890/5890 [==============================] - 194s 33ms/step - loss: 0.0528 - mse: 0.0518 - val_loss: 0.0628 - val_mse: 0.0617 - lr: 0.0010\n",
      "Epoch 7/50\n",
      "5890/5890 [==============================] - 188s 32ms/step - loss: 0.0499 - mse: 0.0490 - val_loss: 0.0615 - val_mse: 0.0605 - lr: 0.0010\n",
      "Epoch 8/50\n",
      "5890/5890 [==============================] - 188s 32ms/step - loss: 0.0475 - mse: 0.0466 - val_loss: 0.0606 - val_mse: 0.0597 - lr: 0.0010\n",
      "Epoch 9/50\n",
      "5890/5890 [==============================] - 178s 30ms/step - loss: 0.0456 - mse: 0.0447 - val_loss: 0.0600 - val_mse: 0.0591 - lr: 0.0010\n",
      "Epoch 10/50\n",
      "4001/5890 [===================>..........] - ETA: 50s - loss: 0.0438 - mse: 0.0430"
     ]
    }
   ],
   "source": [
    "history = model.fit(\n",
    "    x=x_train,\n",
    "    y=y_train,\n",
    "    batch_size=128,\n",
    "    epochs=50,\n",
    "    verbose=1,\n",
    "    validation_data=(x_val, y_val),\n",
    "    callbacks=[reduce_lr_on_plateau, early_stopping]\n",
    ")"
   ]
  },
  {
   "cell_type": "code",
   "execution_count": null,
   "metadata": {
    "execution": {
     "iopub.execute_input": "2023-04-30T05:05:59.058950Z",
     "iopub.status.busy": "2023-04-30T05:05:59.058538Z",
     "iopub.status.idle": "2023-04-30T05:05:59.315662Z",
     "shell.execute_reply": "2023-04-30T05:05:59.314571Z",
     "shell.execute_reply.started": "2023-04-30T05:05:59.058911Z"
    },
    "pycharm": {
     "is_executing": true
    }
   },
   "outputs": [],
   "source": [
    "plt.plot(history.history[\"loss\"])\n",
    "plt.plot(history.history[\"val_loss\"])\n",
    "plt.title(\"model loss\")\n",
    "plt.ylabel(\"loss\")\n",
    "plt.xlabel(\"epoch\")\n",
    "plt.legend([\"train\", \"test\"], loc=\"upper left\")\n",
    "plt.show()"
   ]
  },
  {
   "cell_type": "code",
   "execution_count": 12,
   "metadata": {
    "execution": {
     "iopub.execute_input": "2023-04-30T05:05:59.318239Z",
     "iopub.status.busy": "2023-04-30T05:05:59.317458Z",
     "iopub.status.idle": "2023-04-30T05:06:10.933723Z",
     "shell.execute_reply": "2023-04-30T05:06:10.932604Z",
     "shell.execute_reply.started": "2023-04-30T05:05:59.318201Z"
    }
   },
   "outputs": [
    {
     "name": "stdout",
     "output_type": "stream",
     "text": [
      "4369/4369 [==============================] - 9s 2ms/step\n",
      "[[0.9274967 ]\n",
      " [0.9894901 ]\n",
      " [0.9401887 ]\n",
      " ...\n",
      " [0.99128026]\n",
      " [0.91530746]\n",
      " [0.8837133 ]]\n"
     ]
    }
   ],
   "source": [
    "y_pred = model.predict(x_val)\n",
    "print(y_pred)"
   ]
  },
  {
   "cell_type": "code",
   "execution_count": 13,
   "metadata": {
    "execution": {
     "iopub.execute_input": "2023-04-30T05:06:10.937088Z",
     "iopub.status.busy": "2023-04-30T05:06:10.936598Z",
     "iopub.status.idle": "2023-04-30T05:06:10.946811Z",
     "shell.execute_reply": "2023-04-30T05:06:10.945675Z",
     "shell.execute_reply.started": "2023-04-30T05:06:10.937047Z"
    }
   },
   "outputs": [
    {
     "data": {
      "text/plain": [
       "array([0.9274967 , 0.9894901 , 0.9401887 , ..., 0.99128026, 0.91530746,\n",
       "       0.8837133 ], dtype=float32)"
      ]
     },
     "execution_count": 13,
     "metadata": {},
     "output_type": "execute_result"
    }
   ],
   "source": [
    "y_pred = y_pred.flatten()\n",
    "y_pred"
   ]
  },
  {
   "cell_type": "code",
   "execution_count": 14,
   "metadata": {
    "execution": {
     "iopub.execute_input": "2023-04-30T05:06:10.948435Z",
     "iopub.status.busy": "2023-04-30T05:06:10.947968Z",
     "iopub.status.idle": "2023-04-30T05:06:10.959060Z",
     "shell.execute_reply": "2023-04-30T05:06:10.957880Z",
     "shell.execute_reply.started": "2023-04-30T05:06:10.948398Z"
    }
   },
   "outputs": [
    {
     "data": {
      "text/plain": [
       "array([4.6374836, 4.9474506, 4.7009435, ..., 4.9564013, 4.576537 ,\n",
       "       4.4185667], dtype=float32)"
      ]
     },
     "execution_count": 14,
     "metadata": {},
     "output_type": "execute_result"
    }
   ],
   "source": [
    "y_pred10 = y_pred * 5\n",
    "y_pred10"
   ]
  },
  {
   "cell_type": "code",
   "execution_count": 15,
   "metadata": {
    "execution": {
     "iopub.execute_input": "2023-04-30T05:06:10.961593Z",
     "iopub.status.busy": "2023-04-30T05:06:10.960501Z",
     "iopub.status.idle": "2023-04-30T05:06:10.970482Z",
     "shell.execute_reply": "2023-04-30T05:06:10.969146Z",
     "shell.execute_reply.started": "2023-04-30T05:06:10.961557Z"
    }
   },
   "outputs": [
    {
     "data": {
      "text/plain": [
       "array([3., 5., 5., ..., 5., 5., 5.], dtype=float32)"
      ]
     },
     "execution_count": 15,
     "metadata": {},
     "output_type": "execute_result"
    }
   ],
   "source": [
    "y_val10 = y_val * 5\n",
    "y_val10 = y_val10.values\n",
    "y_val10"
   ]
  },
  {
   "cell_type": "code",
   "execution_count": 20,
   "metadata": {
    "execution": {
     "iopub.execute_input": "2023-04-30T05:10:04.769398Z",
     "iopub.status.busy": "2023-04-30T05:10:04.768971Z",
     "iopub.status.idle": "2023-04-30T05:10:05.067951Z",
     "shell.execute_reply": "2023-04-30T05:10:05.066754Z",
     "shell.execute_reply.started": "2023-04-30T05:10:04.769363Z"
    }
   },
   "outputs": [
    {
     "name": "stdout",
     "output_type": "stream",
     "text": [
      "0.9262021552533416\n",
      "Predicted rating: 4.64 Actual rating: 3.00\n",
      "Predicted rating: 4.95 Actual rating: 5.00\n",
      "Predicted rating: 4.70 Actual rating: 5.00\n",
      "Predicted rating: 3.89 Actual rating: 3.00\n",
      "Predicted rating: 4.55 Actual rating: 5.00\n",
      "Predicted rating: 4.52 Actual rating: 5.00\n",
      "Predicted rating: 4.93 Actual rating: 5.00\n",
      "Predicted rating: 4.94 Actual rating: 5.00\n",
      "Predicted rating: 4.92 Actual rating: 5.00\n",
      "Predicted rating: 3.93 Actual rating: 5.00\n"
     ]
    }
   ],
   "source": [
    "from sklearn.metrics import mean_squared_error\n",
    "from math import sqrt\n",
    "\n",
    "rms = sqrt(mean_squared_error(y_val10, y_pred10))\n",
    "print(rms)\n",
    "\n",
    "for i in range(10):\n",
    "    print(\"Predicted rating: {:.2f}\".format(y_pred10[i]), \"Actual rating: {:.2f}\".format(y_val10[i]))"
   ]
  },
  {
   "cell_type": "code",
   "execution_count": 16,
   "metadata": {
    "execution": {
     "iopub.execute_input": "2023-04-30T05:06:10.972839Z",
     "iopub.status.busy": "2023-04-30T05:06:10.971952Z",
     "iopub.status.idle": "2023-04-30T05:06:12.055157Z",
     "shell.execute_reply": "2023-04-30T05:06:12.054119Z",
     "shell.execute_reply.started": "2023-04-30T05:06:10.972798Z"
    }
   },
   "outputs": [],
   "source": [
    "model.save(\"recommendation\")"
   ]
  },
  {
   "cell_type": "code",
   "execution_count": 17,
   "metadata": {
    "execution": {
     "iopub.execute_input": "2023-04-30T05:06:12.059324Z",
     "iopub.status.busy": "2023-04-30T05:06:12.058969Z",
     "iopub.status.idle": "2023-04-30T05:06:17.021294Z",
     "shell.execute_reply": "2023-04-30T05:06:17.020066Z",
     "shell.execute_reply.started": "2023-04-30T05:06:12.059293Z"
    }
   },
   "outputs": [
    {
     "name": "stdout",
     "output_type": "stream",
     "text": [
      "  adding: recommendation/ (stored 0%)\n",
      "  adding: recommendation/saved_model.pb (deflated 89%)\n",
      "  adding: recommendation/variables/ (stored 0%)\n",
      "  adding: recommendation/variables/variables.index (deflated 59%)\n",
      "  adding: recommendation/variables/variables.data-00000-of-00001 (deflated 39%)\n",
      "  adding: recommendation/keras_metadata.pb (deflated 81%)\n",
      "  adding: recommendation/assets/ (stored 0%)\n",
      "  adding: recommendation/fingerprint.pb (stored 0%)\n"
     ]
    }
   ],
   "source": [
    "!zip -r model.zip recommendation"
   ]
  },
  {
   "cell_type": "code",
   "execution_count": 18,
   "metadata": {
    "execution": {
     "iopub.execute_input": "2023-04-30T05:07:20.257881Z",
     "iopub.status.busy": "2023-04-30T05:07:20.257425Z",
     "iopub.status.idle": "2023-04-30T05:07:20.264578Z",
     "shell.execute_reply": "2023-04-30T05:07:20.263343Z",
     "shell.execute_reply.started": "2023-04-30T05:07:20.257839Z"
    }
   },
   "outputs": [],
   "source": [
    "from tensorflow import keras"
   ]
  },
  {
   "cell_type": "code",
   "execution_count": 19,
   "metadata": {
    "execution": {
     "iopub.execute_input": "2023-04-30T05:07:21.146324Z",
     "iopub.status.busy": "2023-04-30T05:07:21.145661Z",
     "iopub.status.idle": "2023-04-30T05:07:21.529947Z",
     "shell.execute_reply": "2023-04-30T05:07:21.528911Z",
     "shell.execute_reply.started": "2023-04-30T05:07:21.146289Z"
    }
   },
   "outputs": [],
   "source": [
    "model = keras.models.load_model('recommendation')"
   ]
  }
 ],
 "metadata": {
  "kernelspec": {
   "display_name": "Python 3 (ipykernel)",
   "language": "python",
   "name": "python3"
  },
  "language_info": {
   "codemirror_mode": {
    "name": "ipython",
    "version": 3
   },
   "file_extension": ".py",
   "mimetype": "text/x-python",
   "name": "python",
   "nbconvert_exporter": "python",
   "pygments_lexer": "ipython3",
   "version": "3.9.6"
  }
 },
 "nbformat": 4,
 "nbformat_minor": 4
}
