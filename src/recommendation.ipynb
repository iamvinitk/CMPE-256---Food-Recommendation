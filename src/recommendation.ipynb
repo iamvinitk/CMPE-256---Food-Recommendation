{
 "cells": [
  {
   "cell_type": "code",
   "execution_count": 4,
   "metadata": {
    "_cell_guid": "b1076dfc-b9ad-4769-8c92-a6c4dae69d19",
    "_uuid": "8f2839f25d086af736a60e9eeb907d3b93b6e0e5",
    "execution": {
     "iopub.execute_input": "2023-04-30T04:55:59.401326Z",
     "iopub.status.busy": "2023-04-30T04:55:59.400796Z",
     "iopub.status.idle": "2023-04-30T04:56:07.349267Z",
     "shell.execute_reply": "2023-04-30T04:56:07.348116Z",
     "shell.execute_reply.started": "2023-04-30T04:55:59.401297Z"
    }
   },
   "outputs": [],
   "source": [
    "import matplotlib.pyplot as plt\n",
    "import numpy as np\n",
    "import pandas as pd\n",
    "import tensorflow as tf\n",
    "from keras import layers\n",
    "from tensorflow import keras"
   ]
  },
  {
   "cell_type": "code",
   "execution_count": 5,
   "metadata": {
    "execution": {
     "iopub.execute_input": "2023-04-30T04:56:07.352072Z",
     "iopub.status.busy": "2023-04-30T04:56:07.351255Z",
     "iopub.status.idle": "2023-04-30T04:56:08.053614Z",
     "shell.execute_reply": "2023-04-30T04:56:08.052670Z",
     "shell.execute_reply.started": "2023-04-30T04:56:07.352032Z"
    }
   },
   "outputs": [
    {
     "data": {
      "text/plain": "        user_id  recipe_id        date  rating   \n0          7708      60599  2005-09-02       4  \\\n1         27707      60599  2005-12-22       5   \n2         35308      60599  2006-09-26       5   \n3         19399      60599  2007-03-09       5   \n4         43887      60599  2008-02-20       0   \n...         ...        ...         ...     ...   \n942363    10188      22092  2007-04-26       0   \n942364    51769     161871  2009-09-29       5   \n942365    15786      33054  2008-06-23       5   \n942366     5051      33054  2009-01-11       4   \n942367   181745      33054  2017-12-18       5   \n\n                                                   review   \n0                                               very good  \\\n1                                    better than the real   \n2       absolutely awesome i was speechless when i tri...   \n3       these taste absolutely wonderful my son in law...   \n4       made my own buttermilk w vinegar and milk. use...   \n...                                                   ...   \n942363  i am not going to rate this because i did have...   \n942364  these were so delicious my husband and i truly...   \n942365  wow sometimes i do not take the time to rate r...   \n942366  very good i used regular port as well. the gra...   \n942367  i am so glad i googled and found this here. th...   \n\n                                   name  minutes  contributor_id   submitted   \n0                  kfc honey bbq strips       40          166019  2005-08-24  \\\n1                  kfc honey bbq strips       40          166019  2005-08-24   \n2                  kfc honey bbq strips       40          166019  2005-08-24   \n3                  kfc honey bbq strips       40          166019  2005-08-24   \n4                  kfc honey bbq strips       40          166019  2005-08-24   \n...                                 ...      ...             ...         ...   \n942363             garlic clove chicken       65           49304  2003-02-21   \n942364  stacey e s yummy veggie burgers       21          742029  2009-08-24   \n942365   pot roast with port  stove top      115          108291  2003-12-05   \n942366   pot roast with port  stove top      115          108291  2003-12-05   \n942367   pot roast with port  stove top      115          108291  2003-12-05   \n\n                                                     tags  ...  sugar sodium   \n0       60-minutes-or-less, time-to-make, main-ingredi...  ...   40.0   37.0  \\\n1       60-minutes-or-less, time-to-make, main-ingredi...  ...   40.0   37.0   \n2       60-minutes-or-less, time-to-make, main-ingredi...  ...   40.0   37.0   \n3       60-minutes-or-less, time-to-make, main-ingredi...  ...   40.0   37.0   \n4       60-minutes-or-less, time-to-make, main-ingredi...  ...   40.0   37.0   \n...                                                   ...  ...    ...    ...   \n942363  weeknight, time-to-make, course, main-ingredie...  ...    1.0    7.0   \n942364  30-minutes-or-less, time-to-make, course, main...  ...   11.0   24.0   \n942365  weeknight, time-to-make, course, preparation, ...  ...   22.0   20.0   \n942366  weeknight, time-to-make, course, preparation, ...  ...   22.0   20.0   \n942367  weeknight, time-to-make, course, preparation, ...  ...   22.0   20.0   \n\n       protein saturated_fat  carbohydrates  food_types  negative  neutral   \n0         78.0           4.0           10.0     Non-veg     0.000    0.238  \\\n1         78.0           4.0           10.0     Non-veg     0.000    0.508   \n2         78.0           4.0           10.0     Non-veg     0.000    0.883   \n3         78.0           4.0           10.0     Non-veg     0.000    0.675   \n4         78.0           4.0           10.0     Non-veg     0.000    0.929   \n...        ...           ...            ...         ...       ...      ...   \n942363    53.0          29.0            2.0     Non-veg     0.071    0.929   \n942364    10.0           0.0            8.0     Healthy     0.000    0.752   \n942365    93.0         112.0            4.0         Veg     0.063    0.749   \n942366    93.0         112.0            4.0         Veg     0.000    0.584   \n942367    93.0         112.0            4.0         Veg     0.010    0.799   \n\n        positive  compound  \n0          0.762    0.4927  \n1          0.492    0.4404  \n2          0.117    0.6590  \n3          0.325    0.8908  \n4          0.071    0.4588  \n...          ...       ...  \n942363     0.000   -0.5075  \n942364     0.248    0.9609  \n942365     0.188    0.9520  \n942366     0.416    0.8856  \n942367     0.190    0.9824  \n\n[942368 rows x 27 columns]",
      "text/html": "<div>\n<style scoped>\n    .dataframe tbody tr th:only-of-type {\n        vertical-align: middle;\n    }\n\n    .dataframe tbody tr th {\n        vertical-align: top;\n    }\n\n    .dataframe thead th {\n        text-align: right;\n    }\n</style>\n<table border=\"1\" class=\"dataframe\">\n  <thead>\n    <tr style=\"text-align: right;\">\n      <th></th>\n      <th>user_id</th>\n      <th>recipe_id</th>\n      <th>date</th>\n      <th>rating</th>\n      <th>review</th>\n      <th>name</th>\n      <th>minutes</th>\n      <th>contributor_id</th>\n      <th>submitted</th>\n      <th>tags</th>\n      <th>...</th>\n      <th>sugar</th>\n      <th>sodium</th>\n      <th>protein</th>\n      <th>saturated_fat</th>\n      <th>carbohydrates</th>\n      <th>food_types</th>\n      <th>negative</th>\n      <th>neutral</th>\n      <th>positive</th>\n      <th>compound</th>\n    </tr>\n  </thead>\n  <tbody>\n    <tr>\n      <th>0</th>\n      <td>7708</td>\n      <td>60599</td>\n      <td>2005-09-02</td>\n      <td>4</td>\n      <td>very good</td>\n      <td>kfc honey bbq strips</td>\n      <td>40</td>\n      <td>166019</td>\n      <td>2005-08-24</td>\n      <td>60-minutes-or-less, time-to-make, main-ingredi...</td>\n      <td>...</td>\n      <td>40.0</td>\n      <td>37.0</td>\n      <td>78.0</td>\n      <td>4.0</td>\n      <td>10.0</td>\n      <td>Non-veg</td>\n      <td>0.000</td>\n      <td>0.238</td>\n      <td>0.762</td>\n      <td>0.4927</td>\n    </tr>\n    <tr>\n      <th>1</th>\n      <td>27707</td>\n      <td>60599</td>\n      <td>2005-12-22</td>\n      <td>5</td>\n      <td>better than the real</td>\n      <td>kfc honey bbq strips</td>\n      <td>40</td>\n      <td>166019</td>\n      <td>2005-08-24</td>\n      <td>60-minutes-or-less, time-to-make, main-ingredi...</td>\n      <td>...</td>\n      <td>40.0</td>\n      <td>37.0</td>\n      <td>78.0</td>\n      <td>4.0</td>\n      <td>10.0</td>\n      <td>Non-veg</td>\n      <td>0.000</td>\n      <td>0.508</td>\n      <td>0.492</td>\n      <td>0.4404</td>\n    </tr>\n    <tr>\n      <th>2</th>\n      <td>35308</td>\n      <td>60599</td>\n      <td>2006-09-26</td>\n      <td>5</td>\n      <td>absolutely awesome i was speechless when i tri...</td>\n      <td>kfc honey bbq strips</td>\n      <td>40</td>\n      <td>166019</td>\n      <td>2005-08-24</td>\n      <td>60-minutes-or-less, time-to-make, main-ingredi...</td>\n      <td>...</td>\n      <td>40.0</td>\n      <td>37.0</td>\n      <td>78.0</td>\n      <td>4.0</td>\n      <td>10.0</td>\n      <td>Non-veg</td>\n      <td>0.000</td>\n      <td>0.883</td>\n      <td>0.117</td>\n      <td>0.6590</td>\n    </tr>\n    <tr>\n      <th>3</th>\n      <td>19399</td>\n      <td>60599</td>\n      <td>2007-03-09</td>\n      <td>5</td>\n      <td>these taste absolutely wonderful my son in law...</td>\n      <td>kfc honey bbq strips</td>\n      <td>40</td>\n      <td>166019</td>\n      <td>2005-08-24</td>\n      <td>60-minutes-or-less, time-to-make, main-ingredi...</td>\n      <td>...</td>\n      <td>40.0</td>\n      <td>37.0</td>\n      <td>78.0</td>\n      <td>4.0</td>\n      <td>10.0</td>\n      <td>Non-veg</td>\n      <td>0.000</td>\n      <td>0.675</td>\n      <td>0.325</td>\n      <td>0.8908</td>\n    </tr>\n    <tr>\n      <th>4</th>\n      <td>43887</td>\n      <td>60599</td>\n      <td>2008-02-20</td>\n      <td>0</td>\n      <td>made my own buttermilk w vinegar and milk. use...</td>\n      <td>kfc honey bbq strips</td>\n      <td>40</td>\n      <td>166019</td>\n      <td>2005-08-24</td>\n      <td>60-minutes-or-less, time-to-make, main-ingredi...</td>\n      <td>...</td>\n      <td>40.0</td>\n      <td>37.0</td>\n      <td>78.0</td>\n      <td>4.0</td>\n      <td>10.0</td>\n      <td>Non-veg</td>\n      <td>0.000</td>\n      <td>0.929</td>\n      <td>0.071</td>\n      <td>0.4588</td>\n    </tr>\n    <tr>\n      <th>...</th>\n      <td>...</td>\n      <td>...</td>\n      <td>...</td>\n      <td>...</td>\n      <td>...</td>\n      <td>...</td>\n      <td>...</td>\n      <td>...</td>\n      <td>...</td>\n      <td>...</td>\n      <td>...</td>\n      <td>...</td>\n      <td>...</td>\n      <td>...</td>\n      <td>...</td>\n      <td>...</td>\n      <td>...</td>\n      <td>...</td>\n      <td>...</td>\n      <td>...</td>\n      <td>...</td>\n    </tr>\n    <tr>\n      <th>942363</th>\n      <td>10188</td>\n      <td>22092</td>\n      <td>2007-04-26</td>\n      <td>0</td>\n      <td>i am not going to rate this because i did have...</td>\n      <td>garlic clove chicken</td>\n      <td>65</td>\n      <td>49304</td>\n      <td>2003-02-21</td>\n      <td>weeknight, time-to-make, course, main-ingredie...</td>\n      <td>...</td>\n      <td>1.0</td>\n      <td>7.0</td>\n      <td>53.0</td>\n      <td>29.0</td>\n      <td>2.0</td>\n      <td>Non-veg</td>\n      <td>0.071</td>\n      <td>0.929</td>\n      <td>0.000</td>\n      <td>-0.5075</td>\n    </tr>\n    <tr>\n      <th>942364</th>\n      <td>51769</td>\n      <td>161871</td>\n      <td>2009-09-29</td>\n      <td>5</td>\n      <td>these were so delicious my husband and i truly...</td>\n      <td>stacey e s yummy veggie burgers</td>\n      <td>21</td>\n      <td>742029</td>\n      <td>2009-08-24</td>\n      <td>30-minutes-or-less, time-to-make, course, main...</td>\n      <td>...</td>\n      <td>11.0</td>\n      <td>24.0</td>\n      <td>10.0</td>\n      <td>0.0</td>\n      <td>8.0</td>\n      <td>Healthy</td>\n      <td>0.000</td>\n      <td>0.752</td>\n      <td>0.248</td>\n      <td>0.9609</td>\n    </tr>\n    <tr>\n      <th>942365</th>\n      <td>15786</td>\n      <td>33054</td>\n      <td>2008-06-23</td>\n      <td>5</td>\n      <td>wow sometimes i do not take the time to rate r...</td>\n      <td>pot roast with port  stove top</td>\n      <td>115</td>\n      <td>108291</td>\n      <td>2003-12-05</td>\n      <td>weeknight, time-to-make, course, preparation, ...</td>\n      <td>...</td>\n      <td>22.0</td>\n      <td>20.0</td>\n      <td>93.0</td>\n      <td>112.0</td>\n      <td>4.0</td>\n      <td>Veg</td>\n      <td>0.063</td>\n      <td>0.749</td>\n      <td>0.188</td>\n      <td>0.9520</td>\n    </tr>\n    <tr>\n      <th>942366</th>\n      <td>5051</td>\n      <td>33054</td>\n      <td>2009-01-11</td>\n      <td>4</td>\n      <td>very good i used regular port as well. the gra...</td>\n      <td>pot roast with port  stove top</td>\n      <td>115</td>\n      <td>108291</td>\n      <td>2003-12-05</td>\n      <td>weeknight, time-to-make, course, preparation, ...</td>\n      <td>...</td>\n      <td>22.0</td>\n      <td>20.0</td>\n      <td>93.0</td>\n      <td>112.0</td>\n      <td>4.0</td>\n      <td>Veg</td>\n      <td>0.000</td>\n      <td>0.584</td>\n      <td>0.416</td>\n      <td>0.8856</td>\n    </tr>\n    <tr>\n      <th>942367</th>\n      <td>181745</td>\n      <td>33054</td>\n      <td>2017-12-18</td>\n      <td>5</td>\n      <td>i am so glad i googled and found this here. th...</td>\n      <td>pot roast with port  stove top</td>\n      <td>115</td>\n      <td>108291</td>\n      <td>2003-12-05</td>\n      <td>weeknight, time-to-make, course, preparation, ...</td>\n      <td>...</td>\n      <td>22.0</td>\n      <td>20.0</td>\n      <td>93.0</td>\n      <td>112.0</td>\n      <td>4.0</td>\n      <td>Veg</td>\n      <td>0.010</td>\n      <td>0.799</td>\n      <td>0.190</td>\n      <td>0.9824</td>\n    </tr>\n  </tbody>\n</table>\n<p>942368 rows × 27 columns</p>\n</div>"
     },
     "execution_count": 5,
     "metadata": {},
     "output_type": "execute_result"
    }
   ],
   "source": [
    "df = pd.read_csv(\"../dataset/preprocessed_data.csv\")\n",
    "df"
   ]
  },
  {
   "cell_type": "code",
   "execution_count": 7,
   "metadata": {
    "execution": {
     "iopub.execute_input": "2023-04-30T04:56:21.838696Z",
     "iopub.status.busy": "2023-04-30T04:56:21.838112Z",
     "iopub.status.idle": "2023-04-30T04:56:22.501307Z",
     "shell.execute_reply": "2023-04-30T04:56:22.500318Z",
     "shell.execute_reply.started": "2023-04-30T04:56:21.838650Z"
    }
   },
   "outputs": [
    {
     "name": "stdout",
     "output_type": "stream",
     "text": [
      "Number of users: 192751, Number of Recipes: 194084, Min rating: 0.0, Max rating: 5.0\n"
     ]
    }
   ],
   "source": [
    "df = df.sample(frac=1, random_state=42)\n",
    "\n",
    "user_ids = df[\"user_id\"].unique().tolist()\n",
    "user2user_encoded = {x: i for i, x in enumerate(user_ids)}\n",
    "userencoded2user = {i: x for i, x in enumerate(user_ids)}\n",
    "recipe_ids = df[\"recipe_id\"].unique().tolist()\n",
    "recipe2recipe_encoded = {x: i for i, x in enumerate(recipe_ids)}\n",
    "recipe_encoded2recipe = {i: x for i, x in enumerate(recipe_ids)}\n",
    "df[\"user\"] = df[\"user_id\"].map(user2user_encoded)\n",
    "df[\"recipe\"] = df[\"recipe_id\"].map(recipe2recipe_encoded)\n",
    "\n",
    "num_users = len(user2user_encoded)\n",
    "num_recipes = len(recipe_encoded2recipe)\n",
    "df[\"rating\"] = df[\"rating\"].values.astype(np.float32)\n",
    "\n",
    "# min and max ratings will be used to normalize the ratings later\n",
    "min_rating = min(df[\"rating\"])\n",
    "max_rating = max(df[\"rating\"])\n",
    "\n",
    "print(\n",
    "    \"Number of users: {}, Number of Recipes: {}, Min rating: {}, Max rating: {}\".format(\n",
    "        num_users, num_recipes, min_rating, max_rating\n",
    "    )\n",
    ")"
   ]
  },
  {
   "cell_type": "code",
   "execution_count": 8,
   "metadata": {
    "execution": {
     "iopub.execute_input": "2023-04-30T04:56:24.457773Z",
     "iopub.status.busy": "2023-04-30T04:56:24.457185Z",
     "iopub.status.idle": "2023-04-30T04:56:24.499991Z",
     "shell.execute_reply": "2023-04-30T04:56:24.498802Z",
     "shell.execute_reply.started": "2023-04-30T04:56:24.457729Z"
    }
   },
   "outputs": [],
   "source": [
    "x = df[[\"user\", \"recipe\"]].values\n",
    "# Normalize the targets between 0 and 1. Makes it easy to train.\n",
    "y = df[\"rating\"] / 5\n",
    "# Assuming training on 90% of the data and validating on 10%.\n",
    "train_indices = int(0.8 * df.shape[0])\n",
    "x_train, x_val, y_train, y_val = (\n",
    "    x[:train_indices],\n",
    "    x[train_indices:],\n",
    "    y[:train_indices],\n",
    "    y[train_indices:],\n",
    ")"
   ]
  },
  {
   "cell_type": "code",
   "execution_count": 10,
   "metadata": {
    "execution": {
     "iopub.execute_input": "2023-04-30T04:56:25.891440Z",
     "iopub.status.busy": "2023-04-30T04:56:25.890846Z",
     "iopub.status.idle": "2023-04-30T04:56:28.907719Z",
     "shell.execute_reply": "2023-04-30T04:56:28.906645Z",
     "shell.execute_reply.started": "2023-04-30T04:56:25.891391Z"
    }
   },
   "outputs": [
    {
     "name": "stdout",
     "output_type": "stream",
     "text": [
      "Metal device set to: Apple M1 Pro\n",
      "INFO:tensorflow:Using MirroredStrategy with devices ('/job:localhost/replica:0/task:0/device:GPU:0',)\n",
      "Number of devices: 1\n"
     ]
    }
   ],
   "source": [
    "strategy = tf.distribute.MirroredStrategy()\n",
    "print('Number of devices: {}'.format(strategy.num_replicas_in_sync))"
   ]
  },
  {
   "cell_type": "code",
   "execution_count": 11,
   "metadata": {
    "execution": {
     "iopub.execute_input": "2023-04-30T04:56:45.145564Z",
     "iopub.status.busy": "2023-04-30T04:56:45.144554Z",
     "iopub.status.idle": "2023-04-30T04:56:45.192742Z",
     "shell.execute_reply": "2023-04-30T04:56:45.191734Z",
     "shell.execute_reply.started": "2023-04-30T04:56:45.145529Z"
    }
   },
   "outputs": [
    {
     "name": "stderr",
     "output_type": "stream",
     "text": [
      "WARNING:absl:At this time, the v2.11+ optimizer `tf.keras.optimizers.Adam` runs slowly on M1/M2 Macs, please use the legacy Keras optimizer instead, located at `tf.keras.optimizers.legacy.Adam`.\n",
      "WARNING:absl:There is a known slowdown when using v2.11+ Keras optimizers on M1/M2 Macs. Falling back to the legacy Keras optimizer, i.e., `tf.keras.optimizers.legacy.Adam`.\n"
     ]
    }
   ],
   "source": [
    "from keras.callbacks import EarlyStopping, ReduceLROnPlateau\n",
    "\n",
    "EMBEDDING_SIZE = 32\n",
    "\n",
    "\n",
    "class RecommenderNet(keras.Model):\n",
    "    def __init__(self, num_users, num_recipes, embedding_size, **kwargs):\n",
    "        super().__init__(**kwargs)\n",
    "        self.num_users = num_users\n",
    "        self.num_recipes = num_recipes\n",
    "        self.embedding_size = embedding_size\n",
    "        self.user_embedding = layers.Embedding(\n",
    "            num_users,\n",
    "            embedding_size,\n",
    "            embeddings_initializer=\"he_normal\",\n",
    "            embeddings_regularizer=keras.regularizers.l2(1e-1),\n",
    "        )\n",
    "        self.user_bias = layers.Embedding(num_users, 1)\n",
    "        self.recipe_embedding = layers.Embedding(\n",
    "            num_recipes,\n",
    "            embedding_size,\n",
    "            embeddings_initializer=\"he_normal\",\n",
    "            embeddings_regularizer=keras.regularizers.l2(1e-1),\n",
    "        )\n",
    "        self.recipe_bias = layers.Embedding(num_recipes, 1)\n",
    "\n",
    "    def call(self, inputs):\n",
    "        user_vector = self.user_embedding(inputs[:, 0])\n",
    "        user_bias = self.user_bias(inputs[:, 0])\n",
    "        recipe_vector = self.recipe_embedding(inputs[:, 1])\n",
    "        recipe_bias = self.recipe_bias(inputs[:, 1])\n",
    "        dot_user_recipe = tf.tensordot(user_vector, recipe_vector, 2)\n",
    "        # Add all the components (including bias)\n",
    "        x = dot_user_recipe + user_bias + recipe_bias\n",
    "        # The sigmoid activation forces the rating to between 0 and 1\n",
    "        return tf.nn.sigmoid(x)\n",
    "\n",
    "\n",
    "# with strategy.scope():\n",
    "model = RecommenderNet(num_users, num_recipes, EMBEDDING_SIZE)\n",
    "\n",
    "early_stopping = EarlyStopping(monitor='val_loss', patience=5, restore_best_weights=True)\n",
    "reduce_lr_on_plateau = ReduceLROnPlateau(monitor='val_loss', factor=0.2, patience=3, min_lr=1e-8, verbose=1)\n",
    "\n",
    "model.compile(\n",
    "    optimizer=keras.optimizers.Adam(learning_rate=0.001),\n",
    "    loss='mean_squared_error', metrics=['mse']\n",
    ")"
   ]
  },
  {
   "cell_type": "code",
   "execution_count": 12,
   "metadata": {
    "execution": {
     "iopub.execute_input": "2023-04-30T04:56:46.753661Z",
     "iopub.status.busy": "2023-04-30T04:56:46.753268Z",
     "iopub.status.idle": "2023-04-30T05:05:59.056458Z",
     "shell.execute_reply": "2023-04-30T05:05:59.055381Z",
     "shell.execute_reply.started": "2023-04-30T04:56:46.753608Z"
    }
   },
   "outputs": [
    {
     "name": "stdout",
     "output_type": "stream",
     "text": [
      "Epoch 1/50\n"
     ]
    },
    {
     "name": "stderr",
     "output_type": "stream",
     "text": [
      "2023-04-29 23:05:20.838241: W tensorflow/tsl/platform/profile_utils/cpu_utils.cc:128] Failed to get CPU frequency: 0 Hz\n"
     ]
    },
    {
     "name": "stdout",
     "output_type": "stream",
     "text": [
      "5890/5890 [==============================] - 185s 31ms/step - loss: 0.1520 - mse: 0.1433 - val_loss: 0.1063 - val_mse: 0.1045 - lr: 0.0010\n",
      "Epoch 2/50\n",
      "5890/5890 [==============================] - 178s 30ms/step - loss: 0.0887 - mse: 0.0871 - val_loss: 0.0819 - val_mse: 0.0801 - lr: 0.0010\n",
      "Epoch 3/50\n",
      "5890/5890 [==============================] - 179s 30ms/step - loss: 0.0707 - mse: 0.0695 - val_loss: 0.0724 - val_mse: 0.0708 - lr: 0.0010\n",
      "Epoch 4/50\n",
      "5890/5890 [==============================] - 180s 31ms/step - loss: 0.0620 - mse: 0.0609 - val_loss: 0.0676 - val_mse: 0.0662 - lr: 0.0010\n",
      "Epoch 5/50\n",
      "5890/5890 [==============================] - 186s 32ms/step - loss: 0.0566 - mse: 0.0556 - val_loss: 0.0647 - val_mse: 0.0634 - lr: 0.0010\n",
      "Epoch 6/50\n",
      "5890/5890 [==============================] - 194s 33ms/step - loss: 0.0528 - mse: 0.0518 - val_loss: 0.0628 - val_mse: 0.0617 - lr: 0.0010\n",
      "Epoch 7/50\n",
      "5890/5890 [==============================] - 188s 32ms/step - loss: 0.0499 - mse: 0.0490 - val_loss: 0.0615 - val_mse: 0.0605 - lr: 0.0010\n",
      "Epoch 8/50\n",
      "5890/5890 [==============================] - 188s 32ms/step - loss: 0.0475 - mse: 0.0466 - val_loss: 0.0606 - val_mse: 0.0597 - lr: 0.0010\n",
      "Epoch 9/50\n",
      "5890/5890 [==============================] - 178s 30ms/step - loss: 0.0456 - mse: 0.0447 - val_loss: 0.0600 - val_mse: 0.0591 - lr: 0.0010\n",
      "Epoch 10/50\n",
      "5890/5890 [==============================] - 179s 30ms/step - loss: 0.0439 - mse: 0.0430 - val_loss: 0.0596 - val_mse: 0.0587 - lr: 0.0010\n",
      "Epoch 11/50\n",
      "5890/5890 [==============================] - 188s 32ms/step - loss: 0.0424 - mse: 0.0415 - val_loss: 0.0593 - val_mse: 0.0584 - lr: 0.0010\n",
      "Epoch 12/50\n",
      "5890/5890 [==============================] - 190s 32ms/step - loss: 0.0411 - mse: 0.0402 - val_loss: 0.0590 - val_mse: 0.0582 - lr: 0.0010\n",
      "Epoch 13/50\n",
      "5890/5890 [==============================] - 192s 33ms/step - loss: 0.0399 - mse: 0.0390 - val_loss: 0.0589 - val_mse: 0.0580 - lr: 0.0010\n",
      "Epoch 14/50\n",
      "5890/5890 [==============================] - 191s 32ms/step - loss: 0.0388 - mse: 0.0379 - val_loss: 0.0588 - val_mse: 0.0579 - lr: 0.0010\n",
      "Epoch 15/50\n",
      "5890/5890 [==============================] - 190s 32ms/step - loss: 0.0378 - mse: 0.0369 - val_loss: 0.0587 - val_mse: 0.0579 - lr: 0.0010\n",
      "Epoch 16/50\n",
      "5890/5890 [==============================] - 188s 32ms/step - loss: 0.0369 - mse: 0.0360 - val_loss: 0.0587 - val_mse: 0.0579 - lr: 0.0010\n",
      "Epoch 17/50\n",
      "5890/5890 [==============================] - 188s 32ms/step - loss: 0.0360 - mse: 0.0352 - val_loss: 0.0588 - val_mse: 0.0579 - lr: 0.0010\n",
      "Epoch 18/50\n",
      "5890/5890 [==============================] - ETA: 0s - loss: 0.0352 - mse: 0.0344\n",
      "Epoch 18: ReduceLROnPlateau reducing learning rate to 0.00020000000949949026.\n",
      "5890/5890 [==============================] - 188s 32ms/step - loss: 0.0352 - mse: 0.0344 - val_loss: 0.0588 - val_mse: 0.0579 - lr: 0.0010\n",
      "Epoch 19/50\n",
      "5890/5890 [==============================] - 188s 32ms/step - loss: 0.0334 - mse: 0.0334 - val_loss: 0.0580 - val_mse: 0.0580 - lr: 2.0000e-04\n",
      "Epoch 20/50\n",
      "5890/5890 [==============================] - 180s 31ms/step - loss: 0.0333 - mse: 0.0332 - val_loss: 0.0580 - val_mse: 0.0580 - lr: 2.0000e-04\n",
      "Epoch 21/50\n",
      "5890/5890 [==============================] - 175s 30ms/step - loss: 0.0331 - mse: 0.0331 - val_loss: 0.0581 - val_mse: 0.0580 - lr: 2.0000e-04\n",
      "Epoch 22/50\n",
      "5890/5890 [==============================] - ETA: 0s - loss: 0.0330 - mse: 0.0329\n",
      "Epoch 22: ReduceLROnPlateau reducing learning rate to 4.0000001899898055e-05.\n",
      "5890/5890 [==============================] - 183s 31ms/step - loss: 0.0330 - mse: 0.0329 - val_loss: 0.0581 - val_mse: 0.0580 - lr: 2.0000e-04\n",
      "Epoch 23/50\n",
      "5890/5890 [==============================] - 185s 31ms/step - loss: 0.0327 - mse: 0.0327 - val_loss: 0.0580 - val_mse: 0.0580 - lr: 4.0000e-05\n",
      "Epoch 24/50\n",
      "5890/5890 [==============================] - 179s 30ms/step - loss: 0.0327 - mse: 0.0327 - val_loss: 0.0580 - val_mse: 0.0580 - lr: 4.0000e-05\n",
      "Epoch 25/50\n",
      "5890/5890 [==============================] - ETA: 0s - loss: 0.0327 - mse: 0.0327\n",
      "Epoch 25: ReduceLROnPlateau reducing learning rate to 8.000000525498762e-06.\n",
      "5890/5890 [==============================] - 190s 32ms/step - loss: 0.0327 - mse: 0.0327 - val_loss: 0.0580 - val_mse: 0.0580 - lr: 4.0000e-05\n",
      "Epoch 26/50\n",
      "5890/5890 [==============================] - 190s 32ms/step - loss: 0.0326 - mse: 0.0326 - val_loss: 0.0580 - val_mse: 0.0580 - lr: 8.0000e-06\n",
      "Epoch 27/50\n",
      "5890/5890 [==============================] - 187s 32ms/step - loss: 0.0326 - mse: 0.0326 - val_loss: 0.0580 - val_mse: 0.0580 - lr: 8.0000e-06\n",
      "Epoch 28/50\n",
      "5889/5890 [============================>.] - ETA: 0s - loss: 0.0326 - mse: 0.0326\n",
      "Epoch 28: ReduceLROnPlateau reducing learning rate to 1.6000001778593287e-06.\n",
      "5890/5890 [==============================] - 187s 32ms/step - loss: 0.0326 - mse: 0.0326 - val_loss: 0.0580 - val_mse: 0.0580 - lr: 8.0000e-06\n"
     ]
    }
   ],
   "source": [
    "history = model.fit(\n",
    "    x=x_train,\n",
    "    y=y_train,\n",
    "    batch_size=128,\n",
    "    epochs=50,\n",
    "    verbose=1,\n",
    "    validation_data=(x_val, y_val),\n",
    "    callbacks=[reduce_lr_on_plateau, early_stopping]\n",
    ")"
   ]
  },
  {
   "cell_type": "code",
   "execution_count": 13,
   "metadata": {
    "execution": {
     "iopub.execute_input": "2023-04-30T05:05:59.058950Z",
     "iopub.status.busy": "2023-04-30T05:05:59.058538Z",
     "iopub.status.idle": "2023-04-30T05:05:59.315662Z",
     "shell.execute_reply": "2023-04-30T05:05:59.314571Z",
     "shell.execute_reply.started": "2023-04-30T05:05:59.058911Z"
    }
   },
   "outputs": [
    {
     "data": {
      "text/plain": "<Figure size 640x480 with 1 Axes>",
      "image/png": "[encoded data removed]"
     },
     "metadata": {},
     "output_type": "display_data"
    }
   ],
   "source": [
    "plt.plot(history.history[\"loss\"])\n",
    "plt.plot(history.history[\"val_loss\"])\n",
    "plt.title(\"model loss\")\n",
    "plt.ylabel(\"loss\")\n",
    "plt.xlabel(\"epoch\")\n",
    "plt.legend([\"train\", \"test\"], loc=\"upper left\")\n",
    "plt.show()"
   ]
  },
  {
   "cell_type": "code",
   "execution_count": 14,
   "metadata": {
    "execution": {
     "iopub.execute_input": "2023-04-30T05:05:59.318239Z",
     "iopub.status.busy": "2023-04-30T05:05:59.317458Z",
     "iopub.status.idle": "2023-04-30T05:06:10.933723Z",
     "shell.execute_reply": "2023-04-30T05:06:10.932604Z",
     "shell.execute_reply.started": "2023-04-30T05:05:59.318201Z"
    }
   },
   "outputs": [
    {
     "name": "stdout",
     "output_type": "stream",
     "text": [
      "5890/5890 [==============================] - 44s 7ms/step\n",
      "[[0.99335265]\n",
      " [0.9494746 ]\n",
      " [0.8934235 ]\n",
      " ...\n",
      " [0.9787298 ]\n",
      " [0.87761104]\n",
      " [0.8034549 ]]\n"
     ]
    }
   ],
   "source": [
    "y_pred = model.predict(x_val)\n",
    "print(y_pred)"
   ]
  },
  {
   "cell_type": "code",
   "execution_count": 15,
   "metadata": {
    "execution": {
     "iopub.execute_input": "2023-04-30T05:06:10.937088Z",
     "iopub.status.busy": "2023-04-30T05:06:10.936598Z",
     "iopub.status.idle": "2023-04-30T05:06:10.946811Z",
     "shell.execute_reply": "2023-04-30T05:06:10.945675Z",
     "shell.execute_reply.started": "2023-04-30T05:06:10.937047Z"
    }
   },
   "outputs": [
    {
     "data": {
      "text/plain": "array([0.99335265, 0.9494746 , 0.8934235 , ..., 0.9787298 , 0.87761104,\n       0.8034549 ], dtype=float32)"
     },
     "execution_count": 15,
     "metadata": {},
     "output_type": "execute_result"
    }
   ],
   "source": [
    "y_pred = y_pred.flatten()\n",
    "y_pred"
   ]
  },
  {
   "cell_type": "code",
   "execution_count": 16,
   "metadata": {
    "execution": {
     "iopub.execute_input": "2023-04-30T05:06:10.948435Z",
     "iopub.status.busy": "2023-04-30T05:06:10.947968Z",
     "iopub.status.idle": "2023-04-30T05:06:10.959060Z",
     "shell.execute_reply": "2023-04-30T05:06:10.957880Z",
     "shell.execute_reply.started": "2023-04-30T05:06:10.948398Z"
    }
   },
   "outputs": [
    {
     "data": {
      "text/plain": "array([4.9667635, 4.7473726, 4.4671173, ..., 4.893649 , 4.3880553,\n       4.0172744], dtype=float32)"
     },
     "execution_count": 16,
     "metadata": {},
     "output_type": "execute_result"
    }
   ],
   "source": [
    "y_pred10 = y_pred * 5\n",
    "y_pred10"
   ]
  },
  {
   "cell_type": "code",
   "execution_count": 17,
   "metadata": {
    "execution": {
     "iopub.execute_input": "2023-04-30T05:06:10.961593Z",
     "iopub.status.busy": "2023-04-30T05:06:10.960501Z",
     "iopub.status.idle": "2023-04-30T05:06:10.970482Z",
     "shell.execute_reply": "2023-04-30T05:06:10.969146Z",
     "shell.execute_reply.started": "2023-04-30T05:06:10.961557Z"
    }
   },
   "outputs": [
    {
     "data": {
      "text/plain": "array([5., 5., 5., ..., 5., 5., 4.], dtype=float32)"
     },
     "execution_count": 17,
     "metadata": {},
     "output_type": "execute_result"
    }
   ],
   "source": [
    "y_val10 = y_val * 5\n",
    "y_val10 = y_val10.values\n",
    "y_val10"
   ]
  },
  {
   "cell_type": "code",
   "execution_count": 18,
   "metadata": {
    "execution": {
     "iopub.execute_input": "2023-04-30T05:10:04.769398Z",
     "iopub.status.busy": "2023-04-30T05:10:04.768971Z",
     "iopub.status.idle": "2023-04-30T05:10:05.067951Z",
     "shell.execute_reply": "2023-04-30T05:10:05.066754Z",
     "shell.execute_reply.started": "2023-04-30T05:10:04.769363Z"
    }
   },
   "outputs": [
    {
     "name": "stdout",
     "output_type": "stream",
     "text": [
      "1.2041422519166713\n",
      "Predicted rating: 4.97 Actual rating: 5.00\n",
      "Predicted rating: 4.75 Actual rating: 5.00\n",
      "Predicted rating: 4.47 Actual rating: 5.00\n",
      "Predicted rating: 4.85 Actual rating: 5.00\n",
      "Predicted rating: 4.62 Actual rating: 5.00\n",
      "Predicted rating: 4.74 Actual rating: 5.00\n",
      "Predicted rating: 4.97 Actual rating: 5.00\n",
      "Predicted rating: 4.56 Actual rating: 5.00\n",
      "Predicted rating: 4.98 Actual rating: 5.00\n",
      "Predicted rating: 4.58 Actual rating: 5.00\n"
     ]
    }
   ],
   "source": [
    "from sklearn.metrics import mean_squared_error\n",
    "from math import sqrt\n",
    "\n",
    "rms = sqrt(mean_squared_error(y_val10, y_pred10))\n",
    "print(rms)\n",
    "\n",
    "for i in range(10):\n",
    "    print(\"Predicted rating: {:.2f}\".format(y_pred10[i]), \"Actual rating: {:.2f}\".format(y_val10[i]))"
   ]
  },
  {
   "cell_type": "code",
   "execution_count": 19,
   "metadata": {
    "execution": {
     "iopub.execute_input": "2023-04-30T05:06:10.972839Z",
     "iopub.status.busy": "2023-04-30T05:06:10.971952Z",
     "iopub.status.idle": "2023-04-30T05:06:12.055157Z",
     "shell.execute_reply": "2023-04-30T05:06:12.054119Z",
     "shell.execute_reply.started": "2023-04-30T05:06:10.972798Z"
    }
   },
   "outputs": [
    {
     "name": "stdout",
     "output_type": "stream",
     "text": [
      "INFO:tensorflow:Assets written to: recommendation/assets\n"
     ]
    },
    {
     "name": "stderr",
     "output_type": "stream",
     "text": [
      "INFO:tensorflow:Assets written to: recommendation/assets\n"
     ]
    }
   ],
   "source": [
    "model.save(\"recommendation\")"
   ]
  },
  {
   "cell_type": "code",
   "execution_count": 17,
   "metadata": {
    "execution": {
     "iopub.execute_input": "2023-04-30T05:06:12.059324Z",
     "iopub.status.busy": "2023-04-30T05:06:12.058969Z",
     "iopub.status.idle": "2023-04-30T05:06:17.021294Z",
     "shell.execute_reply": "2023-04-30T05:06:17.020066Z",
     "shell.execute_reply.started": "2023-04-30T05:06:12.059293Z"
    }
   },
   "outputs": [
    {
     "name": "stdout",
     "output_type": "stream",
     "text": [
      "  adding: recommendation/ (stored 0%)\n",
      "  adding: recommendation/saved_model.pb (deflated 89%)\n",
      "  adding: recommendation/variables/ (stored 0%)\n",
      "  adding: recommendation/variables/variables.index (deflated 59%)\n",
      "  adding: recommendation/variables/variables.data-00000-of-00001 (deflated 39%)\n",
      "  adding: recommendation/keras_metadata.pb (deflated 81%)\n",
      "  adding: recommendation/assets/ (stored 0%)\n",
      "  adding: recommendation/fingerprint.pb (stored 0%)\n"
     ]
    }
   ],
   "source": [
    "!zip -r model.zip recommendation"
   ]
  },
  {
   "cell_type": "code",
   "execution_count": 20,
   "metadata": {
    "execution": {
     "iopub.execute_input": "2023-04-30T05:07:20.257881Z",
     "iopub.status.busy": "2023-04-30T05:07:20.257425Z",
     "iopub.status.idle": "2023-04-30T05:07:20.264578Z",
     "shell.execute_reply": "2023-04-30T05:07:20.263343Z",
     "shell.execute_reply.started": "2023-04-30T05:07:20.257839Z"
    }
   },
   "outputs": [
    {
     "data": {
      "text/plain": "(192751, 32)"
     },
     "execution_count": 20,
     "metadata": {},
     "output_type": "execute_result"
    }
   ],
   "source": [
    "user_embedding = model.user_embedding.get_weights()[0]\n",
    "user_embedding.shape"
   ]
  },
  {
   "cell_type": "code",
   "execution_count": 21,
   "metadata": {
    "execution": {
     "iopub.execute_input": "2023-04-30T05:07:21.146324Z",
     "iopub.status.busy": "2023-04-30T05:07:21.145661Z",
     "iopub.status.idle": "2023-04-30T05:07:21.529947Z",
     "shell.execute_reply": "2023-04-30T05:07:21.528911Z",
     "shell.execute_reply.started": "2023-04-30T05:07:21.146289Z"
    }
   },
   "outputs": [
    {
     "data": {
      "text/plain": "(194084, 32)"
     },
     "execution_count": 21,
     "metadata": {},
     "output_type": "execute_result"
    }
   ],
   "source": [
    "recipe_embedding = model.recipe_embedding.get_weights()[0]\n",
    "recipe_embedding.shape"
   ]
  },
  {
   "cell_type": "code",
   "execution_count": 22,
   "outputs": [
    {
     "data": {
      "text/plain": "6649"
     },
     "execution_count": 22,
     "metadata": {},
     "output_type": "execute_result"
    }
   ],
   "source": [
    "# recommend recipes similar to given recipe\n",
    "recipe_id = 192839\n",
    "# get index of recipe\n",
    "recipe_index = recipe2recipe_encoded[recipe_id]\n",
    "recipe_index"
   ],
   "metadata": {
    "collapsed": false
   }
  },
  {
   "cell_type": "code",
   "execution_count": 23,
   "outputs": [
    {
     "data": {
      "text/plain": "array([ 7.1229962e-34,  4.1836342e-19, -6.8849292e-34,  1.0250752e-33,\n       -4.7348619e-34, -1.3937587e-33, -9.9000046e-16, -6.0116083e-13,\n        1.2550753e-34,  5.9715554e-34,  7.1801693e-34,  8.0145058e-34,\n       -1.0491904e-33,  5.2060441e-34,  5.5882120e-34, -5.9250793e-34,\n        3.6549058e-34,  1.3571788e-33, -4.4089854e-34,  8.4222995e-34,\n       -4.1141324e-30, -3.7245832e-34, -1.3638805e-33, -3.3738987e-13,\n       -9.2452631e-35,  1.5544443e-34,  3.8403400e-34, -9.4588210e-34,\n        1.1456618e-33,  8.9734447e-34,  1.0000239e-33,  5.6089301e-34],\n      dtype=float32)"
     },
     "execution_count": 23,
     "metadata": {},
     "output_type": "execute_result"
    }
   ],
   "source": [
    "# get embedding of recipe\n",
    "recipe_embedding[recipe_index]"
   ],
   "metadata": {
    "collapsed": false
   }
  },
  {
   "cell_type": "code",
   "execution_count": 24,
   "outputs": [],
   "source": [
    "# similar recipes using faiss\n",
    "import faiss\n",
    "\n",
    "index = faiss.IndexFlatIP(32)\n",
    "index.add(recipe_embedding)"
   ],
   "metadata": {
    "collapsed": false
   }
  },
  {
   "cell_type": "code",
   "execution_count": 25,
   "outputs": [],
   "source": [
    "# get similar recipes\n",
    "D, I = index.search(np.array([recipe_embedding[recipe_index]]), 11)"
   ],
   "metadata": {
    "collapsed": false
   }
  },
  {
   "cell_type": "code",
   "execution_count": 26,
   "outputs": [
    {
     "data": {
      "text/plain": "array([[ 39117,  27296,  42511,  42863,  45719,  13400,   6166, 124490,\n        143564,  41902,  48891]])"
     },
     "execution_count": 26,
     "metadata": {},
     "output_type": "execute_result"
    }
   ],
   "source": [
    "I"
   ],
   "metadata": {
    "collapsed": false
   }
  },
  {
   "cell_type": "code",
   "execution_count": 27,
   "outputs": [
    {
     "data": {
      "text/plain": "[193609,\n 15273,\n 127930,\n 109395,\n 113552,\n 152043,\n 137954,\n 145831,\n 9518,\n 17132,\n 72037]"
     },
     "execution_count": 27,
     "metadata": {},
     "output_type": "execute_result"
    }
   ],
   "source": [
    "# get recipe ids\n",
    "recipe_ids = [recipe_encoded2recipe[x] for x in I[0]]\n",
    "recipe_ids"
   ],
   "metadata": {
    "collapsed": false
   }
  },
  {
   "cell_type": "code",
   "execution_count": 29,
   "outputs": [
    {
     "data": {
      "text/plain": "        user_id  recipe_id        date  rating   \n384922     6538     137954  2009-01-22     5.0  \\\n528559     4261     152043  2010-10-24     5.0   \n894528    20109      15273  2005-11-26     5.0   \n639408    29804     193609  2016-07-15     5.0   \n663561    15371      17132  2005-04-21     5.0   \n110359   155182     127930  2015-09-07     2.0   \n823871    23132     109395  2010-01-15     5.0   \n360827    34260     113552  2007-09-30     4.0   \n663560    13982      17132  2005-02-27     5.0   \n860075    13184      72037  2012-04-17     5.0   \n110345    22834     127930  2008-08-15     5.0   \n860073     8215      72037  2006-06-27     5.0   \n110356   143721     127930  2014-07-16     0.0   \n663562    36359      17132  2006-10-27     5.0   \n823870     4544     109395  2009-02-25     5.0   \n110349    46413     127930  2012-11-04     5.0   \n110358   154608     127930  2015-08-23     0.0   \n384923    10711     137954  2012-03-24     5.0   \n110351   129679     127930  2013-03-16     0.0   \n663558     7339      17132  2003-10-16     5.0   \n110360   163455     127930  2016-07-23     5.0   \n384924    56199     137954  2012-06-05     5.0   \n110364   171455     127930  2017-03-20     5.0   \n110368   181723     127930  2017-12-23     5.0   \n620657    23132     145831  2009-01-12     4.0   \n110353   142768     127930  2014-05-23     4.0   \n110363   169874     127930  2017-02-14     5.0   \n110367   179354     127930  2017-10-22     0.0   \n110347   110752     127930  2011-05-19     5.0   \n110348   120710     127930  2012-07-04     0.0   \n562847    15886       9518  2005-03-29     5.0   \n110362   168111     127930  2016-12-30     5.0   \n528275    22435     152043  2009-07-06     5.0   \n110366   153064     127930  2017-06-16     5.0   \n663559    11760      17132  2004-01-09     5.0   \n562846     7973       9518  2004-06-06     5.0   \n110344    32472     127930  2008-06-10     5.0   \n860074    43361      72037  2012-04-08     5.0   \n110361   165822     127930  2016-11-04     5.0   \n110365   173806     127930  2017-05-11     5.0   \n894529    28770      15273  2007-03-19     4.0   \n110369   185194     127930  2018-02-27     5.0   \n663563    33275      17132  2007-02-05     1.0   \n562845    14104       9518  2004-05-09     4.0   \n823869    20109     109395  2009-01-12     5.0   \n110354   135511     127930  2014-07-13     5.0   \n110352   137782     127930  2013-10-27     5.0   \n110357   151900     127930  2015-06-19     5.0   \n562844      117       9518  2002-10-15     5.0   \n110346    74904     127930  2009-09-21     5.0   \n110350   125463     127930  2012-12-05     5.0   \n823868    24930     109395  2007-11-22     5.0   \n620656    54278     145831  2009-01-07     4.0   \n\n                                                   review   \n384922  so simple and delicious i cut the amounts in h...  \\\n528559  this delicious slaw was served alongside wiene...   \n894528  a fabulous low fat mushroom lovers recipe whic...   \n639408  made exactly as written for culinary quest 3 p...   \n663561  wow i made this about 2 months ago i cannot be...   \n110359  how long does it need to be refrigerated for t...   \n823871  i could not find porcinis so i tried to find a...   \n360827  yummy yummy yummy we polished these mashed pot...   \n663560  thanks for sharing this recipe. it was great i...   \n860075  tasty easy pork chop recipe i used bone in cho...   \n110345  this was awesome we had gone blueberry picking...   \n860073  oh wow this was very good. i used a cheaper cu...   \n110356  very good cheesecake. the fresh blueberries st...   \n663562  awesome indeed i was surprised at how easy thi...   \n823870  this is so delicious. i have never seen fresh ...   \n110349  substitutions i made were used palm sugar in t...   \n110358  i make a lot of cheesecakes but this was hands...   \n384923  so simple and so good i cut the recipe down to...   \n110351  had a friend ask for blueberry cheesecake for ...   \n663558  i loved this i am doing low carb so i skipped ...   \n110360  one of the best i have made so far i could not...   \n384924  like mikekey i cut the recipe in half and used...   \n110364  i am delighted to find this recipe and expect ...   \n110368  made this cheesecake for my nephews 18th birth...   \n620657  this was good but something about it was a lit...   \n110353  if you want best results make sure the cheesec...   \n110363  dear seasoned cook i am very excited to try th...   \n110367  made this last week and guests were so impress...   \n110347  awesome recipe i have never made a cheesecake ...   \n110348  i have made many cheesecakes before and this w...   \n562847  i made this for easter dinner. i also used the...   \n110362  this is by far the best cheesecake i have ever...   \n528275  this is really good i have never had beets and...   \n110366  i was told that this was the best cheesecake e...   \n663559  tried this recipe tonightand we all enjoyed it...   \n562846  this was so good big hit with my family even t...   \n110344  big big problem...i have this delicious cheese...   \n860074  yummy we loved this great pork recipe i made t...   \n110361  i have been making this cheesecake for my hubb...   \n110365         hi quick question what do you mean by stie   \n894529  i made this as a main dish using large portabe...   \n110369  it was so good. i did not have sourcream so i ...   \n663563  this chicken cordon bleu was awful the bacon d...   \n562845  this was very good and i actually used the hal...   \n823869  i love mushrooms and this was a particularly f...   \n110354  absolutely delicious i had some blueberries an...   \n110352  i have been making this recipe since the summe...   \n110357  really great recipe and the best cheesecake i ...   \n562844  what a delight i used cheese tortellini your r...   \n110346  this cheesecake was amazing so creamy and the ...   \n110350  wow. fab recipe and easy to follow we loved th...   \n823868  delicious soup thanks i used cepes mushrooms w...   \n620656  this was a good chicken but i think the next t...   \n\n                                                  name  minutes   \n384922                              kurdish baked fish       40  \\\n528559                             healthier cole slaw      135   \n894528                           egg stuffed mushrooms       45   \n639408                             mango float dessert       25   \n663561                     awesome chicken cordon bleu       60   \n110359                   the best blueberry cheesecake       75   \n823871        zuppa di porcini  porcini mushrooms soup       41   \n360827                          chunky mashed potatoes       75   \n663560                     awesome chicken cordon bleu       60   \n860075                                      honey pork       45   \n110345                   the best blueberry cheesecake       75   \n860073                                      honey pork       45   \n110356                   the best blueberry cheesecake       75   \n663562                     awesome chicken cordon bleu       60   \n823870        zuppa di porcini  porcini mushrooms soup       41   \n110349                   the best blueberry cheesecake       75   \n110358                   the best blueberry cheesecake       75   \n384923                              kurdish baked fish       40   \n110351                   the best blueberry cheesecake       75   \n663558                     awesome chicken cordon bleu       60   \n110360                   the best blueberry cheesecake       75   \n384924                              kurdish baked fish       40   \n110364                   the best blueberry cheesecake       75   \n110368                   the best blueberry cheesecake       75   \n620657  chicken coated with pecans and his honey sauce       25   \n110353                   the best blueberry cheesecake       75   \n110363                   the best blueberry cheesecake       75   \n110367                   the best blueberry cheesecake       75   \n110347                   the best blueberry cheesecake       75   \n110348                   the best blueberry cheesecake       75   \n562847                          tortellini fruit salad       20   \n110362                   the best blueberry cheesecake       75   \n528275                             healthier cole slaw      135   \n110366                   the best blueberry cheesecake       75   \n663559                     awesome chicken cordon bleu       60   \n562846                          tortellini fruit salad       20   \n110344                   the best blueberry cheesecake       75   \n860074                                      honey pork       45   \n110361                   the best blueberry cheesecake       75   \n110365                   the best blueberry cheesecake       75   \n894529                           egg stuffed mushrooms       45   \n110369                   the best blueberry cheesecake       75   \n663563                     awesome chicken cordon bleu       60   \n562845                          tortellini fruit salad       20   \n823869        zuppa di porcini  porcini mushrooms soup       41   \n110354                   the best blueberry cheesecake       75   \n110352                   the best blueberry cheesecake       75   \n110357                   the best blueberry cheesecake       75   \n562844                          tortellini fruit salad       20   \n110346                   the best blueberry cheesecake       75   \n110350                   the best blueberry cheesecake       75   \n823868        zuppa di porcini  porcini mushrooms soup       41   \n620656  chicken coated with pecans and his honey sauce       25   \n\n        contributor_id   submitted   \n384922          914002  2008-08-05  \\\n528559           39835  2009-03-01   \n894528           30534  2002-08-30   \n639408          314579  2016-07-08   \n663561           57408  2002-10-14   \n110359          407338  2008-03-14   \n823871          383346  2007-08-09   \n360827          597959  2007-09-28   \n663560           57408  2002-10-14   \n860075          130645  2006-03-12   \n110345          407338  2008-03-14   \n860073          130645  2006-03-12   \n110356          407338  2008-03-14   \n663562           57408  2002-10-14   \n823870          383346  2007-08-09   \n110349          407338  2008-03-14   \n110358          407338  2008-03-14   \n384923          914002  2008-08-05   \n110351          407338  2008-03-14   \n663558           57408  2002-10-14   \n110360          407338  2008-03-14   \n384924          914002  2008-08-05   \n110364          407338  2008-03-14   \n110368          407338  2008-03-14   \n620657          383346  2008-11-27   \n110353          407338  2008-03-14   \n110363          407338  2008-03-14   \n110367          407338  2008-03-14   \n110347          407338  2008-03-14   \n110348          407338  2008-03-14   \n562847           28649  2002-04-27   \n110362          407338  2008-03-14   \n528275           39835  2009-03-01   \n110366          407338  2008-03-14   \n663559           57408  2002-10-14   \n562846           28649  2002-04-27   \n110344          407338  2008-03-14   \n860074          130645  2006-03-12   \n110361          407338  2008-03-14   \n110365          407338  2008-03-14   \n894529           30534  2002-08-30   \n110369          407338  2008-03-14   \n663563           57408  2002-10-14   \n562845           28649  2002-04-27   \n823869          383346  2007-08-09   \n110354          407338  2008-03-14   \n110352          407338  2008-03-14   \n110357          407338  2008-03-14   \n562844           28649  2002-04-27   \n110346          407338  2008-03-14   \n110350          407338  2008-03-14   \n823868          383346  2007-08-09   \n620656          383346  2008-11-27   \n\n                                                     tags  ...  protein   \n384922  60-minutes-or-less, time-to-make, course, main...  ...    104.0  \\\n528559  time-to-make, course, main-ingredient, prepara...  ...      2.0   \n894528  60-minutes-or-less, time-to-make, course, main...  ...      5.0   \n639408  30-minutes-or-less, time-to-make, course, main...  ...     15.0   \n663561  60-minutes-or-less, time-to-make, course, main...  ...    122.0   \n110359  time-to-make, course, cuisine, preparation, oc...  ...     19.0   \n823871  60-minutes-or-less, time-to-make, course, main...  ...      6.0   \n360827  time-to-make, course, main-ingredient, prepara...  ...     21.0   \n663560  60-minutes-or-less, time-to-make, course, main...  ...    122.0   \n860075  60-minutes-or-less, time-to-make, course, main...  ...     48.0   \n110345  time-to-make, course, cuisine, preparation, oc...  ...     19.0   \n860073  60-minutes-or-less, time-to-make, course, main...  ...     48.0   \n110356  time-to-make, course, cuisine, preparation, oc...  ...     19.0   \n663562  60-minutes-or-less, time-to-make, course, main...  ...    122.0   \n823870  60-minutes-or-less, time-to-make, course, main...  ...      6.0   \n110349  time-to-make, course, cuisine, preparation, oc...  ...     19.0   \n110358  time-to-make, course, cuisine, preparation, oc...  ...     19.0   \n384923  60-minutes-or-less, time-to-make, course, main...  ...    104.0   \n110351  time-to-make, course, cuisine, preparation, oc...  ...     19.0   \n663558  60-minutes-or-less, time-to-make, course, main...  ...    122.0   \n110360  time-to-make, course, cuisine, preparation, oc...  ...     19.0   \n384924  60-minutes-or-less, time-to-make, course, main...  ...    104.0   \n110364  time-to-make, course, cuisine, preparation, oc...  ...     19.0   \n110368  time-to-make, course, cuisine, preparation, oc...  ...     19.0   \n620657  30-minutes-or-less, time-to-make, course, main...  ...     65.0   \n110353  time-to-make, course, cuisine, preparation, oc...  ...     19.0   \n110363  time-to-make, course, cuisine, preparation, oc...  ...     19.0   \n110367  time-to-make, course, cuisine, preparation, oc...  ...     19.0   \n110347  time-to-make, course, cuisine, preparation, oc...  ...     19.0   \n110348  time-to-make, course, cuisine, preparation, oc...  ...     19.0   \n562847  30-minutes-or-less, time-to-make, course, main...  ...     22.0   \n110362  time-to-make, course, cuisine, preparation, oc...  ...     19.0   \n528275  time-to-make, course, main-ingredient, prepara...  ...      2.0   \n110366  time-to-make, course, cuisine, preparation, oc...  ...     19.0   \n663559  60-minutes-or-less, time-to-make, course, main...  ...    122.0   \n562846  30-minutes-or-less, time-to-make, course, main...  ...     22.0   \n110344  time-to-make, course, cuisine, preparation, oc...  ...     19.0   \n860074  60-minutes-or-less, time-to-make, course, main...  ...     48.0   \n110361  time-to-make, course, cuisine, preparation, oc...  ...     19.0   \n110365  time-to-make, course, cuisine, preparation, oc...  ...     19.0   \n894529  60-minutes-or-less, time-to-make, course, main...  ...      5.0   \n110369  time-to-make, course, cuisine, preparation, oc...  ...     19.0   \n663563  60-minutes-or-less, time-to-make, course, main...  ...    122.0   \n562845  30-minutes-or-less, time-to-make, course, main...  ...     22.0   \n823869  60-minutes-or-less, time-to-make, course, main...  ...      6.0   \n110354  time-to-make, course, cuisine, preparation, oc...  ...     19.0   \n110352  time-to-make, course, cuisine, preparation, oc...  ...     19.0   \n110357  time-to-make, course, cuisine, preparation, oc...  ...     19.0   \n562844  30-minutes-or-less, time-to-make, course, main...  ...     22.0   \n110346  time-to-make, course, cuisine, preparation, oc...  ...     19.0   \n110350  time-to-make, course, cuisine, preparation, oc...  ...     19.0   \n823868  60-minutes-or-less, time-to-make, course, main...  ...      6.0   \n620656  30-minutes-or-less, time-to-make, course, main...  ...     65.0   \n\n       saturated_fat carbohydrates food_types  negative  neutral  positive   \n384922          38.0           0.0        Veg     0.034    0.721     0.245  \\\n528559           2.0           5.0    Healthy     0.000    0.797     0.203   \n894528           6.0           0.0    Healthy     0.010    0.732     0.258   \n639408          97.0          20.0    Non-veg     0.010    0.655     0.334   \n663561          97.0          12.0    Non-veg     0.000    0.772     0.228   \n110359         126.0          16.0    Non-veg     0.000    0.909     0.091   \n823871          31.0           0.0    Healthy     0.037    0.634     0.329   \n360827          81.0          28.0        Veg     0.000    0.573     0.427   \n663560          97.0          12.0    Non-veg     0.114    0.548     0.337   \n860075           7.0           4.0    Healthy     0.000    0.696     0.304   \n110345         126.0          16.0    Non-veg     0.031    0.807     0.162   \n860073           7.0           4.0    Healthy     0.078    0.699     0.223   \n110356         126.0          16.0    Non-veg     0.020    0.752     0.227   \n663562          97.0          12.0    Non-veg     0.022    0.699     0.279   \n823870          31.0           0.0    Healthy     0.051    0.836     0.113   \n110349         126.0          16.0    Non-veg     0.000    0.852     0.148   \n110358         126.0          16.0    Non-veg     0.000    0.693     0.307   \n384923          38.0           0.0        Veg     0.075    0.691     0.234   \n110351         126.0          16.0    Non-veg     0.006    0.839     0.154   \n663558          97.0          12.0    Non-veg     0.073    0.729     0.198   \n110360         126.0          16.0    Non-veg     0.000    0.711     0.289   \n384924          38.0           0.0        Veg     0.076    0.833     0.091   \n110364         126.0          16.0    Non-veg     0.000    0.931     0.069   \n110368         126.0          16.0    Non-veg     0.000    0.873     0.127   \n620657          14.0           9.0    Non-veg     0.000    0.629     0.371   \n110353         126.0          16.0    Non-veg     0.000    0.881     0.119   \n110363         126.0          16.0    Non-veg     0.000    0.766     0.234   \n110367         126.0          16.0    Non-veg     0.034    0.626     0.340   \n110347         126.0          16.0    Non-veg     0.000    0.638     0.362   \n110348         126.0          16.0    Non-veg     0.000    0.796     0.204   \n562847          13.0          21.0        Veg     0.000    0.821     0.179   \n110362         126.0          16.0    Non-veg     0.000    0.811     0.189   \n528275           2.0           5.0    Healthy     0.000    0.769     0.231   \n110366         126.0          16.0    Non-veg     0.000    0.864     0.136   \n663559          97.0          12.0    Non-veg     0.000    0.769     0.231   \n562846          13.0          21.0        Veg     0.000    0.744     0.256   \n110344         126.0          16.0    Non-veg     0.042    0.779     0.178   \n860074           7.0           4.0    Healthy     0.000    0.785     0.215   \n110361         126.0          16.0    Non-veg     0.025    0.831     0.144   \n110365         126.0          16.0    Non-veg     0.000    1.000     0.000   \n894529           6.0           0.0    Healthy     0.000    0.743     0.257   \n110369         126.0          16.0    Non-veg     0.000    0.741     0.259   \n663563          97.0          12.0    Non-veg     0.146    0.777     0.076   \n562845          13.0          21.0        Veg     0.000    0.742     0.258   \n823869          31.0           0.0    Healthy     0.014    0.830     0.157   \n110354         126.0          16.0    Non-veg     0.000    0.806     0.194   \n110352         126.0          16.0    Non-veg     0.000    0.857     0.143   \n110357         126.0          16.0    Non-veg     0.000    0.580     0.420   \n562844          13.0          21.0        Veg     0.065    0.636     0.299   \n110346         126.0          16.0    Non-veg     0.017    0.630     0.353   \n110350         126.0          16.0    Non-veg     0.000    0.666     0.334   \n823868          31.0           0.0    Healthy     0.052    0.722     0.226   \n620656          14.0           9.0    Non-veg     0.066    0.886     0.048   \n\n        compound    user  recipe  \n384922    0.9308     595    6166  \n528559    0.8807     488   13400  \n894528    0.9944     708   27296  \n639408    0.9887     166   39117  \n663561    0.8055   20146   41902  \n110359    0.3612   28217   42511  \n823871    0.9882     317   42863  \n360827    0.9401     750   45719  \n663560    0.9601   16783   41902  \n860075    0.9446      21   48891  \n110345    0.9858   16439   42511  \n860073    0.9245   40097   48891  \n110356    0.9617   59406   42511  \n663562    0.8979    7707   41902  \n823870    0.8641     970   42863  \n110349    0.5106    4422   42511  \n110358    0.9794   78715   42511  \n384923    0.7238     140    6166  \n110351    0.9869   80949   42511  \n663558    0.5574   21539   41902  \n110360    0.9878   84003   42511  \n384924    0.1027     679    6166  \n110364    0.6249   88734   42511  \n110368    0.8765   89675   42511  \n620657    0.9786     317  124490  \n110353    0.7783   99893   42511  \n110363    0.9230  102172   42511  \n110367    0.9797  107916   42511  \n110347    0.9274  110808   42511  \n110348    0.9614  114592   42511  \n562847    0.7269     191  143564  \n110362    0.9565  118045   42511  \n528275    0.8637     330   13400  \n110366    0.8360   71105   42511  \n663559    0.5106  125245   41902  \n562846    0.9295     918  143564  \n110344    0.8844    4004   42511  \n860074    0.9665     882   48891  \n110361    0.9391  133880   42511  \n110365    0.0000  136998   42511  \n894529    0.8399   46129   27296  \n110369    0.8570  139117   42511  \n663563   -0.6298  139859   41902  \n562845    0.8553   71737  143564  \n823869    0.9579     708   42863  \n110354    0.9286  147411   42511  \n110352    0.3612  152300   42511  \n110357    0.9117  176511   42511  \n562844    0.8727      50  143564  \n110346    0.9847  185371   42511  \n110350    0.9721  188415   42511  \n823868    0.8555    1839   42863  \n620656   -0.1815    1231  124490  \n\n[53 rows x 29 columns]",
      "text/html": "<div>\n<style scoped>\n    .dataframe tbody tr th:only-of-type {\n        vertical-align: middle;\n    }\n\n    .dataframe tbody tr th {\n        vertical-align: top;\n    }\n\n    .dataframe thead th {\n        text-align: right;\n    }\n</style>\n<table border=\"1\" class=\"dataframe\">\n  <thead>\n    <tr style=\"text-align: right;\">\n      <th></th>\n      <th>user_id</th>\n      <th>recipe_id</th>\n      <th>date</th>\n      <th>rating</th>\n      <th>review</th>\n      <th>name</th>\n      <th>minutes</th>\n      <th>contributor_id</th>\n      <th>submitted</th>\n      <th>tags</th>\n      <th>...</th>\n      <th>protein</th>\n      <th>saturated_fat</th>\n      <th>carbohydrates</th>\n      <th>food_types</th>\n      <th>negative</th>\n      <th>neutral</th>\n      <th>positive</th>\n      <th>compound</th>\n      <th>user</th>\n      <th>recipe</th>\n    </tr>\n  </thead>\n  <tbody>\n    <tr>\n      <th>384922</th>\n      <td>6538</td>\n      <td>137954</td>\n      <td>2009-01-22</td>\n      <td>5.0</td>\n      <td>so simple and delicious i cut the amounts in h...</td>\n      <td>kurdish baked fish</td>\n      <td>40</td>\n      <td>914002</td>\n      <td>2008-08-05</td>\n      <td>60-minutes-or-less, time-to-make, course, main...</td>\n      <td>...</td>\n      <td>104.0</td>\n      <td>38.0</td>\n      <td>0.0</td>\n      <td>Veg</td>\n      <td>0.034</td>\n      <td>0.721</td>\n      <td>0.245</td>\n      <td>0.9308</td>\n      <td>595</td>\n      <td>6166</td>\n    </tr>\n    <tr>\n      <th>528559</th>\n      <td>4261</td>\n      <td>152043</td>\n      <td>2010-10-24</td>\n      <td>5.0</td>\n      <td>this delicious slaw was served alongside wiene...</td>\n      <td>healthier cole slaw</td>\n      <td>135</td>\n      <td>39835</td>\n      <td>2009-03-01</td>\n      <td>time-to-make, course, main-ingredient, prepara...</td>\n      <td>...</td>\n      <td>2.0</td>\n      <td>2.0</td>\n      <td>5.0</td>\n      <td>Healthy</td>\n      <td>0.000</td>\n      <td>0.797</td>\n      <td>0.203</td>\n      <td>0.8807</td>\n      <td>488</td>\n      <td>13400</td>\n    </tr>\n    <tr>\n      <th>894528</th>\n      <td>20109</td>\n      <td>15273</td>\n      <td>2005-11-26</td>\n      <td>5.0</td>\n      <td>a fabulous low fat mushroom lovers recipe whic...</td>\n      <td>egg stuffed mushrooms</td>\n      <td>45</td>\n      <td>30534</td>\n      <td>2002-08-30</td>\n      <td>60-minutes-or-less, time-to-make, course, main...</td>\n      <td>...</td>\n      <td>5.0</td>\n      <td>6.0</td>\n      <td>0.0</td>\n      <td>Healthy</td>\n      <td>0.010</td>\n      <td>0.732</td>\n      <td>0.258</td>\n      <td>0.9944</td>\n      <td>708</td>\n      <td>27296</td>\n    </tr>\n    <tr>\n      <th>639408</th>\n      <td>29804</td>\n      <td>193609</td>\n      <td>2016-07-15</td>\n      <td>5.0</td>\n      <td>made exactly as written for culinary quest 3 p...</td>\n      <td>mango float dessert</td>\n      <td>25</td>\n      <td>314579</td>\n      <td>2016-07-08</td>\n      <td>30-minutes-or-less, time-to-make, course, main...</td>\n      <td>...</td>\n      <td>15.0</td>\n      <td>97.0</td>\n      <td>20.0</td>\n      <td>Non-veg</td>\n      <td>0.010</td>\n      <td>0.655</td>\n      <td>0.334</td>\n      <td>0.9887</td>\n      <td>166</td>\n      <td>39117</td>\n    </tr>\n    <tr>\n      <th>663561</th>\n      <td>15371</td>\n      <td>17132</td>\n      <td>2005-04-21</td>\n      <td>5.0</td>\n      <td>wow i made this about 2 months ago i cannot be...</td>\n      <td>awesome chicken cordon bleu</td>\n      <td>60</td>\n      <td>57408</td>\n      <td>2002-10-14</td>\n      <td>60-minutes-or-less, time-to-make, course, main...</td>\n      <td>...</td>\n      <td>122.0</td>\n      <td>97.0</td>\n      <td>12.0</td>\n      <td>Non-veg</td>\n      <td>0.000</td>\n      <td>0.772</td>\n      <td>0.228</td>\n      <td>0.8055</td>\n      <td>20146</td>\n      <td>41902</td>\n    </tr>\n    <tr>\n      <th>110359</th>\n      <td>155182</td>\n      <td>127930</td>\n      <td>2015-09-07</td>\n      <td>2.0</td>\n      <td>how long does it need to be refrigerated for t...</td>\n      <td>the best blueberry cheesecake</td>\n      <td>75</td>\n      <td>407338</td>\n      <td>2008-03-14</td>\n      <td>time-to-make, course, cuisine, preparation, oc...</td>\n      <td>...</td>\n      <td>19.0</td>\n      <td>126.0</td>\n      <td>16.0</td>\n      <td>Non-veg</td>\n      <td>0.000</td>\n      <td>0.909</td>\n      <td>0.091</td>\n      <td>0.3612</td>\n      <td>28217</td>\n      <td>42511</td>\n    </tr>\n    <tr>\n      <th>823871</th>\n      <td>23132</td>\n      <td>109395</td>\n      <td>2010-01-15</td>\n      <td>5.0</td>\n      <td>i could not find porcinis so i tried to find a...</td>\n      <td>zuppa di porcini  porcini mushrooms soup</td>\n      <td>41</td>\n      <td>383346</td>\n      <td>2007-08-09</td>\n      <td>60-minutes-or-less, time-to-make, course, main...</td>\n      <td>...</td>\n      <td>6.0</td>\n      <td>31.0</td>\n      <td>0.0</td>\n      <td>Healthy</td>\n      <td>0.037</td>\n      <td>0.634</td>\n      <td>0.329</td>\n      <td>0.9882</td>\n      <td>317</td>\n      <td>42863</td>\n    </tr>\n    <tr>\n      <th>360827</th>\n      <td>34260</td>\n      <td>113552</td>\n      <td>2007-09-30</td>\n      <td>4.0</td>\n      <td>yummy yummy yummy we polished these mashed pot...</td>\n      <td>chunky mashed potatoes</td>\n      <td>75</td>\n      <td>597959</td>\n      <td>2007-09-28</td>\n      <td>time-to-make, course, main-ingredient, prepara...</td>\n      <td>...</td>\n      <td>21.0</td>\n      <td>81.0</td>\n      <td>28.0</td>\n      <td>Veg</td>\n      <td>0.000</td>\n      <td>0.573</td>\n      <td>0.427</td>\n      <td>0.9401</td>\n      <td>750</td>\n      <td>45719</td>\n    </tr>\n    <tr>\n      <th>663560</th>\n      <td>13982</td>\n      <td>17132</td>\n      <td>2005-02-27</td>\n      <td>5.0</td>\n      <td>thanks for sharing this recipe. it was great i...</td>\n      <td>awesome chicken cordon bleu</td>\n      <td>60</td>\n      <td>57408</td>\n      <td>2002-10-14</td>\n      <td>60-minutes-or-less, time-to-make, course, main...</td>\n      <td>...</td>\n      <td>122.0</td>\n      <td>97.0</td>\n      <td>12.0</td>\n      <td>Non-veg</td>\n      <td>0.114</td>\n      <td>0.548</td>\n      <td>0.337</td>\n      <td>0.9601</td>\n      <td>16783</td>\n      <td>41902</td>\n    </tr>\n    <tr>\n      <th>860075</th>\n      <td>13184</td>\n      <td>72037</td>\n      <td>2012-04-17</td>\n      <td>5.0</td>\n      <td>tasty easy pork chop recipe i used bone in cho...</td>\n      <td>honey pork</td>\n      <td>45</td>\n      <td>130645</td>\n      <td>2006-03-12</td>\n      <td>60-minutes-or-less, time-to-make, course, main...</td>\n      <td>...</td>\n      <td>48.0</td>\n      <td>7.0</td>\n      <td>4.0</td>\n      <td>Healthy</td>\n      <td>0.000</td>\n      <td>0.696</td>\n      <td>0.304</td>\n      <td>0.9446</td>\n      <td>21</td>\n      <td>48891</td>\n    </tr>\n    <tr>\n      <th>110345</th>\n      <td>22834</td>\n      <td>127930</td>\n      <td>2008-08-15</td>\n      <td>5.0</td>\n      <td>this was awesome we had gone blueberry picking...</td>\n      <td>the best blueberry cheesecake</td>\n      <td>75</td>\n      <td>407338</td>\n      <td>2008-03-14</td>\n      <td>time-to-make, course, cuisine, preparation, oc...</td>\n      <td>...</td>\n      <td>19.0</td>\n      <td>126.0</td>\n      <td>16.0</td>\n      <td>Non-veg</td>\n      <td>0.031</td>\n      <td>0.807</td>\n      <td>0.162</td>\n      <td>0.9858</td>\n      <td>16439</td>\n      <td>42511</td>\n    </tr>\n    <tr>\n      <th>860073</th>\n      <td>8215</td>\n      <td>72037</td>\n      <td>2006-06-27</td>\n      <td>5.0</td>\n      <td>oh wow this was very good. i used a cheaper cu...</td>\n      <td>honey pork</td>\n      <td>45</td>\n      <td>130645</td>\n      <td>2006-03-12</td>\n      <td>60-minutes-or-less, time-to-make, course, main...</td>\n      <td>...</td>\n      <td>48.0</td>\n      <td>7.0</td>\n      <td>4.0</td>\n      <td>Healthy</td>\n      <td>0.078</td>\n      <td>0.699</td>\n      <td>0.223</td>\n      <td>0.9245</td>\n      <td>40097</td>\n      <td>48891</td>\n    </tr>\n    <tr>\n      <th>110356</th>\n      <td>143721</td>\n      <td>127930</td>\n      <td>2014-07-16</td>\n      <td>0.0</td>\n      <td>very good cheesecake. the fresh blueberries st...</td>\n      <td>the best blueberry cheesecake</td>\n      <td>75</td>\n      <td>407338</td>\n      <td>2008-03-14</td>\n      <td>time-to-make, course, cuisine, preparation, oc...</td>\n      <td>...</td>\n      <td>19.0</td>\n      <td>126.0</td>\n      <td>16.0</td>\n      <td>Non-veg</td>\n      <td>0.020</td>\n      <td>0.752</td>\n      <td>0.227</td>\n      <td>0.9617</td>\n      <td>59406</td>\n      <td>42511</td>\n    </tr>\n    <tr>\n      <th>663562</th>\n      <td>36359</td>\n      <td>17132</td>\n      <td>2006-10-27</td>\n      <td>5.0</td>\n      <td>awesome indeed i was surprised at how easy thi...</td>\n      <td>awesome chicken cordon bleu</td>\n      <td>60</td>\n      <td>57408</td>\n      <td>2002-10-14</td>\n      <td>60-minutes-or-less, time-to-make, course, main...</td>\n      <td>...</td>\n      <td>122.0</td>\n      <td>97.0</td>\n      <td>12.0</td>\n      <td>Non-veg</td>\n      <td>0.022</td>\n      <td>0.699</td>\n      <td>0.279</td>\n      <td>0.8979</td>\n      <td>7707</td>\n      <td>41902</td>\n    </tr>\n    <tr>\n      <th>823870</th>\n      <td>4544</td>\n      <td>109395</td>\n      <td>2009-02-25</td>\n      <td>5.0</td>\n      <td>this is so delicious. i have never seen fresh ...</td>\n      <td>zuppa di porcini  porcini mushrooms soup</td>\n      <td>41</td>\n      <td>383346</td>\n      <td>2007-08-09</td>\n      <td>60-minutes-or-less, time-to-make, course, main...</td>\n      <td>...</td>\n      <td>6.0</td>\n      <td>31.0</td>\n      <td>0.0</td>\n      <td>Healthy</td>\n      <td>0.051</td>\n      <td>0.836</td>\n      <td>0.113</td>\n      <td>0.8641</td>\n      <td>970</td>\n      <td>42863</td>\n    </tr>\n    <tr>\n      <th>110349</th>\n      <td>46413</td>\n      <td>127930</td>\n      <td>2012-11-04</td>\n      <td>5.0</td>\n      <td>substitutions i made were used palm sugar in t...</td>\n      <td>the best blueberry cheesecake</td>\n      <td>75</td>\n      <td>407338</td>\n      <td>2008-03-14</td>\n      <td>time-to-make, course, cuisine, preparation, oc...</td>\n      <td>...</td>\n      <td>19.0</td>\n      <td>126.0</td>\n      <td>16.0</td>\n      <td>Non-veg</td>\n      <td>0.000</td>\n      <td>0.852</td>\n      <td>0.148</td>\n      <td>0.5106</td>\n      <td>4422</td>\n      <td>42511</td>\n    </tr>\n    <tr>\n      <th>110358</th>\n      <td>154608</td>\n      <td>127930</td>\n      <td>2015-08-23</td>\n      <td>0.0</td>\n      <td>i make a lot of cheesecakes but this was hands...</td>\n      <td>the best blueberry cheesecake</td>\n      <td>75</td>\n      <td>407338</td>\n      <td>2008-03-14</td>\n      <td>time-to-make, course, cuisine, preparation, oc...</td>\n      <td>...</td>\n      <td>19.0</td>\n      <td>126.0</td>\n      <td>16.0</td>\n      <td>Non-veg</td>\n      <td>0.000</td>\n      <td>0.693</td>\n      <td>0.307</td>\n      <td>0.9794</td>\n      <td>78715</td>\n      <td>42511</td>\n    </tr>\n    <tr>\n      <th>384923</th>\n      <td>10711</td>\n      <td>137954</td>\n      <td>2012-03-24</td>\n      <td>5.0</td>\n      <td>so simple and so good i cut the recipe down to...</td>\n      <td>kurdish baked fish</td>\n      <td>40</td>\n      <td>914002</td>\n      <td>2008-08-05</td>\n      <td>60-minutes-or-less, time-to-make, course, main...</td>\n      <td>...</td>\n      <td>104.0</td>\n      <td>38.0</td>\n      <td>0.0</td>\n      <td>Veg</td>\n      <td>0.075</td>\n      <td>0.691</td>\n      <td>0.234</td>\n      <td>0.7238</td>\n      <td>140</td>\n      <td>6166</td>\n    </tr>\n    <tr>\n      <th>110351</th>\n      <td>129679</td>\n      <td>127930</td>\n      <td>2013-03-16</td>\n      <td>0.0</td>\n      <td>had a friend ask for blueberry cheesecake for ...</td>\n      <td>the best blueberry cheesecake</td>\n      <td>75</td>\n      <td>407338</td>\n      <td>2008-03-14</td>\n      <td>time-to-make, course, cuisine, preparation, oc...</td>\n      <td>...</td>\n      <td>19.0</td>\n      <td>126.0</td>\n      <td>16.0</td>\n      <td>Non-veg</td>\n      <td>0.006</td>\n      <td>0.839</td>\n      <td>0.154</td>\n      <td>0.9869</td>\n      <td>80949</td>\n      <td>42511</td>\n    </tr>\n    <tr>\n      <th>663558</th>\n      <td>7339</td>\n      <td>17132</td>\n      <td>2003-10-16</td>\n      <td>5.0</td>\n      <td>i loved this i am doing low carb so i skipped ...</td>\n      <td>awesome chicken cordon bleu</td>\n      <td>60</td>\n      <td>57408</td>\n      <td>2002-10-14</td>\n      <td>60-minutes-or-less, time-to-make, course, main...</td>\n      <td>...</td>\n      <td>122.0</td>\n      <td>97.0</td>\n      <td>12.0</td>\n      <td>Non-veg</td>\n      <td>0.073</td>\n      <td>0.729</td>\n      <td>0.198</td>\n      <td>0.5574</td>\n      <td>21539</td>\n      <td>41902</td>\n    </tr>\n    <tr>\n      <th>110360</th>\n      <td>163455</td>\n      <td>127930</td>\n      <td>2016-07-23</td>\n      <td>5.0</td>\n      <td>one of the best i have made so far i could not...</td>\n      <td>the best blueberry cheesecake</td>\n      <td>75</td>\n      <td>407338</td>\n      <td>2008-03-14</td>\n      <td>time-to-make, course, cuisine, preparation, oc...</td>\n      <td>...</td>\n      <td>19.0</td>\n      <td>126.0</td>\n      <td>16.0</td>\n      <td>Non-veg</td>\n      <td>0.000</td>\n      <td>0.711</td>\n      <td>0.289</td>\n      <td>0.9878</td>\n      <td>84003</td>\n      <td>42511</td>\n    </tr>\n    <tr>\n      <th>384924</th>\n      <td>56199</td>\n      <td>137954</td>\n      <td>2012-06-05</td>\n      <td>5.0</td>\n      <td>like mikekey i cut the recipe in half and used...</td>\n      <td>kurdish baked fish</td>\n      <td>40</td>\n      <td>914002</td>\n      <td>2008-08-05</td>\n      <td>60-minutes-or-less, time-to-make, course, main...</td>\n      <td>...</td>\n      <td>104.0</td>\n      <td>38.0</td>\n      <td>0.0</td>\n      <td>Veg</td>\n      <td>0.076</td>\n      <td>0.833</td>\n      <td>0.091</td>\n      <td>0.1027</td>\n      <td>679</td>\n      <td>6166</td>\n    </tr>\n    <tr>\n      <th>110364</th>\n      <td>171455</td>\n      <td>127930</td>\n      <td>2017-03-20</td>\n      <td>5.0</td>\n      <td>i am delighted to find this recipe and expect ...</td>\n      <td>the best blueberry cheesecake</td>\n      <td>75</td>\n      <td>407338</td>\n      <td>2008-03-14</td>\n      <td>time-to-make, course, cuisine, preparation, oc...</td>\n      <td>...</td>\n      <td>19.0</td>\n      <td>126.0</td>\n      <td>16.0</td>\n      <td>Non-veg</td>\n      <td>0.000</td>\n      <td>0.931</td>\n      <td>0.069</td>\n      <td>0.6249</td>\n      <td>88734</td>\n      <td>42511</td>\n    </tr>\n    <tr>\n      <th>110368</th>\n      <td>181723</td>\n      <td>127930</td>\n      <td>2017-12-23</td>\n      <td>5.0</td>\n      <td>made this cheesecake for my nephews 18th birth...</td>\n      <td>the best blueberry cheesecake</td>\n      <td>75</td>\n      <td>407338</td>\n      <td>2008-03-14</td>\n      <td>time-to-make, course, cuisine, preparation, oc...</td>\n      <td>...</td>\n      <td>19.0</td>\n      <td>126.0</td>\n      <td>16.0</td>\n      <td>Non-veg</td>\n      <td>0.000</td>\n      <td>0.873</td>\n      <td>0.127</td>\n      <td>0.8765</td>\n      <td>89675</td>\n      <td>42511</td>\n    </tr>\n    <tr>\n      <th>620657</th>\n      <td>23132</td>\n      <td>145831</td>\n      <td>2009-01-12</td>\n      <td>4.0</td>\n      <td>this was good but something about it was a lit...</td>\n      <td>chicken coated with pecans and his honey sauce</td>\n      <td>25</td>\n      <td>383346</td>\n      <td>2008-11-27</td>\n      <td>30-minutes-or-less, time-to-make, course, main...</td>\n      <td>...</td>\n      <td>65.0</td>\n      <td>14.0</td>\n      <td>9.0</td>\n      <td>Non-veg</td>\n      <td>0.000</td>\n      <td>0.629</td>\n      <td>0.371</td>\n      <td>0.9786</td>\n      <td>317</td>\n      <td>124490</td>\n    </tr>\n    <tr>\n      <th>110353</th>\n      <td>142768</td>\n      <td>127930</td>\n      <td>2014-05-23</td>\n      <td>4.0</td>\n      <td>if you want best results make sure the cheesec...</td>\n      <td>the best blueberry cheesecake</td>\n      <td>75</td>\n      <td>407338</td>\n      <td>2008-03-14</td>\n      <td>time-to-make, course, cuisine, preparation, oc...</td>\n      <td>...</td>\n      <td>19.0</td>\n      <td>126.0</td>\n      <td>16.0</td>\n      <td>Non-veg</td>\n      <td>0.000</td>\n      <td>0.881</td>\n      <td>0.119</td>\n      <td>0.7783</td>\n      <td>99893</td>\n      <td>42511</td>\n    </tr>\n    <tr>\n      <th>110363</th>\n      <td>169874</td>\n      <td>127930</td>\n      <td>2017-02-14</td>\n      <td>5.0</td>\n      <td>dear seasoned cook i am very excited to try th...</td>\n      <td>the best blueberry cheesecake</td>\n      <td>75</td>\n      <td>407338</td>\n      <td>2008-03-14</td>\n      <td>time-to-make, course, cuisine, preparation, oc...</td>\n      <td>...</td>\n      <td>19.0</td>\n      <td>126.0</td>\n      <td>16.0</td>\n      <td>Non-veg</td>\n      <td>0.000</td>\n      <td>0.766</td>\n      <td>0.234</td>\n      <td>0.9230</td>\n      <td>102172</td>\n      <td>42511</td>\n    </tr>\n    <tr>\n      <th>110367</th>\n      <td>179354</td>\n      <td>127930</td>\n      <td>2017-10-22</td>\n      <td>0.0</td>\n      <td>made this last week and guests were so impress...</td>\n      <td>the best blueberry cheesecake</td>\n      <td>75</td>\n      <td>407338</td>\n      <td>2008-03-14</td>\n      <td>time-to-make, course, cuisine, preparation, oc...</td>\n      <td>...</td>\n      <td>19.0</td>\n      <td>126.0</td>\n      <td>16.0</td>\n      <td>Non-veg</td>\n      <td>0.034</td>\n      <td>0.626</td>\n      <td>0.340</td>\n      <td>0.9797</td>\n      <td>107916</td>\n      <td>42511</td>\n    </tr>\n    <tr>\n      <th>110347</th>\n      <td>110752</td>\n      <td>127930</td>\n      <td>2011-05-19</td>\n      <td>5.0</td>\n      <td>awesome recipe i have never made a cheesecake ...</td>\n      <td>the best blueberry cheesecake</td>\n      <td>75</td>\n      <td>407338</td>\n      <td>2008-03-14</td>\n      <td>time-to-make, course, cuisine, preparation, oc...</td>\n      <td>...</td>\n      <td>19.0</td>\n      <td>126.0</td>\n      <td>16.0</td>\n      <td>Non-veg</td>\n      <td>0.000</td>\n      <td>0.638</td>\n      <td>0.362</td>\n      <td>0.9274</td>\n      <td>110808</td>\n      <td>42511</td>\n    </tr>\n    <tr>\n      <th>110348</th>\n      <td>120710</td>\n      <td>127930</td>\n      <td>2012-07-04</td>\n      <td>0.0</td>\n      <td>i have made many cheesecakes before and this w...</td>\n      <td>the best blueberry cheesecake</td>\n      <td>75</td>\n      <td>407338</td>\n      <td>2008-03-14</td>\n      <td>time-to-make, course, cuisine, preparation, oc...</td>\n      <td>...</td>\n      <td>19.0</td>\n      <td>126.0</td>\n      <td>16.0</td>\n      <td>Non-veg</td>\n      <td>0.000</td>\n      <td>0.796</td>\n      <td>0.204</td>\n      <td>0.9614</td>\n      <td>114592</td>\n      <td>42511</td>\n    </tr>\n    <tr>\n      <th>562847</th>\n      <td>15886</td>\n      <td>9518</td>\n      <td>2005-03-29</td>\n      <td>5.0</td>\n      <td>i made this for easter dinner. i also used the...</td>\n      <td>tortellini fruit salad</td>\n      <td>20</td>\n      <td>28649</td>\n      <td>2002-04-27</td>\n      <td>30-minutes-or-less, time-to-make, course, main...</td>\n      <td>...</td>\n      <td>22.0</td>\n      <td>13.0</td>\n      <td>21.0</td>\n      <td>Veg</td>\n      <td>0.000</td>\n      <td>0.821</td>\n      <td>0.179</td>\n      <td>0.7269</td>\n      <td>191</td>\n      <td>143564</td>\n    </tr>\n    <tr>\n      <th>110362</th>\n      <td>168111</td>\n      <td>127930</td>\n      <td>2016-12-30</td>\n      <td>5.0</td>\n      <td>this is by far the best cheesecake i have ever...</td>\n      <td>the best blueberry cheesecake</td>\n      <td>75</td>\n      <td>407338</td>\n      <td>2008-03-14</td>\n      <td>time-to-make, course, cuisine, preparation, oc...</td>\n      <td>...</td>\n      <td>19.0</td>\n      <td>126.0</td>\n      <td>16.0</td>\n      <td>Non-veg</td>\n      <td>0.000</td>\n      <td>0.811</td>\n      <td>0.189</td>\n      <td>0.9565</td>\n      <td>118045</td>\n      <td>42511</td>\n    </tr>\n    <tr>\n      <th>528275</th>\n      <td>22435</td>\n      <td>152043</td>\n      <td>2009-07-06</td>\n      <td>5.0</td>\n      <td>this is really good i have never had beets and...</td>\n      <td>healthier cole slaw</td>\n      <td>135</td>\n      <td>39835</td>\n      <td>2009-03-01</td>\n      <td>time-to-make, course, main-ingredient, prepara...</td>\n      <td>...</td>\n      <td>2.0</td>\n      <td>2.0</td>\n      <td>5.0</td>\n      <td>Healthy</td>\n      <td>0.000</td>\n      <td>0.769</td>\n      <td>0.231</td>\n      <td>0.8637</td>\n      <td>330</td>\n      <td>13400</td>\n    </tr>\n    <tr>\n      <th>110366</th>\n      <td>153064</td>\n      <td>127930</td>\n      <td>2017-06-16</td>\n      <td>5.0</td>\n      <td>i was told that this was the best cheesecake e...</td>\n      <td>the best blueberry cheesecake</td>\n      <td>75</td>\n      <td>407338</td>\n      <td>2008-03-14</td>\n      <td>time-to-make, course, cuisine, preparation, oc...</td>\n      <td>...</td>\n      <td>19.0</td>\n      <td>126.0</td>\n      <td>16.0</td>\n      <td>Non-veg</td>\n      <td>0.000</td>\n      <td>0.864</td>\n      <td>0.136</td>\n      <td>0.8360</td>\n      <td>71105</td>\n      <td>42511</td>\n    </tr>\n    <tr>\n      <th>663559</th>\n      <td>11760</td>\n      <td>17132</td>\n      <td>2004-01-09</td>\n      <td>5.0</td>\n      <td>tried this recipe tonightand we all enjoyed it...</td>\n      <td>awesome chicken cordon bleu</td>\n      <td>60</td>\n      <td>57408</td>\n      <td>2002-10-14</td>\n      <td>60-minutes-or-less, time-to-make, course, main...</td>\n      <td>...</td>\n      <td>122.0</td>\n      <td>97.0</td>\n      <td>12.0</td>\n      <td>Non-veg</td>\n      <td>0.000</td>\n      <td>0.769</td>\n      <td>0.231</td>\n      <td>0.5106</td>\n      <td>125245</td>\n      <td>41902</td>\n    </tr>\n    <tr>\n      <th>562846</th>\n      <td>7973</td>\n      <td>9518</td>\n      <td>2004-06-06</td>\n      <td>5.0</td>\n      <td>this was so good big hit with my family even t...</td>\n      <td>tortellini fruit salad</td>\n      <td>20</td>\n      <td>28649</td>\n      <td>2002-04-27</td>\n      <td>30-minutes-or-less, time-to-make, course, main...</td>\n      <td>...</td>\n      <td>22.0</td>\n      <td>13.0</td>\n      <td>21.0</td>\n      <td>Veg</td>\n      <td>0.000</td>\n      <td>0.744</td>\n      <td>0.256</td>\n      <td>0.9295</td>\n      <td>918</td>\n      <td>143564</td>\n    </tr>\n    <tr>\n      <th>110344</th>\n      <td>32472</td>\n      <td>127930</td>\n      <td>2008-06-10</td>\n      <td>5.0</td>\n      <td>big big problem...i have this delicious cheese...</td>\n      <td>the best blueberry cheesecake</td>\n      <td>75</td>\n      <td>407338</td>\n      <td>2008-03-14</td>\n      <td>time-to-make, course, cuisine, preparation, oc...</td>\n      <td>...</td>\n      <td>19.0</td>\n      <td>126.0</td>\n      <td>16.0</td>\n      <td>Non-veg</td>\n      <td>0.042</td>\n      <td>0.779</td>\n      <td>0.178</td>\n      <td>0.8844</td>\n      <td>4004</td>\n      <td>42511</td>\n    </tr>\n    <tr>\n      <th>860074</th>\n      <td>43361</td>\n      <td>72037</td>\n      <td>2012-04-08</td>\n      <td>5.0</td>\n      <td>yummy we loved this great pork recipe i made t...</td>\n      <td>honey pork</td>\n      <td>45</td>\n      <td>130645</td>\n      <td>2006-03-12</td>\n      <td>60-minutes-or-less, time-to-make, course, main...</td>\n      <td>...</td>\n      <td>48.0</td>\n      <td>7.0</td>\n      <td>4.0</td>\n      <td>Healthy</td>\n      <td>0.000</td>\n      <td>0.785</td>\n      <td>0.215</td>\n      <td>0.9665</td>\n      <td>882</td>\n      <td>48891</td>\n    </tr>\n    <tr>\n      <th>110361</th>\n      <td>165822</td>\n      <td>127930</td>\n      <td>2016-11-04</td>\n      <td>5.0</td>\n      <td>i have been making this cheesecake for my hubb...</td>\n      <td>the best blueberry cheesecake</td>\n      <td>75</td>\n      <td>407338</td>\n      <td>2008-03-14</td>\n      <td>time-to-make, course, cuisine, preparation, oc...</td>\n      <td>...</td>\n      <td>19.0</td>\n      <td>126.0</td>\n      <td>16.0</td>\n      <td>Non-veg</td>\n      <td>0.025</td>\n      <td>0.831</td>\n      <td>0.144</td>\n      <td>0.9391</td>\n      <td>133880</td>\n      <td>42511</td>\n    </tr>\n    <tr>\n      <th>110365</th>\n      <td>173806</td>\n      <td>127930</td>\n      <td>2017-05-11</td>\n      <td>5.0</td>\n      <td>hi quick question what do you mean by stie</td>\n      <td>the best blueberry cheesecake</td>\n      <td>75</td>\n      <td>407338</td>\n      <td>2008-03-14</td>\n      <td>time-to-make, course, cuisine, preparation, oc...</td>\n      <td>...</td>\n      <td>19.0</td>\n      <td>126.0</td>\n      <td>16.0</td>\n      <td>Non-veg</td>\n      <td>0.000</td>\n      <td>1.000</td>\n      <td>0.000</td>\n      <td>0.0000</td>\n      <td>136998</td>\n      <td>42511</td>\n    </tr>\n    <tr>\n      <th>894529</th>\n      <td>28770</td>\n      <td>15273</td>\n      <td>2007-03-19</td>\n      <td>4.0</td>\n      <td>i made this as a main dish using large portabe...</td>\n      <td>egg stuffed mushrooms</td>\n      <td>45</td>\n      <td>30534</td>\n      <td>2002-08-30</td>\n      <td>60-minutes-or-less, time-to-make, course, main...</td>\n      <td>...</td>\n      <td>5.0</td>\n      <td>6.0</td>\n      <td>0.0</td>\n      <td>Healthy</td>\n      <td>0.000</td>\n      <td>0.743</td>\n      <td>0.257</td>\n      <td>0.8399</td>\n      <td>46129</td>\n      <td>27296</td>\n    </tr>\n    <tr>\n      <th>110369</th>\n      <td>185194</td>\n      <td>127930</td>\n      <td>2018-02-27</td>\n      <td>5.0</td>\n      <td>it was so good. i did not have sourcream so i ...</td>\n      <td>the best blueberry cheesecake</td>\n      <td>75</td>\n      <td>407338</td>\n      <td>2008-03-14</td>\n      <td>time-to-make, course, cuisine, preparation, oc...</td>\n      <td>...</td>\n      <td>19.0</td>\n      <td>126.0</td>\n      <td>16.0</td>\n      <td>Non-veg</td>\n      <td>0.000</td>\n      <td>0.741</td>\n      <td>0.259</td>\n      <td>0.8570</td>\n      <td>139117</td>\n      <td>42511</td>\n    </tr>\n    <tr>\n      <th>663563</th>\n      <td>33275</td>\n      <td>17132</td>\n      <td>2007-02-05</td>\n      <td>1.0</td>\n      <td>this chicken cordon bleu was awful the bacon d...</td>\n      <td>awesome chicken cordon bleu</td>\n      <td>60</td>\n      <td>57408</td>\n      <td>2002-10-14</td>\n      <td>60-minutes-or-less, time-to-make, course, main...</td>\n      <td>...</td>\n      <td>122.0</td>\n      <td>97.0</td>\n      <td>12.0</td>\n      <td>Non-veg</td>\n      <td>0.146</td>\n      <td>0.777</td>\n      <td>0.076</td>\n      <td>-0.6298</td>\n      <td>139859</td>\n      <td>41902</td>\n    </tr>\n    <tr>\n      <th>562845</th>\n      <td>14104</td>\n      <td>9518</td>\n      <td>2004-05-09</td>\n      <td>4.0</td>\n      <td>this was very good and i actually used the hal...</td>\n      <td>tortellini fruit salad</td>\n      <td>20</td>\n      <td>28649</td>\n      <td>2002-04-27</td>\n      <td>30-minutes-or-less, time-to-make, course, main...</td>\n      <td>...</td>\n      <td>22.0</td>\n      <td>13.0</td>\n      <td>21.0</td>\n      <td>Veg</td>\n      <td>0.000</td>\n      <td>0.742</td>\n      <td>0.258</td>\n      <td>0.8553</td>\n      <td>71737</td>\n      <td>143564</td>\n    </tr>\n    <tr>\n      <th>823869</th>\n      <td>20109</td>\n      <td>109395</td>\n      <td>2009-01-12</td>\n      <td>5.0</td>\n      <td>i love mushrooms and this was a particularly f...</td>\n      <td>zuppa di porcini  porcini mushrooms soup</td>\n      <td>41</td>\n      <td>383346</td>\n      <td>2007-08-09</td>\n      <td>60-minutes-or-less, time-to-make, course, main...</td>\n      <td>...</td>\n      <td>6.0</td>\n      <td>31.0</td>\n      <td>0.0</td>\n      <td>Healthy</td>\n      <td>0.014</td>\n      <td>0.830</td>\n      <td>0.157</td>\n      <td>0.9579</td>\n      <td>708</td>\n      <td>42863</td>\n    </tr>\n    <tr>\n      <th>110354</th>\n      <td>135511</td>\n      <td>127930</td>\n      <td>2014-07-13</td>\n      <td>5.0</td>\n      <td>absolutely delicious i had some blueberries an...</td>\n      <td>the best blueberry cheesecake</td>\n      <td>75</td>\n      <td>407338</td>\n      <td>2008-03-14</td>\n      <td>time-to-make, course, cuisine, preparation, oc...</td>\n      <td>...</td>\n      <td>19.0</td>\n      <td>126.0</td>\n      <td>16.0</td>\n      <td>Non-veg</td>\n      <td>0.000</td>\n      <td>0.806</td>\n      <td>0.194</td>\n      <td>0.9286</td>\n      <td>147411</td>\n      <td>42511</td>\n    </tr>\n    <tr>\n      <th>110352</th>\n      <td>137782</td>\n      <td>127930</td>\n      <td>2013-10-27</td>\n      <td>5.0</td>\n      <td>i have been making this recipe since the summe...</td>\n      <td>the best blueberry cheesecake</td>\n      <td>75</td>\n      <td>407338</td>\n      <td>2008-03-14</td>\n      <td>time-to-make, course, cuisine, preparation, oc...</td>\n      <td>...</td>\n      <td>19.0</td>\n      <td>126.0</td>\n      <td>16.0</td>\n      <td>Non-veg</td>\n      <td>0.000</td>\n      <td>0.857</td>\n      <td>0.143</td>\n      <td>0.3612</td>\n      <td>152300</td>\n      <td>42511</td>\n    </tr>\n    <tr>\n      <th>110357</th>\n      <td>151900</td>\n      <td>127930</td>\n      <td>2015-06-19</td>\n      <td>5.0</td>\n      <td>really great recipe and the best cheesecake i ...</td>\n      <td>the best blueberry cheesecake</td>\n      <td>75</td>\n      <td>407338</td>\n      <td>2008-03-14</td>\n      <td>time-to-make, course, cuisine, preparation, oc...</td>\n      <td>...</td>\n      <td>19.0</td>\n      <td>126.0</td>\n      <td>16.0</td>\n      <td>Non-veg</td>\n      <td>0.000</td>\n      <td>0.580</td>\n      <td>0.420</td>\n      <td>0.9117</td>\n      <td>176511</td>\n      <td>42511</td>\n    </tr>\n    <tr>\n      <th>562844</th>\n      <td>117</td>\n      <td>9518</td>\n      <td>2002-10-15</td>\n      <td>5.0</td>\n      <td>what a delight i used cheese tortellini your r...</td>\n      <td>tortellini fruit salad</td>\n      <td>20</td>\n      <td>28649</td>\n      <td>2002-04-27</td>\n      <td>30-minutes-or-less, time-to-make, course, main...</td>\n      <td>...</td>\n      <td>22.0</td>\n      <td>13.0</td>\n      <td>21.0</td>\n      <td>Veg</td>\n      <td>0.065</td>\n      <td>0.636</td>\n      <td>0.299</td>\n      <td>0.8727</td>\n      <td>50</td>\n      <td>143564</td>\n    </tr>\n    <tr>\n      <th>110346</th>\n      <td>74904</td>\n      <td>127930</td>\n      <td>2009-09-21</td>\n      <td>5.0</td>\n      <td>this cheesecake was amazing so creamy and the ...</td>\n      <td>the best blueberry cheesecake</td>\n      <td>75</td>\n      <td>407338</td>\n      <td>2008-03-14</td>\n      <td>time-to-make, course, cuisine, preparation, oc...</td>\n      <td>...</td>\n      <td>19.0</td>\n      <td>126.0</td>\n      <td>16.0</td>\n      <td>Non-veg</td>\n      <td>0.017</td>\n      <td>0.630</td>\n      <td>0.353</td>\n      <td>0.9847</td>\n      <td>185371</td>\n      <td>42511</td>\n    </tr>\n    <tr>\n      <th>110350</th>\n      <td>125463</td>\n      <td>127930</td>\n      <td>2012-12-05</td>\n      <td>5.0</td>\n      <td>wow. fab recipe and easy to follow we loved th...</td>\n      <td>the best blueberry cheesecake</td>\n      <td>75</td>\n      <td>407338</td>\n      <td>2008-03-14</td>\n      <td>time-to-make, course, cuisine, preparation, oc...</td>\n      <td>...</td>\n      <td>19.0</td>\n      <td>126.0</td>\n      <td>16.0</td>\n      <td>Non-veg</td>\n      <td>0.000</td>\n      <td>0.666</td>\n      <td>0.334</td>\n      <td>0.9721</td>\n      <td>188415</td>\n      <td>42511</td>\n    </tr>\n    <tr>\n      <th>823868</th>\n      <td>24930</td>\n      <td>109395</td>\n      <td>2007-11-22</td>\n      <td>5.0</td>\n      <td>delicious soup thanks i used cepes mushrooms w...</td>\n      <td>zuppa di porcini  porcini mushrooms soup</td>\n      <td>41</td>\n      <td>383346</td>\n      <td>2007-08-09</td>\n      <td>60-minutes-or-less, time-to-make, course, main...</td>\n      <td>...</td>\n      <td>6.0</td>\n      <td>31.0</td>\n      <td>0.0</td>\n      <td>Healthy</td>\n      <td>0.052</td>\n      <td>0.722</td>\n      <td>0.226</td>\n      <td>0.8555</td>\n      <td>1839</td>\n      <td>42863</td>\n    </tr>\n    <tr>\n      <th>620656</th>\n      <td>54278</td>\n      <td>145831</td>\n      <td>2009-01-07</td>\n      <td>4.0</td>\n      <td>this was a good chicken but i think the next t...</td>\n      <td>chicken coated with pecans and his honey sauce</td>\n      <td>25</td>\n      <td>383346</td>\n      <td>2008-11-27</td>\n      <td>30-minutes-or-less, time-to-make, course, main...</td>\n      <td>...</td>\n      <td>65.0</td>\n      <td>14.0</td>\n      <td>9.0</td>\n      <td>Non-veg</td>\n      <td>0.066</td>\n      <td>0.886</td>\n      <td>0.048</td>\n      <td>-0.1815</td>\n      <td>1231</td>\n      <td>124490</td>\n    </tr>\n  </tbody>\n</table>\n<p>53 rows × 29 columns</p>\n</div>"
     },
     "execution_count": 29,
     "metadata": {},
     "output_type": "execute_result"
    }
   ],
   "source": [
    "# get recipe ids from the df\n",
    "df[df[\"recipe_id\"].isin(recipe_ids)]"
   ],
   "metadata": {
    "collapsed": false
   }
  },
  {
   "cell_type": "code",
   "execution_count": 31,
   "outputs": [
    {
     "data": {
      "text/plain": "12451"
     },
     "execution_count": 31,
     "metadata": {},
     "output_type": "execute_result"
    }
   ],
   "source": [
    "# recommend recipes for a user\n",
    "user_id = 100\n",
    "# get index of user\n",
    "user_index = user2user_encoded[user_id]\n",
    "user_index"
   ],
   "metadata": {
    "collapsed": false
   }
  },
  {
   "cell_type": "code",
   "execution_count": 32,
   "outputs": [
    {
     "data": {
      "text/plain": "array([ 1.34788060e-33,  1.01863492e-33,  5.48638478e-34, -9.96287298e-34,\n       -8.79622423e-35,  5.51311259e-34,  7.96465014e-34,  7.61501404e-34,\n        9.85555035e-34,  1.44162627e-33, -6.06080479e-34,  1.14573965e-33,\n        1.02745553e-33,  1.27395229e-33,  1.76747331e-34,  1.66926075e-34,\n        1.41425782e-33, -2.59552091e-34, -3.41760289e-35,  2.21286812e-35,\n        1.03254248e-33, -4.14039967e-34, -1.30334552e-33, -1.04768579e-33,\n       -2.66941037e-13, -2.11308334e-34,  6.03262231e-34, -1.12993807e-33,\n        1.21415783e-33, -2.37568878e-34,  3.99337471e-34, -1.41367155e-33],\n      dtype=float32)"
     },
     "execution_count": 32,
     "metadata": {},
     "output_type": "execute_result"
    }
   ],
   "source": [
    "# get embedding of user\n",
    "user_embedding[user_index]"
   ],
   "metadata": {
    "collapsed": false
   }
  },
  {
   "cell_type": "code",
   "execution_count": 33,
   "outputs": [],
   "source": [
    "# save recipe2recipe_encoded to json\n",
    "import json\n",
    "\n",
    "with open('recipe2recipe_encoded.json', 'w') as fp:\n",
    "    json.dump(recipe2recipe_encoded, fp)"
   ],
   "metadata": {
    "collapsed": false
   }
  },
  {
   "cell_type": "code",
   "execution_count": 34,
   "outputs": [],
   "source": [
    "with open('user2user_encoded.json', 'w') as fp:\n",
    "    json.dump(user2user_encoded, fp)"
   ],
   "metadata": {
    "collapsed": false
   }
  },
  {
   "cell_type": "code",
   "execution_count": null,
   "outputs": [],
   "source": [],
   "metadata": {
    "collapsed": false
   }
  }
 ],
 "metadata": {
  "kernelspec": {
   "display_name": "Python 3 (ipykernel)",
   "language": "python",
   "name": "python3"
  },
  "language_info": {
   "codemirror_mode": {
    "name": "ipython",
    "version": 3
   },
   "file_extension": ".py",
   "mimetype": "text/x-python",
   "name": "python",
   "nbconvert_exporter": "python",
   "pygments_lexer": "ipython3",
   "version": "3.9.6"
  }
 },
 "nbformat": 4,
 "nbformat_minor": 4
}
