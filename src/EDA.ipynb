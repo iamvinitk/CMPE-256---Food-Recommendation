{
 "cells": [
  {
   "cell_type": "markdown",
   "metadata": {},
   "source": [
    "This the Notebook where we did exploratory analysis of our data"
   ]
  },
  {
   "cell_type": "markdown",
   "metadata": {},
   "source": [
    "# Import libraries"
   ]
  },
  {
   "cell_type": "code",
   "execution_count": 48,
   "metadata": {},
   "outputs": [],
   "source": [
    "import pandas as pd\n",
    "\n",
    "#import re\n",
    "import warnings\n",
    "warnings.filterwarnings(\"ignore\")"
   ]
  },
  {
   "cell_type": "markdown",
   "metadata": {},
   "source": [
    "# Raw Recipes dataset"
   ]
  },
  {
   "cell_type": "code",
   "execution_count": 49,
   "metadata": {},
   "outputs": [],
   "source": [
    "recipes = pd.read_csv('../data/RAW_recipes.csv')"
   ]
  },
  {
   "cell_type": "code",
   "execution_count": 50,
   "metadata": {},
   "outputs": [
    {
     "data": {
      "text/html": [
       "<div>\n",
       "<style scoped>\n",
       "    .dataframe tbody tr th:only-of-type {\n",
       "        vertical-align: middle;\n",
       "    }\n",
       "\n",
       "    .dataframe tbody tr th {\n",
       "        vertical-align: top;\n",
       "    }\n",
       "\n",
       "    .dataframe thead th {\n",
       "        text-align: right;\n",
       "    }\n",
       "</style>\n",
       "<table border=\"1\" class=\"dataframe\">\n",
       "  <thead>\n",
       "    <tr style=\"text-align: right;\">\n",
       "      <th></th>\n",
       "      <th>name</th>\n",
       "      <th>id</th>\n",
       "      <th>minutes</th>\n",
       "      <th>contributor_id</th>\n",
       "      <th>submitted</th>\n",
       "      <th>tags</th>\n",
       "      <th>nutrition</th>\n",
       "      <th>n_steps</th>\n",
       "      <th>steps</th>\n",
       "      <th>description</th>\n",
       "      <th>ingredients</th>\n",
       "      <th>n_ingredients</th>\n",
       "    </tr>\n",
       "  </thead>\n",
       "  <tbody>\n",
       "    <tr>\n",
       "      <th>0</th>\n",
       "      <td>arriba   baked winter squash mexican style</td>\n",
       "      <td>137739</td>\n",
       "      <td>55</td>\n",
       "      <td>47892</td>\n",
       "      <td>2005-09-16</td>\n",
       "      <td>['60-minutes-or-less', 'time-to-make', 'course...</td>\n",
       "      <td>[51.5, 0.0, 13.0, 0.0, 2.0, 0.0, 4.0]</td>\n",
       "      <td>11</td>\n",
       "      <td>['make a choice and proceed with recipe', 'dep...</td>\n",
       "      <td>autumn is my favorite time of year to cook! th...</td>\n",
       "      <td>['winter squash', 'mexican seasoning', 'mixed ...</td>\n",
       "      <td>7</td>\n",
       "    </tr>\n",
       "    <tr>\n",
       "      <th>1</th>\n",
       "      <td>a bit different  breakfast pizza</td>\n",
       "      <td>31490</td>\n",
       "      <td>30</td>\n",
       "      <td>26278</td>\n",
       "      <td>2002-06-17</td>\n",
       "      <td>['30-minutes-or-less', 'time-to-make', 'course...</td>\n",
       "      <td>[173.4, 18.0, 0.0, 17.0, 22.0, 35.0, 1.0]</td>\n",
       "      <td>9</td>\n",
       "      <td>['preheat oven to 425 degrees f', 'press dough...</td>\n",
       "      <td>this recipe calls for the crust to be prebaked...</td>\n",
       "      <td>['prepared pizza crust', 'sausage patty', 'egg...</td>\n",
       "      <td>6</td>\n",
       "    </tr>\n",
       "    <tr>\n",
       "      <th>2</th>\n",
       "      <td>all in the kitchen  chili</td>\n",
       "      <td>112140</td>\n",
       "      <td>130</td>\n",
       "      <td>196586</td>\n",
       "      <td>2005-02-25</td>\n",
       "      <td>['time-to-make', 'course', 'preparation', 'mai...</td>\n",
       "      <td>[269.8, 22.0, 32.0, 48.0, 39.0, 27.0, 5.0]</td>\n",
       "      <td>6</td>\n",
       "      <td>['brown ground beef in large pot', 'add choppe...</td>\n",
       "      <td>this modified version of 'mom's' chili was a h...</td>\n",
       "      <td>['ground beef', 'yellow onions', 'diced tomato...</td>\n",
       "      <td>13</td>\n",
       "    </tr>\n",
       "    <tr>\n",
       "      <th>3</th>\n",
       "      <td>alouette  potatoes</td>\n",
       "      <td>59389</td>\n",
       "      <td>45</td>\n",
       "      <td>68585</td>\n",
       "      <td>2003-04-14</td>\n",
       "      <td>['60-minutes-or-less', 'time-to-make', 'course...</td>\n",
       "      <td>[368.1, 17.0, 10.0, 2.0, 14.0, 8.0, 20.0]</td>\n",
       "      <td>11</td>\n",
       "      <td>['place potatoes in a large pot of lightly sal...</td>\n",
       "      <td>this is a super easy, great tasting, make ahea...</td>\n",
       "      <td>['spreadable cheese with garlic and herbs', 'n...</td>\n",
       "      <td>11</td>\n",
       "    </tr>\n",
       "    <tr>\n",
       "      <th>4</th>\n",
       "      <td>amish  tomato ketchup  for canning</td>\n",
       "      <td>44061</td>\n",
       "      <td>190</td>\n",
       "      <td>41706</td>\n",
       "      <td>2002-10-25</td>\n",
       "      <td>['weeknight', 'time-to-make', 'course', 'main-...</td>\n",
       "      <td>[352.9, 1.0, 337.0, 23.0, 3.0, 0.0, 28.0]</td>\n",
       "      <td>5</td>\n",
       "      <td>['mix all ingredients&amp; boil for 2 1 / 2 hours ...</td>\n",
       "      <td>my dh's amish mother raised him on this recipe...</td>\n",
       "      <td>['tomato juice', 'apple cider vinegar', 'sugar...</td>\n",
       "      <td>8</td>\n",
       "    </tr>\n",
       "  </tbody>\n",
       "</table>\n",
       "</div>"
      ],
      "text/plain": [
       "                                         name      id  minutes  \\\n",
       "0  arriba   baked winter squash mexican style  137739       55   \n",
       "1            a bit different  breakfast pizza   31490       30   \n",
       "2                   all in the kitchen  chili  112140      130   \n",
       "3                          alouette  potatoes   59389       45   \n",
       "4          amish  tomato ketchup  for canning   44061      190   \n",
       "\n",
       "   contributor_id   submitted  \\\n",
       "0           47892  2005-09-16   \n",
       "1           26278  2002-06-17   \n",
       "2          196586  2005-02-25   \n",
       "3           68585  2003-04-14   \n",
       "4           41706  2002-10-25   \n",
       "\n",
       "                                                tags  \\\n",
       "0  ['60-minutes-or-less', 'time-to-make', 'course...   \n",
       "1  ['30-minutes-or-less', 'time-to-make', 'course...   \n",
       "2  ['time-to-make', 'course', 'preparation', 'mai...   \n",
       "3  ['60-minutes-or-less', 'time-to-make', 'course...   \n",
       "4  ['weeknight', 'time-to-make', 'course', 'main-...   \n",
       "\n",
       "                                    nutrition  n_steps  \\\n",
       "0       [51.5, 0.0, 13.0, 0.0, 2.0, 0.0, 4.0]       11   \n",
       "1   [173.4, 18.0, 0.0, 17.0, 22.0, 35.0, 1.0]        9   \n",
       "2  [269.8, 22.0, 32.0, 48.0, 39.0, 27.0, 5.0]        6   \n",
       "3   [368.1, 17.0, 10.0, 2.0, 14.0, 8.0, 20.0]       11   \n",
       "4   [352.9, 1.0, 337.0, 23.0, 3.0, 0.0, 28.0]        5   \n",
       "\n",
       "                                               steps  \\\n",
       "0  ['make a choice and proceed with recipe', 'dep...   \n",
       "1  ['preheat oven to 425 degrees f', 'press dough...   \n",
       "2  ['brown ground beef in large pot', 'add choppe...   \n",
       "3  ['place potatoes in a large pot of lightly sal...   \n",
       "4  ['mix all ingredients& boil for 2 1 / 2 hours ...   \n",
       "\n",
       "                                         description  \\\n",
       "0  autumn is my favorite time of year to cook! th...   \n",
       "1  this recipe calls for the crust to be prebaked...   \n",
       "2  this modified version of 'mom's' chili was a h...   \n",
       "3  this is a super easy, great tasting, make ahea...   \n",
       "4  my dh's amish mother raised him on this recipe...   \n",
       "\n",
       "                                         ingredients  n_ingredients  \n",
       "0  ['winter squash', 'mexican seasoning', 'mixed ...              7  \n",
       "1  ['prepared pizza crust', 'sausage patty', 'egg...              6  \n",
       "2  ['ground beef', 'yellow onions', 'diced tomato...             13  \n",
       "3  ['spreadable cheese with garlic and herbs', 'n...             11  \n",
       "4  ['tomato juice', 'apple cider vinegar', 'sugar...              8  "
      ]
     },
     "execution_count": 50,
     "metadata": {},
     "output_type": "execute_result"
    }
   ],
   "source": [
    "recipes.head()"
   ]
  },
  {
   "cell_type": "code",
   "execution_count": 51,
   "metadata": {},
   "outputs": [
    {
     "data": {
      "text/plain": [
       "(231637, 12)"
      ]
     },
     "execution_count": 51,
     "metadata": {},
     "output_type": "execute_result"
    }
   ],
   "source": [
    "recipes.shape"
   ]
  },
  {
   "cell_type": "code",
   "execution_count": 52,
   "metadata": {},
   "outputs": [
    {
     "data": {
      "text/plain": [
       "Index(['name', 'id', 'minutes', 'contributor_id', 'submitted', 'tags',\n",
       "       'nutrition', 'n_steps', 'steps', 'description', 'ingredients',\n",
       "       'n_ingredients'],\n",
       "      dtype='object')"
      ]
     },
     "execution_count": 52,
     "metadata": {},
     "output_type": "execute_result"
    }
   ],
   "source": [
    "recipes.columns"
   ]
  },
  {
   "cell_type": "code",
   "execution_count": 53,
   "metadata": {},
   "outputs": [
    {
     "name": "stdout",
     "output_type": "stream",
     "text": [
      "<class 'pandas.core.frame.DataFrame'>\n",
      "RangeIndex: 231637 entries, 0 to 231636\n",
      "Data columns (total 12 columns):\n",
      " #   Column          Non-Null Count   Dtype \n",
      "---  ------          --------------   ----- \n",
      " 0   name            231636 non-null  object\n",
      " 1   id              231637 non-null  int64 \n",
      " 2   minutes         231637 non-null  int64 \n",
      " 3   contributor_id  231637 non-null  int64 \n",
      " 4   submitted       231637 non-null  object\n",
      " 5   tags            231637 non-null  object\n",
      " 6   nutrition       231637 non-null  object\n",
      " 7   n_steps         231637 non-null  int64 \n",
      " 8   steps           231637 non-null  object\n",
      " 9   description     226658 non-null  object\n",
      " 10  ingredients     231637 non-null  object\n",
      " 11  n_ingredients   231637 non-null  int64 \n",
      "dtypes: int64(5), object(7)\n",
      "memory usage: 21.2+ MB\n"
     ]
    }
   ],
   "source": [
    "recipes.info()"
   ]
  },
  {
   "cell_type": "code",
   "execution_count": 54,
   "metadata": {},
   "outputs": [
    {
     "data": {
      "text/plain": [
       "name              0.000432\n",
       "id                0.000000\n",
       "minutes           0.000000\n",
       "contributor_id    0.000000\n",
       "submitted         0.000000\n",
       "tags              0.000000\n",
       "nutrition         0.000000\n",
       "n_steps           0.000000\n",
       "steps             0.000000\n",
       "description       2.149484\n",
       "ingredients       0.000000\n",
       "n_ingredients     0.000000\n",
       "dtype: float64"
      ]
     },
     "execution_count": 54,
     "metadata": {},
     "output_type": "execute_result"
    }
   ],
   "source": [
    "# Missing values in terms of percentage\n",
    "recipes.isnull().sum() / len(recipes) * 100"
   ]
  },
  {
   "cell_type": "code",
   "execution_count": 55,
   "metadata": {},
   "outputs": [],
   "source": [
    "# drop the columns with missing values as they are a fraction of the dataset\n",
    "recipes.dropna(axis=1, inplace=True)"
   ]
  },
  {
   "cell_type": "code",
   "execution_count": 56,
   "metadata": {},
   "outputs": [
    {
     "data": {
      "text/plain": [
       "(231637, 10)"
      ]
     },
     "execution_count": 56,
     "metadata": {},
     "output_type": "execute_result"
    }
   ],
   "source": [
    "recipes.shape"
   ]
  },
  {
   "cell_type": "markdown",
   "metadata": {},
   "source": [
    "## Preparation time of recipes"
   ]
  },
  {
   "cell_type": "code",
   "execution_count": 28,
   "metadata": {},
   "outputs": [
    {
     "data": {
      "text/plain": [
       "count    2.316370e+05\n",
       "mean     9.398546e+03\n",
       "std      4.461963e+06\n",
       "min      0.000000e+00\n",
       "25%      2.000000e+01\n",
       "50%      4.000000e+01\n",
       "75%      6.500000e+01\n",
       "max      2.147484e+09\n",
       "Name: minutes, dtype: float64"
      ]
     },
     "execution_count": 28,
     "metadata": {},
     "output_type": "execute_result"
    }
   ],
   "source": [
    "recipes['minutes'].describe()"
   ]
  },
  {
   "cell_type": "markdown",
   "metadata": {},
   "source": [
    "Let's also look at preparation time in hours"
   ]
  },
  {
   "cell_type": "code",
   "execution_count": 63,
   "metadata": {},
   "outputs": [],
   "source": [
    "recipes['preparation time'] = recipes['minutes']/60"
   ]
  },
  {
   "cell_type": "code",
   "execution_count": 64,
   "metadata": {},
   "outputs": [
    {
     "data": {
      "text/plain": [
       "0    0.916667\n",
       "1    0.500000\n",
       "2    2.166667\n",
       "3    0.750000\n",
       "4    3.166667\n",
       "Name: preparation time, dtype: float64"
      ]
     },
     "execution_count": 64,
     "metadata": {},
     "output_type": "execute_result"
    }
   ],
   "source": [
    "recipes['preparation time'].head()"
   ]
  },
  {
   "cell_type": "code",
   "execution_count": 65,
   "metadata": {},
   "outputs": [
    {
     "data": {
      "text/plain": [
       "count    2.316370e+05\n",
       "mean     1.566424e+02\n",
       "std      7.436605e+04\n",
       "min      0.000000e+00\n",
       "25%      3.333333e-01\n",
       "50%      6.666667e-01\n",
       "75%      1.083333e+00\n",
       "max      3.579139e+07\n",
       "Name: preparation time, dtype: float64"
      ]
     },
     "execution_count": 65,
     "metadata": {},
     "output_type": "execute_result"
    }
   ],
   "source": [
    "recipes['preparation time'].describe()"
   ]
  },
  {
   "cell_type": "markdown",
   "metadata": {},
   "source": [
    "75% of recipes took less than one hour to prepare"
   ]
  },
  {
   "cell_type": "code",
   "execution_count": 66,
   "metadata": {},
   "outputs": [
    {
     "data": {
      "text/plain": [
       "<AxesSubplot:>"
      ]
     },
     "execution_count": 66,
     "metadata": {},
     "output_type": "execute_result"
    },
    {
     "data": {
      "image/png": "[encoded data removed]",
      "text/plain": [
       "<Figure size 640x480 with 1 Axes>"
      ]
     },
     "metadata": {},
     "output_type": "display_data"
    }
   ],
   "source": [
    "# plot the distribution of minutes to prepare\n",
    "recipes.minutes.hist()"
   ]
  },
  {
   "cell_type": "code",
   "execution_count": 67,
   "metadata": {},
   "outputs": [
    {
     "name": "stdout",
     "output_type": "stream",
     "text": [
      "Min time:  0\n",
      "Max time:  2147483647\n"
     ]
    }
   ],
   "source": [
    "# There seems to be some outliers in the minutes column\n",
    "min_time = recipes.minutes.min()\n",
    "max_time = recipes.minutes.max()\n",
    "print(\"Min time: \", min_time)\n",
    "print(\"Max time: \", max_time)"
   ]
  },
  {
   "cell_type": "code",
   "execution_count": 68,
   "metadata": {},
   "outputs": [
    {
     "data": {
      "text/html": [
       "<div>\n",
       "<style scoped>\n",
       "    .dataframe tbody tr th:only-of-type {\n",
       "        vertical-align: middle;\n",
       "    }\n",
       "\n",
       "    .dataframe tbody tr th {\n",
       "        vertical-align: top;\n",
       "    }\n",
       "\n",
       "    .dataframe thead th {\n",
       "        text-align: right;\n",
       "    }\n",
       "</style>\n",
       "<table border=\"1\" class=\"dataframe\">\n",
       "  <thead>\n",
       "    <tr style=\"text-align: right;\">\n",
       "      <th></th>\n",
       "      <th>id</th>\n",
       "      <th>minutes</th>\n",
       "      <th>contributor_id</th>\n",
       "      <th>submitted</th>\n",
       "      <th>tags</th>\n",
       "      <th>nutrition</th>\n",
       "      <th>n_steps</th>\n",
       "      <th>steps</th>\n",
       "      <th>ingredients</th>\n",
       "      <th>n_ingredients</th>\n",
       "      <th>preparation time</th>\n",
       "    </tr>\n",
       "  </thead>\n",
       "  <tbody>\n",
       "    <tr>\n",
       "      <th>11</th>\n",
       "      <td>42198</td>\n",
       "      <td>1460</td>\n",
       "      <td>41531</td>\n",
       "      <td>2002-10-03</td>\n",
       "      <td>['weeknight', 'time-to-make', 'course', 'main-...</td>\n",
       "      <td>[734.1, 66.0, 199.0, 10.0, 10.0, 117.0, 28.0]</td>\n",
       "      <td>8</td>\n",
       "      <td>['crush vanilla wafers into fine crumbs and li...</td>\n",
       "      <td>['vanilla wafers', 'butter', 'powdered sugar',...</td>\n",
       "      <td>7</td>\n",
       "      <td>24.333333</td>\n",
       "    </tr>\n",
       "    <tr>\n",
       "      <th>12</th>\n",
       "      <td>67547</td>\n",
       "      <td>2970</td>\n",
       "      <td>85627</td>\n",
       "      <td>2003-07-26</td>\n",
       "      <td>['weeknight', 'time-to-make', 'course', 'main-...</td>\n",
       "      <td>[462.4, 28.0, 214.0, 69.0, 14.0, 29.0, 23.0]</td>\n",
       "      <td>9</td>\n",
       "      <td>['in a very large sauce pan cover the beans an...</td>\n",
       "      <td>['great northern bean', 'chicken bouillon cube...</td>\n",
       "      <td>13</td>\n",
       "      <td>49.500000</td>\n",
       "    </tr>\n",
       "    <tr>\n",
       "      <th>13</th>\n",
       "      <td>107517</td>\n",
       "      <td>525</td>\n",
       "      <td>137696</td>\n",
       "      <td>2005-01-03</td>\n",
       "      <td>['time-to-make', 'main-ingredient', 'preparati...</td>\n",
       "      <td>[315.8, 0.0, 202.0, 9.0, 6.0, 0.0, 21.0]</td>\n",
       "      <td>7</td>\n",
       "      <td>['put prepared greens in large pot', 'add wate...</td>\n",
       "      <td>['collard greens', 'brown sugar', 'molasses', ...</td>\n",
       "      <td>7</td>\n",
       "      <td>8.750000</td>\n",
       "    </tr>\n",
       "    <tr>\n",
       "      <th>15</th>\n",
       "      <td>63986</td>\n",
       "      <td>500</td>\n",
       "      <td>14664</td>\n",
       "      <td>2003-06-06</td>\n",
       "      <td>['weeknight', 'time-to-make', 'course', 'main-...</td>\n",
       "      <td>[105.7, 8.0, 0.0, 26.0, 5.0, 4.0, 3.0]</td>\n",
       "      <td>5</td>\n",
       "      <td>['dredge pork chops in mixture of flour , salt...</td>\n",
       "      <td>['lean pork chops', 'flour', 'salt', 'dry must...</td>\n",
       "      <td>7</td>\n",
       "      <td>8.333333</td>\n",
       "    </tr>\n",
       "    <tr>\n",
       "      <th>27</th>\n",
       "      <td>47366</td>\n",
       "      <td>495</td>\n",
       "      <td>31871</td>\n",
       "      <td>2002-11-21</td>\n",
       "      <td>['weeknight', 'time-to-make', 'course', 'main-...</td>\n",
       "      <td>[346.9, 24.0, 18.0, 42.0, 42.0, 30.0, 10.0]</td>\n",
       "      <td>5</td>\n",
       "      <td>['in a slow cooker , combine the first nine in...</td>\n",
       "      <td>['beef stew meat', 'water', 'tomatoes', 'beef ...</td>\n",
       "      <td>14</td>\n",
       "      <td>8.250000</td>\n",
       "    </tr>\n",
       "    <tr>\n",
       "      <th>...</th>\n",
       "      <td>...</td>\n",
       "      <td>...</td>\n",
       "      <td>...</td>\n",
       "      <td>...</td>\n",
       "      <td>...</td>\n",
       "      <td>...</td>\n",
       "      <td>...</td>\n",
       "      <td>...</td>\n",
       "      <td>...</td>\n",
       "      <td>...</td>\n",
       "      <td>...</td>\n",
       "    </tr>\n",
       "    <tr>\n",
       "      <th>231232</th>\n",
       "      <td>158292</td>\n",
       "      <td>255</td>\n",
       "      <td>47892</td>\n",
       "      <td>2006-03-02</td>\n",
       "      <td>['time-to-make', 'course', 'main-ingredient', ...</td>\n",
       "      <td>[54.4, 5.0, 12.0, 0.0, 3.0, 2.0, 1.0]</td>\n",
       "      <td>9</td>\n",
       "      <td>['toss the thinly sliced zucchini with the lem...</td>\n",
       "      <td>['zucchini', 'lemon, juice of', 'garlic cloves...</td>\n",
       "      <td>7</td>\n",
       "      <td>4.250000</td>\n",
       "    </tr>\n",
       "    <tr>\n",
       "      <th>231355</th>\n",
       "      <td>462992</td>\n",
       "      <td>2900</td>\n",
       "      <td>1403860</td>\n",
       "      <td>2011-08-24</td>\n",
       "      <td>['time-to-make', 'course', 'main-ingredient', ...</td>\n",
       "      <td>[64.5, 0.0, 44.0, 53.0, 3.0, 0.0, 4.0]</td>\n",
       "      <td>27</td>\n",
       "      <td>['day one: in a large bowl or stainless pan co...</td>\n",
       "      <td>['zucchini', 'sweet white onions', 'green bell...</td>\n",
       "      <td>17</td>\n",
       "      <td>48.333333</td>\n",
       "    </tr>\n",
       "    <tr>\n",
       "      <th>231549</th>\n",
       "      <td>181958</td>\n",
       "      <td>540</td>\n",
       "      <td>89831</td>\n",
       "      <td>2006-08-15</td>\n",
       "      <td>['time-to-make', 'course', 'main-ingredient', ...</td>\n",
       "      <td>[616.3, 73.0, 11.0, 70.0, 71.0, 113.0, 3.0]</td>\n",
       "      <td>15</td>\n",
       "      <td>['grease a 13 x 9-inch baking dish', 'in a ski...</td>\n",
       "      <td>['italian sausages', 'green onions', 'fresh ga...</td>\n",
       "      <td>12</td>\n",
       "      <td>9.000000</td>\n",
       "    </tr>\n",
       "    <tr>\n",
       "      <th>231573</th>\n",
       "      <td>316950</td>\n",
       "      <td>2895</td>\n",
       "      <td>62264</td>\n",
       "      <td>2008-07-31</td>\n",
       "      <td>['time-to-make', 'course', 'main-ingredient', ...</td>\n",
       "      <td>[343.6, 2.0, 284.0, 194.0, 5.0, 0.0, 25.0]</td>\n",
       "      <td>13</td>\n",
       "      <td>['wash and trim the zucchini , then slice them...</td>\n",
       "      <td>['zucchini', 'yellow onion', 'kosher salt', 'c...</td>\n",
       "      <td>8</td>\n",
       "      <td>48.250000</td>\n",
       "    </tr>\n",
       "    <tr>\n",
       "      <th>231603</th>\n",
       "      <td>115337</td>\n",
       "      <td>290</td>\n",
       "      <td>107135</td>\n",
       "      <td>2005-04-05</td>\n",
       "      <td>['time-to-make', 'course', 'cuisine', 'prepara...</td>\n",
       "      <td>[467.4, 18.0, 2.0, 42.0, 26.0, 34.0, 25.0]</td>\n",
       "      <td>14</td>\n",
       "      <td>['add the yeast to one cup of the scalded , co...</td>\n",
       "      <td>['flour', 'butter', 'milk', 'salt', 'sugar', '...</td>\n",
       "      <td>7</td>\n",
       "      <td>4.833333</td>\n",
       "    </tr>\n",
       "  </tbody>\n",
       "</table>\n",
       "<p>12969 rows × 11 columns</p>\n",
       "</div>"
      ],
      "text/plain": [
       "            id  minutes  contributor_id   submitted  \\\n",
       "11       42198     1460           41531  2002-10-03   \n",
       "12       67547     2970           85627  2003-07-26   \n",
       "13      107517      525          137696  2005-01-03   \n",
       "15       63986      500           14664  2003-06-06   \n",
       "27       47366      495           31871  2002-11-21   \n",
       "...        ...      ...             ...         ...   \n",
       "231232  158292      255           47892  2006-03-02   \n",
       "231355  462992     2900         1403860  2011-08-24   \n",
       "231549  181958      540           89831  2006-08-15   \n",
       "231573  316950     2895           62264  2008-07-31   \n",
       "231603  115337      290          107135  2005-04-05   \n",
       "\n",
       "                                                     tags  \\\n",
       "11      ['weeknight', 'time-to-make', 'course', 'main-...   \n",
       "12      ['weeknight', 'time-to-make', 'course', 'main-...   \n",
       "13      ['time-to-make', 'main-ingredient', 'preparati...   \n",
       "15      ['weeknight', 'time-to-make', 'course', 'main-...   \n",
       "27      ['weeknight', 'time-to-make', 'course', 'main-...   \n",
       "...                                                   ...   \n",
       "231232  ['time-to-make', 'course', 'main-ingredient', ...   \n",
       "231355  ['time-to-make', 'course', 'main-ingredient', ...   \n",
       "231549  ['time-to-make', 'course', 'main-ingredient', ...   \n",
       "231573  ['time-to-make', 'course', 'main-ingredient', ...   \n",
       "231603  ['time-to-make', 'course', 'cuisine', 'prepara...   \n",
       "\n",
       "                                            nutrition  n_steps  \\\n",
       "11      [734.1, 66.0, 199.0, 10.0, 10.0, 117.0, 28.0]        8   \n",
       "12       [462.4, 28.0, 214.0, 69.0, 14.0, 29.0, 23.0]        9   \n",
       "13           [315.8, 0.0, 202.0, 9.0, 6.0, 0.0, 21.0]        7   \n",
       "15             [105.7, 8.0, 0.0, 26.0, 5.0, 4.0, 3.0]        5   \n",
       "27        [346.9, 24.0, 18.0, 42.0, 42.0, 30.0, 10.0]        5   \n",
       "...                                               ...      ...   \n",
       "231232          [54.4, 5.0, 12.0, 0.0, 3.0, 2.0, 1.0]        9   \n",
       "231355         [64.5, 0.0, 44.0, 53.0, 3.0, 0.0, 4.0]       27   \n",
       "231549    [616.3, 73.0, 11.0, 70.0, 71.0, 113.0, 3.0]       15   \n",
       "231573     [343.6, 2.0, 284.0, 194.0, 5.0, 0.0, 25.0]       13   \n",
       "231603     [467.4, 18.0, 2.0, 42.0, 26.0, 34.0, 25.0]       14   \n",
       "\n",
       "                                                    steps  \\\n",
       "11      ['crush vanilla wafers into fine crumbs and li...   \n",
       "12      ['in a very large sauce pan cover the beans an...   \n",
       "13      ['put prepared greens in large pot', 'add wate...   \n",
       "15      ['dredge pork chops in mixture of flour , salt...   \n",
       "27      ['in a slow cooker , combine the first nine in...   \n",
       "...                                                   ...   \n",
       "231232  ['toss the thinly sliced zucchini with the lem...   \n",
       "231355  ['day one: in a large bowl or stainless pan co...   \n",
       "231549  ['grease a 13 x 9-inch baking dish', 'in a ski...   \n",
       "231573  ['wash and trim the zucchini , then slice them...   \n",
       "231603  ['add the yeast to one cup of the scalded , co...   \n",
       "\n",
       "                                              ingredients  n_ingredients  \\\n",
       "11      ['vanilla wafers', 'butter', 'powdered sugar',...              7   \n",
       "12      ['great northern bean', 'chicken bouillon cube...             13   \n",
       "13      ['collard greens', 'brown sugar', 'molasses', ...              7   \n",
       "15      ['lean pork chops', 'flour', 'salt', 'dry must...              7   \n",
       "27      ['beef stew meat', 'water', 'tomatoes', 'beef ...             14   \n",
       "...                                                   ...            ...   \n",
       "231232  ['zucchini', 'lemon, juice of', 'garlic cloves...              7   \n",
       "231355  ['zucchini', 'sweet white onions', 'green bell...             17   \n",
       "231549  ['italian sausages', 'green onions', 'fresh ga...             12   \n",
       "231573  ['zucchini', 'yellow onion', 'kosher salt', 'c...              8   \n",
       "231603  ['flour', 'butter', 'milk', 'salt', 'sugar', '...              7   \n",
       "\n",
       "        preparation time  \n",
       "11             24.333333  \n",
       "12             49.500000  \n",
       "13              8.750000  \n",
       "15              8.333333  \n",
       "27              8.250000  \n",
       "...                  ...  \n",
       "231232          4.250000  \n",
       "231355         48.333333  \n",
       "231549          9.000000  \n",
       "231573         48.250000  \n",
       "231603          4.833333  \n",
       "\n",
       "[12969 rows x 11 columns]"
      ]
     },
     "execution_count": 68,
     "metadata": {},
     "output_type": "execute_result"
    }
   ],
   "source": [
    "# recipes that take more than 4 hours to prepare\n",
    "recipes[recipes.minutes > 60 * 4]"
   ]
  },
  {
   "cell_type": "code",
   "execution_count": 69,
   "metadata": {},
   "outputs": [],
   "source": [
    "# drop the rows with minutes > 4 hours\n",
    "recipes = recipes[recipes.minutes < 60 * 4]"
   ]
  },
  {
   "cell_type": "code",
   "execution_count": 70,
   "metadata": {},
   "outputs": [
    {
     "data": {
      "text/plain": [
       "(218292, 11)"
      ]
     },
     "execution_count": 70,
     "metadata": {},
     "output_type": "execute_result"
    }
   ],
   "source": [
    "recipes.shape"
   ]
  },
  {
   "cell_type": "code",
   "execution_count": 71,
   "metadata": {},
   "outputs": [
    {
     "data": {
      "text/plain": [
       "<AxesSubplot:>"
      ]
     },
     "execution_count": 71,
     "metadata": {},
     "output_type": "execute_result"
    },
    {
     "data": {
      "image/png": "[encoded data removed]",
      "text/plain": [
       "<Figure size 640x480 with 1 Axes>"
      ]
     },
     "metadata": {},
     "output_type": "display_data"
    }
   ],
   "source": [
    "# plot the distribution of minutes to prepare, add a title and labels to the axes\n",
    "recipes.minutes.hist()"
   ]
  },
  {
   "cell_type": "markdown",
   "metadata": {},
   "source": [
    "## Contributors to the recipes"
   ]
  },
  {
   "cell_type": "code",
   "execution_count": 73,
   "metadata": {},
   "outputs": [
    {
     "data": {
      "text/plain": [
       "89831     2795\n",
       "37449     2435\n",
       "37779     2398\n",
       "1533      1545\n",
       "58104     1482\n",
       "169430    1319\n",
       "80353     1089\n",
       "4470      1061\n",
       "283251     962\n",
       "21752      870\n",
       "Name: contributor_id, dtype: int64"
      ]
     },
     "execution_count": 73,
     "metadata": {},
     "output_type": "execute_result"
    }
   ],
   "source": [
    "# top 10 contributors\n",
    "recipes.contributor_id.value_counts().head(10)"
   ]
  },
  {
   "cell_type": "code",
   "execution_count": 74,
   "metadata": {},
   "outputs": [
    {
     "data": {
      "text/plain": [
       "8.078605529032975"
      ]
     },
     "execution_count": 74,
     "metadata": {},
     "output_type": "execute_result"
    }
   ],
   "source": [
    "recipes.contributor_id.value_counts().mean()"
   ]
  },
  {
   "cell_type": "code",
   "execution_count": 75,
   "metadata": {},
   "outputs": [
    {
     "data": {
      "text/plain": [
       "count    27021.000000\n",
       "mean         8.078606\n",
       "std         47.046531\n",
       "min          1.000000\n",
       "25%          1.000000\n",
       "50%          1.000000\n",
       "75%          3.000000\n",
       "max       2795.000000\n",
       "Name: contributor_id, dtype: float64"
      ]
     },
     "execution_count": 75,
     "metadata": {},
     "output_type": "execute_result"
    }
   ],
   "source": [
    "recipes.contributor_id.value_counts().describe()"
   ]
  },
  {
   "cell_type": "code",
   "execution_count": 76,
   "metadata": {},
   "outputs": [
    {
     "data": {
      "text/plain": [
       "<AxesSubplot:>"
      ]
     },
     "execution_count": 76,
     "metadata": {},
     "output_type": "execute_result"
    },
    {
     "data": {
      "image/png": "[encoded data removed]",
      "text/plain": [
       "<Figure size 640x480 with 1 Axes>"
      ]
     },
     "metadata": {},
     "output_type": "display_data"
    }
   ],
   "source": [
    "# distribution of recipes by contributor\n",
    "recipes.contributor_id.value_counts().hist(log=True)"
   ]
  },
  {
   "cell_type": "code",
   "execution_count": 77,
   "metadata": {},
   "outputs": [
    {
     "name": "stdout",
     "output_type": "stream",
     "text": [
      "Number of unique contributors:  27021\n"
     ]
    }
   ],
   "source": [
    "# number of unique contributors\n",
    "print(\"Number of unique contributors: \", len(recipes.contributor_id.unique()))"
   ]
  },
  {
   "cell_type": "markdown",
   "metadata": {},
   "source": [
    "## Food.com tags"
   ]
  },
  {
   "cell_type": "code",
   "execution_count": 78,
   "metadata": {},
   "outputs": [
    {
     "name": "stdout",
     "output_type": "stream",
     "text": [
      "Number of unique tags:  512\n"
     ]
    }
   ],
   "source": [
    "import re\n",
    "\n",
    "# number of unique tags\n",
    "tag_list = [tag_list.split(',') for tag_list in recipes.tags]\n",
    "tag_list = [item.strip() for sublist in tag_list for item in sublist]\n",
    "# remove special characters except - and \" \"\n",
    "tag_list = [re.sub('[^A-Za-z0-9\\s\\-\"]+', '', tag) for tag in tag_list]\n",
    "print(\"Number of unique tags: \", len(set(tag_list)))"
   ]
  },
  {
   "cell_type": "markdown",
   "metadata": {},
   "source": [
    "Let's look at the distribution of tags in the dataset"
   ]
  },
  {
   "cell_type": "code",
   "execution_count": 79,
   "metadata": {},
   "outputs": [
    {
     "data": {
      "text/html": [
       "<div>\n",
       "<style scoped>\n",
       "    .dataframe tbody tr th:only-of-type {\n",
       "        vertical-align: middle;\n",
       "    }\n",
       "\n",
       "    .dataframe tbody tr th {\n",
       "        vertical-align: top;\n",
       "    }\n",
       "\n",
       "    .dataframe thead th {\n",
       "        text-align: right;\n",
       "    }\n",
       "</style>\n",
       "<table border=\"1\" class=\"dataframe\">\n",
       "  <thead>\n",
       "    <tr style=\"text-align: right;\">\n",
       "      <th></th>\n",
       "      <th>tag</th>\n",
       "      <th>count</th>\n",
       "    </tr>\n",
       "  </thead>\n",
       "  <tbody>\n",
       "    <tr>\n",
       "      <th>0</th>\n",
       "      <td>preparation</td>\n",
       "      <td>218080</td>\n",
       "    </tr>\n",
       "    <tr>\n",
       "      <th>1</th>\n",
       "      <td>time-to-make</td>\n",
       "      <td>217930</td>\n",
       "    </tr>\n",
       "    <tr>\n",
       "      <th>2</th>\n",
       "      <td>course</td>\n",
       "      <td>205703</td>\n",
       "    </tr>\n",
       "    <tr>\n",
       "      <th>3</th>\n",
       "      <td>main-ingredient</td>\n",
       "      <td>159825</td>\n",
       "    </tr>\n",
       "    <tr>\n",
       "      <th>4</th>\n",
       "      <td>dietary</td>\n",
       "      <td>155865</td>\n",
       "    </tr>\n",
       "    <tr>\n",
       "      <th>5</th>\n",
       "      <td>easy</td>\n",
       "      <td>119152</td>\n",
       "    </tr>\n",
       "    <tr>\n",
       "      <th>6</th>\n",
       "      <td>occasion</td>\n",
       "      <td>107442</td>\n",
       "    </tr>\n",
       "    <tr>\n",
       "      <th>7</th>\n",
       "      <td>cuisine</td>\n",
       "      <td>85943</td>\n",
       "    </tr>\n",
       "    <tr>\n",
       "      <th>8</th>\n",
       "      <td>low-in-something</td>\n",
       "      <td>80643</td>\n",
       "    </tr>\n",
       "    <tr>\n",
       "      <th>9</th>\n",
       "      <td>60-minutes-or-less</td>\n",
       "      <td>69986</td>\n",
       "    </tr>\n",
       "  </tbody>\n",
       "</table>\n",
       "</div>"
      ],
      "text/plain": [
       "                  tag   count\n",
       "0         preparation  218080\n",
       "1        time-to-make  217930\n",
       "2              course  205703\n",
       "3     main-ingredient  159825\n",
       "4             dietary  155865\n",
       "5                easy  119152\n",
       "6            occasion  107442\n",
       "7             cuisine   85943\n",
       "8    low-in-something   80643\n",
       "9  60-minutes-or-less   69986"
      ]
     },
     "execution_count": 79,
     "metadata": {},
     "output_type": "execute_result"
    }
   ],
   "source": [
    "# Frequency of each tag\n",
    "from collections import Counter\n",
    "tag_counts = Counter(tag_list)\n",
    "pd.DataFrame(tag_counts.most_common(10), columns=['tag', 'count'])"
   ]
  },
  {
   "cell_type": "code",
   "execution_count": 80,
   "metadata": {},
   "outputs": [
    {
     "data": {
      "text/plain": [
       "<AxesSubplot:xlabel='tag'>"
      ]
     },
     "execution_count": 80,
     "metadata": {},
     "output_type": "execute_result"
    },
    {
     "data": {
      "image/png": "[encoded data removed]",
      "text/plain": [
       "<Figure size 640x480 with 1 Axes>"
      ]
     },
     "metadata": {},
     "output_type": "display_data"
    }
   ],
   "source": [
    "# plot the distribution of tags\n",
    "pd.DataFrame(tag_counts.most_common(50), columns=['tag', 'count']).plot.bar(x='tag')"
   ]
  },
  {
   "cell_type": "markdown",
   "metadata": {},
   "source": [
    "## Nutrition"
   ]
  },
  {
   "cell_type": "code",
   "execution_count": 83,
   "metadata": {},
   "outputs": [],
   "source": [
    "import numpy as np\n",
    "\n",
    "# nutrition = (calories (#), total fat (PDV), sugar (PDV) , sodium (PDV) , protein (PDV) , saturated fat(PDV), carbohydrates(PDV))\n",
    "# add new columns for calories, total_fat, sugar, sodium, protein, saturated_fat, carbohydrates \n",
    "# nutrition is string = '[269.8, 22.0, 32.0, 48.0, 39.0, 27.0, 5.0]'\n",
    "# extract the numbers from the string using numpy\n",
    "recipes['calories'] = recipes.nutrition.apply(lambda x: np.nan if pd.isnull(x) else eval(x)[0])\n",
    "recipes['total_fat'] = recipes.nutrition.apply(lambda x: np.nan if pd.isnull(x) else eval(x)[1])\n",
    "recipes['sugar'] = recipes.nutrition.apply(lambda x: np.nan if pd.isnull(x) else eval(x)[2])\n",
    "recipes['sodium'] = recipes.nutrition.apply(lambda x: np.nan if pd.isnull(x) else eval(x)[3])\n",
    "recipes['protein'] = recipes.nutrition.apply(lambda x: np.nan if pd.isnull(x) else eval(x)[4])\n",
    "recipes['saturated_fat'] = recipes.nutrition.apply(lambda x: np.nan if pd.isnull(x) else eval(x)[5])\n",
    "recipes['carbohydrates'] = recipes.nutrition.apply(lambda x: np.nan if pd.isnull(x) else eval(x)[6])"
   ]
  },
  {
   "cell_type": "code",
   "execution_count": 84,
   "metadata": {},
   "outputs": [
    {
     "data": {
      "text/html": [
       "<div>\n",
       "<style scoped>\n",
       "    .dataframe tbody tr th:only-of-type {\n",
       "        vertical-align: middle;\n",
       "    }\n",
       "\n",
       "    .dataframe tbody tr th {\n",
       "        vertical-align: top;\n",
       "    }\n",
       "\n",
       "    .dataframe thead th {\n",
       "        text-align: right;\n",
       "    }\n",
       "</style>\n",
       "<table border=\"1\" class=\"dataframe\">\n",
       "  <thead>\n",
       "    <tr style=\"text-align: right;\">\n",
       "      <th></th>\n",
       "      <th>id</th>\n",
       "      <th>minutes</th>\n",
       "      <th>contributor_id</th>\n",
       "      <th>submitted</th>\n",
       "      <th>tags</th>\n",
       "      <th>nutrition</th>\n",
       "      <th>n_steps</th>\n",
       "      <th>steps</th>\n",
       "      <th>ingredients</th>\n",
       "      <th>n_ingredients</th>\n",
       "      <th>preparation time</th>\n",
       "      <th>calories</th>\n",
       "      <th>total_fat</th>\n",
       "      <th>sugar</th>\n",
       "      <th>sodium</th>\n",
       "      <th>protein</th>\n",
       "      <th>saturated_fat</th>\n",
       "      <th>carbohydrates</th>\n",
       "    </tr>\n",
       "  </thead>\n",
       "  <tbody>\n",
       "    <tr>\n",
       "      <th>0</th>\n",
       "      <td>137739</td>\n",
       "      <td>55</td>\n",
       "      <td>47892</td>\n",
       "      <td>2005-09-16</td>\n",
       "      <td>['60-minutes-or-less', 'time-to-make', 'course...</td>\n",
       "      <td>[51.5, 0.0, 13.0, 0.0, 2.0, 0.0, 4.0]</td>\n",
       "      <td>11</td>\n",
       "      <td>['make a choice and proceed with recipe', 'dep...</td>\n",
       "      <td>['winter squash', 'mexican seasoning', 'mixed ...</td>\n",
       "      <td>7</td>\n",
       "      <td>0.916667</td>\n",
       "      <td>51.5</td>\n",
       "      <td>0.0</td>\n",
       "      <td>13.0</td>\n",
       "      <td>0.0</td>\n",
       "      <td>2.0</td>\n",
       "      <td>0.0</td>\n",
       "      <td>4.0</td>\n",
       "    </tr>\n",
       "    <tr>\n",
       "      <th>1</th>\n",
       "      <td>31490</td>\n",
       "      <td>30</td>\n",
       "      <td>26278</td>\n",
       "      <td>2002-06-17</td>\n",
       "      <td>['30-minutes-or-less', 'time-to-make', 'course...</td>\n",
       "      <td>[173.4, 18.0, 0.0, 17.0, 22.0, 35.0, 1.0]</td>\n",
       "      <td>9</td>\n",
       "      <td>['preheat oven to 425 degrees f', 'press dough...</td>\n",
       "      <td>['prepared pizza crust', 'sausage patty', 'egg...</td>\n",
       "      <td>6</td>\n",
       "      <td>0.500000</td>\n",
       "      <td>173.4</td>\n",
       "      <td>18.0</td>\n",
       "      <td>0.0</td>\n",
       "      <td>17.0</td>\n",
       "      <td>22.0</td>\n",
       "      <td>35.0</td>\n",
       "      <td>1.0</td>\n",
       "    </tr>\n",
       "    <tr>\n",
       "      <th>2</th>\n",
       "      <td>112140</td>\n",
       "      <td>130</td>\n",
       "      <td>196586</td>\n",
       "      <td>2005-02-25</td>\n",
       "      <td>['time-to-make', 'course', 'preparation', 'mai...</td>\n",
       "      <td>[269.8, 22.0, 32.0, 48.0, 39.0, 27.0, 5.0]</td>\n",
       "      <td>6</td>\n",
       "      <td>['brown ground beef in large pot', 'add choppe...</td>\n",
       "      <td>['ground beef', 'yellow onions', 'diced tomato...</td>\n",
       "      <td>13</td>\n",
       "      <td>2.166667</td>\n",
       "      <td>269.8</td>\n",
       "      <td>22.0</td>\n",
       "      <td>32.0</td>\n",
       "      <td>48.0</td>\n",
       "      <td>39.0</td>\n",
       "      <td>27.0</td>\n",
       "      <td>5.0</td>\n",
       "    </tr>\n",
       "    <tr>\n",
       "      <th>3</th>\n",
       "      <td>59389</td>\n",
       "      <td>45</td>\n",
       "      <td>68585</td>\n",
       "      <td>2003-04-14</td>\n",
       "      <td>['60-minutes-or-less', 'time-to-make', 'course...</td>\n",
       "      <td>[368.1, 17.0, 10.0, 2.0, 14.0, 8.0, 20.0]</td>\n",
       "      <td>11</td>\n",
       "      <td>['place potatoes in a large pot of lightly sal...</td>\n",
       "      <td>['spreadable cheese with garlic and herbs', 'n...</td>\n",
       "      <td>11</td>\n",
       "      <td>0.750000</td>\n",
       "      <td>368.1</td>\n",
       "      <td>17.0</td>\n",
       "      <td>10.0</td>\n",
       "      <td>2.0</td>\n",
       "      <td>14.0</td>\n",
       "      <td>8.0</td>\n",
       "      <td>20.0</td>\n",
       "    </tr>\n",
       "    <tr>\n",
       "      <th>4</th>\n",
       "      <td>44061</td>\n",
       "      <td>190</td>\n",
       "      <td>41706</td>\n",
       "      <td>2002-10-25</td>\n",
       "      <td>['weeknight', 'time-to-make', 'course', 'main-...</td>\n",
       "      <td>[352.9, 1.0, 337.0, 23.0, 3.0, 0.0, 28.0]</td>\n",
       "      <td>5</td>\n",
       "      <td>['mix all ingredients&amp; boil for 2 1 / 2 hours ...</td>\n",
       "      <td>['tomato juice', 'apple cider vinegar', 'sugar...</td>\n",
       "      <td>8</td>\n",
       "      <td>3.166667</td>\n",
       "      <td>352.9</td>\n",
       "      <td>1.0</td>\n",
       "      <td>337.0</td>\n",
       "      <td>23.0</td>\n",
       "      <td>3.0</td>\n",
       "      <td>0.0</td>\n",
       "      <td>28.0</td>\n",
       "    </tr>\n",
       "  </tbody>\n",
       "</table>\n",
       "</div>"
      ],
      "text/plain": [
       "       id  minutes  contributor_id   submitted  \\\n",
       "0  137739       55           47892  2005-09-16   \n",
       "1   31490       30           26278  2002-06-17   \n",
       "2  112140      130          196586  2005-02-25   \n",
       "3   59389       45           68585  2003-04-14   \n",
       "4   44061      190           41706  2002-10-25   \n",
       "\n",
       "                                                tags  \\\n",
       "0  ['60-minutes-or-less', 'time-to-make', 'course...   \n",
       "1  ['30-minutes-or-less', 'time-to-make', 'course...   \n",
       "2  ['time-to-make', 'course', 'preparation', 'mai...   \n",
       "3  ['60-minutes-or-less', 'time-to-make', 'course...   \n",
       "4  ['weeknight', 'time-to-make', 'course', 'main-...   \n",
       "\n",
       "                                    nutrition  n_steps  \\\n",
       "0       [51.5, 0.0, 13.0, 0.0, 2.0, 0.0, 4.0]       11   \n",
       "1   [173.4, 18.0, 0.0, 17.0, 22.0, 35.0, 1.0]        9   \n",
       "2  [269.8, 22.0, 32.0, 48.0, 39.0, 27.0, 5.0]        6   \n",
       "3   [368.1, 17.0, 10.0, 2.0, 14.0, 8.0, 20.0]       11   \n",
       "4   [352.9, 1.0, 337.0, 23.0, 3.0, 0.0, 28.0]        5   \n",
       "\n",
       "                                               steps  \\\n",
       "0  ['make a choice and proceed with recipe', 'dep...   \n",
       "1  ['preheat oven to 425 degrees f', 'press dough...   \n",
       "2  ['brown ground beef in large pot', 'add choppe...   \n",
       "3  ['place potatoes in a large pot of lightly sal...   \n",
       "4  ['mix all ingredients& boil for 2 1 / 2 hours ...   \n",
       "\n",
       "                                         ingredients  n_ingredients  \\\n",
       "0  ['winter squash', 'mexican seasoning', 'mixed ...              7   \n",
       "1  ['prepared pizza crust', 'sausage patty', 'egg...              6   \n",
       "2  ['ground beef', 'yellow onions', 'diced tomato...             13   \n",
       "3  ['spreadable cheese with garlic and herbs', 'n...             11   \n",
       "4  ['tomato juice', 'apple cider vinegar', 'sugar...              8   \n",
       "\n",
       "   preparation time  calories  total_fat  sugar  sodium  protein  \\\n",
       "0          0.916667      51.5        0.0   13.0     0.0      2.0   \n",
       "1          0.500000     173.4       18.0    0.0    17.0     22.0   \n",
       "2          2.166667     269.8       22.0   32.0    48.0     39.0   \n",
       "3          0.750000     368.1       17.0   10.0     2.0     14.0   \n",
       "4          3.166667     352.9        1.0  337.0    23.0      3.0   \n",
       "\n",
       "   saturated_fat  carbohydrates  \n",
       "0            0.0            4.0  \n",
       "1           35.0            1.0  \n",
       "2           27.0            5.0  \n",
       "3            8.0           20.0  \n",
       "4            0.0           28.0  "
      ]
     },
     "execution_count": 84,
     "metadata": {},
     "output_type": "execute_result"
    }
   ],
   "source": [
    "recipes.head(5)"
   ]
  },
  {
   "cell_type": "code",
   "execution_count": 85,
   "metadata": {},
   "outputs": [],
   "source": [
    "# drop the nutrition column\n",
    "recipes.drop('nutrition', axis=1, inplace=True)"
   ]
  },
  {
   "cell_type": "code",
   "execution_count": 86,
   "metadata": {},
   "outputs": [
    {
     "data": {
      "text/plain": [
       "id                  0\n",
       "minutes             0\n",
       "contributor_id      0\n",
       "submitted           0\n",
       "tags                0\n",
       "n_steps             0\n",
       "steps               0\n",
       "ingredients         0\n",
       "n_ingredients       0\n",
       "preparation time    0\n",
       "calories            0\n",
       "total_fat           0\n",
       "sugar               0\n",
       "sodium              0\n",
       "protein             0\n",
       "saturated_fat       0\n",
       "carbohydrates       0\n",
       "dtype: int64"
      ]
     },
     "execution_count": 86,
     "metadata": {},
     "output_type": "execute_result"
    }
   ],
   "source": [
    "# find missing values in the nutrition columns\n",
    "recipes.isnull().sum()"
   ]
  },
  {
   "cell_type": "code",
   "execution_count": 87,
   "metadata": {},
   "outputs": [
    {
     "data": {
      "image/png": "[encoded data removed]",
      "text/plain": [
       "<Figure size 1000x1000 with 6 Axes>"
      ]
     },
     "metadata": {},
     "output_type": "display_data"
    }
   ],
   "source": [
    "# print the distribution of each nutrition column in a single graph using matplotlib\n",
    "import matplotlib.pyplot as plt\n",
    "\n",
    "fig, axes = plt.subplots(nrows=3, ncols=2, figsize=(10, 10))\n",
    "recipes.calories.hist(ax=axes[0, 0])\n",
    "recipes.total_fat.hist(ax=axes[0, 1])\n",
    "recipes.sugar.hist(ax=axes[1, 0])\n",
    "recipes.sodium.hist(ax=axes[1, 1])\n",
    "recipes.protein.hist(ax=axes[2, 0])\n",
    "recipes.saturated_fat.hist(ax=axes[2, 1])\n",
    "\n",
    "plt.tight_layout()\n",
    "plt.show()"
   ]
  },
  {
   "cell_type": "code",
   "execution_count": 88,
   "metadata": {},
   "outputs": [
    {
     "data": {
      "image/png": "[encoded data removed]",
      "text/plain": [
       "<Figure size 1000x1000 with 8 Axes>"
      ]
     },
     "metadata": {},
     "output_type": "display_data"
    }
   ],
   "source": [
    "# there are some outliers in the data, remove them\n",
    "# let's plot a log scale to see the distribution\n",
    "fig, axes = plt.subplots(nrows=4, ncols=2, figsize=(10, 10))\n",
    "recipes.calories.hist(ax=axes[0, 0], log=True)\n",
    "axes[0, 0].set_title('Calories')\n",
    "recipes.total_fat.hist(ax=axes[0, 1], log=True)\n",
    "axes[0, 1].set_title('Total Fat')\n",
    "recipes.sugar.hist(ax=axes[1, 0], log=True)\n",
    "axes[1, 0].set_title('Sugar')\n",
    "recipes.sodium.hist(ax=axes[1, 1], log=True)\n",
    "axes[1, 1].set_title('Sodium')\n",
    "recipes.protein.hist(ax=axes[2, 0], log=True)\n",
    "axes[2, 0].set_title('Protein')\n",
    "recipes.saturated_fat.hist(ax=axes[2, 1], log=True)\n",
    "axes[2, 1].set_title('Saturated Fat')\n",
    "recipes.carbohydrates.hist(ax=axes[3, 0], log=True)\n",
    "axes[3, 0].set_title('Carbohydrates')\n",
    "axes[3, 1].set_title('Empty Graph')\n",
    "plt.tight_layout()\n",
    "plt.show()"
   ]
  },
  {
   "cell_type": "code",
   "execution_count": 89,
   "metadata": {},
   "outputs": [
    {
     "data": {
      "text/html": [
       "<div>\n",
       "<style scoped>\n",
       "    .dataframe tbody tr th:only-of-type {\n",
       "        vertical-align: middle;\n",
       "    }\n",
       "\n",
       "    .dataframe tbody tr th {\n",
       "        vertical-align: top;\n",
       "    }\n",
       "\n",
       "    .dataframe thead th {\n",
       "        text-align: right;\n",
       "    }\n",
       "</style>\n",
       "<table border=\"1\" class=\"dataframe\">\n",
       "  <thead>\n",
       "    <tr style=\"text-align: right;\">\n",
       "      <th></th>\n",
       "      <th>id</th>\n",
       "      <th>minutes</th>\n",
       "      <th>contributor_id</th>\n",
       "      <th>n_steps</th>\n",
       "      <th>n_ingredients</th>\n",
       "      <th>preparation time</th>\n",
       "      <th>calories</th>\n",
       "      <th>total_fat</th>\n",
       "      <th>sugar</th>\n",
       "      <th>sodium</th>\n",
       "      <th>protein</th>\n",
       "      <th>saturated_fat</th>\n",
       "      <th>carbohydrates</th>\n",
       "    </tr>\n",
       "  </thead>\n",
       "  <tbody>\n",
       "    <tr>\n",
       "      <th>count</th>\n",
       "      <td>218292.000000</td>\n",
       "      <td>218292.000000</td>\n",
       "      <td>2.182920e+05</td>\n",
       "      <td>218292.000000</td>\n",
       "      <td>218292.000000</td>\n",
       "      <td>218292.000000</td>\n",
       "      <td>218292.000000</td>\n",
       "      <td>218292.000000</td>\n",
       "      <td>218292.000000</td>\n",
       "      <td>218292.000000</td>\n",
       "      <td>218292.000000</td>\n",
       "      <td>218292.00000</td>\n",
       "      <td>218292.000000</td>\n",
       "    </tr>\n",
       "    <tr>\n",
       "      <th>mean</th>\n",
       "      <td>222362.845024</td>\n",
       "      <td>45.923002</td>\n",
       "      <td>5.364433e+06</td>\n",
       "      <td>9.711144</td>\n",
       "      <td>9.017248</td>\n",
       "      <td>0.765383</td>\n",
       "      <td>467.552287</td>\n",
       "      <td>35.676333</td>\n",
       "      <td>83.107068</td>\n",
       "      <td>28.837956</td>\n",
       "      <td>33.476454</td>\n",
       "      <td>45.12623</td>\n",
       "      <td>15.475308</td>\n",
       "    </tr>\n",
       "    <tr>\n",
       "      <th>std</th>\n",
       "      <td>141167.718416</td>\n",
       "      <td>38.794019</td>\n",
       "      <td>9.804992e+07</td>\n",
       "      <td>5.856390</td>\n",
       "      <td>3.701491</td>\n",
       "      <td>0.646567</td>\n",
       "      <td>1199.538077</td>\n",
       "      <td>77.237068</td>\n",
       "      <td>814.978411</td>\n",
       "      <td>122.167983</td>\n",
       "      <td>56.112817</td>\n",
       "      <td>96.38159</td>\n",
       "      <td>83.308991</td>\n",
       "    </tr>\n",
       "    <tr>\n",
       "      <th>min</th>\n",
       "      <td>40.000000</td>\n",
       "      <td>0.000000</td>\n",
       "      <td>2.700000e+01</td>\n",
       "      <td>0.000000</td>\n",
       "      <td>1.000000</td>\n",
       "      <td>0.000000</td>\n",
       "      <td>0.000000</td>\n",
       "      <td>0.000000</td>\n",
       "      <td>0.000000</td>\n",
       "      <td>0.000000</td>\n",
       "      <td>0.000000</td>\n",
       "      <td>0.00000</td>\n",
       "      <td>0.000000</td>\n",
       "    </tr>\n",
       "    <tr>\n",
       "      <th>25%</th>\n",
       "      <td>100311.750000</td>\n",
       "      <td>20.000000</td>\n",
       "      <td>5.704200e+04</td>\n",
       "      <td>6.000000</td>\n",
       "      <td>6.000000</td>\n",
       "      <td>0.333333</td>\n",
       "      <td>172.200000</td>\n",
       "      <td>8.000000</td>\n",
       "      <td>9.000000</td>\n",
       "      <td>5.000000</td>\n",
       "      <td>6.000000</td>\n",
       "      <td>7.00000</td>\n",
       "      <td>4.000000</td>\n",
       "    </tr>\n",
       "    <tr>\n",
       "      <th>50%</th>\n",
       "      <td>207951.000000</td>\n",
       "      <td>35.000000</td>\n",
       "      <td>1.754920e+05</td>\n",
       "      <td>9.000000</td>\n",
       "      <td>9.000000</td>\n",
       "      <td>0.583333</td>\n",
       "      <td>309.400000</td>\n",
       "      <td>20.000000</td>\n",
       "      <td>24.000000</td>\n",
       "      <td>14.000000</td>\n",
       "      <td>18.000000</td>\n",
       "      <td>22.00000</td>\n",
       "      <td>9.000000</td>\n",
       "    </tr>\n",
       "    <tr>\n",
       "      <th>75%</th>\n",
       "      <td>334435.250000</td>\n",
       "      <td>60.000000</td>\n",
       "      <td>4.007080e+05</td>\n",
       "      <td>12.000000</td>\n",
       "      <td>11.000000</td>\n",
       "      <td>1.000000</td>\n",
       "      <td>513.800000</td>\n",
       "      <td>40.000000</td>\n",
       "      <td>67.000000</td>\n",
       "      <td>32.000000</td>\n",
       "      <td>49.000000</td>\n",
       "      <td>52.00000</td>\n",
       "      <td>16.000000</td>\n",
       "    </tr>\n",
       "    <tr>\n",
       "      <th>max</th>\n",
       "      <td>537716.000000</td>\n",
       "      <td>238.000000</td>\n",
       "      <td>2.002290e+09</td>\n",
       "      <td>145.000000</td>\n",
       "      <td>43.000000</td>\n",
       "      <td>3.966667</td>\n",
       "      <td>434360.200000</td>\n",
       "      <td>17183.000000</td>\n",
       "      <td>362729.000000</td>\n",
       "      <td>29338.000000</td>\n",
       "      <td>6552.000000</td>\n",
       "      <td>10395.00000</td>\n",
       "      <td>36098.000000</td>\n",
       "    </tr>\n",
       "  </tbody>\n",
       "</table>\n",
       "</div>"
      ],
      "text/plain": [
       "                  id        minutes  contributor_id        n_steps  \\\n",
       "count  218292.000000  218292.000000    2.182920e+05  218292.000000   \n",
       "mean   222362.845024      45.923002    5.364433e+06       9.711144   \n",
       "std    141167.718416      38.794019    9.804992e+07       5.856390   \n",
       "min        40.000000       0.000000    2.700000e+01       0.000000   \n",
       "25%    100311.750000      20.000000    5.704200e+04       6.000000   \n",
       "50%    207951.000000      35.000000    1.754920e+05       9.000000   \n",
       "75%    334435.250000      60.000000    4.007080e+05      12.000000   \n",
       "max    537716.000000     238.000000    2.002290e+09     145.000000   \n",
       "\n",
       "       n_ingredients  preparation time       calories      total_fat  \\\n",
       "count  218292.000000     218292.000000  218292.000000  218292.000000   \n",
       "mean        9.017248          0.765383     467.552287      35.676333   \n",
       "std         3.701491          0.646567    1199.538077      77.237068   \n",
       "min         1.000000          0.000000       0.000000       0.000000   \n",
       "25%         6.000000          0.333333     172.200000       8.000000   \n",
       "50%         9.000000          0.583333     309.400000      20.000000   \n",
       "75%        11.000000          1.000000     513.800000      40.000000   \n",
       "max        43.000000          3.966667  434360.200000   17183.000000   \n",
       "\n",
       "               sugar         sodium        protein  saturated_fat  \\\n",
       "count  218292.000000  218292.000000  218292.000000   218292.00000   \n",
       "mean       83.107068      28.837956      33.476454       45.12623   \n",
       "std       814.978411     122.167983      56.112817       96.38159   \n",
       "min         0.000000       0.000000       0.000000        0.00000   \n",
       "25%         9.000000       5.000000       6.000000        7.00000   \n",
       "50%        24.000000      14.000000      18.000000       22.00000   \n",
       "75%        67.000000      32.000000      49.000000       52.00000   \n",
       "max    362729.000000   29338.000000    6552.000000    10395.00000   \n",
       "\n",
       "       carbohydrates  \n",
       "count  218292.000000  \n",
       "mean       15.475308  \n",
       "std        83.308991  \n",
       "min         0.000000  \n",
       "25%         4.000000  \n",
       "50%         9.000000  \n",
       "75%        16.000000  \n",
       "max     36098.000000  "
      ]
     },
     "execution_count": 89,
     "metadata": {},
     "output_type": "execute_result"
    }
   ],
   "source": [
    "recipes.describe()"
   ]
  },
  {
   "cell_type": "markdown",
   "metadata": {},
   "source": [
    "Some nutrition categories have outliers. Let's consider only those recipes whose nutrition information is within 3 standard deviations from their corresponding mean values."
   ]
  },
  {
   "cell_type": "code",
   "execution_count": 92,
   "metadata": {},
   "outputs": [],
   "source": [
    "recipes = recipes[np.abs(recipes.calories - recipes.calories.mean()) <= (3 * recipes.calories.std())]\n",
    "recipes = recipes[np.abs(recipes.total_fat - recipes.total_fat.mean()) <= (3 * recipes.total_fat.std())]\n",
    "recipes = recipes[np.abs(recipes.sugar - recipes.sugar.mean()) <= (3 * recipes.sugar.std())]\n",
    "recipes = recipes[np.abs(recipes.sodium - recipes.sodium.mean()) <= (3 * recipes.sodium.std())]\n",
    "recipes = recipes[np.abs(recipes.protein - recipes.protein.mean()) <= (3 * recipes.protein.std())]\n",
    "recipes = recipes[np.abs(recipes.saturated_fat - recipes.saturated_fat.mean()) <= (3 * recipes.saturated_fat.std())]\n",
    "recipes = recipes[np.abs(recipes.carbohydrates - recipes.carbohydrates.mean()) <= (3 * recipes.carbohydrates.std())]"
   ]
  },
  {
   "cell_type": "code",
   "execution_count": 93,
   "metadata": {},
   "outputs": [
    {
     "data": {
      "text/plain": [
       "(179094, 17)"
      ]
     },
     "execution_count": 93,
     "metadata": {},
     "output_type": "execute_result"
    }
   ],
   "source": [
    "recipes.shape"
   ]
  },
  {
   "cell_type": "code",
   "execution_count": 94,
   "metadata": {},
   "outputs": [
    {
     "data": {
      "image/png": "[encoded data removed]",
      "text/plain": [
       "<Figure size 1000x1000 with 8 Axes>"
      ]
     },
     "metadata": {},
     "output_type": "display_data"
    }
   ],
   "source": [
    "# plot the distribution of each nutrition column in a single graph using matplotlib\n",
    "fig, axes = plt.subplots(nrows=4, ncols=2, figsize=(10, 10))\n",
    "recipes.calories.hist(ax=axes[0, 0])\n",
    "axes[0, 0].set_title('Calories')\n",
    "recipes.total_fat.hist(ax=axes[0, 1])\n",
    "axes[0, 1].set_title('Total Fat')\n",
    "recipes.sugar.hist(ax=axes[1, 0])\n",
    "axes[1, 0].set_title('Sugar')\n",
    "recipes.sodium.hist(ax=axes[1, 1])\n",
    "axes[1, 1].set_title('Sodium')\n",
    "recipes.protein.hist(ax=axes[2, 0])\n",
    "axes[2, 0].set_title('Protein')\n",
    "recipes.saturated_fat.hist(ax=axes[2, 1])\n",
    "axes[2, 1].set_title('Saturated Fat')\n",
    "recipes.carbohydrates.hist(ax=axes[3, 0])\n",
    "axes[3, 0].set_title('Carbohydrates')\n",
    "\n",
    "plt.tight_layout()"
   ]
  },
  {
   "cell_type": "markdown",
   "metadata": {},
   "source": [
    "## Number of steps for preparation"
   ]
  },
  {
   "cell_type": "code",
   "execution_count": 95,
   "metadata": {},
   "outputs": [
    {
     "data": {
      "text/plain": [
       "<AxesSubplot:>"
      ]
     },
     "execution_count": 95,
     "metadata": {},
     "output_type": "execute_result"
    },
    {
     "data": {
      "image/png": "[encoded data removed]",
      "text/plain": [
       "<Figure size 640x480 with 1 Axes>"
      ]
     },
     "metadata": {},
     "output_type": "display_data"
    }
   ],
   "source": [
    "# distribution of n_steps\n",
    "recipes.n_steps.hist()"
   ]
  },
  {
   "cell_type": "code",
   "execution_count": 96,
   "metadata": {},
   "outputs": [
    {
     "data": {
      "text/plain": [
       "count    179094.000000\n",
       "mean          9.470278\n",
       "std           5.576977\n",
       "min           0.000000\n",
       "25%           6.000000\n",
       "50%           8.000000\n",
       "75%          12.000000\n",
       "max          88.000000\n",
       "Name: n_steps, dtype: float64"
      ]
     },
     "execution_count": 96,
     "metadata": {},
     "output_type": "execute_result"
    }
   ],
   "source": [
    "recipes.n_steps.describe()"
   ]
  },
  {
   "cell_type": "markdown",
   "metadata": {},
   "source": [
    "## Number of ingredients"
   ]
  },
  {
   "cell_type": "code",
   "execution_count": 97,
   "metadata": {},
   "outputs": [
    {
     "data": {
      "text/plain": [
       "<AxesSubplot:>"
      ]
     },
     "execution_count": 97,
     "metadata": {},
     "output_type": "execute_result"
    },
    {
     "data": {
      "image/png": "[encoded data removed]",
      "text/plain": [
       "<Figure size 640x480 with 1 Axes>"
      ]
     },
     "metadata": {},
     "output_type": "display_data"
    }
   ],
   "source": [
    "# distribution of n_ingredients\n",
    "recipes.n_ingredients.hist()"
   ]
  },
  {
   "cell_type": "code",
   "execution_count": 98,
   "metadata": {},
   "outputs": [
    {
     "data": {
      "text/plain": [
       "count    179094.000000\n",
       "mean          8.914520\n",
       "std           3.605822\n",
       "min           1.000000\n",
       "25%           6.000000\n",
       "50%           9.000000\n",
       "75%          11.000000\n",
       "max          43.000000\n",
       "Name: n_ingredients, dtype: float64"
      ]
     },
     "execution_count": 98,
     "metadata": {},
     "output_type": "execute_result"
    }
   ],
   "source": [
    "recipes.n_ingredients.describe()"
   ]
  },
  {
   "cell_type": "markdown",
   "metadata": {},
   "source": [
    "# Feature Engineering"
   ]
  },
  {
   "cell_type": "markdown",
   "metadata": {},
   "source": [
    "## Food types"
   ]
  },
  {
   "cell_type": "code",
   "execution_count": 100,
   "metadata": {},
   "outputs": [],
   "source": [
    "recipes['food_types'] = np.nan\n",
    "recipes['food_types'] = recipes['food_types'].astype('str')"
   ]
  },
  {
   "cell_type": "code",
   "execution_count": 101,
   "metadata": {},
   "outputs": [],
   "source": [
    "for i in recipes['ingredients'].index:\n",
    "    if 'eggs' not in recipes['ingredients'][i]:\n",
    "         if 'ice-cream' in recipes['ingredients'][i] or 'chocolate' in recipes['ingredients'][i] or 'cookies' in recipes['ingredients'][i]:\n",
    "                recipes['food_types'][i]='Veg dessert'\n",
    "    elif 'eggs' in recipes['ingredients'][i]:\n",
    "        if 'ice-cream' in recipes['ingredients'][i] or 'chocolate' in recipes['ingredients'][i] or 'cookies' in recipes['ingredients'][i]:\n",
    "                recipes['food_types'][i]='Non-Veg dessert'"
   ]
  },
  {
   "cell_type": "code",
   "execution_count": 102,
   "metadata": {},
   "outputs": [],
   "source": [
    "for i in recipes.index:\n",
    "    if recipes['food_types'][i]!= 'Veg dessert' and recipes['food_types'][i]!= 'Non-Veg dessert' and 20<recipes['calories'][i]<300:\n",
    "        recipes['food_types'][i]='Healthy'"
   ]
  },
  {
   "cell_type": "code",
   "execution_count": 103,
   "metadata": {},
   "outputs": [],
   "source": [
    "for i in recipes.index:\n",
    "    if recipes['food_types'][i]!= 'Veg dessert' and recipes['food_types'][i]!= 'Non-Veg dessert' and recipes['food_types'][i]!= 'Healthy':\n",
    "        if 'chicken' in recipes['ingredients'][i] or 'eggs' in recipes['ingredients'][i] or 'ham' in recipes['ingredients'][i] or 'pepperoni' in recipes['ingredients'][i]:\n",
    "            recipes['food_types'][i]='Non-veg'"
   ]
  },
  {
   "cell_type": "code",
   "execution_count": 104,
   "metadata": {},
   "outputs": [],
   "source": [
    "for i in recipes.index:\n",
    "    if recipes['food_types'][i]!= 'Veg dessert' and recipes['food_types'][i]!= 'Non-Veg dessert' and recipes['food_types'][i]!= 'Healthy' and recipes['food_types'][i]!= 'Non-veg':\n",
    "        recipes['food_types'][i]='Veg'"
   ]
  },
  {
   "cell_type": "code",
   "execution_count": 105,
   "metadata": {},
   "outputs": [
    {
     "data": {
      "text/plain": [
       "Healthy            94683\n",
       "Veg                42749\n",
       "Non-veg            30503\n",
       "Veg dessert         7418\n",
       "Non-Veg dessert     3741\n",
       "Name: food_types, dtype: int64"
      ]
     },
     "execution_count": 105,
     "metadata": {},
     "output_type": "execute_result"
    }
   ],
   "source": [
    "recipes['food_types'].value_counts()"
   ]
  },
  {
   "cell_type": "code",
   "execution_count": 106,
   "metadata": {},
   "outputs": [
    {
     "data": {
      "text/plain": [
       "0"
      ]
     },
     "execution_count": 106,
     "metadata": {},
     "output_type": "execute_result"
    }
   ],
   "source": [
    "recipes['food_types'].isnull().sum()"
   ]
  },
  {
   "cell_type": "code",
   "execution_count": 107,
   "metadata": {},
   "outputs": [
    {
     "data": {
      "text/html": [
       "<div>\n",
       "<style scoped>\n",
       "    .dataframe tbody tr th:only-of-type {\n",
       "        vertical-align: middle;\n",
       "    }\n",
       "\n",
       "    .dataframe tbody tr th {\n",
       "        vertical-align: top;\n",
       "    }\n",
       "\n",
       "    .dataframe thead th {\n",
       "        text-align: right;\n",
       "    }\n",
       "</style>\n",
       "<table border=\"1\" class=\"dataframe\">\n",
       "  <thead>\n",
       "    <tr style=\"text-align: right;\">\n",
       "      <th></th>\n",
       "      <th>id</th>\n",
       "      <th>minutes</th>\n",
       "      <th>contributor_id</th>\n",
       "      <th>submitted</th>\n",
       "      <th>tags</th>\n",
       "      <th>n_steps</th>\n",
       "      <th>steps</th>\n",
       "      <th>ingredients</th>\n",
       "      <th>n_ingredients</th>\n",
       "      <th>preparation time</th>\n",
       "      <th>calories</th>\n",
       "      <th>total_fat</th>\n",
       "      <th>sugar</th>\n",
       "      <th>sodium</th>\n",
       "      <th>protein</th>\n",
       "      <th>saturated_fat</th>\n",
       "      <th>carbohydrates</th>\n",
       "      <th>food_types</th>\n",
       "    </tr>\n",
       "  </thead>\n",
       "  <tbody>\n",
       "    <tr>\n",
       "      <th>0</th>\n",
       "      <td>137739</td>\n",
       "      <td>55</td>\n",
       "      <td>47892</td>\n",
       "      <td>2005-09-16</td>\n",
       "      <td>['60-minutes-or-less', 'time-to-make', 'course...</td>\n",
       "      <td>11</td>\n",
       "      <td>['make a choice and proceed with recipe', 'dep...</td>\n",
       "      <td>['winter squash', 'mexican seasoning', 'mixed ...</td>\n",
       "      <td>7</td>\n",
       "      <td>0.916667</td>\n",
       "      <td>51.5</td>\n",
       "      <td>0.0</td>\n",
       "      <td>13.0</td>\n",
       "      <td>0.0</td>\n",
       "      <td>2.0</td>\n",
       "      <td>0.0</td>\n",
       "      <td>4.0</td>\n",
       "      <td>Healthy</td>\n",
       "    </tr>\n",
       "    <tr>\n",
       "      <th>1</th>\n",
       "      <td>31490</td>\n",
       "      <td>30</td>\n",
       "      <td>26278</td>\n",
       "      <td>2002-06-17</td>\n",
       "      <td>['30-minutes-or-less', 'time-to-make', 'course...</td>\n",
       "      <td>9</td>\n",
       "      <td>['preheat oven to 425 degrees f', 'press dough...</td>\n",
       "      <td>['prepared pizza crust', 'sausage patty', 'egg...</td>\n",
       "      <td>6</td>\n",
       "      <td>0.500000</td>\n",
       "      <td>173.4</td>\n",
       "      <td>18.0</td>\n",
       "      <td>0.0</td>\n",
       "      <td>17.0</td>\n",
       "      <td>22.0</td>\n",
       "      <td>35.0</td>\n",
       "      <td>1.0</td>\n",
       "      <td>Healthy</td>\n",
       "    </tr>\n",
       "    <tr>\n",
       "      <th>2</th>\n",
       "      <td>112140</td>\n",
       "      <td>130</td>\n",
       "      <td>196586</td>\n",
       "      <td>2005-02-25</td>\n",
       "      <td>['time-to-make', 'course', 'preparation', 'mai...</td>\n",
       "      <td>6</td>\n",
       "      <td>['brown ground beef in large pot', 'add choppe...</td>\n",
       "      <td>['ground beef', 'yellow onions', 'diced tomato...</td>\n",
       "      <td>13</td>\n",
       "      <td>2.166667</td>\n",
       "      <td>269.8</td>\n",
       "      <td>22.0</td>\n",
       "      <td>32.0</td>\n",
       "      <td>48.0</td>\n",
       "      <td>39.0</td>\n",
       "      <td>27.0</td>\n",
       "      <td>5.0</td>\n",
       "      <td>Healthy</td>\n",
       "    </tr>\n",
       "    <tr>\n",
       "      <th>3</th>\n",
       "      <td>59389</td>\n",
       "      <td>45</td>\n",
       "      <td>68585</td>\n",
       "      <td>2003-04-14</td>\n",
       "      <td>['60-minutes-or-less', 'time-to-make', 'course...</td>\n",
       "      <td>11</td>\n",
       "      <td>['place potatoes in a large pot of lightly sal...</td>\n",
       "      <td>['spreadable cheese with garlic and herbs', 'n...</td>\n",
       "      <td>11</td>\n",
       "      <td>0.750000</td>\n",
       "      <td>368.1</td>\n",
       "      <td>17.0</td>\n",
       "      <td>10.0</td>\n",
       "      <td>2.0</td>\n",
       "      <td>14.0</td>\n",
       "      <td>8.0</td>\n",
       "      <td>20.0</td>\n",
       "      <td>Veg</td>\n",
       "    </tr>\n",
       "    <tr>\n",
       "      <th>5</th>\n",
       "      <td>5289</td>\n",
       "      <td>0</td>\n",
       "      <td>1533</td>\n",
       "      <td>1999-12-06</td>\n",
       "      <td>['15-minutes-or-less', 'time-to-make', 'course...</td>\n",
       "      <td>4</td>\n",
       "      <td>['combine ingredients in blender', 'cover and ...</td>\n",
       "      <td>['milk', 'vanilla ice cream', 'frozen apple ju...</td>\n",
       "      <td>4</td>\n",
       "      <td>0.000000</td>\n",
       "      <td>160.2</td>\n",
       "      <td>10.0</td>\n",
       "      <td>55.0</td>\n",
       "      <td>3.0</td>\n",
       "      <td>9.0</td>\n",
       "      <td>20.0</td>\n",
       "      <td>7.0</td>\n",
       "      <td>Healthy</td>\n",
       "    </tr>\n",
       "  </tbody>\n",
       "</table>\n",
       "</div>"
      ],
      "text/plain": [
       "       id  minutes  contributor_id   submitted  \\\n",
       "0  137739       55           47892  2005-09-16   \n",
       "1   31490       30           26278  2002-06-17   \n",
       "2  112140      130          196586  2005-02-25   \n",
       "3   59389       45           68585  2003-04-14   \n",
       "5    5289        0            1533  1999-12-06   \n",
       "\n",
       "                                                tags  n_steps  \\\n",
       "0  ['60-minutes-or-less', 'time-to-make', 'course...       11   \n",
       "1  ['30-minutes-or-less', 'time-to-make', 'course...        9   \n",
       "2  ['time-to-make', 'course', 'preparation', 'mai...        6   \n",
       "3  ['60-minutes-or-less', 'time-to-make', 'course...       11   \n",
       "5  ['15-minutes-or-less', 'time-to-make', 'course...        4   \n",
       "\n",
       "                                               steps  \\\n",
       "0  ['make a choice and proceed with recipe', 'dep...   \n",
       "1  ['preheat oven to 425 degrees f', 'press dough...   \n",
       "2  ['brown ground beef in large pot', 'add choppe...   \n",
       "3  ['place potatoes in a large pot of lightly sal...   \n",
       "5  ['combine ingredients in blender', 'cover and ...   \n",
       "\n",
       "                                         ingredients  n_ingredients  \\\n",
       "0  ['winter squash', 'mexican seasoning', 'mixed ...              7   \n",
       "1  ['prepared pizza crust', 'sausage patty', 'egg...              6   \n",
       "2  ['ground beef', 'yellow onions', 'diced tomato...             13   \n",
       "3  ['spreadable cheese with garlic and herbs', 'n...             11   \n",
       "5  ['milk', 'vanilla ice cream', 'frozen apple ju...              4   \n",
       "\n",
       "   preparation time  calories  total_fat  sugar  sodium  protein  \\\n",
       "0          0.916667      51.5        0.0   13.0     0.0      2.0   \n",
       "1          0.500000     173.4       18.0    0.0    17.0     22.0   \n",
       "2          2.166667     269.8       22.0   32.0    48.0     39.0   \n",
       "3          0.750000     368.1       17.0   10.0     2.0     14.0   \n",
       "5          0.000000     160.2       10.0   55.0     3.0      9.0   \n",
       "\n",
       "   saturated_fat  carbohydrates food_types  \n",
       "0            0.0            4.0    Healthy  \n",
       "1           35.0            1.0    Healthy  \n",
       "2           27.0            5.0    Healthy  \n",
       "3            8.0           20.0        Veg  \n",
       "5           20.0            7.0    Healthy  "
      ]
     },
     "execution_count": 107,
     "metadata": {},
     "output_type": "execute_result"
    }
   ],
   "source": [
    "recipes.head()"
   ]
  },
  {
   "cell_type": "code",
   "execution_count": 116,
   "metadata": {},
   "outputs": [
    {
     "data": {
      "text/plain": [
       "179094"
      ]
     },
     "execution_count": 116,
     "metadata": {},
     "output_type": "execute_result"
    }
   ],
   "source": [
    "len(recipes.id.unique())"
   ]
  },
  {
   "cell_type": "markdown",
   "metadata": {},
   "source": [
    "# RAW Interactions Dataset"
   ]
  },
  {
   "cell_type": "code",
   "execution_count": 108,
   "metadata": {},
   "outputs": [],
   "source": [
    "# read the interactions dataset\n",
    "interactions = pd.read_csv('../data/RAW_interactions.csv')"
   ]
  },
  {
   "cell_type": "code",
   "execution_count": 109,
   "metadata": {},
   "outputs": [
    {
     "data": {
      "text/html": [
       "<div>\n",
       "<style scoped>\n",
       "    .dataframe tbody tr th:only-of-type {\n",
       "        vertical-align: middle;\n",
       "    }\n",
       "\n",
       "    .dataframe tbody tr th {\n",
       "        vertical-align: top;\n",
       "    }\n",
       "\n",
       "    .dataframe thead th {\n",
       "        text-align: right;\n",
       "    }\n",
       "</style>\n",
       "<table border=\"1\" class=\"dataframe\">\n",
       "  <thead>\n",
       "    <tr style=\"text-align: right;\">\n",
       "      <th></th>\n",
       "      <th>user_id</th>\n",
       "      <th>recipe_id</th>\n",
       "      <th>date</th>\n",
       "      <th>rating</th>\n",
       "      <th>review</th>\n",
       "    </tr>\n",
       "  </thead>\n",
       "  <tbody>\n",
       "    <tr>\n",
       "      <th>0</th>\n",
       "      <td>38094</td>\n",
       "      <td>40893</td>\n",
       "      <td>2003-02-17</td>\n",
       "      <td>4</td>\n",
       "      <td>Great with a salad. Cooked on top of stove for...</td>\n",
       "    </tr>\n",
       "    <tr>\n",
       "      <th>1</th>\n",
       "      <td>1293707</td>\n",
       "      <td>40893</td>\n",
       "      <td>2011-12-21</td>\n",
       "      <td>5</td>\n",
       "      <td>So simple, so delicious! Great for chilly fall...</td>\n",
       "    </tr>\n",
       "    <tr>\n",
       "      <th>2</th>\n",
       "      <td>8937</td>\n",
       "      <td>44394</td>\n",
       "      <td>2002-12-01</td>\n",
       "      <td>4</td>\n",
       "      <td>This worked very well and is EASY.  I used not...</td>\n",
       "    </tr>\n",
       "    <tr>\n",
       "      <th>3</th>\n",
       "      <td>126440</td>\n",
       "      <td>85009</td>\n",
       "      <td>2010-02-27</td>\n",
       "      <td>5</td>\n",
       "      <td>I made the Mexican topping and took it to bunk...</td>\n",
       "    </tr>\n",
       "    <tr>\n",
       "      <th>4</th>\n",
       "      <td>57222</td>\n",
       "      <td>85009</td>\n",
       "      <td>2011-10-01</td>\n",
       "      <td>5</td>\n",
       "      <td>Made the cheddar bacon topping, adding a sprin...</td>\n",
       "    </tr>\n",
       "  </tbody>\n",
       "</table>\n",
       "</div>"
      ],
      "text/plain": [
       "   user_id  recipe_id        date  rating  \\\n",
       "0    38094      40893  2003-02-17       4   \n",
       "1  1293707      40893  2011-12-21       5   \n",
       "2     8937      44394  2002-12-01       4   \n",
       "3   126440      85009  2010-02-27       5   \n",
       "4    57222      85009  2011-10-01       5   \n",
       "\n",
       "                                              review  \n",
       "0  Great with a salad. Cooked on top of stove for...  \n",
       "1  So simple, so delicious! Great for chilly fall...  \n",
       "2  This worked very well and is EASY.  I used not...  \n",
       "3  I made the Mexican topping and took it to bunk...  \n",
       "4  Made the cheddar bacon topping, adding a sprin...  "
      ]
     },
     "execution_count": 109,
     "metadata": {},
     "output_type": "execute_result"
    }
   ],
   "source": [
    "interactions.head()"
   ]
  },
  {
   "cell_type": "code",
   "execution_count": 110,
   "metadata": {},
   "outputs": [
    {
     "data": {
      "text/plain": [
       "(1132367, 5)"
      ]
     },
     "execution_count": 110,
     "metadata": {},
     "output_type": "execute_result"
    }
   ],
   "source": [
    "# number of rows and columns\n",
    "interactions.shape"
   ]
  },
  {
   "cell_type": "code",
   "execution_count": 111,
   "metadata": {},
   "outputs": [
    {
     "data": {
      "text/plain": [
       "user_id      0.000000\n",
       "recipe_id    0.000000\n",
       "date         0.000000\n",
       "rating       0.000000\n",
       "review       0.014924\n",
       "dtype: float64"
      ]
     },
     "execution_count": 111,
     "metadata": {},
     "output_type": "execute_result"
    }
   ],
   "source": [
    "# missing values in the dataset in terms of percentage\n",
    "interactions.isnull().sum() / interactions.shape[0] * 100"
   ]
  },
  {
   "cell_type": "code",
   "execution_count": 112,
   "metadata": {},
   "outputs": [],
   "source": [
    "# replace missing review with empty string\n",
    "interactions.review = interactions.review.fillna('')"
   ]
  },
  {
   "cell_type": "code",
   "execution_count": 113,
   "metadata": {},
   "outputs": [
    {
     "name": "stdout",
     "output_type": "stream",
     "text": [
      "Number of unique users:  226570\n"
     ]
    }
   ],
   "source": [
    "# number of unique users\n",
    "print(\"Number of unique users: \", len(interactions.user_id.unique()))"
   ]
  },
  {
   "cell_type": "code",
   "execution_count": 114,
   "metadata": {},
   "outputs": [
    {
     "name": "stdout",
     "output_type": "stream",
     "text": [
      "Number of unique recipes:  231637\n"
     ]
    }
   ],
   "source": [
    "# number of unique recipes\n",
    "print(\"Number of unique recipes: \", len(interactions.recipe_id.unique()))"
   ]
  },
  {
   "cell_type": "code",
   "execution_count": 117,
   "metadata": {},
   "outputs": [
    {
     "data": {
      "text/plain": [
       "<AxesSubplot:>"
      ]
     },
     "execution_count": 117,
     "metadata": {},
     "output_type": "execute_result"
    },
    {
     "data": {
      "image/png": "[encoded data removed]",
      "text/plain": [
       "<Figure size 640x480 with 1 Axes>"
      ]
     },
     "metadata": {},
     "output_type": "display_data"
    }
   ],
   "source": [
    "# distribution of ratings\n",
    "interactions.rating.hist()"
   ]
  },
  {
   "cell_type": "code",
   "execution_count": 118,
   "metadata": {},
   "outputs": [
    {
     "data": {
      "text/plain": [
       "count    1.132367e+06\n",
       "mean     4.411016e+00\n",
       "std      1.264752e+00\n",
       "min      0.000000e+00\n",
       "25%      4.000000e+00\n",
       "50%      5.000000e+00\n",
       "75%      5.000000e+00\n",
       "max      5.000000e+00\n",
       "Name: rating, dtype: float64"
      ]
     },
     "execution_count": 118,
     "metadata": {},
     "output_type": "execute_result"
    }
   ],
   "source": [
    "interactions.rating.describe()"
   ]
  },
  {
   "cell_type": "code",
   "execution_count": 119,
   "metadata": {},
   "outputs": [
    {
     "name": "stdout",
     "output_type": "stream",
     "text": [
      "Number of missing recipes:  52543\n",
      "Number of recipes in the interactions dataset:  231637\n",
      "Number of recipes in the recipes dataset:  179094\n"
     ]
    }
   ],
   "source": [
    "# check for unique recipe which are rated but not present in the recipes dataset\n",
    "\n",
    "# get the list of unique recipe ids from the interactions dataset\n",
    "unique_recipe_ids = set(interactions.recipe_id.unique())\n",
    "\n",
    "# get the list of unique recipe ids from the recipes dataset\n",
    "all_recipe_ids = set(recipes.id.unique())\n",
    "\n",
    "# find the difference\n",
    "missing_recipe_ids = unique_recipe_ids - all_recipe_ids\n",
    "print(\"Number of missing recipes: \", len(missing_recipe_ids))\n",
    "print(\"Number of recipes in the interactions dataset: \", len(unique_recipe_ids))\n",
    "print(\"Number of recipes in the recipes dataset: \", len(all_recipe_ids))"
   ]
  },
  {
   "cell_type": "code",
   "execution_count": 120,
   "metadata": {},
   "outputs": [],
   "source": [
    "# since the recipes dataset is a subset of the interactions dataset, we can remove the missing recipes\n",
    "interactions = interactions[~interactions.recipe_id.isin(missing_recipe_ids)]"
   ]
  },
  {
   "cell_type": "code",
   "execution_count": 121,
   "metadata": {},
   "outputs": [
    {
     "data": {
      "text/plain": [
       "(871208, 5)"
      ]
     },
     "execution_count": 121,
     "metadata": {},
     "output_type": "execute_result"
    }
   ],
   "source": [
    "interactions.shape"
   ]
  },
  {
   "cell_type": "code",
   "execution_count": 122,
   "metadata": {},
   "outputs": [],
   "source": [
    "# merge the recipes and interactions dataset using recipe_id from the interactions dataset and id from the recipes dataset\n",
    "interactions = interactions.merge(recipes, how='left', left_on='recipe_id', right_on='id')"
   ]
  },
  {
   "cell_type": "code",
   "execution_count": 123,
   "metadata": {},
   "outputs": [
    {
     "data": {
      "text/html": [
       "<div>\n",
       "<style scoped>\n",
       "    .dataframe tbody tr th:only-of-type {\n",
       "        vertical-align: middle;\n",
       "    }\n",
       "\n",
       "    .dataframe tbody tr th {\n",
       "        vertical-align: top;\n",
       "    }\n",
       "\n",
       "    .dataframe thead th {\n",
       "        text-align: right;\n",
       "    }\n",
       "</style>\n",
       "<table border=\"1\" class=\"dataframe\">\n",
       "  <thead>\n",
       "    <tr style=\"text-align: right;\">\n",
       "      <th></th>\n",
       "      <th>user_id</th>\n",
       "      <th>recipe_id</th>\n",
       "      <th>date</th>\n",
       "      <th>rating</th>\n",
       "      <th>review</th>\n",
       "      <th>id</th>\n",
       "      <th>minutes</th>\n",
       "      <th>contributor_id</th>\n",
       "      <th>submitted</th>\n",
       "      <th>tags</th>\n",
       "      <th>...</th>\n",
       "      <th>n_ingredients</th>\n",
       "      <th>preparation time</th>\n",
       "      <th>calories</th>\n",
       "      <th>total_fat</th>\n",
       "      <th>sugar</th>\n",
       "      <th>sodium</th>\n",
       "      <th>protein</th>\n",
       "      <th>saturated_fat</th>\n",
       "      <th>carbohydrates</th>\n",
       "      <th>food_types</th>\n",
       "    </tr>\n",
       "  </thead>\n",
       "  <tbody>\n",
       "    <tr>\n",
       "      <th>0</th>\n",
       "      <td>8937</td>\n",
       "      <td>44394</td>\n",
       "      <td>2002-12-01</td>\n",
       "      <td>4</td>\n",
       "      <td>This worked very well and is EASY.  I used not...</td>\n",
       "      <td>44394</td>\n",
       "      <td>20</td>\n",
       "      <td>56824</td>\n",
       "      <td>2002-10-27</td>\n",
       "      <td>['30-minutes-or-less', 'time-to-make', 'course...</td>\n",
       "      <td>...</td>\n",
       "      <td>4</td>\n",
       "      <td>0.333333</td>\n",
       "      <td>132.3</td>\n",
       "      <td>11.0</td>\n",
       "      <td>39.0</td>\n",
       "      <td>5.0</td>\n",
       "      <td>4.0</td>\n",
       "      <td>11.0</td>\n",
       "      <td>5.0</td>\n",
       "      <td>Healthy</td>\n",
       "    </tr>\n",
       "    <tr>\n",
       "      <th>1</th>\n",
       "      <td>76535</td>\n",
       "      <td>134728</td>\n",
       "      <td>2005-09-02</td>\n",
       "      <td>4</td>\n",
       "      <td>Very good!</td>\n",
       "      <td>134728</td>\n",
       "      <td>40</td>\n",
       "      <td>166019</td>\n",
       "      <td>2005-08-24</td>\n",
       "      <td>['60-minutes-or-less', 'time-to-make', 'main-i...</td>\n",
       "      <td>...</td>\n",
       "      <td>12</td>\n",
       "      <td>0.666667</td>\n",
       "      <td>316.0</td>\n",
       "      <td>4.0</td>\n",
       "      <td>40.0</td>\n",
       "      <td>37.0</td>\n",
       "      <td>78.0</td>\n",
       "      <td>4.0</td>\n",
       "      <td>10.0</td>\n",
       "      <td>Non-veg</td>\n",
       "    </tr>\n",
       "    <tr>\n",
       "      <th>2</th>\n",
       "      <td>273745</td>\n",
       "      <td>134728</td>\n",
       "      <td>2005-12-22</td>\n",
       "      <td>5</td>\n",
       "      <td>Better than the real!!</td>\n",
       "      <td>134728</td>\n",
       "      <td>40</td>\n",
       "      <td>166019</td>\n",
       "      <td>2005-08-24</td>\n",
       "      <td>['60-minutes-or-less', 'time-to-make', 'main-i...</td>\n",
       "      <td>...</td>\n",
       "      <td>12</td>\n",
       "      <td>0.666667</td>\n",
       "      <td>316.0</td>\n",
       "      <td>4.0</td>\n",
       "      <td>40.0</td>\n",
       "      <td>37.0</td>\n",
       "      <td>78.0</td>\n",
       "      <td>4.0</td>\n",
       "      <td>10.0</td>\n",
       "      <td>Non-veg</td>\n",
       "    </tr>\n",
       "    <tr>\n",
       "      <th>3</th>\n",
       "      <td>353911</td>\n",
       "      <td>134728</td>\n",
       "      <td>2006-09-26</td>\n",
       "      <td>5</td>\n",
       "      <td>Absolutely AWESOME! I was speechless when I tr...</td>\n",
       "      <td>134728</td>\n",
       "      <td>40</td>\n",
       "      <td>166019</td>\n",
       "      <td>2005-08-24</td>\n",
       "      <td>['60-minutes-or-less', 'time-to-make', 'main-i...</td>\n",
       "      <td>...</td>\n",
       "      <td>12</td>\n",
       "      <td>0.666667</td>\n",
       "      <td>316.0</td>\n",
       "      <td>4.0</td>\n",
       "      <td>40.0</td>\n",
       "      <td>37.0</td>\n",
       "      <td>78.0</td>\n",
       "      <td>4.0</td>\n",
       "      <td>10.0</td>\n",
       "      <td>Non-veg</td>\n",
       "    </tr>\n",
       "    <tr>\n",
       "      <th>4</th>\n",
       "      <td>190375</td>\n",
       "      <td>134728</td>\n",
       "      <td>2007-03-09</td>\n",
       "      <td>5</td>\n",
       "      <td>These taste absolutely wonderful!!  My son-in-...</td>\n",
       "      <td>134728</td>\n",
       "      <td>40</td>\n",
       "      <td>166019</td>\n",
       "      <td>2005-08-24</td>\n",
       "      <td>['60-minutes-or-less', 'time-to-make', 'main-i...</td>\n",
       "      <td>...</td>\n",
       "      <td>12</td>\n",
       "      <td>0.666667</td>\n",
       "      <td>316.0</td>\n",
       "      <td>4.0</td>\n",
       "      <td>40.0</td>\n",
       "      <td>37.0</td>\n",
       "      <td>78.0</td>\n",
       "      <td>4.0</td>\n",
       "      <td>10.0</td>\n",
       "      <td>Non-veg</td>\n",
       "    </tr>\n",
       "  </tbody>\n",
       "</table>\n",
       "<p>5 rows × 23 columns</p>\n",
       "</div>"
      ],
      "text/plain": [
       "   user_id  recipe_id        date  rating  \\\n",
       "0     8937      44394  2002-12-01       4   \n",
       "1    76535     134728  2005-09-02       4   \n",
       "2   273745     134728  2005-12-22       5   \n",
       "3   353911     134728  2006-09-26       5   \n",
       "4   190375     134728  2007-03-09       5   \n",
       "\n",
       "                                              review      id  minutes  \\\n",
       "0  This worked very well and is EASY.  I used not...   44394       20   \n",
       "1                                         Very good!  134728       40   \n",
       "2                             Better than the real!!  134728       40   \n",
       "3  Absolutely AWESOME! I was speechless when I tr...  134728       40   \n",
       "4  These taste absolutely wonderful!!  My son-in-...  134728       40   \n",
       "\n",
       "   contributor_id   submitted  \\\n",
       "0           56824  2002-10-27   \n",
       "1          166019  2005-08-24   \n",
       "2          166019  2005-08-24   \n",
       "3          166019  2005-08-24   \n",
       "4          166019  2005-08-24   \n",
       "\n",
       "                                                tags  ...  n_ingredients  \\\n",
       "0  ['30-minutes-or-less', 'time-to-make', 'course...  ...              4   \n",
       "1  ['60-minutes-or-less', 'time-to-make', 'main-i...  ...             12   \n",
       "2  ['60-minutes-or-less', 'time-to-make', 'main-i...  ...             12   \n",
       "3  ['60-minutes-or-less', 'time-to-make', 'main-i...  ...             12   \n",
       "4  ['60-minutes-or-less', 'time-to-make', 'main-i...  ...             12   \n",
       "\n",
       "  preparation time calories  total_fat  sugar  sodium  protein  saturated_fat  \\\n",
       "0         0.333333    132.3       11.0   39.0     5.0      4.0           11.0   \n",
       "1         0.666667    316.0        4.0   40.0    37.0     78.0            4.0   \n",
       "2         0.666667    316.0        4.0   40.0    37.0     78.0            4.0   \n",
       "3         0.666667    316.0        4.0   40.0    37.0     78.0            4.0   \n",
       "4         0.666667    316.0        4.0   40.0    37.0     78.0            4.0   \n",
       "\n",
       "   carbohydrates  food_types  \n",
       "0            5.0     Healthy  \n",
       "1           10.0     Non-veg  \n",
       "2           10.0     Non-veg  \n",
       "3           10.0     Non-veg  \n",
       "4           10.0     Non-veg  \n",
       "\n",
       "[5 rows x 23 columns]"
      ]
     },
     "execution_count": 123,
     "metadata": {},
     "output_type": "execute_result"
    }
   ],
   "source": [
    "interactions.head()"
   ]
  },
  {
   "cell_type": "code",
   "execution_count": 124,
   "metadata": {},
   "outputs": [
    {
     "data": {
      "text/plain": [
       "(871208, 23)"
      ]
     },
     "execution_count": 124,
     "metadata": {},
     "output_type": "execute_result"
    }
   ],
   "source": [
    "# shape\n",
    "interactions.shape"
   ]
  },
  {
   "cell_type": "code",
   "execution_count": 125,
   "metadata": {},
   "outputs": [
    {
     "data": {
      "text/plain": [
       "user_id             0.0\n",
       "recipe_id           0.0\n",
       "date                0.0\n",
       "rating              0.0\n",
       "review              0.0\n",
       "id                  0.0\n",
       "minutes             0.0\n",
       "contributor_id      0.0\n",
       "submitted           0.0\n",
       "tags                0.0\n",
       "n_steps             0.0\n",
       "steps               0.0\n",
       "ingredients         0.0\n",
       "n_ingredients       0.0\n",
       "preparation time    0.0\n",
       "calories            0.0\n",
       "total_fat           0.0\n",
       "sugar               0.0\n",
       "sodium              0.0\n",
       "protein             0.0\n",
       "saturated_fat       0.0\n",
       "carbohydrates       0.0\n",
       "food_types          0.0\n",
       "dtype: float64"
      ]
     },
     "execution_count": 125,
     "metadata": {},
     "output_type": "execute_result"
    }
   ],
   "source": [
    "# missing values in the dataset in terms of percentage\n",
    "interactions.isnull().sum() / interactions.shape[0] * 100"
   ]
  },
  {
   "cell_type": "code",
   "execution_count": 126,
   "metadata": {},
   "outputs": [],
   "source": [
    "# drop the id column\n",
    "interactions.drop('id', axis=1, inplace=True)"
   ]
  },
  {
   "cell_type": "markdown",
   "metadata": {},
   "source": [
    "Save the combined dataset of recipes and interactions"
   ]
  },
  {
   "cell_type": "code",
   "execution_count": 128,
   "metadata": {},
   "outputs": [],
   "source": [
    "interactions.to_csv('../data/preprocessed_interactions.csv', index=False)"
   ]
  },
  {
   "cell_type": "markdown",
   "metadata": {},
   "source": [
    "# Processing text attributes"
   ]
  },
  {
   "cell_type": "code",
   "execution_count": 130,
   "metadata": {},
   "outputs": [
    {
     "data": {
      "text/html": [
       "<div>\n",
       "<style scoped>\n",
       "    .dataframe tbody tr th:only-of-type {\n",
       "        vertical-align: middle;\n",
       "    }\n",
       "\n",
       "    .dataframe tbody tr th {\n",
       "        vertical-align: top;\n",
       "    }\n",
       "\n",
       "    .dataframe thead th {\n",
       "        text-align: right;\n",
       "    }\n",
       "</style>\n",
       "<table border=\"1\" class=\"dataframe\">\n",
       "  <thead>\n",
       "    <tr style=\"text-align: right;\">\n",
       "      <th></th>\n",
       "      <th>user_id</th>\n",
       "      <th>recipe_id</th>\n",
       "      <th>date</th>\n",
       "      <th>rating</th>\n",
       "      <th>review</th>\n",
       "      <th>minutes</th>\n",
       "      <th>contributor_id</th>\n",
       "      <th>submitted</th>\n",
       "      <th>tags</th>\n",
       "      <th>n_steps</th>\n",
       "      <th>...</th>\n",
       "      <th>n_ingredients</th>\n",
       "      <th>preparation time</th>\n",
       "      <th>calories</th>\n",
       "      <th>total_fat</th>\n",
       "      <th>sugar</th>\n",
       "      <th>sodium</th>\n",
       "      <th>protein</th>\n",
       "      <th>saturated_fat</th>\n",
       "      <th>carbohydrates</th>\n",
       "      <th>food_types</th>\n",
       "    </tr>\n",
       "  </thead>\n",
       "  <tbody>\n",
       "    <tr>\n",
       "      <th>0</th>\n",
       "      <td>8937</td>\n",
       "      <td>44394</td>\n",
       "      <td>2002-12-01</td>\n",
       "      <td>4</td>\n",
       "      <td>This worked very well and is EASY.  I used not...</td>\n",
       "      <td>20</td>\n",
       "      <td>56824</td>\n",
       "      <td>2002-10-27</td>\n",
       "      <td>['30-minutes-or-less', 'time-to-make', 'course...</td>\n",
       "      <td>5</td>\n",
       "      <td>...</td>\n",
       "      <td>4</td>\n",
       "      <td>0.333333</td>\n",
       "      <td>132.3</td>\n",
       "      <td>11.0</td>\n",
       "      <td>39.0</td>\n",
       "      <td>5.0</td>\n",
       "      <td>4.0</td>\n",
       "      <td>11.0</td>\n",
       "      <td>5.0</td>\n",
       "      <td>Healthy</td>\n",
       "    </tr>\n",
       "    <tr>\n",
       "      <th>1</th>\n",
       "      <td>76535</td>\n",
       "      <td>134728</td>\n",
       "      <td>2005-09-02</td>\n",
       "      <td>4</td>\n",
       "      <td>Very good!</td>\n",
       "      <td>40</td>\n",
       "      <td>166019</td>\n",
       "      <td>2005-08-24</td>\n",
       "      <td>['60-minutes-or-less', 'time-to-make', 'main-i...</td>\n",
       "      <td>10</td>\n",
       "      <td>...</td>\n",
       "      <td>12</td>\n",
       "      <td>0.666667</td>\n",
       "      <td>316.0</td>\n",
       "      <td>4.0</td>\n",
       "      <td>40.0</td>\n",
       "      <td>37.0</td>\n",
       "      <td>78.0</td>\n",
       "      <td>4.0</td>\n",
       "      <td>10.0</td>\n",
       "      <td>Non-veg</td>\n",
       "    </tr>\n",
       "    <tr>\n",
       "      <th>2</th>\n",
       "      <td>273745</td>\n",
       "      <td>134728</td>\n",
       "      <td>2005-12-22</td>\n",
       "      <td>5</td>\n",
       "      <td>Better than the real!!</td>\n",
       "      <td>40</td>\n",
       "      <td>166019</td>\n",
       "      <td>2005-08-24</td>\n",
       "      <td>['60-minutes-or-less', 'time-to-make', 'main-i...</td>\n",
       "      <td>10</td>\n",
       "      <td>...</td>\n",
       "      <td>12</td>\n",
       "      <td>0.666667</td>\n",
       "      <td>316.0</td>\n",
       "      <td>4.0</td>\n",
       "      <td>40.0</td>\n",
       "      <td>37.0</td>\n",
       "      <td>78.0</td>\n",
       "      <td>4.0</td>\n",
       "      <td>10.0</td>\n",
       "      <td>Non-veg</td>\n",
       "    </tr>\n",
       "    <tr>\n",
       "      <th>3</th>\n",
       "      <td>353911</td>\n",
       "      <td>134728</td>\n",
       "      <td>2006-09-26</td>\n",
       "      <td>5</td>\n",
       "      <td>Absolutely AWESOME! I was speechless when I tr...</td>\n",
       "      <td>40</td>\n",
       "      <td>166019</td>\n",
       "      <td>2005-08-24</td>\n",
       "      <td>['60-minutes-or-less', 'time-to-make', 'main-i...</td>\n",
       "      <td>10</td>\n",
       "      <td>...</td>\n",
       "      <td>12</td>\n",
       "      <td>0.666667</td>\n",
       "      <td>316.0</td>\n",
       "      <td>4.0</td>\n",
       "      <td>40.0</td>\n",
       "      <td>37.0</td>\n",
       "      <td>78.0</td>\n",
       "      <td>4.0</td>\n",
       "      <td>10.0</td>\n",
       "      <td>Non-veg</td>\n",
       "    </tr>\n",
       "    <tr>\n",
       "      <th>4</th>\n",
       "      <td>190375</td>\n",
       "      <td>134728</td>\n",
       "      <td>2007-03-09</td>\n",
       "      <td>5</td>\n",
       "      <td>These taste absolutely wonderful!!  My son-in-...</td>\n",
       "      <td>40</td>\n",
       "      <td>166019</td>\n",
       "      <td>2005-08-24</td>\n",
       "      <td>['60-minutes-or-less', 'time-to-make', 'main-i...</td>\n",
       "      <td>10</td>\n",
       "      <td>...</td>\n",
       "      <td>12</td>\n",
       "      <td>0.666667</td>\n",
       "      <td>316.0</td>\n",
       "      <td>4.0</td>\n",
       "      <td>40.0</td>\n",
       "      <td>37.0</td>\n",
       "      <td>78.0</td>\n",
       "      <td>4.0</td>\n",
       "      <td>10.0</td>\n",
       "      <td>Non-veg</td>\n",
       "    </tr>\n",
       "    <tr>\n",
       "      <th>...</th>\n",
       "      <td>...</td>\n",
       "      <td>...</td>\n",
       "      <td>...</td>\n",
       "      <td>...</td>\n",
       "      <td>...</td>\n",
       "      <td>...</td>\n",
       "      <td>...</td>\n",
       "      <td>...</td>\n",
       "      <td>...</td>\n",
       "      <td>...</td>\n",
       "      <td>...</td>\n",
       "      <td>...</td>\n",
       "      <td>...</td>\n",
       "      <td>...</td>\n",
       "      <td>...</td>\n",
       "      <td>...</td>\n",
       "      <td>...</td>\n",
       "      <td>...</td>\n",
       "      <td>...</td>\n",
       "      <td>...</td>\n",
       "      <td>...</td>\n",
       "    </tr>\n",
       "    <tr>\n",
       "      <th>871203</th>\n",
       "      <td>2000137415</td>\n",
       "      <td>82303</td>\n",
       "      <td>2015-04-13</td>\n",
       "      <td>1</td>\n",
       "      <td>I&amp;#039;ve improvised sauces that turned out be...</td>\n",
       "      <td>10</td>\n",
       "      <td>106436</td>\n",
       "      <td>2004-01-28</td>\n",
       "      <td>['15-minutes-or-less', 'time-to-make', 'course...</td>\n",
       "      <td>7</td>\n",
       "      <td>...</td>\n",
       "      <td>7</td>\n",
       "      <td>0.166667</td>\n",
       "      <td>177.1</td>\n",
       "      <td>9.0</td>\n",
       "      <td>100.0</td>\n",
       "      <td>3.0</td>\n",
       "      <td>1.0</td>\n",
       "      <td>18.0</td>\n",
       "      <td>10.0</td>\n",
       "      <td>Healthy</td>\n",
       "    </tr>\n",
       "    <tr>\n",
       "      <th>871204</th>\n",
       "      <td>2001898209</td>\n",
       "      <td>82303</td>\n",
       "      <td>2018-07-05</td>\n",
       "      <td>5</td>\n",
       "      <td>This is the best and easiest hot fudge ever. I...</td>\n",
       "      <td>10</td>\n",
       "      <td>106436</td>\n",
       "      <td>2004-01-28</td>\n",
       "      <td>['15-minutes-or-less', 'time-to-make', 'course...</td>\n",
       "      <td>7</td>\n",
       "      <td>...</td>\n",
       "      <td>7</td>\n",
       "      <td>0.166667</td>\n",
       "      <td>177.1</td>\n",
       "      <td>9.0</td>\n",
       "      <td>100.0</td>\n",
       "      <td>3.0</td>\n",
       "      <td>1.0</td>\n",
       "      <td>18.0</td>\n",
       "      <td>10.0</td>\n",
       "      <td>Healthy</td>\n",
       "    </tr>\n",
       "    <tr>\n",
       "      <th>871205</th>\n",
       "      <td>2002357020</td>\n",
       "      <td>82303</td>\n",
       "      <td>2018-12-05</td>\n",
       "      <td>5</td>\n",
       "      <td>Delicious quick thick chocolate sauce with ing...</td>\n",
       "      <td>10</td>\n",
       "      <td>106436</td>\n",
       "      <td>2004-01-28</td>\n",
       "      <td>['15-minutes-or-less', 'time-to-make', 'course...</td>\n",
       "      <td>7</td>\n",
       "      <td>...</td>\n",
       "      <td>7</td>\n",
       "      <td>0.166667</td>\n",
       "      <td>177.1</td>\n",
       "      <td>9.0</td>\n",
       "      <td>100.0</td>\n",
       "      <td>3.0</td>\n",
       "      <td>1.0</td>\n",
       "      <td>18.0</td>\n",
       "      <td>10.0</td>\n",
       "      <td>Healthy</td>\n",
       "    </tr>\n",
       "    <tr>\n",
       "      <th>871206</th>\n",
       "      <td>102526</td>\n",
       "      <td>54493</td>\n",
       "      <td>2007-04-26</td>\n",
       "      <td>0</td>\n",
       "      <td>I am not going to rate this because I did have...</td>\n",
       "      <td>65</td>\n",
       "      <td>49304</td>\n",
       "      <td>2003-02-21</td>\n",
       "      <td>['weeknight', 'time-to-make', 'course', 'main-...</td>\n",
       "      <td>10</td>\n",
       "      <td>...</td>\n",
       "      <td>6</td>\n",
       "      <td>1.083333</td>\n",
       "      <td>338.3</td>\n",
       "      <td>32.0</td>\n",
       "      <td>1.0</td>\n",
       "      <td>7.0</td>\n",
       "      <td>53.0</td>\n",
       "      <td>29.0</td>\n",
       "      <td>2.0</td>\n",
       "      <td>Non-veg</td>\n",
       "    </tr>\n",
       "    <tr>\n",
       "      <th>871207</th>\n",
       "      <td>583662</td>\n",
       "      <td>386618</td>\n",
       "      <td>2009-09-29</td>\n",
       "      <td>5</td>\n",
       "      <td>These were so delicious!  My husband and I tru...</td>\n",
       "      <td>21</td>\n",
       "      <td>742029</td>\n",
       "      <td>2009-08-24</td>\n",
       "      <td>['30-minutes-or-less', 'time-to-make', 'course...</td>\n",
       "      <td>9</td>\n",
       "      <td>...</td>\n",
       "      <td>8</td>\n",
       "      <td>0.350000</td>\n",
       "      <td>124.7</td>\n",
       "      <td>1.0</td>\n",
       "      <td>11.0</td>\n",
       "      <td>24.0</td>\n",
       "      <td>10.0</td>\n",
       "      <td>0.0</td>\n",
       "      <td>8.0</td>\n",
       "      <td>Healthy</td>\n",
       "    </tr>\n",
       "  </tbody>\n",
       "</table>\n",
       "<p>871208 rows × 22 columns</p>\n",
       "</div>"
      ],
      "text/plain": [
       "           user_id  recipe_id        date  rating  \\\n",
       "0             8937      44394  2002-12-01       4   \n",
       "1            76535     134728  2005-09-02       4   \n",
       "2           273745     134728  2005-12-22       5   \n",
       "3           353911     134728  2006-09-26       5   \n",
       "4           190375     134728  2007-03-09       5   \n",
       "...            ...        ...         ...     ...   \n",
       "871203  2000137415      82303  2015-04-13       1   \n",
       "871204  2001898209      82303  2018-07-05       5   \n",
       "871205  2002357020      82303  2018-12-05       5   \n",
       "871206      102526      54493  2007-04-26       0   \n",
       "871207      583662     386618  2009-09-29       5   \n",
       "\n",
       "                                                   review  minutes  \\\n",
       "0       This worked very well and is EASY.  I used not...       20   \n",
       "1                                              Very good!       40   \n",
       "2                                  Better than the real!!       40   \n",
       "3       Absolutely AWESOME! I was speechless when I tr...       40   \n",
       "4       These taste absolutely wonderful!!  My son-in-...       40   \n",
       "...                                                   ...      ...   \n",
       "871203  I&#039;ve improvised sauces that turned out be...       10   \n",
       "871204  This is the best and easiest hot fudge ever. I...       10   \n",
       "871205  Delicious quick thick chocolate sauce with ing...       10   \n",
       "871206  I am not going to rate this because I did have...       65   \n",
       "871207  These were so delicious!  My husband and I tru...       21   \n",
       "\n",
       "        contributor_id   submitted  \\\n",
       "0                56824  2002-10-27   \n",
       "1               166019  2005-08-24   \n",
       "2               166019  2005-08-24   \n",
       "3               166019  2005-08-24   \n",
       "4               166019  2005-08-24   \n",
       "...                ...         ...   \n",
       "871203          106436  2004-01-28   \n",
       "871204          106436  2004-01-28   \n",
       "871205          106436  2004-01-28   \n",
       "871206           49304  2003-02-21   \n",
       "871207          742029  2009-08-24   \n",
       "\n",
       "                                                     tags  n_steps  ...  \\\n",
       "0       ['30-minutes-or-less', 'time-to-make', 'course...        5  ...   \n",
       "1       ['60-minutes-or-less', 'time-to-make', 'main-i...       10  ...   \n",
       "2       ['60-minutes-or-less', 'time-to-make', 'main-i...       10  ...   \n",
       "3       ['60-minutes-or-less', 'time-to-make', 'main-i...       10  ...   \n",
       "4       ['60-minutes-or-less', 'time-to-make', 'main-i...       10  ...   \n",
       "...                                                   ...      ...  ...   \n",
       "871203  ['15-minutes-or-less', 'time-to-make', 'course...        7  ...   \n",
       "871204  ['15-minutes-or-less', 'time-to-make', 'course...        7  ...   \n",
       "871205  ['15-minutes-or-less', 'time-to-make', 'course...        7  ...   \n",
       "871206  ['weeknight', 'time-to-make', 'course', 'main-...       10  ...   \n",
       "871207  ['30-minutes-or-less', 'time-to-make', 'course...        9  ...   \n",
       "\n",
       "       n_ingredients preparation time  calories  total_fat  sugar  sodium  \\\n",
       "0                  4         0.333333     132.3       11.0   39.0     5.0   \n",
       "1                 12         0.666667     316.0        4.0   40.0    37.0   \n",
       "2                 12         0.666667     316.0        4.0   40.0    37.0   \n",
       "3                 12         0.666667     316.0        4.0   40.0    37.0   \n",
       "4                 12         0.666667     316.0        4.0   40.0    37.0   \n",
       "...              ...              ...       ...        ...    ...     ...   \n",
       "871203             7         0.166667     177.1        9.0  100.0     3.0   \n",
       "871204             7         0.166667     177.1        9.0  100.0     3.0   \n",
       "871205             7         0.166667     177.1        9.0  100.0     3.0   \n",
       "871206             6         1.083333     338.3       32.0    1.0     7.0   \n",
       "871207             8         0.350000     124.7        1.0   11.0    24.0   \n",
       "\n",
       "        protein  saturated_fat  carbohydrates  food_types  \n",
       "0           4.0           11.0            5.0     Healthy  \n",
       "1          78.0            4.0           10.0     Non-veg  \n",
       "2          78.0            4.0           10.0     Non-veg  \n",
       "3          78.0            4.0           10.0     Non-veg  \n",
       "4          78.0            4.0           10.0     Non-veg  \n",
       "...         ...            ...            ...         ...  \n",
       "871203      1.0           18.0           10.0     Healthy  \n",
       "871204      1.0           18.0           10.0     Healthy  \n",
       "871205      1.0           18.0           10.0     Healthy  \n",
       "871206     53.0           29.0            2.0     Non-veg  \n",
       "871207     10.0            0.0            8.0     Healthy  \n",
       "\n",
       "[871208 rows x 22 columns]"
      ]
     },
     "execution_count": 130,
     "metadata": {},
     "output_type": "execute_result"
    }
   ],
   "source": [
    "df = pd.read_csv('../data/preprocessed_interactions.csv')\n",
    "df"
   ]
  },
  {
   "cell_type": "code",
   "execution_count": 131,
   "metadata": {},
   "outputs": [],
   "source": [
    "# integer encoding for user_id and recipe_id\n",
    "df['user_id'] = df['user_id'].astype('category').cat.codes.values\n",
    "df['recipe_id'] = df['recipe_id'].astype('category').cat.codes.values"
   ]
  },
  {
   "cell_type": "code",
   "execution_count": 133,
   "metadata": {},
   "outputs": [
    {
     "data": {
      "text/html": [
       "<div>\n",
       "<style scoped>\n",
       "    .dataframe tbody tr th:only-of-type {\n",
       "        vertical-align: middle;\n",
       "    }\n",
       "\n",
       "    .dataframe tbody tr th {\n",
       "        vertical-align: top;\n",
       "    }\n",
       "\n",
       "    .dataframe thead th {\n",
       "        text-align: right;\n",
       "    }\n",
       "</style>\n",
       "<table border=\"1\" class=\"dataframe\">\n",
       "  <thead>\n",
       "    <tr style=\"text-align: right;\">\n",
       "      <th></th>\n",
       "      <th>user_id</th>\n",
       "      <th>recipe_id</th>\n",
       "      <th>date</th>\n",
       "      <th>rating</th>\n",
       "      <th>review</th>\n",
       "      <th>minutes</th>\n",
       "      <th>contributor_id</th>\n",
       "      <th>submitted</th>\n",
       "      <th>tags</th>\n",
       "      <th>n_steps</th>\n",
       "      <th>...</th>\n",
       "      <th>n_ingredients</th>\n",
       "      <th>preparation time</th>\n",
       "      <th>calories</th>\n",
       "      <th>total_fat</th>\n",
       "      <th>sugar</th>\n",
       "      <th>sodium</th>\n",
       "      <th>protein</th>\n",
       "      <th>saturated_fat</th>\n",
       "      <th>carbohydrates</th>\n",
       "      <th>food_types</th>\n",
       "    </tr>\n",
       "  </thead>\n",
       "  <tbody>\n",
       "    <tr>\n",
       "      <th>0</th>\n",
       "      <td>452</td>\n",
       "      <td>18605</td>\n",
       "      <td>2002-12-01</td>\n",
       "      <td>4</td>\n",
       "      <td>This worked very well and is EASY.  I used not...</td>\n",
       "      <td>20</td>\n",
       "      <td>56824</td>\n",
       "      <td>2002-10-27</td>\n",
       "      <td>['30-minutes-or-less', 'time-to-make', 'course...</td>\n",
       "      <td>5</td>\n",
       "      <td>...</td>\n",
       "      <td>4</td>\n",
       "      <td>0.333333</td>\n",
       "      <td>132.3</td>\n",
       "      <td>11.0</td>\n",
       "      <td>39.0</td>\n",
       "      <td>5.0</td>\n",
       "      <td>4.0</td>\n",
       "      <td>11.0</td>\n",
       "      <td>5.0</td>\n",
       "      <td>Healthy</td>\n",
       "    </tr>\n",
       "    <tr>\n",
       "      <th>1</th>\n",
       "      <td>7744</td>\n",
       "      <td>58036</td>\n",
       "      <td>2005-09-02</td>\n",
       "      <td>4</td>\n",
       "      <td>Very good!</td>\n",
       "      <td>40</td>\n",
       "      <td>166019</td>\n",
       "      <td>2005-08-24</td>\n",
       "      <td>['60-minutes-or-less', 'time-to-make', 'main-i...</td>\n",
       "      <td>10</td>\n",
       "      <td>...</td>\n",
       "      <td>12</td>\n",
       "      <td>0.666667</td>\n",
       "      <td>316.0</td>\n",
       "      <td>4.0</td>\n",
       "      <td>40.0</td>\n",
       "      <td>37.0</td>\n",
       "      <td>78.0</td>\n",
       "      <td>4.0</td>\n",
       "      <td>10.0</td>\n",
       "      <td>Non-veg</td>\n",
       "    </tr>\n",
       "    <tr>\n",
       "      <th>2</th>\n",
       "      <td>27007</td>\n",
       "      <td>58036</td>\n",
       "      <td>2005-12-22</td>\n",
       "      <td>5</td>\n",
       "      <td>Better than the real!!</td>\n",
       "      <td>40</td>\n",
       "      <td>166019</td>\n",
       "      <td>2005-08-24</td>\n",
       "      <td>['60-minutes-or-less', 'time-to-make', 'main-i...</td>\n",
       "      <td>10</td>\n",
       "      <td>...</td>\n",
       "      <td>12</td>\n",
       "      <td>0.666667</td>\n",
       "      <td>316.0</td>\n",
       "      <td>4.0</td>\n",
       "      <td>40.0</td>\n",
       "      <td>37.0</td>\n",
       "      <td>78.0</td>\n",
       "      <td>4.0</td>\n",
       "      <td>10.0</td>\n",
       "      <td>Non-veg</td>\n",
       "    </tr>\n",
       "    <tr>\n",
       "      <th>3</th>\n",
       "      <td>34262</td>\n",
       "      <td>58036</td>\n",
       "      <td>2006-09-26</td>\n",
       "      <td>5</td>\n",
       "      <td>Absolutely AWESOME! I was speechless when I tr...</td>\n",
       "      <td>40</td>\n",
       "      <td>166019</td>\n",
       "      <td>2005-08-24</td>\n",
       "      <td>['60-minutes-or-less', 'time-to-make', 'main-i...</td>\n",
       "      <td>10</td>\n",
       "      <td>...</td>\n",
       "      <td>12</td>\n",
       "      <td>0.666667</td>\n",
       "      <td>316.0</td>\n",
       "      <td>4.0</td>\n",
       "      <td>40.0</td>\n",
       "      <td>37.0</td>\n",
       "      <td>78.0</td>\n",
       "      <td>4.0</td>\n",
       "      <td>10.0</td>\n",
       "      <td>Non-veg</td>\n",
       "    </tr>\n",
       "    <tr>\n",
       "      <th>4</th>\n",
       "      <td>19011</td>\n",
       "      <td>58036</td>\n",
       "      <td>2007-03-09</td>\n",
       "      <td>5</td>\n",
       "      <td>These taste absolutely wonderful!!  My son-in-...</td>\n",
       "      <td>40</td>\n",
       "      <td>166019</td>\n",
       "      <td>2005-08-24</td>\n",
       "      <td>['60-minutes-or-less', 'time-to-make', 'main-i...</td>\n",
       "      <td>10</td>\n",
       "      <td>...</td>\n",
       "      <td>12</td>\n",
       "      <td>0.666667</td>\n",
       "      <td>316.0</td>\n",
       "      <td>4.0</td>\n",
       "      <td>40.0</td>\n",
       "      <td>37.0</td>\n",
       "      <td>78.0</td>\n",
       "      <td>4.0</td>\n",
       "      <td>10.0</td>\n",
       "      <td>Non-veg</td>\n",
       "    </tr>\n",
       "    <tr>\n",
       "      <th>...</th>\n",
       "      <td>...</td>\n",
       "      <td>...</td>\n",
       "      <td>...</td>\n",
       "      <td>...</td>\n",
       "      <td>...</td>\n",
       "      <td>...</td>\n",
       "      <td>...</td>\n",
       "      <td>...</td>\n",
       "      <td>...</td>\n",
       "      <td>...</td>\n",
       "      <td>...</td>\n",
       "      <td>...</td>\n",
       "      <td>...</td>\n",
       "      <td>...</td>\n",
       "      <td>...</td>\n",
       "      <td>...</td>\n",
       "      <td>...</td>\n",
       "      <td>...</td>\n",
       "      <td>...</td>\n",
       "      <td>...</td>\n",
       "      <td>...</td>\n",
       "    </tr>\n",
       "    <tr>\n",
       "      <th>871203</th>\n",
       "      <td>140009</td>\n",
       "      <td>34857</td>\n",
       "      <td>2015-04-13</td>\n",
       "      <td>1</td>\n",
       "      <td>I&amp;#039;ve improvised sauces that turned out be...</td>\n",
       "      <td>10</td>\n",
       "      <td>106436</td>\n",
       "      <td>2004-01-28</td>\n",
       "      <td>['15-minutes-or-less', 'time-to-make', 'course...</td>\n",
       "      <td>7</td>\n",
       "      <td>...</td>\n",
       "      <td>7</td>\n",
       "      <td>0.166667</td>\n",
       "      <td>177.1</td>\n",
       "      <td>9.0</td>\n",
       "      <td>100.0</td>\n",
       "      <td>3.0</td>\n",
       "      <td>1.0</td>\n",
       "      <td>18.0</td>\n",
       "      <td>10.0</td>\n",
       "      <td>Healthy</td>\n",
       "    </tr>\n",
       "    <tr>\n",
       "      <th>871204</th>\n",
       "      <td>169791</td>\n",
       "      <td>34857</td>\n",
       "      <td>2018-07-05</td>\n",
       "      <td>5</td>\n",
       "      <td>This is the best and easiest hot fudge ever. I...</td>\n",
       "      <td>10</td>\n",
       "      <td>106436</td>\n",
       "      <td>2004-01-28</td>\n",
       "      <td>['15-minutes-or-less', 'time-to-make', 'course...</td>\n",
       "      <td>7</td>\n",
       "      <td>...</td>\n",
       "      <td>7</td>\n",
       "      <td>0.166667</td>\n",
       "      <td>177.1</td>\n",
       "      <td>9.0</td>\n",
       "      <td>100.0</td>\n",
       "      <td>3.0</td>\n",
       "      <td>1.0</td>\n",
       "      <td>18.0</td>\n",
       "      <td>10.0</td>\n",
       "      <td>Healthy</td>\n",
       "    </tr>\n",
       "    <tr>\n",
       "      <th>871205</th>\n",
       "      <td>179175</td>\n",
       "      <td>34857</td>\n",
       "      <td>2018-12-05</td>\n",
       "      <td>5</td>\n",
       "      <td>Delicious quick thick chocolate sauce with ing...</td>\n",
       "      <td>10</td>\n",
       "      <td>106436</td>\n",
       "      <td>2004-01-28</td>\n",
       "      <td>['15-minutes-or-less', 'time-to-make', 'course...</td>\n",
       "      <td>7</td>\n",
       "      <td>...</td>\n",
       "      <td>7</td>\n",
       "      <td>0.166667</td>\n",
       "      <td>177.1</td>\n",
       "      <td>9.0</td>\n",
       "      <td>100.0</td>\n",
       "      <td>3.0</td>\n",
       "      <td>1.0</td>\n",
       "      <td>18.0</td>\n",
       "      <td>10.0</td>\n",
       "      <td>Healthy</td>\n",
       "    </tr>\n",
       "    <tr>\n",
       "      <th>871206</th>\n",
       "      <td>10142</td>\n",
       "      <td>22900</td>\n",
       "      <td>2007-04-26</td>\n",
       "      <td>0</td>\n",
       "      <td>I am not going to rate this because I did have...</td>\n",
       "      <td>65</td>\n",
       "      <td>49304</td>\n",
       "      <td>2003-02-21</td>\n",
       "      <td>['weeknight', 'time-to-make', 'course', 'main-...</td>\n",
       "      <td>10</td>\n",
       "      <td>...</td>\n",
       "      <td>6</td>\n",
       "      <td>1.083333</td>\n",
       "      <td>338.3</td>\n",
       "      <td>32.0</td>\n",
       "      <td>1.0</td>\n",
       "      <td>7.0</td>\n",
       "      <td>53.0</td>\n",
       "      <td>29.0</td>\n",
       "      <td>2.0</td>\n",
       "      <td>Non-veg</td>\n",
       "    </tr>\n",
       "    <tr>\n",
       "      <th>871207</th>\n",
       "      <td>49891</td>\n",
       "      <td>149837</td>\n",
       "      <td>2009-09-29</td>\n",
       "      <td>5</td>\n",
       "      <td>These were so delicious!  My husband and I tru...</td>\n",
       "      <td>21</td>\n",
       "      <td>742029</td>\n",
       "      <td>2009-08-24</td>\n",
       "      <td>['30-minutes-or-less', 'time-to-make', 'course...</td>\n",
       "      <td>9</td>\n",
       "      <td>...</td>\n",
       "      <td>8</td>\n",
       "      <td>0.350000</td>\n",
       "      <td>124.7</td>\n",
       "      <td>1.0</td>\n",
       "      <td>11.0</td>\n",
       "      <td>24.0</td>\n",
       "      <td>10.0</td>\n",
       "      <td>0.0</td>\n",
       "      <td>8.0</td>\n",
       "      <td>Healthy</td>\n",
       "    </tr>\n",
       "  </tbody>\n",
       "</table>\n",
       "<p>871208 rows × 22 columns</p>\n",
       "</div>"
      ],
      "text/plain": [
       "        user_id  recipe_id        date  rating  \\\n",
       "0           452      18605  2002-12-01       4   \n",
       "1          7744      58036  2005-09-02       4   \n",
       "2         27007      58036  2005-12-22       5   \n",
       "3         34262      58036  2006-09-26       5   \n",
       "4         19011      58036  2007-03-09       5   \n",
       "...         ...        ...         ...     ...   \n",
       "871203   140009      34857  2015-04-13       1   \n",
       "871204   169791      34857  2018-07-05       5   \n",
       "871205   179175      34857  2018-12-05       5   \n",
       "871206    10142      22900  2007-04-26       0   \n",
       "871207    49891     149837  2009-09-29       5   \n",
       "\n",
       "                                                   review  minutes  \\\n",
       "0       This worked very well and is EASY.  I used not...       20   \n",
       "1                                              Very good!       40   \n",
       "2                                  Better than the real!!       40   \n",
       "3       Absolutely AWESOME! I was speechless when I tr...       40   \n",
       "4       These taste absolutely wonderful!!  My son-in-...       40   \n",
       "...                                                   ...      ...   \n",
       "871203  I&#039;ve improvised sauces that turned out be...       10   \n",
       "871204  This is the best and easiest hot fudge ever. I...       10   \n",
       "871205  Delicious quick thick chocolate sauce with ing...       10   \n",
       "871206  I am not going to rate this because I did have...       65   \n",
       "871207  These were so delicious!  My husband and I tru...       21   \n",
       "\n",
       "        contributor_id   submitted  \\\n",
       "0                56824  2002-10-27   \n",
       "1               166019  2005-08-24   \n",
       "2               166019  2005-08-24   \n",
       "3               166019  2005-08-24   \n",
       "4               166019  2005-08-24   \n",
       "...                ...         ...   \n",
       "871203          106436  2004-01-28   \n",
       "871204          106436  2004-01-28   \n",
       "871205          106436  2004-01-28   \n",
       "871206           49304  2003-02-21   \n",
       "871207          742029  2009-08-24   \n",
       "\n",
       "                                                     tags  n_steps  ...  \\\n",
       "0       ['30-minutes-or-less', 'time-to-make', 'course...        5  ...   \n",
       "1       ['60-minutes-or-less', 'time-to-make', 'main-i...       10  ...   \n",
       "2       ['60-minutes-or-less', 'time-to-make', 'main-i...       10  ...   \n",
       "3       ['60-minutes-or-less', 'time-to-make', 'main-i...       10  ...   \n",
       "4       ['60-minutes-or-less', 'time-to-make', 'main-i...       10  ...   \n",
       "...                                                   ...      ...  ...   \n",
       "871203  ['15-minutes-or-less', 'time-to-make', 'course...        7  ...   \n",
       "871204  ['15-minutes-or-less', 'time-to-make', 'course...        7  ...   \n",
       "871205  ['15-minutes-or-less', 'time-to-make', 'course...        7  ...   \n",
       "871206  ['weeknight', 'time-to-make', 'course', 'main-...       10  ...   \n",
       "871207  ['30-minutes-or-less', 'time-to-make', 'course...        9  ...   \n",
       "\n",
       "       n_ingredients preparation time  calories  total_fat  sugar  sodium  \\\n",
       "0                  4         0.333333     132.3       11.0   39.0     5.0   \n",
       "1                 12         0.666667     316.0        4.0   40.0    37.0   \n",
       "2                 12         0.666667     316.0        4.0   40.0    37.0   \n",
       "3                 12         0.666667     316.0        4.0   40.0    37.0   \n",
       "4                 12         0.666667     316.0        4.0   40.0    37.0   \n",
       "...              ...              ...       ...        ...    ...     ...   \n",
       "871203             7         0.166667     177.1        9.0  100.0     3.0   \n",
       "871204             7         0.166667     177.1        9.0  100.0     3.0   \n",
       "871205             7         0.166667     177.1        9.0  100.0     3.0   \n",
       "871206             6         1.083333     338.3       32.0    1.0     7.0   \n",
       "871207             8         0.350000     124.7        1.0   11.0    24.0   \n",
       "\n",
       "        protein  saturated_fat  carbohydrates  food_types  \n",
       "0           4.0           11.0            5.0     Healthy  \n",
       "1          78.0            4.0           10.0     Non-veg  \n",
       "2          78.0            4.0           10.0     Non-veg  \n",
       "3          78.0            4.0           10.0     Non-veg  \n",
       "4          78.0            4.0           10.0     Non-veg  \n",
       "...         ...            ...            ...         ...  \n",
       "871203      1.0           18.0           10.0     Healthy  \n",
       "871204      1.0           18.0           10.0     Healthy  \n",
       "871205      1.0           18.0           10.0     Healthy  \n",
       "871206     53.0           29.0            2.0     Non-veg  \n",
       "871207     10.0            0.0            8.0     Healthy  \n",
       "\n",
       "[871208 rows x 22 columns]"
      ]
     },
     "execution_count": 133,
     "metadata": {},
     "output_type": "execute_result"
    }
   ],
   "source": [
    "df"
   ]
  },
  {
   "cell_type": "markdown",
   "metadata": {},
   "source": [
    "## Sentiment Analysis on Reviews"
   ]
  },
  {
   "cell_type": "code",
   "execution_count": 135,
   "metadata": {},
   "outputs": [
    {
     "data": {
      "text/plain": [
       "'absolutely awesome i was speechless when i tried them. i have never had such juicy melt in your mouth chicken made at home i would however suggest to reduce the amount of flour. 2 cups was overkill for me.'"
      ]
     },
     "execution_count": 135,
     "metadata": {},
     "output_type": "execute_result"
    }
   ],
   "source": [
    "import contractions\n",
    "def clean_review(_review):\n",
    "    # convert to string\n",
    "    _review = str(_review)\n",
    "    # expand contractions\n",
    "    _review = contractions.fix(_review)\n",
    "    # convert to lowercase\n",
    "    _review = _review.lower()\n",
    "    # remove trailing and leading spaces\n",
    "    _review = _review.strip()\n",
    "    # replace - with space\n",
    "    _review = re.sub(r'-', ' ', _review)\n",
    "    # remove punctuation\n",
    "    _review = re.sub(r'[^\\w\\s\\\\.]', '', _review)\n",
    "    # remove multiple spaces\n",
    "    _review = re.sub(r'\\s+', ' ', _review)\n",
    "    return _review\n",
    "#Test cleaning of reviews\n",
    "clean_review(df['review'][3])"
   ]
  },
  {
   "cell_type": "code",
   "execution_count": 136,
   "metadata": {},
   "outputs": [],
   "source": [
    "df['review'] = df['review'].apply(clean_review)"
   ]
  },
  {
   "cell_type": "code",
   "execution_count": 137,
   "metadata": {},
   "outputs": [
    {
     "data": {
      "text/plain": [
       "871208"
      ]
     },
     "execution_count": 137,
     "metadata": {},
     "output_type": "execute_result"
    }
   ],
   "source": [
    "len(df['review'])"
   ]
  },
  {
   "cell_type": "code",
   "execution_count": 138,
   "metadata": {},
   "outputs": [
    {
     "name": "stdout",
     "output_type": "stream",
     "text": [
      "this worked very well and is easy. i used not quite a whole package 10oz of white chips. great\n",
      "\n",
      "very good\n",
      "\n",
      "better than the real\n",
      "\n",
      "absolutely awesome i was speechless when i tried them. i have never had such juicy melt in your mouth chicken made at home i would however suggest to reduce the amount of flour. 2 cups was overkill for me.\n",
      "\n",
      "these taste absolutely wonderful my son in law loves them and requests them often i followed the recipe exactly. thanks so much for posting this recipe.\n",
      "\n"
     ]
    }
   ],
   "source": [
    "# first 5 reviews\n",
    "for review in df['review'][:5]:\n",
    "    print(review + \"\\n\")"
   ]
  },
  {
   "cell_type": "code",
   "execution_count": 140,
   "metadata": {},
   "outputs": [
    {
     "name": "stderr",
     "output_type": "stream",
     "text": [
      "[nltk_data] Downloading package vader_lexicon to C:\\Users\\Meera\n",
      "[nltk_data]     Tresa\\AppData\\Roaming\\nltk_data...\n"
     ]
    },
    {
     "data": {
      "text/plain": [
       "{'neg': 0.0, 'neu': 0.598, 'pos': 0.402, 'compound': 0.8553}"
      ]
     },
     "execution_count": 140,
     "metadata": {},
     "output_type": "execute_result"
    }
   ],
   "source": [
    "import nltk\n",
    "nltk.download('vader_lexicon') # download the necessary lexicon for sentiment analysis\n",
    "from nltk.sentiment.vader import SentimentIntensityAnalyzer\n",
    "\n",
    "# initialize the sentiment analyzer\n",
    "sid = SentimentIntensityAnalyzer()\n",
    "\n",
    "# function to get the sentiment score\n",
    "def get_sentiment_score(_review):\n",
    "    # get the polarity score\n",
    "    polarity_scores = sid.polarity_scores(_review)\n",
    "    # return the compound score\n",
    "    return polarity_scores\n",
    "\n",
    "# get the sentiment score for the first review\n",
    "get_sentiment_score(df['review'][0])"
   ]
  },
  {
   "cell_type": "markdown",
   "metadata": {},
   "source": [
    "## Process Ingredients, Descriptive Steps and Tags of Recipe data"
   ]
  },
  {
   "cell_type": "code",
   "execution_count": 150,
   "metadata": {},
   "outputs": [
    {
     "name": "stdout",
     "output_type": "stream",
     "text": [
      "[\"devil's food cake mix\", 'vegetable oil', 'eggs', \"reese's pieces\"]\n",
      "\n",
      "['chicken tenders', 'flour', 'garlic powder', 'salt', 'ground pepper', 'buttermilk', 'vegetable oil', 'hickory flavored barbecue sauce', 'water', 'honey', 'ketchup', 'liquid smoke']\n",
      "\n",
      "['chicken tenders', 'flour', 'garlic powder', 'salt', 'ground pepper', 'buttermilk', 'vegetable oil', 'hickory flavored barbecue sauce', 'water', 'honey', 'ketchup', 'liquid smoke']\n",
      "\n",
      "['chicken tenders', 'flour', 'garlic powder', 'salt', 'ground pepper', 'buttermilk', 'vegetable oil', 'hickory flavored barbecue sauce', 'water', 'honey', 'ketchup', 'liquid smoke']\n",
      "\n",
      "['chicken tenders', 'flour', 'garlic powder', 'salt', 'ground pepper', 'buttermilk', 'vegetable oil', 'hickory flavored barbecue sauce', 'water', 'honey', 'ketchup', 'liquid smoke']\n",
      "\n"
     ]
    }
   ],
   "source": [
    "for ingredient in df['ingredients'][:5]:\n",
    "    print(ingredient + \"\\n\")"
   ]
  },
  {
   "cell_type": "code",
   "execution_count": 151,
   "metadata": {},
   "outputs": [
    {
     "name": "stdout",
     "output_type": "stream",
     "text": [
      "Number of unique ingredients:  14009\n"
     ]
    }
   ],
   "source": [
    "# number of unique ingredients\n",
    "ingredient_list = [ingredient_list.split(',') for ingredient_list in df.ingredients]\n",
    "ingredient_list = [item.strip() for sublist in ingredient_list for item in sublist]\n",
    "# remove special characters except - and \" \"\n",
    "ingredient_list = [re.sub('[^A-Za-z0-9\\s\\-\"]+', '', ingredient) for ingredient in ingredient_list]\n",
    "# remove double quotes\n",
    "ingredient_list = [re.sub('\"', '', ingredient) for ingredient in ingredient_list]\n",
    "print(\"Number of unique ingredients: \", len(set(ingredient_list)))"
   ]
  },
  {
   "cell_type": "code",
   "execution_count": 152,
   "metadata": {},
   "outputs": [
    {
     "data": {
      "text/plain": [
       "['devils food cake mix',\n",
       " 'vegetable oil',\n",
       " 'eggs',\n",
       " 'reeses pieces',\n",
       " 'chicken tenders',\n",
       " 'flour',\n",
       " 'garlic powder',\n",
       " 'salt',\n",
       " 'ground pepper',\n",
       " 'buttermilk']"
      ]
     },
     "execution_count": 152,
     "metadata": {},
     "output_type": "execute_result"
    }
   ],
   "source": [
    "ingredient_list[:10]"
   ]
  },
  {
   "cell_type": "code",
   "execution_count": 153,
   "metadata": {},
   "outputs": [
    {
     "data": {
      "text/plain": [
       "'devils food cake mix, vegetable oil, eggs, reeses pieces'"
      ]
     },
     "execution_count": 153,
     "metadata": {},
     "output_type": "execute_result"
    }
   ],
   "source": [
    "def encode_ingredients(ingredients):\n",
    "    ingredients = ingredients.split(',')\n",
    "    ingredients = [ingredient.strip() for ingredient in ingredients]\n",
    "    ingredients = [re.sub('[^A-Za-z0-9\\s\\-\"]+', '', ingredient) for ingredient in ingredients]\n",
    "    ingredients = [re.sub('\"', '', ingredient) for ingredient in ingredients]\n",
    "    return ', '.join(ingredients)\n",
    "\n",
    "encode_ingredients(df['ingredients'][0])"
   ]
  },
  {
   "cell_type": "code",
   "execution_count": 154,
   "metadata": {},
   "outputs": [],
   "source": [
    "df['ingredients'] = df['ingredients'].apply(encode_ingredients)"
   ]
  },
  {
   "cell_type": "code",
   "execution_count": 155,
   "metadata": {},
   "outputs": [
    {
     "name": "stdout",
     "output_type": "stream",
     "text": [
      "Number of unique tags:  510\n"
     ]
    }
   ],
   "source": [
    "# number of unique tags\n",
    "tag_list = [tag_list.split(',') for tag_list in df.tags]\n",
    "tag_list = [item.strip() for sublist in tag_list for item in sublist]\n",
    "# remove special characters except - and \" \"\n",
    "tag_list = [re.sub('[^A-Za-z0-9\\s\\-\"]+', '', tag) for tag in tag_list]\n",
    "# remove double quotes\n",
    "tag_list = [re.sub('\"', '', tag) for tag in tag_list]\n",
    "print(\"Number of unique tags: \", len(set(tag_list)))"
   ]
  },
  {
   "cell_type": "code",
   "execution_count": 156,
   "metadata": {},
   "outputs": [
    {
     "data": {
      "text/plain": [
       "'30-minutes-or-less, time-to-make, course, main-ingredient, preparation, occasion, for-large-groups, 5-ingredients-or-less, drop-cookies, desserts, lunch, oven, easy, potluck, fall, finger-food, heirloom-historical, holiday-event, kid-friendly, picnic, spring, summer, winter, cakes, cookies-and-brownies, easter, chocolate, dietary, gifts, christmas, hanukkah, new-years, seasonal, comfort-food, independence-day, ramadan, rosh-hashana, valentines-day, taste-mood, to-go, equipment, number-of-servings, presentation'"
      ]
     },
     "execution_count": 156,
     "metadata": {},
     "output_type": "execute_result"
    }
   ],
   "source": [
    "def encode_tags(tag):\n",
    "    tag = tag.split(',')\n",
    "    tag = [tag.strip() for tag in tag]\n",
    "    tag = [re.sub('[^A-Za-z0-9\\s\\-\"]+', '', tag) for tag in tag]\n",
    "    tag = [re.sub('\"', '', tag) for tag in tag]\n",
    "    return ', '.join(tag)\n",
    "\n",
    "encode_tags(df['tags'][0])"
   ]
  },
  {
   "cell_type": "code",
   "execution_count": 157,
   "metadata": {},
   "outputs": [],
   "source": [
    "df['tags'] = df['tags'].apply(encode_tags)"
   ]
  },
  {
   "cell_type": "code",
   "execution_count": 158,
   "metadata": {},
   "outputs": [
    {
     "name": "stdout",
     "output_type": "stream",
     "text": [
      "['blend together cake mix , oil and eggs', 'add chips of choice', 'drop by rounded tablespoon onto ungreased cookie sheet', 'bake at 350 for 9-12 minutes or until set', 'let cool 5 minutes before removing from cookie sheet']\n",
      "\n",
      "['mix flour , salt and pepper in bowl', 'set aside', 'place buttermilk in seperate bowl', 'heat oil for frying and dips chicken strips in flour then in buttermilk and then in flour again', 'place in hot oil and fry until lightly golden brown', 'remove strips and drain', 'place all bbq sauce ingredients in a small sauce pan and simmer on low stirring frequently for 20 minutes', 'let sauce cool', 'dip one chicken strip in sauce at a time and place in a baking pan that has been sprayed lightly with a non stick spray', 'place in a preheated oven at 350 and bake for 20 minutes']\n",
      "\n",
      "['mix flour , salt and pepper in bowl', 'set aside', 'place buttermilk in seperate bowl', 'heat oil for frying and dips chicken strips in flour then in buttermilk and then in flour again', 'place in hot oil and fry until lightly golden brown', 'remove strips and drain', 'place all bbq sauce ingredients in a small sauce pan and simmer on low stirring frequently for 20 minutes', 'let sauce cool', 'dip one chicken strip in sauce at a time and place in a baking pan that has been sprayed lightly with a non stick spray', 'place in a preheated oven at 350 and bake for 20 minutes']\n",
      "\n",
      "['mix flour , salt and pepper in bowl', 'set aside', 'place buttermilk in seperate bowl', 'heat oil for frying and dips chicken strips in flour then in buttermilk and then in flour again', 'place in hot oil and fry until lightly golden brown', 'remove strips and drain', 'place all bbq sauce ingredients in a small sauce pan and simmer on low stirring frequently for 20 minutes', 'let sauce cool', 'dip one chicken strip in sauce at a time and place in a baking pan that has been sprayed lightly with a non stick spray', 'place in a preheated oven at 350 and bake for 20 minutes']\n",
      "\n",
      "['mix flour , salt and pepper in bowl', 'set aside', 'place buttermilk in seperate bowl', 'heat oil for frying and dips chicken strips in flour then in buttermilk and then in flour again', 'place in hot oil and fry until lightly golden brown', 'remove strips and drain', 'place all bbq sauce ingredients in a small sauce pan and simmer on low stirring frequently for 20 minutes', 'let sauce cool', 'dip one chicken strip in sauce at a time and place in a baking pan that has been sprayed lightly with a non stick spray', 'place in a preheated oven at 350 and bake for 20 minutes']\n",
      "\n"
     ]
    }
   ],
   "source": [
    "for step in df['steps'][:5]:\n",
    "    print(step + \"\\n\")"
   ]
  },
  {
   "cell_type": "code",
   "execution_count": 159,
   "metadata": {},
   "outputs": [
    {
     "data": {
      "text/plain": [
       "'blend together cake mix, oil and eggs\\nadd chips of choice\\ndrop by rounded tablespoon onto ungreased cookie sheet\\nbake at 350 for 9-12 minutes or until set\\nlet cool 5 minutes before removing from cookie sheet'"
      ]
     },
     "execution_count": 159,
     "metadata": {},
     "output_type": "execute_result"
    }
   ],
   "source": [
    "def clean_steps(steps):\n",
    "    steps = steps.replace(' ,', ',')\n",
    "    steps = [step for step in steps.split('\\',')]\n",
    "    steps = [step.strip() for step in steps]\n",
    "    steps = [re.sub('[^A-Za-z0-9\\s\\-\\,\"]+', '', step) for step in steps]\n",
    "    steps = [re.sub('\"', '', step) for step in steps]\n",
    "    return '\\n'.join(steps)\n",
    "\n",
    "clean_steps(df['steps'][0])"
   ]
  },
  {
   "cell_type": "code",
   "execution_count": 160,
   "metadata": {},
   "outputs": [],
   "source": [
    "df['steps'] = df['steps'].apply(clean_steps)"
   ]
  },
  {
   "cell_type": "code",
   "execution_count": 161,
   "metadata": {},
   "outputs": [
    {
     "name": "stdout",
     "output_type": "stream",
     "text": [
      "blend together cake mix, oil and eggs\n",
      "add chips of choice\n",
      "drop by rounded tablespoon onto ungreased cookie sheet\n",
      "bake at 350 for 9-12 minutes or until set\n",
      "let cool 5 minutes before removing from cookie sheet\n",
      "\n",
      "mix flour, salt and pepper in bowl\n",
      "set aside\n",
      "place buttermilk in seperate bowl\n",
      "heat oil for frying and dips chicken strips in flour then in buttermilk and then in flour again\n",
      "place in hot oil and fry until lightly golden brown\n",
      "remove strips and drain\n",
      "place all bbq sauce ingredients in a small sauce pan and simmer on low stirring frequently for 20 minutes\n",
      "let sauce cool\n",
      "dip one chicken strip in sauce at a time and place in a baking pan that has been sprayed lightly with a non stick spray\n",
      "place in a preheated oven at 350 and bake for 20 minutes\n",
      "\n",
      "mix flour, salt and pepper in bowl\n",
      "set aside\n",
      "place buttermilk in seperate bowl\n",
      "heat oil for frying and dips chicken strips in flour then in buttermilk and then in flour again\n",
      "place in hot oil and fry until lightly golden brown\n",
      "remove strips and drain\n",
      "place all bbq sauce ingredients in a small sauce pan and simmer on low stirring frequently for 20 minutes\n",
      "let sauce cool\n",
      "dip one chicken strip in sauce at a time and place in a baking pan that has been sprayed lightly with a non stick spray\n",
      "place in a preheated oven at 350 and bake for 20 minutes\n",
      "\n",
      "mix flour, salt and pepper in bowl\n",
      "set aside\n",
      "place buttermilk in seperate bowl\n",
      "heat oil for frying and dips chicken strips in flour then in buttermilk and then in flour again\n",
      "place in hot oil and fry until lightly golden brown\n",
      "remove strips and drain\n",
      "place all bbq sauce ingredients in a small sauce pan and simmer on low stirring frequently for 20 minutes\n",
      "let sauce cool\n",
      "dip one chicken strip in sauce at a time and place in a baking pan that has been sprayed lightly with a non stick spray\n",
      "place in a preheated oven at 350 and bake for 20 minutes\n",
      "\n",
      "mix flour, salt and pepper in bowl\n",
      "set aside\n",
      "place buttermilk in seperate bowl\n",
      "heat oil for frying and dips chicken strips in flour then in buttermilk and then in flour again\n",
      "place in hot oil and fry until lightly golden brown\n",
      "remove strips and drain\n",
      "place all bbq sauce ingredients in a small sauce pan and simmer on low stirring frequently for 20 minutes\n",
      "let sauce cool\n",
      "dip one chicken strip in sauce at a time and place in a baking pan that has been sprayed lightly with a non stick spray\n",
      "place in a preheated oven at 350 and bake for 20 minutes\n",
      "\n"
     ]
    }
   ],
   "source": [
    "for step in df['steps'][:5]:\n",
    "    print(step + \"\\n\")"
   ]
  },
  {
   "cell_type": "code",
   "execution_count": 162,
   "metadata": {},
   "outputs": [
    {
     "name": "stdout",
     "output_type": "stream",
     "text": [
      "Number of unique steps:  1308919\n"
     ]
    }
   ],
   "source": [
    "# number of unique steps\n",
    "step_list = [step_list.split('\\n') for step_list in df.steps]\n",
    "step_list = [item.strip() for sublist in step_list for item in sublist]\n",
    "# replace \"'\" with \"\"\n",
    "step_list = [re.sub(\"'\", '', step) for step in step_list]\n",
    "print(\"Number of unique steps: \", len(set(step_list)))"
   ]
  },
  {
   "cell_type": "code",
   "execution_count": 163,
   "metadata": {},
   "outputs": [
    {
     "data": {
      "text/html": [
       "<div>\n",
       "<style scoped>\n",
       "    .dataframe tbody tr th:only-of-type {\n",
       "        vertical-align: middle;\n",
       "    }\n",
       "\n",
       "    .dataframe tbody tr th {\n",
       "        vertical-align: top;\n",
       "    }\n",
       "\n",
       "    .dataframe thead th {\n",
       "        text-align: right;\n",
       "    }\n",
       "</style>\n",
       "<table border=\"1\" class=\"dataframe\">\n",
       "  <thead>\n",
       "    <tr style=\"text-align: right;\">\n",
       "      <th></th>\n",
       "      <th>user_id</th>\n",
       "      <th>recipe_id</th>\n",
       "      <th>date</th>\n",
       "      <th>rating</th>\n",
       "      <th>review</th>\n",
       "      <th>minutes</th>\n",
       "      <th>contributor_id</th>\n",
       "      <th>submitted</th>\n",
       "      <th>tags</th>\n",
       "      <th>n_steps</th>\n",
       "      <th>...</th>\n",
       "      <th>n_ingredients</th>\n",
       "      <th>preparation time</th>\n",
       "      <th>calories</th>\n",
       "      <th>total_fat</th>\n",
       "      <th>sugar</th>\n",
       "      <th>sodium</th>\n",
       "      <th>protein</th>\n",
       "      <th>saturated_fat</th>\n",
       "      <th>carbohydrates</th>\n",
       "      <th>food_types</th>\n",
       "    </tr>\n",
       "  </thead>\n",
       "  <tbody>\n",
       "    <tr>\n",
       "      <th>0</th>\n",
       "      <td>452</td>\n",
       "      <td>18605</td>\n",
       "      <td>2002-12-01</td>\n",
       "      <td>4</td>\n",
       "      <td>this worked very well and is easy. i used not ...</td>\n",
       "      <td>20</td>\n",
       "      <td>56824</td>\n",
       "      <td>2002-10-27</td>\n",
       "      <td>30-minutes-or-less, time-to-make, course, main...</td>\n",
       "      <td>5</td>\n",
       "      <td>...</td>\n",
       "      <td>4</td>\n",
       "      <td>0.333333</td>\n",
       "      <td>132.3</td>\n",
       "      <td>11.0</td>\n",
       "      <td>39.0</td>\n",
       "      <td>5.0</td>\n",
       "      <td>4.0</td>\n",
       "      <td>11.0</td>\n",
       "      <td>5.0</td>\n",
       "      <td>Healthy</td>\n",
       "    </tr>\n",
       "    <tr>\n",
       "      <th>1</th>\n",
       "      <td>7744</td>\n",
       "      <td>58036</td>\n",
       "      <td>2005-09-02</td>\n",
       "      <td>4</td>\n",
       "      <td>very good</td>\n",
       "      <td>40</td>\n",
       "      <td>166019</td>\n",
       "      <td>2005-08-24</td>\n",
       "      <td>60-minutes-or-less, time-to-make, main-ingredi...</td>\n",
       "      <td>10</td>\n",
       "      <td>...</td>\n",
       "      <td>12</td>\n",
       "      <td>0.666667</td>\n",
       "      <td>316.0</td>\n",
       "      <td>4.0</td>\n",
       "      <td>40.0</td>\n",
       "      <td>37.0</td>\n",
       "      <td>78.0</td>\n",
       "      <td>4.0</td>\n",
       "      <td>10.0</td>\n",
       "      <td>Non-veg</td>\n",
       "    </tr>\n",
       "    <tr>\n",
       "      <th>2</th>\n",
       "      <td>27007</td>\n",
       "      <td>58036</td>\n",
       "      <td>2005-12-22</td>\n",
       "      <td>5</td>\n",
       "      <td>better than the real</td>\n",
       "      <td>40</td>\n",
       "      <td>166019</td>\n",
       "      <td>2005-08-24</td>\n",
       "      <td>60-minutes-or-less, time-to-make, main-ingredi...</td>\n",
       "      <td>10</td>\n",
       "      <td>...</td>\n",
       "      <td>12</td>\n",
       "      <td>0.666667</td>\n",
       "      <td>316.0</td>\n",
       "      <td>4.0</td>\n",
       "      <td>40.0</td>\n",
       "      <td>37.0</td>\n",
       "      <td>78.0</td>\n",
       "      <td>4.0</td>\n",
       "      <td>10.0</td>\n",
       "      <td>Non-veg</td>\n",
       "    </tr>\n",
       "    <tr>\n",
       "      <th>3</th>\n",
       "      <td>34262</td>\n",
       "      <td>58036</td>\n",
       "      <td>2006-09-26</td>\n",
       "      <td>5</td>\n",
       "      <td>absolutely awesome i was speechless when i tri...</td>\n",
       "      <td>40</td>\n",
       "      <td>166019</td>\n",
       "      <td>2005-08-24</td>\n",
       "      <td>60-minutes-or-less, time-to-make, main-ingredi...</td>\n",
       "      <td>10</td>\n",
       "      <td>...</td>\n",
       "      <td>12</td>\n",
       "      <td>0.666667</td>\n",
       "      <td>316.0</td>\n",
       "      <td>4.0</td>\n",
       "      <td>40.0</td>\n",
       "      <td>37.0</td>\n",
       "      <td>78.0</td>\n",
       "      <td>4.0</td>\n",
       "      <td>10.0</td>\n",
       "      <td>Non-veg</td>\n",
       "    </tr>\n",
       "    <tr>\n",
       "      <th>4</th>\n",
       "      <td>19011</td>\n",
       "      <td>58036</td>\n",
       "      <td>2007-03-09</td>\n",
       "      <td>5</td>\n",
       "      <td>these taste absolutely wonderful my son in law...</td>\n",
       "      <td>40</td>\n",
       "      <td>166019</td>\n",
       "      <td>2005-08-24</td>\n",
       "      <td>60-minutes-or-less, time-to-make, main-ingredi...</td>\n",
       "      <td>10</td>\n",
       "      <td>...</td>\n",
       "      <td>12</td>\n",
       "      <td>0.666667</td>\n",
       "      <td>316.0</td>\n",
       "      <td>4.0</td>\n",
       "      <td>40.0</td>\n",
       "      <td>37.0</td>\n",
       "      <td>78.0</td>\n",
       "      <td>4.0</td>\n",
       "      <td>10.0</td>\n",
       "      <td>Non-veg</td>\n",
       "    </tr>\n",
       "  </tbody>\n",
       "</table>\n",
       "<p>5 rows × 22 columns</p>\n",
       "</div>"
      ],
      "text/plain": [
       "   user_id  recipe_id        date  rating  \\\n",
       "0      452      18605  2002-12-01       4   \n",
       "1     7744      58036  2005-09-02       4   \n",
       "2    27007      58036  2005-12-22       5   \n",
       "3    34262      58036  2006-09-26       5   \n",
       "4    19011      58036  2007-03-09       5   \n",
       "\n",
       "                                              review  minutes  contributor_id  \\\n",
       "0  this worked very well and is easy. i used not ...       20           56824   \n",
       "1                                          very good       40          166019   \n",
       "2                               better than the real       40          166019   \n",
       "3  absolutely awesome i was speechless when i tri...       40          166019   \n",
       "4  these taste absolutely wonderful my son in law...       40          166019   \n",
       "\n",
       "    submitted                                               tags  n_steps  \\\n",
       "0  2002-10-27  30-minutes-or-less, time-to-make, course, main...        5   \n",
       "1  2005-08-24  60-minutes-or-less, time-to-make, main-ingredi...       10   \n",
       "2  2005-08-24  60-minutes-or-less, time-to-make, main-ingredi...       10   \n",
       "3  2005-08-24  60-minutes-or-less, time-to-make, main-ingredi...       10   \n",
       "4  2005-08-24  60-minutes-or-less, time-to-make, main-ingredi...       10   \n",
       "\n",
       "   ... n_ingredients preparation time  calories  total_fat  sugar  sodium  \\\n",
       "0  ...             4         0.333333     132.3       11.0   39.0     5.0   \n",
       "1  ...            12         0.666667     316.0        4.0   40.0    37.0   \n",
       "2  ...            12         0.666667     316.0        4.0   40.0    37.0   \n",
       "3  ...            12         0.666667     316.0        4.0   40.0    37.0   \n",
       "4  ...            12         0.666667     316.0        4.0   40.0    37.0   \n",
       "\n",
       "   protein  saturated_fat  carbohydrates  food_types  \n",
       "0      4.0           11.0            5.0     Healthy  \n",
       "1     78.0            4.0           10.0     Non-veg  \n",
       "2     78.0            4.0           10.0     Non-veg  \n",
       "3     78.0            4.0           10.0     Non-veg  \n",
       "4     78.0            4.0           10.0     Non-veg  \n",
       "\n",
       "[5 rows x 22 columns]"
      ]
     },
     "execution_count": 163,
     "metadata": {},
     "output_type": "execute_result"
    }
   ],
   "source": [
    "df.head()"
   ]
  },
  {
   "cell_type": "code",
   "execution_count": 165,
   "metadata": {},
   "outputs": [],
   "source": [
    "df.to_csv('../data/preprocessed_data.csv', index=False)"
   ]
  },
  {
   "cell_type": "code",
   "execution_count": null,
   "metadata": {},
   "outputs": [],
   "source": []
  }
 ],
 "metadata": {
  "kernelspec": {
   "display_name": "Python 3 (ipykernel)",
   "language": "python",
   "name": "python3"
  },
  "language_info": {
   "codemirror_mode": {
    "name": "ipython",
    "version": 3
   },
   "file_extension": ".py",
   "mimetype": "text/x-python",
   "name": "python",
   "nbconvert_exporter": "python",
   "pygments_lexer": "ipython3",
   "version": "3.10.6"
  },
  "vscode": {
   "interpreter": {
    "hash": "949777d72b0d2535278d3dc13498b2535136f6dfe0678499012e853ee9abcab1"
   }
  }
 },
 "nbformat": 4,
 "nbformat_minor": 1
}
