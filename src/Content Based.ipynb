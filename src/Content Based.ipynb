{
 "cells": [
  {
   "cell_type": "code",
   "execution_count": 1,
   "metadata": {},
   "outputs": [],
   "source": [
    "import pandas as pd\n",
    "import re"
   ]
  },
  {
   "cell_type": "code",
   "execution_count": 3,
   "metadata": {},
   "outputs": [
    {
     "data": {
      "text/plain": "        user_id  recipe_id        date  rating   \n0          7708      60599  2005-09-02       4  \\\n1         27707      60599  2005-12-22       5   \n2         35308      60599  2006-09-26       5   \n3         19399      60599  2007-03-09       5   \n4         43887      60599  2008-02-20       0   \n...         ...        ...         ...     ...   \n942363    10188      22092  2007-04-26       0   \n942364    51769     161871  2009-09-29       5   \n942365    15786      33054  2008-06-23       5   \n942366     5051      33054  2009-01-11       4   \n942367   181745      33054  2017-12-18       5   \n\n                                                   review   \n0                                               very good  \\\n1                                    better than the real   \n2       absolutely awesome i was speechless when i tri...   \n3       these taste absolutely wonderful my son in law...   \n4       made my own buttermilk w vinegar and milk. use...   \n...                                                   ...   \n942363  i am not going to rate this because i did have...   \n942364  these were so delicious my husband and i truly...   \n942365  wow sometimes i do not take the time to rate r...   \n942366  very good i used regular port as well. the gra...   \n942367  i am so glad i googled and found this here. th...   \n\n                                   name  minutes  contributor_id   submitted   \n0                  kfc honey bbq strips       40          166019  2005-08-24  \\\n1                  kfc honey bbq strips       40          166019  2005-08-24   \n2                  kfc honey bbq strips       40          166019  2005-08-24   \n3                  kfc honey bbq strips       40          166019  2005-08-24   \n4                  kfc honey bbq strips       40          166019  2005-08-24   \n...                                 ...      ...             ...         ...   \n942363             garlic clove chicken       65           49304  2003-02-21   \n942364  stacey e s yummy veggie burgers       21          742029  2009-08-24   \n942365   pot roast with port  stove top      115          108291  2003-12-05   \n942366   pot roast with port  stove top      115          108291  2003-12-05   \n942367   pot roast with port  stove top      115          108291  2003-12-05   \n\n                                                     tags  ...  sugar sodium   \n0       60-minutes-or-less, time-to-make, main-ingredi...  ...   40.0   37.0  \\\n1       60-minutes-or-less, time-to-make, main-ingredi...  ...   40.0   37.0   \n2       60-minutes-or-less, time-to-make, main-ingredi...  ...   40.0   37.0   \n3       60-minutes-or-less, time-to-make, main-ingredi...  ...   40.0   37.0   \n4       60-minutes-or-less, time-to-make, main-ingredi...  ...   40.0   37.0   \n...                                                   ...  ...    ...    ...   \n942363  weeknight, time-to-make, course, main-ingredie...  ...    1.0    7.0   \n942364  30-minutes-or-less, time-to-make, course, main...  ...   11.0   24.0   \n942365  weeknight, time-to-make, course, preparation, ...  ...   22.0   20.0   \n942366  weeknight, time-to-make, course, preparation, ...  ...   22.0   20.0   \n942367  weeknight, time-to-make, course, preparation, ...  ...   22.0   20.0   \n\n       protein saturated_fat  carbohydrates  food_types  negative  neutral   \n0         78.0           4.0           10.0     Non-veg     0.000    0.238  \\\n1         78.0           4.0           10.0     Non-veg     0.000    0.508   \n2         78.0           4.0           10.0     Non-veg     0.000    0.883   \n3         78.0           4.0           10.0     Non-veg     0.000    0.675   \n4         78.0           4.0           10.0     Non-veg     0.000    0.929   \n...        ...           ...            ...         ...       ...      ...   \n942363    53.0          29.0            2.0     Non-veg     0.071    0.929   \n942364    10.0           0.0            8.0     Healthy     0.000    0.752   \n942365    93.0         112.0            4.0         Veg     0.063    0.749   \n942366    93.0         112.0            4.0         Veg     0.000    0.584   \n942367    93.0         112.0            4.0         Veg     0.010    0.799   \n\n        positive  compound  \n0          0.762    0.4927  \n1          0.492    0.4404  \n2          0.117    0.6590  \n3          0.325    0.8908  \n4          0.071    0.4588  \n...          ...       ...  \n942363     0.000   -0.5075  \n942364     0.248    0.9609  \n942365     0.188    0.9520  \n942366     0.416    0.8856  \n942367     0.190    0.9824  \n\n[942368 rows x 27 columns]",
      "text/html": "<div>\n<style scoped>\n    .dataframe tbody tr th:only-of-type {\n        vertical-align: middle;\n    }\n\n    .dataframe tbody tr th {\n        vertical-align: top;\n    }\n\n    .dataframe thead th {\n        text-align: right;\n    }\n</style>\n<table border=\"1\" class=\"dataframe\">\n  <thead>\n    <tr style=\"text-align: right;\">\n      <th></th>\n      <th>user_id</th>\n      <th>recipe_id</th>\n      <th>date</th>\n      <th>rating</th>\n      <th>review</th>\n      <th>name</th>\n      <th>minutes</th>\n      <th>contributor_id</th>\n      <th>submitted</th>\n      <th>tags</th>\n      <th>...</th>\n      <th>sugar</th>\n      <th>sodium</th>\n      <th>protein</th>\n      <th>saturated_fat</th>\n      <th>carbohydrates</th>\n      <th>food_types</th>\n      <th>negative</th>\n      <th>neutral</th>\n      <th>positive</th>\n      <th>compound</th>\n    </tr>\n  </thead>\n  <tbody>\n    <tr>\n      <th>0</th>\n      <td>7708</td>\n      <td>60599</td>\n      <td>2005-09-02</td>\n      <td>4</td>\n      <td>very good</td>\n      <td>kfc honey bbq strips</td>\n      <td>40</td>\n      <td>166019</td>\n      <td>2005-08-24</td>\n      <td>60-minutes-or-less, time-to-make, main-ingredi...</td>\n      <td>...</td>\n      <td>40.0</td>\n      <td>37.0</td>\n      <td>78.0</td>\n      <td>4.0</td>\n      <td>10.0</td>\n      <td>Non-veg</td>\n      <td>0.000</td>\n      <td>0.238</td>\n      <td>0.762</td>\n      <td>0.4927</td>\n    </tr>\n    <tr>\n      <th>1</th>\n      <td>27707</td>\n      <td>60599</td>\n      <td>2005-12-22</td>\n      <td>5</td>\n      <td>better than the real</td>\n      <td>kfc honey bbq strips</td>\n      <td>40</td>\n      <td>166019</td>\n      <td>2005-08-24</td>\n      <td>60-minutes-or-less, time-to-make, main-ingredi...</td>\n      <td>...</td>\n      <td>40.0</td>\n      <td>37.0</td>\n      <td>78.0</td>\n      <td>4.0</td>\n      <td>10.0</td>\n      <td>Non-veg</td>\n      <td>0.000</td>\n      <td>0.508</td>\n      <td>0.492</td>\n      <td>0.4404</td>\n    </tr>\n    <tr>\n      <th>2</th>\n      <td>35308</td>\n      <td>60599</td>\n      <td>2006-09-26</td>\n      <td>5</td>\n      <td>absolutely awesome i was speechless when i tri...</td>\n      <td>kfc honey bbq strips</td>\n      <td>40</td>\n      <td>166019</td>\n      <td>2005-08-24</td>\n      <td>60-minutes-or-less, time-to-make, main-ingredi...</td>\n      <td>...</td>\n      <td>40.0</td>\n      <td>37.0</td>\n      <td>78.0</td>\n      <td>4.0</td>\n      <td>10.0</td>\n      <td>Non-veg</td>\n      <td>0.000</td>\n      <td>0.883</td>\n      <td>0.117</td>\n      <td>0.6590</td>\n    </tr>\n    <tr>\n      <th>3</th>\n      <td>19399</td>\n      <td>60599</td>\n      <td>2007-03-09</td>\n      <td>5</td>\n      <td>these taste absolutely wonderful my son in law...</td>\n      <td>kfc honey bbq strips</td>\n      <td>40</td>\n      <td>166019</td>\n      <td>2005-08-24</td>\n      <td>60-minutes-or-less, time-to-make, main-ingredi...</td>\n      <td>...</td>\n      <td>40.0</td>\n      <td>37.0</td>\n      <td>78.0</td>\n      <td>4.0</td>\n      <td>10.0</td>\n      <td>Non-veg</td>\n      <td>0.000</td>\n      <td>0.675</td>\n      <td>0.325</td>\n      <td>0.8908</td>\n    </tr>\n    <tr>\n      <th>4</th>\n      <td>43887</td>\n      <td>60599</td>\n      <td>2008-02-20</td>\n      <td>0</td>\n      <td>made my own buttermilk w vinegar and milk. use...</td>\n      <td>kfc honey bbq strips</td>\n      <td>40</td>\n      <td>166019</td>\n      <td>2005-08-24</td>\n      <td>60-minutes-or-less, time-to-make, main-ingredi...</td>\n      <td>...</td>\n      <td>40.0</td>\n      <td>37.0</td>\n      <td>78.0</td>\n      <td>4.0</td>\n      <td>10.0</td>\n      <td>Non-veg</td>\n      <td>0.000</td>\n      <td>0.929</td>\n      <td>0.071</td>\n      <td>0.4588</td>\n    </tr>\n    <tr>\n      <th>...</th>\n      <td>...</td>\n      <td>...</td>\n      <td>...</td>\n      <td>...</td>\n      <td>...</td>\n      <td>...</td>\n      <td>...</td>\n      <td>...</td>\n      <td>...</td>\n      <td>...</td>\n      <td>...</td>\n      <td>...</td>\n      <td>...</td>\n      <td>...</td>\n      <td>...</td>\n      <td>...</td>\n      <td>...</td>\n      <td>...</td>\n      <td>...</td>\n      <td>...</td>\n      <td>...</td>\n    </tr>\n    <tr>\n      <th>942363</th>\n      <td>10188</td>\n      <td>22092</td>\n      <td>2007-04-26</td>\n      <td>0</td>\n      <td>i am not going to rate this because i did have...</td>\n      <td>garlic clove chicken</td>\n      <td>65</td>\n      <td>49304</td>\n      <td>2003-02-21</td>\n      <td>weeknight, time-to-make, course, main-ingredie...</td>\n      <td>...</td>\n      <td>1.0</td>\n      <td>7.0</td>\n      <td>53.0</td>\n      <td>29.0</td>\n      <td>2.0</td>\n      <td>Non-veg</td>\n      <td>0.071</td>\n      <td>0.929</td>\n      <td>0.000</td>\n      <td>-0.5075</td>\n    </tr>\n    <tr>\n      <th>942364</th>\n      <td>51769</td>\n      <td>161871</td>\n      <td>2009-09-29</td>\n      <td>5</td>\n      <td>these were so delicious my husband and i truly...</td>\n      <td>stacey e s yummy veggie burgers</td>\n      <td>21</td>\n      <td>742029</td>\n      <td>2009-08-24</td>\n      <td>30-minutes-or-less, time-to-make, course, main...</td>\n      <td>...</td>\n      <td>11.0</td>\n      <td>24.0</td>\n      <td>10.0</td>\n      <td>0.0</td>\n      <td>8.0</td>\n      <td>Healthy</td>\n      <td>0.000</td>\n      <td>0.752</td>\n      <td>0.248</td>\n      <td>0.9609</td>\n    </tr>\n    <tr>\n      <th>942365</th>\n      <td>15786</td>\n      <td>33054</td>\n      <td>2008-06-23</td>\n      <td>5</td>\n      <td>wow sometimes i do not take the time to rate r...</td>\n      <td>pot roast with port  stove top</td>\n      <td>115</td>\n      <td>108291</td>\n      <td>2003-12-05</td>\n      <td>weeknight, time-to-make, course, preparation, ...</td>\n      <td>...</td>\n      <td>22.0</td>\n      <td>20.0</td>\n      <td>93.0</td>\n      <td>112.0</td>\n      <td>4.0</td>\n      <td>Veg</td>\n      <td>0.063</td>\n      <td>0.749</td>\n      <td>0.188</td>\n      <td>0.9520</td>\n    </tr>\n    <tr>\n      <th>942366</th>\n      <td>5051</td>\n      <td>33054</td>\n      <td>2009-01-11</td>\n      <td>4</td>\n      <td>very good i used regular port as well. the gra...</td>\n      <td>pot roast with port  stove top</td>\n      <td>115</td>\n      <td>108291</td>\n      <td>2003-12-05</td>\n      <td>weeknight, time-to-make, course, preparation, ...</td>\n      <td>...</td>\n      <td>22.0</td>\n      <td>20.0</td>\n      <td>93.0</td>\n      <td>112.0</td>\n      <td>4.0</td>\n      <td>Veg</td>\n      <td>0.000</td>\n      <td>0.584</td>\n      <td>0.416</td>\n      <td>0.8856</td>\n    </tr>\n    <tr>\n      <th>942367</th>\n      <td>181745</td>\n      <td>33054</td>\n      <td>2017-12-18</td>\n      <td>5</td>\n      <td>i am so glad i googled and found this here. th...</td>\n      <td>pot roast with port  stove top</td>\n      <td>115</td>\n      <td>108291</td>\n      <td>2003-12-05</td>\n      <td>weeknight, time-to-make, course, preparation, ...</td>\n      <td>...</td>\n      <td>22.0</td>\n      <td>20.0</td>\n      <td>93.0</td>\n      <td>112.0</td>\n      <td>4.0</td>\n      <td>Veg</td>\n      <td>0.010</td>\n      <td>0.799</td>\n      <td>0.190</td>\n      <td>0.9824</td>\n    </tr>\n  </tbody>\n</table>\n<p>942368 rows × 27 columns</p>\n</div>"
     },
     "execution_count": 3,
     "metadata": {},
     "output_type": "execute_result"
    }
   ],
   "source": [
    "df = pd.read_csv('../dataset/preprocessed_data.csv')\n",
    "df"
   ]
  },
  {
   "cell_type": "code",
   "execution_count": null,
   "metadata": {},
   "outputs": [],
   "source": []
  }
 ],
 "metadata": {
  "kernelspec": {
   "display_name": "Python 3 (ipykernel)",
   "language": "python",
   "name": "python3"
  },
  "language_info": {
   "codemirror_mode": {
    "name": "ipython",
    "version": 3
   },
   "file_extension": ".py",
   "mimetype": "text/x-python",
   "name": "python",
   "nbconvert_exporter": "python",
   "pygments_lexer": "ipython3",
   "version": "3.10.6"
  },
  "vscode": {
   "interpreter": {
    "hash": "949777d72b0d2535278d3dc13498b2535136f6dfe0678499012e853ee9abcab1"
   }
  }
 },
 "nbformat": 4,
 "nbformat_minor": 1
}
