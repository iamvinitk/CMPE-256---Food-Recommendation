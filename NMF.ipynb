{
 "cells": [
  {
   "cell_type": "code",
   "execution_count": 1,
   "metadata": {
    "collapsed": true
   },
   "outputs": [],
   "source": [
    "import pandas as pd\n",
    "import numpy as np\n",
    "import matplotlib.pyplot as plt\n",
    "from sklearn.preprocessing import MinMaxScaler\n",
    "from sklearn.preprocessing import LabelEncoder\n",
    "from sklearn.feature_extraction.text import TfidfVectorizer"
   ]
  },
  {
   "cell_type": "code",
   "execution_count": 2,
   "metadata": {
    "collapsed": false
   },
   "outputs": [
    {
     "data": {
      "text/html": [
       "<div>\n",
       "<style scoped>\n",
       "    .dataframe tbody tr th:only-of-type {\n",
       "        vertical-align: middle;\n",
       "    }\n",
       "\n",
       "    .dataframe tbody tr th {\n",
       "        vertical-align: top;\n",
       "    }\n",
       "\n",
       "    .dataframe thead th {\n",
       "        text-align: right;\n",
       "    }\n",
       "</style>\n",
       "<table border=\"1\" class=\"dataframe\">\n",
       "  <thead>\n",
       "    <tr style=\"text-align: right;\">\n",
       "      <th></th>\n",
       "      <th>user_id</th>\n",
       "      <th>recipe_id</th>\n",
       "      <th>date</th>\n",
       "      <th>rating</th>\n",
       "      <th>review</th>\n",
       "      <th>minutes</th>\n",
       "      <th>contributor_id</th>\n",
       "      <th>submitted</th>\n",
       "      <th>tags</th>\n",
       "      <th>n_steps</th>\n",
       "      <th>...</th>\n",
       "      <th>sugar</th>\n",
       "      <th>sodium</th>\n",
       "      <th>protein</th>\n",
       "      <th>saturated_fat</th>\n",
       "      <th>carbohydrates</th>\n",
       "      <th>food_types</th>\n",
       "      <th>neg</th>\n",
       "      <th>neu</th>\n",
       "      <th>pos</th>\n",
       "      <th>compound</th>\n",
       "    </tr>\n",
       "  </thead>\n",
       "  <tbody>\n",
       "    <tr>\n",
       "      <th>0</th>\n",
       "      <td>492</td>\n",
       "      <td>20636</td>\n",
       "      <td>2002-12-01</td>\n",
       "      <td>4</td>\n",
       "      <td>this worked very well and is easy. i used not ...</td>\n",
       "      <td>20</td>\n",
       "      <td>56824</td>\n",
       "      <td>2002-10-27</td>\n",
       "      <td>30-minutes-or-less, time-to-make, course, main...</td>\n",
       "      <td>5</td>\n",
       "      <td>...</td>\n",
       "      <td>39.0</td>\n",
       "      <td>5.0</td>\n",
       "      <td>4.0</td>\n",
       "      <td>11.0</td>\n",
       "      <td>5.0</td>\n",
       "      <td>Healthy</td>\n",
       "      <td>0.0</td>\n",
       "      <td>0.598</td>\n",
       "      <td>0.402</td>\n",
       "      <td>0.8553</td>\n",
       "    </tr>\n",
       "    <tr>\n",
       "      <th>1</th>\n",
       "      <td>8204</td>\n",
       "      <td>64566</td>\n",
       "      <td>2005-09-02</td>\n",
       "      <td>4</td>\n",
       "      <td>very good</td>\n",
       "      <td>40</td>\n",
       "      <td>166019</td>\n",
       "      <td>2005-08-24</td>\n",
       "      <td>60-minutes-or-less, time-to-make, main-ingredi...</td>\n",
       "      <td>10</td>\n",
       "      <td>...</td>\n",
       "      <td>40.0</td>\n",
       "      <td>37.0</td>\n",
       "      <td>78.0</td>\n",
       "      <td>4.0</td>\n",
       "      <td>10.0</td>\n",
       "      <td>Non-veg</td>\n",
       "      <td>0.0</td>\n",
       "      <td>0.238</td>\n",
       "      <td>0.762</td>\n",
       "      <td>0.4927</td>\n",
       "    </tr>\n",
       "    <tr>\n",
       "      <th>2</th>\n",
       "      <td>28657</td>\n",
       "      <td>64566</td>\n",
       "      <td>2005-12-22</td>\n",
       "      <td>5</td>\n",
       "      <td>better than the real</td>\n",
       "      <td>40</td>\n",
       "      <td>166019</td>\n",
       "      <td>2005-08-24</td>\n",
       "      <td>60-minutes-or-less, time-to-make, main-ingredi...</td>\n",
       "      <td>10</td>\n",
       "      <td>...</td>\n",
       "      <td>40.0</td>\n",
       "      <td>37.0</td>\n",
       "      <td>78.0</td>\n",
       "      <td>4.0</td>\n",
       "      <td>10.0</td>\n",
       "      <td>Non-veg</td>\n",
       "      <td>0.0</td>\n",
       "      <td>0.508</td>\n",
       "      <td>0.492</td>\n",
       "      <td>0.4404</td>\n",
       "    </tr>\n",
       "    <tr>\n",
       "      <th>3</th>\n",
       "      <td>36365</td>\n",
       "      <td>64566</td>\n",
       "      <td>2006-09-26</td>\n",
       "      <td>5</td>\n",
       "      <td>absolutely awesome i was speechless when i tri...</td>\n",
       "      <td>40</td>\n",
       "      <td>166019</td>\n",
       "      <td>2005-08-24</td>\n",
       "      <td>60-minutes-or-less, time-to-make, main-ingredi...</td>\n",
       "      <td>10</td>\n",
       "      <td>...</td>\n",
       "      <td>40.0</td>\n",
       "      <td>37.0</td>\n",
       "      <td>78.0</td>\n",
       "      <td>4.0</td>\n",
       "      <td>10.0</td>\n",
       "      <td>Non-veg</td>\n",
       "      <td>0.0</td>\n",
       "      <td>0.883</td>\n",
       "      <td>0.117</td>\n",
       "      <td>0.6590</td>\n",
       "    </tr>\n",
       "    <tr>\n",
       "      <th>4</th>\n",
       "      <td>20197</td>\n",
       "      <td>64566</td>\n",
       "      <td>2007-03-09</td>\n",
       "      <td>5</td>\n",
       "      <td>these taste absolutely wonderful my son in law...</td>\n",
       "      <td>40</td>\n",
       "      <td>166019</td>\n",
       "      <td>2005-08-24</td>\n",
       "      <td>60-minutes-or-less, time-to-make, main-ingredi...</td>\n",
       "      <td>10</td>\n",
       "      <td>...</td>\n",
       "      <td>40.0</td>\n",
       "      <td>37.0</td>\n",
       "      <td>78.0</td>\n",
       "      <td>4.0</td>\n",
       "      <td>10.0</td>\n",
       "      <td>Non-veg</td>\n",
       "      <td>0.0</td>\n",
       "      <td>0.675</td>\n",
       "      <td>0.325</td>\n",
       "      <td>0.8908</td>\n",
       "    </tr>\n",
       "  </tbody>\n",
       "</table>\n",
       "<p>5 rows × 25 columns</p>\n",
       "</div>"
      ],
      "text/plain": [
       "   user_id  recipe_id        date  rating  \\\n",
       "0      492      20636  2002-12-01       4   \n",
       "1     8204      64566  2005-09-02       4   \n",
       "2    28657      64566  2005-12-22       5   \n",
       "3    36365      64566  2006-09-26       5   \n",
       "4    20197      64566  2007-03-09       5   \n",
       "\n",
       "                                              review  minutes  contributor_id  \\\n",
       "0  this worked very well and is easy. i used not ...       20           56824   \n",
       "1                                          very good       40          166019   \n",
       "2                               better than the real       40          166019   \n",
       "3  absolutely awesome i was speechless when i tri...       40          166019   \n",
       "4  these taste absolutely wonderful my son in law...       40          166019   \n",
       "\n",
       "    submitted                                               tags  n_steps  \\\n",
       "0  2002-10-27  30-minutes-or-less, time-to-make, course, main...        5   \n",
       "1  2005-08-24  60-minutes-or-less, time-to-make, main-ingredi...       10   \n",
       "2  2005-08-24  60-minutes-or-less, time-to-make, main-ingredi...       10   \n",
       "3  2005-08-24  60-minutes-or-less, time-to-make, main-ingredi...       10   \n",
       "4  2005-08-24  60-minutes-or-less, time-to-make, main-ingredi...       10   \n",
       "\n",
       "   ... sugar sodium  protein  saturated_fat  carbohydrates  food_types  neg  \\\n",
       "0  ...  39.0    5.0      4.0           11.0            5.0     Healthy  0.0   \n",
       "1  ...  40.0   37.0     78.0            4.0           10.0     Non-veg  0.0   \n",
       "2  ...  40.0   37.0     78.0            4.0           10.0     Non-veg  0.0   \n",
       "3  ...  40.0   37.0     78.0            4.0           10.0     Non-veg  0.0   \n",
       "4  ...  40.0   37.0     78.0            4.0           10.0     Non-veg  0.0   \n",
       "\n",
       "     neu    pos  compound  \n",
       "0  0.598  0.402    0.8553  \n",
       "1  0.238  0.762    0.4927  \n",
       "2  0.508  0.492    0.4404  \n",
       "3  0.883  0.117    0.6590  \n",
       "4  0.675  0.325    0.8908  \n",
       "\n",
       "[5 rows x 25 columns]"
      ]
     },
     "execution_count": 2,
     "metadata": {},
     "output_type": "execute_result"
    }
   ],
   "source": [
    "df = pd.read_csv('dataset/preprocessed_data.csv')\n",
    "df.head()"
   ]
  },
  {
   "cell_type": "code",
   "execution_count": 3,
   "metadata": {
    "collapsed": false
   },
   "outputs": [],
   "source": [
    "df = df[['minutes', 'n_steps', 'ingredients', 'n_ingredients', 'calories', 'total_fat', 'sugar', 'sodium', 'protein', 'saturated_fat', 'carbohydrates', 'food_types', 'recipe_id']]"
   ]
  },
  {
   "cell_type": "code",
   "execution_count": 4,
   "metadata": {
    "collapsed": false
   },
   "outputs": [
    {
     "data": {
      "text/plain": [
       "763871"
      ]
     },
     "execution_count": 4,
     "metadata": {},
     "output_type": "execute_result"
    }
   ],
   "source": [
    "df.duplicated().sum()"
   ]
  },
  {
   "cell_type": "code",
   "execution_count": 5,
   "metadata": {
    "collapsed": false
   },
   "outputs": [],
   "source": [
    "df = df.drop_duplicates()"
   ]
  },
  {
   "cell_type": "code",
   "execution_count": 6,
   "metadata": {
    "collapsed": false
   },
   "outputs": [],
   "source": [
    "numerical_columns = ['minutes', 'n_steps', 'n_ingredients', 'calories', 'total_fat', 'sugar', 'sodium', 'protein', 'saturated_fat', 'carbohydrates']\n",
    "category_columns = ['food_types']\n",
    "text_columns = ['ingredients']"
   ]
  },
  {
   "cell_type": "code",
   "execution_count": 7,
   "metadata": {
    "collapsed": false
   },
   "outputs": [],
   "source": [
    "def scale_data(df, numerical_columns):\n",
    "    scaler = MinMaxScaler()\n",
    "    df[numerical_columns] = scaler.fit_transform(df[numerical_columns])\n",
    "    return df\n",
    "\n",
    "def encode_data(df, category_columns):\n",
    "    encoder = LabelEncoder()\n",
    "    df[category_columns] = df[category_columns].apply(encoder.fit_transform)\n",
    "    return df\n",
    "\n",
    "def scale_and_encode_data(df, numerical_columns, category_columns):\n",
    "    df = scale_data(df, numerical_columns)\n",
    "    df = encode_data(df, category_columns)\n",
    "    return df"
   ]
  },
  {
   "cell_type": "code",
   "execution_count": 8,
   "metadata": {
    "collapsed": false
   },
   "outputs": [],
   "source": [
    "def vectorize_data(df, text_columns):\n",
    "    vectorizer = TfidfVectorizer(max_features=10)\n",
    "    ingredients = vectorizer.fit_transform(df['ingredients'])\n",
    "    return ingredients\n",
    "# vectorizer = TfidfVectorizer(max_features=10)\n",
    "# ingredients = vectorizer.fit_transform(df['ingredients'])"
   ]
  },
  {
   "cell_type": "code",
   "execution_count": 9,
   "metadata": {
    "collapsed": false
   },
   "outputs": [
    {
     "data": {
      "text/plain": [
       "<198249x10 sparse matrix of type '<class 'numpy.float64'>'\n",
       "\twith 633321 stored elements in Compressed Sparse Row format>"
      ]
     },
     "execution_count": 9,
     "metadata": {},
     "output_type": "execute_result"
    }
   ],
   "source": [
    "ingredients = vectorize_data(df, text_columns)\n",
    "ingredients"
   ]
  },
  {
   "cell_type": "code",
   "execution_count": 10,
   "metadata": {
    "collapsed": false
   },
   "outputs": [
    {
     "data": {
      "text/html": [
       "<div>\n",
       "<style scoped>\n",
       "    .dataframe tbody tr th:only-of-type {\n",
       "        vertical-align: middle;\n",
       "    }\n",
       "\n",
       "    .dataframe tbody tr th {\n",
       "        vertical-align: top;\n",
       "    }\n",
       "\n",
       "    .dataframe thead th {\n",
       "        text-align: right;\n",
       "    }\n",
       "</style>\n",
       "<table border=\"1\" class=\"dataframe\">\n",
       "  <thead>\n",
       "    <tr style=\"text-align: right;\">\n",
       "      <th></th>\n",
       "      <th>minutes</th>\n",
       "      <th>n_steps</th>\n",
       "      <th>ingredients</th>\n",
       "      <th>n_ingredients</th>\n",
       "      <th>calories</th>\n",
       "      <th>total_fat</th>\n",
       "      <th>sugar</th>\n",
       "      <th>sodium</th>\n",
       "      <th>protein</th>\n",
       "      <th>saturated_fat</th>\n",
       "      <th>carbohydrates</th>\n",
       "      <th>food_types</th>\n",
       "      <th>recipe_id</th>\n",
       "    </tr>\n",
       "  </thead>\n",
       "  <tbody>\n",
       "    <tr>\n",
       "      <th>0</th>\n",
       "      <td>0.085106</td>\n",
       "      <td>0.051546</td>\n",
       "      <td>devils food cake mix, vegetable oil, eggs, ree...</td>\n",
       "      <td>0.071429</td>\n",
       "      <td>0.033007</td>\n",
       "      <td>0.068323</td>\n",
       "      <td>0.082979</td>\n",
       "      <td>0.017007</td>\n",
       "      <td>0.030075</td>\n",
       "      <td>0.074830</td>\n",
       "      <td>0.113636</td>\n",
       "      <td>0</td>\n",
       "      <td>20636</td>\n",
       "    </tr>\n",
       "    <tr>\n",
       "      <th>1</th>\n",
       "      <td>0.170213</td>\n",
       "      <td>0.103093</td>\n",
       "      <td>chicken tenders, flour, garlic powder, salt, g...</td>\n",
       "      <td>0.261905</td>\n",
       "      <td>0.078838</td>\n",
       "      <td>0.024845</td>\n",
       "      <td>0.085106</td>\n",
       "      <td>0.125850</td>\n",
       "      <td>0.586466</td>\n",
       "      <td>0.027211</td>\n",
       "      <td>0.227273</td>\n",
       "      <td>2</td>\n",
       "      <td>64566</td>\n",
       "    </tr>\n",
       "    <tr>\n",
       "      <th>8</th>\n",
       "      <td>0.085106</td>\n",
       "      <td>0.020619</td>\n",
       "      <td>hamburger, breadcrumbs, egg, salt, black peppe...</td>\n",
       "      <td>0.214286</td>\n",
       "      <td>0.076842</td>\n",
       "      <td>0.142857</td>\n",
       "      <td>0.023404</td>\n",
       "      <td>0.068027</td>\n",
       "      <td>0.406015</td>\n",
       "      <td>0.183673</td>\n",
       "      <td>0.090909</td>\n",
       "      <td>2</td>\n",
       "      <td>92891</td>\n",
       "    </tr>\n",
       "    <tr>\n",
       "      <th>9</th>\n",
       "      <td>0.638298</td>\n",
       "      <td>0.144330</td>\n",
       "      <td>lamb shoulder, salt, ground black pepper, vege...</td>\n",
       "      <td>0.357143</td>\n",
       "      <td>0.151315</td>\n",
       "      <td>0.403727</td>\n",
       "      <td>0.025532</td>\n",
       "      <td>0.115646</td>\n",
       "      <td>0.488722</td>\n",
       "      <td>0.564626</td>\n",
       "      <td>0.159091</td>\n",
       "      <td>2</td>\n",
       "      <td>94130</td>\n",
       "    </tr>\n",
       "    <tr>\n",
       "      <th>13</th>\n",
       "      <td>0.191489</td>\n",
       "      <td>0.175258</td>\n",
       "      <td>cooking spray, onion, green peppers, garlic cl...</td>\n",
       "      <td>0.357143</td>\n",
       "      <td>0.061873</td>\n",
       "      <td>0.024845</td>\n",
       "      <td>0.059574</td>\n",
       "      <td>0.071429</td>\n",
       "      <td>0.330827</td>\n",
       "      <td>0.020408</td>\n",
       "      <td>0.250000</td>\n",
       "      <td>0</td>\n",
       "      <td>105129</td>\n",
       "    </tr>\n",
       "    <tr>\n",
       "      <th>...</th>\n",
       "      <td>...</td>\n",
       "      <td>...</td>\n",
       "      <td>...</td>\n",
       "      <td>...</td>\n",
       "      <td>...</td>\n",
       "      <td>...</td>\n",
       "      <td>...</td>\n",
       "      <td>...</td>\n",
       "      <td>...</td>\n",
       "      <td>...</td>\n",
       "      <td>...</td>\n",
       "      <td>...</td>\n",
       "      <td>...</td>\n",
       "    </tr>\n",
       "    <tr>\n",
       "      <th>962097</th>\n",
       "      <td>0.055319</td>\n",
       "      <td>0.134021</td>\n",
       "      <td>water, coffee, ground cardamom, whole cloves</td>\n",
       "      <td>0.071429</td>\n",
       "      <td>0.004067</td>\n",
       "      <td>0.000000</td>\n",
       "      <td>0.000000</td>\n",
       "      <td>0.000000</td>\n",
       "      <td>0.000000</td>\n",
       "      <td>0.000000</td>\n",
       "      <td>0.022727</td>\n",
       "      <td>3</td>\n",
       "      <td>193314</td>\n",
       "    </tr>\n",
       "    <tr>\n",
       "      <th>962099</th>\n",
       "      <td>0.255319</td>\n",
       "      <td>0.185567</td>\n",
       "      <td>olive oil, onion, ground cumin, chili powder, ...</td>\n",
       "      <td>0.452381</td>\n",
       "      <td>0.066638</td>\n",
       "      <td>0.037267</td>\n",
       "      <td>0.051064</td>\n",
       "      <td>0.085034</td>\n",
       "      <td>0.097744</td>\n",
       "      <td>0.020408</td>\n",
       "      <td>0.409091</td>\n",
       "      <td>0</td>\n",
       "      <td>124429</td>\n",
       "    </tr>\n",
       "    <tr>\n",
       "      <th>962102</th>\n",
       "      <td>0.297872</td>\n",
       "      <td>0.092784</td>\n",
       "      <td>whole chicken, cider vinegar, crushed red pepp...</td>\n",
       "      <td>0.095238</td>\n",
       "      <td>0.126216</td>\n",
       "      <td>0.273292</td>\n",
       "      <td>0.040426</td>\n",
       "      <td>0.061224</td>\n",
       "      <td>0.473684</td>\n",
       "      <td>0.265306</td>\n",
       "      <td>0.181818</td>\n",
       "      <td>2</td>\n",
       "      <td>115134</td>\n",
       "    </tr>\n",
       "    <tr>\n",
       "      <th>962107</th>\n",
       "      <td>0.034043</td>\n",
       "      <td>0.257732</td>\n",
       "      <td>shrimp, garlic cloves, olive oil</td>\n",
       "      <td>0.047619</td>\n",
       "      <td>0.099047</td>\n",
       "      <td>0.385093</td>\n",
       "      <td>0.000000</td>\n",
       "      <td>0.027211</td>\n",
       "      <td>0.075188</td>\n",
       "      <td>0.190476</td>\n",
       "      <td>0.022727</td>\n",
       "      <td>3</td>\n",
       "      <td>188792</td>\n",
       "    </tr>\n",
       "    <tr>\n",
       "      <th>962116</th>\n",
       "      <td>0.089362</td>\n",
       "      <td>0.092784</td>\n",
       "      <td>carrot, garbanzo beans, salsa, corn flakes, wh...</td>\n",
       "      <td>0.166667</td>\n",
       "      <td>0.031111</td>\n",
       "      <td>0.006211</td>\n",
       "      <td>0.023404</td>\n",
       "      <td>0.081633</td>\n",
       "      <td>0.075188</td>\n",
       "      <td>0.000000</td>\n",
       "      <td>0.181818</td>\n",
       "      <td>0</td>\n",
       "      <td>165993</td>\n",
       "    </tr>\n",
       "  </tbody>\n",
       "</table>\n",
       "<p>198249 rows × 13 columns</p>\n",
       "</div>"
      ],
      "text/plain": [
       "         minutes   n_steps                                        ingredients  \\\n",
       "0       0.085106  0.051546  devils food cake mix, vegetable oil, eggs, ree...   \n",
       "1       0.170213  0.103093  chicken tenders, flour, garlic powder, salt, g...   \n",
       "8       0.085106  0.020619  hamburger, breadcrumbs, egg, salt, black peppe...   \n",
       "9       0.638298  0.144330  lamb shoulder, salt, ground black pepper, vege...   \n",
       "13      0.191489  0.175258  cooking spray, onion, green peppers, garlic cl...   \n",
       "...          ...       ...                                                ...   \n",
       "962097  0.055319  0.134021       water, coffee, ground cardamom, whole cloves   \n",
       "962099  0.255319  0.185567  olive oil, onion, ground cumin, chili powder, ...   \n",
       "962102  0.297872  0.092784  whole chicken, cider vinegar, crushed red pepp...   \n",
       "962107  0.034043  0.257732                   shrimp, garlic cloves, olive oil   \n",
       "962116  0.089362  0.092784  carrot, garbanzo beans, salsa, corn flakes, wh...   \n",
       "\n",
       "        n_ingredients  calories  total_fat     sugar    sodium   protein  \\\n",
       "0            0.071429  0.033007   0.068323  0.082979  0.017007  0.030075   \n",
       "1            0.261905  0.078838   0.024845  0.085106  0.125850  0.586466   \n",
       "8            0.214286  0.076842   0.142857  0.023404  0.068027  0.406015   \n",
       "9            0.357143  0.151315   0.403727  0.025532  0.115646  0.488722   \n",
       "13           0.357143  0.061873   0.024845  0.059574  0.071429  0.330827   \n",
       "...               ...       ...        ...       ...       ...       ...   \n",
       "962097       0.071429  0.004067   0.000000  0.000000  0.000000  0.000000   \n",
       "962099       0.452381  0.066638   0.037267  0.051064  0.085034  0.097744   \n",
       "962102       0.095238  0.126216   0.273292  0.040426  0.061224  0.473684   \n",
       "962107       0.047619  0.099047   0.385093  0.000000  0.027211  0.075188   \n",
       "962116       0.166667  0.031111   0.006211  0.023404  0.081633  0.075188   \n",
       "\n",
       "        saturated_fat  carbohydrates  food_types  recipe_id  \n",
       "0            0.074830       0.113636           0      20636  \n",
       "1            0.027211       0.227273           2      64566  \n",
       "8            0.183673       0.090909           2      92891  \n",
       "9            0.564626       0.159091           2      94130  \n",
       "13           0.020408       0.250000           0     105129  \n",
       "...               ...            ...         ...        ...  \n",
       "962097       0.000000       0.022727           3     193314  \n",
       "962099       0.020408       0.409091           0     124429  \n",
       "962102       0.265306       0.181818           2     115134  \n",
       "962107       0.190476       0.022727           3     188792  \n",
       "962116       0.000000       0.181818           0     165993  \n",
       "\n",
       "[198249 rows x 13 columns]"
      ]
     },
     "execution_count": 10,
     "metadata": {},
     "output_type": "execute_result"
    }
   ],
   "source": [
    "df = scale_and_encode_data(df, numerical_columns, category_columns)\n",
    "df"
   ]
  },
  {
   "cell_type": "code",
   "execution_count": 11,
   "metadata": {
    "collapsed": false
   },
   "outputs": [],
   "source": [
    "# df = df.drop('ingredients', axis=1)"
   ]
  },
  {
   "cell_type": "code",
   "execution_count": 12,
   "metadata": {
    "collapsed": false
   },
   "outputs": [],
   "source": [
    "# drop recipe_id column and food_types column\n",
    "temp = df.drop(['food_types','ingredients'], axis=1)\n",
    "# save to a file\n",
    "temp.to_csv('dataset/temp.csv', index=False)"
   ]
  },
  {
   "cell_type": "code",
   "execution_count": 13,
   "metadata": {
    "collapsed": false
   },
   "outputs": [
    {
     "data": {
      "text/html": [
       "<div>\n",
       "<style scoped>\n",
       "    .dataframe tbody tr th:only-of-type {\n",
       "        vertical-align: middle;\n",
       "    }\n",
       "\n",
       "    .dataframe tbody tr th {\n",
       "        vertical-align: top;\n",
       "    }\n",
       "\n",
       "    .dataframe thead th {\n",
       "        text-align: right;\n",
       "    }\n",
       "</style>\n",
       "<table border=\"1\" class=\"dataframe\">\n",
       "  <thead>\n",
       "    <tr style=\"text-align: right;\">\n",
       "      <th></th>\n",
       "      <th>minutes</th>\n",
       "      <th>n_steps</th>\n",
       "      <th>n_ingredients</th>\n",
       "      <th>calories</th>\n",
       "      <th>total_fat</th>\n",
       "      <th>sugar</th>\n",
       "      <th>sodium</th>\n",
       "      <th>protein</th>\n",
       "      <th>saturated_fat</th>\n",
       "      <th>carbohydrates</th>\n",
       "      <th>recipe_id</th>\n",
       "    </tr>\n",
       "  </thead>\n",
       "  <tbody>\n",
       "    <tr>\n",
       "      <th>0</th>\n",
       "      <td>0.085106</td>\n",
       "      <td>0.051546</td>\n",
       "      <td>0.071429</td>\n",
       "      <td>0.033007</td>\n",
       "      <td>0.068323</td>\n",
       "      <td>0.082979</td>\n",
       "      <td>0.017007</td>\n",
       "      <td>0.030075</td>\n",
       "      <td>0.074830</td>\n",
       "      <td>0.113636</td>\n",
       "      <td>20636</td>\n",
       "    </tr>\n",
       "    <tr>\n",
       "      <th>1</th>\n",
       "      <td>0.170213</td>\n",
       "      <td>0.103093</td>\n",
       "      <td>0.261905</td>\n",
       "      <td>0.078838</td>\n",
       "      <td>0.024845</td>\n",
       "      <td>0.085106</td>\n",
       "      <td>0.125850</td>\n",
       "      <td>0.586466</td>\n",
       "      <td>0.027211</td>\n",
       "      <td>0.227273</td>\n",
       "      <td>64566</td>\n",
       "    </tr>\n",
       "    <tr>\n",
       "      <th>8</th>\n",
       "      <td>0.085106</td>\n",
       "      <td>0.020619</td>\n",
       "      <td>0.214286</td>\n",
       "      <td>0.076842</td>\n",
       "      <td>0.142857</td>\n",
       "      <td>0.023404</td>\n",
       "      <td>0.068027</td>\n",
       "      <td>0.406015</td>\n",
       "      <td>0.183673</td>\n",
       "      <td>0.090909</td>\n",
       "      <td>92891</td>\n",
       "    </tr>\n",
       "    <tr>\n",
       "      <th>9</th>\n",
       "      <td>0.638298</td>\n",
       "      <td>0.144330</td>\n",
       "      <td>0.357143</td>\n",
       "      <td>0.151315</td>\n",
       "      <td>0.403727</td>\n",
       "      <td>0.025532</td>\n",
       "      <td>0.115646</td>\n",
       "      <td>0.488722</td>\n",
       "      <td>0.564626</td>\n",
       "      <td>0.159091</td>\n",
       "      <td>94130</td>\n",
       "    </tr>\n",
       "    <tr>\n",
       "      <th>13</th>\n",
       "      <td>0.191489</td>\n",
       "      <td>0.175258</td>\n",
       "      <td>0.357143</td>\n",
       "      <td>0.061873</td>\n",
       "      <td>0.024845</td>\n",
       "      <td>0.059574</td>\n",
       "      <td>0.071429</td>\n",
       "      <td>0.330827</td>\n",
       "      <td>0.020408</td>\n",
       "      <td>0.250000</td>\n",
       "      <td>105129</td>\n",
       "    </tr>\n",
       "  </tbody>\n",
       "</table>\n",
       "</div>"
      ],
      "text/plain": [
       "     minutes   n_steps  n_ingredients  calories  total_fat     sugar  \\\n",
       "0   0.085106  0.051546       0.071429  0.033007   0.068323  0.082979   \n",
       "1   0.170213  0.103093       0.261905  0.078838   0.024845  0.085106   \n",
       "8   0.085106  0.020619       0.214286  0.076842   0.142857  0.023404   \n",
       "9   0.638298  0.144330       0.357143  0.151315   0.403727  0.025532   \n",
       "13  0.191489  0.175258       0.357143  0.061873   0.024845  0.059574   \n",
       "\n",
       "      sodium   protein  saturated_fat  carbohydrates  recipe_id  \n",
       "0   0.017007  0.030075       0.074830       0.113636      20636  \n",
       "1   0.125850  0.586466       0.027211       0.227273      64566  \n",
       "8   0.068027  0.406015       0.183673       0.090909      92891  \n",
       "9   0.115646  0.488722       0.564626       0.159091      94130  \n",
       "13  0.071429  0.330827       0.020408       0.250000     105129  "
      ]
     },
     "execution_count": 13,
     "metadata": {},
     "output_type": "execute_result"
    }
   ],
   "source": [
    "temp.head()"
   ]
  },
  {
   "cell_type": "code",
   "execution_count": null,
   "metadata": {
    "collapsed": false
   },
   "outputs": [],
   "source": [
    "ingredients"
   ]
  },
  {
   "cell_type": "code",
   "execution_count": null,
   "metadata": {
    "collapsed": false
   },
   "outputs": [],
   "source": [
    "# merge the ingredients and the dataframe into a numpy array\n",
    "from scipy.sparse import hstack\n",
    "X = hstack((df.values, ingredients))"
   ]
  },
  {
   "cell_type": "code",
   "execution_count": null,
   "metadata": {
    "collapsed": false
   },
   "outputs": [],
   "source": [
    "X.shape"
   ]
  },
  {
   "cell_type": "code",
   "execution_count": null,
   "metadata": {
    "collapsed": false
   },
   "outputs": [],
   "source": [
    "X.toarray()\n",
    "\n",
    "# drop the recipe_id column from X which is the 11th column\n",
    "X = np.delete(X.toarray(), 11, axis=1)"
   ]
  },
  {
   "cell_type": "code",
   "execution_count": null,
   "metadata": {
    "collapsed": false
   },
   "outputs": [],
   "source": [
    "df"
   ]
  },
  {
   "cell_type": "code",
   "execution_count": null,
   "metadata": {
    "collapsed": false
   },
   "outputs": [],
   "source": [
    "# Save X to a file\n",
    "from scipy.sparse import save_npz\n",
    "save_npz('dataset/X.npz', X)"
   ]
  },
  {
   "cell_type": "code",
   "execution_count": null,
   "metadata": {
    "collapsed": false
   },
   "outputs": [],
   "source": [
    "# NMF\n",
    "from sklearn.decomposition import NMF\n",
    "nmf = NMF(n_components=10, init='random', random_state=0, max_iter=100, solver='mu', l1_ratio=0.5, verbose=3)\n",
    "nmf.fit(X)"
   ]
  },
  {
   "cell_type": "code",
   "execution_count": null,
   "metadata": {
    "collapsed": false
   },
   "outputs": [],
   "source": [
    "# cosine similarity\n",
    "from sklearn.metrics.pairwise import cosine_similarity\n",
    "\n",
    "# remove 11th column from X and create a new array\n",
    "d = np.delete(X, 11, axis=1)\n",
    "d"
   ]
  },
  {
   "cell_type": "code",
   "execution_count": null,
   "metadata": {
    "collapsed": false
   },
   "outputs": [],
   "source": [
    "recipes = X.toarray()[:, 11]\n",
    "recipes"
   ]
  },
  {
   "cell_type": "code",
   "execution_count": null,
   "metadata": {
    "collapsed": false
   },
   "outputs": [],
   "source": [
    "d"
   ]
  },
  {
   "cell_type": "code",
   "execution_count": null,
   "metadata": {
    "collapsed": false
   },
   "outputs": [],
   "source": [
    "# find the cosine similarity between the recipes\n",
    "cosine_similarities = cosine_similarity(d, d)\n",
    "cosine_similarities"
   ]
  },
  {
   "cell_type": "code",
   "execution_count": null,
   "metadata": {
    "collapsed": false
   },
   "outputs": [],
   "source": [
    "# top 10 similar recipes\n",
    "related_docs_indices = cosine_similarities.argsort()[:-11:-1]\n",
    "related_docs_indices"
   ]
  },
  {
   "cell_type": "code",
   "execution_count": null,
   "metadata": {
    "collapsed": false
   },
   "outputs": [],
   "source": [
    "d"
   ]
  },
  {
   "cell_type": "code",
   "execution_count": null,
   "metadata": {
    "collapsed": false
   },
   "outputs": [],
   "source": []
  }
 ],
 "metadata": {
  "kernelspec": {
   "display_name": "Python 3.10.6 64-bit",
   "language": "python",
   "name": "python3"
  },
  "language_info": {
   "codemirror_mode": {
    "name": "ipython",
    "version": 3
   },
   "file_extension": ".py",
   "mimetype": "text/x-python",
   "name": "python",
   "nbconvert_exporter": "python",
   "pygments_lexer": "ipython3",
   "version": "3.10.6"
  },
  "vscode": {
   "interpreter": {
    "hash": "949777d72b0d2535278d3dc13498b2535136f6dfe0678499012e853ee9abcab1"
   }
  }
 },
 "nbformat": 4,
 "nbformat_minor": 0
}
