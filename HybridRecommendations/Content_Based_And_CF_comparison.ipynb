{
 "cells": [
  {
   "cell_type": "markdown",
   "id": "752db558",
   "metadata": {},
   "source": [
    "We would like to compare the recipe recommendations made for a user based on Utility Matrix Factorization based collaborative filtering approaches and content-based recommendation approach"
   ]
  },
  {
   "cell_type": "code",
   "execution_count": 1,
   "id": "c9fb6e52",
   "metadata": {},
   "outputs": [],
   "source": [
    "import numpy as np \n",
    "import pandas as pd \n",
    "import matplotlib.pyplot as plt\n",
    "import seaborn as sns"
   ]
  },
  {
   "cell_type": "markdown",
   "id": "225c163c",
   "metadata": {},
   "source": [
    "# RAW recipes"
   ]
  },
  {
   "cell_type": "code",
   "execution_count": 2,
   "id": "7a90477a",
   "metadata": {},
   "outputs": [],
   "source": [
    "raw_recipes = pd.read_csv(\"../data/RAW_recipes.csv\")"
   ]
  },
  {
   "cell_type": "code",
   "execution_count": 3,
   "id": "563a28a7",
   "metadata": {},
   "outputs": [
    {
     "name": "stdout",
     "output_type": "stream",
     "text": [
      "231637\n"
     ]
    }
   ],
   "source": [
    "print(len(raw_recipes))"
   ]
  },
  {
   "cell_type": "code",
   "execution_count": 4,
   "id": "9fb92bc6",
   "metadata": {},
   "outputs": [
    {
     "data": {
      "text/html": [
       "<div>\n",
       "<style scoped>\n",
       "    .dataframe tbody tr th:only-of-type {\n",
       "        vertical-align: middle;\n",
       "    }\n",
       "\n",
       "    .dataframe tbody tr th {\n",
       "        vertical-align: top;\n",
       "    }\n",
       "\n",
       "    .dataframe thead th {\n",
       "        text-align: right;\n",
       "    }\n",
       "</style>\n",
       "<table border=\"1\" class=\"dataframe\">\n",
       "  <thead>\n",
       "    <tr style=\"text-align: right;\">\n",
       "      <th></th>\n",
       "      <th>name</th>\n",
       "      <th>id</th>\n",
       "      <th>minutes</th>\n",
       "      <th>contributor_id</th>\n",
       "      <th>submitted</th>\n",
       "      <th>tags</th>\n",
       "      <th>nutrition</th>\n",
       "      <th>n_steps</th>\n",
       "      <th>steps</th>\n",
       "      <th>description</th>\n",
       "      <th>ingredients</th>\n",
       "      <th>n_ingredients</th>\n",
       "    </tr>\n",
       "  </thead>\n",
       "  <tbody>\n",
       "    <tr>\n",
       "      <th>0</th>\n",
       "      <td>arriba   baked winter squash mexican style</td>\n",
       "      <td>137739</td>\n",
       "      <td>55</td>\n",
       "      <td>47892</td>\n",
       "      <td>2005-09-16</td>\n",
       "      <td>['60-minutes-or-less', 'time-to-make', 'course...</td>\n",
       "      <td>[51.5, 0.0, 13.0, 0.0, 2.0, 0.0, 4.0]</td>\n",
       "      <td>11</td>\n",
       "      <td>['make a choice and proceed with recipe', 'dep...</td>\n",
       "      <td>autumn is my favorite time of year to cook! th...</td>\n",
       "      <td>['winter squash', 'mexican seasoning', 'mixed ...</td>\n",
       "      <td>7</td>\n",
       "    </tr>\n",
       "    <tr>\n",
       "      <th>1</th>\n",
       "      <td>a bit different  breakfast pizza</td>\n",
       "      <td>31490</td>\n",
       "      <td>30</td>\n",
       "      <td>26278</td>\n",
       "      <td>2002-06-17</td>\n",
       "      <td>['30-minutes-or-less', 'time-to-make', 'course...</td>\n",
       "      <td>[173.4, 18.0, 0.0, 17.0, 22.0, 35.0, 1.0]</td>\n",
       "      <td>9</td>\n",
       "      <td>['preheat oven to 425 degrees f', 'press dough...</td>\n",
       "      <td>this recipe calls for the crust to be prebaked...</td>\n",
       "      <td>['prepared pizza crust', 'sausage patty', 'egg...</td>\n",
       "      <td>6</td>\n",
       "    </tr>\n",
       "    <tr>\n",
       "      <th>2</th>\n",
       "      <td>all in the kitchen  chili</td>\n",
       "      <td>112140</td>\n",
       "      <td>130</td>\n",
       "      <td>196586</td>\n",
       "      <td>2005-02-25</td>\n",
       "      <td>['time-to-make', 'course', 'preparation', 'mai...</td>\n",
       "      <td>[269.8, 22.0, 32.0, 48.0, 39.0, 27.0, 5.0]</td>\n",
       "      <td>6</td>\n",
       "      <td>['brown ground beef in large pot', 'add choppe...</td>\n",
       "      <td>this modified version of 'mom's' chili was a h...</td>\n",
       "      <td>['ground beef', 'yellow onions', 'diced tomato...</td>\n",
       "      <td>13</td>\n",
       "    </tr>\n",
       "    <tr>\n",
       "      <th>3</th>\n",
       "      <td>alouette  potatoes</td>\n",
       "      <td>59389</td>\n",
       "      <td>45</td>\n",
       "      <td>68585</td>\n",
       "      <td>2003-04-14</td>\n",
       "      <td>['60-minutes-or-less', 'time-to-make', 'course...</td>\n",
       "      <td>[368.1, 17.0, 10.0, 2.0, 14.0, 8.0, 20.0]</td>\n",
       "      <td>11</td>\n",
       "      <td>['place potatoes in a large pot of lightly sal...</td>\n",
       "      <td>this is a super easy, great tasting, make ahea...</td>\n",
       "      <td>['spreadable cheese with garlic and herbs', 'n...</td>\n",
       "      <td>11</td>\n",
       "    </tr>\n",
       "    <tr>\n",
       "      <th>4</th>\n",
       "      <td>amish  tomato ketchup  for canning</td>\n",
       "      <td>44061</td>\n",
       "      <td>190</td>\n",
       "      <td>41706</td>\n",
       "      <td>2002-10-25</td>\n",
       "      <td>['weeknight', 'time-to-make', 'course', 'main-...</td>\n",
       "      <td>[352.9, 1.0, 337.0, 23.0, 3.0, 0.0, 28.0]</td>\n",
       "      <td>5</td>\n",
       "      <td>['mix all ingredients&amp; boil for 2 1 / 2 hours ...</td>\n",
       "      <td>my dh's amish mother raised him on this recipe...</td>\n",
       "      <td>['tomato juice', 'apple cider vinegar', 'sugar...</td>\n",
       "      <td>8</td>\n",
       "    </tr>\n",
       "  </tbody>\n",
       "</table>\n",
       "</div>"
      ],
      "text/plain": [
       "                                         name      id  minutes  \\\n",
       "0  arriba   baked winter squash mexican style  137739       55   \n",
       "1            a bit different  breakfast pizza   31490       30   \n",
       "2                   all in the kitchen  chili  112140      130   \n",
       "3                          alouette  potatoes   59389       45   \n",
       "4          amish  tomato ketchup  for canning   44061      190   \n",
       "\n",
       "   contributor_id   submitted  \\\n",
       "0           47892  2005-09-16   \n",
       "1           26278  2002-06-17   \n",
       "2          196586  2005-02-25   \n",
       "3           68585  2003-04-14   \n",
       "4           41706  2002-10-25   \n",
       "\n",
       "                                                tags  \\\n",
       "0  ['60-minutes-or-less', 'time-to-make', 'course...   \n",
       "1  ['30-minutes-or-less', 'time-to-make', 'course...   \n",
       "2  ['time-to-make', 'course', 'preparation', 'mai...   \n",
       "3  ['60-minutes-or-less', 'time-to-make', 'course...   \n",
       "4  ['weeknight', 'time-to-make', 'course', 'main-...   \n",
       "\n",
       "                                    nutrition  n_steps  \\\n",
       "0       [51.5, 0.0, 13.0, 0.0, 2.0, 0.0, 4.0]       11   \n",
       "1   [173.4, 18.0, 0.0, 17.0, 22.0, 35.0, 1.0]        9   \n",
       "2  [269.8, 22.0, 32.0, 48.0, 39.0, 27.0, 5.0]        6   \n",
       "3   [368.1, 17.0, 10.0, 2.0, 14.0, 8.0, 20.0]       11   \n",
       "4   [352.9, 1.0, 337.0, 23.0, 3.0, 0.0, 28.0]        5   \n",
       "\n",
       "                                               steps  \\\n",
       "0  ['make a choice and proceed with recipe', 'dep...   \n",
       "1  ['preheat oven to 425 degrees f', 'press dough...   \n",
       "2  ['brown ground beef in large pot', 'add choppe...   \n",
       "3  ['place potatoes in a large pot of lightly sal...   \n",
       "4  ['mix all ingredients& boil for 2 1 / 2 hours ...   \n",
       "\n",
       "                                         description  \\\n",
       "0  autumn is my favorite time of year to cook! th...   \n",
       "1  this recipe calls for the crust to be prebaked...   \n",
       "2  this modified version of 'mom's' chili was a h...   \n",
       "3  this is a super easy, great tasting, make ahea...   \n",
       "4  my dh's amish mother raised him on this recipe...   \n",
       "\n",
       "                                         ingredients  n_ingredients  \n",
       "0  ['winter squash', 'mexican seasoning', 'mixed ...              7  \n",
       "1  ['prepared pizza crust', 'sausage patty', 'egg...              6  \n",
       "2  ['ground beef', 'yellow onions', 'diced tomato...             13  \n",
       "3  ['spreadable cheese with garlic and herbs', 'n...             11  \n",
       "4  ['tomato juice', 'apple cider vinegar', 'sugar...              8  "
      ]
     },
     "execution_count": 4,
     "metadata": {},
     "output_type": "execute_result"
    }
   ],
   "source": [
    "raw_recipes.head()"
   ]
  },
  {
   "cell_type": "code",
   "execution_count": 5,
   "id": "ee5780cb",
   "metadata": {},
   "outputs": [
    {
     "data": {
      "text/plain": [
       "(231637, 5)"
      ]
     },
     "execution_count": 5,
     "metadata": {},
     "output_type": "execute_result"
    }
   ],
   "source": [
    "raw_recipes.drop(['minutes','contributor_id','submitted','tags','nutrition','n_steps','steps'], axis=1, inplace = True)\n",
    "raw_recipes.shape"
   ]
  },
  {
   "cell_type": "code",
   "execution_count": 6,
   "id": "0bd2435d",
   "metadata": {},
   "outputs": [
    {
     "data": {
      "text/plain": [
       "Index(['name', 'id', 'description', 'ingredients', 'n_ingredients'], dtype='object')"
      ]
     },
     "execution_count": 6,
     "metadata": {},
     "output_type": "execute_result"
    }
   ],
   "source": [
    "raw_recipes.columns"
   ]
  },
  {
   "cell_type": "markdown",
   "id": "95b1c3d1",
   "metadata": {},
   "source": [
    "# Raw interactions"
   ]
  },
  {
   "cell_type": "code",
   "execution_count": 7,
   "id": "2e1229a2",
   "metadata": {},
   "outputs": [],
   "source": [
    "raw_interactions = pd.read_csv('../data/RAW_interactions.csv')"
   ]
  },
  {
   "cell_type": "code",
   "execution_count": 8,
   "id": "eb344bf7",
   "metadata": {},
   "outputs": [
    {
     "name": "stdout",
     "output_type": "stream",
     "text": [
      "Basic statistics about the data\n",
      "Shape:  (1132367, 5)\n",
      "Columns:  Index(['user_id', 'recipe_id', 'date', 'rating', 'review'], dtype='object')\n",
      "Sample data: \n"
     ]
    },
    {
     "data": {
      "text/html": [
       "<div>\n",
       "<style scoped>\n",
       "    .dataframe tbody tr th:only-of-type {\n",
       "        vertical-align: middle;\n",
       "    }\n",
       "\n",
       "    .dataframe tbody tr th {\n",
       "        vertical-align: top;\n",
       "    }\n",
       "\n",
       "    .dataframe thead th {\n",
       "        text-align: right;\n",
       "    }\n",
       "</style>\n",
       "<table border=\"1\" class=\"dataframe\">\n",
       "  <thead>\n",
       "    <tr style=\"text-align: right;\">\n",
       "      <th></th>\n",
       "      <th>user_id</th>\n",
       "      <th>recipe_id</th>\n",
       "      <th>date</th>\n",
       "      <th>rating</th>\n",
       "      <th>review</th>\n",
       "    </tr>\n",
       "  </thead>\n",
       "  <tbody>\n",
       "    <tr>\n",
       "      <th>1132362</th>\n",
       "      <td>116593</td>\n",
       "      <td>72730</td>\n",
       "      <td>2003-12-09</td>\n",
       "      <td>0</td>\n",
       "      <td>Another approach is to start making sauce with...</td>\n",
       "    </tr>\n",
       "    <tr>\n",
       "      <th>1132363</th>\n",
       "      <td>583662</td>\n",
       "      <td>386618</td>\n",
       "      <td>2009-09-29</td>\n",
       "      <td>5</td>\n",
       "      <td>These were so delicious!  My husband and I tru...</td>\n",
       "    </tr>\n",
       "    <tr>\n",
       "      <th>1132364</th>\n",
       "      <td>157126</td>\n",
       "      <td>78003</td>\n",
       "      <td>2008-06-23</td>\n",
       "      <td>5</td>\n",
       "      <td>WOW!  Sometimes I don't take the time to rate ...</td>\n",
       "    </tr>\n",
       "    <tr>\n",
       "      <th>1132365</th>\n",
       "      <td>53932</td>\n",
       "      <td>78003</td>\n",
       "      <td>2009-01-11</td>\n",
       "      <td>4</td>\n",
       "      <td>Very good!  I used regular port as well.  The ...</td>\n",
       "    </tr>\n",
       "    <tr>\n",
       "      <th>1132366</th>\n",
       "      <td>2001868099</td>\n",
       "      <td>78003</td>\n",
       "      <td>2017-12-18</td>\n",
       "      <td>5</td>\n",
       "      <td>I am so glad I googled and found this here. Th...</td>\n",
       "    </tr>\n",
       "  </tbody>\n",
       "</table>\n",
       "</div>"
      ],
      "text/plain": [
       "            user_id  recipe_id        date  rating  \\\n",
       "1132362      116593      72730  2003-12-09       0   \n",
       "1132363      583662     386618  2009-09-29       5   \n",
       "1132364      157126      78003  2008-06-23       5   \n",
       "1132365       53932      78003  2009-01-11       4   \n",
       "1132366  2001868099      78003  2017-12-18       5   \n",
       "\n",
       "                                                    review  \n",
       "1132362  Another approach is to start making sauce with...  \n",
       "1132363  These were so delicious!  My husband and I tru...  \n",
       "1132364  WOW!  Sometimes I don't take the time to rate ...  \n",
       "1132365  Very good!  I used regular port as well.  The ...  \n",
       "1132366  I am so glad I googled and found this here. Th...  "
      ]
     },
     "execution_count": 8,
     "metadata": {},
     "output_type": "execute_result"
    }
   ],
   "source": [
    "print(\"Basic statistics about the data\")\n",
    "print(\"Shape: \", raw_interactions.shape)\n",
    "print(\"Columns: \", raw_interactions.columns)\n",
    "print(\"Sample data: \")\n",
    "raw_interactions.tail(5)"
   ]
  },
  {
   "cell_type": "code",
   "execution_count": 9,
   "id": "adf9740d",
   "metadata": {},
   "outputs": [
    {
     "name": "stdout",
     "output_type": "stream",
     "text": [
      "Distribution of ratings\n"
     ]
    },
    {
     "data": {
      "text/plain": [
       "5    816364\n",
       "4    187360\n",
       "0     60847\n",
       "3     40855\n",
       "2     14123\n",
       "1     12818\n",
       "Name: rating, dtype: int64"
      ]
     },
     "execution_count": 9,
     "metadata": {},
     "output_type": "execute_result"
    }
   ],
   "source": [
    "print(\"Distribution of ratings\")\n",
    "raw_interactions['rating'].value_counts()"
   ]
  },
  {
   "cell_type": "code",
   "execution_count": 10,
   "id": "33674485",
   "metadata": {},
   "outputs": [
    {
     "data": {
      "text/plain": [
       "<AxesSubplot:>"
      ]
     },
     "execution_count": 10,
     "metadata": {},
     "output_type": "execute_result"
    },
    {
     "data": {
      "image/png": "[encoded data removed]",
      "text/plain": [
       "<Figure size 640x480 with 1 Axes>"
      ]
     },
     "metadata": {},
     "output_type": "display_data"
    }
   ],
   "source": [
    "raw_interactions['rating'].hist()"
   ]
  },
  {
   "cell_type": "code",
   "execution_count": 11,
   "id": "210fe000",
   "metadata": {},
   "outputs": [
    {
     "name": "stdout",
     "output_type": "stream",
     "text": [
      "Number of unique recipes:  231637\n",
      "Number of unique users:  226570\n"
     ]
    }
   ],
   "source": [
    "M = raw_interactions['user_id'].nunique()\n",
    "N = raw_interactions['recipe_id'].nunique()\n",
    "print(\"Number of unique recipes: \", N)\n",
    "print(\"Number of unique users: \", M)"
   ]
  },
  {
   "cell_type": "markdown",
   "id": "45b4c843",
   "metadata": {},
   "source": [
    "## How is the average rating per recipe looking like ?"
   ]
  },
  {
   "cell_type": "code",
   "execution_count": 12,
   "id": "9ba4d160",
   "metadata": {},
   "outputs": [],
   "source": [
    "sns.set_theme(context='notebook', style='darkgrid', palette='pastel', font='sans-serif', font_scale=1, color_codes=True, rc=None)"
   ]
  },
  {
   "cell_type": "code",
   "execution_count": 13,
   "id": "d6d39acb",
   "metadata": {},
   "outputs": [
    {
     "data": {
      "image/png": "[encoded data removed]",
      "text/plain": [
       "<Figure size 640x480 with 1 Axes>"
      ]
     },
     "metadata": {},
     "output_type": "display_data"
    }
   ],
   "source": [
    "raw_interactions.groupby('recipe_id')['rating'].mean().reset_index().rating.plot(kind ='hist',title='Distribution of Recipes based on Average Ratings')\n",
    "plt.xlabel(\"Average Ratings\")\n",
    "plt.ylabel(\"Number of Recipes\")\n",
    "plt.show()"
   ]
  },
  {
   "cell_type": "markdown",
   "id": "94a4c770",
   "metadata": {},
   "source": [
    "Most of the recipes have average ratings of 5 and 4. Data seems highly biased. All recipes are good?\n",
    "\n",
    "Try to summarize the interactions dataset for recipes with average rating for each recipe and the number of unique users who have rated it."
   ]
  },
  {
   "cell_type": "code",
   "execution_count": 14,
   "id": "b1637da7",
   "metadata": {},
   "outputs": [],
   "source": [
    "aggregation_strategy = {'rating' : ['mean'],'user_id' : ['nunique']}"
   ]
  },
  {
   "cell_type": "code",
   "execution_count": 15,
   "id": "214214f8",
   "metadata": {},
   "outputs": [],
   "source": [
    "recipe_interaction_summary = raw_interactions.groupby(['recipe_id']).agg(aggregation_strategy).reset_index()"
   ]
  },
  {
   "cell_type": "code",
   "execution_count": 16,
   "id": "2e800790",
   "metadata": {},
   "outputs": [
    {
     "name": "stdout",
     "output_type": "stream",
     "text": [
      "<class 'pandas.core.frame.DataFrame'>\n",
      "RangeIndex: 231637 entries, 0 to 231636\n",
      "Data columns (total 3 columns):\n",
      " #   Column              Non-Null Count   Dtype  \n",
      "---  ------              --------------   -----  \n",
      " 0   (recipe_id, )       231637 non-null  int64  \n",
      " 1   (rating, mean)      231637 non-null  float64\n",
      " 2   (user_id, nunique)  231637 non-null  int64  \n",
      "dtypes: float64(1), int64(2)\n",
      "memory usage: 5.3 MB\n"
     ]
    }
   ],
   "source": [
    "recipe_interaction_summary.info()"
   ]
  },
  {
   "cell_type": "markdown",
   "id": "e8cc82cd",
   "metadata": {},
   "source": [
    "Thus the interaction data of 231637 recipes have been summarized"
   ]
  },
  {
   "cell_type": "code",
   "execution_count": 17,
   "id": "4466de34",
   "metadata": {},
   "outputs": [
    {
     "data": {
      "text/html": [
       "<div>\n",
       "<style scoped>\n",
       "    .dataframe tbody tr th:only-of-type {\n",
       "        vertical-align: middle;\n",
       "    }\n",
       "\n",
       "    .dataframe tbody tr th {\n",
       "        vertical-align: top;\n",
       "    }\n",
       "\n",
       "    .dataframe thead tr th {\n",
       "        text-align: left;\n",
       "    }\n",
       "</style>\n",
       "<table border=\"1\" class=\"dataframe\">\n",
       "  <thead>\n",
       "    <tr>\n",
       "      <th></th>\n",
       "      <th>recipe_id</th>\n",
       "      <th>rating</th>\n",
       "      <th>user_id</th>\n",
       "    </tr>\n",
       "    <tr>\n",
       "      <th></th>\n",
       "      <th></th>\n",
       "      <th>mean</th>\n",
       "      <th>nunique</th>\n",
       "    </tr>\n",
       "  </thead>\n",
       "  <tbody>\n",
       "    <tr>\n",
       "      <th>231632</th>\n",
       "      <td>537459</td>\n",
       "      <td>5.0</td>\n",
       "      <td>1</td>\n",
       "    </tr>\n",
       "    <tr>\n",
       "      <th>231633</th>\n",
       "      <td>537485</td>\n",
       "      <td>5.0</td>\n",
       "      <td>1</td>\n",
       "    </tr>\n",
       "    <tr>\n",
       "      <th>231634</th>\n",
       "      <td>537543</td>\n",
       "      <td>0.0</td>\n",
       "      <td>1</td>\n",
       "    </tr>\n",
       "    <tr>\n",
       "      <th>231635</th>\n",
       "      <td>537671</td>\n",
       "      <td>0.0</td>\n",
       "      <td>1</td>\n",
       "    </tr>\n",
       "    <tr>\n",
       "      <th>231636</th>\n",
       "      <td>537716</td>\n",
       "      <td>5.0</td>\n",
       "      <td>1</td>\n",
       "    </tr>\n",
       "  </tbody>\n",
       "</table>\n",
       "</div>"
      ],
      "text/plain": [
       "       recipe_id rating user_id\n",
       "                   mean nunique\n",
       "231632    537459    5.0       1\n",
       "231633    537485    5.0       1\n",
       "231634    537543    0.0       1\n",
       "231635    537671    0.0       1\n",
       "231636    537716    5.0       1"
      ]
     },
     "execution_count": 17,
     "metadata": {},
     "output_type": "execute_result"
    }
   ],
   "source": [
    "recipe_interaction_summary.tail()"
   ]
  },
  {
   "cell_type": "code",
   "execution_count": 18,
   "id": "eb3f63d5",
   "metadata": {},
   "outputs": [
    {
     "data": {
      "text/plain": [
       "MultiIndex([('recipe_id',        ''),\n",
       "            (   'rating',    'mean'),\n",
       "            (  'user_id', 'nunique')],\n",
       "           )"
      ]
     },
     "execution_count": 18,
     "metadata": {},
     "output_type": "execute_result"
    }
   ],
   "source": [
    "recipe_interaction_summary.columns"
   ]
  },
  {
   "cell_type": "markdown",
   "id": "14e709a5",
   "metadata": {},
   "source": [
    "The column index need to be adjusted"
   ]
  },
  {
   "cell_type": "code",
   "execution_count": 19,
   "id": "54f79169",
   "metadata": {},
   "outputs": [
    {
     "data": {
      "text/plain": [
       "Index(['recipe_id_', 'rating_mean', 'user_id_nunique'], dtype='object')"
      ]
     },
     "execution_count": 19,
     "metadata": {},
     "output_type": "execute_result"
    }
   ],
   "source": [
    "columns = pd.Index([c[0] + \"_\" +c[1] for c in recipe_interaction_summary.columns.tolist()])\n",
    "recipe_interaction_summary.columns = columns\n",
    "recipe_interaction_summary.columns"
   ]
  },
  {
   "cell_type": "markdown",
   "id": "ee44df64",
   "metadata": {},
   "source": [
    "How is the distribution of number of unique users who rated the recipes looking"
   ]
  },
  {
   "cell_type": "code",
   "execution_count": 20,
   "id": "6e1f7ac6",
   "metadata": {},
   "outputs": [
    {
     "data": {
      "text/plain": [
       "count    231637.000000\n",
       "mean          4.888541\n",
       "std          17.532481\n",
       "min           1.000000\n",
       "25%           1.000000\n",
       "50%           2.000000\n",
       "75%           4.000000\n",
       "max        1613.000000\n",
       "Name: user_id_nunique, dtype: float64"
      ]
     },
     "execution_count": 20,
     "metadata": {},
     "output_type": "execute_result"
    }
   ],
   "source": [
    "recipe_interaction_summary.user_id_nunique.describe()"
   ]
  },
  {
   "cell_type": "markdown",
   "id": "8630359e",
   "metadata": {},
   "source": [
    "### Inorder to have a better comparison, would like to have only those recipes to be considered which have more than two users rating it"
   ]
  },
  {
   "cell_type": "code",
   "execution_count": 21,
   "id": "2ce181a5",
   "metadata": {},
   "outputs": [],
   "source": [
    "recipe_interaction_final = recipe_interaction_summary[(recipe_interaction_summary['user_id_nunique']>2)]"
   ]
  },
  {
   "cell_type": "code",
   "execution_count": 22,
   "id": "f64ab330",
   "metadata": {},
   "outputs": [
    {
     "name": "stdout",
     "output_type": "stream",
     "text": [
      "<class 'pandas.core.frame.DataFrame'>\n",
      "Int64Index: 94564 entries, 0 to 231607\n",
      "Data columns (total 3 columns):\n",
      " #   Column           Non-Null Count  Dtype  \n",
      "---  ------           --------------  -----  \n",
      " 0   recipe_id_       94564 non-null  int64  \n",
      " 1   rating_mean      94564 non-null  float64\n",
      " 2   user_id_nunique  94564 non-null  int64  \n",
      "dtypes: float64(1), int64(2)\n",
      "memory usage: 2.9 MB\n"
     ]
    }
   ],
   "source": [
    "recipe_interaction_final.info()"
   ]
  },
  {
   "cell_type": "markdown",
   "id": "13b8cf56",
   "metadata": {},
   "source": [
    "If we take recipes rated by more than two unique users, the number of recipes come down to 94564 Let's have a look at the distribution of average ratings"
   ]
  },
  {
   "cell_type": "code",
   "execution_count": 23,
   "id": "f2a24c41",
   "metadata": {},
   "outputs": [
    {
     "data": {
      "image/png": "[encoded data removed]",
      "text/plain": [
       "<Figure size 640x480 with 1 Axes>"
      ]
     },
     "metadata": {},
     "output_type": "display_data"
    }
   ],
   "source": [
    "recipe_interaction_final.rating_mean.plot(kind ='hist',title='Distribution of Recipes based on Average Ratings')\n",
    "plt.xlabel(\"Average Ratings\")\n",
    "plt.ylabel(\"Number of Recipes\")\n",
    "plt.show()"
   ]
  },
  {
   "cell_type": "markdown",
   "id": "0ea9c7a2",
   "metadata": {},
   "source": [
    "Need to use only the recipes filtered by our interaction dataset above. Trying to do a merge operation."
   ]
  },
  {
   "cell_type": "markdown",
   "id": "983278a4",
   "metadata": {},
   "source": [
    "## Filter the Raw Recipes based on User interation"
   ]
  },
  {
   "cell_type": "code",
   "execution_count": 24,
   "id": "62064f9f",
   "metadata": {},
   "outputs": [],
   "source": [
    "recipes = pd.merge(raw_recipes,recipe_interaction_final,right_on = ['recipe_id_'],left_on = ['id'] ,how = 'inner')"
   ]
  },
  {
   "cell_type": "code",
   "execution_count": 25,
   "id": "e17d0f34",
   "metadata": {},
   "outputs": [
    {
     "data": {
      "text/plain": [
       "(94564, 8)"
      ]
     },
     "execution_count": 25,
     "metadata": {},
     "output_type": "execute_result"
    }
   ],
   "source": [
    "recipes.shape"
   ]
  },
  {
   "cell_type": "code",
   "execution_count": 26,
   "id": "48b8ab2a",
   "metadata": {},
   "outputs": [
    {
     "data": {
      "text/plain": [
       "Index(['name', 'id', 'description', 'ingredients', 'n_ingredients',\n",
       "       'recipe_id_', 'rating_mean', 'user_id_nunique'],\n",
       "      dtype='object')"
      ]
     },
     "execution_count": 26,
     "metadata": {},
     "output_type": "execute_result"
    }
   ],
   "source": [
    "recipes.columns"
   ]
  },
  {
   "cell_type": "code",
   "execution_count": 27,
   "id": "0ca88af6",
   "metadata": {},
   "outputs": [],
   "source": [
    "recipes.drop(['recipe_id_'], axis = 1,  inplace = True)"
   ]
  },
  {
   "cell_type": "code",
   "execution_count": 28,
   "id": "25935a61",
   "metadata": {},
   "outputs": [
    {
     "data": {
      "text/html": [
       "<div>\n",
       "<style scoped>\n",
       "    .dataframe tbody tr th:only-of-type {\n",
       "        vertical-align: middle;\n",
       "    }\n",
       "\n",
       "    .dataframe tbody tr th {\n",
       "        vertical-align: top;\n",
       "    }\n",
       "\n",
       "    .dataframe thead th {\n",
       "        text-align: right;\n",
       "    }\n",
       "</style>\n",
       "<table border=\"1\" class=\"dataframe\">\n",
       "  <thead>\n",
       "    <tr style=\"text-align: right;\">\n",
       "      <th></th>\n",
       "      <th>name</th>\n",
       "      <th>id</th>\n",
       "      <th>description</th>\n",
       "      <th>ingredients</th>\n",
       "      <th>n_ingredients</th>\n",
       "      <th>rating_mean</th>\n",
       "      <th>user_id_nunique</th>\n",
       "    </tr>\n",
       "  </thead>\n",
       "  <tbody>\n",
       "    <tr>\n",
       "      <th>0</th>\n",
       "      <td>arriba   baked winter squash mexican style</td>\n",
       "      <td>137739</td>\n",
       "      <td>autumn is my favorite time of year to cook! th...</td>\n",
       "      <td>['winter squash', 'mexican seasoning', 'mixed ...</td>\n",
       "      <td>7</td>\n",
       "      <td>5.0</td>\n",
       "      <td>3</td>\n",
       "    </tr>\n",
       "    <tr>\n",
       "      <th>1</th>\n",
       "      <td>a bit different  breakfast pizza</td>\n",
       "      <td>31490</td>\n",
       "      <td>this recipe calls for the crust to be prebaked...</td>\n",
       "      <td>['prepared pizza crust', 'sausage patty', 'egg...</td>\n",
       "      <td>6</td>\n",
       "      <td>3.5</td>\n",
       "      <td>4</td>\n",
       "    </tr>\n",
       "    <tr>\n",
       "      <th>2</th>\n",
       "      <td>beat this  banana bread</td>\n",
       "      <td>75452</td>\n",
       "      <td>from ann hodgman's</td>\n",
       "      <td>['sugar', 'unsalted butter', 'bananas', 'eggs'...</td>\n",
       "      <td>9</td>\n",
       "      <td>4.4</td>\n",
       "      <td>5</td>\n",
       "    </tr>\n",
       "    <tr>\n",
       "      <th>3</th>\n",
       "      <td>better than sex  strawberries</td>\n",
       "      <td>42198</td>\n",
       "      <td>simple but sexy. this was in my local newspape...</td>\n",
       "      <td>['vanilla wafers', 'butter', 'powdered sugar',...</td>\n",
       "      <td>7</td>\n",
       "      <td>3.8</td>\n",
       "      <td>5</td>\n",
       "    </tr>\n",
       "    <tr>\n",
       "      <th>4</th>\n",
       "      <td>better then bush s  baked beans</td>\n",
       "      <td>67547</td>\n",
       "      <td>i'd have to say that this is a labor of love d...</td>\n",
       "      <td>['great northern bean', 'chicken bouillon cube...</td>\n",
       "      <td>13</td>\n",
       "      <td>3.9</td>\n",
       "      <td>10</td>\n",
       "    </tr>\n",
       "  </tbody>\n",
       "</table>\n",
       "</div>"
      ],
      "text/plain": [
       "                                         name      id  \\\n",
       "0  arriba   baked winter squash mexican style  137739   \n",
       "1            a bit different  breakfast pizza   31490   \n",
       "2                     beat this  banana bread   75452   \n",
       "3               better than sex  strawberries   42198   \n",
       "4             better then bush s  baked beans   67547   \n",
       "\n",
       "                                         description  \\\n",
       "0  autumn is my favorite time of year to cook! th...   \n",
       "1  this recipe calls for the crust to be prebaked...   \n",
       "2                                from ann hodgman's    \n",
       "3  simple but sexy. this was in my local newspape...   \n",
       "4  i'd have to say that this is a labor of love d...   \n",
       "\n",
       "                                         ingredients  n_ingredients  \\\n",
       "0  ['winter squash', 'mexican seasoning', 'mixed ...              7   \n",
       "1  ['prepared pizza crust', 'sausage patty', 'egg...              6   \n",
       "2  ['sugar', 'unsalted butter', 'bananas', 'eggs'...              9   \n",
       "3  ['vanilla wafers', 'butter', 'powdered sugar',...              7   \n",
       "4  ['great northern bean', 'chicken bouillon cube...             13   \n",
       "\n",
       "   rating_mean  user_id_nunique  \n",
       "0          5.0                3  \n",
       "1          3.5                4  \n",
       "2          4.4                5  \n",
       "3          3.8                5  \n",
       "4          3.9               10  "
      ]
     },
     "execution_count": 28,
     "metadata": {},
     "output_type": "execute_result"
    }
   ],
   "source": [
    "recipes.head()"
   ]
  },
  {
   "cell_type": "markdown",
   "id": "6c28e9a1",
   "metadata": {},
   "source": [
    "Let's save this data as a pre-processed dataset"
   ]
  },
  {
   "cell_type": "code",
   "execution_count": 29,
   "id": "6977fa17",
   "metadata": {},
   "outputs": [],
   "source": [
    "recipes.to_csv('dataset/pp_recipes.csv', index=False)"
   ]
  },
  {
   "cell_type": "code",
   "execution_count": 30,
   "id": "62ef79fd",
   "metadata": {},
   "outputs": [
    {
     "data": {
      "text/plain": [
       "(94564, 7)"
      ]
     },
     "execution_count": 30,
     "metadata": {},
     "output_type": "execute_result"
    }
   ],
   "source": [
    "recipes.shape"
   ]
  },
  {
   "cell_type": "code",
   "execution_count": 31,
   "id": "2f3ad259",
   "metadata": {},
   "outputs": [
    {
     "data": {
      "text/plain": [
       "Index(['user_id', 'recipe_id', 'date', 'rating', 'review'], dtype='object')"
      ]
     },
     "execution_count": 31,
     "metadata": {},
     "output_type": "execute_result"
    }
   ],
   "source": [
    "raw_interactions.columns"
   ]
  },
  {
   "cell_type": "markdown",
   "id": "63f7b63f",
   "metadata": {},
   "source": [
    "Since our recipe dataset has been reduced by more than half, we need to consider only the user interaction on those recipes from the interaction data"
   ]
  },
  {
   "cell_type": "code",
   "execution_count": 32,
   "id": "724119bc",
   "metadata": {},
   "outputs": [],
   "source": [
    "raw_interactions_filtered = raw_interactions[raw_interactions['recipe_id'].isin(recipes['id'])]"
   ]
  },
  {
   "cell_type": "code",
   "execution_count": 33,
   "id": "c49e4ccc",
   "metadata": {},
   "outputs": [
    {
     "data": {
      "text/plain": [
       "94564"
      ]
     },
     "execution_count": 33,
     "metadata": {},
     "output_type": "execute_result"
    }
   ],
   "source": [
    "raw_interactions_filtered.recipe_id.nunique()"
   ]
  },
  {
   "cell_type": "code",
   "execution_count": 34,
   "id": "f4b89d96",
   "metadata": {},
   "outputs": [],
   "source": [
    "M = raw_interactions_filtered['user_id'].nunique()\n",
    "N = raw_interactions_filtered['recipe_id'].nunique()"
   ]
  },
  {
   "cell_type": "code",
   "execution_count": 35,
   "id": "e8db4584",
   "metadata": {},
   "outputs": [
    {
     "name": "stdout",
     "output_type": "stream",
     "text": [
      "Utility Matrix dimensions:  204665  *  94564\n"
     ]
    }
   ],
   "source": [
    "print(\"Utility Matrix dimensions: \", M, \" * \", N)"
   ]
  },
  {
   "cell_type": "code",
   "execution_count": 36,
   "id": "31a54b05",
   "metadata": {},
   "outputs": [],
   "source": [
    "raw_interactions_filtered[['user_id', 'recipe_id','rating']].to_csv('dataset/pp_interactions.csv', index=False)"
   ]
  },
  {
   "cell_type": "markdown",
   "id": "4e1ab4b5",
   "metadata": {},
   "source": [
    "# Summary of pre-processing done so far"
   ]
  },
  {
   "cell_type": "markdown",
   "id": "4118796e",
   "metadata": {},
   "source": [
    "Summary of preprocessing done for interactions and recipe datasets\n",
    "In the raw datasets\n",
    "Number of unique recipes:  231,637\n",
    "Number of unique users:  226,570\n",
    "Upon considering only those recipes that were rated by atleast two users, the number of recipes came down to 94,564.\n",
    "The number of users who interacted with these recipes where 204,665"
   ]
  },
  {
   "cell_type": "markdown",
   "id": "b84461c5",
   "metadata": {},
   "source": [
    "# Matrix Factorization based Collaborative Filtering"
   ]
  },
  {
   "cell_type": "code",
   "execution_count": 37,
   "id": "6e204843",
   "metadata": {},
   "outputs": [],
   "source": [
    "from surprise import Dataset\n",
    "from surprise import Reader\n",
    "from surprise import SVD\n",
    "from surprise import accuracy"
   ]
  },
  {
   "cell_type": "code",
   "execution_count": 38,
   "id": "b0652a35",
   "metadata": {},
   "outputs": [],
   "source": [
    "ratings_df = pd.read_csv('dataset/pp_interactions.csv')"
   ]
  },
  {
   "cell_type": "code",
   "execution_count": 39,
   "id": "e17be5a7",
   "metadata": {},
   "outputs": [],
   "source": [
    "reader = Reader() \n",
    "data=Dataset.load_from_df(ratings_df,reader)"
   ]
  },
  {
   "cell_type": "code",
   "execution_count": 40,
   "id": "292050a6",
   "metadata": {},
   "outputs": [],
   "source": [
    "trainset = data.build_full_trainset()"
   ]
  },
  {
   "cell_type": "code",
   "execution_count": 41,
   "id": "4cb1e244",
   "metadata": {},
   "outputs": [],
   "source": [
    "svd = SVD()"
   ]
  },
  {
   "cell_type": "code",
   "execution_count": 42,
   "id": "c512bbf5",
   "metadata": {},
   "outputs": [
    {
     "data": {
      "text/plain": [
       "<surprise.prediction_algorithms.matrix_factorization.SVD at 0x20b89b84730>"
      ]
     },
     "execution_count": 42,
     "metadata": {},
     "output_type": "execute_result"
    }
   ],
   "source": [
    "svd.fit(trainset)"
   ]
  },
  {
   "cell_type": "markdown",
   "id": "f00530b3",
   "metadata": {},
   "source": [
    "Let's try to predict ratings for the recipes, the users in our dataset haven't interacted with"
   ]
  },
  {
   "cell_type": "markdown",
   "id": "d3ac2f66",
   "metadata": {},
   "source": [
    "Since the number of users and the number of recipes is too large. We would like to take up a subset of users and try to predict what kind of recipes they would like based on our CF model"
   ]
  },
  {
   "cell_type": "markdown",
   "id": "21a72d68",
   "metadata": {},
   "source": [
    "## How to choose our test users"
   ]
  },
  {
   "cell_type": "code",
   "execution_count": 43,
   "id": "0cfbc042",
   "metadata": {},
   "outputs": [
    {
     "data": {
      "text/html": [
       "<div>\n",
       "<style scoped>\n",
       "    .dataframe tbody tr th:only-of-type {\n",
       "        vertical-align: middle;\n",
       "    }\n",
       "\n",
       "    .dataframe tbody tr th {\n",
       "        vertical-align: top;\n",
       "    }\n",
       "\n",
       "    .dataframe thead th {\n",
       "        text-align: right;\n",
       "    }\n",
       "</style>\n",
       "<table border=\"1\" class=\"dataframe\">\n",
       "  <thead>\n",
       "    <tr style=\"text-align: right;\">\n",
       "      <th></th>\n",
       "      <th>user_id</th>\n",
       "      <th>recipe_id</th>\n",
       "      <th>rating</th>\n",
       "    </tr>\n",
       "  </thead>\n",
       "  <tbody>\n",
       "    <tr>\n",
       "      <th>0</th>\n",
       "      <td>52282</td>\n",
       "      <td>120345</td>\n",
       "      <td>4</td>\n",
       "    </tr>\n",
       "    <tr>\n",
       "      <th>1</th>\n",
       "      <td>124416</td>\n",
       "      <td>120345</td>\n",
       "      <td>0</td>\n",
       "    </tr>\n",
       "    <tr>\n",
       "      <th>2</th>\n",
       "      <td>2000192946</td>\n",
       "      <td>120345</td>\n",
       "      <td>2</td>\n",
       "    </tr>\n",
       "    <tr>\n",
       "      <th>3</th>\n",
       "      <td>76535</td>\n",
       "      <td>134728</td>\n",
       "      <td>4</td>\n",
       "    </tr>\n",
       "    <tr>\n",
       "      <th>4</th>\n",
       "      <td>273745</td>\n",
       "      <td>134728</td>\n",
       "      <td>5</td>\n",
       "    </tr>\n",
       "  </tbody>\n",
       "</table>\n",
       "</div>"
      ],
      "text/plain": [
       "      user_id  recipe_id  rating\n",
       "0       52282     120345       4\n",
       "1      124416     120345       0\n",
       "2  2000192946     120345       2\n",
       "3       76535     134728       4\n",
       "4      273745     134728       5"
      ]
     },
     "execution_count": 43,
     "metadata": {},
     "output_type": "execute_result"
    }
   ],
   "source": [
    "ratings_df.head()"
   ]
  },
  {
   "cell_type": "code",
   "execution_count": 44,
   "id": "a23bc59a",
   "metadata": {},
   "outputs": [],
   "source": [
    "# group the dataframe by user and count the number of unique recipes rated by each user\n",
    "user_counts = ratings_df.groupby('user_id')['recipe_id'].nunique()\n",
    "user_counts = user_counts.sort_values(ascending=False)\n"
   ]
  },
  {
   "cell_type": "code",
   "execution_count": 45,
   "id": "e7b656f9",
   "metadata": {},
   "outputs": [
    {
     "data": {
      "text/plain": [
       "count    204665.000000\n",
       "mean          4.642582\n",
       "std          39.112266\n",
       "min           1.000000\n",
       "25%           1.000000\n",
       "50%           1.000000\n",
       "75%           2.000000\n",
       "max        4130.000000\n",
       "Name: recipe_id, dtype: float64"
      ]
     },
     "execution_count": 45,
     "metadata": {},
     "output_type": "execute_result"
    }
   ],
   "source": [
    "user_counts.describe()"
   ]
  },
  {
   "cell_type": "code",
   "execution_count": 46,
   "id": "9a58df27",
   "metadata": {},
   "outputs": [],
   "source": [
    "# filter the resulting dataframe to only include the users who have rated more than 2 items \n",
    "#We have 94564 unique recipes. How about we pick the users who have shown very good rating behavior.\n",
    "at_least_some_recipes_rated = user_counts[(user_counts > 1000) & (user_counts < 1500)]"
   ]
  },
  {
   "cell_type": "markdown",
   "id": "38281bfe",
   "metadata": {},
   "source": [
    "There are users who have interacted very well with data with upto 4K+ ratings given. But 75% of users have given only 2 ratings.\n",
    "Let's pick the users who have rated between 1000 adn 1500 recipes."
   ]
  },
  {
   "cell_type": "code",
   "execution_count": 47,
   "id": "4b237a7d",
   "metadata": {},
   "outputs": [],
   "source": [
    "# extract the user ids as a list\n",
    "users_with_at_least_some_recipes_rated = at_least_some_recipes_rated.index.tolist()"
   ]
  },
  {
   "cell_type": "code",
   "execution_count": 48,
   "id": "8650cc23",
   "metadata": {},
   "outputs": [
    {
     "data": {
      "text/plain": [
       "37"
      ]
     },
     "execution_count": 48,
     "metadata": {},
     "output_type": "execute_result"
    }
   ],
   "source": [
    "len(users_with_at_least_some_recipes_rated)"
   ]
  },
  {
   "cell_type": "code",
   "execution_count": 49,
   "id": "a55cd020",
   "metadata": {},
   "outputs": [],
   "source": [
    "# Build anti-test set for selected users\n",
    "anti_testset = []\n",
    "for user_id in users_with_at_least_some_recipes_rated:\n",
    "    # Get list of item ids for items that user has not rated\n",
    "    item_ids = [item_id for item_id in trainset.all_items() if not trainset.ur[user_id] or item_id not in trainset.ur[user_id]]\n",
    "    # Add tuples to anti-test set\n",
    "    anti_testset.extend([(user_id, item_id, trainset.global_mean) for item_id in item_ids])\n"
   ]
  },
  {
   "cell_type": "code",
   "execution_count": 50,
   "id": "51ef0d8b",
   "metadata": {},
   "outputs": [],
   "source": [
    "predictions = svd.test(anti_testset)"
   ]
  },
  {
   "cell_type": "code",
   "execution_count": 51,
   "id": "33bd1049",
   "metadata": {},
   "outputs": [
    {
     "data": {
      "text/plain": [
       "list"
      ]
     },
     "execution_count": 51,
     "metadata": {},
     "output_type": "execute_result"
    }
   ],
   "source": [
    "type(predictions)"
   ]
  },
  {
   "cell_type": "code",
   "execution_count": 52,
   "id": "7cf5cc70",
   "metadata": {},
   "outputs": [
    {
     "data": {
      "text/plain": [
       "Prediction(uid=39835, iid=0, r_ui=4.431151557504204, est=4.534910795189222, details={'was_impossible': False})"
      ]
     },
     "execution_count": 52,
     "metadata": {},
     "output_type": "execute_result"
    }
   ],
   "source": [
    "predictions[0]"
   ]
  },
  {
   "cell_type": "code",
   "execution_count": 56,
   "id": "de47c4a5",
   "metadata": {},
   "outputs": [],
   "source": [
    "from collections import defaultdict\n",
    "\n",
    "def getRecipeRecommendations(topN=5):\n",
    "    top_recs = defaultdict(list\n",
    "    for uid, iid, true_r, est, _ in predictions: \n",
    "        top_recs[uid].append((iid, est))\n",
    "     \n",
    "    for uid, user_ratings in top_recs.items():\n",
    "        user_ratings.sort(key = lambda x: x[1], reverse = True)\n",
    "        top_recs[uid] = user_ratings[:topN]\n",
    "     \n",
    "    return top_recs "
   ]
  },
  {
   "cell_type": "code",
   "execution_count": 54,
   "id": "1aa094da",
   "metadata": {},
   "outputs": [],
   "source": [
    "# Create a dictionary mapping recipe ids to names\n",
    "recipe_dict = dict(zip(recipes['id'], recipes['name']))"
   ]
  },
  {
   "cell_type": "code",
   "execution_count": 62,
   "id": "6b69f608",
   "metadata": {},
   "outputs": [],
   "source": [
    "def getRecipeName(recipe_id):\n",
    "    if recipe_id not in recipe_dict:\n",
    "        return \"\"\n",
    "    m = recipe_dict[recipe_id]\n",
    "    return m"
   ]
  },
  {
   "cell_type": "code",
   "execution_count": 63,
   "id": "a02b208c",
   "metadata": {},
   "outputs": [],
   "source": [
    "def getRecipeRecommendationsForUser(u_id, recommendations):    \n",
    "    recommended_recipes = recommendations[u_id]\n",
    "    recipe_list = []\n",
    "    for recipe in recommended_recipes:\n",
    "        recipe_list.append((getRecipeName(recipe[0]),recipe[1]))\n",
    "    return recipe_list  "
   ]
  },
  {
   "cell_type": "code",
   "execution_count": 66,
   "id": "021ba042",
   "metadata": {},
   "outputs": [
    {
     "data": {
      "text/plain": [
       "39835"
      ]
     },
     "execution_count": 66,
     "metadata": {},
     "output_type": "execute_result"
    }
   ],
   "source": [
    "users_with_at_least_some_recipes_rated[0]"
   ]
  },
  {
   "cell_type": "code",
   "execution_count": 67,
   "id": "f22b65fd",
   "metadata": {},
   "outputs": [
    {
     "data": {
      "text/plain": [
       "[('black coffee barbecue sauce', 5),\n",
       " ('stuffed acorn squash', 5),\n",
       " ('texas style picante sauce', 5),\n",
       " ('gehaktballen  dutch meatballs', 5),\n",
       " ('low fat thai steak salad', 5)]"
      ]
     },
     "execution_count": 67,
     "metadata": {},
     "output_type": "execute_result"
    }
   ],
   "source": [
    "recommendations = getRecipeRecommendations()\n",
    "getRecipeRecommendationsForUser(users_with_at_least_some_recipes_rated[0], recommendations)"
   ]
  },
  {
   "cell_type": "code",
   "execution_count": 96,
   "id": "41fdd706",
   "metadata": {},
   "outputs": [],
   "source": [
    "import csv\n",
    "with open('cf_recommendations.csv','w') as fw:\n",
    "    fieldnames = ['user_id','prediction1','prediction2','prediction3','prediction4','prediction5']\n",
    "    writer = csv.DictWriter(fw, fieldnames)\n",
    "    writer.writeheader()\n",
    "    recommendations = getRecipeRecommendations()\n",
    "    for i in range(len(users_with_at_least_some_recipes_rated)):        \n",
    "        recipe_list = getRecipeRecommendationsForUser(users_with_at_least_some_recipes_rated[i], recommendations)\n",
    "        writer.writerow({'user_id': users_with_at_least_some_recipes_rated[i],\n",
    "                         'prediction1': recipe_list[0],\n",
    "                         'prediction2': recipe_list[1],\n",
    "                         'prediction3': recipe_list[2],\n",
    "                         'prediction4': recipe_list[3],\n",
    "                         'prediction5': recipe_list[4]\n",
    "                        })"
   ]
  },
  {
   "cell_type": "markdown",
   "id": "2244d2c2",
   "metadata": {},
   "source": [
    "We want to make a file which has recipe ids instead of names, so that this can be further used in content based recommendation systems easily."
   ]
  },
  {
   "cell_type": "code",
   "execution_count": 90,
   "id": "624f6878",
   "metadata": {},
   "outputs": [],
   "source": [
    "def getRecipeIdsForUser(u_id, recommendations):    \n",
    "    recommended_recipes = recommendations[u_id]\n",
    "    recipe_list = []\n",
    "    for recipe in recommended_recipes:\n",
    "        recipe_list.append(recipe[0])\n",
    "    return recipe_list  "
   ]
  },
  {
   "cell_type": "code",
   "execution_count": 92,
   "id": "9f3b7473",
   "metadata": {},
   "outputs": [
    {
     "data": {
      "text/plain": [
       "[66, 324, 1183, 1581, 4410]"
      ]
     },
     "execution_count": 92,
     "metadata": {},
     "output_type": "execute_result"
    }
   ],
   "source": [
    "recommendations = getRecipeRecommendations()\n",
    "getRecipeIdsForUser(users_with_at_least_some_recipes_rated[0], recommendations)"
   ]
  },
  {
   "cell_type": "code",
   "execution_count": 95,
   "id": "8063e3e7",
   "metadata": {},
   "outputs": [],
   "source": [
    "import csv\n",
    "with open('cf_recommendations_recipe_ids.csv','w') as fw:\n",
    "    fieldnames = ['user_id','prediction1','prediction2','prediction3','prediction4','prediction5']\n",
    "    writer = csv.DictWriter(fw, fieldnames)\n",
    "    writer.writeheader()\n",
    "    recommendations = getRecipeRecommendations()\n",
    "    for i in range(len(users_with_at_least_some_recipes_rated)):        \n",
    "        recipe_list = getRecipeIdsForUser(users_with_at_least_some_recipes_rated[i], recommendations)\n",
    "        writer.writerow({'user_id': users_with_at_least_some_recipes_rated[i],\n",
    "                         'prediction1': recipe_list[0],\n",
    "                         'prediction2': recipe_list[1],\n",
    "                         'prediction3': recipe_list[2],\n",
    "                         'prediction4': recipe_list[3],\n",
    "                         'prediction5': recipe_list[4]\n",
    "                        })"
   ]
  },
  {
   "cell_type": "markdown",
   "id": "5a690e54",
   "metadata": {},
   "source": [
    "# Content Based Recommendation System"
   ]
  },
  {
   "cell_type": "markdown",
   "id": "47e73535",
   "metadata": {},
   "source": [
    "### Based on the ingredient list of 94564 recipes"
   ]
  },
  {
   "cell_type": "code",
   "execution_count": 70,
   "id": "f6b1bfdf",
   "metadata": {},
   "outputs": [],
   "source": [
    "recipes = pd.read_csv('dataset/pp_recipes.csv')"
   ]
  },
  {
   "cell_type": "code",
   "execution_count": 71,
   "id": "f610b36a",
   "metadata": {},
   "outputs": [
    {
     "data": {
      "text/plain": [
       "(94564, 7)"
      ]
     },
     "execution_count": 71,
     "metadata": {},
     "output_type": "execute_result"
    }
   ],
   "source": [
    "recipes.shape"
   ]
  },
  {
   "cell_type": "code",
   "execution_count": 72,
   "id": "da928db5",
   "metadata": {},
   "outputs": [
    {
     "data": {
      "text/html": [
       "<div>\n",
       "<style scoped>\n",
       "    .dataframe tbody tr th:only-of-type {\n",
       "        vertical-align: middle;\n",
       "    }\n",
       "\n",
       "    .dataframe tbody tr th {\n",
       "        vertical-align: top;\n",
       "    }\n",
       "\n",
       "    .dataframe thead th {\n",
       "        text-align: right;\n",
       "    }\n",
       "</style>\n",
       "<table border=\"1\" class=\"dataframe\">\n",
       "  <thead>\n",
       "    <tr style=\"text-align: right;\">\n",
       "      <th></th>\n",
       "      <th>name</th>\n",
       "      <th>id</th>\n",
       "      <th>description</th>\n",
       "      <th>ingredients</th>\n",
       "      <th>n_ingredients</th>\n",
       "      <th>rating_mean</th>\n",
       "      <th>user_id_nunique</th>\n",
       "    </tr>\n",
       "  </thead>\n",
       "  <tbody>\n",
       "    <tr>\n",
       "      <th>0</th>\n",
       "      <td>arriba   baked winter squash mexican style</td>\n",
       "      <td>137739</td>\n",
       "      <td>autumn is my favorite time of year to cook! th...</td>\n",
       "      <td>['winter squash', 'mexican seasoning', 'mixed ...</td>\n",
       "      <td>7</td>\n",
       "      <td>5.0</td>\n",
       "      <td>3</td>\n",
       "    </tr>\n",
       "    <tr>\n",
       "      <th>1</th>\n",
       "      <td>a bit different  breakfast pizza</td>\n",
       "      <td>31490</td>\n",
       "      <td>this recipe calls for the crust to be prebaked...</td>\n",
       "      <td>['prepared pizza crust', 'sausage patty', 'egg...</td>\n",
       "      <td>6</td>\n",
       "      <td>3.5</td>\n",
       "      <td>4</td>\n",
       "    </tr>\n",
       "    <tr>\n",
       "      <th>2</th>\n",
       "      <td>beat this  banana bread</td>\n",
       "      <td>75452</td>\n",
       "      <td>from ann hodgman's</td>\n",
       "      <td>['sugar', 'unsalted butter', 'bananas', 'eggs'...</td>\n",
       "      <td>9</td>\n",
       "      <td>4.4</td>\n",
       "      <td>5</td>\n",
       "    </tr>\n",
       "    <tr>\n",
       "      <th>3</th>\n",
       "      <td>better than sex  strawberries</td>\n",
       "      <td>42198</td>\n",
       "      <td>simple but sexy. this was in my local newspape...</td>\n",
       "      <td>['vanilla wafers', 'butter', 'powdered sugar',...</td>\n",
       "      <td>7</td>\n",
       "      <td>3.8</td>\n",
       "      <td>5</td>\n",
       "    </tr>\n",
       "    <tr>\n",
       "      <th>4</th>\n",
       "      <td>better then bush s  baked beans</td>\n",
       "      <td>67547</td>\n",
       "      <td>i'd have to say that this is a labor of love d...</td>\n",
       "      <td>['great northern bean', 'chicken bouillon cube...</td>\n",
       "      <td>13</td>\n",
       "      <td>3.9</td>\n",
       "      <td>10</td>\n",
       "    </tr>\n",
       "  </tbody>\n",
       "</table>\n",
       "</div>"
      ],
      "text/plain": [
       "                                         name      id  \\\n",
       "0  arriba   baked winter squash mexican style  137739   \n",
       "1            a bit different  breakfast pizza   31490   \n",
       "2                     beat this  banana bread   75452   \n",
       "3               better than sex  strawberries   42198   \n",
       "4             better then bush s  baked beans   67547   \n",
       "\n",
       "                                         description  \\\n",
       "0  autumn is my favorite time of year to cook! th...   \n",
       "1  this recipe calls for the crust to be prebaked...   \n",
       "2                                from ann hodgman's    \n",
       "3  simple but sexy. this was in my local newspape...   \n",
       "4  i'd have to say that this is a labor of love d...   \n",
       "\n",
       "                                         ingredients  n_ingredients  \\\n",
       "0  ['winter squash', 'mexican seasoning', 'mixed ...              7   \n",
       "1  ['prepared pizza crust', 'sausage patty', 'egg...              6   \n",
       "2  ['sugar', 'unsalted butter', 'bananas', 'eggs'...              9   \n",
       "3  ['vanilla wafers', 'butter', 'powdered sugar',...              7   \n",
       "4  ['great northern bean', 'chicken bouillon cube...             13   \n",
       "\n",
       "   rating_mean  user_id_nunique  \n",
       "0          5.0                3  \n",
       "1          3.5                4  \n",
       "2          4.4                5  \n",
       "3          3.8                5  \n",
       "4          3.9               10  "
      ]
     },
     "execution_count": 72,
     "metadata": {},
     "output_type": "execute_result"
    }
   ],
   "source": [
    "recipes.head()"
   ]
  },
  {
   "cell_type": "markdown",
   "id": "b3ff65cc",
   "metadata": {},
   "source": [
    "We want to do an ingredient list wise similarity comparison between the recipes\n"
   ]
  },
  {
   "cell_type": "markdown",
   "id": "d0b7cfe8",
   "metadata": {},
   "source": [
    "### 1. Encode the ingredient list"
   ]
  },
  {
   "cell_type": "code",
   "execution_count": 73,
   "id": "435cb66b",
   "metadata": {},
   "outputs": [
    {
     "name": "stdout",
     "output_type": "stream",
     "text": [
      "Number of unique ingredients:  10929\n"
     ]
    }
   ],
   "source": [
    "import re\n",
    "ingredient_list = [ingredient_list.split(',') for ingredient_list in recipes.ingredients]\n",
    "ingredient_list = [item.strip() for sublist in ingredient_list for item in sublist]\n",
    "ingredient_list = [re.sub('[^A-Za-z0-9\\s\\-\"]+', '', ingredient) for ingredient in ingredient_list]\n",
    "# remove double quotes\n",
    "ingredient_list = [re.sub('\"', '', ingredient) for ingredient in ingredient_list]\n",
    "print(\"Number of unique ingredients: \", len(set(ingredient_list)))"
   ]
  },
  {
   "cell_type": "code",
   "execution_count": 74,
   "id": "52a7811a",
   "metadata": {},
   "outputs": [
    {
     "data": {
      "text/plain": [
       "['olive oil', 'salt', 'prepared pizza crust', 'sausage patty', 'eggs']"
      ]
     },
     "execution_count": 74,
     "metadata": {},
     "output_type": "execute_result"
    }
   ],
   "source": [
    "ingredient_list[5:10]"
   ]
  },
  {
   "cell_type": "markdown",
   "id": "6aad4b58",
   "metadata": {},
   "source": [
    "Encode the input string of ingredients by splitting it into individual ingredients, cleaning each ingredient by removing unwanted characters, and rejoining the cleaned ingredients into a string."
   ]
  },
  {
   "cell_type": "code",
   "execution_count": 75,
   "id": "c99d05ab",
   "metadata": {},
   "outputs": [],
   "source": [
    "def encode_ingredients(ingredients):\n",
    "    ingredients = ingredients.split(',')\n",
    "    ingredients = [ingredient.strip() for ingredient in ingredients]\n",
    "    ingredients = [re.sub('[^A-Za-z0-9\\s\\-\"]+', '', ingredient) for ingredient in ingredients]\n",
    "    ingredients = [re.sub('\"', '', ingredient) for ingredient in ingredients]\n",
    "    return ', '.join(ingredients)"
   ]
  },
  {
   "cell_type": "code",
   "execution_count": 76,
   "id": "487e3c33",
   "metadata": {},
   "outputs": [],
   "source": [
    "recipes['ingredients'] = recipes['ingredients'].apply(encode_ingredients)"
   ]
  },
  {
   "cell_type": "code",
   "execution_count": 77,
   "id": "01693635",
   "metadata": {},
   "outputs": [
    {
     "data": {
      "text/plain": [
       "94248"
      ]
     },
     "execution_count": 77,
     "metadata": {},
     "output_type": "execute_result"
    }
   ],
   "source": [
    "recipes['ingredients'].nunique()"
   ]
  },
  {
   "cell_type": "code",
   "execution_count": 78,
   "id": "70b02c5d",
   "metadata": {},
   "outputs": [
    {
     "data": {
      "text/plain": [
       "0    winter squash, mexican seasoning, mixed spice,...\n",
       "1    prepared pizza crust, sausage patty, eggs, mil...\n",
       "2    sugar, unsalted butter, bananas, eggs, fresh l...\n",
       "3    vanilla wafers, butter, powdered sugar, eggs, ...\n",
       "4    great northern bean, chicken bouillon cubes, d...\n",
       "Name: ingredients, dtype: object"
      ]
     },
     "execution_count": 78,
     "metadata": {},
     "output_type": "execute_result"
    }
   ],
   "source": [
    "recipes['ingredients'].head()"
   ]
  },
  {
   "cell_type": "code",
   "execution_count": 79,
   "id": "abaa5a85",
   "metadata": {},
   "outputs": [
    {
     "data": {
      "text/plain": [
       "94564"
      ]
     },
     "execution_count": 79,
     "metadata": {},
     "output_type": "execute_result"
    }
   ],
   "source": [
    "v = recipes['ingredients'].values\n",
    "len(v)"
   ]
  },
  {
   "cell_type": "code",
   "execution_count": 80,
   "id": "5f26457e",
   "metadata": {},
   "outputs": [
    {
     "name": "stdout",
     "output_type": "stream",
     "text": [
      "<class 'pandas.core.frame.DataFrame'>\n",
      "RangeIndex: 94564 entries, 0 to 94563\n",
      "Data columns (total 7 columns):\n",
      " #   Column           Non-Null Count  Dtype  \n",
      "---  ------           --------------  -----  \n",
      " 0   name             94564 non-null  object \n",
      " 1   id               94564 non-null  int64  \n",
      " 2   description      92508 non-null  object \n",
      " 3   ingredients      94564 non-null  object \n",
      " 4   n_ingredients    94564 non-null  int64  \n",
      " 5   rating_mean      94564 non-null  float64\n",
      " 6   user_id_nunique  94564 non-null  int64  \n",
      "dtypes: float64(1), int64(3), object(3)\n",
      "memory usage: 5.1+ MB\n"
     ]
    }
   ],
   "source": [
    "recipes.info()"
   ]
  },
  {
   "cell_type": "markdown",
   "id": "8e62d0fe",
   "metadata": {},
   "source": [
    "Thus we have 94564 recipes with ingredients encoded"
   ]
  },
  {
   "cell_type": "markdown",
   "id": "10dd5224",
   "metadata": {},
   "source": [
    "### 2. TFIDF based vectorization of ingredient list of each recipe"
   ]
  },
  {
   "cell_type": "code",
   "execution_count": 81,
   "id": "f3340a1d",
   "metadata": {},
   "outputs": [],
   "source": [
    "from sklearn.feature_extraction.text import TfidfVectorizer\n"
   ]
  },
  {
   "cell_type": "code",
   "execution_count": 82,
   "id": "190f98da",
   "metadata": {},
   "outputs": [
    {
     "data": {
      "text/plain": [
       "(94564, 2092)"
      ]
     },
     "execution_count": 82,
     "metadata": {},
     "output_type": "execute_result"
    }
   ],
   "source": [
    "tfidf_vectorizer = TfidfVectorizer(stop_words='english', lowercase=True, min_df=5)\n",
    "tfidf_matrix = tfidf_vectorizer.fit_transform(recipes['ingredients'])\n",
    "tfidf_matrix.shape"
   ]
  },
  {
   "cell_type": "markdown",
   "id": "71ecbcbc",
   "metadata": {},
   "source": [
    "### 3. FAISS  Facebook AI Research Similarity Search"
   ]
  },
  {
   "cell_type": "code",
   "execution_count": 176,
   "id": "7144782a",
   "metadata": {},
   "outputs": [],
   "source": [
    "import faiss as faiss"
   ]
  },
  {
   "cell_type": "code",
   "execution_count": 177,
   "id": "6e0cc146",
   "metadata": {},
   "outputs": [],
   "source": [
    "dense_tfidf_matrix = tfidf_matrix.toarray()"
   ]
  },
  {
   "cell_type": "code",
   "execution_count": 178,
   "id": "e7630e01",
   "metadata": {},
   "outputs": [],
   "source": [
    "faiss_index = faiss.IndexFlatIP(dense_tfidf_matrix.shape[1])"
   ]
  },
  {
   "cell_type": "code",
   "execution_count": 179,
   "id": "cac7b59c",
   "metadata": {},
   "outputs": [],
   "source": [
    "faiss_index.add(dense_tfidf_matrix)"
   ]
  },
  {
   "cell_type": "code",
   "execution_count": 180,
   "id": "8e5673e3",
   "metadata": {},
   "outputs": [
    {
     "name": "stdout",
     "output_type": "stream",
     "text": [
      "[ 5000 83308 50625 86532 50705]\n",
      "['bacon and brown sugar infused tilapia', 'super delicious and easy baked fish  anykind', 'lemon pepper tilapia', 'the best tilapia', 'lemon rosemary tilapia']\n"
     ]
    }
   ],
   "source": [
    "k = 5  # number of nearest neighbors to retrieve\n",
    "query_vec = dense_tfidf_matrix[5000]  # example query vector\n",
    "distances, indices = faiss_index.search(query_vec.reshape(1, -1), k)\n",
    "print(indices[0])\n",
    "values = recipes.iloc[indices[0]]['name'].tolist()\n",
    "print(values)"
   ]
  },
  {
   "cell_type": "markdown",
   "id": "cc95d2d9",
   "metadata": {},
   "source": [
    "Thus we have retrieved the five nearest neighbours of the 5000th recipe"
   ]
  },
  {
   "cell_type": "code",
   "execution_count": 181,
   "id": "5527453f",
   "metadata": {},
   "outputs": [
    {
     "data": {
      "text/plain": [
       "94564"
      ]
     },
     "execution_count": 181,
     "metadata": {},
     "output_type": "execute_result"
    }
   ],
   "source": [
    "len(dense_tfidf_matrix)"
   ]
  },
  {
   "cell_type": "markdown",
   "id": "8a42e8c5",
   "metadata": {},
   "source": [
    "# Combining CF and Content based filtering "
   ]
  },
  {
   "cell_type": "code",
   "execution_count": 182,
   "id": "8e44c3ee",
   "metadata": {},
   "outputs": [],
   "source": [
    "cf_recipes_for_user = pd.read_csv('cf_recommendations.csv')"
   ]
  },
  {
   "cell_type": "code",
   "execution_count": 183,
   "id": "e7b61458",
   "metadata": {},
   "outputs": [
    {
     "data": {
      "text/html": [
       "<div>\n",
       "<style scoped>\n",
       "    .dataframe tbody tr th:only-of-type {\n",
       "        vertical-align: middle;\n",
       "    }\n",
       "\n",
       "    .dataframe tbody tr th {\n",
       "        vertical-align: top;\n",
       "    }\n",
       "\n",
       "    .dataframe thead th {\n",
       "        text-align: right;\n",
       "    }\n",
       "</style>\n",
       "<table border=\"1\" class=\"dataframe\">\n",
       "  <thead>\n",
       "    <tr style=\"text-align: right;\">\n",
       "      <th></th>\n",
       "      <th>user_id</th>\n",
       "      <th>prediction1</th>\n",
       "      <th>prediction2</th>\n",
       "      <th>prediction3</th>\n",
       "      <th>prediction4</th>\n",
       "      <th>prediction5</th>\n",
       "    </tr>\n",
       "  </thead>\n",
       "  <tbody>\n",
       "    <tr>\n",
       "      <th>0</th>\n",
       "      <td>39835</td>\n",
       "      <td>('black coffee barbecue sauce', 5)</td>\n",
       "      <td>('stuffed acorn squash', 5)</td>\n",
       "      <td>('texas style picante sauce', 5)</td>\n",
       "      <td>('gehaktballen  dutch meatballs', 5)</td>\n",
       "      <td>('low fat thai steak salad', 5)</td>\n",
       "    </tr>\n",
       "    <tr>\n",
       "      <th>1</th>\n",
       "      <td>157425</td>\n",
       "      <td>('black bean  corn  and tomato salad', 5)</td>\n",
       "      <td>('black coffee barbecue sauce', 5)</td>\n",
       "      <td>('chicken and pineapple salad with curry mayon...</td>\n",
       "      <td>('appetizers easy stuffed mushrooms', 5)</td>\n",
       "      <td>('chicken fried steak with cracked pepper grav...</td>\n",
       "    </tr>\n",
       "  </tbody>\n",
       "</table>\n",
       "</div>"
      ],
      "text/plain": [
       "   user_id                                prediction1  \\\n",
       "0    39835         ('black coffee barbecue sauce', 5)   \n",
       "1   157425  ('black bean  corn  and tomato salad', 5)   \n",
       "\n",
       "                          prediction2  \\\n",
       "0         ('stuffed acorn squash', 5)   \n",
       "1  ('black coffee barbecue sauce', 5)   \n",
       "\n",
       "                                         prediction3  \\\n",
       "0                   ('texas style picante sauce', 5)   \n",
       "1  ('chicken and pineapple salad with curry mayon...   \n",
       "\n",
       "                                prediction4  \\\n",
       "0      ('gehaktballen  dutch meatballs', 5)   \n",
       "1  ('appetizers easy stuffed mushrooms', 5)   \n",
       "\n",
       "                                         prediction5  \n",
       "0                    ('low fat thai steak salad', 5)  \n",
       "1  ('chicken fried steak with cracked pepper grav...  "
      ]
     },
     "execution_count": 183,
     "metadata": {},
     "output_type": "execute_result"
    }
   ],
   "source": [
    "cf_recipes_for_user.head(2)"
   ]
  },
  {
   "cell_type": "markdown",
   "id": "f63ffdfb",
   "metadata": {},
   "source": [
    "As we can see for all our test user, we have a rating of 5 for each recommended recipe. This was to be expected as the rating data we have was terribly skewed. In this sense, we decided to do a novel recommendation approach based on content recommendations as below."
   ]
  },
  {
   "cell_type": "markdown",
   "id": "e2d95465",
   "metadata": {},
   "source": [
    "As an experiment, let's try for our 37 test users, recommend the first set of 5 items based on the CF approach. Afterwards, for each such 5 items, recommend similar 3 more items based on content based recommendations. In this sense, for each user we will be able to give 15 recommendations"
   ]
  },
  {
   "cell_type": "code",
   "execution_count": 184,
   "id": "3fad5914",
   "metadata": {},
   "outputs": [],
   "source": [
    "cf_recipe_ids_for_user = pd.read_csv('cf_recommendations_recipe_ids.csv')"
   ]
  },
  {
   "cell_type": "code",
   "execution_count": 185,
   "id": "90974a81",
   "metadata": {},
   "outputs": [
    {
     "data": {
      "text/html": [
       "<div>\n",
       "<style scoped>\n",
       "    .dataframe tbody tr th:only-of-type {\n",
       "        vertical-align: middle;\n",
       "    }\n",
       "\n",
       "    .dataframe tbody tr th {\n",
       "        vertical-align: top;\n",
       "    }\n",
       "\n",
       "    .dataframe thead th {\n",
       "        text-align: right;\n",
       "    }\n",
       "</style>\n",
       "<table border=\"1\" class=\"dataframe\">\n",
       "  <thead>\n",
       "    <tr style=\"text-align: right;\">\n",
       "      <th></th>\n",
       "      <th>user_id</th>\n",
       "      <th>prediction1</th>\n",
       "      <th>prediction2</th>\n",
       "      <th>prediction3</th>\n",
       "      <th>prediction4</th>\n",
       "      <th>prediction5</th>\n",
       "    </tr>\n",
       "  </thead>\n",
       "  <tbody>\n",
       "    <tr>\n",
       "      <th>0</th>\n",
       "      <td>39835</td>\n",
       "      <td>66</td>\n",
       "      <td>324</td>\n",
       "      <td>1183</td>\n",
       "      <td>1581</td>\n",
       "      <td>4410</td>\n",
       "    </tr>\n",
       "    <tr>\n",
       "      <th>1</th>\n",
       "      <td>157425</td>\n",
       "      <td>62</td>\n",
       "      <td>66</td>\n",
       "      <td>139</td>\n",
       "      <td>167</td>\n",
       "      <td>187</td>\n",
       "    </tr>\n",
       "    <tr>\n",
       "      <th>2</th>\n",
       "      <td>107135</td>\n",
       "      <td>59</td>\n",
       "      <td>62</td>\n",
       "      <td>63</td>\n",
       "      <td>66</td>\n",
       "      <td>84</td>\n",
       "    </tr>\n",
       "    <tr>\n",
       "      <th>3</th>\n",
       "      <td>222564</td>\n",
       "      <td>66</td>\n",
       "      <td>191</td>\n",
       "      <td>192</td>\n",
       "      <td>210</td>\n",
       "      <td>414</td>\n",
       "    </tr>\n",
       "    <tr>\n",
       "      <th>4</th>\n",
       "      <td>280271</td>\n",
       "      <td>59</td>\n",
       "      <td>66</td>\n",
       "      <td>301</td>\n",
       "      <td>327</td>\n",
       "      <td>414</td>\n",
       "    </tr>\n",
       "  </tbody>\n",
       "</table>\n",
       "</div>"
      ],
      "text/plain": [
       "   user_id  prediction1  prediction2  prediction3  prediction4  prediction5\n",
       "0    39835           66          324         1183         1581         4410\n",
       "1   157425           62           66          139          167          187\n",
       "2   107135           59           62           63           66           84\n",
       "3   222564           66          191          192          210          414\n",
       "4   280271           59           66          301          327          414"
      ]
     },
     "execution_count": 185,
     "metadata": {},
     "output_type": "execute_result"
    }
   ],
   "source": [
    "cf_recipe_ids_for_user.head()"
   ]
  },
  {
   "cell_type": "code",
   "execution_count": 186,
   "id": "28cc1cbc",
   "metadata": {},
   "outputs": [
    {
     "data": {
      "text/html": [
       "<div>\n",
       "<style scoped>\n",
       "    .dataframe tbody tr th:only-of-type {\n",
       "        vertical-align: middle;\n",
       "    }\n",
       "\n",
       "    .dataframe tbody tr th {\n",
       "        vertical-align: top;\n",
       "    }\n",
       "\n",
       "    .dataframe thead th {\n",
       "        text-align: right;\n",
       "    }\n",
       "</style>\n",
       "<table border=\"1\" class=\"dataframe\">\n",
       "  <thead>\n",
       "    <tr style=\"text-align: right;\">\n",
       "      <th></th>\n",
       "      <th>name</th>\n",
       "      <th>description</th>\n",
       "      <th>ingredients</th>\n",
       "      <th>n_ingredients</th>\n",
       "      <th>rating_mean</th>\n",
       "      <th>user_id_nunique</th>\n",
       "    </tr>\n",
       "    <tr>\n",
       "      <th>id</th>\n",
       "      <th></th>\n",
       "      <th></th>\n",
       "      <th></th>\n",
       "      <th></th>\n",
       "      <th></th>\n",
       "      <th></th>\n",
       "    </tr>\n",
       "  </thead>\n",
       "  <tbody>\n",
       "    <tr>\n",
       "      <th>137739</th>\n",
       "      <td>arriba   baked winter squash mexican style</td>\n",
       "      <td>autumn is my favorite time of year to cook! th...</td>\n",
       "      <td>winter squash, mexican seasoning, mixed spice,...</td>\n",
       "      <td>7</td>\n",
       "      <td>5.000000</td>\n",
       "      <td>3</td>\n",
       "    </tr>\n",
       "    <tr>\n",
       "      <th>31490</th>\n",
       "      <td>a bit different  breakfast pizza</td>\n",
       "      <td>this recipe calls for the crust to be prebaked...</td>\n",
       "      <td>prepared pizza crust, sausage patty, eggs, mil...</td>\n",
       "      <td>6</td>\n",
       "      <td>3.500000</td>\n",
       "      <td>4</td>\n",
       "    </tr>\n",
       "    <tr>\n",
       "      <th>75452</th>\n",
       "      <td>beat this  banana bread</td>\n",
       "      <td>from ann hodgman's</td>\n",
       "      <td>sugar, unsalted butter, bananas, eggs, fresh l...</td>\n",
       "      <td>9</td>\n",
       "      <td>4.400000</td>\n",
       "      <td>5</td>\n",
       "    </tr>\n",
       "    <tr>\n",
       "      <th>42198</th>\n",
       "      <td>better than sex  strawberries</td>\n",
       "      <td>simple but sexy. this was in my local newspape...</td>\n",
       "      <td>vanilla wafers, butter, powdered sugar, eggs, ...</td>\n",
       "      <td>7</td>\n",
       "      <td>3.800000</td>\n",
       "      <td>5</td>\n",
       "    </tr>\n",
       "    <tr>\n",
       "      <th>67547</th>\n",
       "      <td>better then bush s  baked beans</td>\n",
       "      <td>i'd have to say that this is a labor of love d...</td>\n",
       "      <td>great northern bean, chicken bouillon cubes, d...</td>\n",
       "      <td>13</td>\n",
       "      <td>3.900000</td>\n",
       "      <td>10</td>\n",
       "    </tr>\n",
       "    <tr>\n",
       "      <th>...</th>\n",
       "      <td>...</td>\n",
       "      <td>...</td>\n",
       "      <td>...</td>\n",
       "      <td>...</td>\n",
       "      <td>...</td>\n",
       "      <td>...</td>\n",
       "    </tr>\n",
       "    <tr>\n",
       "      <th>410985</th>\n",
       "      <td>zwiebelwhe  swiss onion tart</td>\n",
       "      <td>a delicious bacon-studded tart.</td>\n",
       "      <td>flour, baking powder, kosher salt, unsalted bu...</td>\n",
       "      <td>13</td>\n",
       "      <td>1.666667</td>\n",
       "      <td>3</td>\n",
       "    </tr>\n",
       "    <tr>\n",
       "      <th>367912</th>\n",
       "      <td>zydeco salad</td>\n",
       "      <td>recipe courtesy of b&amp;c seafood, vacherie, la a...</td>\n",
       "      <td>iceberg lettuce, tomatoes, 3 bean mix, olive s...</td>\n",
       "      <td>4</td>\n",
       "      <td>5.000000</td>\n",
       "      <td>3</td>\n",
       "    </tr>\n",
       "    <tr>\n",
       "      <th>486161</th>\n",
       "      <td>zydeco soup</td>\n",
       "      <td>this is a delicious soup that i originally fou...</td>\n",
       "      <td>celery, onion, green sweet pepper, garlic clov...</td>\n",
       "      <td>22</td>\n",
       "      <td>5.000000</td>\n",
       "      <td>6</td>\n",
       "    </tr>\n",
       "    <tr>\n",
       "      <th>308080</th>\n",
       "      <td>zydeco ya ya deviled eggs</td>\n",
       "      <td>deviled eggs, cajun-style</td>\n",
       "      <td>hard-cooked eggs, mayonnaise, dijon mustard, s...</td>\n",
       "      <td>8</td>\n",
       "      <td>5.000000</td>\n",
       "      <td>5</td>\n",
       "    </tr>\n",
       "    <tr>\n",
       "      <th>298509</th>\n",
       "      <td>cookies by design   sugar shortbread cookies</td>\n",
       "      <td>i've heard of the 'cookies by design' company,...</td>\n",
       "      <td>granulated sugar, shortening, eggs, flour, cre...</td>\n",
       "      <td>7</td>\n",
       "      <td>2.000000</td>\n",
       "      <td>3</td>\n",
       "    </tr>\n",
       "  </tbody>\n",
       "</table>\n",
       "<p>94564 rows × 6 columns</p>\n",
       "</div>"
      ],
      "text/plain": [
       "                                                name  \\\n",
       "id                                                     \n",
       "137739    arriba   baked winter squash mexican style   \n",
       "31490               a bit different  breakfast pizza   \n",
       "75452                        beat this  banana bread   \n",
       "42198                  better than sex  strawberries   \n",
       "67547                better then bush s  baked beans   \n",
       "...                                              ...   \n",
       "410985                  zwiebelwhe  swiss onion tart   \n",
       "367912                                  zydeco salad   \n",
       "486161                                   zydeco soup   \n",
       "308080                     zydeco ya ya deviled eggs   \n",
       "298509  cookies by design   sugar shortbread cookies   \n",
       "\n",
       "                                              description  \\\n",
       "id                                                          \n",
       "137739  autumn is my favorite time of year to cook! th...   \n",
       "31490   this recipe calls for the crust to be prebaked...   \n",
       "75452                                 from ann hodgman's    \n",
       "42198   simple but sexy. this was in my local newspape...   \n",
       "67547   i'd have to say that this is a labor of love d...   \n",
       "...                                                   ...   \n",
       "410985                    a delicious bacon-studded tart.   \n",
       "367912  recipe courtesy of b&c seafood, vacherie, la a...   \n",
       "486161  this is a delicious soup that i originally fou...   \n",
       "308080                          deviled eggs, cajun-style   \n",
       "298509  i've heard of the 'cookies by design' company,...   \n",
       "\n",
       "                                              ingredients  n_ingredients  \\\n",
       "id                                                                         \n",
       "137739  winter squash, mexican seasoning, mixed spice,...              7   \n",
       "31490   prepared pizza crust, sausage patty, eggs, mil...              6   \n",
       "75452   sugar, unsalted butter, bananas, eggs, fresh l...              9   \n",
       "42198   vanilla wafers, butter, powdered sugar, eggs, ...              7   \n",
       "67547   great northern bean, chicken bouillon cubes, d...             13   \n",
       "...                                                   ...            ...   \n",
       "410985  flour, baking powder, kosher salt, unsalted bu...             13   \n",
       "367912  iceberg lettuce, tomatoes, 3 bean mix, olive s...              4   \n",
       "486161  celery, onion, green sweet pepper, garlic clov...             22   \n",
       "308080  hard-cooked eggs, mayonnaise, dijon mustard, s...              8   \n",
       "298509  granulated sugar, shortening, eggs, flour, cre...              7   \n",
       "\n",
       "        rating_mean  user_id_nunique  \n",
       "id                                    \n",
       "137739     5.000000                3  \n",
       "31490      3.500000                4  \n",
       "75452      4.400000                5  \n",
       "42198      3.800000                5  \n",
       "67547      3.900000               10  \n",
       "...             ...              ...  \n",
       "410985     1.666667                3  \n",
       "367912     5.000000                3  \n",
       "486161     5.000000                6  \n",
       "308080     5.000000                5  \n",
       "298509     2.000000                3  \n",
       "\n",
       "[94564 rows x 6 columns]"
      ]
     },
     "execution_count": 186,
     "metadata": {},
     "output_type": "execute_result"
    }
   ],
   "source": [
    "recipes.set_index('id')"
   ]
  },
  {
   "cell_type": "code",
   "execution_count": 187,
   "id": "5db3d7c0",
   "metadata": {},
   "outputs": [],
   "source": [
    "# Create a dictionary mapping index to recipe_id\n",
    "index_to_recipe_id = dict(zip(recipes.id, recipes.index))"
   ]
  },
  {
   "cell_type": "code",
   "execution_count": 188,
   "id": "3320dae8",
   "metadata": {},
   "outputs": [
    {
     "data": {
      "text/plain": [
       "10350"
      ]
     },
     "execution_count": 188,
     "metadata": {},
     "output_type": "execute_result"
    }
   ],
   "source": [
    "index_to_recipe_id[66]"
   ]
  },
  {
   "cell_type": "code",
   "execution_count": 189,
   "id": "089773b1",
   "metadata": {},
   "outputs": [
    {
     "data": {
      "text/plain": [
       "82531"
      ]
     },
     "execution_count": 189,
     "metadata": {},
     "output_type": "execute_result"
    }
   ],
   "source": [
    "index_to_recipe_id[324]"
   ]
  },
  {
   "cell_type": "code",
   "execution_count": 208,
   "id": "f90eacd5",
   "metadata": {},
   "outputs": [],
   "source": [
    "def faiss_similarity_search(k, recipe_id,dense_tfidf_matrix, faiss_index,recipes): \n",
    "    query_vec = dense_tfidf_matrix[index_to_recipe_id[recipe_id]]  \n",
    "    distances, indices = faiss_index.search(query_vec.reshape(1, -1), k)\n",
    "    #print(indices[0].shape)\n",
    "    #print(type(indices[0]))\n",
    "    values = recipes.iloc[indices[0]]['name'].tolist()\n",
    "    #print(values)\n",
    "    return values"
   ]
  },
  {
   "cell_type": "code",
   "execution_count": 209,
   "id": "4a8e7ea1",
   "metadata": {},
   "outputs": [
    {
     "data": {
      "text/plain": [
       "['stuffed acorn squash',\n",
       " 'baked acorn squash   brown sugar',\n",
       " 'acorn squash microwave baked',\n",
       " 'acorn squash a la kree',\n",
       " 'microwave acorn squash']"
      ]
     },
     "execution_count": 209,
     "metadata": {},
     "output_type": "execute_result"
    }
   ],
   "source": [
    "faiss_similarity_search(5,324,dense_tfidf_matrix,faiss_index,recipes)"
   ]
  },
  {
   "cell_type": "code",
   "execution_count": 210,
   "id": "db2525f5",
   "metadata": {},
   "outputs": [
    {
     "data": {
      "text/plain": [
       "['gehaktballen  dutch meatballs',\n",
       " 'the easiest asian pork dinner',\n",
       " 'dutch slavinken   1',\n",
       " 'sweet soy mushrooms on toast',\n",
       " 'sate  babi  or ayam']"
      ]
     },
     "execution_count": 210,
     "metadata": {},
     "output_type": "execute_result"
    }
   ],
   "source": [
    "faiss_similarity_search(5,1581,dense_tfidf_matrix,faiss_index,recipes)"
   ]
  },
  {
   "cell_type": "code",
   "execution_count": 211,
   "id": "a3ef4393",
   "metadata": {},
   "outputs": [
    {
     "data": {
      "text/plain": [
       "['low fat thai steak salad',\n",
       " 'beef lok lak  cambodian recipe',\n",
       " 'easy thai beef salad',\n",
       " 'beef tips and rice',\n",
       " 'prize winning marinade for beef']"
      ]
     },
     "execution_count": 211,
     "metadata": {},
     "output_type": "execute_result"
    }
   ],
   "source": [
    "#4410\n",
    "faiss_similarity_search(5,4410,dense_tfidf_matrix,faiss_index,recipes)"
   ]
  },
  {
   "cell_type": "code",
   "execution_count": 212,
   "id": "b409bef4",
   "metadata": {},
   "outputs": [
    {
     "name": "stdout",
     "output_type": "stream",
     "text": [
      "[66, 324, 1183, 1581, 4410]\n",
      "[62, 66, 139, 167, 187]\n",
      "[59, 62, 63, 66, 84]\n",
      "[66, 191, 192, 210, 414]\n",
      "[59, 66, 301, 327, 414]\n",
      "[63, 66, 139, 187, 191]\n",
      "[59, 63, 66, 84, 94]\n",
      "[59, 62, 63, 66, 84]\n",
      "[66, 84, 91, 139, 186]\n",
      "[62, 66, 84, 93, 114]\n",
      "[59, 63, 66, 84, 91]\n",
      "[66, 185, 192, 238, 271]\n",
      "[25094, 39087, 25610, 77891, 62878]\n",
      "[59, 62, 63, 66, 84]\n",
      "[59, 63, 66, 94, 135]\n",
      "[167, 191, 261, 342, 517]\n",
      "[94, 150, 203, 210, 310]\n",
      "[84, 139, 187, 261, 310]\n",
      "[66, 92, 139, 185, 192]\n",
      "[59, 66, 210, 261, 271]\n",
      "[62, 63, 66, 92, 93]\n",
      "[59, 63, 66, 91, 92]\n",
      "[4065, 10840, 12436, 27520, 32614]\n",
      "[59, 66, 114, 139, 191]\n",
      "[59, 63, 66, 92, 93]\n",
      "[66, 271, 324, 414, 558]\n",
      "[59, 62, 63, 66, 84]\n",
      "[139, 186, 215, 243, 301]\n",
      "[59, 66, 142, 187, 192]\n",
      "[749, 1035, 4004, 4047, 4065]\n",
      "[62, 63, 66, 92, 94]\n",
      "[59, 210, 414, 436, 601]\n",
      "[66, 84, 91, 114, 139]\n",
      "[84, 246, 730, 2111, 2474]\n",
      "[59, 63, 66, 84, 91]\n",
      "[59, 62, 63, 66, 84]\n",
      "[2267, 2496, 2940, 4410, 4460]\n"
     ]
    }
   ],
   "source": [
    "for index, row in cf_recipe_ids_for_user.iterrows():\n",
    "    user_id = row['user_id']\n",
    "    predictions = row[['prediction1', 'prediction2', 'prediction3', 'prediction4', 'prediction5']].tolist()\n",
    "    print(predictions)"
   ]
  },
  {
   "cell_type": "markdown",
   "id": "58708ff3",
   "metadata": {},
   "source": [
    "## Bringing everything together"
   ]
  },
  {
   "cell_type": "code",
   "execution_count": 223,
   "id": "22dea7e0",
   "metadata": {},
   "outputs": [
    {
     "name": "stdout",
     "output_type": "stream",
     "text": [
      "['coffee bbq  grilling sauce', 'soy sauce substitute with very low sodium', 'barbecued ribs']\n",
      "['broiled zucchini with herbs', 'pinto bean  fresh corn and tomato salad', 'garlic and thyme green beans']\n",
      "['party bruschetta', 'pesto hots', 'easy spicy parmesan toasts']\n",
      "['coffee bbq  grilling sauce', 'soy sauce substitute with very low sodium', 'barbecued ribs']\n",
      "['party bruschetta', 'pesto hots', 'easy spicy parmesan toasts']\n",
      "['italian gravy w  chicken and sausage', 'broccoli rabe with sun dried tomatoes', 'lentils with sun dried tomatoes and feta']\n",
      "['party bruschetta', 'pesto hots', 'easy spicy parmesan toasts']\n",
      "['party bruschetta', 'pesto hots', 'easy spicy parmesan toasts']\n",
      "['coffee bbq  grilling sauce', 'soy sauce substitute with very low sodium', 'barbecued ribs']\n",
      "['broiled zucchini with herbs', 'pinto bean  fresh corn and tomato salad', 'garlic and thyme green beans']\n",
      "['party bruschetta', 'pesto hots', 'easy spicy parmesan toasts']\n",
      "['coffee bbq  grilling sauce', 'soy sauce substitute with very low sodium', 'barbecued ribs']\n",
      "['20 minute chicken parmesan', 'skillet chicken parmigiana', 'chicken parmesan express']\n",
      "['party bruschetta', 'pesto hots', 'easy spicy parmesan toasts']\n",
      "['party bruschetta', 'pesto hots', 'easy spicy parmesan toasts']\n",
      "['mushrooms for steak', 'easy sauted mushrooms', 'fried mushrooms in sour cream  paistetut sienet']\n",
      "['warm blueberry cobbler', 'cranberry pecan tarts', 'dad s butter tarts']\n",
      "['roasted brussels sprouts with dill', 'basic garlic butter brussels sprouts', 'caramelized brussels sprouts']\n",
      "['coffee bbq  grilling sauce', 'soy sauce substitute with very low sodium', 'barbecued ribs']\n",
      "['party bruschetta', 'pesto hots', 'easy spicy parmesan toasts']\n",
      "['broiled zucchini with herbs', 'pinto bean  fresh corn and tomato salad', 'garlic and thyme green beans']\n",
      "['party bruschetta', 'pesto hots', 'easy spicy parmesan toasts']\n",
      "['barbara bush s oatmeal chip cookies', 'peanut butter oatmeal chocolate chip cookies', 'chewy chocolate chip oatmeal cookies']\n",
      "['party bruschetta', 'pesto hots', 'easy spicy parmesan toasts']\n",
      "['party bruschetta', 'pesto hots', 'easy spicy parmesan toasts']\n",
      "['coffee bbq  grilling sauce', 'soy sauce substitute with very low sodium', 'barbecued ribs']\n",
      "['party bruschetta', 'pesto hots', 'easy spicy parmesan toasts']\n",
      "['pineapple coconut juice', 'the ultimate coconut scones', 'pineapple   coconut muffins']\n",
      "['party bruschetta', 'pesto hots', 'easy spicy parmesan toasts']\n",
      "['easy zucchini lasagna', 'lasagna with zucchini noodles', 'all purpose quick spaghetti sauce']\n",
      "['broiled zucchini with herbs', 'pinto bean  fresh corn and tomato salad', 'garlic and thyme green beans']\n",
      "['party bruschetta', 'pesto hots', 'easy spicy parmesan toasts']\n",
      "['coffee bbq  grilling sauce', 'soy sauce substitute with very low sodium', 'barbecued ribs']\n",
      "['roasted brussels sprouts with dill', 'basic garlic butter brussels sprouts', 'caramelized brussels sprouts']\n",
      "['party bruschetta', 'pesto hots', 'easy spicy parmesan toasts']\n",
      "['party bruschetta', 'pesto hots', 'easy spicy parmesan toasts']\n",
      "['no bake peanut butter bars', 'incredibles', 'reese s cup candy']\n"
     ]
    }
   ],
   "source": [
    "with open('related_recipes.csv', 'w', newline='') as file:\n",
    "    fieldnames = ['user_id', 'recipe1', 'relatedRecipes1', 'recipe2', 'relatedRecipes2', 'recipe3', 'relatedRecipes3', 'recipe4', 'relatedRecipes4', 'recipe5', 'relatedRecipes5']\n",
    "    writer = csv.DictWriter(file, fieldnames=fieldnames)\n",
    "    writer.writeheader()\n",
    "    for index, row in cf_recipe_ids_for_user.iterrows():\n",
    "        user_id = row['user_id']\n",
    "        predictions = row[['prediction1', 'prediction2', 'prediction3', 'prediction4', 'prediction5']].tolist()\n",
    "        recipe_list = []\n",
    "        for i in range(len(predictions)):            \n",
    "            #print(predictions[i])\n",
    "            related_recipes = faiss_similarity_search(4,predictions[i],dense_tfidf_matrix,faiss_index,recipes)\n",
    "            #print(related_recipes)\n",
    "            recipe_list.append(related_recipes)\n",
    "        #print(recipe_list)\n",
    "        print(recipe_list[0][1:])\n",
    "        writer.writerow({'user_id': user_id,\n",
    "                         'recipe1': recipe_list[0][0],\n",
    "                         'relatedRecipes1': recipe_list[0][1:],\n",
    "                         'recipe2': recipe_list[1][0],\n",
    "                         'relatedRecipes2': recipe_list[1][1:],\n",
    "                         'recipe3': recipe_list[2][0],\n",
    "                         'relatedRecipes3': recipe_list[2][1:],\n",
    "                         'recipe4': recipe_list[3][0],\n",
    "                         'relatedRecipes4': recipe_list[3][1:],\n",
    "                         'recipe5': recipe_list[4][0],\n",
    "                         'relatedRecipes5': recipe_list[4][1:],\n",
    "                        })\n",
    "        \n",
    "        \n",
    "            \n",
    "        "
   ]
  },
  {
   "cell_type": "code",
   "execution_count": 224,
   "id": "2835cc10",
   "metadata": {},
   "outputs": [],
   "source": [
    "recommendation = pd.read_csv('related_recipes.csv')"
   ]
  },
  {
   "cell_type": "code",
   "execution_count": 225,
   "id": "ff1ef0e9",
   "metadata": {},
   "outputs": [
    {
     "data": {
      "text/html": [
       "<div>\n",
       "<style scoped>\n",
       "    .dataframe tbody tr th:only-of-type {\n",
       "        vertical-align: middle;\n",
       "    }\n",
       "\n",
       "    .dataframe tbody tr th {\n",
       "        vertical-align: top;\n",
       "    }\n",
       "\n",
       "    .dataframe thead th {\n",
       "        text-align: right;\n",
       "    }\n",
       "</style>\n",
       "<table border=\"1\" class=\"dataframe\">\n",
       "  <thead>\n",
       "    <tr style=\"text-align: right;\">\n",
       "      <th></th>\n",
       "      <th>user_id</th>\n",
       "      <th>recipe1</th>\n",
       "      <th>relatedRecipes1</th>\n",
       "      <th>recipe2</th>\n",
       "      <th>relatedRecipes2</th>\n",
       "      <th>recipe3</th>\n",
       "      <th>relatedRecipes3</th>\n",
       "      <th>recipe4</th>\n",
       "      <th>relatedRecipes4</th>\n",
       "      <th>recipe5</th>\n",
       "      <th>relatedRecipes5</th>\n",
       "    </tr>\n",
       "  </thead>\n",
       "  <tbody>\n",
       "    <tr>\n",
       "      <th>0</th>\n",
       "      <td>39835</td>\n",
       "      <td>black coffee barbecue sauce</td>\n",
       "      <td>['coffee bbq  grilling sauce', 'soy sauce subs...</td>\n",
       "      <td>stuffed acorn squash</td>\n",
       "      <td>['baked acorn squash   brown sugar', 'acorn sq...</td>\n",
       "      <td>texas style picante sauce</td>\n",
       "      <td>['canned basic salsa', 'big batch salsa  for c...</td>\n",
       "      <td>gehaktballen  dutch meatballs</td>\n",
       "      <td>['the easiest asian pork dinner', 'dutch slavi...</td>\n",
       "      <td>low fat thai steak salad</td>\n",
       "      <td>['beef lok lak  cambodian recipe', 'easy thai ...</td>\n",
       "    </tr>\n",
       "    <tr>\n",
       "      <th>1</th>\n",
       "      <td>157425</td>\n",
       "      <td>black bean  corn  and tomato salad</td>\n",
       "      <td>['broiled zucchini with herbs', 'pinto bean  f...</td>\n",
       "      <td>black coffee barbecue sauce</td>\n",
       "      <td>['coffee bbq  grilling sauce', 'soy sauce subs...</td>\n",
       "      <td>chicken and pineapple salad with curry mayonnaise</td>\n",
       "      <td>['pineapple coconut juice', 'the ultimate coco...</td>\n",
       "      <td>appetizers easy stuffed mushrooms</td>\n",
       "      <td>['mushrooms for steak', 'easy sauted mushrooms...</td>\n",
       "      <td>chicken fried steak with cracked pepper gravy</td>\n",
       "      <td>['baked southern fried round steak', 'round st...</td>\n",
       "    </tr>\n",
       "    <tr>\n",
       "      <th>2</th>\n",
       "      <td>107135</td>\n",
       "      <td>lou s fabulous bruschetta</td>\n",
       "      <td>['party bruschetta', 'pesto hots', 'easy spicy...</td>\n",
       "      <td>black bean  corn  and tomato salad</td>\n",
       "      <td>['broiled zucchini with herbs', 'pinto bean  f...</td>\n",
       "      <td>cabbage and sausage soup</td>\n",
       "      <td>['italian gravy w  chicken and sausage', 'broc...</td>\n",
       "      <td>black coffee barbecue sauce</td>\n",
       "      <td>['coffee bbq  grilling sauce', 'soy sauce subs...</td>\n",
       "      <td>braised brussels sprouts with vinegar and dill</td>\n",
       "      <td>['roasted brussels sprouts with dill', 'basic ...</td>\n",
       "    </tr>\n",
       "    <tr>\n",
       "      <th>3</th>\n",
       "      <td>222564</td>\n",
       "      <td>black coffee barbecue sauce</td>\n",
       "      <td>['coffee bbq  grilling sauce', 'soy sauce subs...</td>\n",
       "      <td>chilies corn muffins</td>\n",
       "      <td>['cornmeal blender waffles', 'corn bread', 'co...</td>\n",
       "      <td>classic cream scones</td>\n",
       "      <td>['classic tea time cream scones', 'scones', 'e...</td>\n",
       "      <td>christmas snow punch</td>\n",
       "      <td>['fresh lime', 'the party punch', 'wet panther']</td>\n",
       "      <td>moussaka</td>\n",
       "      <td>['eggplant   aubergine  sauce for pasta', 'egg...</td>\n",
       "    </tr>\n",
       "    <tr>\n",
       "      <th>4</th>\n",
       "      <td>280271</td>\n",
       "      <td>lou s fabulous bruschetta</td>\n",
       "      <td>['party bruschetta', 'pesto hots', 'easy spicy...</td>\n",
       "      <td>black coffee barbecue sauce</td>\n",
       "      <td>['coffee bbq  grilling sauce', 'soy sauce subs...</td>\n",
       "      <td>rote grtze</td>\n",
       "      <td>['pie filling from frozen sweet cherries', 'st...</td>\n",
       "      <td>chicken caesar wraps</td>\n",
       "      <td>['tomato and basil salad', 'grilled basil and ...</td>\n",
       "      <td>moussaka</td>\n",
       "      <td>['eggplant   aubergine  sauce for pasta', 'egg...</td>\n",
       "    </tr>\n",
       "  </tbody>\n",
       "</table>\n",
       "</div>"
      ],
      "text/plain": [
       "   user_id                             recipe1  \\\n",
       "0    39835         black coffee barbecue sauce   \n",
       "1   157425  black bean  corn  and tomato salad   \n",
       "2   107135           lou s fabulous bruschetta   \n",
       "3   222564         black coffee barbecue sauce   \n",
       "4   280271           lou s fabulous bruschetta   \n",
       "\n",
       "                                     relatedRecipes1  \\\n",
       "0  ['coffee bbq  grilling sauce', 'soy sauce subs...   \n",
       "1  ['broiled zucchini with herbs', 'pinto bean  f...   \n",
       "2  ['party bruschetta', 'pesto hots', 'easy spicy...   \n",
       "3  ['coffee bbq  grilling sauce', 'soy sauce subs...   \n",
       "4  ['party bruschetta', 'pesto hots', 'easy spicy...   \n",
       "\n",
       "                              recipe2  \\\n",
       "0                stuffed acorn squash   \n",
       "1         black coffee barbecue sauce   \n",
       "2  black bean  corn  and tomato salad   \n",
       "3                chilies corn muffins   \n",
       "4         black coffee barbecue sauce   \n",
       "\n",
       "                                     relatedRecipes2  \\\n",
       "0  ['baked acorn squash   brown sugar', 'acorn sq...   \n",
       "1  ['coffee bbq  grilling sauce', 'soy sauce subs...   \n",
       "2  ['broiled zucchini with herbs', 'pinto bean  f...   \n",
       "3  ['cornmeal blender waffles', 'corn bread', 'co...   \n",
       "4  ['coffee bbq  grilling sauce', 'soy sauce subs...   \n",
       "\n",
       "                                             recipe3  \\\n",
       "0                          texas style picante sauce   \n",
       "1  chicken and pineapple salad with curry mayonnaise   \n",
       "2                           cabbage and sausage soup   \n",
       "3                               classic cream scones   \n",
       "4                                         rote grtze   \n",
       "\n",
       "                                     relatedRecipes3  \\\n",
       "0  ['canned basic salsa', 'big batch salsa  for c...   \n",
       "1  ['pineapple coconut juice', 'the ultimate coco...   \n",
       "2  ['italian gravy w  chicken and sausage', 'broc...   \n",
       "3  ['classic tea time cream scones', 'scones', 'e...   \n",
       "4  ['pie filling from frozen sweet cherries', 'st...   \n",
       "\n",
       "                             recipe4  \\\n",
       "0      gehaktballen  dutch meatballs   \n",
       "1  appetizers easy stuffed mushrooms   \n",
       "2        black coffee barbecue sauce   \n",
       "3               christmas snow punch   \n",
       "4               chicken caesar wraps   \n",
       "\n",
       "                                     relatedRecipes4  \\\n",
       "0  ['the easiest asian pork dinner', 'dutch slavi...   \n",
       "1  ['mushrooms for steak', 'easy sauted mushrooms...   \n",
       "2  ['coffee bbq  grilling sauce', 'soy sauce subs...   \n",
       "3   ['fresh lime', 'the party punch', 'wet panther']   \n",
       "4  ['tomato and basil salad', 'grilled basil and ...   \n",
       "\n",
       "                                          recipe5  \\\n",
       "0                        low fat thai steak salad   \n",
       "1   chicken fried steak with cracked pepper gravy   \n",
       "2  braised brussels sprouts with vinegar and dill   \n",
       "3                                        moussaka   \n",
       "4                                        moussaka   \n",
       "\n",
       "                                     relatedRecipes5  \n",
       "0  ['beef lok lak  cambodian recipe', 'easy thai ...  \n",
       "1  ['baked southern fried round steak', 'round st...  \n",
       "2  ['roasted brussels sprouts with dill', 'basic ...  \n",
       "3  ['eggplant   aubergine  sauce for pasta', 'egg...  \n",
       "4  ['eggplant   aubergine  sauce for pasta', 'egg...  "
      ]
     },
     "execution_count": 225,
     "metadata": {},
     "output_type": "execute_result"
    }
   ],
   "source": [
    "recommendation.head()"
   ]
  },
  {
   "cell_type": "markdown",
   "id": "8d854636",
   "metadata": {},
   "source": [
    "The related_recipes.csv file has recipe recommendations for 37 users who have rated between 1000 and 1500 unique recipes. It recommends for each user five recipes based on SVD based Matrix Factorization Collaborative Filtering. Thereafter, for each such recipes, 3 more recipes ar"
   ]
  }
 ],
 "metadata": {
  "kernelspec": {
   "display_name": "Python 3 (ipykernel)",
   "language": "python",
   "name": "python3"
  },
  "language_info": {
   "codemirror_mode": {
    "name": "ipython",
    "version": 3
   },
   "file_extension": ".py",
   "mimetype": "text/x-python",
   "name": "python",
   "nbconvert_exporter": "python",
   "pygments_lexer": "ipython3",
   "version": "3.10.6"
  }
 },
 "nbformat": 4,
 "nbformat_minor": 5
}
